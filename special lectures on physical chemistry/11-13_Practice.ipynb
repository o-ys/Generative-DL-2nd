{
 "cells": [
  {
   "cell_type": "code",
   "execution_count": 56,
   "id": "2dc91ae2-fb3b-45bf-85ff-de032a5b1a63",
   "metadata": {},
   "outputs": [],
   "source": []
  },
  {
   "cell_type": "markdown",
   "id": "eede78c4-fbb9-4747-9c41-49dbb7f55bdb",
   "metadata": {
    "tags": []
   },
   "source": [
    "# <span style=\"color:blue\">11주차(1) Descriptor</span>"
   ]
  },
  {
   "cell_type": "markdown",
   "id": "13221f19-2d54-40f7-9cdb-2fe0a46f797c",
   "metadata": {},
   "source": [
    "* drugs.smi 파일에 있는 분자들의 성질을 계산하는 예제들~!"
   ]
  },
  {
   "cell_type": "code",
   "execution_count": 48,
   "id": "3881a8ef-d96e-41cb-969e-6067da75ea4b",
   "metadata": {
    "tags": []
   },
   "outputs": [],
   "source": [
    "molecules = []\n",
    "for smi in open('drugs.smi').readlines():     \n",
    "    m = Chem.MolFromSmiles(smi)\n",
    "    molecules.append(m)"
   ]
  },
  {
   "cell_type": "markdown",
   "id": "86a4bd2f-0106-4689-9e28-5fec4e977af8",
   "metadata": {},
   "source": [
    "#### ~rdkit.Chem.rdMolDescriptors.~CalcNumLipinskiHBA()\n",
    "#### a = CalcNumLipinskiHBA(m) / mol->int\n",
    "##### 분자의 Hydrogen-bond acceptor의 개수를 count.\n",
    "#### a = CalcNumLipinskiHBD(m) / mol->int\n",
    "##### 분자의 Hydrogen-bond donor의 개수를 count.\n",
    "#### a = CalcExactMolWt(m) / mol->int\n",
    "##### 분자의 분자량을 계산.\n",
    "#### a,b = CalcCrippenDescriptors(m) / mol-> tuple   *주의:리턴 값 2개\n",
    "##### logP 예측값 계산."
   ]
  },
  {
   "cell_type": "code",
   "execution_count": 49,
   "id": "4f5be11d-253a-49d2-a926-e8f604dd3d09",
   "metadata": {},
   "outputs": [],
   "source": [
    "hba_values = []\n",
    "for m in molecules:\n",
    "    hba = CalcNumLipinskiHBA(m)\n",
    "    hba_values.append(hba)"
   ]
  },
  {
   "cell_type": "code",
   "execution_count": 50,
   "id": "1d25ce14-5976-419c-bc84-904b25d878b4",
   "metadata": {
    "collapsed": true,
    "jupyter": {
     "outputs_hidden": true
    },
    "tags": []
   },
   "outputs": [
    {
     "name": "stdout",
     "output_type": "stream",
     "text": [
      "[4, 1, 27, 3, 2, 2, 4, 9, 10, 9, 6, 7, 4, 7, 12, 8, 6, 3, 7, 5, 7, 3, 4, 4, 5, 8, 4, 9, 11, 5, 3, 2, 3, 3, 5, 3, 5, 13, 3, 5, 3, 7, 9, 4, 4, 5, 5, 4, 3, 5, 6, 9, 1, 8, 4, 5, 2, 5, 7, 7, 6, 1, 9, 12, 6, 1, 2, 2, 3, 2, 2, 1, 2, 9, 12, 5, 5, 3, 6, 4, 8, 2, 4, 5, 6, 4, 5, 7, 9, 4, 5, 5, 4, 5, 3, 4, 4, 4, 11, 12, 7, 8, 1, 1, 1, 11, 10, 11, 4, 4, 5, 3, 5, 2, 2, 2, 2, 4, 4, 3, 1, 1, 2, 2, 6, 7, 3, 3, 6, 3, 4, 14, 7, 1, 5, 3, 10, 10, 4, 3, 7, 6, 5, 5, 3, 5, 4, 5, 5, 5, 7, 3, 5, 3, 7, 5, 3, 3, 2, 4, 10, 6, 4, 3, 6, 2, 3, 2, 6, 5, 6, 6, 2, 5, 2, 8, 7, 6, 9, 8, 9, 9, 6, 9, 6, 3, 8, 4, 4, 8, 6, 4, 3, 6, 6, 7, 6, 2, 4, 2, 3, 3, 8, 3, 5, 12, 3, 6, 1, 5, 5, 4, 3, 4, 5, 4, 2, 4, 9, 4, 11, 4, 5, 6, 5, 2, 7, 6, 6, 6, 5, 5, 2, 8, 3, 9, 10, 6, 10, 8, 5, 7, 4, 7, 7, 6, 5, 4, 2, 1, 6, 2, 6, 3, 3, 5, 1, 2, 6, 12, 7, 8, 6, 9, 5, 2, 7, 5, 5, 7, 12, 3, 5, 3, 5, 5, 4, 10, 3, 4, 6, 5, 10, 7, 4, 6, 4, 8, 8, 3, 4, 3, 2, 2, 2, 4, 3, 3, 4, 6, 5, 4, 3, 2, 4, 7, 9, 4, 5, 6, 6, 8, 1, 1, 3, 3, 4, 5, 7, 7, 3, 3, 6, 2, 4, 5, 7, 9, 9, 7, 7, 8, 6, 9, 9, 6, 7, 7, 12, 12, 6, 9, 7, 9, 3, 4, 7, 23, 8, 104, 4, 2, 14, 14, 4, 6, 2, 2, 5, 4, 9, 4, 5, 4, 4, 11, 3, 4, 6, 4, 3, 2, 2, 2, 5, 5, 5, 1, 1, 3, 2, 2, 2, 4, 3, 3, 3, 3, 2, 2, 2, 2, 8, 6, 5, 9, 13, 9, 6, 8, 1, 9, 11, 7, 3, 8, 4, 7, 7, 7, 4, 7, 7, 4, 5, 4, 3, 5, 4, 8, 8, 6, 6, 10, 3, 2, 9, 7, 7, 6, 7, 1, 2, 1, 2, 5, 3, 4, 2, 2, 7, 9, 9, 2, 2, 8, 4, 4, 4, 8, 7, 3, 3, 3, 7, 18, 5, 7, 7, 12, 8, 13, 4, 5, 7, 6, 5, 7, 7, 7, 7, 7, 1, 4, 4, 2, 2, 1, 1, 1, 2, 2, 2, 4, 3, 4, 5, 5, 1, 2, 2, 4, 33, 1, 6, 3, 9, 8, 8, 8, 9, 10, 6, 6, 14, 11, 13, 7, 4, 6, 3, 8, 8, 8, 8, 6, 10, 7, 9, 2, 4, 5, 4, 7, 6, 5, 4, 9, 9, 10, 4, 7, 6, 6, 6, 6, 7, 7, 4, 5, 8, 7, 9, 9, 6, 6, 7, 4, 8, 15, 6, 7, 3, 2, 5, 6, 9, 8, 6, 4, 3, 4, 3, 1, 9, 6, 5, 4, 10, 8, 8, 3, 8, 11, 7, 4, 6, 15, 14, 4, 10, 6, 4, 4, 6, 6, 9, 9, 7, 12, 5, 13, 8, 7, 28, 16, 14, 13, 15, 16]\n"
     ]
    }
   ],
   "source": [
    "print(hba_values)"
   ]
  },
  {
   "cell_type": "markdown",
   "id": "cc24b398-7e27-4c0f-b9f4-e6a8a3d31cdc",
   "metadata": {},
   "source": [
    "#### Matplotlib\n",
    "* import matplotbib.pyplot as plt\n",
    "* plt.hist(리스트)   - 리턴: 3개\n",
    "* plt.hist(리스트, bins= , range=( , ))  \n",
    "#bins: x축을 쪼개는 정도, range: x축 범위#\n",
    "* plt.xlabel('문자') & plot.ylabel('문자')\n"
   ]
  },
  {
   "cell_type": "code",
   "execution_count": 51,
   "id": "78af750c-7ffc-4534-90fb-3540c0b12fc4",
   "metadata": {
    "tags": []
   },
   "outputs": [],
   "source": [
    "import matplotlib\n",
    "import matplotlib.pyplot as plt"
   ]
  },
  {
   "cell_type": "code",
   "execution_count": 52,
   "id": "2793529e-fd2c-499c-b640-60e431722952",
   "metadata": {},
   "outputs": [
    {
     "data": {
      "image/png": "[encoded data removed]",
      "text/plain": [
       "<Figure size 432x288 with 1 Axes>"
      ]
     },
     "metadata": {
      "needs_background": "light"
     },
     "output_type": "display_data"
    }
   ],
   "source": [
    "freq, bins, plot_object = plt.hist(hba_values)"
   ]
  },
  {
   "cell_type": "code",
   "execution_count": 58,
   "id": "123cecdd-e58a-46d6-a19b-83554e1e88a7",
   "metadata": {
    "tags": []
   },
   "outputs": [
    {
     "name": "stdout",
     "output_type": "stream",
     "text": [
      "[566.  29.   3.   1.   0.   0.   0.   0.   0.   1.]\n"
     ]
    }
   ],
   "source": [
    "print(freq)"
   ]
  },
  {
   "cell_type": "code",
   "execution_count": 53,
   "id": "bd68da42-d0a0-4451-a944-ecf5250a585b",
   "metadata": {},
   "outputs": [
    {
     "data": {
      "text/plain": [
       "numpy.ndarray"
      ]
     },
     "execution_count": 53,
     "metadata": {},
     "output_type": "execute_result"
    }
   ],
   "source": [
    "type(freq)"
   ]
  },
  {
   "cell_type": "code",
   "execution_count": 55,
   "id": "78ede149-18fe-4985-b1d5-e0471eddbaac",
   "metadata": {},
   "outputs": [],
   "source": [
    "list_freq = [a for a in freq]"
   ]
  },
  {
   "cell_type": "code",
   "execution_count": 57,
   "id": "c04dd13e-6ae5-47fe-b6ad-b17cc2cde27e",
   "metadata": {
    "tags": []
   },
   "outputs": [
    {
     "name": "stdout",
     "output_type": "stream",
     "text": [
      "[566.0, 29.0, 3.0, 1.0, 0.0, 0.0, 0.0, 0.0, 0.0, 1.0]\n"
     ]
    }
   ],
   "source": [
    "print(list_freq)"
   ]
  },
  {
   "cell_type": "code",
   "execution_count": 56,
   "id": "101962b3-c90d-4cb6-a437-ff07338c1cc2",
   "metadata": {
    "tags": []
   },
   "outputs": [
    {
     "data": {
      "text/plain": [
       "list"
      ]
     },
     "execution_count": 56,
     "metadata": {},
     "output_type": "execute_result"
    }
   ],
   "source": [
    "type(list_freq)"
   ]
  },
  {
   "cell_type": "code",
   "execution_count": 54,
   "id": "41bae8c2-959b-49c4-9fd1-9cd35252964b",
   "metadata": {},
   "outputs": [
    {
     "data": {
      "text/plain": [
       "numpy.ndarray"
      ]
     },
     "execution_count": 54,
     "metadata": {},
     "output_type": "execute_result"
    }
   ],
   "source": [
    "type(bins)"
   ]
  },
  {
   "cell_type": "code",
   "execution_count": 59,
   "id": "28077609-aff4-4010-b63b-28878680c233",
   "metadata": {},
   "outputs": [
    {
     "data": {
      "text/plain": [
       "(array([566.,  29.,   3.,   1.,   0.,   0.,   0.,   0.,   0.,   1.]),\n",
       " array([  1. ,  11.3,  21.6,  31.9,  42.2,  52.5,  62.8,  73.1,  83.4,\n",
       "         93.7, 104. ]),\n",
       " <BarContainer object of 10 artists>)"
      ]
     },
     "execution_count": 59,
     "metadata": {},
     "output_type": "execute_result"
    },
    {
     "data": {
      "image/png": "[encoded data removed]",
      "text/plain": [
       "<Figure size 432x288 with 1 Axes>"
      ]
     },
     "metadata": {
      "needs_background": "light"
     },
     "output_type": "display_data"
    }
   ],
   "source": [
    "plt.hist(hba_values)"
   ]
  },
  {
   "cell_type": "code",
   "execution_count": 60,
   "id": "74833c35-531a-4d60-951f-714883540148",
   "metadata": {},
   "outputs": [
    {
     "data": {
      "text/plain": [
       "(array([566.,  29.,   3.,   1.,   0.,   0.,   0.,   0.,   0.,   1.]),\n",
       " array([  1. ,  11.3,  21.6,  31.9,  42.2,  52.5,  62.8,  73.1,  83.4,\n",
       "         93.7, 104. ]),\n",
       " <BarContainer object of 10 artists>)"
      ]
     },
     "execution_count": 60,
     "metadata": {},
     "output_type": "execute_result"
    },
    {
     "data": {
      "image/png": "[encoded data removed]",
      "text/plain": [
       "<Figure size 432x288 with 1 Axes>"
      ]
     },
     "metadata": {
      "needs_background": "light"
     },
     "output_type": "display_data"
    }
   ],
   "source": [
    "plt.xlabel(\"Number of H-bond acceptors\")\n",
    "plt.ylabel(\"Frequency\")\n",
    "plt.hist(hba_values)"
   ]
  },
  {
   "cell_type": "markdown",
   "id": "5c446620-f06c-4527-920b-9163a6fdfb37",
   "metadata": {},
   "source": [
    "#### ~rdkit.Chem.rdMolDescriptors.~CalcCrippenDescriptors()\n",
    "#### a,b = CalcCrippenDescriptors(m) / mol-> tuple   *주의:리턴 값 2개\n",
    "* logP 예측값 계산."
   ]
  },
  {
   "cell_type": "code",
   "execution_count": 61,
   "id": "1c28489e-4939-4307-bc58-ee87a9690d62",
   "metadata": {},
   "outputs": [],
   "source": [
    "logp_values = []\n",
    "for m in molecules:\n",
    "    logp, mr = CalcCrippenDescriptors(m)\n",
    "    logp_values.append(logp)"
   ]
  },
  {
   "cell_type": "code",
   "execution_count": 62,
   "id": "76b39b9f-79a3-4e0f-bfd1-3b71dfc4375d",
   "metadata": {
    "collapsed": true,
    "jupyter": {
     "outputs_hidden": true
    },
    "tags": []
   },
   "outputs": [
    {
     "data": {
      "text/plain": [
       "[2.6336000000000004,\n",
       " 1.8967,\n",
       " 0.9245399999999985,\n",
       " 1.8038999999999998,\n",
       " 2.1460999999999997,\n",
       " -0.8208,\n",
       " -1.0197999999999992,\n",
       " 3.3126000000000015,\n",
       " 1.1474199999999997,\n",
       " 2.965820000000001,\n",
       " 2.2098000000000004,\n",
       " 3.517800000000003,\n",
       " 3.609600000000002,\n",
       " 1.6154400000000002,\n",
       " -1.6274999999999986,\n",
       " 4.2058000000000035,\n",
       " 3.1154,\n",
       " 1.3505999999999998,\n",
       " -0.8561000000000003,\n",
       " -0.5995999999999997,\n",
       " 1.1235999999999997,\n",
       " -0.4882999999999999,\n",
       " -0.4945,\n",
       " 3.8910000000000036,\n",
       " 4.112400000000003,\n",
       " 2.2289000000000003,\n",
       " 1.3101,\n",
       " 0.5409999999999998,\n",
       " -1.1394999999999986,\n",
       " 3.0637000000000008,\n",
       " 3.1057000000000015,\n",
       " 3.6808000000000023,\n",
       " 3.6670000000000016,\n",
       " 3.167200000000001,\n",
       " 2.9287600000000014,\n",
       " 2.637100000000001,\n",
       " 5.510500000000007,\n",
       " 2.7025000000000006,\n",
       " 2.8355000000000006,\n",
       " 5.081000000000004,\n",
       " 6.445800000000007,\n",
       " 5.364900000000004,\n",
       " 2.866900000000002,\n",
       " 1.3059999999999998,\n",
       " 1.5192999999999997,\n",
       " 0.7009999999999998,\n",
       " 0.6347999999999998,\n",
       " 1.3059999999999998,\n",
       " 3.472000000000002,\n",
       " 4.469900000000003,\n",
       " -1.0432999999999995,\n",
       " 1.8447999999999996,\n",
       " 1.9664,\n",
       " 4.292600000000002,\n",
       " 3.8130000000000033,\n",
       " 3.554500000000001,\n",
       " 9.908299999999997,\n",
       " 3.2081000000000017,\n",
       " 2.6830000000000007,\n",
       " 6.313600000000007,\n",
       " 2.745000000000001,\n",
       " 2.824020000000002,\n",
       " 2.401700000000001,\n",
       " 6.000700000000006,\n",
       " 5.950920000000006,\n",
       " 4.738000000000005,\n",
       " 3.073200000000001,\n",
       " 8.840260000000002,\n",
       " 9.059960000000004,\n",
       " 8.840260000000002,\n",
       " 9.157600000000002,\n",
       " 7.6190000000000095,\n",
       " 6.589800000000009,\n",
       " 2.4028,\n",
       " 2.5198,\n",
       " 3.723200000000002,\n",
       " 4.6665000000000045,\n",
       " 1.0821,\n",
       " 1.2660999999999993,\n",
       " 3.361900000000002,\n",
       " 3.8980000000000032,\n",
       " 5.341420000000006,\n",
       " 5.381100000000006,\n",
       " 4.628100000000003,\n",
       " 3.6231000000000027,\n",
       " 7.489800000000006,\n",
       " 2.209039999999999,\n",
       " 2.5299200000000006,\n",
       " 2.7171000000000003,\n",
       " 1.1291999999999998,\n",
       " 1.0895000000000001,\n",
       " 0.45210000000000006,\n",
       " 2.3933999999999997,\n",
       " 2.3659,\n",
       " 2.5775000000000006,\n",
       " 1.9055999999999995,\n",
       " 1.9890999999999996,\n",
       " 4.680000000000004,\n",
       " 2.9729,\n",
       " 1.6565000000000003,\n",
       " 3.631680000000002,\n",
       " 5.783820000000005,\n",
       " 7.720900000000009,\n",
       " 7.641000000000009,\n",
       " 2.439500000000001,\n",
       " -1.4366999999999974,\n",
       " -0.7975999999999985,\n",
       " 5.905200000000005,\n",
       " 3.2609000000000012,\n",
       " 4.730800000000005,\n",
       " 2.0576,\n",
       " 3.4250000000000016,\n",
       " 2.1353999999999997,\n",
       " 4.121000000000003,\n",
       " 4.487000000000004,\n",
       " 4.239400000000003,\n",
       " 4.194900000000003,\n",
       " 0.1764,\n",
       " 2.7322000000000015,\n",
       " 1.5891399999999998,\n",
       " 2.5500000000000007,\n",
       " 1.5763,\n",
       " 2.02944,\n",
       " 3.2993000000000023,\n",
       " 2.8795800000000016,\n",
       " -0.9922000000000002,\n",
       " -0.5482,\n",
       " 0.5448,\n",
       " 0.4805199999999999,\n",
       " 2.7624000000000004,\n",
       " -0.49450000000000044,\n",
       " 8.659900000000006,\n",
       " 2.4484000000000004,\n",
       " 2.6941000000000006,\n",
       " 2.9644200000000005,\n",
       " 3.7452400000000017,\n",
       " -1.7235599999999993,\n",
       " 3.2800400000000023,\n",
       " 3.2541200000000012,\n",
       " 4.3655000000000035,\n",
       " 3.081320000000002,\n",
       " 3.5904200000000026,\n",
       " 3.3272200000000014,\n",
       " 0.6077400000000001,\n",
       " 4.743620000000002,\n",
       " 5.938620000000004,\n",
       " 0.0802199999999999,\n",
       " 4.411120000000003,\n",
       " 3.515220000000001,\n",
       " 3.515220000000001,\n",
       " 3.835020000000002,\n",
       " 5.044840000000004,\n",
       " 2.6512200000000012,\n",
       " 2.850740000000001,\n",
       " 4.717400000000003,\n",
       " 1.41762,\n",
       " 2.44172,\n",
       " 5.634920000000006,\n",
       " 5.5556200000000056,\n",
       " 6.170240000000007,\n",
       " 5.093520000000004,\n",
       " 1.3660199999999998,\n",
       " 1.79064,\n",
       " 3.573240000000002,\n",
       " 4.989100000000003,\n",
       " 6.103720000000005,\n",
       " 3.4644600000000025,\n",
       " 3.917520000000003,\n",
       " 2.545420000000002,\n",
       " 3.5139200000000006,\n",
       " 1.6298200000000003,\n",
       " 1.77392,\n",
       " 3.8642400000000023,\n",
       " 5.683140000000005,\n",
       " 2.1459200000000003,\n",
       " 6.355840000000003,\n",
       " -1.5142799999999992,\n",
       " -0.7090799999999999,\n",
       " -0.19628000000000012,\n",
       " 1.9632399999999997,\n",
       " 4.823620000000004,\n",
       " 3.3135400000000015,\n",
       " 0.09201999999999982,\n",
       " 2.0781199999999993,\n",
       " 3.742040000000002,\n",
       " 4.324220000000003,\n",
       " 4.564840000000003,\n",
       " 3.5801200000000026,\n",
       " 4.233520000000003,\n",
       " 3.9612400000000028,\n",
       " 1.67444,\n",
       " 1.8726,\n",
       " 3.4780000000000024,\n",
       " 2.0834,\n",
       " 2.28022,\n",
       " 1.544,\n",
       " 2.7141199999999994,\n",
       " 1.5602,\n",
       " 3.6057000000000023,\n",
       " 4.292000000000004,\n",
       " 2.5676000000000005,\n",
       " 2.2512,\n",
       " 6.121300000000007,\n",
       " 4.275500000000004,\n",
       " 0.7948999999999999,\n",
       " 5.5773000000000055,\n",
       " 3.7359000000000018,\n",
       " 3.7363000000000026,\n",
       " 1.5131999999999999,\n",
       " 1.0425999999999995,\n",
       " 0.7003999999999997,\n",
       " 0.5378999999999994,\n",
       " 0.4491999999999999,\n",
       " 1.3531999999999997,\n",
       " 1.1849999999999998,\n",
       " 1.4735000000000003,\n",
       " 3.8826000000000027,\n",
       " 2.5238000000000005,\n",
       " 3.0740000000000016,\n",
       " 1.96282,\n",
       " 2.6972000000000005,\n",
       " 3.383000000000002,\n",
       " 6.7727000000000075,\n",
       " 4.773280000000004,\n",
       " 3.159600000000001,\n",
       " 1.2782,\n",
       " 3.5519000000000025,\n",
       " 2.3655,\n",
       " 2.0227,\n",
       " 0.9834000000000005,\n",
       " 1.1849999999999998,\n",
       " 1.3510999999999997,\n",
       " 2.2874,\n",
       " 2.4766999999999997,\n",
       " 1.38499,\n",
       " 3.6566000000000023,\n",
       " 2.0704199999999995,\n",
       " 7.264420000000007,\n",
       " 1.6109,\n",
       " 4.161700000000002,\n",
       " 3.9536000000000033,\n",
       " 4.1521000000000035,\n",
       " 6.936200000000007,\n",
       " 4.2668000000000035,\n",
       " 4.777400000000004,\n",
       " 4.744400000000003,\n",
       " 3.493400000000002,\n",
       " 3.7878000000000025,\n",
       " 5.846500000000007,\n",
       " 3.4333200000000024,\n",
       " 5.895800000000007,\n",
       " 3.220600000000002,\n",
       " 3.4323000000000023,\n",
       " 3.204300000000001,\n",
       " 7.960900000000009,\n",
       " 5.675500000000005,\n",
       " 6.455400000000006,\n",
       " 6.062700000000007,\n",
       " 6.881900000000007,\n",
       " 5.602600000000005,\n",
       " 8.523600000000005,\n",
       " 0.4999999999999996,\n",
       " 2.8145700000000007,\n",
       " 0.7602,\n",
       " 3.251100000000002,\n",
       " 8.644300000000001,\n",
       " 7.049000000000008,\n",
       " -1.4542999999999995,\n",
       " 1.78302,\n",
       " 3.0365,\n",
       " 2.8346000000000027,\n",
       " 3.9242000000000026,\n",
       " 2.2329999999999997,\n",
       " 2.845700000000001,\n",
       " 2.1955,\n",
       " 1.7379,\n",
       " 3.2414000000000023,\n",
       " 3.572700000000002,\n",
       " 1.5821999999999998,\n",
       " 3.994200000000003,\n",
       " 5.544200000000004,\n",
       " 3.2433000000000005,\n",
       " 2.013699999999999,\n",
       " 0.38950000000000023,\n",
       " 0.8988999999999999,\n",
       " 2.6407800000000003,\n",
       " 2.7597000000000014,\n",
       " 4.734660000000003,\n",
       " 1.7813800000000002,\n",
       " 1.7713999999999996,\n",
       " 0.6956,\n",
       " 1.7713999999999996,\n",
       " 3.6212000000000026,\n",
       " 2.5996000000000006,\n",
       " 5.019600000000005,\n",
       " 3.342900000000002,\n",
       " 2.5837400000000006,\n",
       " 4.810600000000004,\n",
       " 4.004900000000004,\n",
       " 3.3349400000000013,\n",
       " 2.0023999999999997,\n",
       " 1.3403999999999996,\n",
       " 4.402200000000004,\n",
       " 6.562600000000007,\n",
       " 3.783000000000002,\n",
       " 5.670700000000004,\n",
       " 3.6570000000000027,\n",
       " 1.2994,\n",
       " 1.4230200000000002,\n",
       " 1.2683000000000002,\n",
       " 1.7959,\n",
       " 4.936920000000004,\n",
       " 3.2459000000000024,\n",
       " -0.0014000000000000123,\n",
       " 3.060500000000001,\n",
       " 2.2131,\n",
       " 3.4082000000000026,\n",
       " 3.9643000000000033,\n",
       " 2.2663,\n",
       " 2.2663,\n",
       " 1.4455,\n",
       " 4.431500000000004,\n",
       " 1.2853999999999997,\n",
       " 6.471200000000007,\n",
       " 4.887800000000005,\n",
       " 3.588400000000002,\n",
       " 4.106600000000004,\n",
       " 4.988620000000003,\n",
       " 2.5843,\n",
       " 2.5671,\n",
       " 1.6046,\n",
       " 1.5955,\n",
       " 5.219900000000005,\n",
       " 5.932480000000006,\n",
       " 2.4342000000000006,\n",
       " 1.8443999999999987,\n",
       " 1.3564999999999992,\n",
       " 2.3409,\n",
       " 6.319100000000006,\n",
       " 4.705220000000004,\n",
       " 4.857100000000004,\n",
       " 2.7925000000000004,\n",
       " 0.5344199999999997,\n",
       " 1.09568,\n",
       " 5.0388000000000055,\n",
       " -0.292599999999999,\n",
       " 2.9079000000000006,\n",
       " 3.269000000000003,\n",
       " 1.8468000000000002,\n",
       " -11.627860000000226,\n",
       " -0.12729999999999986,\n",
       " 3.0835000000000017,\n",
       " 1.785600000000004,\n",
       " 1.9007000000000054,\n",
       " 1.1618,\n",
       " 4.639200000000005,\n",
       " 5.9961000000000055,\n",
       " 4.828600000000005,\n",
       " -1.034159999999999,\n",
       " 5.088000000000005,\n",
       " 2.7964,\n",
       " 3.248840000000002,\n",
       " 4.335500000000003,\n",
       " 1.9437,\n",
       " 0.5714999999999997,\n",
       " 1.2895999999999996,\n",
       " 5.308240000000005,\n",
       " 4.972200000000005,\n",
       " 0.0696000000000001,\n",
       " 3.7390000000000025,\n",
       " 2.7326000000000006,\n",
       " 3.9277000000000024,\n",
       " 3.8186000000000027,\n",
       " 3.5276000000000023,\n",
       " 1.9118,\n",
       " 2.1975999999999996,\n",
       " 1.9229,\n",
       " 4.553800000000004,\n",
       " 4.168600000000003,\n",
       " 3.812980000000003,\n",
       " 4.528400000000004,\n",
       " 3.8750000000000027,\n",
       " 4.8944000000000045,\n",
       " 3.4151000000000016,\n",
       " 3.812980000000003,\n",
       " 2.649800000000001,\n",
       " 2.923300000000001,\n",
       " 3.4026000000000023,\n",
       " 3.3542000000000023,\n",
       " 3.662620000000003,\n",
       " 6.215000000000006,\n",
       " 3.9277000000000024,\n",
       " 4.389900000000003,\n",
       " 3.177100000000002,\n",
       " 3.4707000000000026,\n",
       " 3.1390400000000005,\n",
       " 0.2684000000000003,\n",
       " -2.281299999999997,\n",
       " 2.490900000000001,\n",
       " 1.9828999999999997,\n",
       " 4.877300000000004,\n",
       " 3.940120000000002,\n",
       " 0.91152,\n",
       " 0.3944800000000006,\n",
       " 1.3329999999999997,\n",
       " 2.654580000000001,\n",
       " 0.37359999999999993,\n",
       " 1.6424999999999998,\n",
       " 1.9509199999999998,\n",
       " 1.5809999999999997,\n",
       " 2.1916200000000003,\n",
       " 0.5983000000000003,\n",
       " 1.655,\n",
       " 3.1285200000000017,\n",
       " 2.4083200000000007,\n",
       " 2.4722,\n",
       " 3.1538000000000013,\n",
       " 3.280100000000002,\n",
       " 3.3712000000000018,\n",
       " -2.213099999999999,\n",
       " 2.967900000000001,\n",
       " -0.2771999999999999,\n",
       " -1.0397000000000005,\n",
       " 2.6077000000000004,\n",
       " 0.3993199999999999,\n",
       " 1.08269,\n",
       " 1.1458,\n",
       " 3.525600000000002,\n",
       " 3.0113000000000016,\n",
       " -1.0293,\n",
       " 0.19299999999999962,\n",
       " 4.374200000000004,\n",
       " 4.014400000000004,\n",
       " 4.697900000000004,\n",
       " 3.7077000000000027,\n",
       " 3.2757000000000014,\n",
       " 4.901100000000005,\n",
       " 3.8210000000000024,\n",
       " 5.104400000000005,\n",
       " 1.8483,\n",
       " 1.5593999999999992,\n",
       " 1.5679999999999998,\n",
       " 1.5679999999999998,\n",
       " 3.6768000000000027,\n",
       " 3.0234000000000014,\n",
       " 5.026900000000003,\n",
       " 3.7227000000000023,\n",
       " 3.4392200000000015,\n",
       " 3.7714000000000025,\n",
       " 4.590320000000004,\n",
       " 4.456020000000003,\n",
       " 4.945600000000004,\n",
       " 4.580200000000004,\n",
       " 2.4789000000000003,\n",
       " 3.391580000000001,\n",
       " 6.15660000000001,\n",
       " 2.3183999999999996,\n",
       " -1.4237999999999995,\n",
       " 2.6285000000000007,\n",
       " 1.5126999999999997,\n",
       " -2.078099999999999,\n",
       " -0.2576999999999977,\n",
       " 1.9309,\n",
       " 0.9180999999999993,\n",
       " 3.429000000000001,\n",
       " 3.992480000000003,\n",
       " 4.639100000000003,\n",
       " 5.688800000000002,\n",
       " 3.5315800000000026,\n",
       " 5.549700000000002,\n",
       " 1.459,\n",
       " 1.3225,\n",
       " 2.4206000000000003,\n",
       " 2.950700000000001,\n",
       " 2.9793000000000003,\n",
       " 4.435000000000003,\n",
       " 0.8434999999999999,\n",
       " 3.826400000000003,\n",
       " 4.211400000000004,\n",
       " 4.301900000000003,\n",
       " 3.5328000000000026,\n",
       " 3.7246200000000034,\n",
       " 4.630900000000003,\n",
       " 0.35060000000000013,\n",
       " 0.645,\n",
       " 1.0487999999999995,\n",
       " 1.3211999999999997,\n",
       " 2.0687999999999995,\n",
       " 1.837,\n",
       " 1.3278999999999999,\n",
       " 1.3278999999999999,\n",
       " 1.3435,\n",
       " 0.10620000000001423,\n",
       " 5.179600000000004,\n",
       " 0.5973999999999999,\n",
       " 2.0853,\n",
       " 3.677800000000003,\n",
       " 2.5822000000000003,\n",
       " 2.1756,\n",
       " 3.2018000000000013,\n",
       " 3.6159000000000026,\n",
       " 2.4426999999999994,\n",
       " 2.972200000000001,\n",
       " 3.111300000000001,\n",
       " 6.222000000000005,\n",
       " 3.908400000000002,\n",
       " 4.2116000000000025,\n",
       " -0.592200000000001,\n",
       " -0.19980000000000003,\n",
       " 3.515640000000002,\n",
       " 5.167060000000005,\n",
       " 4.023600000000002,\n",
       " 3.641700000000002,\n",
       " 4.071900000000002,\n",
       " 2.52402,\n",
       " 2.733220000000001,\n",
       " 2.4318,\n",
       " 5.155100000000004,\n",
       " 4.509800000000003,\n",
       " 2.1292999999999997,\n",
       " 3.7896000000000027,\n",
       " 4.242500000000003,\n",
       " 17.853899999999975,\n",
       " 2.8843000000000014,\n",
       " 5.093080000000005,\n",
       " 5.292300000000005,\n",
       " 4.361100000000004,\n",
       " 1.7845999999999997,\n",
       " 1.0567999999999995,\n",
       " 1.7177999999999998,\n",
       " 3.238100000000002,\n",
       " 3.3100000000000014,\n",
       " 3.5641000000000025,\n",
       " 0.5301999999999997,\n",
       " 5.004200000000004,\n",
       " 4.826600000000004,\n",
       " 4.2756000000000025,\n",
       " 1.9803999999999997,\n",
       " 2.5478000000000005,\n",
       " 1.0482,\n",
       " 4.183600000000003,\n",
       " 2.5828000000000007,\n",
       " 5.695920000000005,\n",
       " 5.090000000000005,\n",
       " -0.1878999999999995,\n",
       " 5.910820000000005,\n",
       " 1.2575999999999998,\n",
       " 2.782700000000001,\n",
       " 5.190380000000005,\n",
       " 3.094500000000002,\n",
       " 2.8103000000000016,\n",
       " 2.871600000000001,\n",
       " 3.036500000000001,\n",
       " 3.370000000000002,\n",
       " 3.9273200000000035,\n",
       " 2.8997400000000013,\n",
       " 1.3507,\n",
       " 5.540800000000004,\n",
       " 2.8997400000000013,\n",
       " 1.8550999999999997,\n",
       " 4.495600000000004,\n",
       " 4.364400000000003,\n",
       " 3.0356000000000014,\n",
       " 4.214690000000001,\n",
       " 2.699600000000001,\n",
       " 3.3685000000000027,\n",
       " 5.351300000000005,\n",
       " 2.658400000000001,\n",
       " 4.159040000000002,\n",
       " 4.135170000000002,\n",
       " 5.707400000000005,\n",
       " 2.6346000000000007,\n",
       " 5.535020000000005,\n",
       " 4.2039000000000035,\n",
       " 2.30804,\n",
       " 0.4272000000000001,\n",
       " 3.738000000000002,\n",
       " 1.168119999999999,\n",
       " 3.8538000000000023,\n",
       " 7.1305000000000085,\n",
       " 3.2843800000000014,\n",
       " 4.880700000000004,\n",
       " 1.6132,\n",
       " 3.201500000000001,\n",
       " 2.0878000000000005,\n",
       " 2.989420000000001,\n",
       " 3.2935000000000025,\n",
       " 2.9708000000000014,\n",
       " 3.405100000000002,\n",
       " 1.8635000000000037,\n",
       " 0.4539000000000007,\n",
       " 4.639000000000005,\n",
       " 5.906800000000007,\n",
       " 3.358100000000001,\n",
       " 10.8127,\n",
       " 2.325100000000007,\n",
       " 6.157840000000006,\n",
       " 4.754120000000006,\n",
       " 4.615720000000003,\n",
       " 5.6482200000000065]"
      ]
     },
     "execution_count": 62,
     "metadata": {},
     "output_type": "execute_result"
    }
   ],
   "source": [
    "logp_values"
   ]
  },
  {
   "cell_type": "code",
   "execution_count": 63,
   "id": "e32c486f-c633-446c-b364-77a81d8141b6",
   "metadata": {
    "tags": []
   },
   "outputs": [
    {
     "data": {
      "text/plain": [
       "(array([ 1.,  0.,  0.,  0.,  0.,  0.,  0.,  0.,  0.,  0.,  0.,  0.,  0.,\n",
       "         0.,  0.,  2.,  3., 10., 11., 12., 28., 41., 60., 59., 79., 86.,\n",
       "        65., 49., 30., 27., 16.,  5.,  5.,  1.,  5.,  2.,  1.,  0.,  1.,\n",
       "         0.,  0.,  0.,  0.,  0.,  0.,  0.,  0.,  0.,  0.,  1.]),\n",
       " array([-11.62786  , -11.0382248, -10.4485896,  -9.8589544,  -9.2693192,\n",
       "         -8.679684 ,  -8.0900488,  -7.5004136,  -6.9107784,  -6.3211432,\n",
       "         -5.731508 ,  -5.1418728,  -4.5522376,  -3.9626024,  -3.3729672,\n",
       "         -2.783332 ,  -2.1936968,  -1.6040616,  -1.0144264,  -0.4247912,\n",
       "          0.164844 ,   0.7544792,   1.3441144,   1.9337496,   2.5233848,\n",
       "          3.11302  ,   3.7026552,   4.2922904,   4.8819256,   5.4715608,\n",
       "          6.061196 ,   6.6508312,   7.2404664,   7.8301016,   8.4197368,\n",
       "          9.009372 ,   9.5990072,  10.1886424,  10.7782776,  11.3679128,\n",
       "         11.957548 ,  12.5471832,  13.1368184,  13.7264536,  14.3160888,\n",
       "         14.905724 ,  15.4953592,  16.0849944,  16.6746296,  17.2642648,\n",
       "         17.8539   ]),\n",
       " <BarContainer object of 50 artists>)"
      ]
     },
     "execution_count": 63,
     "metadata": {},
     "output_type": "execute_result"
    },
    {
     "data": {
      "image/png": "[encoded data removed]",
      "text/plain": [
       "<Figure size 432x288 with 1 Axes>"
      ]
     },
     "metadata": {
      "needs_background": "light"
     },
     "output_type": "display_data"
    }
   ],
   "source": [
    "plt.hist(logp_values, bins=50)"
   ]
  },
  {
   "cell_type": "markdown",
   "id": "2226553a-1afb-4acd-9ff2-b44b10244a5b",
   "metadata": {},
   "source": [
    "* Histrogram 범위 설정."
   ]
  },
  {
   "cell_type": "code",
   "execution_count": 64,
   "id": "b1dc3ba7-1833-4b4e-807f-30a994db04e0",
   "metadata": {},
   "outputs": [
    {
     "data": {
      "text/plain": [
       "(array([ 0.,  0.,  0.,  0.,  0.,  0.,  0.,  0.,  0.,  0.,  0.,  0.,  0.,\n",
       "         0.,  0.,  3.,  3.,  9.,  8., 11., 18., 22., 45., 56., 50., 66.,\n",
       "        69., 70., 43., 40., 22., 26., 15.,  5.,  4.,  4.,  0.,  5.,  2.,\n",
       "         1.,  0.,  1.,  0.,  0.,  0.,  0.,  0.,  0.,  0.,  0.]),\n",
       " array([-10. ,  -9.5,  -9. ,  -8.5,  -8. ,  -7.5,  -7. ,  -6.5,  -6. ,\n",
       "         -5.5,  -5. ,  -4.5,  -4. ,  -3.5,  -3. ,  -2.5,  -2. ,  -1.5,\n",
       "         -1. ,  -0.5,   0. ,   0.5,   1. ,   1.5,   2. ,   2.5,   3. ,\n",
       "          3.5,   4. ,   4.5,   5. ,   5.5,   6. ,   6.5,   7. ,   7.5,\n",
       "          8. ,   8.5,   9. ,   9.5,  10. ,  10.5,  11. ,  11.5,  12. ,\n",
       "         12.5,  13. ,  13.5,  14. ,  14.5,  15. ]),\n",
       " <BarContainer object of 50 artists>)"
      ]
     },
     "execution_count": 64,
     "metadata": {},
     "output_type": "execute_result"
    },
    {
     "data": {
      "image/png": "[encoded data removed]",
      "text/plain": [
       "<Figure size 432x288 with 1 Axes>"
      ]
     },
     "metadata": {
      "needs_background": "light"
     },
     "output_type": "display_data"
    }
   ],
   "source": [
    "plt.hist(logp_values, bins=50, range=(-10,15))"
   ]
  },
  {
   "cell_type": "code",
   "execution_count": 65,
   "id": "4992c2a8-f886-4af4-b289-0dadf5680f8b",
   "metadata": {},
   "outputs": [],
   "source": [
    "hbd_values = []\n",
    "for m in molecules:\n",
    "    hbd = CalcNumLipinskiHBD(m)\n",
    "    hbd_values.append(hbd)"
   ]
  },
  {
   "cell_type": "code",
   "execution_count": 66,
   "id": "258558a6-f688-43e7-8009-4446ef0c891c",
   "metadata": {},
   "outputs": [
    {
     "data": {
      "text/plain": [
       "(array([123.,   0.,   0.,   0.,   0., 177.,   0.,   0.,   0.,   0., 149.,\n",
       "          0.,   0.,   0.,   0.,  84.,   0.,   0.,   0.,   0.,  38.,   0.,\n",
       "          0.,   0.,   0.,  15.,   0.,   0.,   0.,   0.,   7.,   0.,   0.,\n",
       "          0.,   0.,   2.,   0.,   0.,   0.,   0.,   2.,   0.,   0.,   0.,\n",
       "          0.,   0.,   0.,   0.,   0.,   0.]),\n",
       " array([ 0. ,  0.2,  0.4,  0.6,  0.8,  1. ,  1.2,  1.4,  1.6,  1.8,  2. ,\n",
       "         2.2,  2.4,  2.6,  2.8,  3. ,  3.2,  3.4,  3.6,  3.8,  4. ,  4.2,\n",
       "         4.4,  4.6,  4.8,  5. ,  5.2,  5.4,  5.6,  5.8,  6. ,  6.2,  6.4,\n",
       "         6.6,  6.8,  7. ,  7.2,  7.4,  7.6,  7.8,  8. ,  8.2,  8.4,  8.6,\n",
       "         8.8,  9. ,  9.2,  9.4,  9.6,  9.8, 10. ]),\n",
       " <BarContainer object of 50 artists>)"
      ]
     },
     "execution_count": 66,
     "metadata": {},
     "output_type": "execute_result"
    },
    {
     "data": {
      "image/png": "[encoded data removed]",
      "text/plain": [
       "<Figure size 432x288 with 1 Axes>"
      ]
     },
     "metadata": {
      "needs_background": "light"
     },
     "output_type": "display_data"
    }
   ],
   "source": [
    "plt.hist(hbd_values,bins=50,range=(0,10))"
   ]
  },
  {
   "cell_type": "code",
   "execution_count": 67,
   "id": "45e2a6e6-ddf6-4363-a301-0d8c28b77088",
   "metadata": {},
   "outputs": [],
   "source": [
    "mw_values=[]\n",
    "for m in molecules:\n",
    "    mw = CalcExactMolWt(m)\n",
    "    mw_values.append(mw)"
   ]
  },
  {
   "cell_type": "code",
   "execution_count": 68,
   "id": "2659a0a7-8124-4036-8a84-6471041888fa",
   "metadata": {},
   "outputs": [
    {
     "data": {
      "text/plain": [
       "(array([ 0.,  0.,  0.,  0.,  1.,  0.,  0.,  1.,  1.,  1.,  0.,  1.,  1.,\n",
       "         4.,  7.,  4., 13.,  8.,  7.,  7.,  9., 12., 13., 18., 16., 19.,\n",
       "        22., 18., 11., 22., 28., 26., 18., 14., 10., 19., 17., 15., 21.,\n",
       "         9., 13., 11., 16., 12., 13., 16., 12., 12., 10., 10.,  6.,  6.,\n",
       "         6.,  5.,  1.,  8.,  4.,  6.,  5.,  2.,  1.,  4.,  1.,  1.,  1.,\n",
       "         1.,  0.,  1.,  0.,  1.,  2.,  0.,  1.,  2.,  2.,  0.,  0.,  1.,\n",
       "         1.,  0.,  1.,  0.,  1.,  0.,  2.,  0.,  2.,  1.,  0.,  0.,  0.,\n",
       "         0.,  0.,  0.,  0.,  0.,  0.,  0.,  0.,  0.]),\n",
       " array([   0.,   10.,   20.,   30.,   40.,   50.,   60.,   70.,   80.,\n",
       "          90.,  100.,  110.,  120.,  130.,  140.,  150.,  160.,  170.,\n",
       "         180.,  190.,  200.,  210.,  220.,  230.,  240.,  250.,  260.,\n",
       "         270.,  280.,  290.,  300.,  310.,  320.,  330.,  340.,  350.,\n",
       "         360.,  370.,  380.,  390.,  400.,  410.,  420.,  430.,  440.,\n",
       "         450.,  460.,  470.,  480.,  490.,  500.,  510.,  520.,  530.,\n",
       "         540.,  550.,  560.,  570.,  580.,  590.,  600.,  610.,  620.,\n",
       "         630.,  640.,  650.,  660.,  670.,  680.,  690.,  700.,  710.,\n",
       "         720.,  730.,  740.,  750.,  760.,  770.,  780.,  790.,  800.,\n",
       "         810.,  820.,  830.,  840.,  850.,  860.,  870.,  880.,  890.,\n",
       "         900.,  910.,  920.,  930.,  940.,  950.,  960.,  970.,  980.,\n",
       "         990., 1000.]),\n",
       " <BarContainer object of 100 artists>)"
      ]
     },
     "execution_count": 68,
     "metadata": {},
     "output_type": "execute_result"
    },
    {
     "data": {
      "image/png": "[encoded data removed]",
      "text/plain": [
       "<Figure size 432x288 with 1 Axes>"
      ]
     },
     "metadata": {
      "needs_background": "light"
     },
     "output_type": "display_data"
    }
   ],
   "source": [
    "plt.hist(mw_values,bins=100,range=(0,1000))"
   ]
  },
  {
   "cell_type": "markdown",
   "id": "bffe94ed-eace-4a01-a7fa-caa540884bf5",
   "metadata": {},
   "source": [
    "# <span style=\"color:blue\">11주차(2) Matplotlib</span>"
   ]
  },
  {
   "cell_type": "code",
   "execution_count": 69,
   "id": "f8e79624-921c-4b30-8187-7299c41455a2",
   "metadata": {
    "tags": []
   },
   "outputs": [],
   "source": [
    "# (magic command) 그래프를 주피터 노트북 상에서 실시간으로 확인할 수 있다. \n",
    "# 이 명령을 실행하지 않으면, plt.show() 로 그래프 확인해야함.\n",
    "# 이 명령 옆에는 #으로 주석 달면 안됨.\n",
    "%matplotlib inline "
   ]
  },
  {
   "cell_type": "code",
   "execution_count": 71,
   "id": "7800a3c3-12da-4f7c-a2b9-ba56be9614c9",
   "metadata": {},
   "outputs": [],
   "source": [
    "import matplotlib\n",
    "import matplotlib.pyplot as plt    #plt.~~()"
   ]
  },
  {
   "cell_type": "code",
   "execution_count": 72,
   "id": "0aaa8234-2962-4cd7-a5c0-5d36dbd2c01e",
   "metadata": {},
   "outputs": [],
   "source": [
    "import numpy as np #수학 및 행렬     #np.~~()"
   ]
  },
  {
   "cell_type": "markdown",
   "id": "76c78a90-dade-494e-bd54-69f7b64c4db2",
   "metadata": {},
   "source": [
    "np.linspace(a,b,c) a부터 b까지 동일한 간격의 c개 등차수열.\n",
    "\n",
    "np.sin(x) x의 sin값 계산. for문 돌리지 않고 x 리스트를 바로 넣을 수 있음."
   ]
  },
  {
   "cell_type": "code",
   "execution_count": 74,
   "id": "5b9aef4e-2608-4c44-a4cf-03395975e9c8",
   "metadata": {
    "tags": []
   },
   "outputs": [
    {
     "name": "stdout",
     "output_type": "stream",
     "text": [
      "len(x): 101\n",
      "x: [ 0.   0.1  0.2  0.3  0.4  0.5  0.6  0.7  0.8  0.9  1.   1.1  1.2  1.3\n",
      "  1.4  1.5  1.6  1.7  1.8  1.9  2.   2.1  2.2  2.3  2.4  2.5  2.6  2.7\n",
      "  2.8  2.9  3.   3.1  3.2  3.3  3.4  3.5  3.6  3.7  3.8  3.9  4.   4.1\n",
      "  4.2  4.3  4.4  4.5  4.6  4.7  4.8  4.9  5.   5.1  5.2  5.3  5.4  5.5\n",
      "  5.6  5.7  5.8  5.9  6.   6.1  6.2  6.3  6.4  6.5  6.6  6.7  6.8  6.9\n",
      "  7.   7.1  7.2  7.3  7.4  7.5  7.6  7.7  7.8  7.9  8.   8.1  8.2  8.3\n",
      "  8.4  8.5  8.6  8.7  8.8  8.9  9.   9.1  9.2  9.3  9.4  9.5  9.6  9.7\n",
      "  9.8  9.9 10. ]\n"
     ]
    }
   ],
   "source": [
    "x=np.linspace(0,10,101)  #숫자 0부터 10까지. 101개로 동일한 간격의 등차수열 생성.\n",
    "print(\"len(x):\",len(x))\n",
    "print(\"x:\",x)"
   ]
  },
  {
   "cell_type": "markdown",
   "id": "433cb978-c978-4e9a-861b-67f05da8f052",
   "metadata": {},
   "source": [
    "### 선형 그래프 plt.plot(x,y,)\n",
    "* plt.plot(x축 리스트,y축 리스트,label=\"\")\n",
    "#####  (x축, y축 데이터 갯수 같아야 함)\n",
    "* plt.legend() :범례\n",
    "##### plt.legend(loc='')   <---location의 약자. 범례의 위치를 지정할 수있다.\n",
    "\tbest : 그래프와 겹치지 않게    \n",
    "\tupper /lower /center    \n",
    "\tleft /right"
   ]
  },
  {
   "cell_type": "code",
   "execution_count": 75,
   "id": "9f2b99a4-d80f-45ff-b12b-55bf0b98b02e",
   "metadata": {},
   "outputs": [
    {
     "data": {
      "text/plain": [
       "<matplotlib.legend.Legend at 0x163ac5dedc0>"
      ]
     },
     "execution_count": 75,
     "metadata": {},
     "output_type": "execute_result"
    },
    {
     "data": {
      "image/png": "[encoded data removed]",
      "text/plain": [
       "<Figure size 432x288 with 1 Axes>"
      ]
     },
     "metadata": {
      "needs_background": "light"
     },
     "output_type": "display_data"
    }
   ],
   "source": [
    "plt.plot(x,x,label=\"linear\")\n",
    "plt.legend()"
   ]
  },
  {
   "cell_type": "code",
   "execution_count": 76,
   "id": "fa2ab46a-f4d3-470d-aada-8dd8dd569c9d",
   "metadata": {},
   "outputs": [
    {
     "data": {
      "text/plain": [
       "[<matplotlib.lines.Line2D at 0x163ac66d610>]"
      ]
     },
     "execution_count": 76,
     "metadata": {},
     "output_type": "execute_result"
    },
    {
     "data": {
      "image/png": "[encoded data removed]",
      "text/plain": [
       "<Figure size 432x288 with 1 Axes>"
      ]
     },
     "metadata": {
      "needs_background": "light"
     },
     "output_type": "display_data"
    }
   ],
   "source": [
    "plt.plot([1,2,3],[2,4,3])"
   ]
  },
  {
   "cell_type": "code",
   "execution_count": 77,
   "id": "4e9a7b7f-2bb5-4475-9cd4-ccb5b545c89b",
   "metadata": {
    "tags": []
   },
   "outputs": [
    {
     "name": "stdout",
     "output_type": "stream",
     "text": [
      "[ 0.          0.09983342  0.19866933  0.29552021  0.38941834  0.47942554\n",
      "  0.56464247  0.64421769  0.71735609  0.78332691  0.84147098  0.89120736\n",
      "  0.93203909  0.96355819  0.98544973  0.99749499  0.9995736   0.99166481\n",
      "  0.97384763  0.94630009  0.90929743  0.86320937  0.8084964   0.74570521\n",
      "  0.67546318  0.59847214  0.51550137  0.42737988  0.33498815  0.23924933\n",
      "  0.14112001  0.04158066 -0.05837414 -0.15774569 -0.2555411  -0.35078323\n",
      " -0.44252044 -0.52983614 -0.61185789 -0.68776616 -0.7568025  -0.81827711\n",
      " -0.87157577 -0.91616594 -0.95160207 -0.97753012 -0.993691   -0.99992326\n",
      " -0.99616461 -0.98245261 -0.95892427 -0.92581468 -0.88345466 -0.83226744\n",
      " -0.77276449 -0.70554033 -0.63126664 -0.55068554 -0.46460218 -0.37387666\n",
      " -0.2794155  -0.1821625  -0.0830894   0.0168139   0.1165492   0.21511999\n",
      "  0.31154136  0.40484992  0.49411335  0.57843976  0.6569866   0.72896904\n",
      "  0.79366786  0.85043662  0.8987081   0.93799998  0.96791967  0.98816823\n",
      "  0.99854335  0.99894134  0.98935825  0.96988981  0.94073056  0.90217183\n",
      "  0.85459891  0.79848711  0.7343971   0.66296923  0.58491719  0.50102086\n",
      "  0.41211849  0.31909836  0.22288991  0.12445442  0.02477543 -0.07515112\n",
      " -0.17432678 -0.27176063 -0.36647913 -0.45753589 -0.54402111]\n"
     ]
    }
   ],
   "source": [
    "print(np.sin(x)) #x리스트 요소들의 sin 값을 계산한 리스트를 반환. (for문 필요 x)"
   ]
  },
  {
   "cell_type": "code",
   "execution_count": 78,
   "id": "29eb2be3-e59e-468e-a430-b83c3f7e119a",
   "metadata": {
    "tags": []
   },
   "outputs": [
    {
     "data": {
      "text/plain": [
       "<matplotlib.legend.Legend at 0x163ac6cacd0>"
      ]
     },
     "execution_count": 78,
     "metadata": {},
     "output_type": "execute_result"
    },
    {
     "data": {
      "image/png": "[encoded data removed]",
      "text/plain": [
       "<Figure size 432x288 with 1 Axes>"
      ]
     },
     "metadata": {
      "needs_background": "light"
     },
     "output_type": "display_data"
    }
   ],
   "source": [
    "plt.plot(x,np.sin(x),label=\"sine curve\")\n",
    "plt.legend()"
   ]
  },
  {
   "cell_type": "markdown",
   "id": "a72233b9-d622-4c37-a2fc-52b275e2375f",
   "metadata": {},
   "source": [
    "### 제목,X,Y축 라벨링 plt.title/xlabel/ylabel('')\n",
    "* plt.xlabel('문자') & plot.ylabel('문자')"
   ]
  },
  {
   "cell_type": "code",
   "execution_count": 79,
   "id": "b864b569-ff78-4c0f-9a4d-e25e4c4a89e1",
   "metadata": {},
   "outputs": [
    {
     "data": {
      "text/plain": [
       "Text(0, 0.5, 'Y label(The Data)')"
      ]
     },
     "execution_count": 79,
     "metadata": {},
     "output_type": "execute_result"
    },
    {
     "data": {
      "image/png": "[encoded data removed]",
      "text/plain": [
       "<Figure size 432x288 with 1 Axes>"
      ]
     },
     "metadata": {
      "needs_background": "light"
     },
     "output_type": "display_data"
    }
   ],
   "source": [
    "x=[1,2,3]\n",
    "y=[2,4,3]\n",
    "plt.plot(x,y,label=\"My data\")\n",
    "plt.legend()   #위에 입력한 범례 label=\"My data\"를 출력.\n",
    "\n",
    "plt.title('My cool graph')\n",
    "plt.xlabel('X label(Plot Number)')\n",
    "plt.ylabel('Y label(The Data)')"
   ]
  },
  {
   "cell_type": "markdown",
   "id": "8b678589-d913-4d05-b3e2-833ee0f4bd8f",
   "metadata": {},
   "source": [
    "#### 선형 그래프에 2개 이상의 데이터를 같이 표현할 때"
   ]
  },
  {
   "cell_type": "code",
   "execution_count": 80,
   "id": "00ad9465-cb21-4aee-8454-7d59667f0014",
   "metadata": {},
   "outputs": [
    {
     "data": {
      "text/plain": [
       "Text(0, 0.5, 'Y label(The Data)')"
      ]
     },
     "execution_count": 80,
     "metadata": {},
     "output_type": "execute_result"
    },
    {
     "data": {
      "image/png": "[encoded data removed]",
      "text/plain": [
       "<Figure size 432x288 with 1 Axes>"
      ]
     },
     "metadata": {
      "needs_background": "light"
     },
     "output_type": "display_data"
    }
   ],
   "source": [
    "x=[1,2,3]\n",
    "y=[2,4,3]\n",
    "\n",
    "x2=[1,2,3]\n",
    "y2=[7,7,14]\n",
    "\n",
    "plt.plot(x,y,label='First line')\n",
    "plt.plot(x2,y2,label='Second line')\n",
    "plt.legend()   #위에 입력한 범례 label=\"My data\"를 출력.\n",
    "\n",
    "plt.title('My cool graph')\n",
    "plt.xlabel('X label(Plot Number)')\n",
    "plt.ylabel('Y label(The Data)')"
   ]
  },
  {
   "cell_type": "markdown",
   "id": "0dc547e4-8d0a-4408-8b39-25aa6831d297",
   "metadata": {},
   "source": [
    "### 선형 그래프의 customize\n",
    "* plt.plot(x,y,'색,마커,선',label='범례')"
   ]
  },
  {
   "cell_type": "code",
   "execution_count": 81,
   "id": "f78aea51-0524-4bb8-b535-af6a046d92f7",
   "metadata": {},
   "outputs": [
    {
     "data": {
      "text/plain": [
       "Text(0, 0.5, 'Y label(The Data)')"
      ]
     },
     "execution_count": 81,
     "metadata": {},
     "output_type": "execute_result"
    },
    {
     "data": {
      "image/png": "[encoded data removed]",
      "text/plain": [
       "<Figure size 432x288 with 1 Axes>"
      ]
     },
     "metadata": {
      "needs_background": "light"
     },
     "output_type": "display_data"
    }
   ],
   "source": [
    "x=[1,2,3]\n",
    "y=[2,4,3]\n",
    "\n",
    "x2=[1,2,3]\n",
    "y2=[7,7,14]\n",
    "\n",
    "plt.plot(x,y,'o-g',label='First line')\n",
    "plt.plot(x2,y2,'*-.c',label='Second line')\n",
    "plt.plot(x,np.sin(x),'^--m',label='Sine(x)')\n",
    "plt.legend()   #위에 입력한 범례 label=\"My data\"를 출력.\n",
    "\n",
    "plt.title('My cool graph')\n",
    "plt.xlabel('X label(Plot Number)')\n",
    "plt.ylabel('Y label(The Data)')"
   ]
  },
  {
   "cell_type": "markdown",
   "id": "f511b311-8656-48e8-81b2-6bb2e527a71c",
   "metadata": {},
   "source": [
    "### Bar 그래프 plt.bar(x,y,)"
   ]
  },
  {
   "cell_type": "code",
   "execution_count": 82,
   "id": "3c71f363-bb08-4d4c-acbc-8e29b1e6849e",
   "metadata": {
    "tags": []
   },
   "outputs": [
    {
     "data": {
      "text/plain": [
       "Text(0.5, 1.0, 'My Cool Graph')"
      ]
     },
     "execution_count": 82,
     "metadata": {},
     "output_type": "execute_result"
    },
    {
     "data": {
      "image/png": "[encoded data removed]",
      "text/plain": [
       "<Figure size 432x288 with 1 Axes>"
      ]
     },
     "metadata": {
      "needs_background": "light"
     },
     "output_type": "display_data"
    }
   ],
   "source": [
    "x = [1, 2, 3, 4, 5] # x 축 위치\n",
    "y = [2, 4, 3, 1, 7] # y 축 높이\n",
    " \n",
    "plt.bar(x, y, label='First Bars')\n",
    "plt.legend()\n",
    "\n",
    "plt.title('My Cool Graph')\n",
    "plt.xlabel('X Label (Plot Number)')\n",
    "plt.ylabel('Y Label (The Data)')"
   ]
  },
  {
   "cell_type": "markdown",
   "id": "9fb7bad9-4c42-42b7-a8b0-857fc72f4d18",
   "metadata": {},
   "source": [
    "### Bar 그래프에 2개 이상의 데이터를 같이 표현할 때"
   ]
  },
  {
   "cell_type": "code",
   "execution_count": 92,
   "id": "4d5788c7-9771-48f0-93be-a19897b2632b",
   "metadata": {},
   "outputs": [
    {
     "data": {
      "text/plain": [
       "Text(0, 0.5, 'Y Label (The Data)')"
      ]
     },
     "execution_count": 92,
     "metadata": {},
     "output_type": "execute_result"
    },
    {
     "data": {
      "image/png": "[encoded data removed]",
      "text/plain": [
       "<Figure size 432x288 with 1 Axes>"
      ]
     },
     "metadata": {
      "needs_background": "light"
     },
     "output_type": "display_data"
    }
   ],
   "source": [
    "x = [1, 3, 5, 7, 9]\n",
    "y = [2, 4, 3, 1, 7]\n",
    " \n",
    "x2 = [2, 4, 6, 8, 10]\n",
    "y2 = [2, 4, 4, 2, 6]\n",
    " \n",
    "plt.bar(x, y, label='First Bars')\n",
    "plt.bar(x2, y2, label='Second Bars')\n",
    "plt.legend()\n",
    "\n",
    "plt.title('My Cool Graph')\n",
    "plt.xlabel('X Label (Plot Number)')\n",
    "plt.ylabel('Y Label (The Data)')"
   ]
  },
  {
   "cell_type": "markdown",
   "id": "9013c2c7-e739-41ae-acbb-1c1eaed1a4af",
   "metadata": {},
   "source": [
    "### Bar 그래프 customize\n",
    "* plt.bar(x,y,label='',color='')"
   ]
  },
  {
   "cell_type": "code",
   "execution_count": 86,
   "id": "75dc5578-e07b-4dfa-9ddd-3febcce2ec53",
   "metadata": {},
   "outputs": [
    {
     "data": {
      "text/plain": [
       "<BarContainer object of 5 artists>"
      ]
     },
     "execution_count": 86,
     "metadata": {},
     "output_type": "execute_result"
    },
    {
     "data": {
      "image/png": "[encoded data removed]",
      "text/plain": [
       "<Figure size 432x288 with 1 Axes>"
      ]
     },
     "metadata": {
      "needs_background": "light"
     },
     "output_type": "display_data"
    }
   ],
   "source": [
    "plt.bar(x, y, label='First Bars',color='purple')\n",
    "plt.bar(x2, y2, label='Second Bars',color='skyblue')"
   ]
  },
  {
   "cell_type": "markdown",
   "id": "c052fbd7-56e3-4f62-a73d-0f6743eb63d3",
   "metadata": {},
   "source": [
    "* import matplotbib.pyplot as plt\n",
    "\n",
    "### Histogram - plt.hist(리스트, bins=,) \n",
    "* plt.hist(리스트)   - 리턴: 3개\n",
    "* plt.hist(리스트, bins= , range=( , ) ,histtype='', rwidth= 등등)  \n",
    "\n",
    "##### bins: x축을 쪼개는 정도\n",
    "##### 구간을 리스트 형태로 직접 지정 or 정수 지정(전체 데이터를 몇개 구간으로 나눌지)\n",
    "##### range: x축 범위\n",
    "##### histtype=''\n",
    "##### rwidth= 그래프 두께\n",
    "\n",
    "[히스토그램: 특정 범위에 해당하는 데이터의 빈도(개수)를 표시하는 그래프, 특정구간에 빈도수가 얼마나 많은지를 확인하기 위한 그래프]"
   ]
  },
  {
   "cell_type": "code",
   "execution_count": 91,
   "id": "532b6ac0-cbdd-4ca8-b7bc-d19ecbdc32b6",
   "metadata": {},
   "outputs": [
    {
     "data": {
      "text/plain": [
       "Text(0, 0.5, 'Number of people')"
      ]
     },
     "execution_count": 91,
     "metadata": {},
     "output_type": "execute_result"
    },
    {
     "data": {
      "image/png": "[encoded data removed]",
      "text/plain": [
       "<Figure size 432x288 with 1 Axes>"
      ]
     },
     "metadata": {
      "needs_background": "light"
     },
     "output_type": "display_data"
    }
   ],
   "source": [
    "# Let's draw the histogram of the salaries.\n",
    "salaries = [55312, 88143, 57423, 65872, 68154, 77554, 72345, 79492, 52310, 88541, 97000, 105234, 73198]\n",
    "bins = [50000, 60000, 70000, 80000, 90000, 100000]  #원하는 구간 직접 정의.\n",
    "\n",
    "# plt.hist(데이터, 구간, 그외 추가적인 정보)\n",
    "plt.hist(salaries, bins, histtype='bar', rwidth=0.7)\n",
    " \n",
    "plt.title('My Cool Histogram')\n",
    "plt.xlabel('Salaries')\n",
    "plt.ylabel('Number of people')"
   ]
  },
  {
   "cell_type": "code",
   "execution_count": 90,
   "id": "82b1c783-b4e6-4c75-af9b-48fdfe004583",
   "metadata": {},
   "outputs": [
    {
     "data": {
      "text/plain": [
       "Text(0, 0.5, 'Number of people')"
      ]
     },
     "execution_count": 90,
     "metadata": {},
     "output_type": "execute_result"
    },
    {
     "data": {
      "image/png": "[encoded data removed]",
      "text/plain": [
       "<Figure size 432x288 with 1 Axes>"
      ]
     },
     "metadata": {
      "needs_background": "light"
     },
     "output_type": "display_data"
    }
   ],
   "source": [
    "# Let's draw the histogram of the salaries.\n",
    "salaries = [55312, 88143, 57423, 65872, 68154, 77554, 72345, 79492, 52310, 88541, 97000, 105234, 73198]\n",
    "#bins = [50000, 60000, 70000, 80000, 90000, 100000]\n",
    "bins = 4 # 정수를 집어넣으면 구간의 개수를 의미. \n",
    "\n",
    "# plt.hist(데이터, 구간, 그외 추가적인 정보)\n",
    "plt.hist(salaries, bins, histtype='bar', rwidth=0.5)\n",
    " \n",
    "plt.title('My Cool Histogram')\n",
    "plt.xlabel('Salaries')\n",
    "plt.ylabel('Number of people')"
   ]
  },
  {
   "cell_type": "markdown",
   "id": "4a9d2309-6f8c-4680-b9f3-7cf26f44f21f",
   "metadata": {},
   "source": [
    "### Scatter plot 분산 분포도 plt.scatter(x,y,)\n",
    "##### 목적: 데이터의 분포를 확인하기 위해 사용. \n",
    "##### plt.plot과 다른점: 점과 점사이를 잇지 않는다. \n",
    "* plt.scatter(x,y,marker='',s= )  \n",
    "##### s는 마커 사이즈"
   ]
  },
  {
   "cell_type": "code",
   "execution_count": 93,
   "id": "0fa03c4a-c194-492b-923e-9b43e77703bb",
   "metadata": {},
   "outputs": [
    {
     "data": {
      "text/plain": [
       "Text(0, 0.5, 'This is Y')"
      ]
     },
     "execution_count": 93,
     "metadata": {},
     "output_type": "execute_result"
    },
    {
     "data": {
      "image/png": "[encoded data removed]",
      "text/plain": [
       "<Figure size 432x288 with 1 Axes>"
      ]
     },
     "metadata": {
      "needs_background": "light"
     },
     "output_type": "display_data"
    }
   ],
   "source": [
    "x = [1, 2, 3, 4, 5, 6, 7, 8, 9, 10]\n",
    "y = [9, 7, 3, 5, 2, 2, 1, 1, 6, 10]\n",
    " \n",
    "plt.scatter(x, y) # 분산 분포도를 그림. \n",
    "\n",
    "plt.title('My Cool Scatter Plot')\n",
    "plt.xlabel('This is X')\n",
    "plt.ylabel('This is Y')"
   ]
  },
  {
   "cell_type": "markdown",
   "id": "61c3781c-1366-45c9-9d21-17cc42fea0b0",
   "metadata": {},
   "source": [
    "* plt.plot과 동일하게 마커를 바꿀 수 있다!"
   ]
  },
  {
   "cell_type": "code",
   "execution_count": 94,
   "id": "fe4982d3-9c2a-4d1c-8cda-1a7f24abae9c",
   "metadata": {
    "tags": []
   },
   "outputs": [
    {
     "data": {
      "text/plain": [
       "Text(0, 0.5, 'This is Y')"
      ]
     },
     "execution_count": 94,
     "metadata": {},
     "output_type": "execute_result"
    },
    {
     "data": {
      "image/png": "[encoded data removed]",
      "text/plain": [
       "<Figure size 432x288 with 1 Axes>"
      ]
     },
     "metadata": {
      "needs_background": "light"
     },
     "output_type": "display_data"
    }
   ],
   "source": [
    "x = [1, 2, 3, 4, 5, 6, 7, 8, 9, 10]\n",
    "y = [9, 7, 3, 5, 2, 2, 1, 1, 6, 10]\n",
    " \n",
    "plt.scatter(x, y, marker='*', s=200) # marker 옵션을 이용하면 마커를 바꿀 수 있다. 점의 크기는 s= 옵션을 이용해서 바꿀 수 있다. \n",
    "\n",
    "plt.title('My Cool Scatter Plot')\n",
    "plt.xlabel('This is X')\n",
    "plt.ylabel('This is Y')"
   ]
  },
  {
   "cell_type": "markdown",
   "id": "ed3bb048-463b-4549-9220-b0dac87b2a34",
   "metadata": {},
   "source": [
    "### Pie 차트 plt.pie(리스트,labels=)\n",
    "* 리스트 요소는 숫자."
   ]
  },
  {
   "cell_type": "code",
   "execution_count": 98,
   "id": "c7e69a39-77e4-4bef-861e-784a9cab148f",
   "metadata": {},
   "outputs": [
    {
     "data": {
      "text/plain": [
       "Text(0.5, 1.0, 'My Cool Pie Chart')"
      ]
     },
     "execution_count": 98,
     "metadata": {},
     "output_type": "execute_result"
    },
    {
     "data": {
      "image/png": "[encoded data removed]",
      "text/plain": [
       "<Figure size 432x288 with 1 Axes>"
      ]
     },
     "metadata": {},
     "output_type": "display_data"
    }
   ],
   "source": [
    "#날짜: 1~5\n",
    "days = [1, 2, 3, 4, 5]\n",
    "\n",
    "#날짜별 사용 시간\n",
    "emails = [1, 1, 2, 3, 1]\n",
    "codereviews = [2, 1, 1, 2, 3]\n",
    "bugreports = [0, 0, 1, 0, 2]\n",
    "internet = [3, 4, 2, 2, 5]\n",
    "\n",
    "#pie chart에 표현할 리스트\n",
    "slices = [sum(emails), sum(codereviews), sum(bugreports), sum(internet)]\n",
    "\n",
    "#각 리스트 요소에 해당하는 레이블 리스트\n",
    "tasks = ['emails', 'codereviews', 'bugreports', 'internet'] \n",
    "\n",
    "plt.pie(slices, labels=tasks)\n",
    "plt.legend(loc='lower center') # loc (location의 줄임말.) #loc=\"best\": 그림과 그래프가 최대한 겹치지 않게. \n",
    " \n",
    "plt.title('My Cool Pie Chart')"
   ]
  },
  {
   "cell_type": "markdown",
   "id": "5ec83081-70ad-465c-b681-fd77b87ca4f2",
   "metadata": {},
   "source": [
    "### Matplotlib 스타일 plt.style.use('스타일이름')\n",
    "* 다양한 style을 사용할 수 있다. 한번 실행시키면 됨.\n",
    "* https://matplotlib.org/3.1.1/gallery/style_sheets/style_sheets_reference.html\n",
    "* https://tonysyu.github.io/raw_content/matplotlib-style-gallery/gallery.html\n",
    "* 스타일 이름: Solarize_Light2, _classic_test_patch, bmh, classic, dark_background, fast, fivethirtyeight, ggplot, grayscale, seaborn, seaborn-bright, seaborn-colorblind, seaborn-dark, seaborn-dark-palette, seaborn-darkgrid, seaborn-deep, seaborn-muted, seaborn-notebook, seaborn-paper, seaborn-pastel, seaborn-poster, seaborn-talk, seaborn-ticks, seaborn-white, seaborn-whitegrid, and tableau-colorblind10. "
   ]
  },
  {
   "cell_type": "code",
   "execution_count": 105,
   "id": "d0908c22-33c3-4187-8b02-402becf48ae4",
   "metadata": {},
   "outputs": [],
   "source": [
    "plt.style.use('dark_background')"
   ]
  },
  {
   "cell_type": "code",
   "execution_count": 106,
   "id": "3082cb93-668f-4d4d-b675-6cf2375e2a06",
   "metadata": {},
   "outputs": [
    {
     "data": {
      "text/plain": [
       "Text(0, 0.5, 'This is Y')"
      ]
     },
     "execution_count": 106,
     "metadata": {},
     "output_type": "execute_result"
    },
    {
     "data": {
      "image/png": "[encoded data removed]",
      "text/plain": [
       "<Figure size 432x288 with 1 Axes>"
      ]
     },
     "metadata": {},
     "output_type": "display_data"
    }
   ],
   "source": [
    "x = [1, 2, 3, 4, 5, 6, 7, 8, 9, 10]\n",
    "y = [9, 7, 3, 5, 2, 2, 1, 1, 6, 10]\n",
    " \n",
    "plt.scatter(x, y) # 분산 분포도를 그림. \n",
    "\n",
    "plt.title('My Cool Scatter Plot')\n",
    "plt.xlabel('This is X')\n",
    "plt.ylabel('This is Y')"
   ]
  },
  {
   "cell_type": "markdown",
   "id": "badb0ec7-9ee0-40c6-803e-fe4083729e36",
   "metadata": {},
   "source": [
    "### xkcd 스타일"
   ]
  },
  {
   "cell_type": "code",
   "execution_count": 108,
   "id": "6a72b96d-d222-4678-a8ab-c99b0ea99547",
   "metadata": {},
   "outputs": [
    {
     "data": {
      "text/plain": [
       "Text(0, 0.5, 'Y Label (The Data)')"
      ]
     },
     "execution_count": 108,
     "metadata": {},
     "output_type": "execute_result"
    },
    {
     "data": {
      "image/png": "[encoded data removed]",
      "text/plain": [
       "<Figure size 432x288 with 1 Axes>"
      ]
     },
     "metadata": {},
     "output_type": "display_data"
    }
   ],
   "source": [
    "with plt.xkcd():\n",
    "    plt.bar(x, y, label='First Bars')\n",
    "plt.legend()\n",
    "\n",
    "plt.title('My Cool Graph')\n",
    "plt.xlabel('X Label (Plot Number)')\n",
    "plt.ylabel('Y Label (The Data)')"
   ]
  },
  {
   "cell_type": "markdown",
   "id": "9aff46b5-6e1a-43cc-b595-fd0f2ff9e9a1",
   "metadata": {},
   "source": [
    "------------------\n",
    "# ★ Maching Learning 기본 순서 ★\n",
    "1. 전체 dataset을 불러옴. (데이터를 모음)\n",
    "2. traing set / test set으로 나눔.\n",
    "3. 빈 모델을 만듦.\n",
    "4. 빈 모델에 traing set을 넣어 모델을 학습시킴.\n",
    "5. 학습된 모델에 test set을 넣어 얼마나 잘 했는지 확인.\n",
    "------------"
   ]
  },
  {
   "cell_type": "markdown",
   "id": "72560e4f-85be-42cb-a947-b9126d83b013",
   "metadata": {},
   "source": [
    "# <span style=\"color:blue\">12주차(1) Machine learning - sklearn (datasets, Decision tree)</span>"
   ]
  },
  {
   "cell_type": "code",
   "execution_count": 1,
   "id": "b6eda1c5-78f5-44e0-8e1f-43cac1800dee",
   "metadata": {
    "collapsed": true,
    "jupyter": {
     "outputs_hidden": true
    },
    "tags": []
   },
   "outputs": [
    {
     "name": "stdout",
     "output_type": "stream",
     "text": [
      "Collecting package metadata (current_repodata.json): ...working... done\n",
      "Solving environment: ...working... done\n",
      "\n",
      "## Package Plan ##\n",
      "\n",
      "  environment location: C:\\Users\\Ohyeseul\\anaconda3\n",
      "\n",
      "  added / updated specs:\n",
      "    - scikit-learn\n",
      "\n",
      "\n",
      "The following packages will be downloaded:\n",
      "\n",
      "    package                    |            build\n",
      "    ---------------------------|-----------------\n",
      "    conda-4.11.0               |   py38haa95532_0        14.4 MB\n",
      "    ------------------------------------------------------------\n",
      "                                           Total:        14.4 MB\n",
      "\n",
      "The following packages will be SUPERSEDED by a higher-priority channel:\n",
      "\n",
      "  conda              conda-forge::conda-4.11.0-py38haa244f~ --> pkgs/main::conda-4.11.0-py38haa95532_0\n",
      "\n",
      "\n",
      "Preparing transaction: ...working... done\n",
      "Verifying transaction: ...working... done\n",
      "Executing transaction: ...working... done\n"
     ]
    }
   ],
   "source": [
    "!conda install scikit-learn -y -q"
   ]
  },
  {
   "cell_type": "markdown",
   "id": "2717cd9d-b654-452c-9b99-77a336215ca5",
   "metadata": {},
   "source": [
    "### datasets \n",
    "* from sklearn import datasets"
   ]
  },
  {
   "cell_type": "code",
   "execution_count": 15,
   "id": "73268b94-96ca-4f97-9b9f-7dac177726e4",
   "metadata": {},
   "outputs": [],
   "source": [
    "import sklearn\n",
    "from sklearn import datasets"
   ]
  },
  {
   "cell_type": "code",
   "execution_count": 16,
   "id": "7b558e5d-4f97-472a-bf30-e2d5edb238db",
   "metadata": {
    "collapsed": true,
    "jupyter": {
     "outputs_hidden": true
    },
    "tags": []
   },
   "outputs": [
    {
     "data": {
      "text/plain": [
       "['__all__',\n",
       " '__builtins__',\n",
       " '__cached__',\n",
       " '__doc__',\n",
       " '__file__',\n",
       " '__loader__',\n",
       " '__name__',\n",
       " '__package__',\n",
       " '__path__',\n",
       " '__spec__',\n",
       " '_base',\n",
       " '_california_housing',\n",
       " '_covtype',\n",
       " '_kddcup99',\n",
       " '_lfw',\n",
       " '_olivetti_faces',\n",
       " '_openml',\n",
       " '_rcv1',\n",
       " '_samples_generator',\n",
       " '_species_distributions',\n",
       " '_svmlight_format_fast',\n",
       " '_svmlight_format_io',\n",
       " '_twenty_newsgroups',\n",
       " 'clear_data_home',\n",
       " 'dump_svmlight_file',\n",
       " 'fetch_20newsgroups',\n",
       " 'fetch_20newsgroups_vectorized',\n",
       " 'fetch_california_housing',\n",
       " 'fetch_covtype',\n",
       " 'fetch_kddcup99',\n",
       " 'fetch_lfw_pairs',\n",
       " 'fetch_lfw_people',\n",
       " 'fetch_olivetti_faces',\n",
       " 'fetch_openml',\n",
       " 'fetch_rcv1',\n",
       " 'fetch_species_distributions',\n",
       " 'get_data_home',\n",
       " 'load_boston',\n",
       " 'load_breast_cancer',\n",
       " 'load_diabetes',\n",
       " 'load_digits',\n",
       " 'load_files',\n",
       " 'load_iris',\n",
       " 'load_linnerud',\n",
       " 'load_sample_image',\n",
       " 'load_sample_images',\n",
       " 'load_svmlight_file',\n",
       " 'load_svmlight_files',\n",
       " 'load_wine',\n",
       " 'make_biclusters',\n",
       " 'make_blobs',\n",
       " 'make_checkerboard',\n",
       " 'make_circles',\n",
       " 'make_classification',\n",
       " 'make_friedman1',\n",
       " 'make_friedman2',\n",
       " 'make_friedman3',\n",
       " 'make_gaussian_quantiles',\n",
       " 'make_hastie_10_2',\n",
       " 'make_low_rank_matrix',\n",
       " 'make_moons',\n",
       " 'make_multilabel_classification',\n",
       " 'make_regression',\n",
       " 'make_s_curve',\n",
       " 'make_sparse_coded_signal',\n",
       " 'make_sparse_spd_matrix',\n",
       " 'make_sparse_uncorrelated',\n",
       " 'make_spd_matrix',\n",
       " 'make_swiss_roll']"
      ]
     },
     "execution_count": 16,
     "metadata": {},
     "output_type": "execute_result"
    }
   ],
   "source": [
    "dir(datasets)"
   ]
  },
  {
   "cell_type": "markdown",
   "id": "56a6c7ee-db94-40c2-9746-909b25894e88",
   "metadata": {},
   "source": [
    "### Iris 예제\n",
    "- 먼저 iris 데이터셋 불러오기"
   ]
  },
  {
   "cell_type": "code",
   "execution_count": 17,
   "id": "b2a6c5d5-9865-4486-91c3-2f6fe647df1f",
   "metadata": {},
   "outputs": [],
   "source": [
    "iris=datasets.load_iris()"
   ]
  },
  {
   "cell_type": "code",
   "execution_count": 21,
   "id": "1f6ac75f-2a50-4e3b-8df9-53cae5a766dc",
   "metadata": {
    "tags": []
   },
   "outputs": [
    {
     "data": {
      "text/plain": [
       "sklearn.utils.Bunch"
      ]
     },
     "execution_count": 21,
     "metadata": {},
     "output_type": "execute_result"
    }
   ],
   "source": [
    "type(load_iris())"
   ]
  },
  {
   "cell_type": "code",
   "execution_count": 20,
   "id": "2fe8b0d0-bdec-4b90-b6fb-df8b9d144547",
   "metadata": {
    "tags": []
   },
   "outputs": [
    {
     "data": {
      "text/plain": [
       "sklearn.utils.Bunch"
      ]
     },
     "execution_count": 20,
     "metadata": {},
     "output_type": "execute_result"
    }
   ],
   "source": [
    "type(iris)    #iris변수가 sklearn안의 어떤 클래스가 된것을 확인."
   ]
  },
  {
   "cell_type": "markdown",
   "id": "961fb2af-00aa-4a78-83ff-7f069db69931",
   "metadata": {},
   "source": [
    "<dataset을 불러온 후 할 수 있는 것들 예시. dir()로 확인 가능.>\n",
    "\n",
    "iris.DESCR\n",
    "\n",
    "iris.data\n",
    "\n",
    "iris.data.shape\n",
    "\n",
    "iris.feature_names\n",
    "\n",
    "iris.target\n",
    "\n",
    "iris.target.shape"
   ]
  },
  {
   "cell_type": "code",
   "execution_count": null,
   "id": "35b1523c-c8c5-4512-9527-5b06ae163862",
   "metadata": {
    "tags": []
   },
   "outputs": [],
   "source": [
    "dir(iris)"
   ]
  },
  {
   "cell_type": "code",
   "execution_count": null,
   "id": "ac62457d-9978-4612-a55a-ae6236b8f88d",
   "metadata": {
    "tags": []
   },
   "outputs": [],
   "source": [
    "print(iris.DESCR)"
   ]
  },
  {
   "cell_type": "code",
   "execution_count": null,
   "id": "43b41383-cc7b-4b26-8431-753b45489147",
   "metadata": {
    "tags": []
   },
   "outputs": [],
   "source": [
    "iris.data          #input"
   ]
  },
  {
   "cell_type": "code",
   "execution_count": null,
   "id": "ad442d66-59b1-4276-b193-b8e1d97c31df",
   "metadata": {},
   "outputs": [],
   "source": [
    "iris.data.shape   #이 데이터가 150*4 형태의 행렬임을 의미."
   ]
  },
  {
   "cell_type": "code",
   "execution_count": 22,
   "id": "e795f5e7-ac0e-46e8-95de-85b5259bd3f4",
   "metadata": {},
   "outputs": [
    {
     "data": {
      "text/plain": [
       "numpy.ndarray"
      ]
     },
     "execution_count": 22,
     "metadata": {},
     "output_type": "execute_result"
    }
   ],
   "source": [
    "type(iris.data)"
   ]
  },
  {
   "cell_type": "code",
   "execution_count": 24,
   "id": "99d33b90-8348-4698-8660-48630544378b",
   "metadata": {
    "collapsed": true,
    "jupyter": {
     "outputs_hidden": true
    },
    "tags": []
   },
   "outputs": [
    {
     "data": {
      "text/plain": [
       "['sepal length (cm)',\n",
       " 'sepal width (cm)',\n",
       " 'petal length (cm)',\n",
       " 'petal width (cm)']"
      ]
     },
     "execution_count": 24,
     "metadata": {},
     "output_type": "execute_result"
    }
   ],
   "source": [
    "iris.feature_names"
   ]
  },
  {
   "cell_type": "code",
   "execution_count": 25,
   "id": "e241c46c-4577-42dc-8393-4e8f74af250c",
   "metadata": {
    "tags": []
   },
   "outputs": [
    {
     "data": {
      "text/plain": [
       "array([0, 0, 0, 0, 0, 0, 0, 0, 0, 0, 0, 0, 0, 0, 0, 0, 0, 0, 0, 0, 0, 0,\n",
       "       0, 0, 0, 0, 0, 0, 0, 0, 0, 0, 0, 0, 0, 0, 0, 0, 0, 0, 0, 0, 0, 0,\n",
       "       0, 0, 0, 0, 0, 0, 1, 1, 1, 1, 1, 1, 1, 1, 1, 1, 1, 1, 1, 1, 1, 1,\n",
       "       1, 1, 1, 1, 1, 1, 1, 1, 1, 1, 1, 1, 1, 1, 1, 1, 1, 1, 1, 1, 1, 1,\n",
       "       1, 1, 1, 1, 1, 1, 1, 1, 1, 1, 1, 1, 2, 2, 2, 2, 2, 2, 2, 2, 2, 2,\n",
       "       2, 2, 2, 2, 2, 2, 2, 2, 2, 2, 2, 2, 2, 2, 2, 2, 2, 2, 2, 2, 2, 2,\n",
       "       2, 2, 2, 2, 2, 2, 2, 2, 2, 2, 2, 2, 2, 2, 2, 2, 2, 2])"
      ]
     },
     "execution_count": 25,
     "metadata": {},
     "output_type": "execute_result"
    }
   ],
   "source": [
    "iris.target      #output"
   ]
  },
  {
   "cell_type": "code",
   "execution_count": 26,
   "id": "6ef38948-87b3-4fde-92e0-d8c819ec4fa4",
   "metadata": {
    "tags": []
   },
   "outputs": [
    {
     "data": {
      "text/plain": [
       "(150,)"
      ]
     },
     "execution_count": 26,
     "metadata": {},
     "output_type": "execute_result"
    }
   ],
   "source": [
    "iris.target.shape"
   ]
  },
  {
   "cell_type": "markdown",
   "id": "4494b72c-ca41-414a-a2cf-520a5f01c1ed",
   "metadata": {},
   "source": [
    "### Decision tree (의사결정 나무)\n",
    "* from sklearn import tree\n"
   ]
  },
  {
   "cell_type": "code",
   "execution_count": 28,
   "id": "17e3f2b6-8c1f-431a-8c33-4f946fb763ce",
   "metadata": {},
   "outputs": [],
   "source": [
    "from sklearn import tree"
   ]
  },
  {
   "cell_type": "code",
   "execution_count": 29,
   "id": "9d7a153b-2239-4825-9b6a-6e9db23abd4e",
   "metadata": {},
   "outputs": [],
   "source": [
    "#iris=datasets.load_iris() 이 경우 하나의 변수로 받음 (~.Bunch라는 클래스 type으로 받음)\n",
    "X,y = datasets.load_iris(return_X_y=True)       #두개의 변수로 받음. X:inpurt,y:output"
   ]
  },
  {
   "cell_type": "code",
   "execution_count": 30,
   "id": "e7b96b20-80fc-4170-8093-9e2763053f6f",
   "metadata": {
    "collapsed": true,
    "jupyter": {
     "outputs_hidden": true
    },
    "tags": []
   },
   "outputs": [
    {
     "data": {
      "text/plain": [
       "array([[5.1, 3.5, 1.4, 0.2],\n",
       "       [4.9, 3. , 1.4, 0.2],\n",
       "       [4.7, 3.2, 1.3, 0.2],\n",
       "       [4.6, 3.1, 1.5, 0.2],\n",
       "       [5. , 3.6, 1.4, 0.2],\n",
       "       [5.4, 3.9, 1.7, 0.4],\n",
       "       [4.6, 3.4, 1.4, 0.3],\n",
       "       [5. , 3.4, 1.5, 0.2],\n",
       "       [4.4, 2.9, 1.4, 0.2],\n",
       "       [4.9, 3.1, 1.5, 0.1],\n",
       "       [5.4, 3.7, 1.5, 0.2],\n",
       "       [4.8, 3.4, 1.6, 0.2],\n",
       "       [4.8, 3. , 1.4, 0.1],\n",
       "       [4.3, 3. , 1.1, 0.1],\n",
       "       [5.8, 4. , 1.2, 0.2],\n",
       "       [5.7, 4.4, 1.5, 0.4],\n",
       "       [5.4, 3.9, 1.3, 0.4],\n",
       "       [5.1, 3.5, 1.4, 0.3],\n",
       "       [5.7, 3.8, 1.7, 0.3],\n",
       "       [5.1, 3.8, 1.5, 0.3],\n",
       "       [5.4, 3.4, 1.7, 0.2],\n",
       "       [5.1, 3.7, 1.5, 0.4],\n",
       "       [4.6, 3.6, 1. , 0.2],\n",
       "       [5.1, 3.3, 1.7, 0.5],\n",
       "       [4.8, 3.4, 1.9, 0.2],\n",
       "       [5. , 3. , 1.6, 0.2],\n",
       "       [5. , 3.4, 1.6, 0.4],\n",
       "       [5.2, 3.5, 1.5, 0.2],\n",
       "       [5.2, 3.4, 1.4, 0.2],\n",
       "       [4.7, 3.2, 1.6, 0.2],\n",
       "       [4.8, 3.1, 1.6, 0.2],\n",
       "       [5.4, 3.4, 1.5, 0.4],\n",
       "       [5.2, 4.1, 1.5, 0.1],\n",
       "       [5.5, 4.2, 1.4, 0.2],\n",
       "       [4.9, 3.1, 1.5, 0.2],\n",
       "       [5. , 3.2, 1.2, 0.2],\n",
       "       [5.5, 3.5, 1.3, 0.2],\n",
       "       [4.9, 3.6, 1.4, 0.1],\n",
       "       [4.4, 3. , 1.3, 0.2],\n",
       "       [5.1, 3.4, 1.5, 0.2],\n",
       "       [5. , 3.5, 1.3, 0.3],\n",
       "       [4.5, 2.3, 1.3, 0.3],\n",
       "       [4.4, 3.2, 1.3, 0.2],\n",
       "       [5. , 3.5, 1.6, 0.6],\n",
       "       [5.1, 3.8, 1.9, 0.4],\n",
       "       [4.8, 3. , 1.4, 0.3],\n",
       "       [5.1, 3.8, 1.6, 0.2],\n",
       "       [4.6, 3.2, 1.4, 0.2],\n",
       "       [5.3, 3.7, 1.5, 0.2],\n",
       "       [5. , 3.3, 1.4, 0.2],\n",
       "       [7. , 3.2, 4.7, 1.4],\n",
       "       [6.4, 3.2, 4.5, 1.5],\n",
       "       [6.9, 3.1, 4.9, 1.5],\n",
       "       [5.5, 2.3, 4. , 1.3],\n",
       "       [6.5, 2.8, 4.6, 1.5],\n",
       "       [5.7, 2.8, 4.5, 1.3],\n",
       "       [6.3, 3.3, 4.7, 1.6],\n",
       "       [4.9, 2.4, 3.3, 1. ],\n",
       "       [6.6, 2.9, 4.6, 1.3],\n",
       "       [5.2, 2.7, 3.9, 1.4],\n",
       "       [5. , 2. , 3.5, 1. ],\n",
       "       [5.9, 3. , 4.2, 1.5],\n",
       "       [6. , 2.2, 4. , 1. ],\n",
       "       [6.1, 2.9, 4.7, 1.4],\n",
       "       [5.6, 2.9, 3.6, 1.3],\n",
       "       [6.7, 3.1, 4.4, 1.4],\n",
       "       [5.6, 3. , 4.5, 1.5],\n",
       "       [5.8, 2.7, 4.1, 1. ],\n",
       "       [6.2, 2.2, 4.5, 1.5],\n",
       "       [5.6, 2.5, 3.9, 1.1],\n",
       "       [5.9, 3.2, 4.8, 1.8],\n",
       "       [6.1, 2.8, 4. , 1.3],\n",
       "       [6.3, 2.5, 4.9, 1.5],\n",
       "       [6.1, 2.8, 4.7, 1.2],\n",
       "       [6.4, 2.9, 4.3, 1.3],\n",
       "       [6.6, 3. , 4.4, 1.4],\n",
       "       [6.8, 2.8, 4.8, 1.4],\n",
       "       [6.7, 3. , 5. , 1.7],\n",
       "       [6. , 2.9, 4.5, 1.5],\n",
       "       [5.7, 2.6, 3.5, 1. ],\n",
       "       [5.5, 2.4, 3.8, 1.1],\n",
       "       [5.5, 2.4, 3.7, 1. ],\n",
       "       [5.8, 2.7, 3.9, 1.2],\n",
       "       [6. , 2.7, 5.1, 1.6],\n",
       "       [5.4, 3. , 4.5, 1.5],\n",
       "       [6. , 3.4, 4.5, 1.6],\n",
       "       [6.7, 3.1, 4.7, 1.5],\n",
       "       [6.3, 2.3, 4.4, 1.3],\n",
       "       [5.6, 3. , 4.1, 1.3],\n",
       "       [5.5, 2.5, 4. , 1.3],\n",
       "       [5.5, 2.6, 4.4, 1.2],\n",
       "       [6.1, 3. , 4.6, 1.4],\n",
       "       [5.8, 2.6, 4. , 1.2],\n",
       "       [5. , 2.3, 3.3, 1. ],\n",
       "       [5.6, 2.7, 4.2, 1.3],\n",
       "       [5.7, 3. , 4.2, 1.2],\n",
       "       [5.7, 2.9, 4.2, 1.3],\n",
       "       [6.2, 2.9, 4.3, 1.3],\n",
       "       [5.1, 2.5, 3. , 1.1],\n",
       "       [5.7, 2.8, 4.1, 1.3],\n",
       "       [6.3, 3.3, 6. , 2.5],\n",
       "       [5.8, 2.7, 5.1, 1.9],\n",
       "       [7.1, 3. , 5.9, 2.1],\n",
       "       [6.3, 2.9, 5.6, 1.8],\n",
       "       [6.5, 3. , 5.8, 2.2],\n",
       "       [7.6, 3. , 6.6, 2.1],\n",
       "       [4.9, 2.5, 4.5, 1.7],\n",
       "       [7.3, 2.9, 6.3, 1.8],\n",
       "       [6.7, 2.5, 5.8, 1.8],\n",
       "       [7.2, 3.6, 6.1, 2.5],\n",
       "       [6.5, 3.2, 5.1, 2. ],\n",
       "       [6.4, 2.7, 5.3, 1.9],\n",
       "       [6.8, 3. , 5.5, 2.1],\n",
       "       [5.7, 2.5, 5. , 2. ],\n",
       "       [5.8, 2.8, 5.1, 2.4],\n",
       "       [6.4, 3.2, 5.3, 2.3],\n",
       "       [6.5, 3. , 5.5, 1.8],\n",
       "       [7.7, 3.8, 6.7, 2.2],\n",
       "       [7.7, 2.6, 6.9, 2.3],\n",
       "       [6. , 2.2, 5. , 1.5],\n",
       "       [6.9, 3.2, 5.7, 2.3],\n",
       "       [5.6, 2.8, 4.9, 2. ],\n",
       "       [7.7, 2.8, 6.7, 2. ],\n",
       "       [6.3, 2.7, 4.9, 1.8],\n",
       "       [6.7, 3.3, 5.7, 2.1],\n",
       "       [7.2, 3.2, 6. , 1.8],\n",
       "       [6.2, 2.8, 4.8, 1.8],\n",
       "       [6.1, 3. , 4.9, 1.8],\n",
       "       [6.4, 2.8, 5.6, 2.1],\n",
       "       [7.2, 3. , 5.8, 1.6],\n",
       "       [7.4, 2.8, 6.1, 1.9],\n",
       "       [7.9, 3.8, 6.4, 2. ],\n",
       "       [6.4, 2.8, 5.6, 2.2],\n",
       "       [6.3, 2.8, 5.1, 1.5],\n",
       "       [6.1, 2.6, 5.6, 1.4],\n",
       "       [7.7, 3. , 6.1, 2.3],\n",
       "       [6.3, 3.4, 5.6, 2.4],\n",
       "       [6.4, 3.1, 5.5, 1.8],\n",
       "       [6. , 3. , 4.8, 1.8],\n",
       "       [6.9, 3.1, 5.4, 2.1],\n",
       "       [6.7, 3.1, 5.6, 2.4],\n",
       "       [6.9, 3.1, 5.1, 2.3],\n",
       "       [5.8, 2.7, 5.1, 1.9],\n",
       "       [6.8, 3.2, 5.9, 2.3],\n",
       "       [6.7, 3.3, 5.7, 2.5],\n",
       "       [6.7, 3. , 5.2, 2.3],\n",
       "       [6.3, 2.5, 5. , 1.9],\n",
       "       [6.5, 3. , 5.2, 2. ],\n",
       "       [6.2, 3.4, 5.4, 2.3],\n",
       "       [5.9, 3. , 5.1, 1.8]])"
      ]
     },
     "execution_count": 30,
     "metadata": {},
     "output_type": "execute_result"
    }
   ],
   "source": [
    "X"
   ]
  },
  {
   "cell_type": "code",
   "execution_count": 31,
   "id": "200499ff-5817-42cd-99a2-4cc98c3cb43c",
   "metadata": {},
   "outputs": [
    {
     "data": {
      "text/plain": [
       "(150, 4)"
      ]
     },
     "execution_count": 31,
     "metadata": {},
     "output_type": "execute_result"
    }
   ],
   "source": [
    "X.shape"
   ]
  },
  {
   "cell_type": "code",
   "execution_count": 32,
   "id": "d3d6f498-cf63-42bd-b447-915f6a8d4944",
   "metadata": {},
   "outputs": [],
   "source": [
    "# 빈 껍데기 class 생성.\n",
    "clf = tree.DecisionTreeClassifier()"
   ]
  },
  {
   "cell_type": "code",
   "execution_count": 33,
   "id": "68475480-c8b1-4049-be30-f19481a653c8",
   "metadata": {},
   "outputs": [],
   "source": [
    "# 실제 학습 시킴.\n",
    "clf = clf.fit(X,y)   #fittin을 해라. (= 학습해라.) 그리고 다시 자기 자신에다 집어넣어라."
   ]
  },
  {
   "cell_type": "code",
   "execution_count": 34,
   "id": "17120a79-bcfb-4577-83e9-87b2fbe748d7",
   "metadata": {},
   "outputs": [
    {
     "data": {
      "text/plain": [
       "[Text(167.4, 199.32, 'X[2] <= 2.45\\ngini = 0.667\\nsamples = 150\\nvalue = [50, 50, 50]'),\n",
       " Text(141.64615384615385, 163.07999999999998, 'gini = 0.0\\nsamples = 50\\nvalue = [50, 0, 0]'),\n",
       " Text(193.15384615384616, 163.07999999999998, 'X[3] <= 1.75\\ngini = 0.5\\nsamples = 100\\nvalue = [0, 50, 50]'),\n",
       " Text(103.01538461538462, 126.83999999999999, 'X[2] <= 4.95\\ngini = 0.168\\nsamples = 54\\nvalue = [0, 49, 5]'),\n",
       " Text(51.50769230769231, 90.6, 'X[3] <= 1.65\\ngini = 0.041\\nsamples = 48\\nvalue = [0, 47, 1]'),\n",
       " Text(25.753846153846155, 54.359999999999985, 'gini = 0.0\\nsamples = 47\\nvalue = [0, 47, 0]'),\n",
       " Text(77.26153846153846, 54.359999999999985, 'gini = 0.0\\nsamples = 1\\nvalue = [0, 0, 1]'),\n",
       " Text(154.52307692307693, 90.6, 'X[3] <= 1.55\\ngini = 0.444\\nsamples = 6\\nvalue = [0, 2, 4]'),\n",
       " Text(128.76923076923077, 54.359999999999985, 'gini = 0.0\\nsamples = 3\\nvalue = [0, 0, 3]'),\n",
       " Text(180.27692307692308, 54.359999999999985, 'X[2] <= 5.45\\ngini = 0.444\\nsamples = 3\\nvalue = [0, 2, 1]'),\n",
       " Text(154.52307692307693, 18.119999999999976, 'gini = 0.0\\nsamples = 2\\nvalue = [0, 2, 0]'),\n",
       " Text(206.03076923076924, 18.119999999999976, 'gini = 0.0\\nsamples = 1\\nvalue = [0, 0, 1]'),\n",
       " Text(283.2923076923077, 126.83999999999999, 'X[2] <= 4.85\\ngini = 0.043\\nsamples = 46\\nvalue = [0, 1, 45]'),\n",
       " Text(257.53846153846155, 90.6, 'X[1] <= 3.1\\ngini = 0.444\\nsamples = 3\\nvalue = [0, 1, 2]'),\n",
       " Text(231.7846153846154, 54.359999999999985, 'gini = 0.0\\nsamples = 2\\nvalue = [0, 0, 2]'),\n",
       " Text(283.2923076923077, 54.359999999999985, 'gini = 0.0\\nsamples = 1\\nvalue = [0, 1, 0]'),\n",
       " Text(309.04615384615386, 90.6, 'gini = 0.0\\nsamples = 43\\nvalue = [0, 0, 43]')]"
      ]
     },
     "execution_count": 34,
     "metadata": {},
     "output_type": "execute_result"
    },
    {
     "data": {
      "image/png": "[encoded data removed]",
      "text/plain": [
       "<Figure size 432x288 with 1 Axes>"
      ]
     },
     "metadata": {
      "needs_background": "light"
     },
     "output_type": "display_data"
    }
   ],
   "source": [
    "tree.plot_tree(clf)    #시각화"
   ]
  },
  {
   "cell_type": "code",
   "execution_count": 37,
   "id": "fa4c258c-d7f8-4651-809b-858fda3bc458",
   "metadata": {},
   "outputs": [],
   "source": [
    "import matplotlib\n",
    "import matplotlib.pyplot as plt   \n",
    "%matplotlib inline     "
   ]
  },
  {
   "cell_type": "code",
   "execution_count": 40,
   "id": "73504876-279e-4f77-bfa0-60b2dbdef27f",
   "metadata": {},
   "outputs": [
    {
     "data": {
      "text/plain": [
       "[Text(446.4, 797.28, 'X[2] <= 2.45\\ngini = 0.667\\nsamples = 150\\nvalue = [50, 50, 50]'),\n",
       " Text(377.7230769230769, 652.3199999999999, 'gini = 0.0\\nsamples = 50\\nvalue = [50, 0, 0]'),\n",
       " Text(515.0769230769231, 652.3199999999999, 'X[3] <= 1.75\\ngini = 0.5\\nsamples = 100\\nvalue = [0, 50, 50]'),\n",
       " Text(274.7076923076923, 507.35999999999996, 'X[2] <= 4.95\\ngini = 0.168\\nsamples = 54\\nvalue = [0, 49, 5]'),\n",
       " Text(137.35384615384615, 362.4, 'X[3] <= 1.65\\ngini = 0.041\\nsamples = 48\\nvalue = [0, 47, 1]'),\n",
       " Text(68.67692307692307, 217.43999999999994, 'gini = 0.0\\nsamples = 47\\nvalue = [0, 47, 0]'),\n",
       " Text(206.03076923076924, 217.43999999999994, 'gini = 0.0\\nsamples = 1\\nvalue = [0, 0, 1]'),\n",
       " Text(412.0615384615385, 362.4, 'X[3] <= 1.55\\ngini = 0.444\\nsamples = 6\\nvalue = [0, 2, 4]'),\n",
       " Text(343.38461538461536, 217.43999999999994, 'gini = 0.0\\nsamples = 3\\nvalue = [0, 0, 3]'),\n",
       " Text(480.73846153846154, 217.43999999999994, 'X[2] <= 5.45\\ngini = 0.444\\nsamples = 3\\nvalue = [0, 2, 1]'),\n",
       " Text(412.0615384615385, 72.4799999999999, 'gini = 0.0\\nsamples = 2\\nvalue = [0, 2, 0]'),\n",
       " Text(549.4153846153846, 72.4799999999999, 'gini = 0.0\\nsamples = 1\\nvalue = [0, 0, 1]'),\n",
       " Text(755.4461538461538, 507.35999999999996, 'X[2] <= 4.85\\ngini = 0.043\\nsamples = 46\\nvalue = [0, 1, 45]'),\n",
       " Text(686.7692307692307, 362.4, 'X[1] <= 3.1\\ngini = 0.444\\nsamples = 3\\nvalue = [0, 1, 2]'),\n",
       " Text(618.0923076923077, 217.43999999999994, 'gini = 0.0\\nsamples = 2\\nvalue = [0, 0, 2]'),\n",
       " Text(755.4461538461538, 217.43999999999994, 'gini = 0.0\\nsamples = 1\\nvalue = [0, 1, 0]'),\n",
       " Text(824.123076923077, 362.4, 'gini = 0.0\\nsamples = 43\\nvalue = [0, 0, 43]')]"
      ]
     },
     "execution_count": 40,
     "metadata": {},
     "output_type": "execute_result"
    },
    {
     "data": {
      "image/png": "[encoded data removed]",
      "text/plain": [
       "<Figure size 1152x1152 with 1 Axes>"
      ]
     },
     "metadata": {
      "needs_background": "light"
     },
     "output_type": "display_data"
    }
   ],
   "source": [
    "fig = plt.figure(1,figsize=(16,16))  #1번이라는 빈그림파일 하나를 16x16 size로 생성.\n",
    "ax1 = fig.add_subplot(111) #하나의 그림에 여러개의 plot을 그릴 떄 (가로몇개/세로몇개/내가지금그리는 그림이 몇번인지) #그래프 하나만 그릴 떄는 111을 써주면 됨.\n",
    "tree.plot_tree(clf,ax=ax1) #앞의 ax는 옵션이름. #뒤의 ax는 위에 적은 축. "
   ]
  },
  {
   "cell_type": "markdown",
   "id": "9e0f9e2e-75a3-402e-be87-8e4e5dfefbe5",
   "metadata": {},
   "source": [
    "# <span style=\"color:blue\">12주차(2) Pandas(엑셀) - Series(1D), DataFrame(2D)</span>\n",
    "* s = pd.Series([직접입력])\n",
    "* df = pd.DataFrame([직접입력])\n",
    "* df2 = pd.read_csv('파일명.csv')"
   ]
  },
  {
   "cell_type": "code",
   "execution_count": 41,
   "id": "cf5027ac-bb08-493a-9584-3a5e9ecebae3",
   "metadata": {
    "collapsed": true,
    "jupyter": {
     "outputs_hidden": true
    },
    "tags": []
   },
   "outputs": [
    {
     "name": "stdout",
     "output_type": "stream",
     "text": [
      "Collecting package metadata (current_repodata.json): ...working... done\n",
      "Solving environment: ...working... done\n",
      "\n",
      "# All requested packages already installed.\n",
      "\n"
     ]
    }
   ],
   "source": [
    "!conda install pandas scikit-learn matplotlib numpy -y -q "
   ]
  },
  {
   "cell_type": "code",
   "execution_count": 43,
   "id": "3194c60f-4673-474d-a14d-57797ccc148c",
   "metadata": {
    "tags": []
   },
   "outputs": [],
   "source": [
    "import pandas as pd"
   ]
  },
  {
   "cell_type": "markdown",
   "id": "90ae110d-0430-49c1-8eb7-6bbcdb3c5c30",
   "metadata": {},
   "source": [
    "### pd.Series"
   ]
  },
  {
   "cell_type": "markdown",
   "id": "38b6422b-4879-4256-8827-87ddc9532386",
   "metadata": {},
   "source": [
    "### <Series를 생성후 할 수 있는 것들. dir()로 확인 가능>\n",
    "* s~.max()    #최대값 찾기 (max 메소드)\n",
    "* s~.min()    #최소값 찾기 \n",
    "* s~.mean()   #평균값 찾기\n",
    "* s~.std()    #표준편차\n",
    "* s~.describe()    #중요한 통계값들을 자동으로 계산하여 보여줌"
   ]
  },
  {
   "cell_type": "code",
   "execution_count": 44,
   "id": "33db1f65-1d03-4219-907d-c79b6347b05f",
   "metadata": {
    "tags": []
   },
   "outputs": [],
   "source": [
    "s = pd.Series([1,3,5,6.5,6,8])"
   ]
  },
  {
   "cell_type": "code",
   "execution_count": 45,
   "id": "7a7ce5e0-7565-4335-b32e-6dc5b0d28d99",
   "metadata": {},
   "outputs": [
    {
     "name": "stdout",
     "output_type": "stream",
     "text": [
      "0    1.0\n",
      "1    3.0\n",
      "2    5.0\n",
      "3    6.5\n",
      "4    6.0\n",
      "5    8.0\n",
      "dtype: float64\n"
     ]
    }
   ],
   "source": [
    "print(s)  #따로 지정하지 않으면 0~1인덱스 자동생성. dtype=data type/float=실수/64=64bit에 저장됨"
   ]
  },
  {
   "cell_type": "code",
   "execution_count": 46,
   "id": "4a0a42b8-a7dd-4d51-b6ac-09d0d70db9a0",
   "metadata": {},
   "outputs": [
    {
     "data": {
      "text/plain": [
       "pandas.core.series.Series"
      ]
     },
     "execution_count": 46,
     "metadata": {},
     "output_type": "execute_result"
    }
   ],
   "source": [
    "type(s)"
   ]
  },
  {
   "cell_type": "code",
   "execution_count": 47,
   "id": "f10ddbc5-7e6d-465a-9f2f-2765e8a3e7a4",
   "metadata": {
    "collapsed": true,
    "jupyter": {
     "outputs_hidden": true
    },
    "tags": []
   },
   "outputs": [
    {
     "data": {
      "text/plain": [
       "['T',\n",
       " '_AXIS_LEN',\n",
       " '_AXIS_ORDERS',\n",
       " '_AXIS_REVERSED',\n",
       " '_AXIS_TO_AXIS_NUMBER',\n",
       " '_HANDLED_TYPES',\n",
       " '__abs__',\n",
       " '__add__',\n",
       " '__and__',\n",
       " '__annotations__',\n",
       " '__array__',\n",
       " '__array_priority__',\n",
       " '__array_ufunc__',\n",
       " '__array_wrap__',\n",
       " '__bool__',\n",
       " '__class__',\n",
       " '__contains__',\n",
       " '__copy__',\n",
       " '__deepcopy__',\n",
       " '__delattr__',\n",
       " '__delitem__',\n",
       " '__dict__',\n",
       " '__dir__',\n",
       " '__divmod__',\n",
       " '__doc__',\n",
       " '__eq__',\n",
       " '__finalize__',\n",
       " '__float__',\n",
       " '__floordiv__',\n",
       " '__format__',\n",
       " '__ge__',\n",
       " '__getattr__',\n",
       " '__getattribute__',\n",
       " '__getitem__',\n",
       " '__getstate__',\n",
       " '__gt__',\n",
       " '__hash__',\n",
       " '__iadd__',\n",
       " '__iand__',\n",
       " '__ifloordiv__',\n",
       " '__imod__',\n",
       " '__imul__',\n",
       " '__init__',\n",
       " '__init_subclass__',\n",
       " '__int__',\n",
       " '__invert__',\n",
       " '__ior__',\n",
       " '__ipow__',\n",
       " '__isub__',\n",
       " '__iter__',\n",
       " '__itruediv__',\n",
       " '__ixor__',\n",
       " '__le__',\n",
       " '__len__',\n",
       " '__long__',\n",
       " '__lt__',\n",
       " '__matmul__',\n",
       " '__mod__',\n",
       " '__module__',\n",
       " '__mul__',\n",
       " '__ne__',\n",
       " '__neg__',\n",
       " '__new__',\n",
       " '__nonzero__',\n",
       " '__or__',\n",
       " '__pos__',\n",
       " '__pow__',\n",
       " '__radd__',\n",
       " '__rand__',\n",
       " '__rdivmod__',\n",
       " '__reduce__',\n",
       " '__reduce_ex__',\n",
       " '__repr__',\n",
       " '__rfloordiv__',\n",
       " '__rmatmul__',\n",
       " '__rmod__',\n",
       " '__rmul__',\n",
       " '__ror__',\n",
       " '__round__',\n",
       " '__rpow__',\n",
       " '__rsub__',\n",
       " '__rtruediv__',\n",
       " '__rxor__',\n",
       " '__setattr__',\n",
       " '__setitem__',\n",
       " '__setstate__',\n",
       " '__sizeof__',\n",
       " '__str__',\n",
       " '__sub__',\n",
       " '__subclasshook__',\n",
       " '__truediv__',\n",
       " '__weakref__',\n",
       " '__xor__',\n",
       " '_accessors',\n",
       " '_accum_func',\n",
       " '_add_numeric_operations',\n",
       " '_agg_by_level',\n",
       " '_agg_examples_doc',\n",
       " '_agg_see_also_doc',\n",
       " '_align_frame',\n",
       " '_align_series',\n",
       " '_arith_method',\n",
       " '_attrs',\n",
       " '_binop',\n",
       " '_builtin_table',\n",
       " '_can_hold_na',\n",
       " '_check_inplace_and_allows_duplicate_labels',\n",
       " '_check_inplace_setting',\n",
       " '_check_is_chained_assignment_possible',\n",
       " '_check_label_or_level_ambiguity',\n",
       " '_check_setitem_copy',\n",
       " '_clear_item_cache',\n",
       " '_clip_with_one_bound',\n",
       " '_clip_with_scalar',\n",
       " '_cmp_method',\n",
       " '_consolidate',\n",
       " '_consolidate_inplace',\n",
       " '_construct_axes_dict',\n",
       " '_construct_axes_from_arguments',\n",
       " '_construct_result',\n",
       " '_constructor',\n",
       " '_constructor_expanddim',\n",
       " '_constructor_sliced',\n",
       " '_convert',\n",
       " '_convert_dtypes',\n",
       " '_cython_table',\n",
       " '_data',\n",
       " '_dir_additions',\n",
       " '_dir_deletions',\n",
       " '_drop_axis',\n",
       " '_drop_labels_or_levels',\n",
       " '_find_valid_index',\n",
       " '_flags',\n",
       " '_get_axis',\n",
       " '_get_axis_name',\n",
       " '_get_axis_number',\n",
       " '_get_axis_resolvers',\n",
       " '_get_block_manager_axis',\n",
       " '_get_bool_data',\n",
       " '_get_cacher',\n",
       " '_get_cleaned_column_resolvers',\n",
       " '_get_cython_func',\n",
       " '_get_index_resolvers',\n",
       " '_get_item_cache',\n",
       " '_get_label_or_level_values',\n",
       " '_get_numeric_data',\n",
       " '_get_value',\n",
       " '_get_values',\n",
       " '_get_values_tuple',\n",
       " '_get_with',\n",
       " '_gotitem',\n",
       " '_hidden_attrs',\n",
       " '_index',\n",
       " '_indexed_same',\n",
       " '_info_axis',\n",
       " '_info_axis_name',\n",
       " '_info_axis_number',\n",
       " '_init_dict',\n",
       " '_init_mgr',\n",
       " '_inplace_method',\n",
       " '_internal_names',\n",
       " '_internal_names_set',\n",
       " '_is_builtin_func',\n",
       " '_is_cached',\n",
       " '_is_copy',\n",
       " '_is_label_or_level_reference',\n",
       " '_is_label_reference',\n",
       " '_is_level_reference',\n",
       " '_is_mixed_type',\n",
       " '_is_view',\n",
       " '_iset_item',\n",
       " '_item_cache',\n",
       " '_ix',\n",
       " '_ixs',\n",
       " '_logical_func',\n",
       " '_logical_method',\n",
       " '_map_values',\n",
       " '_maybe_cache_changed',\n",
       " '_maybe_update_cacher',\n",
       " '_metadata',\n",
       " '_mgr',\n",
       " '_min_count_stat_function',\n",
       " '_name',\n",
       " '_needs_reindex_multi',\n",
       " '_obj_with_exclusions',\n",
       " '_protect_consolidate',\n",
       " '_reduce',\n",
       " '_reindex_axes',\n",
       " '_reindex_indexer',\n",
       " '_reindex_multi',\n",
       " '_reindex_with_indexers',\n",
       " '_replace_single',\n",
       " '_repr_data_resource_',\n",
       " '_repr_latex_',\n",
       " '_reset_cache',\n",
       " '_reset_cacher',\n",
       " '_selected_obj',\n",
       " '_selection',\n",
       " '_selection_list',\n",
       " '_selection_name',\n",
       " '_set_as_cached',\n",
       " '_set_axis',\n",
       " '_set_axis_name',\n",
       " '_set_axis_nocheck',\n",
       " '_set_is_copy',\n",
       " '_set_item',\n",
       " '_set_labels',\n",
       " '_set_name',\n",
       " '_set_value',\n",
       " '_set_values',\n",
       " '_set_with',\n",
       " '_set_with_engine',\n",
       " '_slice',\n",
       " '_stat_axis',\n",
       " '_stat_axis_name',\n",
       " '_stat_axis_number',\n",
       " '_stat_function',\n",
       " '_stat_function_ddof',\n",
       " '_take_with_is_copy',\n",
       " '_to_dict_of_blocks',\n",
       " '_try_aggregate_string_function',\n",
       " '_typ',\n",
       " '_update_inplace',\n",
       " '_validate_dtype',\n",
       " '_values',\n",
       " '_where',\n",
       " 'abs',\n",
       " 'add',\n",
       " 'add_prefix',\n",
       " 'add_suffix',\n",
       " 'agg',\n",
       " 'aggregate',\n",
       " 'align',\n",
       " 'all',\n",
       " 'any',\n",
       " 'append',\n",
       " 'apply',\n",
       " 'argmax',\n",
       " 'argmin',\n",
       " 'argsort',\n",
       " 'array',\n",
       " 'asfreq',\n",
       " 'asof',\n",
       " 'astype',\n",
       " 'at',\n",
       " 'at_time',\n",
       " 'attrs',\n",
       " 'autocorr',\n",
       " 'axes',\n",
       " 'backfill',\n",
       " 'between',\n",
       " 'between_time',\n",
       " 'bfill',\n",
       " 'bool',\n",
       " 'clip',\n",
       " 'combine',\n",
       " 'combine_first',\n",
       " 'compare',\n",
       " 'convert_dtypes',\n",
       " 'copy',\n",
       " 'corr',\n",
       " 'count',\n",
       " 'cov',\n",
       " 'cummax',\n",
       " 'cummin',\n",
       " 'cumprod',\n",
       " 'cumsum',\n",
       " 'describe',\n",
       " 'diff',\n",
       " 'div',\n",
       " 'divide',\n",
       " 'divmod',\n",
       " 'dot',\n",
       " 'drop',\n",
       " 'drop_duplicates',\n",
       " 'droplevel',\n",
       " 'dropna',\n",
       " 'dtype',\n",
       " 'dtypes',\n",
       " 'duplicated',\n",
       " 'empty',\n",
       " 'eq',\n",
       " 'equals',\n",
       " 'ewm',\n",
       " 'expanding',\n",
       " 'explode',\n",
       " 'factorize',\n",
       " 'ffill',\n",
       " 'fillna',\n",
       " 'filter',\n",
       " 'first',\n",
       " 'first_valid_index',\n",
       " 'flags',\n",
       " 'floordiv',\n",
       " 'ge',\n",
       " 'get',\n",
       " 'groupby',\n",
       " 'gt',\n",
       " 'hasnans',\n",
       " 'head',\n",
       " 'hist',\n",
       " 'iat',\n",
       " 'idxmax',\n",
       " 'idxmin',\n",
       " 'iloc',\n",
       " 'index',\n",
       " 'infer_objects',\n",
       " 'interpolate',\n",
       " 'is_monotonic',\n",
       " 'is_monotonic_decreasing',\n",
       " 'is_monotonic_increasing',\n",
       " 'is_unique',\n",
       " 'isin',\n",
       " 'isna',\n",
       " 'isnull',\n",
       " 'item',\n",
       " 'items',\n",
       " 'iteritems',\n",
       " 'keys',\n",
       " 'kurt',\n",
       " 'kurtosis',\n",
       " 'last',\n",
       " 'last_valid_index',\n",
       " 'le',\n",
       " 'loc',\n",
       " 'lt',\n",
       " 'mad',\n",
       " 'map',\n",
       " 'mask',\n",
       " 'max',\n",
       " 'mean',\n",
       " 'median',\n",
       " 'memory_usage',\n",
       " 'min',\n",
       " 'mod',\n",
       " 'mode',\n",
       " 'mul',\n",
       " 'multiply',\n",
       " 'name',\n",
       " 'nbytes',\n",
       " 'ndim',\n",
       " 'ne',\n",
       " 'nlargest',\n",
       " 'notna',\n",
       " 'notnull',\n",
       " 'nsmallest',\n",
       " 'nunique',\n",
       " 'pad',\n",
       " 'pct_change',\n",
       " 'pipe',\n",
       " 'plot',\n",
       " 'pop',\n",
       " 'pow',\n",
       " 'prod',\n",
       " 'product',\n",
       " 'quantile',\n",
       " 'radd',\n",
       " 'rank',\n",
       " 'ravel',\n",
       " 'rdiv',\n",
       " 'rdivmod',\n",
       " 'reindex',\n",
       " 'reindex_like',\n",
       " 'rename',\n",
       " 'rename_axis',\n",
       " 'reorder_levels',\n",
       " 'repeat',\n",
       " 'replace',\n",
       " 'resample',\n",
       " 'reset_index',\n",
       " 'rfloordiv',\n",
       " 'rmod',\n",
       " 'rmul',\n",
       " 'rolling',\n",
       " 'round',\n",
       " 'rpow',\n",
       " 'rsub',\n",
       " 'rtruediv',\n",
       " 'sample',\n",
       " 'searchsorted',\n",
       " 'sem',\n",
       " 'set_axis',\n",
       " 'set_flags',\n",
       " 'shape',\n",
       " 'shift',\n",
       " 'size',\n",
       " 'skew',\n",
       " 'slice_shift',\n",
       " 'sort_index',\n",
       " 'sort_values',\n",
       " 'squeeze',\n",
       " 'std',\n",
       " 'sub',\n",
       " 'subtract',\n",
       " 'sum',\n",
       " 'swapaxes',\n",
       " 'swaplevel',\n",
       " 'tail',\n",
       " 'take',\n",
       " 'to_clipboard',\n",
       " 'to_csv',\n",
       " 'to_dict',\n",
       " 'to_excel',\n",
       " 'to_frame',\n",
       " 'to_hdf',\n",
       " 'to_json',\n",
       " 'to_latex',\n",
       " 'to_list',\n",
       " 'to_markdown',\n",
       " 'to_numpy',\n",
       " 'to_period',\n",
       " 'to_pickle',\n",
       " 'to_sql',\n",
       " 'to_string',\n",
       " 'to_timestamp',\n",
       " 'to_xarray',\n",
       " 'transform',\n",
       " 'transpose',\n",
       " 'truediv',\n",
       " 'truncate',\n",
       " 'tz_convert',\n",
       " 'tz_localize',\n",
       " 'unique',\n",
       " 'unstack',\n",
       " 'update',\n",
       " 'value_counts',\n",
       " 'values',\n",
       " 'var',\n",
       " 'view',\n",
       " 'where',\n",
       " 'xs']"
      ]
     },
     "execution_count": 47,
     "metadata": {},
     "output_type": "execute_result"
    }
   ],
   "source": [
    "dir(s)"
   ]
  },
  {
   "cell_type": "code",
   "execution_count": 48,
   "id": "7075dcb2-4a54-45ee-b287-6e1a29f6ac9b",
   "metadata": {},
   "outputs": [
    {
     "data": {
      "text/plain": [
       "8.0"
      ]
     },
     "execution_count": 48,
     "metadata": {},
     "output_type": "execute_result"
    }
   ],
   "source": [
    "s.max()"
   ]
  },
  {
   "cell_type": "code",
   "execution_count": 49,
   "id": "0da69afa-be31-4e7c-b22f-d82e9fcdcd6a",
   "metadata": {},
   "outputs": [
    {
     "data": {
      "text/plain": [
       "1.0"
      ]
     },
     "execution_count": 49,
     "metadata": {},
     "output_type": "execute_result"
    }
   ],
   "source": [
    "s.min()"
   ]
  },
  {
   "cell_type": "code",
   "execution_count": 50,
   "id": "1f40085d-910b-46b4-8de6-78a7d5d369d8",
   "metadata": {},
   "outputs": [
    {
     "data": {
      "text/plain": [
       "4.916666666666667"
      ]
     },
     "execution_count": 50,
     "metadata": {},
     "output_type": "execute_result"
    }
   ],
   "source": [
    "s.mean()"
   ]
  },
  {
   "cell_type": "code",
   "execution_count": 51,
   "id": "18755962-7c50-4bcd-aa33-49d1fdd5c991",
   "metadata": {},
   "outputs": [
    {
     "data": {
      "text/plain": [
       "2.5380438661825107"
      ]
     },
     "execution_count": 51,
     "metadata": {},
     "output_type": "execute_result"
    }
   ],
   "source": [
    "s.std()"
   ]
  },
  {
   "cell_type": "code",
   "execution_count": 52,
   "id": "72a53438-29a1-4f81-a1d8-2fb2ea72e360",
   "metadata": {},
   "outputs": [
    {
     "data": {
      "text/plain": [
       "count    6.000000\n",
       "mean     4.916667\n",
       "std      2.538044\n",
       "min      1.000000\n",
       "25%      3.500000\n",
       "50%      5.500000\n",
       "75%      6.375000\n",
       "max      8.000000\n",
       "dtype: float64"
      ]
     },
     "execution_count": 52,
     "metadata": {},
     "output_type": "execute_result"
    }
   ],
   "source": [
    "s.describe()"
   ]
  },
  {
   "cell_type": "markdown",
   "id": "3b19ce8b-b631-4760-8f55-865e04c9514f",
   "metadata": {},
   "source": [
    "### pd.DataFrame"
   ]
  },
  {
   "cell_type": "markdown",
   "id": "6935a8e8-0132-4575-852e-b333ac342727",
   "metadata": {},
   "source": [
    "### <DataFrame을 생성후 할 수 있는 것들. dir()로 확인 가능>\n",
    "* df~.describe()    #수치형 데이터의 정보가 표시된다.\n",
    "* df~.head()    #처음 5개의 데이터 표시\n",
    "* df~.tail()    #마지막 5개의 데이터 표시\n",
    "* df~.info()    #대락적인 정보 확인\n",
    "* df~.index()   #인덱스 확인    -데이터 프레임의 행(노란색)\n",
    "* df~.columns()   #속성 확인      -데이터 프레임의 열(파란색)\n",
    "* df~.values()    #실제 데이터값  -데이터 프레임 안의 값(회색)\n",
    "* df~.drop()      #지우기  (axis=0 행, axis=1 열)\n",
    "  (inplace=True :df 자체를 바꿈. False :새로운 dataframe을 생성. 새로운 이름 지정)\n",
    "* df~.value_counts()\n",
    "\n",
    "**데이터 선택하기**  \n",
    "**열(2가지)**  \n",
    "* df~['열이름'].-() 1.특정 열만 뽑아서 접근 가능. (범주형 자료를 다룰 때 유용)  \n",
    "* df~.열이름.-()    2.특정 열만 뽑아서 접근 가능. -> 리턴은 Series 형태  \n",
    "**행 (2가지-위치/index)**  \n",
    "* df~.iloc[10:15]         #10번부터 14번까지의 행 얻음.  \n",
    "* df~.loc[[1,2,5,7,22]]   #Index로 선택한 행 얻음  \n",
    "**조건 선택**  \n",
    "* df~ [ df~.열이름 >= 5.0 ]   #뽑은 열중 5이상인 것만 뽑기.  \n",
    "\n",
    "**데이터 정렬하기** \n",
    "* **'인덱스'를 이용해서 오름/내림차순'으로 정렬**  \n",
    "train_set.sort_index(axis=0) <-- 기본값:오름차순  \n",
    "train_set.sort_index(axis=0, ascending=False) <--False:내림차순  \n",
    "* **'특정 열'을 이용해서 오름/내림차순'으로 정렬**  \n",
    "df~.sort_values(by='열이름', ascending=True)  <--True:오름차순"
   ]
  },
  {
   "cell_type": "code",
   "execution_count": 65,
   "id": "1ed4293c-8a4f-4221-b593-64ebbf6f67db",
   "metadata": {},
   "outputs": [],
   "source": [
    "#DataFrame(미니 엑셀 데이터)을 직접 만드는 법.\n",
    "#DataFrame은 딕셔너리를 사용하여 만듦. \n",
    "\n",
    "df = pd.DataFrame({'A': (1.0, 2.0, 3.0, 4.0),\n",
    "                    'Date': [pd.Timestamp('20130102'), pd.Timestamp('20130103'), pd.Timestamp('20130104'), pd.Timestamp('20130105')],\n",
    "                    'C': pd.Series((1, 3.0, 6.0, 9.0), dtype='float32'),\n",
    "                    'D': np.array([4,5,6,9], dtype='int32'),\n",
    "                    'E': pd.Categorical(['test', 'train', 'test', 'train']),\n",
    "                    'F': 'foo'})"
   ]
  },
  {
   "cell_type": "code",
   "execution_count": 66,
   "id": "c702dec1-a623-4d28-b2d4-957de5badfe1",
   "metadata": {},
   "outputs": [
    {
     "name": "stdout",
     "output_type": "stream",
     "text": [
      "     A       Date    C  D      E    F\n",
      "0  1.0 2013-01-02  1.0  4   test  foo\n",
      "1  2.0 2013-01-03  3.0  5  train  foo\n",
      "2  3.0 2013-01-04  6.0  6   test  foo\n",
      "3  4.0 2013-01-05  9.0  9  train  foo\n"
     ]
    }
   ],
   "source": [
    "print(df)"
   ]
  },
  {
   "cell_type": "code",
   "execution_count": 67,
   "id": "e8590d45-1073-4f16-95d4-4e6178318269",
   "metadata": {},
   "outputs": [
    {
     "data": {
      "text/plain": [
       "pandas.core.frame.DataFrame"
      ]
     },
     "execution_count": 67,
     "metadata": {},
     "output_type": "execute_result"
    }
   ],
   "source": [
    "type(df)"
   ]
  },
  {
   "cell_type": "code",
   "execution_count": 68,
   "id": "31e29ae0-171f-4b4a-aafa-7654bce4eeb2",
   "metadata": {
    "collapsed": true,
    "jupyter": {
     "outputs_hidden": true
    },
    "tags": []
   },
   "outputs": [
    {
     "data": {
      "text/plain": [
       "['A',\n",
       " 'C',\n",
       " 'D',\n",
       " 'Date',\n",
       " 'E',\n",
       " 'F',\n",
       " 'T',\n",
       " '_AXIS_LEN',\n",
       " '_AXIS_ORDERS',\n",
       " '_AXIS_REVERSED',\n",
       " '_AXIS_TO_AXIS_NUMBER',\n",
       " '_HANDLED_TYPES',\n",
       " '__abs__',\n",
       " '__add__',\n",
       " '__and__',\n",
       " '__annotations__',\n",
       " '__array__',\n",
       " '__array_priority__',\n",
       " '__array_ufunc__',\n",
       " '__array_wrap__',\n",
       " '__bool__',\n",
       " '__class__',\n",
       " '__contains__',\n",
       " '__copy__',\n",
       " '__deepcopy__',\n",
       " '__delattr__',\n",
       " '__delitem__',\n",
       " '__dict__',\n",
       " '__dir__',\n",
       " '__divmod__',\n",
       " '__doc__',\n",
       " '__eq__',\n",
       " '__finalize__',\n",
       " '__floordiv__',\n",
       " '__format__',\n",
       " '__ge__',\n",
       " '__getattr__',\n",
       " '__getattribute__',\n",
       " '__getitem__',\n",
       " '__getstate__',\n",
       " '__gt__',\n",
       " '__hash__',\n",
       " '__iadd__',\n",
       " '__iand__',\n",
       " '__ifloordiv__',\n",
       " '__imod__',\n",
       " '__imul__',\n",
       " '__init__',\n",
       " '__init_subclass__',\n",
       " '__invert__',\n",
       " '__ior__',\n",
       " '__ipow__',\n",
       " '__isub__',\n",
       " '__iter__',\n",
       " '__itruediv__',\n",
       " '__ixor__',\n",
       " '__le__',\n",
       " '__len__',\n",
       " '__lt__',\n",
       " '__matmul__',\n",
       " '__mod__',\n",
       " '__module__',\n",
       " '__mul__',\n",
       " '__ne__',\n",
       " '__neg__',\n",
       " '__new__',\n",
       " '__nonzero__',\n",
       " '__or__',\n",
       " '__pos__',\n",
       " '__pow__',\n",
       " '__radd__',\n",
       " '__rand__',\n",
       " '__rdivmod__',\n",
       " '__reduce__',\n",
       " '__reduce_ex__',\n",
       " '__repr__',\n",
       " '__rfloordiv__',\n",
       " '__rmatmul__',\n",
       " '__rmod__',\n",
       " '__rmul__',\n",
       " '__ror__',\n",
       " '__round__',\n",
       " '__rpow__',\n",
       " '__rsub__',\n",
       " '__rtruediv__',\n",
       " '__rxor__',\n",
       " '__setattr__',\n",
       " '__setitem__',\n",
       " '__setstate__',\n",
       " '__sizeof__',\n",
       " '__str__',\n",
       " '__sub__',\n",
       " '__subclasshook__',\n",
       " '__truediv__',\n",
       " '__weakref__',\n",
       " '__xor__',\n",
       " '_accessors',\n",
       " '_accum_func',\n",
       " '_add_numeric_operations',\n",
       " '_agg_by_level',\n",
       " '_agg_examples_doc',\n",
       " '_agg_summary_and_see_also_doc',\n",
       " '_aggregate',\n",
       " '_align_frame',\n",
       " '_align_series',\n",
       " '_arith_method',\n",
       " '_attrs',\n",
       " '_box_col_values',\n",
       " '_builtin_table',\n",
       " '_can_fast_transpose',\n",
       " '_check_inplace_and_allows_duplicate_labels',\n",
       " '_check_inplace_setting',\n",
       " '_check_is_chained_assignment_possible',\n",
       " '_check_label_or_level_ambiguity',\n",
       " '_check_setitem_copy',\n",
       " '_clear_item_cache',\n",
       " '_clip_with_one_bound',\n",
       " '_clip_with_scalar',\n",
       " '_cmp_method',\n",
       " '_combine_frame',\n",
       " '_consolidate',\n",
       " '_consolidate_inplace',\n",
       " '_construct_axes_dict',\n",
       " '_construct_axes_from_arguments',\n",
       " '_construct_result',\n",
       " '_constructor',\n",
       " '_constructor_expanddim',\n",
       " '_constructor_sliced',\n",
       " '_convert',\n",
       " '_count_level',\n",
       " '_cython_table',\n",
       " '_data',\n",
       " '_dir_additions',\n",
       " '_dir_deletions',\n",
       " '_dispatch_frame_op',\n",
       " '_drop_axis',\n",
       " '_drop_labels_or_levels',\n",
       " '_ensure_valid_index',\n",
       " '_find_valid_index',\n",
       " '_flags',\n",
       " '_from_arrays',\n",
       " '_get_agg_axis',\n",
       " '_get_axis',\n",
       " '_get_axis_name',\n",
       " '_get_axis_number',\n",
       " '_get_axis_resolvers',\n",
       " '_get_block_manager_axis',\n",
       " '_get_bool_data',\n",
       " '_get_cacher',\n",
       " '_get_cleaned_column_resolvers',\n",
       " '_get_column_array',\n",
       " '_get_cython_func',\n",
       " '_get_index_resolvers',\n",
       " '_get_item_cache',\n",
       " '_get_label_or_level_values',\n",
       " '_get_numeric_data',\n",
       " '_get_value',\n",
       " '_getitem_bool_array',\n",
       " '_getitem_multilevel',\n",
       " '_gotitem',\n",
       " '_hidden_attrs',\n",
       " '_indexed_same',\n",
       " '_info_axis',\n",
       " '_info_axis_name',\n",
       " '_info_axis_number',\n",
       " '_info_repr',\n",
       " '_init_mgr',\n",
       " '_inplace_method',\n",
       " '_internal_names',\n",
       " '_internal_names_set',\n",
       " '_is_builtin_func',\n",
       " '_is_cached',\n",
       " '_is_copy',\n",
       " '_is_homogeneous_type',\n",
       " '_is_label_or_level_reference',\n",
       " '_is_label_reference',\n",
       " '_is_level_reference',\n",
       " '_is_mixed_type',\n",
       " '_is_view',\n",
       " '_iset_item',\n",
       " '_item_cache',\n",
       " '_iter_column_arrays',\n",
       " '_ix',\n",
       " '_ixs',\n",
       " '_join_compat',\n",
       " '_logical_func',\n",
       " '_logical_method',\n",
       " '_maybe_cache_changed',\n",
       " '_maybe_update_cacher',\n",
       " '_metadata',\n",
       " '_mgr',\n",
       " '_min_count_stat_function',\n",
       " '_needs_reindex_multi',\n",
       " '_obj_with_exclusions',\n",
       " '_protect_consolidate',\n",
       " '_reduce',\n",
       " '_reindex_axes',\n",
       " '_reindex_columns',\n",
       " '_reindex_index',\n",
       " '_reindex_multi',\n",
       " '_reindex_with_indexers',\n",
       " '_replace_columnwise',\n",
       " '_repr_data_resource_',\n",
       " '_repr_fits_horizontal_',\n",
       " '_repr_fits_vertical_',\n",
       " '_repr_html_',\n",
       " '_repr_latex_',\n",
       " '_reset_cache',\n",
       " '_reset_cacher',\n",
       " '_sanitize_column',\n",
       " '_selected_obj',\n",
       " '_selection',\n",
       " '_selection_list',\n",
       " '_selection_name',\n",
       " '_series',\n",
       " '_set_as_cached',\n",
       " '_set_axis',\n",
       " '_set_axis_name',\n",
       " '_set_axis_nocheck',\n",
       " '_set_is_copy',\n",
       " '_set_item',\n",
       " '_set_value',\n",
       " '_setitem_array',\n",
       " '_setitem_frame',\n",
       " '_setitem_slice',\n",
       " '_slice',\n",
       " '_stat_axis',\n",
       " '_stat_axis_name',\n",
       " '_stat_axis_number',\n",
       " '_stat_function',\n",
       " '_stat_function_ddof',\n",
       " '_take_with_is_copy',\n",
       " '_to_dict_of_blocks',\n",
       " '_try_aggregate_string_function',\n",
       " '_typ',\n",
       " '_update_inplace',\n",
       " '_validate_dtype',\n",
       " '_values',\n",
       " '_where',\n",
       " 'abs',\n",
       " 'add',\n",
       " 'add_prefix',\n",
       " 'add_suffix',\n",
       " 'agg',\n",
       " 'aggregate',\n",
       " 'align',\n",
       " 'all',\n",
       " 'any',\n",
       " 'append',\n",
       " 'apply',\n",
       " 'applymap',\n",
       " 'asfreq',\n",
       " 'asof',\n",
       " 'assign',\n",
       " 'astype',\n",
       " 'at',\n",
       " 'at_time',\n",
       " 'attrs',\n",
       " 'axes',\n",
       " 'backfill',\n",
       " 'between_time',\n",
       " 'bfill',\n",
       " 'bool',\n",
       " 'boxplot',\n",
       " 'clip',\n",
       " 'columns',\n",
       " 'combine',\n",
       " 'combine_first',\n",
       " 'compare',\n",
       " 'convert_dtypes',\n",
       " 'copy',\n",
       " 'corr',\n",
       " 'corrwith',\n",
       " 'count',\n",
       " 'cov',\n",
       " 'cummax',\n",
       " 'cummin',\n",
       " 'cumprod',\n",
       " 'cumsum',\n",
       " 'describe',\n",
       " 'diff',\n",
       " 'div',\n",
       " 'divide',\n",
       " 'dot',\n",
       " 'drop',\n",
       " 'drop_duplicates',\n",
       " 'droplevel',\n",
       " 'dropna',\n",
       " 'dtypes',\n",
       " 'duplicated',\n",
       " 'empty',\n",
       " 'eq',\n",
       " 'equals',\n",
       " 'eval',\n",
       " 'ewm',\n",
       " 'expanding',\n",
       " 'explode',\n",
       " 'ffill',\n",
       " 'fillna',\n",
       " 'filter',\n",
       " 'first',\n",
       " 'first_valid_index',\n",
       " 'flags',\n",
       " 'floordiv',\n",
       " 'from_dict',\n",
       " 'from_records',\n",
       " 'ge',\n",
       " 'get',\n",
       " 'groupby',\n",
       " 'gt',\n",
       " 'head',\n",
       " 'hist',\n",
       " 'iat',\n",
       " 'idxmax',\n",
       " 'idxmin',\n",
       " 'iloc',\n",
       " 'index',\n",
       " 'infer_objects',\n",
       " 'info',\n",
       " 'insert',\n",
       " 'interpolate',\n",
       " 'isin',\n",
       " 'isna',\n",
       " 'isnull',\n",
       " 'items',\n",
       " 'iteritems',\n",
       " 'iterrows',\n",
       " 'itertuples',\n",
       " 'join',\n",
       " 'keys',\n",
       " 'kurt',\n",
       " 'kurtosis',\n",
       " 'last',\n",
       " 'last_valid_index',\n",
       " 'le',\n",
       " 'loc',\n",
       " 'lookup',\n",
       " 'lt',\n",
       " 'mad',\n",
       " 'mask',\n",
       " 'max',\n",
       " 'mean',\n",
       " 'median',\n",
       " 'melt',\n",
       " 'memory_usage',\n",
       " 'merge',\n",
       " 'min',\n",
       " 'mod',\n",
       " 'mode',\n",
       " 'mul',\n",
       " 'multiply',\n",
       " 'ndim',\n",
       " 'ne',\n",
       " 'nlargest',\n",
       " 'notna',\n",
       " 'notnull',\n",
       " 'nsmallest',\n",
       " 'nunique',\n",
       " 'pad',\n",
       " 'pct_change',\n",
       " 'pipe',\n",
       " 'pivot',\n",
       " 'pivot_table',\n",
       " 'plot',\n",
       " 'pop',\n",
       " 'pow',\n",
       " 'prod',\n",
       " 'product',\n",
       " 'quantile',\n",
       " 'query',\n",
       " 'radd',\n",
       " 'rank',\n",
       " 'rdiv',\n",
       " 'reindex',\n",
       " 'reindex_like',\n",
       " 'rename',\n",
       " 'rename_axis',\n",
       " 'reorder_levels',\n",
       " 'replace',\n",
       " 'resample',\n",
       " 'reset_index',\n",
       " 'rfloordiv',\n",
       " 'rmod',\n",
       " 'rmul',\n",
       " 'rolling',\n",
       " 'round',\n",
       " 'rpow',\n",
       " 'rsub',\n",
       " 'rtruediv',\n",
       " 'sample',\n",
       " 'select_dtypes',\n",
       " 'sem',\n",
       " 'set_axis',\n",
       " 'set_flags',\n",
       " 'set_index',\n",
       " 'shape',\n",
       " 'shift',\n",
       " 'size',\n",
       " 'skew',\n",
       " 'slice_shift',\n",
       " 'sort_index',\n",
       " 'sort_values',\n",
       " 'squeeze',\n",
       " 'stack',\n",
       " 'std',\n",
       " 'style',\n",
       " 'sub',\n",
       " 'subtract',\n",
       " 'sum',\n",
       " 'swapaxes',\n",
       " 'swaplevel',\n",
       " 'tail',\n",
       " 'take',\n",
       " 'to_clipboard',\n",
       " 'to_csv',\n",
       " 'to_dict',\n",
       " 'to_excel',\n",
       " 'to_feather',\n",
       " 'to_gbq',\n",
       " 'to_hdf',\n",
       " 'to_html',\n",
       " 'to_json',\n",
       " 'to_latex',\n",
       " 'to_markdown',\n",
       " 'to_numpy',\n",
       " 'to_parquet',\n",
       " 'to_period',\n",
       " 'to_pickle',\n",
       " 'to_records',\n",
       " 'to_sql',\n",
       " 'to_stata',\n",
       " 'to_string',\n",
       " 'to_timestamp',\n",
       " 'to_xarray',\n",
       " 'transform',\n",
       " 'transpose',\n",
       " 'truediv',\n",
       " 'truncate',\n",
       " 'tz_convert',\n",
       " 'tz_localize',\n",
       " 'unstack',\n",
       " 'update',\n",
       " 'value_counts',\n",
       " 'values',\n",
       " 'var',\n",
       " 'where',\n",
       " 'xs']"
      ]
     },
     "execution_count": 68,
     "metadata": {},
     "output_type": "execute_result"
    }
   ],
   "source": [
    "dir(df)"
   ]
  },
  {
   "cell_type": "code",
   "execution_count": 70,
   "id": "88d517d8-9a07-4aa2-a2e1-d4b2e0f22a2b",
   "metadata": {},
   "outputs": [
    {
     "data": {
      "text/html": [
       "<div>\n",
       "<style scoped>\n",
       "    .dataframe tbody tr th:only-of-type {\n",
       "        vertical-align: middle;\n",
       "    }\n",
       "\n",
       "    .dataframe tbody tr th {\n",
       "        vertical-align: top;\n",
       "    }\n",
       "\n",
       "    .dataframe thead th {\n",
       "        text-align: right;\n",
       "    }\n",
       "</style>\n",
       "<table border=\"1\" class=\"dataframe\">\n",
       "  <thead>\n",
       "    <tr style=\"text-align: right;\">\n",
       "      <th></th>\n",
       "      <th>A</th>\n",
       "      <th>C</th>\n",
       "      <th>D</th>\n",
       "    </tr>\n",
       "  </thead>\n",
       "  <tbody>\n",
       "    <tr>\n",
       "      <th>count</th>\n",
       "      <td>4.000000</td>\n",
       "      <td>4.00</td>\n",
       "      <td>4.000000</td>\n",
       "    </tr>\n",
       "    <tr>\n",
       "      <th>mean</th>\n",
       "      <td>2.500000</td>\n",
       "      <td>4.75</td>\n",
       "      <td>6.000000</td>\n",
       "    </tr>\n",
       "    <tr>\n",
       "      <th>std</th>\n",
       "      <td>1.290994</td>\n",
       "      <td>3.50</td>\n",
       "      <td>2.160247</td>\n",
       "    </tr>\n",
       "    <tr>\n",
       "      <th>min</th>\n",
       "      <td>1.000000</td>\n",
       "      <td>1.00</td>\n",
       "      <td>4.000000</td>\n",
       "    </tr>\n",
       "    <tr>\n",
       "      <th>25%</th>\n",
       "      <td>1.750000</td>\n",
       "      <td>2.50</td>\n",
       "      <td>4.750000</td>\n",
       "    </tr>\n",
       "    <tr>\n",
       "      <th>50%</th>\n",
       "      <td>2.500000</td>\n",
       "      <td>4.50</td>\n",
       "      <td>5.500000</td>\n",
       "    </tr>\n",
       "    <tr>\n",
       "      <th>75%</th>\n",
       "      <td>3.250000</td>\n",
       "      <td>6.75</td>\n",
       "      <td>6.750000</td>\n",
       "    </tr>\n",
       "    <tr>\n",
       "      <th>max</th>\n",
       "      <td>4.000000</td>\n",
       "      <td>9.00</td>\n",
       "      <td>9.000000</td>\n",
       "    </tr>\n",
       "  </tbody>\n",
       "</table>\n",
       "</div>"
      ],
      "text/plain": [
       "              A     C         D\n",
       "count  4.000000  4.00  4.000000\n",
       "mean   2.500000  4.75  6.000000\n",
       "std    1.290994  3.50  2.160247\n",
       "min    1.000000  1.00  4.000000\n",
       "25%    1.750000  2.50  4.750000\n",
       "50%    2.500000  4.50  5.500000\n",
       "75%    3.250000  6.75  6.750000\n",
       "max    4.000000  9.00  9.000000"
      ]
     },
     "execution_count": 70,
     "metadata": {},
     "output_type": "execute_result"
    }
   ],
   "source": [
    "df.describe()"
   ]
  },
  {
   "cell_type": "code",
   "execution_count": 71,
   "id": "4d8e79b9-9548-4310-9826-e4daf0deed80",
   "metadata": {},
   "outputs": [
    {
     "data": {
      "text/html": [
       "<div>\n",
       "<style scoped>\n",
       "    .dataframe tbody tr th:only-of-type {\n",
       "        vertical-align: middle;\n",
       "    }\n",
       "\n",
       "    .dataframe tbody tr th {\n",
       "        vertical-align: top;\n",
       "    }\n",
       "\n",
       "    .dataframe thead th {\n",
       "        text-align: right;\n",
       "    }\n",
       "</style>\n",
       "<table border=\"1\" class=\"dataframe\">\n",
       "  <thead>\n",
       "    <tr style=\"text-align: right;\">\n",
       "      <th></th>\n",
       "      <th>A</th>\n",
       "      <th>Date</th>\n",
       "      <th>C</th>\n",
       "      <th>D</th>\n",
       "      <th>E</th>\n",
       "      <th>F</th>\n",
       "    </tr>\n",
       "  </thead>\n",
       "  <tbody>\n",
       "    <tr>\n",
       "      <th>0</th>\n",
       "      <td>1.0</td>\n",
       "      <td>2013-01-02</td>\n",
       "      <td>1.0</td>\n",
       "      <td>4</td>\n",
       "      <td>test</td>\n",
       "      <td>foo</td>\n",
       "    </tr>\n",
       "    <tr>\n",
       "      <th>1</th>\n",
       "      <td>2.0</td>\n",
       "      <td>2013-01-03</td>\n",
       "      <td>3.0</td>\n",
       "      <td>5</td>\n",
       "      <td>train</td>\n",
       "      <td>foo</td>\n",
       "    </tr>\n",
       "    <tr>\n",
       "      <th>2</th>\n",
       "      <td>3.0</td>\n",
       "      <td>2013-01-04</td>\n",
       "      <td>6.0</td>\n",
       "      <td>6</td>\n",
       "      <td>test</td>\n",
       "      <td>foo</td>\n",
       "    </tr>\n",
       "    <tr>\n",
       "      <th>3</th>\n",
       "      <td>4.0</td>\n",
       "      <td>2013-01-05</td>\n",
       "      <td>9.0</td>\n",
       "      <td>9</td>\n",
       "      <td>train</td>\n",
       "      <td>foo</td>\n",
       "    </tr>\n",
       "  </tbody>\n",
       "</table>\n",
       "</div>"
      ],
      "text/plain": [
       "     A       Date    C  D      E    F\n",
       "0  1.0 2013-01-02  1.0  4   test  foo\n",
       "1  2.0 2013-01-03  3.0  5  train  foo\n",
       "2  3.0 2013-01-04  6.0  6   test  foo\n",
       "3  4.0 2013-01-05  9.0  9  train  foo"
      ]
     },
     "execution_count": 71,
     "metadata": {},
     "output_type": "execute_result"
    }
   ],
   "source": [
    "df.head()"
   ]
  },
  {
   "cell_type": "code",
   "execution_count": 72,
   "id": "e9f55ab1-e2d3-46da-899a-d36c41fef252",
   "metadata": {},
   "outputs": [
    {
     "data": {
      "text/html": [
       "<div>\n",
       "<style scoped>\n",
       "    .dataframe tbody tr th:only-of-type {\n",
       "        vertical-align: middle;\n",
       "    }\n",
       "\n",
       "    .dataframe tbody tr th {\n",
       "        vertical-align: top;\n",
       "    }\n",
       "\n",
       "    .dataframe thead th {\n",
       "        text-align: right;\n",
       "    }\n",
       "</style>\n",
       "<table border=\"1\" class=\"dataframe\">\n",
       "  <thead>\n",
       "    <tr style=\"text-align: right;\">\n",
       "      <th></th>\n",
       "      <th>A</th>\n",
       "      <th>Date</th>\n",
       "      <th>C</th>\n",
       "      <th>D</th>\n",
       "      <th>E</th>\n",
       "      <th>F</th>\n",
       "    </tr>\n",
       "  </thead>\n",
       "  <tbody>\n",
       "    <tr>\n",
       "      <th>0</th>\n",
       "      <td>1.0</td>\n",
       "      <td>2013-01-02</td>\n",
       "      <td>1.0</td>\n",
       "      <td>4</td>\n",
       "      <td>test</td>\n",
       "      <td>foo</td>\n",
       "    </tr>\n",
       "    <tr>\n",
       "      <th>1</th>\n",
       "      <td>2.0</td>\n",
       "      <td>2013-01-03</td>\n",
       "      <td>3.0</td>\n",
       "      <td>5</td>\n",
       "      <td>train</td>\n",
       "      <td>foo</td>\n",
       "    </tr>\n",
       "    <tr>\n",
       "      <th>2</th>\n",
       "      <td>3.0</td>\n",
       "      <td>2013-01-04</td>\n",
       "      <td>6.0</td>\n",
       "      <td>6</td>\n",
       "      <td>test</td>\n",
       "      <td>foo</td>\n",
       "    </tr>\n",
       "    <tr>\n",
       "      <th>3</th>\n",
       "      <td>4.0</td>\n",
       "      <td>2013-01-05</td>\n",
       "      <td>9.0</td>\n",
       "      <td>9</td>\n",
       "      <td>train</td>\n",
       "      <td>foo</td>\n",
       "    </tr>\n",
       "  </tbody>\n",
       "</table>\n",
       "</div>"
      ],
      "text/plain": [
       "     A       Date    C  D      E    F\n",
       "0  1.0 2013-01-02  1.0  4   test  foo\n",
       "1  2.0 2013-01-03  3.0  5  train  foo\n",
       "2  3.0 2013-01-04  6.0  6   test  foo\n",
       "3  4.0 2013-01-05  9.0  9  train  foo"
      ]
     },
     "execution_count": 72,
     "metadata": {},
     "output_type": "execute_result"
    }
   ],
   "source": [
    "df.tail()"
   ]
  },
  {
   "cell_type": "code",
   "execution_count": 74,
   "id": "3f67e1ac-0e83-4205-a40b-a2e999da9b8d",
   "metadata": {},
   "outputs": [],
   "source": [
    "money_df = pd.read_csv('money.csv')"
   ]
  },
  {
   "cell_type": "code",
   "execution_count": 83,
   "id": "1836ee11-27ca-4e15-a834-66a0df02b7dd",
   "metadata": {},
   "outputs": [
    {
     "data": {
      "text/html": [
       "<div>\n",
       "<style scoped>\n",
       "    .dataframe tbody tr th:only-of-type {\n",
       "        vertical-align: middle;\n",
       "    }\n",
       "\n",
       "    .dataframe tbody tr th {\n",
       "        vertical-align: top;\n",
       "    }\n",
       "\n",
       "    .dataframe thead th {\n",
       "        text-align: right;\n",
       "    }\n",
       "</style>\n",
       "<table border=\"1\" class=\"dataframe\">\n",
       "  <thead>\n",
       "    <tr style=\"text-align: right;\">\n",
       "      <th></th>\n",
       "      <th>Unnamed: 0</th>\n",
       "      <th>Unnamed: 1</th>\n",
       "      <th>Unnamed: 2</th>\n",
       "      <th>Unnamed: 3</th>\n",
       "      <th>Unnamed: 4</th>\n",
       "    </tr>\n",
       "  </thead>\n",
       "  <tbody>\n",
       "    <tr>\n",
       "      <th>0</th>\n",
       "      <td>판매가\\n할인율</td>\n",
       "      <td>₩10,000</td>\n",
       "      <td>₩20,000</td>\n",
       "      <td>₩30,000</td>\n",
       "      <td>₩40,000</td>\n",
       "    </tr>\n",
       "    <tr>\n",
       "      <th>1</th>\n",
       "      <td>5%</td>\n",
       "      <td>₩500</td>\n",
       "      <td>₩1,000</td>\n",
       "      <td>₩1,500</td>\n",
       "      <td>₩2,000</td>\n",
       "    </tr>\n",
       "    <tr>\n",
       "      <th>2</th>\n",
       "      <td>10%</td>\n",
       "      <td>₩1,000</td>\n",
       "      <td>₩2,000</td>\n",
       "      <td>₩3,000</td>\n",
       "      <td>₩4,000</td>\n",
       "    </tr>\n",
       "    <tr>\n",
       "      <th>3</th>\n",
       "      <td>15%</td>\n",
       "      <td>₩1,500</td>\n",
       "      <td>₩3,000</td>\n",
       "      <td>₩4,500</td>\n",
       "      <td>₩6,000</td>\n",
       "    </tr>\n",
       "    <tr>\n",
       "      <th>4</th>\n",
       "      <td>20%</td>\n",
       "      <td>₩2,000</td>\n",
       "      <td>₩4,000</td>\n",
       "      <td>₩6,000</td>\n",
       "      <td>₩8,000</td>\n",
       "    </tr>\n",
       "    <tr>\n",
       "      <th>5</th>\n",
       "      <td>25%</td>\n",
       "      <td>₩2,500</td>\n",
       "      <td>₩5,000</td>\n",
       "      <td>₩7,500</td>\n",
       "      <td>₩10,000</td>\n",
       "    </tr>\n",
       "    <tr>\n",
       "      <th>6</th>\n",
       "      <td>30%</td>\n",
       "      <td>₩3,000</td>\n",
       "      <td>₩6,000</td>\n",
       "      <td>₩9,000</td>\n",
       "      <td>₩12,000</td>\n",
       "    </tr>\n",
       "  </tbody>\n",
       "</table>\n",
       "</div>"
      ],
      "text/plain": [
       "             Unnamed: 0 Unnamed: 1 Unnamed: 2 Unnamed: 3 Unnamed: 4\n",
       "0              판매가\\n할인율   ₩10,000    ₩20,000    ₩30,000    ₩40,000 \n",
       "1                    5%      ₩500     ₩1,000     ₩1,500     ₩2,000 \n",
       "2                   10%    ₩1,000     ₩2,000     ₩3,000     ₩4,000 \n",
       "3                   15%    ₩1,500     ₩3,000     ₩4,500     ₩6,000 \n",
       "4                   20%    ₩2,000     ₩4,000     ₩6,000     ₩8,000 \n",
       "5                   25%    ₩2,500     ₩5,000     ₩7,500    ₩10,000 \n",
       "6                   30%    ₩3,000     ₩6,000     ₩9,000    ₩12,000 "
      ]
     },
     "execution_count": 83,
     "metadata": {},
     "output_type": "execute_result"
    }
   ],
   "source": [
    "money_df"
   ]
  },
  {
   "cell_type": "code",
   "execution_count": 80,
   "id": "5c67eae9-5441-47ae-9e96-ceb687de352b",
   "metadata": {},
   "outputs": [],
   "source": [
    "iris_df = pd.read_csv('iris.csv')"
   ]
  },
  {
   "cell_type": "code",
   "execution_count": 82,
   "id": "09164f1b-ee8a-4991-90d4-e4477c2aee86",
   "metadata": {},
   "outputs": [
    {
     "data": {
      "text/html": [
       "<div>\n",
       "<style scoped>\n",
       "    .dataframe tbody tr th:only-of-type {\n",
       "        vertical-align: middle;\n",
       "    }\n",
       "\n",
       "    .dataframe tbody tr th {\n",
       "        vertical-align: top;\n",
       "    }\n",
       "\n",
       "    .dataframe thead th {\n",
       "        text-align: right;\n",
       "    }\n",
       "</style>\n",
       "<table border=\"1\" class=\"dataframe\">\n",
       "  <thead>\n",
       "    <tr style=\"text-align: right;\">\n",
       "      <th></th>\n",
       "      <th>Species_No</th>\n",
       "      <th>Petal_width</th>\n",
       "      <th>Petal_length</th>\n",
       "      <th>Sepal_width</th>\n",
       "      <th>Sepal_length</th>\n",
       "      <th>Species_name</th>\n",
       "    </tr>\n",
       "  </thead>\n",
       "  <tbody>\n",
       "    <tr>\n",
       "      <th>0</th>\n",
       "      <td>1</td>\n",
       "      <td>0.2</td>\n",
       "      <td>1.4</td>\n",
       "      <td>3.5</td>\n",
       "      <td>5.1</td>\n",
       "      <td>Setosa</td>\n",
       "    </tr>\n",
       "    <tr>\n",
       "      <th>1</th>\n",
       "      <td>1</td>\n",
       "      <td>0.2</td>\n",
       "      <td>1.4</td>\n",
       "      <td>3.0</td>\n",
       "      <td>4.9</td>\n",
       "      <td>Setosa</td>\n",
       "    </tr>\n",
       "    <tr>\n",
       "      <th>2</th>\n",
       "      <td>1</td>\n",
       "      <td>0.2</td>\n",
       "      <td>1.3</td>\n",
       "      <td>3.2</td>\n",
       "      <td>4.7</td>\n",
       "      <td>Setosa</td>\n",
       "    </tr>\n",
       "    <tr>\n",
       "      <th>3</th>\n",
       "      <td>1</td>\n",
       "      <td>0.2</td>\n",
       "      <td>1.5</td>\n",
       "      <td>3.1</td>\n",
       "      <td>4.6</td>\n",
       "      <td>Setosa</td>\n",
       "    </tr>\n",
       "    <tr>\n",
       "      <th>4</th>\n",
       "      <td>1</td>\n",
       "      <td>0.2</td>\n",
       "      <td>1.4</td>\n",
       "      <td>3.6</td>\n",
       "      <td>5.0</td>\n",
       "      <td>Setosa</td>\n",
       "    </tr>\n",
       "    <tr>\n",
       "      <th>...</th>\n",
       "      <td>...</td>\n",
       "      <td>...</td>\n",
       "      <td>...</td>\n",
       "      <td>...</td>\n",
       "      <td>...</td>\n",
       "      <td>...</td>\n",
       "    </tr>\n",
       "    <tr>\n",
       "      <th>145</th>\n",
       "      <td>3</td>\n",
       "      <td>2.3</td>\n",
       "      <td>5.2</td>\n",
       "      <td>3.0</td>\n",
       "      <td>6.7</td>\n",
       "      <td>Verginica</td>\n",
       "    </tr>\n",
       "    <tr>\n",
       "      <th>146</th>\n",
       "      <td>3</td>\n",
       "      <td>1.9</td>\n",
       "      <td>5.0</td>\n",
       "      <td>2.5</td>\n",
       "      <td>6.3</td>\n",
       "      <td>Verginica</td>\n",
       "    </tr>\n",
       "    <tr>\n",
       "      <th>147</th>\n",
       "      <td>3</td>\n",
       "      <td>2.0</td>\n",
       "      <td>5.2</td>\n",
       "      <td>3.0</td>\n",
       "      <td>6.5</td>\n",
       "      <td>Verginica</td>\n",
       "    </tr>\n",
       "    <tr>\n",
       "      <th>148</th>\n",
       "      <td>3</td>\n",
       "      <td>2.3</td>\n",
       "      <td>5.4</td>\n",
       "      <td>3.4</td>\n",
       "      <td>6.2</td>\n",
       "      <td>Verginica</td>\n",
       "    </tr>\n",
       "    <tr>\n",
       "      <th>149</th>\n",
       "      <td>3</td>\n",
       "      <td>1.8</td>\n",
       "      <td>5.1</td>\n",
       "      <td>3.0</td>\n",
       "      <td>5.9</td>\n",
       "      <td>Verginica</td>\n",
       "    </tr>\n",
       "  </tbody>\n",
       "</table>\n",
       "<p>150 rows × 6 columns</p>\n",
       "</div>"
      ],
      "text/plain": [
       "     Species_No  Petal_width  Petal_length  Sepal_width  Sepal_length  \\\n",
       "0             1          0.2           1.4          3.5           5.1   \n",
       "1             1          0.2           1.4          3.0           4.9   \n",
       "2             1          0.2           1.3          3.2           4.7   \n",
       "3             1          0.2           1.5          3.1           4.6   \n",
       "4             1          0.2           1.4          3.6           5.0   \n",
       "..          ...          ...           ...          ...           ...   \n",
       "145           3          2.3           5.2          3.0           6.7   \n",
       "146           3          1.9           5.0          2.5           6.3   \n",
       "147           3          2.0           5.2          3.0           6.5   \n",
       "148           3          2.3           5.4          3.4           6.2   \n",
       "149           3          1.8           5.1          3.0           5.9   \n",
       "\n",
       "    Species_name  \n",
       "0         Setosa  \n",
       "1         Setosa  \n",
       "2         Setosa  \n",
       "3         Setosa  \n",
       "4         Setosa  \n",
       "..           ...  \n",
       "145    Verginica  \n",
       "146    Verginica  \n",
       "147    Verginica  \n",
       "148    Verginica  \n",
       "149    Verginica  \n",
       "\n",
       "[150 rows x 6 columns]"
      ]
     },
     "execution_count": 82,
     "metadata": {},
     "output_type": "execute_result"
    }
   ],
   "source": [
    "iris_df"
   ]
  },
  {
   "cell_type": "code",
   "execution_count": 84,
   "id": "fb7fd0e8-36ce-4878-8eed-f1374140a96c",
   "metadata": {},
   "outputs": [
    {
     "data": {
      "text/html": [
       "<div>\n",
       "<style scoped>\n",
       "    .dataframe tbody tr th:only-of-type {\n",
       "        vertical-align: middle;\n",
       "    }\n",
       "\n",
       "    .dataframe tbody tr th {\n",
       "        vertical-align: top;\n",
       "    }\n",
       "\n",
       "    .dataframe thead th {\n",
       "        text-align: right;\n",
       "    }\n",
       "</style>\n",
       "<table border=\"1\" class=\"dataframe\">\n",
       "  <thead>\n",
       "    <tr style=\"text-align: right;\">\n",
       "      <th></th>\n",
       "      <th>Species_No</th>\n",
       "      <th>Petal_width</th>\n",
       "      <th>Petal_length</th>\n",
       "      <th>Sepal_width</th>\n",
       "      <th>Sepal_length</th>\n",
       "    </tr>\n",
       "  </thead>\n",
       "  <tbody>\n",
       "    <tr>\n",
       "      <th>count</th>\n",
       "      <td>150.000000</td>\n",
       "      <td>150.000000</td>\n",
       "      <td>150.000000</td>\n",
       "      <td>150.000000</td>\n",
       "      <td>150.000000</td>\n",
       "    </tr>\n",
       "    <tr>\n",
       "      <th>mean</th>\n",
       "      <td>2.000000</td>\n",
       "      <td>1.199333</td>\n",
       "      <td>3.758000</td>\n",
       "      <td>3.057333</td>\n",
       "      <td>5.843333</td>\n",
       "    </tr>\n",
       "    <tr>\n",
       "      <th>std</th>\n",
       "      <td>0.819232</td>\n",
       "      <td>0.762238</td>\n",
       "      <td>1.765298</td>\n",
       "      <td>0.435866</td>\n",
       "      <td>0.828066</td>\n",
       "    </tr>\n",
       "    <tr>\n",
       "      <th>min</th>\n",
       "      <td>1.000000</td>\n",
       "      <td>0.100000</td>\n",
       "      <td>1.000000</td>\n",
       "      <td>2.000000</td>\n",
       "      <td>4.300000</td>\n",
       "    </tr>\n",
       "    <tr>\n",
       "      <th>25%</th>\n",
       "      <td>1.000000</td>\n",
       "      <td>0.300000</td>\n",
       "      <td>1.600000</td>\n",
       "      <td>2.800000</td>\n",
       "      <td>5.100000</td>\n",
       "    </tr>\n",
       "    <tr>\n",
       "      <th>50%</th>\n",
       "      <td>2.000000</td>\n",
       "      <td>1.300000</td>\n",
       "      <td>4.350000</td>\n",
       "      <td>3.000000</td>\n",
       "      <td>5.800000</td>\n",
       "    </tr>\n",
       "    <tr>\n",
       "      <th>75%</th>\n",
       "      <td>3.000000</td>\n",
       "      <td>1.800000</td>\n",
       "      <td>5.100000</td>\n",
       "      <td>3.300000</td>\n",
       "      <td>6.400000</td>\n",
       "    </tr>\n",
       "    <tr>\n",
       "      <th>max</th>\n",
       "      <td>3.000000</td>\n",
       "      <td>2.500000</td>\n",
       "      <td>6.900000</td>\n",
       "      <td>4.400000</td>\n",
       "      <td>7.900000</td>\n",
       "    </tr>\n",
       "  </tbody>\n",
       "</table>\n",
       "</div>"
      ],
      "text/plain": [
       "       Species_No  Petal_width  Petal_length  Sepal_width  Sepal_length\n",
       "count  150.000000   150.000000    150.000000   150.000000    150.000000\n",
       "mean     2.000000     1.199333      3.758000     3.057333      5.843333\n",
       "std      0.819232     0.762238      1.765298     0.435866      0.828066\n",
       "min      1.000000     0.100000      1.000000     2.000000      4.300000\n",
       "25%      1.000000     0.300000      1.600000     2.800000      5.100000\n",
       "50%      2.000000     1.300000      4.350000     3.000000      5.800000\n",
       "75%      3.000000     1.800000      5.100000     3.300000      6.400000\n",
       "max      3.000000     2.500000      6.900000     4.400000      7.900000"
      ]
     },
     "execution_count": 84,
     "metadata": {},
     "output_type": "execute_result"
    }
   ],
   "source": [
    "iris_df.describe()"
   ]
  },
  {
   "cell_type": "code",
   "execution_count": 88,
   "id": "73b6620d-58e2-4371-bccf-0882cca38af4",
   "metadata": {},
   "outputs": [],
   "source": [
    "# 깔끔한 그래프 출력을 위해\n",
    "%matplotlib inline\n",
    "import matplotlib as mpl\n",
    "import matplotlib.pyplot as plt\n",
    "mpl.rc('axes', labelsize=14)  # 축 라벨의 글자 크기. \n",
    "mpl.rc('xtick', labelsize=12)\n",
    "mpl.rc('ytick', labelsize=12)"
   ]
  },
  {
   "cell_type": "code",
   "execution_count": 89,
   "id": "bdc64854-75c7-4b65-be75-9559af3df34e",
   "metadata": {
    "tags": []
   },
   "outputs": [
    {
     "data": {
      "text/plain": [
       "array([[<AxesSubplot:title={'center':'Species_No'}>,\n",
       "        <AxesSubplot:title={'center':'Petal_width'}>],\n",
       "       [<AxesSubplot:title={'center':'Petal_length'}>,\n",
       "        <AxesSubplot:title={'center':'Sepal_width'}>],\n",
       "       [<AxesSubplot:title={'center':'Sepal_length'}>, <AxesSubplot:>]],\n",
       "      dtype=object)"
      ]
     },
     "execution_count": 89,
     "metadata": {},
     "output_type": "execute_result"
    },
    {
     "data": {
      "image/png": "[encoded data removed]",
      "text/plain": [
       "<Figure size 864x864 with 6 Axes>"
      ]
     },
     "metadata": {
      "needs_background": "light"
     },
     "output_type": "display_data"
    }
   ],
   "source": [
    "iris_df.hist(bins=20,figsize=(12,12))"
   ]
  },
  {
   "cell_type": "code",
   "execution_count": 87,
   "id": "c19a7365-01d5-49f9-8c37-15e894a8acb4",
   "metadata": {},
   "outputs": [
    {
     "data": {
      "text/html": [
       "<div>\n",
       "<style scoped>\n",
       "    .dataframe tbody tr th:only-of-type {\n",
       "        vertical-align: middle;\n",
       "    }\n",
       "\n",
       "    .dataframe tbody tr th {\n",
       "        vertical-align: top;\n",
       "    }\n",
       "\n",
       "    .dataframe thead th {\n",
       "        text-align: right;\n",
       "    }\n",
       "</style>\n",
       "<table border=\"1\" class=\"dataframe\">\n",
       "  <thead>\n",
       "    <tr style=\"text-align: right;\">\n",
       "      <th></th>\n",
       "      <th>Species_No</th>\n",
       "      <th>Petal_width</th>\n",
       "      <th>Petal_length</th>\n",
       "      <th>Sepal_width</th>\n",
       "      <th>Sepal_length</th>\n",
       "      <th>Species_name</th>\n",
       "    </tr>\n",
       "  </thead>\n",
       "  <tbody>\n",
       "    <tr>\n",
       "      <th>0</th>\n",
       "      <td>1</td>\n",
       "      <td>0.2</td>\n",
       "      <td>1.4</td>\n",
       "      <td>3.5</td>\n",
       "      <td>5.1</td>\n",
       "      <td>Setosa</td>\n",
       "    </tr>\n",
       "    <tr>\n",
       "      <th>1</th>\n",
       "      <td>1</td>\n",
       "      <td>0.2</td>\n",
       "      <td>1.4</td>\n",
       "      <td>3.0</td>\n",
       "      <td>4.9</td>\n",
       "      <td>Setosa</td>\n",
       "    </tr>\n",
       "    <tr>\n",
       "      <th>2</th>\n",
       "      <td>1</td>\n",
       "      <td>0.2</td>\n",
       "      <td>1.3</td>\n",
       "      <td>3.2</td>\n",
       "      <td>4.7</td>\n",
       "      <td>Setosa</td>\n",
       "    </tr>\n",
       "    <tr>\n",
       "      <th>3</th>\n",
       "      <td>1</td>\n",
       "      <td>0.2</td>\n",
       "      <td>1.5</td>\n",
       "      <td>3.1</td>\n",
       "      <td>4.6</td>\n",
       "      <td>Setosa</td>\n",
       "    </tr>\n",
       "    <tr>\n",
       "      <th>4</th>\n",
       "      <td>1</td>\n",
       "      <td>0.2</td>\n",
       "      <td>1.4</td>\n",
       "      <td>3.6</td>\n",
       "      <td>5.0</td>\n",
       "      <td>Setosa</td>\n",
       "    </tr>\n",
       "    <tr>\n",
       "      <th>5</th>\n",
       "      <td>1</td>\n",
       "      <td>0.4</td>\n",
       "      <td>1.7</td>\n",
       "      <td>3.9</td>\n",
       "      <td>5.4</td>\n",
       "      <td>Setosa</td>\n",
       "    </tr>\n",
       "    <tr>\n",
       "      <th>6</th>\n",
       "      <td>1</td>\n",
       "      <td>0.3</td>\n",
       "      <td>1.4</td>\n",
       "      <td>3.4</td>\n",
       "      <td>4.6</td>\n",
       "      <td>Setosa</td>\n",
       "    </tr>\n",
       "    <tr>\n",
       "      <th>7</th>\n",
       "      <td>1</td>\n",
       "      <td>0.2</td>\n",
       "      <td>1.5</td>\n",
       "      <td>3.4</td>\n",
       "      <td>5.0</td>\n",
       "      <td>Setosa</td>\n",
       "    </tr>\n",
       "    <tr>\n",
       "      <th>8</th>\n",
       "      <td>1</td>\n",
       "      <td>0.2</td>\n",
       "      <td>1.4</td>\n",
       "      <td>2.9</td>\n",
       "      <td>4.4</td>\n",
       "      <td>Setosa</td>\n",
       "    </tr>\n",
       "    <tr>\n",
       "      <th>9</th>\n",
       "      <td>1</td>\n",
       "      <td>0.1</td>\n",
       "      <td>1.5</td>\n",
       "      <td>3.1</td>\n",
       "      <td>4.9</td>\n",
       "      <td>Setosa</td>\n",
       "    </tr>\n",
       "  </tbody>\n",
       "</table>\n",
       "</div>"
      ],
      "text/plain": [
       "   Species_No  Petal_width  Petal_length  Sepal_width  Sepal_length  \\\n",
       "0           1          0.2           1.4          3.5           5.1   \n",
       "1           1          0.2           1.4          3.0           4.9   \n",
       "2           1          0.2           1.3          3.2           4.7   \n",
       "3           1          0.2           1.5          3.1           4.6   \n",
       "4           1          0.2           1.4          3.6           5.0   \n",
       "5           1          0.4           1.7          3.9           5.4   \n",
       "6           1          0.3           1.4          3.4           4.6   \n",
       "7           1          0.2           1.5          3.4           5.0   \n",
       "8           1          0.2           1.4          2.9           4.4   \n",
       "9           1          0.1           1.5          3.1           4.9   \n",
       "\n",
       "  Species_name  \n",
       "0       Setosa  \n",
       "1       Setosa  \n",
       "2       Setosa  \n",
       "3       Setosa  \n",
       "4       Setosa  \n",
       "5       Setosa  \n",
       "6       Setosa  \n",
       "7       Setosa  \n",
       "8       Setosa  \n",
       "9       Setosa  "
      ]
     },
     "execution_count": 87,
     "metadata": {},
     "output_type": "execute_result"
    }
   ],
   "source": [
    "iris_df.head(10) #처음 10개 표시"
   ]
  },
  {
   "cell_type": "code",
   "execution_count": 90,
   "id": "d4f17d4c-4f51-4049-b6c7-705dc2bae12c",
   "metadata": {},
   "outputs": [
    {
     "name": "stdout",
     "output_type": "stream",
     "text": [
      "<class 'pandas.core.frame.DataFrame'>\n",
      "RangeIndex: 150 entries, 0 to 149\n",
      "Data columns (total 6 columns):\n",
      " #   Column        Non-Null Count  Dtype  \n",
      "---  ------        --------------  -----  \n",
      " 0   Species_No    150 non-null    int64  \n",
      " 1   Petal_width   150 non-null    float64\n",
      " 2   Petal_length  150 non-null    float64\n",
      " 3   Sepal_width   150 non-null    float64\n",
      " 4   Sepal_length  150 non-null    float64\n",
      " 5   Species_name  150 non-null    object \n",
      "dtypes: float64(4), int64(1), object(1)\n",
      "memory usage: 7.2+ KB\n"
     ]
    }
   ],
   "source": [
    "iris_df.info()"
   ]
  },
  {
   "cell_type": "code",
   "execution_count": 91,
   "id": "b5c66cdf-a1a5-4694-80ed-5f238514460b",
   "metadata": {},
   "outputs": [],
   "source": [
    "iris_df.drop(\"Species_No\",axis=1, inplace=True)"
   ]
  },
  {
   "cell_type": "code",
   "execution_count": 92,
   "id": "3daaca0d-451a-439e-9f4a-9b027e5cc7b2",
   "metadata": {},
   "outputs": [
    {
     "data": {
      "text/html": [
       "<div>\n",
       "<style scoped>\n",
       "    .dataframe tbody tr th:only-of-type {\n",
       "        vertical-align: middle;\n",
       "    }\n",
       "\n",
       "    .dataframe tbody tr th {\n",
       "        vertical-align: top;\n",
       "    }\n",
       "\n",
       "    .dataframe thead th {\n",
       "        text-align: right;\n",
       "    }\n",
       "</style>\n",
       "<table border=\"1\" class=\"dataframe\">\n",
       "  <thead>\n",
       "    <tr style=\"text-align: right;\">\n",
       "      <th></th>\n",
       "      <th>Petal_width</th>\n",
       "      <th>Petal_length</th>\n",
       "      <th>Sepal_width</th>\n",
       "      <th>Sepal_length</th>\n",
       "      <th>Species_name</th>\n",
       "    </tr>\n",
       "  </thead>\n",
       "  <tbody>\n",
       "    <tr>\n",
       "      <th>0</th>\n",
       "      <td>0.2</td>\n",
       "      <td>1.4</td>\n",
       "      <td>3.5</td>\n",
       "      <td>5.1</td>\n",
       "      <td>Setosa</td>\n",
       "    </tr>\n",
       "    <tr>\n",
       "      <th>1</th>\n",
       "      <td>0.2</td>\n",
       "      <td>1.4</td>\n",
       "      <td>3.0</td>\n",
       "      <td>4.9</td>\n",
       "      <td>Setosa</td>\n",
       "    </tr>\n",
       "    <tr>\n",
       "      <th>2</th>\n",
       "      <td>0.2</td>\n",
       "      <td>1.3</td>\n",
       "      <td>3.2</td>\n",
       "      <td>4.7</td>\n",
       "      <td>Setosa</td>\n",
       "    </tr>\n",
       "    <tr>\n",
       "      <th>3</th>\n",
       "      <td>0.2</td>\n",
       "      <td>1.5</td>\n",
       "      <td>3.1</td>\n",
       "      <td>4.6</td>\n",
       "      <td>Setosa</td>\n",
       "    </tr>\n",
       "    <tr>\n",
       "      <th>4</th>\n",
       "      <td>0.2</td>\n",
       "      <td>1.4</td>\n",
       "      <td>3.6</td>\n",
       "      <td>5.0</td>\n",
       "      <td>Setosa</td>\n",
       "    </tr>\n",
       "    <tr>\n",
       "      <th>...</th>\n",
       "      <td>...</td>\n",
       "      <td>...</td>\n",
       "      <td>...</td>\n",
       "      <td>...</td>\n",
       "      <td>...</td>\n",
       "    </tr>\n",
       "    <tr>\n",
       "      <th>145</th>\n",
       "      <td>2.3</td>\n",
       "      <td>5.2</td>\n",
       "      <td>3.0</td>\n",
       "      <td>6.7</td>\n",
       "      <td>Verginica</td>\n",
       "    </tr>\n",
       "    <tr>\n",
       "      <th>146</th>\n",
       "      <td>1.9</td>\n",
       "      <td>5.0</td>\n",
       "      <td>2.5</td>\n",
       "      <td>6.3</td>\n",
       "      <td>Verginica</td>\n",
       "    </tr>\n",
       "    <tr>\n",
       "      <th>147</th>\n",
       "      <td>2.0</td>\n",
       "      <td>5.2</td>\n",
       "      <td>3.0</td>\n",
       "      <td>6.5</td>\n",
       "      <td>Verginica</td>\n",
       "    </tr>\n",
       "    <tr>\n",
       "      <th>148</th>\n",
       "      <td>2.3</td>\n",
       "      <td>5.4</td>\n",
       "      <td>3.4</td>\n",
       "      <td>6.2</td>\n",
       "      <td>Verginica</td>\n",
       "    </tr>\n",
       "    <tr>\n",
       "      <th>149</th>\n",
       "      <td>1.8</td>\n",
       "      <td>5.1</td>\n",
       "      <td>3.0</td>\n",
       "      <td>5.9</td>\n",
       "      <td>Verginica</td>\n",
       "    </tr>\n",
       "  </tbody>\n",
       "</table>\n",
       "<p>150 rows × 5 columns</p>\n",
       "</div>"
      ],
      "text/plain": [
       "     Petal_width  Petal_length  Sepal_width  Sepal_length Species_name\n",
       "0            0.2           1.4          3.5           5.1       Setosa\n",
       "1            0.2           1.4          3.0           4.9       Setosa\n",
       "2            0.2           1.3          3.2           4.7       Setosa\n",
       "3            0.2           1.5          3.1           4.6       Setosa\n",
       "4            0.2           1.4          3.6           5.0       Setosa\n",
       "..           ...           ...          ...           ...          ...\n",
       "145          2.3           5.2          3.0           6.7    Verginica\n",
       "146          1.9           5.0          2.5           6.3    Verginica\n",
       "147          2.0           5.2          3.0           6.5    Verginica\n",
       "148          2.3           5.4          3.4           6.2    Verginica\n",
       "149          1.8           5.1          3.0           5.9    Verginica\n",
       "\n",
       "[150 rows x 5 columns]"
      ]
     },
     "execution_count": 92,
     "metadata": {},
     "output_type": "execute_result"
    }
   ],
   "source": [
    "iris_df    #Species_No 열이 없어짐."
   ]
  },
  {
   "cell_type": "markdown",
   "id": "cb2a77e7-8526-4713-ac90-e237394344c5",
   "metadata": {},
   "source": [
    "### 범주형 자료 (categorical data) 의 개수 세기. (no 숫자형 자료)"
   ]
  },
  {
   "cell_type": "code",
   "execution_count": 98,
   "id": "fb9f5732-c276-4e12-ab63-7d1c819d8b78",
   "metadata": {},
   "outputs": [
    {
     "data": {
      "text/plain": [
       "Verginica     50\n",
       "Versicolor    50\n",
       "Setosa        50\n",
       "Name: Species_name, dtype: int64"
      ]
     },
     "execution_count": 98,
     "metadata": {},
     "output_type": "execute_result"
    }
   ],
   "source": [
    "iris_df[\"Species_name\"].value_counts()"
   ]
  },
  {
   "cell_type": "markdown",
   "id": "8d8a2b36-8769-4ab5-a5b4-c1f0ddc19def",
   "metadata": {},
   "source": [
    "### 데이터 선택하기\n",
    "### 열 선택하기"
   ]
  },
  {
   "cell_type": "code",
   "execution_count": 99,
   "id": "76012aff-1239-4802-8aa8-e0d28caae430",
   "metadata": {},
   "outputs": [
    {
     "data": {
      "text/plain": [
       "pandas.core.series.Series"
      ]
     },
     "execution_count": 99,
     "metadata": {},
     "output_type": "execute_result"
    }
   ],
   "source": [
    "type(iris_df[\"Species_name\"])"
   ]
  },
  {
   "cell_type": "code",
   "execution_count": 100,
   "id": "75a10dad-26ea-402d-a10c-c94189d55e2d",
   "metadata": {},
   "outputs": [
    {
     "data": {
      "text/plain": [
       "pandas.core.series.Series"
      ]
     },
     "execution_count": 100,
     "metadata": {},
     "output_type": "execute_result"
    }
   ],
   "source": [
    "type(iris_df.Species_name)"
   ]
  },
  {
   "cell_type": "code",
   "execution_count": 102,
   "id": "ae7784be-e15c-4338-ad2e-585fe1f9b383",
   "metadata": {},
   "outputs": [
    {
     "data": {
      "text/plain": [
       "1.199333333333334"
      ]
     },
     "execution_count": 102,
     "metadata": {},
     "output_type": "execute_result"
    }
   ],
   "source": [
    "iris_df.Petal_width.mean()"
   ]
  },
  {
   "cell_type": "code",
   "execution_count": 103,
   "id": "2426d559-2abe-469b-8beb-b7b6dc62ea08",
   "metadata": {},
   "outputs": [
    {
     "data": {
      "text/plain": [
       "count    150.000000\n",
       "mean       1.199333\n",
       "std        0.762238\n",
       "min        0.100000\n",
       "25%        0.300000\n",
       "50%        1.300000\n",
       "75%        1.800000\n",
       "max        2.500000\n",
       "Name: Petal_width, dtype: float64"
      ]
     },
     "execution_count": 103,
     "metadata": {},
     "output_type": "execute_result"
    }
   ],
   "source": [
    "iris_df.Petal_width.describe()"
   ]
  },
  {
   "cell_type": "markdown",
   "id": "ec87fba3-b64f-4ee2-bdbf-7c35126fb01b",
   "metadata": {},
   "source": [
    "### 행(row) 선택하기. \n",
    "* 1.위치로 선택하기  .iloc\n",
    "* 2.Index로 선택하기   .loc"
   ]
  },
  {
   "cell_type": "code",
   "execution_count": 106,
   "id": "5c352b60-6f09-400a-a688-34532794b211",
   "metadata": {},
   "outputs": [
    {
     "data": {
      "text/html": [
       "<div>\n",
       "<style scoped>\n",
       "    .dataframe tbody tr th:only-of-type {\n",
       "        vertical-align: middle;\n",
       "    }\n",
       "\n",
       "    .dataframe tbody tr th {\n",
       "        vertical-align: top;\n",
       "    }\n",
       "\n",
       "    .dataframe thead th {\n",
       "        text-align: right;\n",
       "    }\n",
       "</style>\n",
       "<table border=\"1\" class=\"dataframe\">\n",
       "  <thead>\n",
       "    <tr style=\"text-align: right;\">\n",
       "      <th></th>\n",
       "      <th>Petal_width</th>\n",
       "      <th>Petal_length</th>\n",
       "      <th>Sepal_width</th>\n",
       "      <th>Sepal_length</th>\n",
       "      <th>Species_name</th>\n",
       "    </tr>\n",
       "  </thead>\n",
       "  <tbody>\n",
       "    <tr>\n",
       "      <th>10</th>\n",
       "      <td>0.2</td>\n",
       "      <td>1.5</td>\n",
       "      <td>3.7</td>\n",
       "      <td>5.4</td>\n",
       "      <td>Setosa</td>\n",
       "    </tr>\n",
       "    <tr>\n",
       "      <th>11</th>\n",
       "      <td>0.2</td>\n",
       "      <td>1.6</td>\n",
       "      <td>3.4</td>\n",
       "      <td>4.8</td>\n",
       "      <td>Setosa</td>\n",
       "    </tr>\n",
       "    <tr>\n",
       "      <th>12</th>\n",
       "      <td>0.1</td>\n",
       "      <td>1.4</td>\n",
       "      <td>3.0</td>\n",
       "      <td>4.8</td>\n",
       "      <td>Setosa</td>\n",
       "    </tr>\n",
       "    <tr>\n",
       "      <th>13</th>\n",
       "      <td>0.1</td>\n",
       "      <td>1.1</td>\n",
       "      <td>3.0</td>\n",
       "      <td>4.3</td>\n",
       "      <td>Setosa</td>\n",
       "    </tr>\n",
       "    <tr>\n",
       "      <th>14</th>\n",
       "      <td>0.2</td>\n",
       "      <td>1.2</td>\n",
       "      <td>4.0</td>\n",
       "      <td>5.8</td>\n",
       "      <td>Setosa</td>\n",
       "    </tr>\n",
       "  </tbody>\n",
       "</table>\n",
       "</div>"
      ],
      "text/plain": [
       "    Petal_width  Petal_length  Sepal_width  Sepal_length Species_name\n",
       "10          0.2           1.5          3.7           5.4       Setosa\n",
       "11          0.2           1.6          3.4           4.8       Setosa\n",
       "12          0.1           1.4          3.0           4.8       Setosa\n",
       "13          0.1           1.1          3.0           4.3       Setosa\n",
       "14          0.2           1.2          4.0           5.8       Setosa"
      ]
     },
     "execution_count": 106,
     "metadata": {},
     "output_type": "execute_result"
    }
   ],
   "source": [
    "iris_df.iloc[10:15] # 순서대로 선택하기."
   ]
  },
  {
   "cell_type": "code",
   "execution_count": 107,
   "id": "83f38bf2-38f3-4cad-ad95-90452a9b1740",
   "metadata": {},
   "outputs": [
    {
     "data": {
      "text/html": [
       "<div>\n",
       "<style scoped>\n",
       "    .dataframe tbody tr th:only-of-type {\n",
       "        vertical-align: middle;\n",
       "    }\n",
       "\n",
       "    .dataframe tbody tr th {\n",
       "        vertical-align: top;\n",
       "    }\n",
       "\n",
       "    .dataframe thead th {\n",
       "        text-align: right;\n",
       "    }\n",
       "</style>\n",
       "<table border=\"1\" class=\"dataframe\">\n",
       "  <thead>\n",
       "    <tr style=\"text-align: right;\">\n",
       "      <th></th>\n",
       "      <th>Petal_width</th>\n",
       "      <th>Petal_length</th>\n",
       "      <th>Sepal_width</th>\n",
       "      <th>Sepal_length</th>\n",
       "      <th>Species_name</th>\n",
       "    </tr>\n",
       "  </thead>\n",
       "  <tbody>\n",
       "    <tr>\n",
       "      <th>16</th>\n",
       "      <td>0.4</td>\n",
       "      <td>1.3</td>\n",
       "      <td>3.9</td>\n",
       "      <td>5.4</td>\n",
       "      <td>Setosa</td>\n",
       "    </tr>\n",
       "    <tr>\n",
       "      <th>20</th>\n",
       "      <td>0.2</td>\n",
       "      <td>1.7</td>\n",
       "      <td>3.4</td>\n",
       "      <td>5.4</td>\n",
       "      <td>Setosa</td>\n",
       "    </tr>\n",
       "    <tr>\n",
       "      <th>100</th>\n",
       "      <td>2.5</td>\n",
       "      <td>6.0</td>\n",
       "      <td>3.3</td>\n",
       "      <td>6.3</td>\n",
       "      <td>Verginica</td>\n",
       "    </tr>\n",
       "    <tr>\n",
       "      <th>106</th>\n",
       "      <td>1.7</td>\n",
       "      <td>4.5</td>\n",
       "      <td>2.5</td>\n",
       "      <td>4.9</td>\n",
       "      <td>Verginica</td>\n",
       "    </tr>\n",
       "  </tbody>\n",
       "</table>\n",
       "</div>"
      ],
      "text/plain": [
       "     Petal_width  Petal_length  Sepal_width  Sepal_length Species_name\n",
       "16           0.4           1.3          3.9           5.4       Setosa\n",
       "20           0.2           1.7          3.4           5.4       Setosa\n",
       "100          2.5           6.0          3.3           6.3    Verginica\n",
       "106          1.7           4.5          2.5           4.9    Verginica"
      ]
     },
     "execution_count": 107,
     "metadata": {},
     "output_type": "execute_result"
    }
   ],
   "source": [
    "iris_df.loc[[16, 20, 100, 106]] # Index 번호로 선택하기. "
   ]
  },
  {
   "cell_type": "code",
   "execution_count": 109,
   "id": "789f6f41-d50e-4bef-b78a-d42d5738aa7f",
   "metadata": {},
   "outputs": [
    {
     "data": {
      "text/html": [
       "<div>\n",
       "<style scoped>\n",
       "    .dataframe tbody tr th:only-of-type {\n",
       "        vertical-align: middle;\n",
       "    }\n",
       "\n",
       "    .dataframe tbody tr th {\n",
       "        vertical-align: top;\n",
       "    }\n",
       "\n",
       "    .dataframe thead th {\n",
       "        text-align: right;\n",
       "    }\n",
       "</style>\n",
       "<table border=\"1\" class=\"dataframe\">\n",
       "  <thead>\n",
       "    <tr style=\"text-align: right;\">\n",
       "      <th></th>\n",
       "      <th>Petal_width</th>\n",
       "      <th>Petal_length</th>\n",
       "      <th>Sepal_width</th>\n",
       "      <th>Sepal_length</th>\n",
       "      <th>Species_name</th>\n",
       "    </tr>\n",
       "  </thead>\n",
       "  <tbody>\n",
       "    <tr>\n",
       "      <th>100</th>\n",
       "      <td>2.5</td>\n",
       "      <td>6.0</td>\n",
       "      <td>3.3</td>\n",
       "      <td>6.3</td>\n",
       "      <td>Verginica</td>\n",
       "    </tr>\n",
       "    <tr>\n",
       "      <th>105</th>\n",
       "      <td>2.1</td>\n",
       "      <td>6.6</td>\n",
       "      <td>3.0</td>\n",
       "      <td>7.6</td>\n",
       "      <td>Verginica</td>\n",
       "    </tr>\n",
       "    <tr>\n",
       "      <th>107</th>\n",
       "      <td>1.8</td>\n",
       "      <td>6.3</td>\n",
       "      <td>2.9</td>\n",
       "      <td>7.3</td>\n",
       "      <td>Verginica</td>\n",
       "    </tr>\n",
       "    <tr>\n",
       "      <th>109</th>\n",
       "      <td>2.5</td>\n",
       "      <td>6.1</td>\n",
       "      <td>3.6</td>\n",
       "      <td>7.2</td>\n",
       "      <td>Verginica</td>\n",
       "    </tr>\n",
       "    <tr>\n",
       "      <th>117</th>\n",
       "      <td>2.2</td>\n",
       "      <td>6.7</td>\n",
       "      <td>3.8</td>\n",
       "      <td>7.7</td>\n",
       "      <td>Verginica</td>\n",
       "    </tr>\n",
       "    <tr>\n",
       "      <th>118</th>\n",
       "      <td>2.3</td>\n",
       "      <td>6.9</td>\n",
       "      <td>2.6</td>\n",
       "      <td>7.7</td>\n",
       "      <td>Verginica</td>\n",
       "    </tr>\n",
       "    <tr>\n",
       "      <th>122</th>\n",
       "      <td>2.0</td>\n",
       "      <td>6.7</td>\n",
       "      <td>2.8</td>\n",
       "      <td>7.7</td>\n",
       "      <td>Verginica</td>\n",
       "    </tr>\n",
       "    <tr>\n",
       "      <th>125</th>\n",
       "      <td>1.8</td>\n",
       "      <td>6.0</td>\n",
       "      <td>3.2</td>\n",
       "      <td>7.2</td>\n",
       "      <td>Verginica</td>\n",
       "    </tr>\n",
       "    <tr>\n",
       "      <th>130</th>\n",
       "      <td>1.9</td>\n",
       "      <td>6.1</td>\n",
       "      <td>2.8</td>\n",
       "      <td>7.4</td>\n",
       "      <td>Verginica</td>\n",
       "    </tr>\n",
       "    <tr>\n",
       "      <th>131</th>\n",
       "      <td>2.0</td>\n",
       "      <td>6.4</td>\n",
       "      <td>3.8</td>\n",
       "      <td>7.9</td>\n",
       "      <td>Verginica</td>\n",
       "    </tr>\n",
       "    <tr>\n",
       "      <th>135</th>\n",
       "      <td>2.3</td>\n",
       "      <td>6.1</td>\n",
       "      <td>3.0</td>\n",
       "      <td>7.7</td>\n",
       "      <td>Verginica</td>\n",
       "    </tr>\n",
       "  </tbody>\n",
       "</table>\n",
       "</div>"
      ],
      "text/plain": [
       "     Petal_width  Petal_length  Sepal_width  Sepal_length Species_name\n",
       "100          2.5           6.0          3.3           6.3    Verginica\n",
       "105          2.1           6.6          3.0           7.6    Verginica\n",
       "107          1.8           6.3          2.9           7.3    Verginica\n",
       "109          2.5           6.1          3.6           7.2    Verginica\n",
       "117          2.2           6.7          3.8           7.7    Verginica\n",
       "118          2.3           6.9          2.6           7.7    Verginica\n",
       "122          2.0           6.7          2.8           7.7    Verginica\n",
       "125          1.8           6.0          3.2           7.2    Verginica\n",
       "130          1.9           6.1          2.8           7.4    Verginica\n",
       "131          2.0           6.4          3.8           7.9    Verginica\n",
       "135          2.3           6.1          3.0           7.7    Verginica"
      ]
     },
     "execution_count": 109,
     "metadata": {},
     "output_type": "execute_result"
    }
   ],
   "source": [
    "iris_df[iris_df.Petal_length >= 6.0]"
   ]
  },
  {
   "cell_type": "markdown",
   "id": "e76effb2-65b7-4ae3-9c7a-8486ae35f67b",
   "metadata": {},
   "source": [
    "### 속성 사이의 관계를 그려보자! - scatter_matrix"
   ]
  },
  {
   "cell_type": "code",
   "execution_count": 110,
   "id": "da3384db-ab8c-47f2-a79d-07e360887eef",
   "metadata": {},
   "outputs": [],
   "source": [
    "from pandas.plotting import scatter_matrix  #dataframe 안의 각 column(열)의 상관관계 볼 수 있음."
   ]
  },
  {
   "cell_type": "code",
   "execution_count": 111,
   "id": "e25e0a30-f1e4-40ef-b227-0dddd53f9f59",
   "metadata": {},
   "outputs": [
    {
     "data": {
      "text/plain": [
       "array([[<AxesSubplot:xlabel='Petal_width', ylabel='Petal_width'>,\n",
       "        <AxesSubplot:xlabel='Petal_length', ylabel='Petal_width'>,\n",
       "        <AxesSubplot:xlabel='Sepal_width', ylabel='Petal_width'>,\n",
       "        <AxesSubplot:xlabel='Sepal_length', ylabel='Petal_width'>],\n",
       "       [<AxesSubplot:xlabel='Petal_width', ylabel='Petal_length'>,\n",
       "        <AxesSubplot:xlabel='Petal_length', ylabel='Petal_length'>,\n",
       "        <AxesSubplot:xlabel='Sepal_width', ylabel='Petal_length'>,\n",
       "        <AxesSubplot:xlabel='Sepal_length', ylabel='Petal_length'>],\n",
       "       [<AxesSubplot:xlabel='Petal_width', ylabel='Sepal_width'>,\n",
       "        <AxesSubplot:xlabel='Petal_length', ylabel='Sepal_width'>,\n",
       "        <AxesSubplot:xlabel='Sepal_width', ylabel='Sepal_width'>,\n",
       "        <AxesSubplot:xlabel='Sepal_length', ylabel='Sepal_width'>],\n",
       "       [<AxesSubplot:xlabel='Petal_width', ylabel='Sepal_length'>,\n",
       "        <AxesSubplot:xlabel='Petal_length', ylabel='Sepal_length'>,\n",
       "        <AxesSubplot:xlabel='Sepal_width', ylabel='Sepal_length'>,\n",
       "        <AxesSubplot:xlabel='Sepal_length', ylabel='Sepal_length'>]],\n",
       "      dtype=object)"
      ]
     },
     "execution_count": 111,
     "metadata": {},
     "output_type": "execute_result"
    },
    {
     "data": {
      "image/png": "[encoded data removed]",
      "text/plain": [
       "<Figure size 864x864 with 16 Axes>"
      ]
     },
     "metadata": {
      "needs_background": "light"
     },
     "output_type": "display_data"
    }
   ],
   "source": [
    "scatter_matrix(iris_df, figsize=(12,12))  "
   ]
  },
  {
   "cell_type": "markdown",
   "id": "a11a1f00-ce27-4f4d-90e2-245fdb00275e",
   "metadata": {},
   "source": [
    "## 전체 Dataset 분리 - 학습용 데이터 / 테스트용 데이터\n",
    "* train,test = ~sklearn.model_selection.~train_test_split()  \n",
    "* 각 dataset 당 train set, test set 두개의 변수로 받음  \n",
    "예) X(feature), y(target) 을 항상 아래의 4개 변수 순서대로 리턴해준다.  \n",
    "X_train, X_test, y_train, y_test = train_test_split(X,y, ... )"
   ]
  },
  {
   "cell_type": "code",
   "execution_count": 114,
   "id": "fa85f657-6ec8-4c81-8fb7-98d7aad01a3b",
   "metadata": {},
   "outputs": [],
   "source": [
    "from sklearn.model_selection import *"
   ]
  },
  {
   "cell_type": "code",
   "execution_count": 117,
   "id": "2bc68a9d-760d-495e-9daa-ebd05999c4de",
   "metadata": {},
   "outputs": [],
   "source": [
    "train_set, test_set = sklearn.model_selection.train_test_split(iris_df, test_size=0.2, random_state=1234) \n",
    "# test_size(test용 데이터)를 20%로 설정. 설정하지 않을 시 기본값은 0.25 (25%)\n",
    "# 먼저 dataset을 무작위로 섞게 되는데 무작위로 섞는 방식을 고정시켜서 결과를 재현가능하게 하려면 random_state에 임의의 정수를 주고 다음번 사용 시에도 똑같은 random_state 입력. "
   ]
  },
  {
   "cell_type": "code",
   "execution_count": 120,
   "id": "92131497-116a-4351-87d8-8c4c446a2387",
   "metadata": {},
   "outputs": [
    {
     "data": {
      "text/html": [
       "<div>\n",
       "<style scoped>\n",
       "    .dataframe tbody tr th:only-of-type {\n",
       "        vertical-align: middle;\n",
       "    }\n",
       "\n",
       "    .dataframe tbody tr th {\n",
       "        vertical-align: top;\n",
       "    }\n",
       "\n",
       "    .dataframe thead th {\n",
       "        text-align: right;\n",
       "    }\n",
       "</style>\n",
       "<table border=\"1\" class=\"dataframe\">\n",
       "  <thead>\n",
       "    <tr style=\"text-align: right;\">\n",
       "      <th></th>\n",
       "      <th>Petal_width</th>\n",
       "      <th>Petal_length</th>\n",
       "      <th>Sepal_width</th>\n",
       "      <th>Sepal_length</th>\n",
       "    </tr>\n",
       "  </thead>\n",
       "  <tbody>\n",
       "    <tr>\n",
       "      <th>count</th>\n",
       "      <td>120.000000</td>\n",
       "      <td>120.000000</td>\n",
       "      <td>120.00000</td>\n",
       "      <td>120.000000</td>\n",
       "    </tr>\n",
       "    <tr>\n",
       "      <th>mean</th>\n",
       "      <td>1.197500</td>\n",
       "      <td>3.729167</td>\n",
       "      <td>3.06000</td>\n",
       "      <td>5.832500</td>\n",
       "    </tr>\n",
       "    <tr>\n",
       "      <th>std</th>\n",
       "      <td>0.772583</td>\n",
       "      <td>1.766323</td>\n",
       "      <td>0.45548</td>\n",
       "      <td>0.819116</td>\n",
       "    </tr>\n",
       "    <tr>\n",
       "      <th>min</th>\n",
       "      <td>0.100000</td>\n",
       "      <td>1.000000</td>\n",
       "      <td>2.00000</td>\n",
       "      <td>4.300000</td>\n",
       "    </tr>\n",
       "    <tr>\n",
       "      <th>25%</th>\n",
       "      <td>0.300000</td>\n",
       "      <td>1.500000</td>\n",
       "      <td>2.80000</td>\n",
       "      <td>5.100000</td>\n",
       "    </tr>\n",
       "    <tr>\n",
       "      <th>50%</th>\n",
       "      <td>1.300000</td>\n",
       "      <td>4.400000</td>\n",
       "      <td>3.00000</td>\n",
       "      <td>5.750000</td>\n",
       "    </tr>\n",
       "    <tr>\n",
       "      <th>75%</th>\n",
       "      <td>1.800000</td>\n",
       "      <td>5.100000</td>\n",
       "      <td>3.32500</td>\n",
       "      <td>6.400000</td>\n",
       "    </tr>\n",
       "    <tr>\n",
       "      <th>max</th>\n",
       "      <td>2.500000</td>\n",
       "      <td>6.900000</td>\n",
       "      <td>4.40000</td>\n",
       "      <td>7.900000</td>\n",
       "    </tr>\n",
       "  </tbody>\n",
       "</table>\n",
       "</div>"
      ],
      "text/plain": [
       "       Petal_width  Petal_length  Sepal_width  Sepal_length\n",
       "count   120.000000    120.000000    120.00000    120.000000\n",
       "mean      1.197500      3.729167      3.06000      5.832500\n",
       "std       0.772583      1.766323      0.45548      0.819116\n",
       "min       0.100000      1.000000      2.00000      4.300000\n",
       "25%       0.300000      1.500000      2.80000      5.100000\n",
       "50%       1.300000      4.400000      3.00000      5.750000\n",
       "75%       1.800000      5.100000      3.32500      6.400000\n",
       "max       2.500000      6.900000      4.40000      7.900000"
      ]
     },
     "execution_count": 120,
     "metadata": {},
     "output_type": "execute_result"
    }
   ],
   "source": [
    "train_set.describe()  #150개중 120개가 분래 되었음"
   ]
  },
  {
   "cell_type": "code",
   "execution_count": 119,
   "id": "e388923a-4bef-47cc-9f5f-5f04fe60de6b",
   "metadata": {},
   "outputs": [
    {
     "data": {
      "text/html": [
       "<div>\n",
       "<style scoped>\n",
       "    .dataframe tbody tr th:only-of-type {\n",
       "        vertical-align: middle;\n",
       "    }\n",
       "\n",
       "    .dataframe tbody tr th {\n",
       "        vertical-align: top;\n",
       "    }\n",
       "\n",
       "    .dataframe thead th {\n",
       "        text-align: right;\n",
       "    }\n",
       "</style>\n",
       "<table border=\"1\" class=\"dataframe\">\n",
       "  <thead>\n",
       "    <tr style=\"text-align: right;\">\n",
       "      <th></th>\n",
       "      <th>Petal_width</th>\n",
       "      <th>Petal_length</th>\n",
       "      <th>Sepal_width</th>\n",
       "      <th>Sepal_length</th>\n",
       "    </tr>\n",
       "  </thead>\n",
       "  <tbody>\n",
       "    <tr>\n",
       "      <th>count</th>\n",
       "      <td>30.000000</td>\n",
       "      <td>30.000000</td>\n",
       "      <td>30.000000</td>\n",
       "      <td>30.000000</td>\n",
       "    </tr>\n",
       "    <tr>\n",
       "      <th>mean</th>\n",
       "      <td>1.206667</td>\n",
       "      <td>3.873333</td>\n",
       "      <td>3.046667</td>\n",
       "      <td>5.886667</td>\n",
       "    </tr>\n",
       "    <tr>\n",
       "      <th>std</th>\n",
       "      <td>0.731995</td>\n",
       "      <td>1.786527</td>\n",
       "      <td>0.353049</td>\n",
       "      <td>0.876015</td>\n",
       "    </tr>\n",
       "    <tr>\n",
       "      <th>min</th>\n",
       "      <td>0.200000</td>\n",
       "      <td>1.200000</td>\n",
       "      <td>2.500000</td>\n",
       "      <td>4.400000</td>\n",
       "    </tr>\n",
       "    <tr>\n",
       "      <th>25%</th>\n",
       "      <td>0.375000</td>\n",
       "      <td>1.600000</td>\n",
       "      <td>2.800000</td>\n",
       "      <td>5.200000</td>\n",
       "    </tr>\n",
       "    <tr>\n",
       "      <th>50%</th>\n",
       "      <td>1.300000</td>\n",
       "      <td>4.200000</td>\n",
       "      <td>3.000000</td>\n",
       "      <td>5.850000</td>\n",
       "    </tr>\n",
       "    <tr>\n",
       "      <th>75%</th>\n",
       "      <td>1.725000</td>\n",
       "      <td>4.850000</td>\n",
       "      <td>3.275000</td>\n",
       "      <td>6.375000</td>\n",
       "    </tr>\n",
       "    <tr>\n",
       "      <th>max</th>\n",
       "      <td>2.500000</td>\n",
       "      <td>6.700000</td>\n",
       "      <td>3.800000</td>\n",
       "      <td>7.700000</td>\n",
       "    </tr>\n",
       "  </tbody>\n",
       "</table>\n",
       "</div>"
      ],
      "text/plain": [
       "       Petal_width  Petal_length  Sepal_width  Sepal_length\n",
       "count    30.000000     30.000000    30.000000     30.000000\n",
       "mean      1.206667      3.873333     3.046667      5.886667\n",
       "std       0.731995      1.786527     0.353049      0.876015\n",
       "min       0.200000      1.200000     2.500000      4.400000\n",
       "25%       0.375000      1.600000     2.800000      5.200000\n",
       "50%       1.300000      4.200000     3.000000      5.850000\n",
       "75%       1.725000      4.850000     3.275000      6.375000\n",
       "max       2.500000      6.700000     3.800000      7.700000"
      ]
     },
     "execution_count": 119,
     "metadata": {},
     "output_type": "execute_result"
    }
   ],
   "source": [
    "test_set.describe()   #150개중 30개가 분리되었음."
   ]
  },
  {
   "cell_type": "code",
   "execution_count": 121,
   "id": "7ca402d7-e8ed-413a-a169-db4a9e3c7a7d",
   "metadata": {},
   "outputs": [
    {
     "data": {
      "text/html": [
       "<div>\n",
       "<style scoped>\n",
       "    .dataframe tbody tr th:only-of-type {\n",
       "        vertical-align: middle;\n",
       "    }\n",
       "\n",
       "    .dataframe tbody tr th {\n",
       "        vertical-align: top;\n",
       "    }\n",
       "\n",
       "    .dataframe thead th {\n",
       "        text-align: right;\n",
       "    }\n",
       "</style>\n",
       "<table border=\"1\" class=\"dataframe\">\n",
       "  <thead>\n",
       "    <tr style=\"text-align: right;\">\n",
       "      <th></th>\n",
       "      <th>Petal_width</th>\n",
       "      <th>Petal_length</th>\n",
       "      <th>Sepal_width</th>\n",
       "      <th>Sepal_length</th>\n",
       "      <th>Species_name</th>\n",
       "    </tr>\n",
       "  </thead>\n",
       "  <tbody>\n",
       "    <tr>\n",
       "      <th>98</th>\n",
       "      <td>1.1</td>\n",
       "      <td>3.0</td>\n",
       "      <td>2.5</td>\n",
       "      <td>5.1</td>\n",
       "      <td>Versicolor</td>\n",
       "    </tr>\n",
       "    <tr>\n",
       "      <th>126</th>\n",
       "      <td>1.8</td>\n",
       "      <td>4.8</td>\n",
       "      <td>2.8</td>\n",
       "      <td>6.2</td>\n",
       "      <td>Verginica</td>\n",
       "    </tr>\n",
       "    <tr>\n",
       "      <th>40</th>\n",
       "      <td>0.3</td>\n",
       "      <td>1.3</td>\n",
       "      <td>3.5</td>\n",
       "      <td>5.0</td>\n",
       "      <td>Setosa</td>\n",
       "    </tr>\n",
       "    <tr>\n",
       "      <th>133</th>\n",
       "      <td>1.5</td>\n",
       "      <td>5.1</td>\n",
       "      <td>2.8</td>\n",
       "      <td>6.3</td>\n",
       "      <td>Verginica</td>\n",
       "    </tr>\n",
       "    <tr>\n",
       "      <th>77</th>\n",
       "      <td>1.7</td>\n",
       "      <td>5.0</td>\n",
       "      <td>3.0</td>\n",
       "      <td>6.7</td>\n",
       "      <td>Versicolor</td>\n",
       "    </tr>\n",
       "    <tr>\n",
       "      <th>...</th>\n",
       "      <td>...</td>\n",
       "      <td>...</td>\n",
       "      <td>...</td>\n",
       "      <td>...</td>\n",
       "      <td>...</td>\n",
       "    </tr>\n",
       "    <tr>\n",
       "      <th>143</th>\n",
       "      <td>2.3</td>\n",
       "      <td>5.9</td>\n",
       "      <td>3.2</td>\n",
       "      <td>6.8</td>\n",
       "      <td>Verginica</td>\n",
       "    </tr>\n",
       "    <tr>\n",
       "      <th>116</th>\n",
       "      <td>1.8</td>\n",
       "      <td>5.5</td>\n",
       "      <td>3.0</td>\n",
       "      <td>6.5</td>\n",
       "      <td>Verginica</td>\n",
       "    </tr>\n",
       "    <tr>\n",
       "      <th>53</th>\n",
       "      <td>1.3</td>\n",
       "      <td>4.0</td>\n",
       "      <td>2.3</td>\n",
       "      <td>5.5</td>\n",
       "      <td>Versicolor</td>\n",
       "    </tr>\n",
       "    <tr>\n",
       "      <th>38</th>\n",
       "      <td>0.2</td>\n",
       "      <td>1.3</td>\n",
       "      <td>3.0</td>\n",
       "      <td>4.4</td>\n",
       "      <td>Setosa</td>\n",
       "    </tr>\n",
       "    <tr>\n",
       "      <th>47</th>\n",
       "      <td>0.2</td>\n",
       "      <td>1.4</td>\n",
       "      <td>3.2</td>\n",
       "      <td>4.6</td>\n",
       "      <td>Setosa</td>\n",
       "    </tr>\n",
       "  </tbody>\n",
       "</table>\n",
       "<p>120 rows × 5 columns</p>\n",
       "</div>"
      ],
      "text/plain": [
       "     Petal_width  Petal_length  Sepal_width  Sepal_length Species_name\n",
       "98           1.1           3.0          2.5           5.1   Versicolor\n",
       "126          1.8           4.8          2.8           6.2    Verginica\n",
       "40           0.3           1.3          3.5           5.0       Setosa\n",
       "133          1.5           5.1          2.8           6.3    Verginica\n",
       "77           1.7           5.0          3.0           6.7   Versicolor\n",
       "..           ...           ...          ...           ...          ...\n",
       "143          2.3           5.9          3.2           6.8    Verginica\n",
       "116          1.8           5.5          3.0           6.5    Verginica\n",
       "53           1.3           4.0          2.3           5.5   Versicolor\n",
       "38           0.2           1.3          3.0           4.4       Setosa\n",
       "47           0.2           1.4          3.2           4.6       Setosa\n",
       "\n",
       "[120 rows x 5 columns]"
      ]
     },
     "execution_count": 121,
     "metadata": {},
     "output_type": "execute_result"
    }
   ],
   "source": [
    "train_set        #인덱스를 보면 랜덤하게 섞인 것을 알 수 있다."
   ]
  },
  {
   "cell_type": "markdown",
   "id": "f005483f-6a1f-404d-8a0b-2cab5c606fea",
   "metadata": {},
   "source": [
    "### 데이터 정렬\n",
    "* **인덱스**를 이용한 **오름차순**  train_set.sort_index(axis=0) \n",
    "* **인덱스**를 이용한 **내림차순**  train_set.sort_index(axis=0, ascending=False) \n",
    "* **특정 열**을 이용한 **오름/내림차순**으로 정렬  \n",
    "df~.sort_values(by='열이름', ascending=True)  <--True:오름차순"
   ]
  },
  {
   "cell_type": "code",
   "execution_count": 122,
   "id": "d438cbbd-bb2d-459a-83bc-d87e8fcf2be9",
   "metadata": {},
   "outputs": [
    {
     "data": {
      "text/html": [
       "<div>\n",
       "<style scoped>\n",
       "    .dataframe tbody tr th:only-of-type {\n",
       "        vertical-align: middle;\n",
       "    }\n",
       "\n",
       "    .dataframe tbody tr th {\n",
       "        vertical-align: top;\n",
       "    }\n",
       "\n",
       "    .dataframe thead th {\n",
       "        text-align: right;\n",
       "    }\n",
       "</style>\n",
       "<table border=\"1\" class=\"dataframe\">\n",
       "  <thead>\n",
       "    <tr style=\"text-align: right;\">\n",
       "      <th></th>\n",
       "      <th>Petal_width</th>\n",
       "      <th>Petal_length</th>\n",
       "      <th>Sepal_width</th>\n",
       "      <th>Sepal_length</th>\n",
       "      <th>Species_name</th>\n",
       "    </tr>\n",
       "  </thead>\n",
       "  <tbody>\n",
       "    <tr>\n",
       "      <th>0</th>\n",
       "      <td>0.2</td>\n",
       "      <td>1.4</td>\n",
       "      <td>3.5</td>\n",
       "      <td>5.1</td>\n",
       "      <td>Setosa</td>\n",
       "    </tr>\n",
       "    <tr>\n",
       "      <th>1</th>\n",
       "      <td>0.2</td>\n",
       "      <td>1.4</td>\n",
       "      <td>3.0</td>\n",
       "      <td>4.9</td>\n",
       "      <td>Setosa</td>\n",
       "    </tr>\n",
       "    <tr>\n",
       "      <th>2</th>\n",
       "      <td>0.2</td>\n",
       "      <td>1.3</td>\n",
       "      <td>3.2</td>\n",
       "      <td>4.7</td>\n",
       "      <td>Setosa</td>\n",
       "    </tr>\n",
       "    <tr>\n",
       "      <th>3</th>\n",
       "      <td>0.2</td>\n",
       "      <td>1.5</td>\n",
       "      <td>3.1</td>\n",
       "      <td>4.6</td>\n",
       "      <td>Setosa</td>\n",
       "    </tr>\n",
       "    <tr>\n",
       "      <th>4</th>\n",
       "      <td>0.2</td>\n",
       "      <td>1.4</td>\n",
       "      <td>3.6</td>\n",
       "      <td>5.0</td>\n",
       "      <td>Setosa</td>\n",
       "    </tr>\n",
       "    <tr>\n",
       "      <th>...</th>\n",
       "      <td>...</td>\n",
       "      <td>...</td>\n",
       "      <td>...</td>\n",
       "      <td>...</td>\n",
       "      <td>...</td>\n",
       "    </tr>\n",
       "    <tr>\n",
       "      <th>145</th>\n",
       "      <td>2.3</td>\n",
       "      <td>5.2</td>\n",
       "      <td>3.0</td>\n",
       "      <td>6.7</td>\n",
       "      <td>Verginica</td>\n",
       "    </tr>\n",
       "    <tr>\n",
       "      <th>146</th>\n",
       "      <td>1.9</td>\n",
       "      <td>5.0</td>\n",
       "      <td>2.5</td>\n",
       "      <td>6.3</td>\n",
       "      <td>Verginica</td>\n",
       "    </tr>\n",
       "    <tr>\n",
       "      <th>147</th>\n",
       "      <td>2.0</td>\n",
       "      <td>5.2</td>\n",
       "      <td>3.0</td>\n",
       "      <td>6.5</td>\n",
       "      <td>Verginica</td>\n",
       "    </tr>\n",
       "    <tr>\n",
       "      <th>148</th>\n",
       "      <td>2.3</td>\n",
       "      <td>5.4</td>\n",
       "      <td>3.4</td>\n",
       "      <td>6.2</td>\n",
       "      <td>Verginica</td>\n",
       "    </tr>\n",
       "    <tr>\n",
       "      <th>149</th>\n",
       "      <td>1.8</td>\n",
       "      <td>5.1</td>\n",
       "      <td>3.0</td>\n",
       "      <td>5.9</td>\n",
       "      <td>Verginica</td>\n",
       "    </tr>\n",
       "  </tbody>\n",
       "</table>\n",
       "<p>120 rows × 5 columns</p>\n",
       "</div>"
      ],
      "text/plain": [
       "     Petal_width  Petal_length  Sepal_width  Sepal_length Species_name\n",
       "0            0.2           1.4          3.5           5.1       Setosa\n",
       "1            0.2           1.4          3.0           4.9       Setosa\n",
       "2            0.2           1.3          3.2           4.7       Setosa\n",
       "3            0.2           1.5          3.1           4.6       Setosa\n",
       "4            0.2           1.4          3.6           5.0       Setosa\n",
       "..           ...           ...          ...           ...          ...\n",
       "145          2.3           5.2          3.0           6.7    Verginica\n",
       "146          1.9           5.0          2.5           6.3    Verginica\n",
       "147          2.0           5.2          3.0           6.5    Verginica\n",
       "148          2.3           5.4          3.4           6.2    Verginica\n",
       "149          1.8           5.1          3.0           5.9    Verginica\n",
       "\n",
       "[120 rows x 5 columns]"
      ]
     },
     "execution_count": 122,
     "metadata": {},
     "output_type": "execute_result"
    }
   ],
   "source": [
    "train_set.sort_index(axis=0)       #(axis=0 행, axis=1 열)"
   ]
  },
  {
   "cell_type": "code",
   "execution_count": 123,
   "id": "7547c18c-728d-4126-bad2-3151ac177b31",
   "metadata": {},
   "outputs": [
    {
     "data": {
      "text/html": [
       "<div>\n",
       "<style scoped>\n",
       "    .dataframe tbody tr th:only-of-type {\n",
       "        vertical-align: middle;\n",
       "    }\n",
       "\n",
       "    .dataframe tbody tr th {\n",
       "        vertical-align: top;\n",
       "    }\n",
       "\n",
       "    .dataframe thead th {\n",
       "        text-align: right;\n",
       "    }\n",
       "</style>\n",
       "<table border=\"1\" class=\"dataframe\">\n",
       "  <thead>\n",
       "    <tr style=\"text-align: right;\">\n",
       "      <th></th>\n",
       "      <th>Petal_width</th>\n",
       "      <th>Petal_length</th>\n",
       "      <th>Sepal_width</th>\n",
       "      <th>Sepal_length</th>\n",
       "      <th>Species_name</th>\n",
       "    </tr>\n",
       "  </thead>\n",
       "  <tbody>\n",
       "    <tr>\n",
       "      <th>149</th>\n",
       "      <td>1.8</td>\n",
       "      <td>5.1</td>\n",
       "      <td>3.0</td>\n",
       "      <td>5.9</td>\n",
       "      <td>Verginica</td>\n",
       "    </tr>\n",
       "    <tr>\n",
       "      <th>148</th>\n",
       "      <td>2.3</td>\n",
       "      <td>5.4</td>\n",
       "      <td>3.4</td>\n",
       "      <td>6.2</td>\n",
       "      <td>Verginica</td>\n",
       "    </tr>\n",
       "    <tr>\n",
       "      <th>147</th>\n",
       "      <td>2.0</td>\n",
       "      <td>5.2</td>\n",
       "      <td>3.0</td>\n",
       "      <td>6.5</td>\n",
       "      <td>Verginica</td>\n",
       "    </tr>\n",
       "    <tr>\n",
       "      <th>146</th>\n",
       "      <td>1.9</td>\n",
       "      <td>5.0</td>\n",
       "      <td>2.5</td>\n",
       "      <td>6.3</td>\n",
       "      <td>Verginica</td>\n",
       "    </tr>\n",
       "    <tr>\n",
       "      <th>145</th>\n",
       "      <td>2.3</td>\n",
       "      <td>5.2</td>\n",
       "      <td>3.0</td>\n",
       "      <td>6.7</td>\n",
       "      <td>Verginica</td>\n",
       "    </tr>\n",
       "    <tr>\n",
       "      <th>...</th>\n",
       "      <td>...</td>\n",
       "      <td>...</td>\n",
       "      <td>...</td>\n",
       "      <td>...</td>\n",
       "      <td>...</td>\n",
       "    </tr>\n",
       "    <tr>\n",
       "      <th>4</th>\n",
       "      <td>0.2</td>\n",
       "      <td>1.4</td>\n",
       "      <td>3.6</td>\n",
       "      <td>5.0</td>\n",
       "      <td>Setosa</td>\n",
       "    </tr>\n",
       "    <tr>\n",
       "      <th>3</th>\n",
       "      <td>0.2</td>\n",
       "      <td>1.5</td>\n",
       "      <td>3.1</td>\n",
       "      <td>4.6</td>\n",
       "      <td>Setosa</td>\n",
       "    </tr>\n",
       "    <tr>\n",
       "      <th>2</th>\n",
       "      <td>0.2</td>\n",
       "      <td>1.3</td>\n",
       "      <td>3.2</td>\n",
       "      <td>4.7</td>\n",
       "      <td>Setosa</td>\n",
       "    </tr>\n",
       "    <tr>\n",
       "      <th>1</th>\n",
       "      <td>0.2</td>\n",
       "      <td>1.4</td>\n",
       "      <td>3.0</td>\n",
       "      <td>4.9</td>\n",
       "      <td>Setosa</td>\n",
       "    </tr>\n",
       "    <tr>\n",
       "      <th>0</th>\n",
       "      <td>0.2</td>\n",
       "      <td>1.4</td>\n",
       "      <td>3.5</td>\n",
       "      <td>5.1</td>\n",
       "      <td>Setosa</td>\n",
       "    </tr>\n",
       "  </tbody>\n",
       "</table>\n",
       "<p>120 rows × 5 columns</p>\n",
       "</div>"
      ],
      "text/plain": [
       "     Petal_width  Petal_length  Sepal_width  Sepal_length Species_name\n",
       "149          1.8           5.1          3.0           5.9    Verginica\n",
       "148          2.3           5.4          3.4           6.2    Verginica\n",
       "147          2.0           5.2          3.0           6.5    Verginica\n",
       "146          1.9           5.0          2.5           6.3    Verginica\n",
       "145          2.3           5.2          3.0           6.7    Verginica\n",
       "..           ...           ...          ...           ...          ...\n",
       "4            0.2           1.4          3.6           5.0       Setosa\n",
       "3            0.2           1.5          3.1           4.6       Setosa\n",
       "2            0.2           1.3          3.2           4.7       Setosa\n",
       "1            0.2           1.4          3.0           4.9       Setosa\n",
       "0            0.2           1.4          3.5           5.1       Setosa\n",
       "\n",
       "[120 rows x 5 columns]"
      ]
     },
     "execution_count": 123,
     "metadata": {},
     "output_type": "execute_result"
    }
   ],
   "source": [
    "train_set.sort_index(axis=0, ascending=False)"
   ]
  },
  {
   "cell_type": "code",
   "execution_count": 124,
   "id": "ba965d26-33c0-4978-99c6-cfea7b7fe294",
   "metadata": {},
   "outputs": [
    {
     "data": {
      "text/html": [
       "<div>\n",
       "<style scoped>\n",
       "    .dataframe tbody tr th:only-of-type {\n",
       "        vertical-align: middle;\n",
       "    }\n",
       "\n",
       "    .dataframe tbody tr th {\n",
       "        vertical-align: top;\n",
       "    }\n",
       "\n",
       "    .dataframe thead th {\n",
       "        text-align: right;\n",
       "    }\n",
       "</style>\n",
       "<table border=\"1\" class=\"dataframe\">\n",
       "  <thead>\n",
       "    <tr style=\"text-align: right;\">\n",
       "      <th></th>\n",
       "      <th>Petal_width</th>\n",
       "      <th>Petal_length</th>\n",
       "      <th>Sepal_width</th>\n",
       "      <th>Sepal_length</th>\n",
       "      <th>Species_name</th>\n",
       "    </tr>\n",
       "  </thead>\n",
       "  <tbody>\n",
       "    <tr>\n",
       "      <th>60</th>\n",
       "      <td>1.0</td>\n",
       "      <td>3.5</td>\n",
       "      <td>2.0</td>\n",
       "      <td>5.0</td>\n",
       "      <td>Versicolor</td>\n",
       "    </tr>\n",
       "    <tr>\n",
       "      <th>62</th>\n",
       "      <td>1.0</td>\n",
       "      <td>4.0</td>\n",
       "      <td>2.2</td>\n",
       "      <td>6.0</td>\n",
       "      <td>Versicolor</td>\n",
       "    </tr>\n",
       "    <tr>\n",
       "      <th>119</th>\n",
       "      <td>1.5</td>\n",
       "      <td>5.0</td>\n",
       "      <td>2.2</td>\n",
       "      <td>6.0</td>\n",
       "      <td>Verginica</td>\n",
       "    </tr>\n",
       "    <tr>\n",
       "      <th>68</th>\n",
       "      <td>1.5</td>\n",
       "      <td>4.5</td>\n",
       "      <td>2.2</td>\n",
       "      <td>6.2</td>\n",
       "      <td>Versicolor</td>\n",
       "    </tr>\n",
       "    <tr>\n",
       "      <th>41</th>\n",
       "      <td>0.3</td>\n",
       "      <td>1.3</td>\n",
       "      <td>2.3</td>\n",
       "      <td>4.5</td>\n",
       "      <td>Setosa</td>\n",
       "    </tr>\n",
       "    <tr>\n",
       "      <th>...</th>\n",
       "      <td>...</td>\n",
       "      <td>...</td>\n",
       "      <td>...</td>\n",
       "      <td>...</td>\n",
       "      <td>...</td>\n",
       "    </tr>\n",
       "    <tr>\n",
       "      <th>16</th>\n",
       "      <td>0.4</td>\n",
       "      <td>1.3</td>\n",
       "      <td>3.9</td>\n",
       "      <td>5.4</td>\n",
       "      <td>Setosa</td>\n",
       "    </tr>\n",
       "    <tr>\n",
       "      <th>14</th>\n",
       "      <td>0.2</td>\n",
       "      <td>1.2</td>\n",
       "      <td>4.0</td>\n",
       "      <td>5.8</td>\n",
       "      <td>Setosa</td>\n",
       "    </tr>\n",
       "    <tr>\n",
       "      <th>32</th>\n",
       "      <td>0.1</td>\n",
       "      <td>1.5</td>\n",
       "      <td>4.1</td>\n",
       "      <td>5.2</td>\n",
       "      <td>Setosa</td>\n",
       "    </tr>\n",
       "    <tr>\n",
       "      <th>33</th>\n",
       "      <td>0.2</td>\n",
       "      <td>1.4</td>\n",
       "      <td>4.2</td>\n",
       "      <td>5.5</td>\n",
       "      <td>Setosa</td>\n",
       "    </tr>\n",
       "    <tr>\n",
       "      <th>15</th>\n",
       "      <td>0.4</td>\n",
       "      <td>1.5</td>\n",
       "      <td>4.4</td>\n",
       "      <td>5.7</td>\n",
       "      <td>Setosa</td>\n",
       "    </tr>\n",
       "  </tbody>\n",
       "</table>\n",
       "<p>150 rows × 5 columns</p>\n",
       "</div>"
      ],
      "text/plain": [
       "     Petal_width  Petal_length  Sepal_width  Sepal_length Species_name\n",
       "60           1.0           3.5          2.0           5.0   Versicolor\n",
       "62           1.0           4.0          2.2           6.0   Versicolor\n",
       "119          1.5           5.0          2.2           6.0    Verginica\n",
       "68           1.5           4.5          2.2           6.2   Versicolor\n",
       "41           0.3           1.3          2.3           4.5       Setosa\n",
       "..           ...           ...          ...           ...          ...\n",
       "16           0.4           1.3          3.9           5.4       Setosa\n",
       "14           0.2           1.2          4.0           5.8       Setosa\n",
       "32           0.1           1.5          4.1           5.2       Setosa\n",
       "33           0.2           1.4          4.2           5.5       Setosa\n",
       "15           0.4           1.5          4.4           5.7       Setosa\n",
       "\n",
       "[150 rows x 5 columns]"
      ]
     },
     "execution_count": 124,
     "metadata": {},
     "output_type": "execute_result"
    }
   ],
   "source": [
    "iris_df.sort_values(by=\"Sepal_width\", ascending=True) # 오름차순."
   ]
  },
  {
   "cell_type": "markdown",
   "id": "858a2b4a-eed4-402c-97cb-73d431736b9c",
   "metadata": {},
   "source": [
    "# <span style=\"color:blue\">13주차(1) Machine learning (train_test_split/confusion matrix)</span>"
   ]
  },
  {
   "cell_type": "code",
   "execution_count": 21,
   "id": "4cff25d5-90ba-472a-ad42-0d87e1c9ddae",
   "metadata": {},
   "outputs": [],
   "source": [
    "import pandas as pd # 일반적으로 pandas는 pd라고 줄여서 불러온다. \n",
    "import numpy as np  # 일반적으로 numpy는 np라고 줄여서 불러온다. \n",
    "import matplotlib.pyplot as plt # matplotlib를 일반적으로 불러오는 방법.\n",
    "import sklearn\n",
    "import sklearn.metrics\n",
    "import sklearn.model_selection"
   ]
  },
  {
   "cell_type": "markdown",
   "id": "f6ba8fab-1afe-40dd-bdd2-05296cbd7748",
   "metadata": {},
   "source": [
    "# train_test_split\n",
    "### MNIST 데이터셋 예제"
   ]
  },
  {
   "cell_type": "code",
   "execution_count": null,
   "id": "2ca4af99-5eef-42c5-95b9-acb5480da857",
   "metadata": {},
   "outputs": [],
   "source": [
    "from sklearn.datasets import fetch_openml\n",
    "mnist = fetch_openml(\"mnist_784\", version=1)"
   ]
  },
  {
   "cell_type": "code",
   "execution_count": 23,
   "id": "d0b55f27-9f2c-4064-b3c0-66567314c488",
   "metadata": {},
   "outputs": [
    {
     "data": {
      "text/plain": [
       "dict_keys(['data', 'target', 'frame', 'categories', 'feature_names', 'target_names', 'DESCR', 'details', 'url'])"
      ]
     },
     "execution_count": 23,
     "metadata": {},
     "output_type": "execute_result"
    }
   ],
   "source": [
    "mnist.keys()   #a.keys()는 딕셔너리 a의 Key만을 모아서 dict_keys 객체를 돌려준다."
   ]
  },
  {
   "cell_type": "code",
   "execution_count": 34,
   "id": "70443a72-88cb-4680-9702-dce94d57f2c6",
   "metadata": {},
   "outputs": [],
   "source": [
    "X, y = mnist['data'], mnist[\"target\"]     # df~['열이름']"
   ]
  },
  {
   "cell_type": "code",
   "execution_count": 25,
   "id": "6442a2e9-d2c7-44f8-9ff8-b6af2748e844",
   "metadata": {
    "tags": []
   },
   "outputs": [
    {
     "data": {
      "text/html": [
       "<div>\n",
       "<style scoped>\n",
       "    .dataframe tbody tr th:only-of-type {\n",
       "        vertical-align: middle;\n",
       "    }\n",
       "\n",
       "    .dataframe tbody tr th {\n",
       "        vertical-align: top;\n",
       "    }\n",
       "\n",
       "    .dataframe thead th {\n",
       "        text-align: right;\n",
       "    }\n",
       "</style>\n",
       "<table border=\"1\" class=\"dataframe\">\n",
       "  <thead>\n",
       "    <tr style=\"text-align: right;\">\n",
       "      <th></th>\n",
       "      <th>pixel1</th>\n",
       "      <th>pixel2</th>\n",
       "      <th>pixel3</th>\n",
       "      <th>pixel4</th>\n",
       "      <th>pixel5</th>\n",
       "      <th>pixel6</th>\n",
       "      <th>pixel7</th>\n",
       "      <th>pixel8</th>\n",
       "      <th>pixel9</th>\n",
       "      <th>pixel10</th>\n",
       "      <th>...</th>\n",
       "      <th>pixel775</th>\n",
       "      <th>pixel776</th>\n",
       "      <th>pixel777</th>\n",
       "      <th>pixel778</th>\n",
       "      <th>pixel779</th>\n",
       "      <th>pixel780</th>\n",
       "      <th>pixel781</th>\n",
       "      <th>pixel782</th>\n",
       "      <th>pixel783</th>\n",
       "      <th>pixel784</th>\n",
       "    </tr>\n",
       "  </thead>\n",
       "  <tbody>\n",
       "    <tr>\n",
       "      <th>0</th>\n",
       "      <td>0.0</td>\n",
       "      <td>0.0</td>\n",
       "      <td>0.0</td>\n",
       "      <td>0.0</td>\n",
       "      <td>0.0</td>\n",
       "      <td>0.0</td>\n",
       "      <td>0.0</td>\n",
       "      <td>0.0</td>\n",
       "      <td>0.0</td>\n",
       "      <td>0.0</td>\n",
       "      <td>...</td>\n",
       "      <td>0.0</td>\n",
       "      <td>0.0</td>\n",
       "      <td>0.0</td>\n",
       "      <td>0.0</td>\n",
       "      <td>0.0</td>\n",
       "      <td>0.0</td>\n",
       "      <td>0.0</td>\n",
       "      <td>0.0</td>\n",
       "      <td>0.0</td>\n",
       "      <td>0.0</td>\n",
       "    </tr>\n",
       "    <tr>\n",
       "      <th>1</th>\n",
       "      <td>0.0</td>\n",
       "      <td>0.0</td>\n",
       "      <td>0.0</td>\n",
       "      <td>0.0</td>\n",
       "      <td>0.0</td>\n",
       "      <td>0.0</td>\n",
       "      <td>0.0</td>\n",
       "      <td>0.0</td>\n",
       "      <td>0.0</td>\n",
       "      <td>0.0</td>\n",
       "      <td>...</td>\n",
       "      <td>0.0</td>\n",
       "      <td>0.0</td>\n",
       "      <td>0.0</td>\n",
       "      <td>0.0</td>\n",
       "      <td>0.0</td>\n",
       "      <td>0.0</td>\n",
       "      <td>0.0</td>\n",
       "      <td>0.0</td>\n",
       "      <td>0.0</td>\n",
       "      <td>0.0</td>\n",
       "    </tr>\n",
       "    <tr>\n",
       "      <th>2</th>\n",
       "      <td>0.0</td>\n",
       "      <td>0.0</td>\n",
       "      <td>0.0</td>\n",
       "      <td>0.0</td>\n",
       "      <td>0.0</td>\n",
       "      <td>0.0</td>\n",
       "      <td>0.0</td>\n",
       "      <td>0.0</td>\n",
       "      <td>0.0</td>\n",
       "      <td>0.0</td>\n",
       "      <td>...</td>\n",
       "      <td>0.0</td>\n",
       "      <td>0.0</td>\n",
       "      <td>0.0</td>\n",
       "      <td>0.0</td>\n",
       "      <td>0.0</td>\n",
       "      <td>0.0</td>\n",
       "      <td>0.0</td>\n",
       "      <td>0.0</td>\n",
       "      <td>0.0</td>\n",
       "      <td>0.0</td>\n",
       "    </tr>\n",
       "    <tr>\n",
       "      <th>3</th>\n",
       "      <td>0.0</td>\n",
       "      <td>0.0</td>\n",
       "      <td>0.0</td>\n",
       "      <td>0.0</td>\n",
       "      <td>0.0</td>\n",
       "      <td>0.0</td>\n",
       "      <td>0.0</td>\n",
       "      <td>0.0</td>\n",
       "      <td>0.0</td>\n",
       "      <td>0.0</td>\n",
       "      <td>...</td>\n",
       "      <td>0.0</td>\n",
       "      <td>0.0</td>\n",
       "      <td>0.0</td>\n",
       "      <td>0.0</td>\n",
       "      <td>0.0</td>\n",
       "      <td>0.0</td>\n",
       "      <td>0.0</td>\n",
       "      <td>0.0</td>\n",
       "      <td>0.0</td>\n",
       "      <td>0.0</td>\n",
       "    </tr>\n",
       "    <tr>\n",
       "      <th>4</th>\n",
       "      <td>0.0</td>\n",
       "      <td>0.0</td>\n",
       "      <td>0.0</td>\n",
       "      <td>0.0</td>\n",
       "      <td>0.0</td>\n",
       "      <td>0.0</td>\n",
       "      <td>0.0</td>\n",
       "      <td>0.0</td>\n",
       "      <td>0.0</td>\n",
       "      <td>0.0</td>\n",
       "      <td>...</td>\n",
       "      <td>0.0</td>\n",
       "      <td>0.0</td>\n",
       "      <td>0.0</td>\n",
       "      <td>0.0</td>\n",
       "      <td>0.0</td>\n",
       "      <td>0.0</td>\n",
       "      <td>0.0</td>\n",
       "      <td>0.0</td>\n",
       "      <td>0.0</td>\n",
       "      <td>0.0</td>\n",
       "    </tr>\n",
       "    <tr>\n",
       "      <th>...</th>\n",
       "      <td>...</td>\n",
       "      <td>...</td>\n",
       "      <td>...</td>\n",
       "      <td>...</td>\n",
       "      <td>...</td>\n",
       "      <td>...</td>\n",
       "      <td>...</td>\n",
       "      <td>...</td>\n",
       "      <td>...</td>\n",
       "      <td>...</td>\n",
       "      <td>...</td>\n",
       "      <td>...</td>\n",
       "      <td>...</td>\n",
       "      <td>...</td>\n",
       "      <td>...</td>\n",
       "      <td>...</td>\n",
       "      <td>...</td>\n",
       "      <td>...</td>\n",
       "      <td>...</td>\n",
       "      <td>...</td>\n",
       "      <td>...</td>\n",
       "    </tr>\n",
       "    <tr>\n",
       "      <th>69995</th>\n",
       "      <td>0.0</td>\n",
       "      <td>0.0</td>\n",
       "      <td>0.0</td>\n",
       "      <td>0.0</td>\n",
       "      <td>0.0</td>\n",
       "      <td>0.0</td>\n",
       "      <td>0.0</td>\n",
       "      <td>0.0</td>\n",
       "      <td>0.0</td>\n",
       "      <td>0.0</td>\n",
       "      <td>...</td>\n",
       "      <td>0.0</td>\n",
       "      <td>0.0</td>\n",
       "      <td>0.0</td>\n",
       "      <td>0.0</td>\n",
       "      <td>0.0</td>\n",
       "      <td>0.0</td>\n",
       "      <td>0.0</td>\n",
       "      <td>0.0</td>\n",
       "      <td>0.0</td>\n",
       "      <td>0.0</td>\n",
       "    </tr>\n",
       "    <tr>\n",
       "      <th>69996</th>\n",
       "      <td>0.0</td>\n",
       "      <td>0.0</td>\n",
       "      <td>0.0</td>\n",
       "      <td>0.0</td>\n",
       "      <td>0.0</td>\n",
       "      <td>0.0</td>\n",
       "      <td>0.0</td>\n",
       "      <td>0.0</td>\n",
       "      <td>0.0</td>\n",
       "      <td>0.0</td>\n",
       "      <td>...</td>\n",
       "      <td>0.0</td>\n",
       "      <td>0.0</td>\n",
       "      <td>0.0</td>\n",
       "      <td>0.0</td>\n",
       "      <td>0.0</td>\n",
       "      <td>0.0</td>\n",
       "      <td>0.0</td>\n",
       "      <td>0.0</td>\n",
       "      <td>0.0</td>\n",
       "      <td>0.0</td>\n",
       "    </tr>\n",
       "    <tr>\n",
       "      <th>69997</th>\n",
       "      <td>0.0</td>\n",
       "      <td>0.0</td>\n",
       "      <td>0.0</td>\n",
       "      <td>0.0</td>\n",
       "      <td>0.0</td>\n",
       "      <td>0.0</td>\n",
       "      <td>0.0</td>\n",
       "      <td>0.0</td>\n",
       "      <td>0.0</td>\n",
       "      <td>0.0</td>\n",
       "      <td>...</td>\n",
       "      <td>0.0</td>\n",
       "      <td>0.0</td>\n",
       "      <td>0.0</td>\n",
       "      <td>0.0</td>\n",
       "      <td>0.0</td>\n",
       "      <td>0.0</td>\n",
       "      <td>0.0</td>\n",
       "      <td>0.0</td>\n",
       "      <td>0.0</td>\n",
       "      <td>0.0</td>\n",
       "    </tr>\n",
       "    <tr>\n",
       "      <th>69998</th>\n",
       "      <td>0.0</td>\n",
       "      <td>0.0</td>\n",
       "      <td>0.0</td>\n",
       "      <td>0.0</td>\n",
       "      <td>0.0</td>\n",
       "      <td>0.0</td>\n",
       "      <td>0.0</td>\n",
       "      <td>0.0</td>\n",
       "      <td>0.0</td>\n",
       "      <td>0.0</td>\n",
       "      <td>...</td>\n",
       "      <td>0.0</td>\n",
       "      <td>0.0</td>\n",
       "      <td>0.0</td>\n",
       "      <td>0.0</td>\n",
       "      <td>0.0</td>\n",
       "      <td>0.0</td>\n",
       "      <td>0.0</td>\n",
       "      <td>0.0</td>\n",
       "      <td>0.0</td>\n",
       "      <td>0.0</td>\n",
       "    </tr>\n",
       "    <tr>\n",
       "      <th>69999</th>\n",
       "      <td>0.0</td>\n",
       "      <td>0.0</td>\n",
       "      <td>0.0</td>\n",
       "      <td>0.0</td>\n",
       "      <td>0.0</td>\n",
       "      <td>0.0</td>\n",
       "      <td>0.0</td>\n",
       "      <td>0.0</td>\n",
       "      <td>0.0</td>\n",
       "      <td>0.0</td>\n",
       "      <td>...</td>\n",
       "      <td>0.0</td>\n",
       "      <td>0.0</td>\n",
       "      <td>0.0</td>\n",
       "      <td>0.0</td>\n",
       "      <td>0.0</td>\n",
       "      <td>0.0</td>\n",
       "      <td>0.0</td>\n",
       "      <td>0.0</td>\n",
       "      <td>0.0</td>\n",
       "      <td>0.0</td>\n",
       "    </tr>\n",
       "  </tbody>\n",
       "</table>\n",
       "<p>70000 rows × 784 columns</p>\n",
       "</div>"
      ],
      "text/plain": [
       "       pixel1  pixel2  pixel3  pixel4  pixel5  pixel6  pixel7  pixel8  pixel9  \\\n",
       "0         0.0     0.0     0.0     0.0     0.0     0.0     0.0     0.0     0.0   \n",
       "1         0.0     0.0     0.0     0.0     0.0     0.0     0.0     0.0     0.0   \n",
       "2         0.0     0.0     0.0     0.0     0.0     0.0     0.0     0.0     0.0   \n",
       "3         0.0     0.0     0.0     0.0     0.0     0.0     0.0     0.0     0.0   \n",
       "4         0.0     0.0     0.0     0.0     0.0     0.0     0.0     0.0     0.0   \n",
       "...       ...     ...     ...     ...     ...     ...     ...     ...     ...   \n",
       "69995     0.0     0.0     0.0     0.0     0.0     0.0     0.0     0.0     0.0   \n",
       "69996     0.0     0.0     0.0     0.0     0.0     0.0     0.0     0.0     0.0   \n",
       "69997     0.0     0.0     0.0     0.0     0.0     0.0     0.0     0.0     0.0   \n",
       "69998     0.0     0.0     0.0     0.0     0.0     0.0     0.0     0.0     0.0   \n",
       "69999     0.0     0.0     0.0     0.0     0.0     0.0     0.0     0.0     0.0   \n",
       "\n",
       "       pixel10  ...  pixel775  pixel776  pixel777  pixel778  pixel779  \\\n",
       "0          0.0  ...       0.0       0.0       0.0       0.0       0.0   \n",
       "1          0.0  ...       0.0       0.0       0.0       0.0       0.0   \n",
       "2          0.0  ...       0.0       0.0       0.0       0.0       0.0   \n",
       "3          0.0  ...       0.0       0.0       0.0       0.0       0.0   \n",
       "4          0.0  ...       0.0       0.0       0.0       0.0       0.0   \n",
       "...        ...  ...       ...       ...       ...       ...       ...   \n",
       "69995      0.0  ...       0.0       0.0       0.0       0.0       0.0   \n",
       "69996      0.0  ...       0.0       0.0       0.0       0.0       0.0   \n",
       "69997      0.0  ...       0.0       0.0       0.0       0.0       0.0   \n",
       "69998      0.0  ...       0.0       0.0       0.0       0.0       0.0   \n",
       "69999      0.0  ...       0.0       0.0       0.0       0.0       0.0   \n",
       "\n",
       "       pixel780  pixel781  pixel782  pixel783  pixel784  \n",
       "0           0.0       0.0       0.0       0.0       0.0  \n",
       "1           0.0       0.0       0.0       0.0       0.0  \n",
       "2           0.0       0.0       0.0       0.0       0.0  \n",
       "3           0.0       0.0       0.0       0.0       0.0  \n",
       "4           0.0       0.0       0.0       0.0       0.0  \n",
       "...         ...       ...       ...       ...       ...  \n",
       "69995       0.0       0.0       0.0       0.0       0.0  \n",
       "69996       0.0       0.0       0.0       0.0       0.0  \n",
       "69997       0.0       0.0       0.0       0.0       0.0  \n",
       "69998       0.0       0.0       0.0       0.0       0.0  \n",
       "69999       0.0       0.0       0.0       0.0       0.0  \n",
       "\n",
       "[70000 rows x 784 columns]"
      ]
     },
     "execution_count": 25,
     "metadata": {},
     "output_type": "execute_result"
    }
   ],
   "source": [
    "X"
   ]
  },
  {
   "cell_type": "code",
   "execution_count": 26,
   "id": "469d56df-6818-407e-833f-7f01649a2837",
   "metadata": {},
   "outputs": [
    {
     "data": {
      "text/plain": [
       "(70000, 784)"
      ]
     },
     "execution_count": 26,
     "metadata": {},
     "output_type": "execute_result"
    }
   ],
   "source": [
    "X.shape             # 28x28=784"
   ]
  },
  {
   "cell_type": "code",
   "execution_count": 27,
   "id": "1aaac105-55fc-409d-8fc9-f7f335b3d682",
   "metadata": {
    "tags": []
   },
   "outputs": [
    {
     "data": {
      "text/plain": [
       "(70000,)"
      ]
     },
     "execution_count": 27,
     "metadata": {},
     "output_type": "execute_result"
    }
   ],
   "source": [
    "y.shape"
   ]
  },
  {
   "cell_type": "markdown",
   "id": "187a5459-82bc-4db7-9cac-4e93e8b5a18c",
   "metadata": {},
   "source": [
    "- 예시 그림 1개를 그려보자!"
   ]
  },
  {
   "cell_type": "code",
   "execution_count": 28,
   "id": "f18aa834-38a0-4f51-b1a5-0582cb56cc9f",
   "metadata": {},
   "outputs": [],
   "source": [
    "%matplotlib inline\n",
    "import matplotlib as mpl\n",
    "import matplotlib.pyplot as plt"
   ]
  },
  {
   "cell_type": "code",
   "execution_count": 35,
   "id": "76550ba7-6280-45ac-823b-e38c0f6e4574",
   "metadata": {
    "collapsed": true,
    "jupyter": {
     "outputs_hidden": true
    },
    "tags": []
   },
   "outputs": [
    {
     "ename": "KeyError",
     "evalue": "0",
     "output_type": "error",
     "traceback": [
      "\u001b[1;31m---------------------------------------------------------------------------\u001b[0m",
      "\u001b[1;31mKeyError\u001b[0m                                  Traceback (most recent call last)",
      "\u001b[1;32m~\\anaconda3\\lib\\site-packages\\pandas\\core\\indexes\\base.py\u001b[0m in \u001b[0;36mget_loc\u001b[1;34m(self, key, method, tolerance)\u001b[0m\n\u001b[0;32m   3079\u001b[0m             \u001b[1;32mtry\u001b[0m\u001b[1;33m:\u001b[0m\u001b[1;33m\u001b[0m\u001b[1;33m\u001b[0m\u001b[0m\n\u001b[1;32m-> 3080\u001b[1;33m                 \u001b[1;32mreturn\u001b[0m \u001b[0mself\u001b[0m\u001b[1;33m.\u001b[0m\u001b[0m_engine\u001b[0m\u001b[1;33m.\u001b[0m\u001b[0mget_loc\u001b[0m\u001b[1;33m(\u001b[0m\u001b[0mcasted_key\u001b[0m\u001b[1;33m)\u001b[0m\u001b[1;33m\u001b[0m\u001b[1;33m\u001b[0m\u001b[0m\n\u001b[0m\u001b[0;32m   3081\u001b[0m             \u001b[1;32mexcept\u001b[0m \u001b[0mKeyError\u001b[0m \u001b[1;32mas\u001b[0m \u001b[0merr\u001b[0m\u001b[1;33m:\u001b[0m\u001b[1;33m\u001b[0m\u001b[1;33m\u001b[0m\u001b[0m\n",
      "\u001b[1;32mpandas\\_libs\\index.pyx\u001b[0m in \u001b[0;36mpandas._libs.index.IndexEngine.get_loc\u001b[1;34m()\u001b[0m\n",
      "\u001b[1;32mpandas\\_libs\\index.pyx\u001b[0m in \u001b[0;36mpandas._libs.index.IndexEngine.get_loc\u001b[1;34m()\u001b[0m\n",
      "\u001b[1;32mpandas\\_libs\\hashtable_class_helper.pxi\u001b[0m in \u001b[0;36mpandas._libs.hashtable.PyObjectHashTable.get_item\u001b[1;34m()\u001b[0m\n",
      "\u001b[1;32mpandas\\_libs\\hashtable_class_helper.pxi\u001b[0m in \u001b[0;36mpandas._libs.hashtable.PyObjectHashTable.get_item\u001b[1;34m()\u001b[0m\n",
      "\u001b[1;31mKeyError\u001b[0m: 0",
      "\nThe above exception was the direct cause of the following exception:\n",
      "\u001b[1;31mKeyError\u001b[0m                                  Traceback (most recent call last)",
      "\u001b[1;32m<ipython-input-35-704a16583552>\u001b[0m in \u001b[0;36m<module>\u001b[1;34m\u001b[0m\n\u001b[1;32m----> 1\u001b[1;33m \u001b[0msome_digit\u001b[0m \u001b[1;33m=\u001b[0m \u001b[0mX\u001b[0m\u001b[1;33m[\u001b[0m\u001b[1;36m0\u001b[0m\u001b[1;33m]\u001b[0m \u001b[1;31m# 첫번째 그림 데이터를 some_digit에 저장.\u001b[0m\u001b[1;33m\u001b[0m\u001b[1;33m\u001b[0m\u001b[0m\n\u001b[0m\u001b[0;32m      2\u001b[0m \u001b[1;31m# 현재 some_digit은 786개의 숫자를 가진 1차원 배열.\u001b[0m\u001b[1;33m\u001b[0m\u001b[1;33m\u001b[0m\u001b[1;33m\u001b[0m\u001b[0m\n\u001b[0;32m      3\u001b[0m \u001b[0msome_digit_image\u001b[0m \u001b[1;33m=\u001b[0m \u001b[0msome_digit\u001b[0m\u001b[1;33m.\u001b[0m\u001b[0mreshape\u001b[0m\u001b[1;33m(\u001b[0m\u001b[1;36m28\u001b[0m\u001b[1;33m,\u001b[0m \u001b[1;36m28\u001b[0m\u001b[1;33m)\u001b[0m \u001b[1;31m# 786 개의 숫자를 28X28의 배열로 다시 배열한다. 2차원 행렬로 바꿨다!\u001b[0m\u001b[1;33m\u001b[0m\u001b[1;33m\u001b[0m\u001b[0m\n\u001b[0;32m      4\u001b[0m \u001b[0mplt\u001b[0m\u001b[1;33m.\u001b[0m\u001b[0mimshow\u001b[0m\u001b[1;33m(\u001b[0m\u001b[0msome_digit_image\u001b[0m\u001b[1;33m,\u001b[0m \u001b[0mcmap\u001b[0m\u001b[1;33m=\u001b[0m\u001b[0mmpl\u001b[0m\u001b[1;33m.\u001b[0m\u001b[0mcm\u001b[0m\u001b[1;33m.\u001b[0m\u001b[0mbinary\u001b[0m\u001b[1;33m)\u001b[0m\u001b[1;33m\u001b[0m\u001b[1;33m\u001b[0m\u001b[0m\n\u001b[0;32m      5\u001b[0m \u001b[0mplt\u001b[0m\u001b[1;33m.\u001b[0m\u001b[0maxis\u001b[0m\u001b[1;33m(\u001b[0m\u001b[1;34m\"off\"\u001b[0m\u001b[1;33m)\u001b[0m\u001b[1;33m\u001b[0m\u001b[1;33m\u001b[0m\u001b[0m\n",
      "\u001b[1;32m~\\anaconda3\\lib\\site-packages\\pandas\\core\\frame.py\u001b[0m in \u001b[0;36m__getitem__\u001b[1;34m(self, key)\u001b[0m\n\u001b[0;32m   3022\u001b[0m             \u001b[1;32mif\u001b[0m \u001b[0mself\u001b[0m\u001b[1;33m.\u001b[0m\u001b[0mcolumns\u001b[0m\u001b[1;33m.\u001b[0m\u001b[0mnlevels\u001b[0m \u001b[1;33m>\u001b[0m \u001b[1;36m1\u001b[0m\u001b[1;33m:\u001b[0m\u001b[1;33m\u001b[0m\u001b[1;33m\u001b[0m\u001b[0m\n\u001b[0;32m   3023\u001b[0m                 \u001b[1;32mreturn\u001b[0m \u001b[0mself\u001b[0m\u001b[1;33m.\u001b[0m\u001b[0m_getitem_multilevel\u001b[0m\u001b[1;33m(\u001b[0m\u001b[0mkey\u001b[0m\u001b[1;33m)\u001b[0m\u001b[1;33m\u001b[0m\u001b[1;33m\u001b[0m\u001b[0m\n\u001b[1;32m-> 3024\u001b[1;33m             \u001b[0mindexer\u001b[0m \u001b[1;33m=\u001b[0m \u001b[0mself\u001b[0m\u001b[1;33m.\u001b[0m\u001b[0mcolumns\u001b[0m\u001b[1;33m.\u001b[0m\u001b[0mget_loc\u001b[0m\u001b[1;33m(\u001b[0m\u001b[0mkey\u001b[0m\u001b[1;33m)\u001b[0m\u001b[1;33m\u001b[0m\u001b[1;33m\u001b[0m\u001b[0m\n\u001b[0m\u001b[0;32m   3025\u001b[0m             \u001b[1;32mif\u001b[0m \u001b[0mis_integer\u001b[0m\u001b[1;33m(\u001b[0m\u001b[0mindexer\u001b[0m\u001b[1;33m)\u001b[0m\u001b[1;33m:\u001b[0m\u001b[1;33m\u001b[0m\u001b[1;33m\u001b[0m\u001b[0m\n\u001b[0;32m   3026\u001b[0m                 \u001b[0mindexer\u001b[0m \u001b[1;33m=\u001b[0m \u001b[1;33m[\u001b[0m\u001b[0mindexer\u001b[0m\u001b[1;33m]\u001b[0m\u001b[1;33m\u001b[0m\u001b[1;33m\u001b[0m\u001b[0m\n",
      "\u001b[1;32m~\\anaconda3\\lib\\site-packages\\pandas\\core\\indexes\\base.py\u001b[0m in \u001b[0;36mget_loc\u001b[1;34m(self, key, method, tolerance)\u001b[0m\n\u001b[0;32m   3080\u001b[0m                 \u001b[1;32mreturn\u001b[0m \u001b[0mself\u001b[0m\u001b[1;33m.\u001b[0m\u001b[0m_engine\u001b[0m\u001b[1;33m.\u001b[0m\u001b[0mget_loc\u001b[0m\u001b[1;33m(\u001b[0m\u001b[0mcasted_key\u001b[0m\u001b[1;33m)\u001b[0m\u001b[1;33m\u001b[0m\u001b[1;33m\u001b[0m\u001b[0m\n\u001b[0;32m   3081\u001b[0m             \u001b[1;32mexcept\u001b[0m \u001b[0mKeyError\u001b[0m \u001b[1;32mas\u001b[0m \u001b[0merr\u001b[0m\u001b[1;33m:\u001b[0m\u001b[1;33m\u001b[0m\u001b[1;33m\u001b[0m\u001b[0m\n\u001b[1;32m-> 3082\u001b[1;33m                 \u001b[1;32mraise\u001b[0m \u001b[0mKeyError\u001b[0m\u001b[1;33m(\u001b[0m\u001b[0mkey\u001b[0m\u001b[1;33m)\u001b[0m \u001b[1;32mfrom\u001b[0m \u001b[0merr\u001b[0m\u001b[1;33m\u001b[0m\u001b[1;33m\u001b[0m\u001b[0m\n\u001b[0m\u001b[0;32m   3083\u001b[0m \u001b[1;33m\u001b[0m\u001b[0m\n\u001b[0;32m   3084\u001b[0m         \u001b[1;32mif\u001b[0m \u001b[0mtolerance\u001b[0m \u001b[1;32mis\u001b[0m \u001b[1;32mnot\u001b[0m \u001b[1;32mNone\u001b[0m\u001b[1;33m:\u001b[0m\u001b[1;33m\u001b[0m\u001b[1;33m\u001b[0m\u001b[0m\n",
      "\u001b[1;31mKeyError\u001b[0m: 0"
     ]
    }
   ],
   "source": [
    "some_digit = X[0] # 첫번째 그림 데이터를 some_digit에 저장. \n",
    "# 현재 some_digit은 786개의 숫자를 가진 1차원 배열. \n",
    "some_digit_image = some_digit.reshape(28, 28) # 786 개의 숫자를 28X28의 배열로 다시 배열한다. 2차원 행렬로 바꿨다!\n",
    "plt.imshow(some_digit_image, cmap=mpl.cm.binary)\n",
    "plt.axis(\"off\")\n",
    "plt.show()\n",
    "plt.savefig(\"example.png\")"
   ]
  },
  {
   "cell_type": "markdown",
   "id": "b98ebdb0-e0d0-4199-b9bf-58a596a0af2e",
   "metadata": {},
   "source": [
    "예) X(feature), y(target) 을 항상 아래의 4개 변수 순서대로 리턴해준다.  \n",
    "X_train, X_test, y_train, y_test = train_test_split(X,y, ... )"
   ]
  },
  {
   "cell_type": "code",
   "execution_count": 36,
   "id": "5df3ac7e-1321-440b-8d1b-1966a2be13f5",
   "metadata": {},
   "outputs": [],
   "source": [
    "X_train, X_test, y_train, y_test = sklearn.model_selection.train_test_split(X, y, test_size=0.2, random_state=42)"
   ]
  },
  {
   "cell_type": "code",
   "execution_count": 38,
   "id": "b79e7282-0d9e-43bf-ae50-238aca3ded5e",
   "metadata": {},
   "outputs": [
    {
     "data": {
      "text/plain": [
       "(70000, 784)"
      ]
     },
     "execution_count": 38,
     "metadata": {},
     "output_type": "execute_result"
    }
   ],
   "source": [
    "X.shape"
   ]
  },
  {
   "cell_type": "code",
   "execution_count": 37,
   "id": "5d90e24b-f8f1-4d94-81dc-40d7edb47196",
   "metadata": {},
   "outputs": [
    {
     "data": {
      "text/plain": [
       "(56000, 784)"
      ]
     },
     "execution_count": 37,
     "metadata": {},
     "output_type": "execute_result"
    }
   ],
   "source": [
    "X_train.shape"
   ]
  },
  {
   "cell_type": "markdown",
   "id": "6db875d5-2360-4845-846d-6f522fca7346",
   "metadata": {},
   "source": [
    "- 인공지능 모델을 만들어보자!\n",
    "- 앞문제는 0~9까지 예측해서 분류하는 거라 어려움. 먼저 이진 분류기 만들기\n",
    "### 이진 분류기(binary classification)  "
   ]
  },
  {
   "cell_type": "code",
   "execution_count": 40,
   "id": "7608cb65-752a-466c-ae0b-5be9347f24dc",
   "metadata": {
    "tags": []
   },
   "outputs": [
    {
     "data": {
      "text/plain": [
       "pandas.core.series.Series"
      ]
     },
     "execution_count": 40,
     "metadata": {},
     "output_type": "execute_result"
    }
   ],
   "source": [
    "type(y_train)"
   ]
  },
  {
   "cell_type": "code",
   "execution_count": 43,
   "id": "4e76beb7-0d00-4fa9-8e70-530bbbefbad9",
   "metadata": {
    "collapsed": true,
    "jupyter": {
     "outputs_hidden": true
    },
    "tags": []
   },
   "outputs": [
    {
     "data": {
      "text/plain": [
       "47339    5\n",
       "67456    4\n",
       "12308    8\n",
       "32557    0\n",
       "664      2\n",
       "        ..\n",
       "37194    6\n",
       "6265     6\n",
       "54886    1\n",
       "860      0\n",
       "15795    0\n",
       "Name: class, Length: 56000, dtype: category\n",
       "Categories (10, object): ['0', '1', '2', '3', ..., '6', '7', '8', '9']"
      ]
     },
     "execution_count": 43,
     "metadata": {},
     "output_type": "execute_result"
    }
   ],
   "source": [
    "y_train"
   ]
  },
  {
   "cell_type": "markdown",
   "id": "94fc4c13-7de8-4b82-9b4f-f6f77a212016",
   "metadata": {},
   "source": [
    "(참고) numpy는 일종의 행렬. 리스트 대신 배열(array)를 만드는데 리스트에 비해 빠르고 반복문을 사용하지 않고 전체 데이터에 일괄적인 연산 적용이 가능하다. 또 유연한 사용을 할 수 있는 것이 특징이다."
   ]
  },
  {
   "cell_type": "code",
   "execution_count": null,
   "id": "b057cfbd-dff5-4278-bbca-02c4cd0df1dd",
   "metadata": {},
   "outputs": [],
   "source": [
    "#y_train은 nparray(넘파이 어레이). nparray는 어떤 연산을 시킬 수 있다.\n",
    "y_train_5 = (y_train == 5) \n",
    "y_test_5 = (y_test == 5) \n",
    "\n",
    "import sklearn.tree\n",
    "my_model = sklearn.tree.DecisionTreeClassifier()\n",
    "my_model.fit(X_train, y_train_5)\n",
    "y_pred_5 = my_model.predict(X_test)\n",
    "\n",
    "from sklearn.metrics import confusion_matrix\n",
    "confusion_matrix(y_test_5, y_pred_5)\n",
    "tn, fp, fn, tp = confusion_matrix(y_test_5, y_pred_5).ravel()\n",
    "\n",
    "from sklearn.metrics import f1_score, precision_score, recall_score\n",
    "precision_score(y_test_5, y_pred_5)\n",
    "recall_score(y_test_5, y_pred_5)\n",
    "f1_score(y_test_5, y_pred_5)"
   ]
  },
  {
   "cell_type": "markdown",
   "id": "f14e4655-e334-49f4-9036-2e6bbb632ecc",
   "metadata": {},
   "source": [
    "## Iris 데이터셋으로 시도해 보기!\n"
   ]
  },
  {
   "cell_type": "code",
   "execution_count": null,
   "id": "9b63dcfe-8f8c-408f-bd43-0de5b80edef4",
   "metadata": {},
   "outputs": [],
   "source": []
  }
 ],
 "metadata": {
  "kernelspec": {
   "display_name": "Python 3 (ipykernel)",
   "language": "python",
   "name": "python3"
  },
  "language_info": {
   "codemirror_mode": {
    "name": "ipython",
    "version": 3
   },
   "file_extension": ".py",
   "mimetype": "text/x-python",
   "name": "python",
   "nbconvert_exporter": "python",
   "pygments_lexer": "ipython3",
   "version": "3.10.9"
  }
 },
 "nbformat": 4,
 "nbformat_minor": 5
}
