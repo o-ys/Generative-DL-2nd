{
 "cells": [
  {
   "cell_type": "code",
   "execution_count": null,
   "id": "ea0ca253-1d99-47a8-991a-6a215843f85b",
   "metadata": {},
   "outputs": [],
   "source": []
  },
  {
   "cell_type": "markdown",
   "id": "2eb1cce6-6e18-450b-bf1f-a2b07e00e76f",
   "metadata": {},
   "source": [
    "------------------\n",
    "### ★ Maching Learning 기본 순서 ★\n",
    "1. **전체 dataset을 불러옴 (데이터를 모음)**\n",
    "2. **traing set / test set으로 나눔**\n",
    "3. **빈 모델을 만듦** 이진분류: DecisionTreeClassifier()  / RadomForestClassifier() 등\n",
    "4. **빈 모델에 traing set을 넣어 모델을 학습시킴** .fit()  \n",
    "5. **학습된 모델에 test set을 넣어 예측시켜봄** .predict()\n",
    "6. **잘 풀었나 채점해봄** .precision_score() .recall_score() . f1_score()\n",
    "------------"
   ]
  },
  {
   "cell_type": "markdown",
   "id": "43f4e60c-c694-49d6-a61a-d07e1e660810",
   "metadata": {},
   "source": [
    "# <span style=\"color:blue\">13주차(2) Random Forest - Classification</span>\n",
    "Discriminating drugs ans non-drugs using Random Forest"
   ]
  },
  {
   "cell_type": "markdown",
   "id": "979a7126-9bbe-4d37-9d64-561f84a01beb",
   "metadata": {},
   "source": [
    "♤ QSAR 화학 예측 모델 - Classification ♤  \n",
    "이 내용에 익숙해 지면 제약회사에서 데이터 분석을 할 수 있음!\n",
    "## 수업 목표: 실제 약 분자와 약이 아닌 분자를 구별(Classification) 하는 AI (machine, model)을 만들어보자. "
   ]
  },
  {
   "cell_type": "code",
   "execution_count": 1,
   "id": "5ba7ce85-8bcd-4715-9268-d813713bd0af",
   "metadata": {},
   "outputs": [],
   "source": [
    "import numpy as np \n",
    "import sklearn"
   ]
  },
  {
   "cell_type": "code",
   "execution_count": 5,
   "id": "ed0b6c99-e9e0-4e5d-9014-565e93b854a0",
   "metadata": {},
   "outputs": [],
   "source": [
    "import rdkit \n",
    "import rdkit.Chem as Chem"
   ]
  },
  {
   "cell_type": "code",
   "execution_count": 3,
   "id": "a6c5538b-c90c-48a9-8abb-e64a79586293",
   "metadata": {},
   "outputs": [],
   "source": [
    "import pandas as pd\n",
    "import matplotlib as mpl\n",
    "import matplotlib.pyplot as plt"
   ]
  },
  {
   "cell_type": "markdown",
   "id": "a329cd33-f656-4f96-ae5b-82ec0920e097",
   "metadata": {},
   "source": [
    "------------------\n",
    "### ★ Maching Learning 기본 순서 ★\n",
    "1. **전체 dataset을 불러옴 (데이터를 모음)**\n",
    "2. traing set / test set으로 나눔\n",
    "3. 빈 모델을 만듦 sklearn.tree.DecisionTreeClassifier() / .RandomForestClassifier() 등\n",
    "4. 빈 모델에 traing set을 넣어 모델을 학습시킴 .fit()  \n",
    "5. 학습된 모델에 test set을 넣어 예측시켜봄 .predict()\n",
    "6. 잘 풀었나 채점해봄 .precision_score() .recall_score() . f1_score()\n",
    "------------"
   ]
  },
  {
   "cell_type": "markdown",
   "id": "27e9141e-01db-4cd2-9e3a-bf5ac5402dfa",
   "metadata": {},
   "source": [
    "* drugs.smi -> 실제 시판되고 있는 약 분자 600개의 SMILES 가 들어있다. \n",
    "* non_drugs.smi -> 랜덤하게 DB에서 고른 분자 1000 개의 SMILES가 들어있다. "
   ]
  },
  {
   "cell_type": "markdown",
   "id": "83e7ea27-00ea-4905-9ce4-1a9123815346",
   "metadata": {},
   "source": [
    "# [1] 약 분자들의 property가 들어있는 dataframe을 만들자!\n",
    "## 1. drug.smi로 분자를 읽어들이자! -> 리스트에 저장!"
   ]
  },
  {
   "cell_type": "code",
   "execution_count": 6,
   "id": "35fcd3c8-1bf8-41b7-9068-509ffaa0c672",
   "metadata": {},
   "outputs": [],
   "source": [
    "drugs = [] # 빈 리스트 준비. \n",
    "with open(\"drugs.smi\") as fp:\n",
    "    for l in fp:\n",
    "        smiles = l.strip()\n",
    "        mol = Chem.MolFromSmiles(smiles) # smiles를 rdkit의 Mol 타입으로 변환. \n",
    "        if mol: # 변환에 문제가 있으면, mol에 None이 들어있게 된다. None은 조건문에서 False에 해당. \n",
    "            # 분자가 제대로 변환이 되었다. \n",
    "            drugs.append(mol)"
   ]
  },
  {
   "cell_type": "code",
   "execution_count": 7,
   "id": "ccf48544-aa45-4c5d-aef7-eb1137a5793e",
   "metadata": {},
   "outputs": [
    {
     "data": {
      "text/plain": [
       "600"
      ]
     },
     "execution_count": 7,
     "metadata": {},
     "output_type": "execute_result"
    }
   ],
   "source": [
    "len(drugs)"
   ]
  },
  {
   "cell_type": "markdown",
   "id": "3f53550b-7be6-4b7b-af6f-a3e7246adf89",
   "metadata": {},
   "source": [
    "* ↑ drugs 리스트 안에는 600개가 들어있다."
   ]
  },
  {
   "cell_type": "code",
   "execution_count": 8,
   "id": "8deb97c0-6de1-40e5-b3b1-f84d910aecf2",
   "metadata": {
    "collapsed": true,
    "jupyter": {
     "outputs_hidden": true
    }
   },
   "outputs": [
    {
     "data": {
      "text/plain": [
       "[<rdkit.Chem.rdchem.Mol at 0x7fea809042b0>,\n",
       " <rdkit.Chem.rdchem.Mol at 0x7fe9f000a350>,\n",
       " <rdkit.Chem.rdchem.Mol at 0x7feaa0521990>,\n",
       " <rdkit.Chem.rdchem.Mol at 0x7fe9f000a3f0>,\n",
       " <rdkit.Chem.rdchem.Mol at 0x7fe9f000a3a0>,\n",
       " <rdkit.Chem.rdchem.Mol at 0x7fe9f000a300>,\n",
       " <rdkit.Chem.rdchem.Mol at 0x7fe9f000a4e0>,\n",
       " <rdkit.Chem.rdchem.Mol at 0x7fe9f000a490>,\n",
       " <rdkit.Chem.rdchem.Mol at 0x7fe9f000a440>,\n",
       " <rdkit.Chem.rdchem.Mol at 0x7fe9f000a530>,\n",
       " <rdkit.Chem.rdchem.Mol at 0x7fe9f000a580>,\n",
       " <rdkit.Chem.rdchem.Mol at 0x7fe9f000a5d0>,\n",
       " <rdkit.Chem.rdchem.Mol at 0x7fe9f000a620>,\n",
       " <rdkit.Chem.rdchem.Mol at 0x7fe9f000a670>,\n",
       " <rdkit.Chem.rdchem.Mol at 0x7fe9f000a6c0>,\n",
       " <rdkit.Chem.rdchem.Mol at 0x7fe9f000a710>,\n",
       " <rdkit.Chem.rdchem.Mol at 0x7fe9f000a760>,\n",
       " <rdkit.Chem.rdchem.Mol at 0x7fe9f000a850>,\n",
       " <rdkit.Chem.rdchem.Mol at 0x7fe9f000a800>,\n",
       " <rdkit.Chem.rdchem.Mol at 0x7fe9f000a7b0>,\n",
       " <rdkit.Chem.rdchem.Mol at 0x7fe9f000a8a0>,\n",
       " <rdkit.Chem.rdchem.Mol at 0x7fe9f000a8f0>,\n",
       " <rdkit.Chem.rdchem.Mol at 0x7fe9f000a9e0>,\n",
       " <rdkit.Chem.rdchem.Mol at 0x7fe9f000a990>,\n",
       " <rdkit.Chem.rdchem.Mol at 0x7fe9f000a940>,\n",
       " <rdkit.Chem.rdchem.Mol at 0x7fe9f000aa30>,\n",
       " <rdkit.Chem.rdchem.Mol at 0x7fe9f000ab20>,\n",
       " <rdkit.Chem.rdchem.Mol at 0x7fe9f000aad0>,\n",
       " <rdkit.Chem.rdchem.Mol at 0x7fe9f000aa80>,\n",
       " <rdkit.Chem.rdchem.Mol at 0x7fe9f000ab70>,\n",
       " <rdkit.Chem.rdchem.Mol at 0x7fe9f000abc0>,\n",
       " <rdkit.Chem.rdchem.Mol at 0x7fe9f000ac10>,\n",
       " <rdkit.Chem.rdchem.Mol at 0x7fe9f000ac60>,\n",
       " <rdkit.Chem.rdchem.Mol at 0x7fe9f000acb0>,\n",
       " <rdkit.Chem.rdchem.Mol at 0x7fe9f000ad00>,\n",
       " <rdkit.Chem.rdchem.Mol at 0x7fe9f000ad50>,\n",
       " <rdkit.Chem.rdchem.Mol at 0x7fe9f000ada0>,\n",
       " <rdkit.Chem.rdchem.Mol at 0x7fe9f000adf0>,\n",
       " <rdkit.Chem.rdchem.Mol at 0x7fe9f000ae40>,\n",
       " <rdkit.Chem.rdchem.Mol at 0x7fe9f000ae90>,\n",
       " <rdkit.Chem.rdchem.Mol at 0x7fe9f000aee0>,\n",
       " <rdkit.Chem.rdchem.Mol at 0x7fe9f000af30>,\n",
       " <rdkit.Chem.rdchem.Mol at 0x7fe9f000af80>,\n",
       " <rdkit.Chem.rdchem.Mol at 0x7fe9f0009030>,\n",
       " <rdkit.Chem.rdchem.Mol at 0x7fe9f00090d0>,\n",
       " <rdkit.Chem.rdchem.Mol at 0x7fe9f0009080>,\n",
       " <rdkit.Chem.rdchem.Mol at 0x7fe9f0009120>,\n",
       " <rdkit.Chem.rdchem.Mol at 0x7fe9f0009170>,\n",
       " <rdkit.Chem.rdchem.Mol at 0x7fe9f00091c0>,\n",
       " <rdkit.Chem.rdchem.Mol at 0x7fe9f0009210>,\n",
       " <rdkit.Chem.rdchem.Mol at 0x7fe9f0009260>,\n",
       " <rdkit.Chem.rdchem.Mol at 0x7fe9f00092b0>,\n",
       " <rdkit.Chem.rdchem.Mol at 0x7fe9f00093a0>,\n",
       " <rdkit.Chem.rdchem.Mol at 0x7fe9f0009350>,\n",
       " <rdkit.Chem.rdchem.Mol at 0x7fe9f0009300>,\n",
       " <rdkit.Chem.rdchem.Mol at 0x7fe9f00093f0>,\n",
       " <rdkit.Chem.rdchem.Mol at 0x7fea80904170>,\n",
       " <rdkit.Chem.rdchem.Mol at 0x7fe9f0009440>,\n",
       " <rdkit.Chem.rdchem.Mol at 0x7fe9f0009490>,\n",
       " <rdkit.Chem.rdchem.Mol at 0x7fe9f00094e0>,\n",
       " <rdkit.Chem.rdchem.Mol at 0x7fe9f0009530>,\n",
       " <rdkit.Chem.rdchem.Mol at 0x7fe9f0009620>,\n",
       " <rdkit.Chem.rdchem.Mol at 0x7fe9f00095d0>,\n",
       " <rdkit.Chem.rdchem.Mol at 0x7fe9f0009580>,\n",
       " <rdkit.Chem.rdchem.Mol at 0x7fe9f0009670>,\n",
       " <rdkit.Chem.rdchem.Mol at 0x7fe9f00096c0>,\n",
       " <rdkit.Chem.rdchem.Mol at 0x7fe9f00097b0>,\n",
       " <rdkit.Chem.rdchem.Mol at 0x7fe9f0009760>,\n",
       " <rdkit.Chem.rdchem.Mol at 0x7fe9f0009710>,\n",
       " <rdkit.Chem.rdchem.Mol at 0x7fe9f0009800>,\n",
       " <rdkit.Chem.rdchem.Mol at 0x7fe9f0009850>,\n",
       " <rdkit.Chem.rdchem.Mol at 0x7fe9f00098a0>,\n",
       " <rdkit.Chem.rdchem.Mol at 0x7fe9f00098f0>,\n",
       " <rdkit.Chem.rdchem.Mol at 0x7fe9f0009940>,\n",
       " <rdkit.Chem.rdchem.Mol at 0x7fe9f0009990>,\n",
       " <rdkit.Chem.rdchem.Mol at 0x7fe9f00099e0>,\n",
       " <rdkit.Chem.rdchem.Mol at 0x7fe9f0009a30>,\n",
       " <rdkit.Chem.rdchem.Mol at 0x7fe9f0009b20>,\n",
       " <rdkit.Chem.rdchem.Mol at 0x7fe9f0009ad0>,\n",
       " <rdkit.Chem.rdchem.Mol at 0x7fe9f0009a80>,\n",
       " <rdkit.Chem.rdchem.Mol at 0x7fe9f0009b70>,\n",
       " <rdkit.Chem.rdchem.Mol at 0x7fe9f0009bc0>,\n",
       " <rdkit.Chem.rdchem.Mol at 0x7fe9f0009c10>,\n",
       " <rdkit.Chem.rdchem.Mol at 0x7fe9f0009c60>,\n",
       " <rdkit.Chem.rdchem.Mol at 0x7fe9f0009cb0>,\n",
       " <rdkit.Chem.rdchem.Mol at 0x7fe9f0009d00>,\n",
       " <rdkit.Chem.rdchem.Mol at 0x7fe9f0009d50>,\n",
       " <rdkit.Chem.rdchem.Mol at 0x7fe9f0009da0>,\n",
       " <rdkit.Chem.rdchem.Mol at 0x7fe9f0009df0>,\n",
       " <rdkit.Chem.rdchem.Mol at 0x7fe9f0009ee0>,\n",
       " <rdkit.Chem.rdchem.Mol at 0x7fe9f0009e90>,\n",
       " <rdkit.Chem.rdchem.Mol at 0x7fe9f0009e40>,\n",
       " <rdkit.Chem.rdchem.Mol at 0x7fe9f0009f30>,\n",
       " <rdkit.Chem.rdchem.Mol at 0x7fe9f0009f80>,\n",
       " <rdkit.Chem.rdchem.Mol at 0x7fe9f000b030>,\n",
       " <rdkit.Chem.rdchem.Mol at 0x7fe9f000b120>,\n",
       " <rdkit.Chem.rdchem.Mol at 0x7fe9f000b0d0>,\n",
       " <rdkit.Chem.rdchem.Mol at 0x7fe9f000b080>,\n",
       " <rdkit.Chem.rdchem.Mol at 0x7fe9f000b170>,\n",
       " <rdkit.Chem.rdchem.Mol at 0x7fe9f000b1c0>,\n",
       " <rdkit.Chem.rdchem.Mol at 0x7fe9f000b210>,\n",
       " <rdkit.Chem.rdchem.Mol at 0x7fe9f000b260>,\n",
       " <rdkit.Chem.rdchem.Mol at 0x7fe9f000b2b0>,\n",
       " <rdkit.Chem.rdchem.Mol at 0x7fe9f000b300>,\n",
       " <rdkit.Chem.rdchem.Mol at 0x7fe9f000b3a0>,\n",
       " <rdkit.Chem.rdchem.Mol at 0x7fe9f000b350>,\n",
       " <rdkit.Chem.rdchem.Mol at 0x7fe9f000b3f0>,\n",
       " <rdkit.Chem.rdchem.Mol at 0x7fe9f000b440>,\n",
       " <rdkit.Chem.rdchem.Mol at 0x7fe9f000b490>,\n",
       " <rdkit.Chem.rdchem.Mol at 0x7fe9f000b4e0>,\n",
       " <rdkit.Chem.rdchem.Mol at 0x7fe9f000b530>,\n",
       " <rdkit.Chem.rdchem.Mol at 0x7fe9f000b580>,\n",
       " <rdkit.Chem.rdchem.Mol at 0x7fe9f000b5d0>,\n",
       " <rdkit.Chem.rdchem.Mol at 0x7fe9f000b620>,\n",
       " <rdkit.Chem.rdchem.Mol at 0x7fe9f000b670>,\n",
       " <rdkit.Chem.rdchem.Mol at 0x7fe9f000b6c0>,\n",
       " <rdkit.Chem.rdchem.Mol at 0x7fe9f000b710>,\n",
       " <rdkit.Chem.rdchem.Mol at 0x7fe9f000b800>,\n",
       " <rdkit.Chem.rdchem.Mol at 0x7fe9f000b7b0>,\n",
       " <rdkit.Chem.rdchem.Mol at 0x7fe9f000b760>,\n",
       " <rdkit.Chem.rdchem.Mol at 0x7fe9f000b8a0>,\n",
       " <rdkit.Chem.rdchem.Mol at 0x7fe9f000b850>,\n",
       " <rdkit.Chem.rdchem.Mol at 0x7fe9f000b8f0>,\n",
       " <rdkit.Chem.rdchem.Mol at 0x7fe9f000b940>,\n",
       " <rdkit.Chem.rdchem.Mol at 0x7fe9f000b990>,\n",
       " <rdkit.Chem.rdchem.Mol at 0x7fe9f000ba80>,\n",
       " <rdkit.Chem.rdchem.Mol at 0x7fe9f000ba30>,\n",
       " <rdkit.Chem.rdchem.Mol at 0x7fe9f000bad0>,\n",
       " <rdkit.Chem.rdchem.Mol at 0x7fe9f000bb70>,\n",
       " <rdkit.Chem.rdchem.Mol at 0x7fe9f000b9e0>,\n",
       " <rdkit.Chem.rdchem.Mol at 0x7fe9f000bb20>,\n",
       " <rdkit.Chem.rdchem.Mol at 0x7fe9f000bbc0>,\n",
       " <rdkit.Chem.rdchem.Mol at 0x7fe9f000bc10>,\n",
       " <rdkit.Chem.rdchem.Mol at 0x7fe9f000bd00>,\n",
       " <rdkit.Chem.rdchem.Mol at 0x7fe9f000bcb0>,\n",
       " <rdkit.Chem.rdchem.Mol at 0x7fe9f000bc60>,\n",
       " <rdkit.Chem.rdchem.Mol at 0x7fe9f000bd50>,\n",
       " <rdkit.Chem.rdchem.Mol at 0x7fe9f000bda0>,\n",
       " <rdkit.Chem.rdchem.Mol at 0x7fe9f000bdf0>,\n",
       " <rdkit.Chem.rdchem.Mol at 0x7fe9f000be40>,\n",
       " <rdkit.Chem.rdchem.Mol at 0x7fe9f000be90>,\n",
       " <rdkit.Chem.rdchem.Mol at 0x7fe9f000bee0>,\n",
       " <rdkit.Chem.rdchem.Mol at 0x7fe9f000bf30>,\n",
       " <rdkit.Chem.rdchem.Mol at 0x7fe9f000bf80>,\n",
       " <rdkit.Chem.rdchem.Mol at 0x7fe9f000c030>,\n",
       " <rdkit.Chem.rdchem.Mol at 0x7fe9f000c080>,\n",
       " <rdkit.Chem.rdchem.Mol at 0x7fe9f000c170>,\n",
       " <rdkit.Chem.rdchem.Mol at 0x7fe9f000c120>,\n",
       " <rdkit.Chem.rdchem.Mol at 0x7fe9f000c0d0>,\n",
       " <rdkit.Chem.rdchem.Mol at 0x7fe9f000c1c0>,\n",
       " <rdkit.Chem.rdchem.Mol at 0x7fe9f000c210>,\n",
       " <rdkit.Chem.rdchem.Mol at 0x7fe9f000c260>,\n",
       " <rdkit.Chem.rdchem.Mol at 0x7fe9f000c2b0>,\n",
       " <rdkit.Chem.rdchem.Mol at 0x7fe9f000c300>,\n",
       " <rdkit.Chem.rdchem.Mol at 0x7fe9f000c350>,\n",
       " <rdkit.Chem.rdchem.Mol at 0x7fe9f000c3f0>,\n",
       " <rdkit.Chem.rdchem.Mol at 0x7fe9f000c3a0>,\n",
       " <rdkit.Chem.rdchem.Mol at 0x7fe9f000c490>,\n",
       " <rdkit.Chem.rdchem.Mol at 0x7fe9f000c440>,\n",
       " <rdkit.Chem.rdchem.Mol at 0x7fe9f000c4e0>,\n",
       " <rdkit.Chem.rdchem.Mol at 0x7fe9f000c530>,\n",
       " <rdkit.Chem.rdchem.Mol at 0x7fe9f000c580>,\n",
       " <rdkit.Chem.rdchem.Mol at 0x7fe9f000c670>,\n",
       " <rdkit.Chem.rdchem.Mol at 0x7fe9f000c620>,\n",
       " <rdkit.Chem.rdchem.Mol at 0x7fe9f000c5d0>,\n",
       " <rdkit.Chem.rdchem.Mol at 0x7fe9f000c6c0>,\n",
       " <rdkit.Chem.rdchem.Mol at 0x7fe9f000c710>,\n",
       " <rdkit.Chem.rdchem.Mol at 0x7fe9f000c760>,\n",
       " <rdkit.Chem.rdchem.Mol at 0x7fe9f000c7b0>,\n",
       " <rdkit.Chem.rdchem.Mol at 0x7fe9f000c800>,\n",
       " <rdkit.Chem.rdchem.Mol at 0x7fe9f000c850>,\n",
       " <rdkit.Chem.rdchem.Mol at 0x7fe9f000c8a0>,\n",
       " <rdkit.Chem.rdchem.Mol at 0x7fe9f000c8f0>,\n",
       " <rdkit.Chem.rdchem.Mol at 0x7fe9f000c940>,\n",
       " <rdkit.Chem.rdchem.Mol at 0x7fe9f000ca30>,\n",
       " <rdkit.Chem.rdchem.Mol at 0x7fe9f000c9e0>,\n",
       " <rdkit.Chem.rdchem.Mol at 0x7fe9f000c990>,\n",
       " <rdkit.Chem.rdchem.Mol at 0x7fe9f000ca80>,\n",
       " <rdkit.Chem.rdchem.Mol at 0x7fe9f000cad0>,\n",
       " <rdkit.Chem.rdchem.Mol at 0x7fe9f000cb20>,\n",
       " <rdkit.Chem.rdchem.Mol at 0x7fe9f000cb70>,\n",
       " <rdkit.Chem.rdchem.Mol at 0x7fe9f000cbc0>,\n",
       " <rdkit.Chem.rdchem.Mol at 0x7fe9f000ccb0>,\n",
       " <rdkit.Chem.rdchem.Mol at 0x7fe9f000cc60>,\n",
       " <rdkit.Chem.rdchem.Mol at 0x7fe9f000cc10>,\n",
       " <rdkit.Chem.rdchem.Mol at 0x7fe9f000cd00>,\n",
       " <rdkit.Chem.rdchem.Mol at 0x7fe9f000cd50>,\n",
       " <rdkit.Chem.rdchem.Mol at 0x7fe9f000cda0>,\n",
       " <rdkit.Chem.rdchem.Mol at 0x7fe9f000cdf0>,\n",
       " <rdkit.Chem.rdchem.Mol at 0x7fe9f000ce40>,\n",
       " <rdkit.Chem.rdchem.Mol at 0x7fe9f000ce90>,\n",
       " <rdkit.Chem.rdchem.Mol at 0x7fe9f000cee0>,\n",
       " <rdkit.Chem.rdchem.Mol at 0x7fe9f000cf30>,\n",
       " <rdkit.Chem.rdchem.Mol at 0x7fe9f000cf80>,\n",
       " <rdkit.Chem.rdchem.Mol at 0x7fe9f000d030>,\n",
       " <rdkit.Chem.rdchem.Mol at 0x7fe9f000d080>,\n",
       " <rdkit.Chem.rdchem.Mol at 0x7fe9f000d0d0>,\n",
       " <rdkit.Chem.rdchem.Mol at 0x7fe9f000d1c0>,\n",
       " <rdkit.Chem.rdchem.Mol at 0x7fe9f000d170>,\n",
       " <rdkit.Chem.rdchem.Mol at 0x7fe9f000d120>,\n",
       " <rdkit.Chem.rdchem.Mol at 0x7fe9f000d210>,\n",
       " <rdkit.Chem.rdchem.Mol at 0x7fe9f000d260>,\n",
       " <rdkit.Chem.rdchem.Mol at 0x7fe9f000d2b0>,\n",
       " <rdkit.Chem.rdchem.Mol at 0x7fe9f000d300>,\n",
       " <rdkit.Chem.rdchem.Mol at 0x7fe9f000d3f0>,\n",
       " <rdkit.Chem.rdchem.Mol at 0x7fe9f000d3a0>,\n",
       " <rdkit.Chem.rdchem.Mol at 0x7fe9f000d350>,\n",
       " <rdkit.Chem.rdchem.Mol at 0x7fe9f000d440>,\n",
       " <rdkit.Chem.rdchem.Mol at 0x7fe9f000d530>,\n",
       " <rdkit.Chem.rdchem.Mol at 0x7fe9f000d4e0>,\n",
       " <rdkit.Chem.rdchem.Mol at 0x7fe9f000d490>,\n",
       " <rdkit.Chem.rdchem.Mol at 0x7fe9f000d620>,\n",
       " <rdkit.Chem.rdchem.Mol at 0x7fe9f000d5d0>,\n",
       " <rdkit.Chem.rdchem.Mol at 0x7fe9f000d580>,\n",
       " <rdkit.Chem.rdchem.Mol at 0x7fe9f000d710>,\n",
       " <rdkit.Chem.rdchem.Mol at 0x7fe9f000d6c0>,\n",
       " <rdkit.Chem.rdchem.Mol at 0x7fe9f000d670>,\n",
       " <rdkit.Chem.rdchem.Mol at 0x7fe9f000d760>,\n",
       " <rdkit.Chem.rdchem.Mol at 0x7fe9f000d7b0>,\n",
       " <rdkit.Chem.rdchem.Mol at 0x7fe9f000d800>,\n",
       " <rdkit.Chem.rdchem.Mol at 0x7fe9f000d850>,\n",
       " <rdkit.Chem.rdchem.Mol at 0x7fe9f000d8a0>,\n",
       " <rdkit.Chem.rdchem.Mol at 0x7fe9f000d8f0>,\n",
       " <rdkit.Chem.rdchem.Mol at 0x7fe9f000d940>,\n",
       " <rdkit.Chem.rdchem.Mol at 0x7fe9f000d990>,\n",
       " <rdkit.Chem.rdchem.Mol at 0x7fe9f000da80>,\n",
       " <rdkit.Chem.rdchem.Mol at 0x7fe9f000da30>,\n",
       " <rdkit.Chem.rdchem.Mol at 0x7fe9f000d9e0>,\n",
       " <rdkit.Chem.rdchem.Mol at 0x7fe9f000db70>,\n",
       " <rdkit.Chem.rdchem.Mol at 0x7fe9f000db20>,\n",
       " <rdkit.Chem.rdchem.Mol at 0x7fe9f000dad0>,\n",
       " <rdkit.Chem.rdchem.Mol at 0x7fe9f000dbc0>,\n",
       " <rdkit.Chem.rdchem.Mol at 0x7fe9f000dc10>,\n",
       " <rdkit.Chem.rdchem.Mol at 0x7fe9f000dc60>,\n",
       " <rdkit.Chem.rdchem.Mol at 0x7fe9f000dd50>,\n",
       " <rdkit.Chem.rdchem.Mol at 0x7fe9f000dd00>,\n",
       " <rdkit.Chem.rdchem.Mol at 0x7fe9f000dcb0>,\n",
       " <rdkit.Chem.rdchem.Mol at 0x7fe9f000dda0>,\n",
       " <rdkit.Chem.rdchem.Mol at 0x7fe9f000ddf0>,\n",
       " <rdkit.Chem.rdchem.Mol at 0x7fe9f000de40>,\n",
       " <rdkit.Chem.rdchem.Mol at 0x7fe9f000de90>,\n",
       " <rdkit.Chem.rdchem.Mol at 0x7fe9f000dee0>,\n",
       " <rdkit.Chem.rdchem.Mol at 0x7fe9f000df30>,\n",
       " <rdkit.Chem.rdchem.Mol at 0x7fe9f000df80>,\n",
       " <rdkit.Chem.rdchem.Mol at 0x7fe9f000e030>,\n",
       " <rdkit.Chem.rdchem.Mol at 0x7fe9f000e080>,\n",
       " <rdkit.Chem.rdchem.Mol at 0x7fe9f000e0d0>,\n",
       " <rdkit.Chem.rdchem.Mol at 0x7fe9f000e120>,\n",
       " <rdkit.Chem.rdchem.Mol at 0x7fe9f000e170>,\n",
       " <rdkit.Chem.rdchem.Mol at 0x7fe9f000e260>,\n",
       " <rdkit.Chem.rdchem.Mol at 0x7fe9f000e210>,\n",
       " <rdkit.Chem.rdchem.Mol at 0x7fe9f000e300>,\n",
       " <rdkit.Chem.rdchem.Mol at 0x7fe9f000e2b0>,\n",
       " <rdkit.Chem.rdchem.Mol at 0x7fe9f000e1c0>,\n",
       " <rdkit.Chem.rdchem.Mol at 0x7fe9f000e350>,\n",
       " <rdkit.Chem.rdchem.Mol at 0x7fe9f000e3a0>,\n",
       " <rdkit.Chem.rdchem.Mol at 0x7fe9f000e490>,\n",
       " <rdkit.Chem.rdchem.Mol at 0x7fe9f000e440>,\n",
       " <rdkit.Chem.rdchem.Mol at 0x7fe9f000e3f0>,\n",
       " <rdkit.Chem.rdchem.Mol at 0x7fe9f000e4e0>,\n",
       " <rdkit.Chem.rdchem.Mol at 0x7fe9f000e530>,\n",
       " <rdkit.Chem.rdchem.Mol at 0x7fe9f000e580>,\n",
       " <rdkit.Chem.rdchem.Mol at 0x7fe9f000e5d0>,\n",
       " <rdkit.Chem.rdchem.Mol at 0x7fe9f000e620>,\n",
       " <rdkit.Chem.rdchem.Mol at 0x7fe9f000e670>,\n",
       " <rdkit.Chem.rdchem.Mol at 0x7fe9f000e6c0>,\n",
       " <rdkit.Chem.rdchem.Mol at 0x7fe9f000e710>,\n",
       " <rdkit.Chem.rdchem.Mol at 0x7fe9f000e760>,\n",
       " <rdkit.Chem.rdchem.Mol at 0x7fe9f000e7b0>,\n",
       " <rdkit.Chem.rdchem.Mol at 0x7fe9f000e800>,\n",
       " <rdkit.Chem.rdchem.Mol at 0x7fe9f000e850>,\n",
       " <rdkit.Chem.rdchem.Mol at 0x7fe9f000e8a0>,\n",
       " <rdkit.Chem.rdchem.Mol at 0x7fe9f000e8f0>,\n",
       " <rdkit.Chem.rdchem.Mol at 0x7fe9f000e990>,\n",
       " <rdkit.Chem.rdchem.Mol at 0x7fe9f000e940>,\n",
       " <rdkit.Chem.rdchem.Mol at 0x7fe9f000e9e0>,\n",
       " <rdkit.Chem.rdchem.Mol at 0x7fe9f000ea30>,\n",
       " <rdkit.Chem.rdchem.Mol at 0x7fe9f000ea80>,\n",
       " <rdkit.Chem.rdchem.Mol at 0x7fe9f000eb70>,\n",
       " <rdkit.Chem.rdchem.Mol at 0x7fe9f000eb20>,\n",
       " <rdkit.Chem.rdchem.Mol at 0x7fe9f000ead0>,\n",
       " <rdkit.Chem.rdchem.Mol at 0x7fe9f000ebc0>,\n",
       " <rdkit.Chem.rdchem.Mol at 0x7fe9f000ec10>,\n",
       " <rdkit.Chem.rdchem.Mol at 0x7fe9f000ec60>,\n",
       " <rdkit.Chem.rdchem.Mol at 0x7fe9f000ecb0>,\n",
       " <rdkit.Chem.rdchem.Mol at 0x7fe9f000ed00>,\n",
       " <rdkit.Chem.rdchem.Mol at 0x7fe9f000ed50>,\n",
       " <rdkit.Chem.rdchem.Mol at 0x7fe9f000eda0>,\n",
       " <rdkit.Chem.rdchem.Mol at 0x7fe9f000edf0>,\n",
       " <rdkit.Chem.rdchem.Mol at 0x7fe9f000ee40>,\n",
       " <rdkit.Chem.rdchem.Mol at 0x7fe9f000ef30>,\n",
       " <rdkit.Chem.rdchem.Mol at 0x7fe9f000eee0>,\n",
       " <rdkit.Chem.rdchem.Mol at 0x7fe9f000f030>,\n",
       " <rdkit.Chem.rdchem.Mol at 0x7fe9f000ef80>,\n",
       " <rdkit.Chem.rdchem.Mol at 0x7fe9f000ee90>,\n",
       " <rdkit.Chem.rdchem.Mol at 0x7fe9f000f080>,\n",
       " <rdkit.Chem.rdchem.Mol at 0x7fe9f000f170>,\n",
       " <rdkit.Chem.rdchem.Mol at 0x7fe9f000f120>,\n",
       " <rdkit.Chem.rdchem.Mol at 0x7fe9f000f0d0>,\n",
       " <rdkit.Chem.rdchem.Mol at 0x7fe9f000f1c0>,\n",
       " <rdkit.Chem.rdchem.Mol at 0x7fe9f000f210>,\n",
       " <rdkit.Chem.rdchem.Mol at 0x7fe9f000f2b0>,\n",
       " <rdkit.Chem.rdchem.Mol at 0x7feab0d72e40>,\n",
       " <rdkit.Chem.rdchem.Mol at 0x7fe9f000f260>,\n",
       " <rdkit.Chem.rdchem.Mol at 0x7fe9f000f300>,\n",
       " <rdkit.Chem.rdchem.Mol at 0x7fe9f000f350>,\n",
       " <rdkit.Chem.rdchem.Mol at 0x7fe9f000f3a0>,\n",
       " <rdkit.Chem.rdchem.Mol at 0x7fe9f000f490>,\n",
       " <rdkit.Chem.rdchem.Mol at 0x7fe9f000f440>,\n",
       " <rdkit.Chem.rdchem.Mol at 0x7fe9f000f3f0>,\n",
       " <rdkit.Chem.rdchem.Mol at 0x7fe9f000f4e0>,\n",
       " <rdkit.Chem.rdchem.Mol at 0x7fe9f000f530>,\n",
       " <rdkit.Chem.rdchem.Mol at 0x7fe9f000f620>,\n",
       " <rdkit.Chem.rdchem.Mol at 0x7fe9f000f5d0>,\n",
       " <rdkit.Chem.rdchem.Mol at 0x7fe9f000f670>,\n",
       " <rdkit.Chem.rdchem.Mol at 0x7fe9f000f580>,\n",
       " <rdkit.Chem.rdchem.Mol at 0x7fe9f000f6c0>,\n",
       " <rdkit.Chem.rdchem.Mol at 0x7fe9f000f710>,\n",
       " <rdkit.Chem.rdchem.Mol at 0x7fe9f000f760>,\n",
       " <rdkit.Chem.rdchem.Mol at 0x7fe9f000f7b0>,\n",
       " <rdkit.Chem.rdchem.Mol at 0x7fe9f000f8a0>,\n",
       " <rdkit.Chem.rdchem.Mol at 0x7fe9f000f850>,\n",
       " <rdkit.Chem.rdchem.Mol at 0x7fe9f000f800>,\n",
       " <rdkit.Chem.rdchem.Mol at 0x7fe9f000f8f0>,\n",
       " <rdkit.Chem.rdchem.Mol at 0x7fe9f000f940>,\n",
       " <rdkit.Chem.rdchem.Mol at 0x7fe9f000f990>,\n",
       " <rdkit.Chem.rdchem.Mol at 0x7fe9f000f9e0>,\n",
       " <rdkit.Chem.rdchem.Mol at 0x7fe9f000fa30>,\n",
       " <rdkit.Chem.rdchem.Mol at 0x7fe9f000fa80>,\n",
       " <rdkit.Chem.rdchem.Mol at 0x7fe9f000fad0>,\n",
       " <rdkit.Chem.rdchem.Mol at 0x7fe9f000fb20>,\n",
       " <rdkit.Chem.rdchem.Mol at 0x7fe9f000fb70>,\n",
       " <rdkit.Chem.rdchem.Mol at 0x7fe9f000fbc0>,\n",
       " <rdkit.Chem.rdchem.Mol at 0x7fe9f000fc10>,\n",
       " <rdkit.Chem.rdchem.Mol at 0x7fe9f000fc60>,\n",
       " <rdkit.Chem.rdchem.Mol at 0x7fe9f000fcb0>,\n",
       " <rdkit.Chem.rdchem.Mol at 0x7fe9f000fd00>,\n",
       " <rdkit.Chem.rdchem.Mol at 0x7fe9f000fd50>,\n",
       " <rdkit.Chem.rdchem.Mol at 0x7fe9f000fda0>,\n",
       " <rdkit.Chem.rdchem.Mol at 0x7fe9f000fdf0>,\n",
       " <rdkit.Chem.rdchem.Mol at 0x7fe9f000fe40>,\n",
       " <rdkit.Chem.rdchem.Mol at 0x7fe9f000fe90>,\n",
       " <rdkit.Chem.rdchem.Mol at 0x7fe9f000fee0>,\n",
       " <rdkit.Chem.rdchem.Mol at 0x7fe9f000ff30>,\n",
       " <rdkit.Chem.rdchem.Mol at 0x7fe9f000ff80>,\n",
       " <rdkit.Chem.rdchem.Mol at 0x7fe9f00100d0>,\n",
       " <rdkit.Chem.rdchem.Mol at 0x7fe9f0010080>,\n",
       " <rdkit.Chem.rdchem.Mol at 0x7fe9f0010030>,\n",
       " <rdkit.Chem.rdchem.Mol at 0x7fe9f0010120>,\n",
       " <rdkit.Chem.rdchem.Mol at 0x7fe9f0010170>,\n",
       " <rdkit.Chem.rdchem.Mol at 0x7fe9f0010260>,\n",
       " <rdkit.Chem.rdchem.Mol at 0x7fe9f0010210>,\n",
       " <rdkit.Chem.rdchem.Mol at 0x7fe9f00101c0>,\n",
       " <rdkit.Chem.rdchem.Mol at 0x7fe9f00102b0>,\n",
       " <rdkit.Chem.rdchem.Mol at 0x7fe9f0010300>,\n",
       " <rdkit.Chem.rdchem.Mol at 0x7fe9f0010350>,\n",
       " <rdkit.Chem.rdchem.Mol at 0x7fe9f00103a0>,\n",
       " <rdkit.Chem.rdchem.Mol at 0x7fe9f00103f0>,\n",
       " <rdkit.Chem.rdchem.Mol at 0x7fe9f00104e0>,\n",
       " <rdkit.Chem.rdchem.Mol at 0x7fe9f0010490>,\n",
       " <rdkit.Chem.rdchem.Mol at 0x7fe9f0010440>,\n",
       " <rdkit.Chem.rdchem.Mol at 0x7fe9f0010530>,\n",
       " <rdkit.Chem.rdchem.Mol at 0x7fe9f0010580>,\n",
       " <rdkit.Chem.rdchem.Mol at 0x7fe9f00105d0>,\n",
       " <rdkit.Chem.rdchem.Mol at 0x7fe9f00106c0>,\n",
       " <rdkit.Chem.rdchem.Mol at 0x7fe9f0010670>,\n",
       " <rdkit.Chem.rdchem.Mol at 0x7fe9f0010620>,\n",
       " <rdkit.Chem.rdchem.Mol at 0x7fe9f0010710>,\n",
       " <rdkit.Chem.rdchem.Mol at 0x7fe9f0010800>,\n",
       " <rdkit.Chem.rdchem.Mol at 0x7fe9f00107b0>,\n",
       " <rdkit.Chem.rdchem.Mol at 0x7fe9f0010760>,\n",
       " <rdkit.Chem.rdchem.Mol at 0x7fe9f0010850>,\n",
       " <rdkit.Chem.rdchem.Mol at 0x7fe9f00108a0>,\n",
       " <rdkit.Chem.rdchem.Mol at 0x7fe9f00108f0>,\n",
       " <rdkit.Chem.rdchem.Mol at 0x7fe9f0010940>,\n",
       " <rdkit.Chem.rdchem.Mol at 0x7fe9f0010990>,\n",
       " <rdkit.Chem.rdchem.Mol at 0x7fe9f00109e0>,\n",
       " <rdkit.Chem.rdchem.Mol at 0x7fe9f0010a30>,\n",
       " <rdkit.Chem.rdchem.Mol at 0x7fe9f0010a80>,\n",
       " <rdkit.Chem.rdchem.Mol at 0x7fe9f0010ad0>,\n",
       " <rdkit.Chem.rdchem.Mol at 0x7fe9f0010b20>,\n",
       " <rdkit.Chem.rdchem.Mol at 0x7fe9f0010b70>,\n",
       " <rdkit.Chem.rdchem.Mol at 0x7fe9f0010bc0>,\n",
       " <rdkit.Chem.rdchem.Mol at 0x7fe9f0010c10>,\n",
       " <rdkit.Chem.rdchem.Mol at 0x7fe9f0010c60>,\n",
       " <rdkit.Chem.rdchem.Mol at 0x7fe9f0010cb0>,\n",
       " <rdkit.Chem.rdchem.Mol at 0x7fe9f0010d00>,\n",
       " <rdkit.Chem.rdchem.Mol at 0x7fe9f0010d50>,\n",
       " <rdkit.Chem.rdchem.Mol at 0x7fe9f0010da0>,\n",
       " <rdkit.Chem.rdchem.Mol at 0x7fe9f0010df0>,\n",
       " <rdkit.Chem.rdchem.Mol at 0x7fe9f0010e40>,\n",
       " <rdkit.Chem.rdchem.Mol at 0x7fe9f0010e90>,\n",
       " <rdkit.Chem.rdchem.Mol at 0x7fe9f0010ee0>,\n",
       " <rdkit.Chem.rdchem.Mol at 0x7fe9f0010f30>,\n",
       " <rdkit.Chem.rdchem.Mol at 0x7fe9f0010f80>,\n",
       " <rdkit.Chem.rdchem.Mol at 0x7fe9f0011030>,\n",
       " <rdkit.Chem.rdchem.Mol at 0x7fe9f0011080>,\n",
       " <rdkit.Chem.rdchem.Mol at 0x7fe9f00110d0>,\n",
       " <rdkit.Chem.rdchem.Mol at 0x7fe9f0011120>,\n",
       " <rdkit.Chem.rdchem.Mol at 0x7fe9f0011170>,\n",
       " <rdkit.Chem.rdchem.Mol at 0x7fe9f00111c0>,\n",
       " <rdkit.Chem.rdchem.Mol at 0x7fe9f0011210>,\n",
       " <rdkit.Chem.rdchem.Mol at 0x7fe9f0011260>,\n",
       " <rdkit.Chem.rdchem.Mol at 0x7fe9f00112b0>,\n",
       " <rdkit.Chem.rdchem.Mol at 0x7fe9f00113a0>,\n",
       " <rdkit.Chem.rdchem.Mol at 0x7fe9f0011350>,\n",
       " <rdkit.Chem.rdchem.Mol at 0x7fe9f0011440>,\n",
       " <rdkit.Chem.rdchem.Mol at 0x7fe9f00113f0>,\n",
       " <rdkit.Chem.rdchem.Mol at 0x7fe9f0011300>,\n",
       " <rdkit.Chem.rdchem.Mol at 0x7fe9f0011490>,\n",
       " <rdkit.Chem.rdchem.Mol at 0x7fe9f00114e0>,\n",
       " <rdkit.Chem.rdchem.Mol at 0x7fe9f0011530>,\n",
       " <rdkit.Chem.rdchem.Mol at 0x7fe9f0011580>,\n",
       " <rdkit.Chem.rdchem.Mol at 0x7fe9f00115d0>,\n",
       " <rdkit.Chem.rdchem.Mol at 0x7fe9f0011620>,\n",
       " <rdkit.Chem.rdchem.Mol at 0x7fe9f0011670>,\n",
       " <rdkit.Chem.rdchem.Mol at 0x7fe9f00116c0>,\n",
       " <rdkit.Chem.rdchem.Mol at 0x7fe9f0011710>,\n",
       " <rdkit.Chem.rdchem.Mol at 0x7fe9f0011760>,\n",
       " <rdkit.Chem.rdchem.Mol at 0x7fe9f00117b0>,\n",
       " <rdkit.Chem.rdchem.Mol at 0x7fe9f0011800>,\n",
       " <rdkit.Chem.rdchem.Mol at 0x7fe9f00118a0>,\n",
       " <rdkit.Chem.rdchem.Mol at 0x7fe9f0011850>,\n",
       " <rdkit.Chem.rdchem.Mol at 0x7fe9f0011940>,\n",
       " <rdkit.Chem.rdchem.Mol at 0x7fe9f00119e0>,\n",
       " <rdkit.Chem.rdchem.Mol at 0x7fe9f0011990>,\n",
       " <rdkit.Chem.rdchem.Mol at 0x7fe9f00118f0>,\n",
       " <rdkit.Chem.rdchem.Mol at 0x7fe9f0011a30>,\n",
       " <rdkit.Chem.rdchem.Mol at 0x7fe9f0011a80>,\n",
       " <rdkit.Chem.rdchem.Mol at 0x7fe9f0011b70>,\n",
       " <rdkit.Chem.rdchem.Mol at 0x7fe9f0011b20>,\n",
       " <rdkit.Chem.rdchem.Mol at 0x7fe9f0011ad0>,\n",
       " <rdkit.Chem.rdchem.Mol at 0x7fe9f0011bc0>,\n",
       " <rdkit.Chem.rdchem.Mol at 0x7fe9f0011c10>,\n",
       " <rdkit.Chem.rdchem.Mol at 0x7fe9f0011c60>,\n",
       " <rdkit.Chem.rdchem.Mol at 0x7fe9f0011cb0>,\n",
       " <rdkit.Chem.rdchem.Mol at 0x7fe9f0011d00>,\n",
       " <rdkit.Chem.rdchem.Mol at 0x7fe9f0011d50>,\n",
       " <rdkit.Chem.rdchem.Mol at 0x7fe9f0011da0>,\n",
       " <rdkit.Chem.rdchem.Mol at 0x7fe9f0011e90>,\n",
       " <rdkit.Chem.rdchem.Mol at 0x7fe9f0011e40>,\n",
       " <rdkit.Chem.rdchem.Mol at 0x7fe9f0011df0>,\n",
       " <rdkit.Chem.rdchem.Mol at 0x7fe9f0011ee0>,\n",
       " <rdkit.Chem.rdchem.Mol at 0x7fe9f0011f30>,\n",
       " <rdkit.Chem.rdchem.Mol at 0x7fe9f0011f80>,\n",
       " <rdkit.Chem.rdchem.Mol at 0x7fe9f0012030>,\n",
       " <rdkit.Chem.rdchem.Mol at 0x7fe9f0012080>,\n",
       " <rdkit.Chem.rdchem.Mol at 0x7fe9f00120d0>,\n",
       " <rdkit.Chem.rdchem.Mol at 0x7fe9f0012120>,\n",
       " <rdkit.Chem.rdchem.Mol at 0x7fe9f0012170>,\n",
       " <rdkit.Chem.rdchem.Mol at 0x7fe9f00121c0>,\n",
       " <rdkit.Chem.rdchem.Mol at 0x7fe9f0012210>,\n",
       " <rdkit.Chem.rdchem.Mol at 0x7fe9f0012260>,\n",
       " <rdkit.Chem.rdchem.Mol at 0x7fe9f00122b0>,\n",
       " <rdkit.Chem.rdchem.Mol at 0x7fe9f0012300>,\n",
       " <rdkit.Chem.rdchem.Mol at 0x7fe9f0012350>,\n",
       " <rdkit.Chem.rdchem.Mol at 0x7fe9f00123a0>,\n",
       " <rdkit.Chem.rdchem.Mol at 0x7fe9f0012490>,\n",
       " <rdkit.Chem.rdchem.Mol at 0x7fe9f0012440>,\n",
       " <rdkit.Chem.rdchem.Mol at 0x7fe9f00123f0>,\n",
       " <rdkit.Chem.rdchem.Mol at 0x7fe9f0012580>,\n",
       " <rdkit.Chem.rdchem.Mol at 0x7fe9f0012530>,\n",
       " <rdkit.Chem.rdchem.Mol at 0x7fe9f00124e0>,\n",
       " <rdkit.Chem.rdchem.Mol at 0x7fe9f00125d0>,\n",
       " <rdkit.Chem.rdchem.Mol at 0x7fe9f0012620>,\n",
       " <rdkit.Chem.rdchem.Mol at 0x7fe9f0012670>,\n",
       " <rdkit.Chem.rdchem.Mol at 0x7fe9f00126c0>,\n",
       " <rdkit.Chem.rdchem.Mol at 0x7fe9f0012710>,\n",
       " <rdkit.Chem.rdchem.Mol at 0x7fe9f0012760>,\n",
       " <rdkit.Chem.rdchem.Mol at 0x7fe9f00127b0>,\n",
       " <rdkit.Chem.rdchem.Mol at 0x7fe9f0012800>,\n",
       " <rdkit.Chem.rdchem.Mol at 0x7fe9f0012850>,\n",
       " <rdkit.Chem.rdchem.Mol at 0x7fe9f0012940>,\n",
       " <rdkit.Chem.rdchem.Mol at 0x7fe9f00128f0>,\n",
       " <rdkit.Chem.rdchem.Mol at 0x7fe9f00128a0>,\n",
       " <rdkit.Chem.rdchem.Mol at 0x7fe9f0012990>,\n",
       " <rdkit.Chem.rdchem.Mol at 0x7fe9f0012a30>,\n",
       " <rdkit.Chem.rdchem.Mol at 0x7fe9f00129e0>,\n",
       " <rdkit.Chem.rdchem.Mol at 0x7fe9f0012a80>,\n",
       " <rdkit.Chem.rdchem.Mol at 0x7fe9f0012ad0>,\n",
       " <rdkit.Chem.rdchem.Mol at 0x7fe9f0012b20>,\n",
       " <rdkit.Chem.rdchem.Mol at 0x7fe9f0012b70>,\n",
       " <rdkit.Chem.rdchem.Mol at 0x7fe9f0012bc0>,\n",
       " <rdkit.Chem.rdchem.Mol at 0x7fe9f0012cb0>,\n",
       " <rdkit.Chem.rdchem.Mol at 0x7fe9f0012c60>,\n",
       " <rdkit.Chem.rdchem.Mol at 0x7fe9f0012c10>,\n",
       " <rdkit.Chem.rdchem.Mol at 0x7fe9f0012d00>,\n",
       " <rdkit.Chem.rdchem.Mol at 0x7fe9f0012d50>,\n",
       " <rdkit.Chem.rdchem.Mol at 0x7fe9f0012e40>,\n",
       " <rdkit.Chem.rdchem.Mol at 0x7fe9f0012df0>,\n",
       " <rdkit.Chem.rdchem.Mol at 0x7fe9f0012da0>,\n",
       " <rdkit.Chem.rdchem.Mol at 0x7fe9f0012ee0>,\n",
       " <rdkit.Chem.rdchem.Mol at 0x7fe9f0012e90>,\n",
       " <rdkit.Chem.rdchem.Mol at 0x7fe9f0012f30>,\n",
       " <rdkit.Chem.rdchem.Mol at 0x7fe9f0013080>,\n",
       " <rdkit.Chem.rdchem.Mol at 0x7fe9f0013030>,\n",
       " <rdkit.Chem.rdchem.Mol at 0x7fe9f0012f80>,\n",
       " <rdkit.Chem.rdchem.Mol at 0x7fe9f00130d0>,\n",
       " <rdkit.Chem.rdchem.Mol at 0x7fe9f0013120>,\n",
       " <rdkit.Chem.rdchem.Mol at 0x7fe9f0013170>,\n",
       " <rdkit.Chem.rdchem.Mol at 0x7fe9f00131c0>,\n",
       " <rdkit.Chem.rdchem.Mol at 0x7fe9f0013210>,\n",
       " <rdkit.Chem.rdchem.Mol at 0x7fe9f0013260>,\n",
       " <rdkit.Chem.rdchem.Mol at 0x7fe9f00132b0>,\n",
       " <rdkit.Chem.rdchem.Mol at 0x7fe9f0013300>,\n",
       " <rdkit.Chem.rdchem.Mol at 0x7fe9f0013350>,\n",
       " <rdkit.Chem.rdchem.Mol at 0x7fe9f00133a0>,\n",
       " <rdkit.Chem.rdchem.Mol at 0x7fe9f00133f0>,\n",
       " <rdkit.Chem.rdchem.Mol at 0x7fe9f00134e0>,\n",
       " <rdkit.Chem.rdchem.Mol at 0x7fe9f0013490>,\n",
       " <rdkit.Chem.rdchem.Mol at 0x7fe9f0013440>,\n",
       " <rdkit.Chem.rdchem.Mol at 0x7fe9f0013530>,\n",
       " <rdkit.Chem.rdchem.Mol at 0x7fe9f0013580>,\n",
       " <rdkit.Chem.rdchem.Mol at 0x7fe9f00135d0>,\n",
       " <rdkit.Chem.rdchem.Mol at 0x7fe9f0013620>,\n",
       " <rdkit.Chem.rdchem.Mol at 0x7fe9f0013670>,\n",
       " <rdkit.Chem.rdchem.Mol at 0x7fe9f00136c0>,\n",
       " <rdkit.Chem.rdchem.Mol at 0x7fe9f0013710>,\n",
       " <rdkit.Chem.rdchem.Mol at 0x7fe9f0013760>,\n",
       " <rdkit.Chem.rdchem.Mol at 0x7fe9f0013850>,\n",
       " <rdkit.Chem.rdchem.Mol at 0x7fe9f0013800>,\n",
       " <rdkit.Chem.rdchem.Mol at 0x7fe9f00137b0>,\n",
       " <rdkit.Chem.rdchem.Mol at 0x7fe9f00138a0>,\n",
       " <rdkit.Chem.rdchem.Mol at 0x7fe9f00138f0>,\n",
       " <rdkit.Chem.rdchem.Mol at 0x7fe9f0013940>,\n",
       " <rdkit.Chem.rdchem.Mol at 0x7fe9f0013990>,\n",
       " <rdkit.Chem.rdchem.Mol at 0x7fe9f00139e0>,\n",
       " <rdkit.Chem.rdchem.Mol at 0x7fe9f0013a30>,\n",
       " <rdkit.Chem.rdchem.Mol at 0x7fe9f0013a80>,\n",
       " <rdkit.Chem.rdchem.Mol at 0x7fe9f0013ad0>,\n",
       " <rdkit.Chem.rdchem.Mol at 0x7fe9f0013b20>,\n",
       " <rdkit.Chem.rdchem.Mol at 0x7fe9f0013b70>,\n",
       " <rdkit.Chem.rdchem.Mol at 0x7fe9f0013bc0>,\n",
       " <rdkit.Chem.rdchem.Mol at 0x7fe9f0013cb0>,\n",
       " <rdkit.Chem.rdchem.Mol at 0x7fe9f0013c60>,\n",
       " <rdkit.Chem.rdchem.Mol at 0x7fe9f0013c10>,\n",
       " <rdkit.Chem.rdchem.Mol at 0x7fe9f0013d00>,\n",
       " <rdkit.Chem.rdchem.Mol at 0x7fe9f0013d50>,\n",
       " <rdkit.Chem.rdchem.Mol at 0x7fe9f0013e40>,\n",
       " <rdkit.Chem.rdchem.Mol at 0x7fe9f0013df0>,\n",
       " <rdkit.Chem.rdchem.Mol at 0x7fe9f0013da0>,\n",
       " <rdkit.Chem.rdchem.Mol at 0x7fe9f0013e90>,\n",
       " <rdkit.Chem.rdchem.Mol at 0x7fe9f0013ee0>,\n",
       " <rdkit.Chem.rdchem.Mol at 0x7fe9f0013f30>,\n",
       " <rdkit.Chem.rdchem.Mol at 0x7fe9f0013f80>,\n",
       " <rdkit.Chem.rdchem.Mol at 0x7fe9f0014030>,\n",
       " <rdkit.Chem.rdchem.Mol at 0x7fe9f0014080>,\n",
       " <rdkit.Chem.rdchem.Mol at 0x7fe9f00140d0>,\n",
       " <rdkit.Chem.rdchem.Mol at 0x7fe9f0014120>,\n",
       " <rdkit.Chem.rdchem.Mol at 0x7fe9f0014170>,\n",
       " <rdkit.Chem.rdchem.Mol at 0x7fe9f00141c0>,\n",
       " <rdkit.Chem.rdchem.Mol at 0x7fe9f0014210>,\n",
       " <rdkit.Chem.rdchem.Mol at 0x7fe9f0014260>,\n",
       " <rdkit.Chem.rdchem.Mol at 0x7fe9f00142b0>,\n",
       " <rdkit.Chem.rdchem.Mol at 0x7fe9f0014300>,\n",
       " <rdkit.Chem.rdchem.Mol at 0x7fe9f0014350>,\n",
       " <rdkit.Chem.rdchem.Mol at 0x7fe9f00143a0>,\n",
       " <rdkit.Chem.rdchem.Mol at 0x7fe9f00143f0>,\n",
       " <rdkit.Chem.rdchem.Mol at 0x7fe9f0014440>,\n",
       " <rdkit.Chem.rdchem.Mol at 0x7fe9f0014530>,\n",
       " <rdkit.Chem.rdchem.Mol at 0x7fe9f00144e0>,\n",
       " <rdkit.Chem.rdchem.Mol at 0x7fe9f0014490>,\n",
       " <rdkit.Chem.rdchem.Mol at 0x7fe9f0014580>,\n",
       " <rdkit.Chem.rdchem.Mol at 0x7fe9f0014670>,\n",
       " <rdkit.Chem.rdchem.Mol at 0x7fe9f0014620>,\n",
       " <rdkit.Chem.rdchem.Mol at 0x7fe9f00145d0>,\n",
       " <rdkit.Chem.rdchem.Mol at 0x7fe9f00146c0>,\n",
       " <rdkit.Chem.rdchem.Mol at 0x7fe9f0014710>,\n",
       " <rdkit.Chem.rdchem.Mol at 0x7fe9f0014760>,\n",
       " <rdkit.Chem.rdchem.Mol at 0x7fe9f00147b0>,\n",
       " <rdkit.Chem.rdchem.Mol at 0x7fe9f0014800>,\n",
       " <rdkit.Chem.rdchem.Mol at 0x7fe9f0014850>,\n",
       " <rdkit.Chem.rdchem.Mol at 0x7fe9f00148a0>,\n",
       " <rdkit.Chem.rdchem.Mol at 0x7fe9f00148f0>,\n",
       " <rdkit.Chem.rdchem.Mol at 0x7fe9f0014940>,\n",
       " <rdkit.Chem.rdchem.Mol at 0x7fe9f0014a30>,\n",
       " <rdkit.Chem.rdchem.Mol at 0x7fe9f00149e0>,\n",
       " <rdkit.Chem.rdchem.Mol at 0x7fe9f0014990>,\n",
       " <rdkit.Chem.rdchem.Mol at 0x7fe9f0014a80>,\n",
       " <rdkit.Chem.rdchem.Mol at 0x7fe9f0014ad0>,\n",
       " <rdkit.Chem.rdchem.Mol at 0x7fe9f0014b20>,\n",
       " <rdkit.Chem.rdchem.Mol at 0x7fe9f0014b70>,\n",
       " <rdkit.Chem.rdchem.Mol at 0x7fe9f0014c60>,\n",
       " <rdkit.Chem.rdchem.Mol at 0x7fe9f0014c10>,\n",
       " <rdkit.Chem.rdchem.Mol at 0x7fe9f0014bc0>,\n",
       " <rdkit.Chem.rdchem.Mol at 0x7fe9f0014cb0>,\n",
       " <rdkit.Chem.rdchem.Mol at 0x7fe9f0014d00>,\n",
       " <rdkit.Chem.rdchem.Mol at 0x7fe9f0014d50>,\n",
       " <rdkit.Chem.rdchem.Mol at 0x7fe9f0014da0>,\n",
       " <rdkit.Chem.rdchem.Mol at 0x7fe9f0014df0>,\n",
       " <rdkit.Chem.rdchem.Mol at 0x7fe9f0014e40>,\n",
       " <rdkit.Chem.rdchem.Mol at 0x7fe9f0014e90>,\n",
       " <rdkit.Chem.rdchem.Mol at 0x7fe9f0014ee0>,\n",
       " <rdkit.Chem.rdchem.Mol at 0x7fe9f0014f30>,\n",
       " <rdkit.Chem.rdchem.Mol at 0x7fe9f0014f80>,\n",
       " <rdkit.Chem.rdchem.Mol at 0x7fe9f0015030>,\n",
       " <rdkit.Chem.rdchem.Mol at 0x7fe9f0015080>,\n",
       " <rdkit.Chem.rdchem.Mol at 0x7fe9f00150d0>,\n",
       " <rdkit.Chem.rdchem.Mol at 0x7fe9f0015120>,\n",
       " <rdkit.Chem.rdchem.Mol at 0x7fe9f0015170>]"
      ]
     },
     "execution_count": 8,
     "metadata": {},
     "output_type": "execute_result"
    }
   ],
   "source": [
    "drugs # Mol 타입 600개가 들어있다. "
   ]
  },
  {
   "cell_type": "markdown",
   "id": "a5c96dc2-b437-45dd-ad2b-908894bb2977",
   "metadata": {},
   "source": [
    "## 2.분자로 부터 \n",
    "## 분자의 특성(feature)를 뽑아내 딕셔너리에 넣은 후\n",
    "## pandas DataFrame으로 변환하자!"
   ]
  },
  {
   "cell_type": "markdown",
   "id": "870938c8-ce74-4a1b-897f-0f84518f914d",
   "metadata": {},
   "source": [
    "* 분자의 특징을 나타내는 여러가지 변수: molecular descriptor (분자 표현자)\n",
    "* 예시) 1. 분자량 2. 탄소의 개수 3. 질소의 개수 4. 산소의 개수, 5. 수소결합 받개의 개수, 6. 단일 결합의 개수, 7. 고리의 개수..... \n",
    "* descriptor는 rdkit으로 계산이 가능하다. \n",
    "* 전체 descriptor의 목록: https://www.rdkit.org/docs/source/rdkit.Chem.rdMolDescriptors.html"
   ]
  },
  {
   "cell_type": "markdown",
   "id": "09b6d4eb-34cd-4a33-abc7-3702bfae2315",
   "metadata": {},
   "source": [
    "### drug molecule 특징 중 유명한 규칙  Linpinski's rule of five. \n",
    "* https://en.wikipedia.org/wiki/Lipinski%27s_rule_of_five#:~:text=Lipinski's%20rule%20states%20that%2C%20in,all%20nitrogen%20or%20oxygen%20atoms)\n",
    "1. 수소결합 받개의 개수 < 10  ---(HBD : O, N에 붙어있는 H (OH,NH)\n",
    "2. 수소결합 주개의 개수 < 5   ---(HBA : lone pair를 가지고 있는 N,O등)\n",
    "3. 분자량 < 500 Dalton\n",
    "4. logP < 5"
   ]
  },
  {
   "cell_type": "markdown",
   "id": "1279c9ab-9d86-45c9-bf59-b4a62bd7ac4d",
   "metadata": {},
   "source": [
    "* Descriptor 계산을 위한 모듈을 불러오자. "
   ]
  },
  {
   "cell_type": "code",
   "execution_count": 9,
   "id": "91aa2034-7ed5-4013-acb8-6fa1c628b039",
   "metadata": {},
   "outputs": [],
   "source": [
    "import rdkit.Chem.rdMolDescriptors "
   ]
  },
  {
   "cell_type": "markdown",
   "id": "c15adf23-1eb3-4491-b6b9-f13c0917aa24",
   "metadata": {},
   "source": [
    "* rdkit.Chem.rdMolDescriptors.CalcExactMolWt 이렇게 불러오는 것은 불편하므로... "
   ]
  },
  {
   "cell_type": "code",
   "execution_count": 11,
   "id": "1bbd4570-4f54-4c31-8a82-44af746b3b9e",
   "metadata": {},
   "outputs": [],
   "source": [
    "from rdkit.Chem.rdMolDescriptors import CalcExactMolWt, CalcNumLipinskiHBA, CalcNumLipinskiHBD, CalcCrippenDescriptors"
   ]
  },
  {
   "cell_type": "markdown",
   "id": "cc90f9ab-eeba-49b9-8c5b-2a0ba72d920f",
   "metadata": {},
   "source": [
    "### ◎분자들의 물성(property)을 계산한 값을 넣은 딕셔너리를 생성!"
   ]
  },
  {
   "cell_type": "code",
   "execution_count": 16,
   "id": "1d05d405-5f16-4223-abf3-d2bb71151156",
   "metadata": {},
   "outputs": [],
   "source": [
    "# descriptor (분자의 property) 들을 feature로 쓸 것이다.\n",
    "# descriptor를 저장할 딕셔너리를 초기화 하자. (빈 딕셔너리를 생성하자.)\n",
    "\n",
    "# 만든 딕셔너리를 pands의 dataframe (엑셀 형식)으로 변환 킬 것이기 때문에 엑셀을 상상해 보면\n",
    "# 각 행은 서로 다른 molcule이 되겠고 각 열은 feature (molecule에서 계산한 property들)과\n",
    "# 맨 마지막 행은 output(정답)이 되겠다.\n",
    "\n",
    "# 딕셔너리에는\n",
    "# Key: 물성\n",
    "# Value: 각 분자들의 물성 값이 들어가는 리스트.\n",
    "property = {\"MW\": [], \"HBA\": [], \"HBD\": [], \"logP\": [], \"is_drug\": 1} #딕셔너리를 초기화. # 1는 참 (True)\n",
    "for mol in drugs:\n",
    "    mw = CalcExactMolWt(mol) # 분자량 계산\n",
    "    property[\"MW\"].append(mw)\n",
    "    \n",
    "    hba = CalcNumLipinskiHBA(mol) # Hbond acceptor 개수\n",
    "    property[\"HBA\"].append(hba)\n",
    "    \n",
    "    hbd = CalcNumLipinskiHBD(mol) # Hbond donor 개수\n",
    "    property[\"HBD\"].append(hbd)\n",
    "    \n",
    "    logp, mr = CalcCrippenDescriptors(mol) # logP 계산. (두 값을 리턴. molar refractivity 분자 굴절도)\n",
    "    property[\"logP\"].append(logp)\n",
    "    \n",
    "    #property[\"is_drug\"].append(1)"
   ]
  },
  {
   "cell_type": "code",
   "execution_count": 15,
   "id": "f597537d-4fb7-40ca-8d23-fcd160e9ff37",
   "metadata": {
    "collapsed": true,
    "jupyter": {
     "outputs_hidden": true
    },
    "tags": []
   },
   "outputs": [
    {
     "name": "stdout",
     "output_type": "stream",
     "text": [
      "{'MW': [315.00072404, 171.104799416, 1343.5878012219998, 211.110947416, 204.072119384, 86.08439831999999, 140.106196384, 465.19132297600004, 472.2335221360001, 447.23827316800003, 324.11437811999997, 353.08993719999995, 308.104858992, 309.07832696, 820.880323412, 530.148760736, 613.769650768, 151.063328528, 221.988132052, 181.040878832, 337.14378433999997, 75.0320284, 163.030314148, 373.11479271999997, 361.13140808800006, 307.026291388, 180.042258736, 321.143704088, 370.101230156, 296.116092372, 254.094294308, 244.089957876, 242.094294308, 260.050715244, 293.16404560800004, 226.110613068, 501.287908728, 501.198849614, 234.125594436, 392.20999275599996, 471.313729552, 519.10105154, 613.3628049839999, 239.152143532, 225.136493468, 240.1473925, 309.194008344, 239.152143532, 291.21982916800005, 344.2562742519999, 219.110672644, 474.23793882, 149.12044948, 473.13987748400007, 318.06588664, 361.1080857999999, 516.309572776, 276.07217687200006, 329.18383758400006, 558.2530004399999, 298.095356928, 150.104465068, 481.1682848359999, 775.354959796, 513.327917372, 279.175377512, 206.130679816, 430.3810808399999, 472.3916455239999, 430.3810808399999, 450.3497807119999, 384.33921602799995, 400.3341306479999, 505.22465683999997, 585.1909873619999, 316.088163372, 427.263505548, 159.125928784, 360.081492848, 339.231062548, 496.214426504, 325.240564612, 411.277344044, 411.18458653199997, 337.142641468, 472.12215206400003, 253.10942319199998, 348.12561150000005, 456.19435975600004, 211.120843404, 272.1194635, 266.163042564, 307.214743788, 325.225308472, 259.157228912, 248.15247788, 265.167793596, 360.112836832, 476.19370465800006, 529.1625443579999, 404.184840628, 557.222738692, 398.35486609199995, 396.33921602799995, 156.15141526, 354.165167804, 324.15460312, 720.3127606359999, 317.19909372399997, 368.22202024009, 303.147058152, 299.18852904000005, 328.17869262799996, 294.209598832, 298.15036970399996, 284.13471963999996, 303.138992004, 161.12845420409, 236.061948624, 192.126263132, 179.167399672, 135.104799416, 179.131014164, 239.107691876, 430.06104080800003, 205.974525856, 90.031694052, 162.125594436, 185.080041212, 258.032668364, 163.030314148, 867.3180956199999, 317.06234046000003, 179.167399672, 314.07251330799994, 241.11027872, 376.13828436, 411.9977394, 270.061612188, 356.088243624, 426.206718944, 410.211804324, 349.17902697600005, 265.11175858409, 295.01668395200005, 462.078094332, 169.073893212, 391.17835828, 369.07588234800005, 369.07588234800005, 441.144630604, 375.13267104, 266.116761068, 260.188863388, 434.0490712000001, 231.100776656, 207.125928784, 415.18152551200006, 390.186276544, 456.32420012018, 480.20222200800004, 253.052112212, 221.10519334, 250.156894564, 366.15929457600004, 348.208930136, 228.078644244, 278.178298704, 273.06372245200004, 381.07588234799994, 323.13036253200005, 311.13036253200005, 298.15036970399996, 448.15537034, 185.084063972, 529.1837929840001, 242.090271548, 224.079706864, 267.096753896, 401.1964083560001, 524.256960012, 487.15572175200003, 171.064391148, 445.17837534399996, 410.15543232, 325.07820331600004, 442.16410518399994, 308.082874096, 342.043901744, 454.00600588, 267.067762276, 229.991676144, 276.172544628, 365.060090052, 359.16451978399994, 361.14378434, 365.060090052, 199.103085164, 302.011264224, 309.209264484, 259.157228912, 245.141578848, 563.301189442, 339.21982916800005, 212.116092372, 704.239307056, 570.800222624, 387.204573028, 144.034192588, 246.100442308, 232.084792244, 218.105527688, 141.078978592, 232.121177752, 226.131742436, 218.105527688, 312.208930136, 248.08287409599998, 490.22499118799993, 276.183778008, 552.353637268, 287.152143532, 516.25997764, 482.268176328, 356.1194635, 166.05646932, 469.22445294399995, 336.204907376, 260.173607248, 218.126657056, 226.131742436, 238.131742436, 144.115029752, 371.1005018839999, 170.05138394, 446.206638692, 488.22057450399996, 514.2368762, 474.20492443999996, 435.22703978800007, 382.2719243159999, 422.23382455599995, 645.023689788, 422.16218703600015, 428.23245951600006, 424.14567824799997, 324.1473925, 308.15247788, 314.2245802, 178.135765196, 428.31378912799994, 194.130679816, 404.26750763199993, 307.25112929600004, 456.36034539599996, 407.316445582, 304.29987663609, 334.31044132009, 495.39237379599996, 627.316917412, 590.1408984839999, 319.09497533599995, 301.190260356, 359.1492636439999, 352.2249741239999, 499.1656546, 556.2970935079999, 219.147058152, 270.103813436, 364.10929273999994, 603.3618615159999, 289.20417910400005, 360.21693486008996, 260.188863388, 285.10347908800003, 276.033540956, 341.199093724, 585.96334832, 211.11431854399999, 367.214743788, 489.072546556, 265.08849772, 522.186080816, 424.1798708359999, 212.15247788, 305.12766010000007, 250.168127944, 572.336255888, 305.10117058000003, 246.173213324, 199.168462292, 246.173213324, 296.05093264, 205.146664228, 312.16601976799996, 357.230393852, 234.173213324, 319.18152551199995, 387.15136825599996, 398.211804324, 299.14005462399996, 235.168462292, 309.26677936000004, 405.185942196, 335.17644013200004, 509.086265232, 487.203110784, 204.089877624, 232.084792244, 319.13321965600005, 351.139447908, 506.271799464, 231.123484172, 46.041864812, 242.07097202, 247.157228912, 352.215078136, 383.069113448, 408.14519958, 408.14519958, 165.078978592, 351.129299912, 312.204907376, 330.255880328, 382.144805656, 303.13830503599996, 427.15657728, 574.1707010320001, 498.2366014279999, 438.21547205999997, 376.19982199599997, 417.22637109199997, 452.267507632, 556.198966468, 460.13042210799995, 408.1339661999999, 436.1288808199999, 408.17189299599994, 610.253982808, 568.1594137279999, 463.28349204399996, 678.132683998, 247.062676896, 371.11644378400007, 399.1802899280001, 204.183778008, 380.15724388800004, 1201.841367992, 421.163770836, 4111.115376892007, 170.105527688, 221.177964356, 733.4612412040001, 748.5085257439999, 208.121177752, 536.26738478418, 371.224914548, 268.14632988, 129.10144535199998, 476.223055976, 434.25425758000006, 307.168462292, 426.19531700399995, 223.14410426809, 181.09715407609, 547.1768511200002, 382.22777431608995, 433.26169397999996, 210.15929457599998, 597.811121656, 263.18852904, 318.07316070800005, 274.123676288, 289.12334194, 269.164045608, 335.16674804, 287.163376912, 275.167399672, 277.183049736, 324.163791512, 314.154976416, 280.193948768, 318.09574728800004, 309.184112356, 324.163791512, 255.17354767199998, 270.173213324, 290.11859090800004, 255.162314292, 269.177964356, 405.185942196, 318.07316070800005, 485.16299556000007, 446.18101820000004, 443.17011916800004, 437.163393976, 454.1713158039999, 311.15935415200005, 357.11471246800005, 441.139212964, 291.1986998, 615.077880436, 444.155745992, 339.16952491200004, 203.094628656, 425.050251552, 143.058243148, 337.019097832, 351.034747896, 331.06267689599997, 257.10519334, 358.95680319199994, 438.970881236, 293.152812228, 294.148061196, 300.066555336, 284.07164071600005, 368.092770084, 300.066555336, 254.101504928, 469.1880674359999, 257.975237564, 180.064725496, 498.24041908400005, 139.063328528, 114.02516919199999, 277.038193464, 456.00000833999997, 440.02955887999997, 194.08037556, 278.13789043599996, 295.139470672, 309.11873522800005, 287.167399672, 290.178298704, 377.135111476, 386.14865545199996, 382.17149907199996, 343.170292132, 162.115698448, 351.16952491200004, 388.10506608400004, 388.10506608400004, 300.139326352, 266.178298704, 560.271130768, 326.129824288, 312.14086764, 327.113839876, 493.25900861200006, 532.219844144, 407.164303428, 373.137946448, 265.157897608, 374.185509324, 1142.3097430320004, 312.195011388, 236.003782116, 380.11971550799996, 450.08529708199984, 194.055223432, 459.18663152000005, 289.167793596, 303.147058152, 412.1447873840001, 464.093009632, 386.120132196, 482.07688090000005, 477.0882586000001, 464.08630271199996, 314.14126156399993, 331.113666912, 167.167399672, 299.082539748, 323.143390416, 309.134048856, 136.100048384, 263.167399672, 277.183049736, 263.167399672, 266.178298704, 255.162314292, 297.11873522800005, 183.089543276, 167.094628656, 221.152812228, 295.135447912, 335.16674804, 149.12044948, 165.1153641, 165.1153641, 243.137162164, 1447.4301996399997, 305.073804904, 252.11571551199998, 233.141578848, 479.205635648, 371.14812077199997, 346.11648629599995, 388.16343648799995, 539.2532545360001, 422.161500068, 295.095691276, 313.086269464, 738.3853313200001, 539.151779244, 704.3897480040001, 255.074287136, 130.026608672, 378.157957184, 326.18819469199997, 493.167141964, 493.14381967599996, 426.109482768, 433.2100523319999, 320.12598836, 483.178565372, 469.16808094000004, 499.2695732960001, 164.083729624, 305.199093724, 366.2406241879999, 862.68391136, 383.0751334, 454.28315769599993, 510.22134731208996, 379.214743788, 383.159354152, 387.19065428, 451.18556889999996, 317.199093724, 468.2624222519999, 418.283157696, 241.09502258, 474.10666632799996, 426.195485564, 446.1520965280001, 375.159434404, 216.042258736, 315.14705815200006, 446.2430242000001, 388.19982199599997, 575.2090067759999, 583.259137798, 254.126657056, 463.20827641600005, 290.13789043599996, 259.168462292, 529.164745148, 580.148291262, 352.071365944, 399.16818752, 230.094294308, 228.115029752, 357.0767856719999, 345.114712468, 389.206304344, 501.169999088, 345.114712468, 232.121177752, 328.160934388, 352.21507813600005, 277.204179104, 239.973727876, 459.19065428, 414.1613283119999, 458.24818983200004, 285.184112356, 569.26381922, 451.141117244, 572.204668256, 263.18852904, 631.2105621600001, 551.1838546480001, 427.24710653600005, 198.089208928, 406.189257312, 583.158047422, 747.270476732, 554.156890332, 525.2488378520001, 459.24210140799994, 267.18344366, 318.155512572, 367.16626937200004, 359.13036253200005, 551.393436416, 418.1740011719999, 393.16885621600005, 651.3618615159999, 250.131742436, 803.481976648, 570.22670544, 465.183062308, 1735.000064031999, 842.5140050480001, 785.3523594519999, 697.309825944, 846.4415088039999, 876.4520734879999], 'HBA': [4, 1, 27, 3, 2, 2, 4, 9, 10, 9, 6, 7, 4, 7, 12, 8, 6, 3, 7, 5, 7, 3, 4, 4, 5, 8, 4, 9, 11, 5, 3, 2, 3, 3, 5, 3, 5, 13, 3, 5, 3, 7, 9, 4, 4, 5, 5, 4, 3, 5, 6, 9, 1, 8, 4, 5, 2, 5, 7, 7, 6, 1, 9, 12, 6, 1, 2, 2, 3, 2, 2, 1, 2, 9, 12, 5, 5, 3, 6, 4, 8, 2, 4, 5, 6, 4, 5, 7, 9, 4, 5, 5, 4, 5, 3, 4, 4, 4, 11, 12, 7, 8, 1, 1, 1, 11, 10, 11, 4, 4, 5, 3, 5, 2, 2, 2, 2, 4, 4, 3, 1, 1, 2, 2, 6, 7, 3, 3, 6, 3, 4, 14, 7, 1, 5, 3, 10, 10, 4, 3, 7, 6, 5, 5, 3, 5, 4, 5, 5, 5, 7, 3, 5, 3, 7, 5, 3, 3, 2, 4, 10, 6, 4, 3, 6, 2, 3, 2, 6, 5, 6, 6, 2, 5, 2, 8, 7, 6, 9, 8, 9, 9, 6, 9, 6, 3, 8, 4, 4, 8, 6, 4, 3, 6, 6, 7, 6, 2, 4, 2, 3, 3, 8, 3, 5, 12, 3, 6, 1, 5, 5, 4, 3, 4, 5, 4, 2, 4, 9, 4, 11, 4, 5, 6, 5, 2, 7, 6, 6, 6, 5, 5, 2, 8, 3, 9, 10, 6, 10, 8, 5, 7, 4, 7, 7, 6, 5, 4, 2, 1, 6, 2, 6, 3, 3, 5, 1, 2, 6, 12, 7, 8, 6, 9, 5, 2, 7, 5, 5, 7, 12, 3, 5, 3, 5, 5, 4, 10, 3, 4, 6, 5, 10, 7, 4, 6, 4, 8, 8, 3, 4, 3, 2, 2, 2, 4, 3, 3, 4, 6, 5, 4, 3, 2, 4, 7, 9, 4, 5, 6, 6, 8, 1, 1, 3, 3, 4, 5, 7, 7, 3, 3, 6, 2, 4, 5, 7, 9, 9, 7, 7, 8, 6, 9, 9, 6, 7, 7, 12, 12, 6, 9, 7, 9, 3, 4, 7, 23, 8, 104, 4, 2, 14, 14, 4, 6, 2, 2, 5, 4, 9, 4, 5, 4, 4, 11, 3, 4, 6, 4, 3, 2, 2, 2, 5, 5, 5, 1, 1, 3, 2, 2, 2, 4, 3, 3, 3, 3, 2, 2, 2, 2, 8, 6, 5, 9, 13, 9, 6, 8, 1, 9, 11, 7, 3, 8, 4, 7, 7, 7, 4, 7, 7, 4, 5, 4, 3, 5, 4, 8, 8, 6, 6, 10, 3, 2, 9, 7, 7, 6, 7, 1, 2, 1, 2, 5, 3, 4, 2, 2, 7, 9, 9, 2, 2, 8, 4, 4, 4, 8, 7, 3, 3, 3, 7, 18, 5, 7, 7, 12, 8, 13, 4, 5, 7, 6, 5, 7, 7, 7, 7, 7, 1, 4, 4, 2, 2, 1, 1, 1, 2, 2, 2, 4, 3, 4, 5, 5, 1, 2, 2, 4, 33, 1, 6, 3, 9, 8, 8, 8, 9, 10, 6, 6, 14, 11, 13, 7, 4, 6, 3, 8, 8, 8, 8, 6, 10, 7, 9, 2, 4, 5, 4, 7, 6, 5, 4, 9, 9, 10, 4, 7, 6, 6, 6, 6, 7, 7, 4, 5, 8, 7, 9, 9, 6, 6, 7, 4, 8, 15, 6, 7, 3, 2, 5, 6, 9, 8, 6, 4, 3, 4, 3, 1, 9, 6, 5, 4, 10, 8, 8, 3, 8, 11, 7, 4, 6, 15, 14, 4, 10, 6, 4, 4, 6, 6, 9, 9, 7, 12, 5, 13, 8, 7, 28, 16, 14, 13, 15, 16], 'HBD': [1, 1, 15, 1, 0, 2, 0, 3, 2, 2, 2, 1, 1, 2, 8, 0, 3, 2, 3, 2, 1, 2, 2, 0, 0, 1, 1, 2, 1, 2, 1, 1, 1, 1, 0, 0, 3, 2, 1, 3, 2, 3, 4, 4, 4, 4, 4, 4, 2, 3, 4, 7, 2, 3, 1, 2, 2, 1, 2, 4, 3, 1, 3, 3, 1, 0, 1, 1, 0, 1, 0, 1, 2, 4, 5, 1, 1, 3, 4, 2, 1, 1, 1, 3, 1, 1, 5, 3, 3, 4, 3, 4, 2, 2, 2, 3, 2, 0, 3, 3, 2, 3, 1, 1, 1, 6, 5, 4, 2, 0, 5, 3, 5, 0, 0, 0, 0, 2, 3, 3, 2, 2, 2, 1, 2, 5, 2, 2, 1, 1, 2, 3, 1, 2, 2, 2, 5, 2, 1, 1, 1, 0, 4, 3, 2, 1, 3, 0, 1, 1, 3, 1, 1, 2, 3, 2, 1, 0, 0, 4, 2, 3, 1, 1, 2, 1, 0, 0, 2, 2, 2, 2, 1, 2, 0, 2, 3, 2, 2, 1, 3, 3, 1, 3, 1, 0, 3, 0, 0, 1, 3, 1, 1, 3, 2, 1, 3, 0, 1, 0, 1, 1, 1, 0, 2, 0, 3, 0, 1, 1, 2, 2, 1, 3, 2, 1, 1, 4, 3, 1, 4, 2, 1, 1, 1, 2, 0, 3, 3, 4, 2, 2, 1, 2, 2, 3, 1, 1, 1, 2, 2, 1, 0, 2, 1, 2, 1, 0, 2, 1, 0, 2, 2, 4, 0, 0, 0, 0, 1, 3, 2, 5, 4, 3, 3, 1, 1, 4, 2, 4, 1, 0, 1, 1, 1, 2, 2, 2, 3, 0, 2, 2, 4, 4, 2, 0, 0, 2, 2, 2, 0, 2, 0, 0, 0, 1, 1, 1, 0, 3, 3, 3, 0, 0, 2, 3, 1, 1, 1, 2, 2, 1, 1, 1, 0, 0, 2, 1, 3, 3, 2, 0, 3, 0, 0, 4, 1, 4, 2, 2, 2, 2, 2, 2, 1, 4, 4, 3, 1, 1, 1, 0, 0, 1, 0, 4, 2, 5, 2, 61, 2, 1, 5, 5, 0, 2, 0, 2, 5, 1, 2, 0, 1, 0, 0, 3, 0, 1, 0, 1, 2, 0, 0, 1, 1, 1, 2, 0, 0, 0, 0, 0, 0, 0, 0, 0, 0, 0, 0, 0, 0, 0, 2, 0, 0, 3, 7, 2, 1, 2, 0, 2, 3, 2, 0, 1, 0, 2, 2, 2, 1, 3, 3, 0, 1, 1, 0, 0, 0, 2, 1, 1, 1, 2, 1, 1, 1, 3, 3, 0, 0, 0, 0, 0, 0, 1, 0, 1, 0, 0, 1, 0, 0, 0, 0, 3, 1, 1, 0, 2, 1, 0, 0, 0, 3, 6, 1, 2, 2, 2, 2, 8, 1, 1, 1, 1, 2, 3, 1, 3, 2, 2, 1, 1, 3, 1, 1, 1, 1, 1, 1, 1, 1, 4, 3, 3, 2, 2, 1, 2, 2, 4, 21, 1, 3, 1, 1, 1, 1, 1, 2, 4, 2, 2, 4, 3, 5, 0, 1, 1, 1, 2, 3, 4, 1, 2, 3, 2, 2, 1, 2, 1, 0, 1, 0, 0, 0, 2, 2, 2, 0, 0, 2, 3, 1, 0, 1, 2, 0, 1, 1, 1, 2, 2, 4, 3, 4, 3, 1, 4, 0, 1, 1, 0, 1, 1, 3, 2, 1, 2, 0, 1, 1, 0, 2, 0, 1, 0, 6, 3, 1, 1, 2, 2, 2, 2, 3, 2, 3, 1, 1, 3, 2, 2, 3, 1, 6, 1, 1, 2, 2, 3, 1, 3, 6, 4, 5, 6, 5, 6], 'logP': [2.6336000000000004, 1.8967, 0.9245399999999985, 1.8038999999999998, 2.1460999999999997, -0.8208, -1.0197999999999992, 3.3126000000000015, 1.1474199999999997, 2.965820000000001, 2.2098000000000004, 3.517800000000003, 3.609600000000002, 1.6154400000000002, -1.6274999999999986, 4.2058000000000035, 3.1154, 1.3505999999999998, -0.8561000000000003, -0.5995999999999997, 1.1235999999999997, -0.4882999999999999, -0.4945, 3.8910000000000036, 4.112400000000003, 2.2289000000000003, 1.3101, 0.5409999999999998, -1.1394999999999986, 3.0637000000000008, 3.1057000000000015, 3.6808000000000023, 3.6670000000000016, 3.167200000000001, 2.9287600000000014, 2.637100000000001, 5.510500000000007, 2.7025000000000006, 2.8355000000000006, 5.081000000000004, 6.445800000000007, 5.364900000000004, 2.866900000000002, 1.3059999999999998, 1.5192999999999997, 0.7009999999999998, 0.6347999999999998, 1.3059999999999998, 3.472000000000002, 4.469900000000003, -1.0432999999999995, 1.8447999999999996, 1.9664, 4.292600000000002, 3.8130000000000033, 3.554500000000001, 9.908299999999997, 3.2081000000000017, 2.6830000000000007, 6.313600000000007, 2.745000000000001, 2.824020000000002, 2.401700000000001, 6.000700000000006, 5.950920000000006, 4.738000000000005, 3.073200000000001, 8.840260000000002, 9.059960000000004, 8.840260000000002, 9.157600000000002, 7.6190000000000095, 6.589800000000009, 2.4028, 2.5198, 3.723200000000002, 4.6665000000000045, 1.0821, 1.2660999999999993, 3.361900000000002, 3.8980000000000032, 5.341420000000006, 5.381100000000006, 4.628100000000003, 3.6231000000000027, 7.489800000000006, 2.209039999999999, 2.5299200000000006, 2.7171000000000003, 1.1291999999999998, 1.0895000000000001, 0.45210000000000006, 2.3933999999999997, 2.3659, 2.5775000000000006, 1.9055999999999995, 1.9890999999999996, 4.680000000000004, 2.9729, 1.6565000000000003, 3.631680000000002, 5.783820000000005, 7.720900000000009, 7.641000000000009, 2.439500000000001, -1.4366999999999974, -0.7975999999999985, 5.905200000000005, 3.2609000000000012, 4.730800000000005, 2.0576, 3.4250000000000016, 2.1353999999999997, 4.121000000000003, 4.487000000000004, 4.239400000000003, 4.194900000000003, 0.1764, 2.7322000000000015, 1.5891399999999998, 2.5500000000000007, 1.5763, 2.02944, 3.2993000000000023, 2.8795800000000016, -0.9922000000000002, -0.5482, 0.5448, 0.4805199999999999, 2.7624000000000004, -0.49450000000000044, 8.659900000000006, 2.4484000000000004, 2.6941000000000006, 2.9644200000000005, 3.7452400000000017, -1.7235599999999993, 3.2800400000000023, 3.2541200000000012, 4.3655000000000035, 3.081320000000002, 3.5904200000000026, 3.3272200000000014, 0.6077400000000001, 4.743620000000002, 5.938620000000004, 0.0802199999999999, 4.411120000000003, 3.515220000000001, 3.515220000000001, 3.835020000000002, 5.044840000000004, 2.6512200000000012, 2.850740000000001, 4.717400000000003, 1.41762, 2.44172, 5.634920000000006, 5.5556200000000056, 6.170240000000007, 5.093520000000004, 1.3660199999999998, 1.79064, 3.573240000000002, 4.989100000000003, 6.103720000000005, 3.4644600000000025, 3.917520000000003, 2.545420000000002, 3.5139200000000006, 1.6298200000000003, 1.77392, 3.8642400000000023, 5.683140000000005, 2.1459200000000003, 6.355840000000003, -1.5142799999999992, -0.7090799999999999, -0.19628000000000012, 1.9632399999999997, 4.823620000000004, 3.3135400000000015, 0.09201999999999982, 2.0781199999999993, 3.742040000000002, 4.324220000000003, 4.564840000000003, 3.5801200000000026, 4.233520000000003, 3.9612400000000028, 1.67444, 1.8726, 3.4780000000000024, 2.0834, 2.28022, 1.544, 2.7141199999999994, 1.5602, 3.6057000000000023, 4.292000000000004, 2.5676000000000005, 2.2512, 6.121300000000007, 4.275500000000004, 0.7948999999999999, 5.5773000000000055, 3.7359000000000018, 3.7363000000000026, 1.5131999999999999, 1.0425999999999995, 0.7003999999999997, 0.5378999999999994, 0.4491999999999999, 1.3531999999999997, 1.1849999999999998, 1.4735000000000003, 3.8826000000000027, 2.5238000000000005, 3.0740000000000016, 1.96282, 2.6972000000000005, 3.383000000000002, 6.7727000000000075, 4.773280000000004, 3.159600000000001, 1.2782, 3.5519000000000025, 2.3655, 2.0227, 0.9834000000000005, 1.1849999999999998, 1.3510999999999997, 2.2874, 2.4766999999999997, 1.38499, 3.6566000000000023, 2.0704199999999995, 7.264420000000007, 1.6109, 4.161700000000002, 3.9536000000000033, 4.1521000000000035, 6.936200000000007, 4.2668000000000035, 4.777400000000004, 4.744400000000003, 3.493400000000002, 3.7878000000000025, 5.846500000000007, 3.4333200000000024, 5.895800000000007, 3.220600000000002, 3.4323000000000023, 3.204300000000001, 7.960900000000009, 5.675500000000005, 6.455400000000006, 6.062700000000007, 6.881900000000007, 5.602600000000005, 8.523600000000005, 0.4999999999999996, 2.8145700000000007, 0.7602, 3.251100000000002, 8.644300000000001, 7.049000000000008, -1.4542999999999995, 1.78302, 3.0365, 2.8346000000000027, 3.9242000000000026, 2.2329999999999997, 2.845700000000001, 2.1955, 1.7379, 3.2414000000000023, 3.572700000000002, 1.5821999999999998, 3.994200000000003, 5.544200000000004, 3.2433000000000005, 2.013699999999999, 0.38950000000000023, 0.8988999999999999, 2.6407800000000003, 2.7597000000000014, 4.734660000000003, 1.7813800000000002, 1.7713999999999996, 0.6956, 1.7713999999999996, 3.6212000000000026, 2.5996000000000006, 5.019600000000005, 3.342900000000002, 2.5837400000000006, 4.810600000000004, 4.004900000000004, 3.3349400000000013, 2.0023999999999997, 1.3403999999999996, 4.402200000000004, 6.562600000000007, 3.783000000000002, 5.670700000000004, 3.6570000000000027, 1.2994, 1.4230200000000002, 1.2683000000000002, 1.7959, 4.936920000000004, 3.2459000000000024, -0.0014000000000000123, 3.060500000000001, 2.2131, 3.4082000000000026, 3.9643000000000033, 2.2663, 2.2663, 1.4455, 4.431500000000004, 1.2853999999999997, 6.471200000000007, 4.887800000000005, 3.588400000000002, 4.106600000000004, 4.988620000000003, 2.5843, 2.5671, 1.6046, 1.5955, 5.219900000000005, 5.932480000000006, 2.4342000000000006, 1.8443999999999987, 1.3564999999999992, 2.3409, 6.319100000000006, 4.705220000000004, 4.857100000000004, 2.7925000000000004, 0.5344199999999997, 1.09568, 5.0388000000000055, -0.292599999999999, 2.9079000000000006, 3.269000000000003, 1.8468000000000002, -11.627860000000226, -0.12729999999999986, 3.0835000000000017, 1.785600000000004, 1.9007000000000054, 1.1618, 4.639200000000005, 5.9961000000000055, 4.828600000000005, -1.034159999999999, 5.088000000000005, 2.7964, 3.248840000000002, 4.335500000000003, 1.9437, 0.5714999999999997, 1.2895999999999996, 5.308240000000005, 4.972200000000005, 0.0696000000000001, 3.7390000000000025, 2.7326000000000006, 3.9277000000000024, 3.8186000000000027, 3.5276000000000023, 1.9118, 2.1975999999999996, 1.9229, 4.553800000000004, 4.168600000000003, 3.812980000000003, 4.528400000000004, 3.8750000000000027, 4.8944000000000045, 3.4151000000000016, 3.812980000000003, 2.649800000000001, 2.923300000000001, 3.4026000000000023, 3.3542000000000023, 3.662620000000003, 6.215000000000006, 3.9277000000000024, 4.389900000000003, 3.177100000000002, 3.4707000000000026, 3.1390400000000005, 0.2684000000000003, -2.281299999999997, 2.490900000000001, 1.9828999999999997, 4.877300000000004, 3.940120000000002, 0.91152, 0.3944800000000006, 1.3329999999999997, 2.654580000000001, 0.37359999999999993, 1.6424999999999998, 1.9509199999999998, 1.5809999999999997, 2.1916200000000003, 0.5983000000000003, 1.655, 3.1285200000000017, 2.4083200000000007, 2.4722, 3.1538000000000013, 3.280100000000002, 3.3712000000000018, -2.213099999999999, 2.967900000000001, -0.2771999999999999, -1.0397000000000005, 2.6077000000000004, 0.3993199999999999, 1.08269, 1.1458, 3.525600000000002, 3.0113000000000016, -1.0293, 0.19299999999999962, 4.374200000000004, 4.014400000000004, 4.697900000000004, 3.7077000000000027, 3.2757000000000014, 4.901100000000005, 3.8210000000000024, 5.104400000000005, 1.8483, 1.5593999999999992, 1.5679999999999998, 1.5679999999999998, 3.6768000000000027, 3.0234000000000014, 5.026900000000003, 3.7227000000000023, 3.4392200000000015, 3.7714000000000025, 4.590320000000004, 4.456020000000003, 4.945600000000004, 4.580200000000004, 2.4789000000000003, 3.391580000000001, 6.15660000000001, 2.3183999999999996, -1.4237999999999995, 2.6285000000000007, 1.5126999999999997, -2.078099999999999, -0.2576999999999977, 1.9309, 0.9180999999999993, 3.429000000000001, 3.992480000000003, 4.639100000000003, 5.688800000000002, 3.5315800000000026, 5.549700000000002, 1.459, 1.3225, 2.4206000000000003, 2.950700000000001, 2.9793000000000003, 4.435000000000003, 0.8434999999999999, 3.826400000000003, 4.211400000000004, 4.301900000000003, 3.5328000000000026, 3.7246200000000034, 4.630900000000003, 0.35060000000000013, 0.645, 1.0487999999999995, 1.3211999999999997, 2.0687999999999995, 1.837, 1.3278999999999999, 1.3278999999999999, 1.3435, 0.10620000000001423, 5.179600000000004, 0.5973999999999999, 2.0853, 3.677800000000003, 2.5822000000000003, 2.1756, 3.2018000000000013, 3.6159000000000026, 2.4426999999999994, 2.972200000000001, 3.111300000000001, 6.222000000000005, 3.908400000000002, 4.2116000000000025, -0.592200000000001, -0.19980000000000003, 3.515640000000002, 5.167060000000005, 4.023600000000002, 3.641700000000002, 4.071900000000002, 2.52402, 2.733220000000001, 2.4318, 5.155100000000004, 4.509800000000003, 2.1292999999999997, 3.7896000000000027, 4.242500000000003, 17.853899999999975, 2.8843000000000014, 5.093080000000005, 5.292300000000005, 4.361100000000004, 1.7845999999999997, 1.0567999999999995, 1.7177999999999998, 3.238100000000002, 3.3100000000000014, 3.5641000000000025, 0.5301999999999997, 5.004200000000004, 4.826600000000004, 4.2756000000000025, 1.9803999999999997, 2.5478000000000005, 1.0482, 4.183600000000003, 2.5828000000000007, 5.695920000000005, 5.090000000000005, -0.1878999999999995, 5.910820000000005, 1.2575999999999998, 2.782700000000001, 5.190380000000005, 3.094500000000002, 2.8103000000000016, 2.871600000000001, 3.036500000000001, 3.370000000000002, 3.9273200000000035, 2.8997400000000013, 1.3507, 5.540800000000004, 2.8997400000000013, 1.8550999999999997, 4.495600000000004, 4.364400000000003, 3.0356000000000014, 4.214690000000001, 2.699600000000001, 3.3685000000000027, 5.351300000000005, 2.658400000000001, 4.159040000000002, 4.135170000000002, 5.707400000000005, 2.6346000000000007, 5.535020000000005, 4.2039000000000035, 2.30804, 0.4272000000000001, 3.738000000000002, 1.168119999999999, 3.8538000000000023, 7.1305000000000085, 3.2843800000000014, 4.880700000000004, 1.6132, 3.201500000000001, 2.0878000000000005, 2.989420000000001, 3.2935000000000025, 2.9708000000000014, 3.405100000000002, 1.8635000000000037, 0.4539000000000007, 4.639000000000005, 5.906800000000007, 3.358100000000001, 10.8127, 2.325100000000007, 6.157840000000006, 4.754120000000006, 4.615720000000003, 5.6482200000000065], 'is_drug': [1, 1, 1, 1, 1, 1, 1, 1, 1, 1, 1, 1, 1, 1, 1, 1, 1, 1, 1, 1, 1, 1, 1, 1, 1, 1, 1, 1, 1, 1, 1, 1, 1, 1, 1, 1, 1, 1, 1, 1, 1, 1, 1, 1, 1, 1, 1, 1, 1, 1, 1, 1, 1, 1, 1, 1, 1, 1, 1, 1, 1, 1, 1, 1, 1, 1, 1, 1, 1, 1, 1, 1, 1, 1, 1, 1, 1, 1, 1, 1, 1, 1, 1, 1, 1, 1, 1, 1, 1, 1, 1, 1, 1, 1, 1, 1, 1, 1, 1, 1, 1, 1, 1, 1, 1, 1, 1, 1, 1, 1, 1, 1, 1, 1, 1, 1, 1, 1, 1, 1, 1, 1, 1, 1, 1, 1, 1, 1, 1, 1, 1, 1, 1, 1, 1, 1, 1, 1, 1, 1, 1, 1, 1, 1, 1, 1, 1, 1, 1, 1, 1, 1, 1, 1, 1, 1, 1, 1, 1, 1, 1, 1, 1, 1, 1, 1, 1, 1, 1, 1, 1, 1, 1, 1, 1, 1, 1, 1, 1, 1, 1, 1, 1, 1, 1, 1, 1, 1, 1, 1, 1, 1, 1, 1, 1, 1, 1, 1, 1, 1, 1, 1, 1, 1, 1, 1, 1, 1, 1, 1, 1, 1, 1, 1, 1, 1, 1, 1, 1, 1, 1, 1, 1, 1, 1, 1, 1, 1, 1, 1, 1, 1, 1, 1, 1, 1, 1, 1, 1, 1, 1, 1, 1, 1, 1, 1, 1, 1, 1, 1, 1, 1, 1, 1, 1, 1, 1, 1, 1, 1, 1, 1, 1, 1, 1, 1, 1, 1, 1, 1, 1, 1, 1, 1, 1, 1, 1, 1, 1, 1, 1, 1, 1, 1, 1, 1, 1, 1, 1, 1, 1, 1, 1, 1, 1, 1, 1, 1, 1, 1, 1, 1, 1, 1, 1, 1, 1, 1, 1, 1, 1, 1, 1, 1, 1, 1, 1, 1, 1, 1, 1, 1, 1, 1, 1, 1, 1, 1, 1, 1, 1, 1, 1, 1, 1, 1, 1, 1, 1, 1, 1, 1, 1, 1, 1, 1, 1, 1, 1, 1, 1, 1, 1, 1, 1, 1, 1, 1, 1, 1, 1, 1, 1, 1, 1, 1, 1, 1, 1, 1, 1, 1, 1, 1, 1, 1, 1, 1, 1, 1, 1, 1, 1, 1, 1, 1, 1, 1, 1, 1, 1, 1, 1, 1, 1, 1, 1, 1, 1, 1, 1, 1, 1, 1, 1, 1, 1, 1, 1, 1, 1, 1, 1, 1, 1, 1, 1, 1, 1, 1, 1, 1, 1, 1, 1, 1, 1, 1, 1, 1, 1, 1, 1, 1, 1, 1, 1, 1, 1, 1, 1, 1, 1, 1, 1, 1, 1, 1, 1, 1, 1, 1, 1, 1, 1, 1, 1, 1, 1, 1, 1, 1, 1, 1, 1, 1, 1, 1, 1, 1, 1, 1, 1, 1, 1, 1, 1, 1, 1, 1, 1, 1, 1, 1, 1, 1, 1, 1, 1, 1, 1, 1, 1, 1, 1, 1, 1, 1, 1, 1, 1, 1, 1, 1, 1, 1, 1, 1, 1, 1, 1, 1, 1, 1, 1, 1, 1, 1, 1, 1, 1, 1, 1, 1, 1, 1, 1, 1, 1, 1, 1, 1, 1, 1, 1, 1, 1, 1, 1, 1, 1, 1, 1, 1, 1, 1, 1, 1, 1, 1, 1, 1, 1, 1, 1, 1, 1, 1, 1, 1, 1, 1, 1, 1, 1, 1, 1, 1, 1, 1, 1, 1, 1, 1, 1, 1, 1, 1, 1, 1, 1, 1, 1, 1, 1, 1, 1, 1, 1, 1, 1, 1, 1, 1, 1, 1, 1, 1, 1, 1]}\n"
     ]
    }
   ],
   "source": [
    "print(property)"
   ]
  },
  {
   "cell_type": "markdown",
   "id": "f9fe7a9e-2a1b-4a37-989e-12099d2dcf3e",
   "metadata": {},
   "source": [
    "##### [참고] 딕셔너리에서 key를 사용하여 value 반환하기"
   ]
  },
  {
   "cell_type": "code",
   "execution_count": 13,
   "id": "bdfd852a-8358-4516-b002-4566b3e33010",
   "metadata": {
    "jupyter": {
     "source_hidden": true
    },
    "tags": []
   },
   "outputs": [
    {
     "name": "stdout",
     "output_type": "stream",
     "text": [
      "[]\n"
     ]
    }
   ],
   "source": [
    "my_dic = {1:'일' , 'my_list':[]}\n",
    "print(my_dic['my_list'])     "
   ]
  },
  {
   "cell_type": "markdown",
   "id": "1ef988d0-7e66-4ac0-9253-bd06311f6863",
   "metadata": {},
   "source": [
    "### ◎딕셔너리 ---> Pandas의 DataFrame으로 변환! "
   ]
  },
  {
   "cell_type": "code",
   "execution_count": 17,
   "id": "622b5563-817d-41b4-875d-8a5e1590c1e0",
   "metadata": {},
   "outputs": [],
   "source": [
    "drug_df = pd.DataFrame(property) # 딕셔너리를 -> Pandas 데이터프레임으로 변환. "
   ]
  },
  {
   "cell_type": "code",
   "execution_count": 18,
   "id": "1da40723-7707-45a6-a75a-db1801fd6856",
   "metadata": {},
   "outputs": [
    {
     "data": {
      "text/html": [
       "<div>\n",
       "<style scoped>\n",
       "    .dataframe tbody tr th:only-of-type {\n",
       "        vertical-align: middle;\n",
       "    }\n",
       "\n",
       "    .dataframe tbody tr th {\n",
       "        vertical-align: top;\n",
       "    }\n",
       "\n",
       "    .dataframe thead th {\n",
       "        text-align: right;\n",
       "    }\n",
       "</style>\n",
       "<table border=\"1\" class=\"dataframe\">\n",
       "  <thead>\n",
       "    <tr style=\"text-align: right;\">\n",
       "      <th></th>\n",
       "      <th>MW</th>\n",
       "      <th>HBA</th>\n",
       "      <th>HBD</th>\n",
       "      <th>logP</th>\n",
       "      <th>is_drug</th>\n",
       "    </tr>\n",
       "  </thead>\n",
       "  <tbody>\n",
       "    <tr>\n",
       "      <th>0</th>\n",
       "      <td>315.000724</td>\n",
       "      <td>4</td>\n",
       "      <td>1</td>\n",
       "      <td>2.63360</td>\n",
       "      <td>1</td>\n",
       "    </tr>\n",
       "    <tr>\n",
       "      <th>1</th>\n",
       "      <td>171.104799</td>\n",
       "      <td>1</td>\n",
       "      <td>1</td>\n",
       "      <td>1.89670</td>\n",
       "      <td>1</td>\n",
       "    </tr>\n",
       "    <tr>\n",
       "      <th>2</th>\n",
       "      <td>1343.587801</td>\n",
       "      <td>27</td>\n",
       "      <td>15</td>\n",
       "      <td>0.92454</td>\n",
       "      <td>1</td>\n",
       "    </tr>\n",
       "    <tr>\n",
       "      <th>3</th>\n",
       "      <td>211.110947</td>\n",
       "      <td>3</td>\n",
       "      <td>1</td>\n",
       "      <td>1.80390</td>\n",
       "      <td>1</td>\n",
       "    </tr>\n",
       "    <tr>\n",
       "      <th>4</th>\n",
       "      <td>204.072119</td>\n",
       "      <td>2</td>\n",
       "      <td>0</td>\n",
       "      <td>2.14610</td>\n",
       "      <td>1</td>\n",
       "    </tr>\n",
       "    <tr>\n",
       "      <th>...</th>\n",
       "      <td>...</td>\n",
       "      <td>...</td>\n",
       "      <td>...</td>\n",
       "      <td>...</td>\n",
       "      <td>...</td>\n",
       "    </tr>\n",
       "    <tr>\n",
       "      <th>595</th>\n",
       "      <td>842.514005</td>\n",
       "      <td>16</td>\n",
       "      <td>4</td>\n",
       "      <td>2.32510</td>\n",
       "      <td>1</td>\n",
       "    </tr>\n",
       "    <tr>\n",
       "      <th>596</th>\n",
       "      <td>785.352359</td>\n",
       "      <td>14</td>\n",
       "      <td>5</td>\n",
       "      <td>6.15784</td>\n",
       "      <td>1</td>\n",
       "    </tr>\n",
       "    <tr>\n",
       "      <th>597</th>\n",
       "      <td>697.309826</td>\n",
       "      <td>13</td>\n",
       "      <td>6</td>\n",
       "      <td>4.75412</td>\n",
       "      <td>1</td>\n",
       "    </tr>\n",
       "    <tr>\n",
       "      <th>598</th>\n",
       "      <td>846.441509</td>\n",
       "      <td>15</td>\n",
       "      <td>5</td>\n",
       "      <td>4.61572</td>\n",
       "      <td>1</td>\n",
       "    </tr>\n",
       "    <tr>\n",
       "      <th>599</th>\n",
       "      <td>876.452073</td>\n",
       "      <td>16</td>\n",
       "      <td>6</td>\n",
       "      <td>5.64822</td>\n",
       "      <td>1</td>\n",
       "    </tr>\n",
       "  </tbody>\n",
       "</table>\n",
       "<p>600 rows × 5 columns</p>\n",
       "</div>"
      ],
      "text/plain": [
       "              MW  HBA  HBD     logP  is_drug\n",
       "0     315.000724    4    1  2.63360        1\n",
       "1     171.104799    1    1  1.89670        1\n",
       "2    1343.587801   27   15  0.92454        1\n",
       "3     211.110947    3    1  1.80390        1\n",
       "4     204.072119    2    0  2.14610        1\n",
       "..           ...  ...  ...      ...      ...\n",
       "595   842.514005   16    4  2.32510        1\n",
       "596   785.352359   14    5  6.15784        1\n",
       "597   697.309826   13    6  4.75412        1\n",
       "598   846.441509   15    5  4.61572        1\n",
       "599   876.452073   16    6  5.64822        1\n",
       "\n",
       "[600 rows x 5 columns]"
      ]
     },
     "execution_count": 18,
     "metadata": {},
     "output_type": "execute_result"
    }
   ],
   "source": [
    "drug_df      #각 특성의 통계치들 확인."
   ]
  },
  {
   "cell_type": "markdown",
   "id": "17a985c9-1dd7-4c1d-91ab-9619fc559df8",
   "metadata": {},
   "source": [
    "### 각 column (열)의 히스토그램을 그려보자!"
   ]
  },
  {
   "cell_type": "code",
   "execution_count": 19,
   "id": "6e90a7f7-e8e0-4367-8bdd-f12dbe9096df",
   "metadata": {},
   "outputs": [
    {
     "data": {
      "text/plain": [
       "array([[<AxesSubplot:title={'center':'MW'}>,\n",
       "        <AxesSubplot:title={'center':'HBA'}>],\n",
       "       [<AxesSubplot:title={'center':'HBD'}>,\n",
       "        <AxesSubplot:title={'center':'logP'}>],\n",
       "       [<AxesSubplot:title={'center':'is_drug'}>, <AxesSubplot:>]],\n",
       "      dtype=object)"
      ]
     },
     "execution_count": 19,
     "metadata": {},
     "output_type": "execute_result"
    },
    {
     "data": {
      "image/png": "[encoded data removed]",
      "text/plain": [
       "<Figure size 432x288 with 6 Axes>"
      ]
     },
     "metadata": {
      "needs_background": "light"
     },
     "output_type": "display_data"
    }
   ],
   "source": [
    "drug_df.hist() # dataframe자체의 hist라는 메소드를 사용!  (pandas.DataFrame.hist())"
   ]
  },
  {
   "cell_type": "code",
   "execution_count": 20,
   "id": "f9039420-46d8-44d1-8b62-509456e61879",
   "metadata": {},
   "outputs": [
    {
     "data": {
      "text/plain": [
       "<AxesSubplot:ylabel='Frequency'>"
      ]
     },
     "execution_count": 20,
     "metadata": {},
     "output_type": "execute_result"
    },
    {
     "data": {
      "image/png": "[encoded data removed]",
      "text/plain": [
       "<Figure size 432x288 with 1 Axes>"
      ]
     },
     "metadata": {
      "needs_background": "light"
     },
     "output_type": "display_data"
    }
   ],
   "source": [
    "drug_df.plot.hist()      #얘도 별로..  #hist(여기에 몇가지 키워드를 집어넣어서 contol해야 겠다.)"
   ]
  },
  {
   "cell_type": "code",
   "execution_count": 21,
   "id": "2e3f1b33-36dd-468c-b39e-6ecff1dac83f",
   "metadata": {},
   "outputs": [
    {
     "data": {
      "text/plain": [
       "array([[<AxesSubplot:title={'center':'MW'}>,\n",
       "        <AxesSubplot:title={'center':'HBA'}>],\n",
       "       [<AxesSubplot:title={'center':'HBD'}>,\n",
       "        <AxesSubplot:title={'center':'logP'}>],\n",
       "       [<AxesSubplot:title={'center':'is_drug'}>, <AxesSubplot:>]],\n",
       "      dtype=object)"
      ]
     },
     "execution_count": 21,
     "metadata": {},
     "output_type": "execute_result"
    },
    {
     "data": {
      "image/png": "[encoded data removed]",
      "text/plain": [
       "<Figure size 720x720 with 6 Axes>"
      ]
     },
     "metadata": {
      "needs_background": "light"
     },
     "output_type": "display_data"
    }
   ],
   "source": [
    "drug_df.hist(figsize=(10, 10), bins=50) # figsize는 그림의 크기 변환, bins는 구간의 개수. "
   ]
  },
  {
   "cell_type": "markdown",
   "id": "fd537caf-9672-46c7-9429-e3ff861172a3",
   "metadata": {},
   "source": [
    "### Molecular weight에 대한 히스토그램만 따로 그려보자"
   ]
  },
  {
   "cell_type": "code",
   "execution_count": 24,
   "id": "a9926e33-641b-4d8b-9d66-d4791dc30e9f",
   "metadata": {
    "collapsed": true,
    "jupyter": {
     "outputs_hidden": true
    },
    "tags": []
   },
   "outputs": [
    {
     "data": {
      "text/plain": [
       "<AxesSubplot:>"
      ]
     },
     "execution_count": 24,
     "metadata": {},
     "output_type": "execute_result"
    },
    {
     "data": {
      "image/png": "[encoded data removed]",
      "text/plain": [
       "<Figure size 432x288 with 1 Axes>"
      ]
     },
     "metadata": {
      "needs_background": "light"
     },
     "output_type": "display_data"
    }
   ],
   "source": [
    "drug_df[\"MW\"].hist(bins=50) # x축을 50개 구간으로 나눔. "
   ]
  },
  {
   "cell_type": "markdown",
   "id": "d4b37303-8c49-41b5-99a4-d81b6e259252",
   "metadata": {},
   "source": [
    "* X축의 구간을 설정해보자\n",
    "* xlim이라는 키워드 사용. \n",
    "* DataFrame.plot.hist() 라는 메소드를 사용.  \n",
    "(DataFrame.hist()보다 그림이 더 예쁘게 나오고 더 많은 옵션을 줄 수 있음.)"
   ]
  },
  {
   "cell_type": "code",
   "execution_count": 29,
   "id": "e89ad753-3e07-40b4-ac9c-01bd97323342",
   "metadata": {
    "collapsed": true,
    "jupyter": {
     "outputs_hidden": true
    },
    "tags": []
   },
   "outputs": [
    {
     "data": {
      "text/plain": [
       "<AxesSubplot:ylabel='Frequency'>"
      ]
     },
     "execution_count": 29,
     "metadata": {},
     "output_type": "execute_result"
    },
    {
     "data": {
      "image/png": "[encoded data removed]",
      "text/plain": [
       "<Figure size 432x288 with 1 Axes>"
      ]
     },
     "metadata": {
      "needs_background": "light"
     },
     "output_type": "display_data"
    }
   ],
   "source": [
    "drug_df[\"MW\"].plot.hist(bins=50, xlim=(0, 2000), grid=False)  # 구간을 50개로 나누고, X축을 0에서 2000까지만 그리겠다. grid(격자)는 지움. "
   ]
  },
  {
   "cell_type": "markdown",
   "id": "664363f4-5639-449e-95a9-05275caea20d",
   "metadata": {},
   "source": [
    "* 대부분 분자량이 500이하로, Linpinski's rule of five가 대체로 성립한다. "
   ]
  },
  {
   "cell_type": "markdown",
   "id": "62b19990-d2be-4de9-ab97-5425d5e78f1d",
   "metadata": {},
   "source": [
    "### Hbond-acceptor에 대한 히스토그램만 따로 그려보자"
   ]
  },
  {
   "cell_type": "code",
   "execution_count": 32,
   "id": "8ac67b26-01c6-4fe0-9ce3-e7a3f04ba42e",
   "metadata": {
    "collapsed": true,
    "jupyter": {
     "outputs_hidden": true
    },
    "tags": []
   },
   "outputs": [
    {
     "data": {
      "text/plain": [
       "<AxesSubplot:ylabel='Frequency'>"
      ]
     },
     "execution_count": 32,
     "metadata": {},
     "output_type": "execute_result"
    },
    {
     "data": {
      "image/png": "[encoded data removed]",
      "text/plain": [
       "<Figure size 432x288 with 1 Axes>"
      ]
     },
     "metadata": {
      "needs_background": "light"
     },
     "output_type": "display_data"
    }
   ],
   "source": [
    "drug_df[\"HBA\"].plot.hist(bins=100, xlim=(0, 20)) # 0~20까지만 그려보자. "
   ]
  },
  {
   "cell_type": "markdown",
   "id": "62564028-8110-4707-be77-f599d8ab60f8",
   "metadata": {},
   "source": [
    "- 대부분 10개 이하임을 알 수 있다."
   ]
  },
  {
   "cell_type": "markdown",
   "id": "bb801a65-7cf9-429c-a08e-42f6278ff2ef",
   "metadata": {},
   "source": [
    "### Hbond-donor에 대한 히스토그램만 따로 그려보자"
   ]
  },
  {
   "cell_type": "code",
   "execution_count": 33,
   "id": "8dd9a57d-9066-46f9-9a93-1b22a00d382b",
   "metadata": {
    "collapsed": true,
    "jupyter": {
     "outputs_hidden": true
    },
    "tags": []
   },
   "outputs": [
    {
     "data": {
      "text/plain": [
       "<AxesSubplot:ylabel='Frequency'>"
      ]
     },
     "execution_count": 33,
     "metadata": {},
     "output_type": "execute_result"
    },
    {
     "data": {
      "image/png": "[encoded data removed]",
      "text/plain": [
       "<Figure size 432x288 with 1 Axes>"
      ]
     },
     "metadata": {
      "needs_background": "light"
     },
     "output_type": "display_data"
    }
   ],
   "source": [
    "drug_df[\"HBD\"].plot.hist(bins=50)"
   ]
  },
  {
   "cell_type": "code",
   "execution_count": 34,
   "id": "eb2dbf48-5eaf-4d5e-9ff0-dedab5ac9ef0",
   "metadata": {
    "collapsed": true,
    "jupyter": {
     "outputs_hidden": true
    },
    "tags": []
   },
   "outputs": [
    {
     "data": {
      "text/plain": [
       "<AxesSubplot:ylabel='Frequency'>"
      ]
     },
     "execution_count": 34,
     "metadata": {},
     "output_type": "execute_result"
    },
    {
     "data": {
      "image/png": "[encoded data removed]",
      "text/plain": [
       "<Figure size 432x288 with 1 Axes>"
      ]
     },
     "metadata": {
      "needs_background": "light"
     },
     "output_type": "display_data"
    }
   ],
   "source": [
    "drug_df[\"HBD\"].plot.hist(bins=50, xlim=(0, 10))"
   ]
  },
  {
   "cell_type": "markdown",
   "id": "d29ab58c-72c5-40e0-bf43-2ab219fa6fa6",
   "metadata": {
    "jupyter": {
     "source_hidden": true
    },
    "tags": []
   },
   "source": [
    "- 대부분 5개 이하임을 알 수 있다."
   ]
  },
  {
   "cell_type": "markdown",
   "id": "7f6e9c2c-22fb-4d78-be78-790cdeea0d1f",
   "metadata": {},
   "source": [
    "### logP 값의 분포 에 대한 히스토그램만 따로 그려보자"
   ]
  },
  {
   "cell_type": "code",
   "execution_count": 35,
   "id": "73d62145-1db5-4f0d-9266-fb6983c403d5",
   "metadata": {
    "collapsed": true,
    "jupyter": {
     "outputs_hidden": true
    },
    "tags": []
   },
   "outputs": [
    {
     "data": {
      "text/plain": [
       "<AxesSubplot:ylabel='Frequency'>"
      ]
     },
     "execution_count": 35,
     "metadata": {},
     "output_type": "execute_result"
    },
    {
     "data": {
      "image/png": "[encoded data removed]",
      "text/plain": [
       "<Figure size 432x288 with 1 Axes>"
      ]
     },
     "metadata": {
      "needs_background": "light"
     },
     "output_type": "display_data"
    }
   ],
   "source": [
    "drug_df[\"logP\"].plot.hist(bins=50)"
   ]
  },
  {
   "cell_type": "markdown",
   "id": "8e3717a6-dbd7-49ba-a1fa-1f356f3358ea",
   "metadata": {
    "jupyter": {
     "source_hidden": true
    },
    "tags": []
   },
   "source": [
    "- 대부분 5 이하이다."
   ]
  },
  {
   "cell_type": "code",
   "execution_count": 36,
   "id": "c2f1f211-455c-4b22-b39e-3b0323f1f388",
   "metadata": {
    "collapsed": true,
    "jupyter": {
     "outputs_hidden": true
    },
    "tags": []
   },
   "outputs": [
    {
     "data": {
      "text/plain": [
       "<AxesSubplot:ylabel='Frequency'>"
      ]
     },
     "execution_count": 36,
     "metadata": {},
     "output_type": "execute_result"
    },
    {
     "data": {
      "image/png": "[encoded data removed]",
      "text/plain": [
       "<Figure size 432x288 with 1 Axes>"
      ]
     },
     "metadata": {
      "needs_background": "light"
     },
     "output_type": "display_data"
    }
   ],
   "source": [
    "drug_df[\"logP\"].plot.hist(bins=50, xlim=(-5, 10))"
   ]
  },
  {
   "cell_type": "markdown",
   "id": "3cfd492e-46fd-4645-a39c-9db204b7489d",
   "metadata": {},
   "source": [
    "### 약분자의 성질의 통계치.describe() 를 확인해보자"
   ]
  },
  {
   "cell_type": "code",
   "execution_count": 37,
   "id": "492a058b-859c-4953-931f-3b0b81492c56",
   "metadata": {},
   "outputs": [
    {
     "data": {
      "text/html": [
       "<div>\n",
       "<style scoped>\n",
       "    .dataframe tbody tr th:only-of-type {\n",
       "        vertical-align: middle;\n",
       "    }\n",
       "\n",
       "    .dataframe tbody tr th {\n",
       "        vertical-align: top;\n",
       "    }\n",
       "\n",
       "    .dataframe thead th {\n",
       "        text-align: right;\n",
       "    }\n",
       "</style>\n",
       "<table border=\"1\" class=\"dataframe\">\n",
       "  <thead>\n",
       "    <tr style=\"text-align: right;\">\n",
       "      <th></th>\n",
       "      <th>MW</th>\n",
       "      <th>HBA</th>\n",
       "      <th>HBD</th>\n",
       "      <th>logP</th>\n",
       "      <th>is_drug</th>\n",
       "    </tr>\n",
       "  </thead>\n",
       "  <tbody>\n",
       "    <tr>\n",
       "      <th>count</th>\n",
       "      <td>600.000000</td>\n",
       "      <td>600.000000</td>\n",
       "      <td>600.000000</td>\n",
       "      <td>600.000000</td>\n",
       "      <td>600.0</td>\n",
       "    </tr>\n",
       "    <tr>\n",
       "      <th>mean</th>\n",
       "      <td>373.048343</td>\n",
       "      <td>5.848333</td>\n",
       "      <td>1.871667</td>\n",
       "      <td>3.061503</td>\n",
       "      <td>1.0</td>\n",
       "    </tr>\n",
       "    <tr>\n",
       "      <th>std</th>\n",
       "      <td>225.018410</td>\n",
       "      <td>5.333799</td>\n",
       "      <td>2.967582</td>\n",
       "      <td>2.139073</td>\n",
       "      <td>0.0</td>\n",
       "    </tr>\n",
       "    <tr>\n",
       "      <th>min</th>\n",
       "      <td>46.041865</td>\n",
       "      <td>1.000000</td>\n",
       "      <td>0.000000</td>\n",
       "      <td>-11.627860</td>\n",
       "      <td>1.0</td>\n",
       "    </tr>\n",
       "    <tr>\n",
       "      <th>25%</th>\n",
       "      <td>263.188529</td>\n",
       "      <td>3.000000</td>\n",
       "      <td>1.000000</td>\n",
       "      <td>1.785350</td>\n",
       "      <td>1.0</td>\n",
       "    </tr>\n",
       "    <tr>\n",
       "      <th>50%</th>\n",
       "      <td>339.194677</td>\n",
       "      <td>5.000000</td>\n",
       "      <td>1.500000</td>\n",
       "      <td>3.073600</td>\n",
       "      <td>1.0</td>\n",
       "    </tr>\n",
       "    <tr>\n",
       "      <th>75%</th>\n",
       "      <td>443.416526</td>\n",
       "      <td>7.000000</td>\n",
       "      <td>3.000000</td>\n",
       "      <td>4.219398</td>\n",
       "      <td>1.0</td>\n",
       "    </tr>\n",
       "    <tr>\n",
       "      <th>max</th>\n",
       "      <td>4111.115377</td>\n",
       "      <td>104.000000</td>\n",
       "      <td>61.000000</td>\n",
       "      <td>17.853900</td>\n",
       "      <td>1.0</td>\n",
       "    </tr>\n",
       "  </tbody>\n",
       "</table>\n",
       "</div>"
      ],
      "text/plain": [
       "                MW         HBA         HBD        logP  is_drug\n",
       "count   600.000000  600.000000  600.000000  600.000000    600.0\n",
       "mean    373.048343    5.848333    1.871667    3.061503      1.0\n",
       "std     225.018410    5.333799    2.967582    2.139073      0.0\n",
       "min      46.041865    1.000000    0.000000  -11.627860      1.0\n",
       "25%     263.188529    3.000000    1.000000    1.785350      1.0\n",
       "50%     339.194677    5.000000    1.500000    3.073600      1.0\n",
       "75%     443.416526    7.000000    3.000000    4.219398      1.0\n",
       "max    4111.115377  104.000000   61.000000   17.853900      1.0"
      ]
     },
     "execution_count": 37,
     "metadata": {},
     "output_type": "execute_result"
    }
   ],
   "source": [
    "drug_df.describe()"
   ]
  },
  {
   "cell_type": "markdown",
   "id": "1b32979c-a3da-42e8-bee2-8be6a444d7ce",
   "metadata": {},
   "source": [
    "# [2] 약이 아닌 분자들의 property가 들어있는 dataframe을 만들자!\n",
    "## 1. non_drug.smi로 분자를 읽어들이자! -> 리스트에 저장!"
   ]
  },
  {
   "cell_type": "code",
   "execution_count": 40,
   "id": "77604813-4c16-46af-a0ab-8f6c04e3c8f3",
   "metadata": {},
   "outputs": [
    {
     "name": "stderr",
     "output_type": "stream",
     "text": [
      "RDKit ERROR: [11:23:24] SMILES Parse Error: syntax error while parsing: smiles\n",
      "RDKit ERROR: [11:23:24] SMILES Parse Error: Failed parsing SMILES 'smiles' for input: 'smiles'\n",
      "RDKit WARNING: [11:23:24] WARNING: not removing hydrogen atom without neighbors\n"
     ]
    }
   ],
   "source": [
    "non_drugs = []\n",
    "with open(\"non_drugs.smi\") as fp:\n",
    "    for l in fp:\n",
    "        smiles = l.strip()\n",
    "        mol = Chem.MolFromSmiles(smiles)\n",
    "        if mol:   # smiles 변환에 문제가 없으면 저장. (문제가 있는 Smiles는 None으로 표시되고 False이다)\n",
    "            non_drugs.append(mol)"
   ]
  },
  {
   "cell_type": "code",
   "execution_count": 41,
   "id": "25ac6c0a-db14-46d7-8f0b-bdc53b6eb3ba",
   "metadata": {
    "collapsed": true,
    "jupyter": {
     "outputs_hidden": true
    }
   },
   "outputs": [
    {
     "data": {
      "text/plain": [
       "[<rdkit.Chem.rdchem.Mol at 0x7fea60bba490>,\n",
       " <rdkit.Chem.rdchem.Mol at 0x7feaa0fbfe90>,\n",
       " <rdkit.Chem.rdchem.Mol at 0x7feab1262710>,\n",
       " <rdkit.Chem.rdchem.Mol at 0x7fea60bbadf0>,\n",
       " <rdkit.Chem.rdchem.Mol at 0x7fea60bbada0>,\n",
       " <rdkit.Chem.rdchem.Mol at 0x7fea60bba710>,\n",
       " <rdkit.Chem.rdchem.Mol at 0x7fea60bbae40>,\n",
       " <rdkit.Chem.rdchem.Mol at 0x7fea60bbae90>,\n",
       " <rdkit.Chem.rdchem.Mol at 0x7fea60bbaee0>,\n",
       " <rdkit.Chem.rdchem.Mol at 0x7fea60bbaf30>,\n",
       " <rdkit.Chem.rdchem.Mol at 0x7fea60bbaf80>,\n",
       " <rdkit.Chem.rdchem.Mol at 0x7fea60bba350>,\n",
       " <rdkit.Chem.rdchem.Mol at 0x7fea60bbc030>,\n",
       " <rdkit.Chem.rdchem.Mol at 0x7fea60bbc080>,\n",
       " <rdkit.Chem.rdchem.Mol at 0x7fea60bbc170>,\n",
       " <rdkit.Chem.rdchem.Mol at 0x7fea60bbc120>,\n",
       " <rdkit.Chem.rdchem.Mol at 0x7fea60bbc0d0>,\n",
       " <rdkit.Chem.rdchem.Mol at 0x7fea60bbc1c0>,\n",
       " <rdkit.Chem.rdchem.Mol at 0x7fea60bbc210>,\n",
       " <rdkit.Chem.rdchem.Mol at 0x7fea60bbc260>,\n",
       " <rdkit.Chem.rdchem.Mol at 0x7fea60bbc2b0>,\n",
       " <rdkit.Chem.rdchem.Mol at 0x7fea60bbc300>,\n",
       " <rdkit.Chem.rdchem.Mol at 0x7fea60bbc350>,\n",
       " <rdkit.Chem.rdchem.Mol at 0x7fea60bbc3a0>,\n",
       " <rdkit.Chem.rdchem.Mol at 0x7fea60bbc3f0>,\n",
       " <rdkit.Chem.rdchem.Mol at 0x7fea60bbc440>,\n",
       " <rdkit.Chem.rdchem.Mol at 0x7fea60bbc490>,\n",
       " <rdkit.Chem.rdchem.Mol at 0x7fea60bbc4e0>,\n",
       " <rdkit.Chem.rdchem.Mol at 0x7fea60bbc530>,\n",
       " <rdkit.Chem.rdchem.Mol at 0x7fea60bbc580>,\n",
       " <rdkit.Chem.rdchem.Mol at 0x7fea60bbc5d0>,\n",
       " <rdkit.Chem.rdchem.Mol at 0x7fea60bbc620>,\n",
       " <rdkit.Chem.rdchem.Mol at 0x7fea60bbc710>,\n",
       " <rdkit.Chem.rdchem.Mol at 0x7fea60bbc6c0>,\n",
       " <rdkit.Chem.rdchem.Mol at 0x7fea60bbc670>,\n",
       " <rdkit.Chem.rdchem.Mol at 0x7fea60bbc760>,\n",
       " <rdkit.Chem.rdchem.Mol at 0x7fea60bbc7b0>,\n",
       " <rdkit.Chem.rdchem.Mol at 0x7fea60bbc800>,\n",
       " <rdkit.Chem.rdchem.Mol at 0x7fea60bbc850>,\n",
       " <rdkit.Chem.rdchem.Mol at 0x7fea60bbc940>,\n",
       " <rdkit.Chem.rdchem.Mol at 0x7fea60bbc8f0>,\n",
       " <rdkit.Chem.rdchem.Mol at 0x7fea60bbc8a0>,\n",
       " <rdkit.Chem.rdchem.Mol at 0x7fea60bbc9e0>,\n",
       " <rdkit.Chem.rdchem.Mol at 0x7fea60bbc990>,\n",
       " <rdkit.Chem.rdchem.Mol at 0x7fea60bbca30>,\n",
       " <rdkit.Chem.rdchem.Mol at 0x7fea60bbca80>,\n",
       " <rdkit.Chem.rdchem.Mol at 0x7fea60bbcb70>,\n",
       " <rdkit.Chem.rdchem.Mol at 0x7fea60bbcb20>,\n",
       " <rdkit.Chem.rdchem.Mol at 0x7fea60bbcad0>,\n",
       " <rdkit.Chem.rdchem.Mol at 0x7fea60bbcbc0>,\n",
       " <rdkit.Chem.rdchem.Mol at 0x7fea60bbcc10>,\n",
       " <rdkit.Chem.rdchem.Mol at 0x7fea60bbcc60>,\n",
       " <rdkit.Chem.rdchem.Mol at 0x7fea60bbccb0>,\n",
       " <rdkit.Chem.rdchem.Mol at 0x7fea60bbcd00>,\n",
       " <rdkit.Chem.rdchem.Mol at 0x7fea60bbcd50>,\n",
       " <rdkit.Chem.rdchem.Mol at 0x7fea60bbcda0>,\n",
       " <rdkit.Chem.rdchem.Mol at 0x7fea60bbce90>,\n",
       " <rdkit.Chem.rdchem.Mol at 0x7fea60bbce40>,\n",
       " <rdkit.Chem.rdchem.Mol at 0x7fea60bbcdf0>,\n",
       " <rdkit.Chem.rdchem.Mol at 0x7fea60bbcee0>,\n",
       " <rdkit.Chem.rdchem.Mol at 0x7fea60bbcf30>,\n",
       " <rdkit.Chem.rdchem.Mol at 0x7fea60bbd080>,\n",
       " <rdkit.Chem.rdchem.Mol at 0x7fea60bbcf80>,\n",
       " <rdkit.Chem.rdchem.Mol at 0x7fea60bbd030>,\n",
       " <rdkit.Chem.rdchem.Mol at 0x7fea60bbd0d0>,\n",
       " <rdkit.Chem.rdchem.Mol at 0x7fea60bbd120>,\n",
       " <rdkit.Chem.rdchem.Mol at 0x7fea60bbd170>,\n",
       " <rdkit.Chem.rdchem.Mol at 0x7fea60bbd260>,\n",
       " <rdkit.Chem.rdchem.Mol at 0x7fea60bbd210>,\n",
       " <rdkit.Chem.rdchem.Mol at 0x7fea60bbd2b0>,\n",
       " <rdkit.Chem.rdchem.Mol at 0x7fea60bbd1c0>,\n",
       " <rdkit.Chem.rdchem.Mol at 0x7fea60bbd300>,\n",
       " <rdkit.Chem.rdchem.Mol at 0x7fea60bbd350>,\n",
       " <rdkit.Chem.rdchem.Mol at 0x7fea60bbd3a0>,\n",
       " <rdkit.Chem.rdchem.Mol at 0x7fea60bbd3f0>,\n",
       " <rdkit.Chem.rdchem.Mol at 0x7fea60bbd4e0>,\n",
       " <rdkit.Chem.rdchem.Mol at 0x7fea60bbd490>,\n",
       " <rdkit.Chem.rdchem.Mol at 0x7fea60bbd440>,\n",
       " <rdkit.Chem.rdchem.Mol at 0x7fea60bbd530>,\n",
       " <rdkit.Chem.rdchem.Mol at 0x7fea60bbd580>,\n",
       " <rdkit.Chem.rdchem.Mol at 0x7fea60bbd5d0>,\n",
       " <rdkit.Chem.rdchem.Mol at 0x7fea60bbd620>,\n",
       " <rdkit.Chem.rdchem.Mol at 0x7fea60bbd710>,\n",
       " <rdkit.Chem.rdchem.Mol at 0x7fea60bbd6c0>,\n",
       " <rdkit.Chem.rdchem.Mol at 0x7fea60bbd670>,\n",
       " <rdkit.Chem.rdchem.Mol at 0x7fea60bbd760>,\n",
       " <rdkit.Chem.rdchem.Mol at 0x7fea60bbd850>,\n",
       " <rdkit.Chem.rdchem.Mol at 0x7fea60bbd800>,\n",
       " <rdkit.Chem.rdchem.Mol at 0x7fea60bbd7b0>,\n",
       " <rdkit.Chem.rdchem.Mol at 0x7fea60bbd8a0>,\n",
       " <rdkit.Chem.rdchem.Mol at 0x7fea60bbd990>,\n",
       " <rdkit.Chem.rdchem.Mol at 0x7fea60bbd940>,\n",
       " <rdkit.Chem.rdchem.Mol at 0x7fea60bbd8f0>,\n",
       " <rdkit.Chem.rdchem.Mol at 0x7fea60bbd9e0>,\n",
       " <rdkit.Chem.rdchem.Mol at 0x7fea60bbdad0>,\n",
       " <rdkit.Chem.rdchem.Mol at 0x7fea60bbda80>,\n",
       " <rdkit.Chem.rdchem.Mol at 0x7fea60bbda30>,\n",
       " <rdkit.Chem.rdchem.Mol at 0x7fea60bbdb20>,\n",
       " <rdkit.Chem.rdchem.Mol at 0x7fea60bbdc10>,\n",
       " <rdkit.Chem.rdchem.Mol at 0x7fea60bbdbc0>,\n",
       " <rdkit.Chem.rdchem.Mol at 0x7fea60bbdb70>,\n",
       " <rdkit.Chem.rdchem.Mol at 0x7fea60bbdc60>,\n",
       " <rdkit.Chem.rdchem.Mol at 0x7fea60bbdcb0>,\n",
       " <rdkit.Chem.rdchem.Mol at 0x7fea60bbdd50>,\n",
       " <rdkit.Chem.rdchem.Mol at 0x7fea60bbdd00>,\n",
       " <rdkit.Chem.rdchem.Mol at 0x7fea60bbddf0>,\n",
       " <rdkit.Chem.rdchem.Mol at 0x7fea60bbdda0>,\n",
       " <rdkit.Chem.rdchem.Mol at 0x7fea60bbde40>,\n",
       " <rdkit.Chem.rdchem.Mol at 0x7fea60bbde90>,\n",
       " <rdkit.Chem.rdchem.Mol at 0x7fea60bbdee0>,\n",
       " <rdkit.Chem.rdchem.Mol at 0x7fea60bbdf30>,\n",
       " <rdkit.Chem.rdchem.Mol at 0x7fea60bbe080>,\n",
       " <rdkit.Chem.rdchem.Mol at 0x7fea60bbe030>,\n",
       " <rdkit.Chem.rdchem.Mol at 0x7fea60bbdf80>,\n",
       " <rdkit.Chem.rdchem.Mol at 0x7fea60bbe170>,\n",
       " <rdkit.Chem.rdchem.Mol at 0x7fea60bbe120>,\n",
       " <rdkit.Chem.rdchem.Mol at 0x7fea60bbe0d0>,\n",
       " <rdkit.Chem.rdchem.Mol at 0x7fea60bbe1c0>,\n",
       " <rdkit.Chem.rdchem.Mol at 0x7fea60bbe210>,\n",
       " <rdkit.Chem.rdchem.Mol at 0x7fea60bbe260>,\n",
       " <rdkit.Chem.rdchem.Mol at 0x7fea60bbe2b0>,\n",
       " <rdkit.Chem.rdchem.Mol at 0x7fea60bbe300>,\n",
       " <rdkit.Chem.rdchem.Mol at 0x7fea60bbe350>,\n",
       " <rdkit.Chem.rdchem.Mol at 0x7fea60bbe3a0>,\n",
       " <rdkit.Chem.rdchem.Mol at 0x7fea60bbe3f0>,\n",
       " <rdkit.Chem.rdchem.Mol at 0x7fea60bbe440>,\n",
       " <rdkit.Chem.rdchem.Mol at 0x7fea60bbe490>,\n",
       " <rdkit.Chem.rdchem.Mol at 0x7fea60bbe4e0>,\n",
       " <rdkit.Chem.rdchem.Mol at 0x7fea60bbe530>,\n",
       " <rdkit.Chem.rdchem.Mol at 0x7fea60bbe580>,\n",
       " <rdkit.Chem.rdchem.Mol at 0x7fea60bbe670>,\n",
       " <rdkit.Chem.rdchem.Mol at 0x7fea60bbe620>,\n",
       " <rdkit.Chem.rdchem.Mol at 0x7fea60bbe5d0>,\n",
       " <rdkit.Chem.rdchem.Mol at 0x7fea60bbe6c0>,\n",
       " <rdkit.Chem.rdchem.Mol at 0x7fea60bbe710>,\n",
       " <rdkit.Chem.rdchem.Mol at 0x7fea60bbe760>,\n",
       " <rdkit.Chem.rdchem.Mol at 0x7fea60bbe7b0>,\n",
       " <rdkit.Chem.rdchem.Mol at 0x7fea60bbe800>,\n",
       " <rdkit.Chem.rdchem.Mol at 0x7fea60bbe850>,\n",
       " <rdkit.Chem.rdchem.Mol at 0x7fea60bbe8a0>,\n",
       " <rdkit.Chem.rdchem.Mol at 0x7fea60bbe990>,\n",
       " <rdkit.Chem.rdchem.Mol at 0x7fea60bbe940>,\n",
       " <rdkit.Chem.rdchem.Mol at 0x7fea60bbe8f0>,\n",
       " <rdkit.Chem.rdchem.Mol at 0x7fea60bbe9e0>,\n",
       " <rdkit.Chem.rdchem.Mol at 0x7fea60bbea30>,\n",
       " <rdkit.Chem.rdchem.Mol at 0x7fea60bbea80>,\n",
       " <rdkit.Chem.rdchem.Mol at 0x7fea60bbead0>,\n",
       " <rdkit.Chem.rdchem.Mol at 0x7fea60bbeb20>,\n",
       " <rdkit.Chem.rdchem.Mol at 0x7fea60bbeb70>,\n",
       " <rdkit.Chem.rdchem.Mol at 0x7fea60bbebc0>,\n",
       " <rdkit.Chem.rdchem.Mol at 0x7fea60bbec60>,\n",
       " <rdkit.Chem.rdchem.Mol at 0x7fea60bbec10>,\n",
       " <rdkit.Chem.rdchem.Mol at 0x7fea60bbecb0>,\n",
       " <rdkit.Chem.rdchem.Mol at 0x7fea60bbed00>,\n",
       " <rdkit.Chem.rdchem.Mol at 0x7fea60bbed50>,\n",
       " <rdkit.Chem.rdchem.Mol at 0x7fea60bbeda0>,\n",
       " <rdkit.Chem.rdchem.Mol at 0x7fea60bbee90>,\n",
       " <rdkit.Chem.rdchem.Mol at 0x7fea60bbee40>,\n",
       " <rdkit.Chem.rdchem.Mol at 0x7fea60bbedf0>,\n",
       " <rdkit.Chem.rdchem.Mol at 0x7fea60bbeee0>,\n",
       " <rdkit.Chem.rdchem.Mol at 0x7fea60bbf030>,\n",
       " <rdkit.Chem.rdchem.Mol at 0x7fea60bbef80>,\n",
       " <rdkit.Chem.rdchem.Mol at 0x7fea60bbef30>,\n",
       " <rdkit.Chem.rdchem.Mol at 0x7fea60bbf080>,\n",
       " <rdkit.Chem.rdchem.Mol at 0x7fea60bbf170>,\n",
       " <rdkit.Chem.rdchem.Mol at 0x7fea60bbf120>,\n",
       " <rdkit.Chem.rdchem.Mol at 0x7fea60bbf0d0>,\n",
       " <rdkit.Chem.rdchem.Mol at 0x7fea60bbf260>,\n",
       " <rdkit.Chem.rdchem.Mol at 0x7fea60bbf210>,\n",
       " <rdkit.Chem.rdchem.Mol at 0x7fea60bbf1c0>,\n",
       " <rdkit.Chem.rdchem.Mol at 0x7fea60bbf2b0>,\n",
       " <rdkit.Chem.rdchem.Mol at 0x7fea60bbf300>,\n",
       " <rdkit.Chem.rdchem.Mol at 0x7fea60bbf350>,\n",
       " <rdkit.Chem.rdchem.Mol at 0x7fea60bbf3a0>,\n",
       " <rdkit.Chem.rdchem.Mol at 0x7fea60bbf3f0>,\n",
       " <rdkit.Chem.rdchem.Mol at 0x7fea60bbf440>,\n",
       " <rdkit.Chem.rdchem.Mol at 0x7fea60bbf4e0>,\n",
       " <rdkit.Chem.rdchem.Mol at 0x7fea60bbf490>,\n",
       " <rdkit.Chem.rdchem.Mol at 0x7fea60bbf530>,\n",
       " <rdkit.Chem.rdchem.Mol at 0x7fea60bbf580>,\n",
       " <rdkit.Chem.rdchem.Mol at 0x7fea60bbf5d0>,\n",
       " <rdkit.Chem.rdchem.Mol at 0x7fea60bbf620>,\n",
       " <rdkit.Chem.rdchem.Mol at 0x7fea60bbf670>,\n",
       " <rdkit.Chem.rdchem.Mol at 0x7fea60bbf6c0>,\n",
       " <rdkit.Chem.rdchem.Mol at 0x7fea60bbf710>,\n",
       " <rdkit.Chem.rdchem.Mol at 0x7fea60bbf760>,\n",
       " <rdkit.Chem.rdchem.Mol at 0x7fea60bbf7b0>,\n",
       " <rdkit.Chem.rdchem.Mol at 0x7fea60bbf800>,\n",
       " <rdkit.Chem.rdchem.Mol at 0x7fea60bbf850>,\n",
       " <rdkit.Chem.rdchem.Mol at 0x7fea60bbf8a0>,\n",
       " <rdkit.Chem.rdchem.Mol at 0x7fea60bbf8f0>,\n",
       " <rdkit.Chem.rdchem.Mol at 0x7fea60bbf940>,\n",
       " <rdkit.Chem.rdchem.Mol at 0x7fea60bbfa30>,\n",
       " <rdkit.Chem.rdchem.Mol at 0x7fea60bbf9e0>,\n",
       " <rdkit.Chem.rdchem.Mol at 0x7fea60bbf990>,\n",
       " <rdkit.Chem.rdchem.Mol at 0x7fea60bbfa80>,\n",
       " <rdkit.Chem.rdchem.Mol at 0x7fea60bbfad0>,\n",
       " <rdkit.Chem.rdchem.Mol at 0x7fea60bbfb20>,\n",
       " <rdkit.Chem.rdchem.Mol at 0x7fea60bbfb70>,\n",
       " <rdkit.Chem.rdchem.Mol at 0x7fea60bbfbc0>,\n",
       " <rdkit.Chem.rdchem.Mol at 0x7fea60bbfc10>,\n",
       " <rdkit.Chem.rdchem.Mol at 0x7fea60bbfc60>,\n",
       " <rdkit.Chem.rdchem.Mol at 0x7fea60bbfcb0>,\n",
       " <rdkit.Chem.rdchem.Mol at 0x7fea60bbfd00>,\n",
       " <rdkit.Chem.rdchem.Mol at 0x7fea60bbfd50>,\n",
       " <rdkit.Chem.rdchem.Mol at 0x7fea60bbfda0>,\n",
       " <rdkit.Chem.rdchem.Mol at 0x7fea60bbfdf0>,\n",
       " <rdkit.Chem.rdchem.Mol at 0x7fea60bbfe40>,\n",
       " <rdkit.Chem.rdchem.Mol at 0x7fea60bbfe90>,\n",
       " <rdkit.Chem.rdchem.Mol at 0x7fea60bbfee0>,\n",
       " <rdkit.Chem.rdchem.Mol at 0x7fea60bbff30>,\n",
       " <rdkit.Chem.rdchem.Mol at 0x7fea60bbff80>,\n",
       " <rdkit.Chem.rdchem.Mol at 0x7fea60bc0030>,\n",
       " <rdkit.Chem.rdchem.Mol at 0x7fea60bc0080>,\n",
       " <rdkit.Chem.rdchem.Mol at 0x7fea60bc00d0>,\n",
       " <rdkit.Chem.rdchem.Mol at 0x7fea60bc01c0>,\n",
       " <rdkit.Chem.rdchem.Mol at 0x7fea60bc0170>,\n",
       " <rdkit.Chem.rdchem.Mol at 0x7fea60bc0120>,\n",
       " <rdkit.Chem.rdchem.Mol at 0x7fea60bc0210>,\n",
       " <rdkit.Chem.rdchem.Mol at 0x7fea60bc0260>,\n",
       " <rdkit.Chem.rdchem.Mol at 0x7fea60bc02b0>,\n",
       " <rdkit.Chem.rdchem.Mol at 0x7fea60bc0300>,\n",
       " <rdkit.Chem.rdchem.Mol at 0x7fea60bc0350>,\n",
       " <rdkit.Chem.rdchem.Mol at 0x7fea60bc03a0>,\n",
       " <rdkit.Chem.rdchem.Mol at 0x7fea60bc03f0>,\n",
       " <rdkit.Chem.rdchem.Mol at 0x7fea60bc0490>,\n",
       " <rdkit.Chem.rdchem.Mol at 0x7fea60bc0440>,\n",
       " <rdkit.Chem.rdchem.Mol at 0x7fea60bc04e0>,\n",
       " <rdkit.Chem.rdchem.Mol at 0x7fea60bc0530>,\n",
       " <rdkit.Chem.rdchem.Mol at 0x7fea60bc0580>,\n",
       " <rdkit.Chem.rdchem.Mol at 0x7fea60bc05d0>,\n",
       " <rdkit.Chem.rdchem.Mol at 0x7fea60bc0620>,\n",
       " <rdkit.Chem.rdchem.Mol at 0x7fea60bc0670>,\n",
       " <rdkit.Chem.rdchem.Mol at 0x7fea60bc0710>,\n",
       " <rdkit.Chem.rdchem.Mol at 0x7fea60bc06c0>,\n",
       " <rdkit.Chem.rdchem.Mol at 0x7fea60bc07b0>,\n",
       " <rdkit.Chem.rdchem.Mol at 0x7fea60bc0760>,\n",
       " <rdkit.Chem.rdchem.Mol at 0x7fea60bc0800>,\n",
       " <rdkit.Chem.rdchem.Mol at 0x7fea60bc0850>,\n",
       " <rdkit.Chem.rdchem.Mol at 0x7fea60bc0940>,\n",
       " <rdkit.Chem.rdchem.Mol at 0x7fea60bc08f0>,\n",
       " <rdkit.Chem.rdchem.Mol at 0x7fea60bc08a0>,\n",
       " <rdkit.Chem.rdchem.Mol at 0x7fea60bc0990>,\n",
       " <rdkit.Chem.rdchem.Mol at 0x7fea60bc09e0>,\n",
       " <rdkit.Chem.rdchem.Mol at 0x7fea60bc0a30>,\n",
       " <rdkit.Chem.rdchem.Mol at 0x7fea60bc0a80>,\n",
       " <rdkit.Chem.rdchem.Mol at 0x7fea60bc0ad0>,\n",
       " <rdkit.Chem.rdchem.Mol at 0x7fea60bc0b20>,\n",
       " <rdkit.Chem.rdchem.Mol at 0x7fea60bc0bc0>,\n",
       " <rdkit.Chem.rdchem.Mol at 0x7fea60bc0b70>,\n",
       " <rdkit.Chem.rdchem.Mol at 0x7fea60bc0c10>,\n",
       " <rdkit.Chem.rdchem.Mol at 0x7fea60bc0c60>,\n",
       " <rdkit.Chem.rdchem.Mol at 0x7fea60bc0cb0>,\n",
       " <rdkit.Chem.rdchem.Mol at 0x7fea60bc0d00>,\n",
       " <rdkit.Chem.rdchem.Mol at 0x7fea60bc0d50>,\n",
       " <rdkit.Chem.rdchem.Mol at 0x7fea60bc0da0>,\n",
       " <rdkit.Chem.rdchem.Mol at 0x7fea60bc0df0>,\n",
       " <rdkit.Chem.rdchem.Mol at 0x7fea60bc0e40>,\n",
       " <rdkit.Chem.rdchem.Mol at 0x7fea60bc0e90>,\n",
       " <rdkit.Chem.rdchem.Mol at 0x7fea60bc0ee0>,\n",
       " <rdkit.Chem.rdchem.Mol at 0x7fea60bc0f30>,\n",
       " <rdkit.Chem.rdchem.Mol at 0x7fea60bc1080>,\n",
       " <rdkit.Chem.rdchem.Mol at 0x7fea60bc0f80>,\n",
       " <rdkit.Chem.rdchem.Mol at 0x7fea60bc1030>,\n",
       " <rdkit.Chem.rdchem.Mol at 0x7fea60bc10d0>,\n",
       " <rdkit.Chem.rdchem.Mol at 0x7fea60bc1120>,\n",
       " <rdkit.Chem.rdchem.Mol at 0x7fea60bc1170>,\n",
       " <rdkit.Chem.rdchem.Mol at 0x7fea60bc11c0>,\n",
       " <rdkit.Chem.rdchem.Mol at 0x7fea60bc12b0>,\n",
       " <rdkit.Chem.rdchem.Mol at 0x7fea60bc1260>,\n",
       " <rdkit.Chem.rdchem.Mol at 0x7fea60bc1210>,\n",
       " <rdkit.Chem.rdchem.Mol at 0x7fea60bc1300>,\n",
       " <rdkit.Chem.rdchem.Mol at 0x7fea60bc1350>,\n",
       " <rdkit.Chem.rdchem.Mol at 0x7fea60bc13a0>,\n",
       " <rdkit.Chem.rdchem.Mol at 0x7fea60bc13f0>,\n",
       " <rdkit.Chem.rdchem.Mol at 0x7fea60bc1440>,\n",
       " <rdkit.Chem.rdchem.Mol at 0x7fea60bc1490>,\n",
       " <rdkit.Chem.rdchem.Mol at 0x7fea60bc1580>,\n",
       " <rdkit.Chem.rdchem.Mol at 0x7fea60bc1530>,\n",
       " <rdkit.Chem.rdchem.Mol at 0x7fea60bc14e0>,\n",
       " <rdkit.Chem.rdchem.Mol at 0x7fea60bc15d0>,\n",
       " <rdkit.Chem.rdchem.Mol at 0x7fea60bc1620>,\n",
       " <rdkit.Chem.rdchem.Mol at 0x7fea60bc1670>,\n",
       " <rdkit.Chem.rdchem.Mol at 0x7fea60bc16c0>,\n",
       " <rdkit.Chem.rdchem.Mol at 0x7fea60bc1710>,\n",
       " <rdkit.Chem.rdchem.Mol at 0x7fea60bc1760>,\n",
       " <rdkit.Chem.rdchem.Mol at 0x7fea60bc17b0>,\n",
       " <rdkit.Chem.rdchem.Mol at 0x7fea60bc1800>,\n",
       " <rdkit.Chem.rdchem.Mol at 0x7fea60bc1850>,\n",
       " <rdkit.Chem.rdchem.Mol at 0x7fea60bc18a0>,\n",
       " <rdkit.Chem.rdchem.Mol at 0x7fea60bc18f0>,\n",
       " <rdkit.Chem.rdchem.Mol at 0x7fea60bc1940>,\n",
       " <rdkit.Chem.rdchem.Mol at 0x7fea60bc1990>,\n",
       " <rdkit.Chem.rdchem.Mol at 0x7fea60bc19e0>,\n",
       " <rdkit.Chem.rdchem.Mol at 0x7fea60bc1a30>,\n",
       " <rdkit.Chem.rdchem.Mol at 0x7fea60bc1b20>,\n",
       " <rdkit.Chem.rdchem.Mol at 0x7fea60bc1ad0>,\n",
       " <rdkit.Chem.rdchem.Mol at 0x7fea60bc1a80>,\n",
       " <rdkit.Chem.rdchem.Mol at 0x7fea60bc1c10>,\n",
       " <rdkit.Chem.rdchem.Mol at 0x7fea60bc1bc0>,\n",
       " <rdkit.Chem.rdchem.Mol at 0x7fea60bc1b70>,\n",
       " <rdkit.Chem.rdchem.Mol at 0x7fea60bc1d00>,\n",
       " <rdkit.Chem.rdchem.Mol at 0x7fea60bc1cb0>,\n",
       " <rdkit.Chem.rdchem.Mol at 0x7fea60bc1c60>,\n",
       " <rdkit.Chem.rdchem.Mol at 0x7fea60bc1d50>,\n",
       " <rdkit.Chem.rdchem.Mol at 0x7fea60bc1e40>,\n",
       " <rdkit.Chem.rdchem.Mol at 0x7fea60bc1df0>,\n",
       " <rdkit.Chem.rdchem.Mol at 0x7fea60bc1da0>,\n",
       " <rdkit.Chem.rdchem.Mol at 0x7fea60bc1f30>,\n",
       " <rdkit.Chem.rdchem.Mol at 0x7fea60bc1ee0>,\n",
       " <rdkit.Chem.rdchem.Mol at 0x7fea60bc1e90>,\n",
       " <rdkit.Chem.rdchem.Mol at 0x7fea60bc2030>,\n",
       " <rdkit.Chem.rdchem.Mol at 0x7fea60bc1f80>,\n",
       " <rdkit.Chem.rdchem.Mol at 0x7fea60bc2080>,\n",
       " <rdkit.Chem.rdchem.Mol at 0x7fea60bc20d0>,\n",
       " <rdkit.Chem.rdchem.Mol at 0x7fea60bc21c0>,\n",
       " <rdkit.Chem.rdchem.Mol at 0x7fea60bc2170>,\n",
       " <rdkit.Chem.rdchem.Mol at 0x7fea60bc2120>,\n",
       " <rdkit.Chem.rdchem.Mol at 0x7fea60bc2210>,\n",
       " <rdkit.Chem.rdchem.Mol at 0x7fea60bc2260>,\n",
       " <rdkit.Chem.rdchem.Mol at 0x7fea60bc22b0>,\n",
       " <rdkit.Chem.rdchem.Mol at 0x7fea60bc23a0>,\n",
       " <rdkit.Chem.rdchem.Mol at 0x7fea60bc2350>,\n",
       " <rdkit.Chem.rdchem.Mol at 0x7fea60bc2300>,\n",
       " <rdkit.Chem.rdchem.Mol at 0x7fea60bc2440>,\n",
       " <rdkit.Chem.rdchem.Mol at 0x7fea60bc24e0>,\n",
       " <rdkit.Chem.rdchem.Mol at 0x7fea60bc2490>,\n",
       " <rdkit.Chem.rdchem.Mol at 0x7fea60bc23f0>,\n",
       " <rdkit.Chem.rdchem.Mol at 0x7fea60bc2530>,\n",
       " <rdkit.Chem.rdchem.Mol at 0x7fea60bc2580>,\n",
       " <rdkit.Chem.rdchem.Mol at 0x7fea60bc2670>,\n",
       " <rdkit.Chem.rdchem.Mol at 0x7fea60bc2620>,\n",
       " <rdkit.Chem.rdchem.Mol at 0x7fea60bc25d0>,\n",
       " <rdkit.Chem.rdchem.Mol at 0x7fea60bc26c0>,\n",
       " <rdkit.Chem.rdchem.Mol at 0x7fea60bc2710>,\n",
       " <rdkit.Chem.rdchem.Mol at 0x7fea60bc2800>,\n",
       " <rdkit.Chem.rdchem.Mol at 0x7fea60bc27b0>,\n",
       " <rdkit.Chem.rdchem.Mol at 0x7fea60bc2760>,\n",
       " <rdkit.Chem.rdchem.Mol at 0x7fea60bc2850>,\n",
       " <rdkit.Chem.rdchem.Mol at 0x7fea60bc28a0>,\n",
       " <rdkit.Chem.rdchem.Mol at 0x7fea60bc28f0>,\n",
       " <rdkit.Chem.rdchem.Mol at 0x7fea60bc2990>,\n",
       " <rdkit.Chem.rdchem.Mol at 0x7fea60bc2940>,\n",
       " <rdkit.Chem.rdchem.Mol at 0x7fea60bc29e0>,\n",
       " <rdkit.Chem.rdchem.Mol at 0x7fea60bc2a30>,\n",
       " <rdkit.Chem.rdchem.Mol at 0x7fea60bc2a80>,\n",
       " <rdkit.Chem.rdchem.Mol at 0x7fea60bc2ad0>,\n",
       " <rdkit.Chem.rdchem.Mol at 0x7fea60bc2b20>,\n",
       " <rdkit.Chem.rdchem.Mol at 0x7fea60bc2b70>,\n",
       " <rdkit.Chem.rdchem.Mol at 0x7fea60bc2bc0>,\n",
       " <rdkit.Chem.rdchem.Mol at 0x7fea60bc2c10>,\n",
       " <rdkit.Chem.rdchem.Mol at 0x7fea60bc2c60>,\n",
       " <rdkit.Chem.rdchem.Mol at 0x7fea60bc2cb0>,\n",
       " <rdkit.Chem.rdchem.Mol at 0x7fea60bc2d50>,\n",
       " <rdkit.Chem.rdchem.Mol at 0x7fea60bc2d00>,\n",
       " <rdkit.Chem.rdchem.Mol at 0x7fea60bc2da0>,\n",
       " <rdkit.Chem.rdchem.Mol at 0x7fea60bc2df0>,\n",
       " <rdkit.Chem.rdchem.Mol at 0x7fea60bc2e40>,\n",
       " <rdkit.Chem.rdchem.Mol at 0x7fea60bc2e90>,\n",
       " <rdkit.Chem.rdchem.Mol at 0x7fea60bc2ee0>,\n",
       " <rdkit.Chem.rdchem.Mol at 0x7fea60bc2f30>,\n",
       " <rdkit.Chem.rdchem.Mol at 0x7fea60bc2f80>,\n",
       " <rdkit.Chem.rdchem.Mol at 0x7fea60bc30d0>,\n",
       " <rdkit.Chem.rdchem.Mol at 0x7fea60bc3080>,\n",
       " <rdkit.Chem.rdchem.Mol at 0x7fea60bc3030>,\n",
       " <rdkit.Chem.rdchem.Mol at 0x7fea60bc31c0>,\n",
       " <rdkit.Chem.rdchem.Mol at 0x7fea60bc3170>,\n",
       " <rdkit.Chem.rdchem.Mol at 0x7fea60bc3260>,\n",
       " <rdkit.Chem.rdchem.Mol at 0x7fea60bc3210>,\n",
       " <rdkit.Chem.rdchem.Mol at 0x7fea60bc3120>,\n",
       " <rdkit.Chem.rdchem.Mol at 0x7fea60bc32b0>,\n",
       " <rdkit.Chem.rdchem.Mol at 0x7fea60bc3300>,\n",
       " <rdkit.Chem.rdchem.Mol at 0x7fea60bc33f0>,\n",
       " <rdkit.Chem.rdchem.Mol at 0x7fea60bc33a0>,\n",
       " <rdkit.Chem.rdchem.Mol at 0x7fea60bc3440>,\n",
       " <rdkit.Chem.rdchem.Mol at 0x7fea60bc3350>,\n",
       " <rdkit.Chem.rdchem.Mol at 0x7fea60bc3490>,\n",
       " <rdkit.Chem.rdchem.Mol at 0x7fea60bc34e0>,\n",
       " <rdkit.Chem.rdchem.Mol at 0x7fea60bc3530>,\n",
       " <rdkit.Chem.rdchem.Mol at 0x7fea60bc3580>,\n",
       " <rdkit.Chem.rdchem.Mol at 0x7fea60bc35d0>,\n",
       " <rdkit.Chem.rdchem.Mol at 0x7fea60bc3620>,\n",
       " <rdkit.Chem.rdchem.Mol at 0x7fea60bc3670>,\n",
       " <rdkit.Chem.rdchem.Mol at 0x7fea60bc36c0>,\n",
       " <rdkit.Chem.rdchem.Mol at 0x7fea60bc3710>,\n",
       " <rdkit.Chem.rdchem.Mol at 0x7fea60bc3800>,\n",
       " <rdkit.Chem.rdchem.Mol at 0x7fea60bc37b0>,\n",
       " <rdkit.Chem.rdchem.Mol at 0x7fea60bc3760>,\n",
       " <rdkit.Chem.rdchem.Mol at 0x7fea60bc3850>,\n",
       " <rdkit.Chem.rdchem.Mol at 0x7fea60bc38a0>,\n",
       " <rdkit.Chem.rdchem.Mol at 0x7fea60bc38f0>,\n",
       " <rdkit.Chem.rdchem.Mol at 0x7fea60bc3940>,\n",
       " <rdkit.Chem.rdchem.Mol at 0x7fea60bc3990>,\n",
       " <rdkit.Chem.rdchem.Mol at 0x7fea60bc39e0>,\n",
       " <rdkit.Chem.rdchem.Mol at 0x7fea60bc3a30>,\n",
       " <rdkit.Chem.rdchem.Mol at 0x7fea60bc3b20>,\n",
       " <rdkit.Chem.rdchem.Mol at 0x7fea60bc3ad0>,\n",
       " <rdkit.Chem.rdchem.Mol at 0x7fea60bc3a80>,\n",
       " <rdkit.Chem.rdchem.Mol at 0x7fea60bc3b70>,\n",
       " <rdkit.Chem.rdchem.Mol at 0x7fea60bc3bc0>,\n",
       " <rdkit.Chem.rdchem.Mol at 0x7fea60bc3c10>,\n",
       " <rdkit.Chem.rdchem.Mol at 0x7fea60bc3c60>,\n",
       " <rdkit.Chem.rdchem.Mol at 0x7fea60bc3cb0>,\n",
       " <rdkit.Chem.rdchem.Mol at 0x7fea60bc3da0>,\n",
       " <rdkit.Chem.rdchem.Mol at 0x7fea60bc3d50>,\n",
       " <rdkit.Chem.rdchem.Mol at 0x7fea60bc3e40>,\n",
       " <rdkit.Chem.rdchem.Mol at 0x7fea60bc3df0>,\n",
       " <rdkit.Chem.rdchem.Mol at 0x7fea60bc3d00>,\n",
       " <rdkit.Chem.rdchem.Mol at 0x7fea60bc3e90>,\n",
       " <rdkit.Chem.rdchem.Mol at 0x7fea60bc3ee0>,\n",
       " <rdkit.Chem.rdchem.Mol at 0x7fea60bc3f30>,\n",
       " <rdkit.Chem.rdchem.Mol at 0x7fea60bc3f80>,\n",
       " <rdkit.Chem.rdchem.Mol at 0x7fea60bc4030>,\n",
       " <rdkit.Chem.rdchem.Mol at 0x7fea60bc4080>,\n",
       " <rdkit.Chem.rdchem.Mol at 0x7fea60bc40d0>,\n",
       " <rdkit.Chem.rdchem.Mol at 0x7fea60bc4120>,\n",
       " <rdkit.Chem.rdchem.Mol at 0x7fea60bc4170>,\n",
       " <rdkit.Chem.rdchem.Mol at 0x7fea60bc41c0>,\n",
       " <rdkit.Chem.rdchem.Mol at 0x7fea60bc4210>,\n",
       " <rdkit.Chem.rdchem.Mol at 0x7fea60bc4300>,\n",
       " <rdkit.Chem.rdchem.Mol at 0x7fea60bc42b0>,\n",
       " <rdkit.Chem.rdchem.Mol at 0x7fea60bc4260>,\n",
       " <rdkit.Chem.rdchem.Mol at 0x7fea60bc4350>,\n",
       " <rdkit.Chem.rdchem.Mol at 0x7fea60bc43a0>,\n",
       " <rdkit.Chem.rdchem.Mol at 0x7fea60bc4490>,\n",
       " <rdkit.Chem.rdchem.Mol at 0x7fea60bc4440>,\n",
       " <rdkit.Chem.rdchem.Mol at 0x7fea60bc43f0>,\n",
       " <rdkit.Chem.rdchem.Mol at 0x7fea60bc44e0>,\n",
       " <rdkit.Chem.rdchem.Mol at 0x7fea60bc4530>,\n",
       " <rdkit.Chem.rdchem.Mol at 0x7fea60bc4580>,\n",
       " <rdkit.Chem.rdchem.Mol at 0x7fea60bc4670>,\n",
       " <rdkit.Chem.rdchem.Mol at 0x7fea60bc4620>,\n",
       " <rdkit.Chem.rdchem.Mol at 0x7fea60bc45d0>,\n",
       " <rdkit.Chem.rdchem.Mol at 0x7fea60bc46c0>,\n",
       " <rdkit.Chem.rdchem.Mol at 0x7fea60bc4710>,\n",
       " <rdkit.Chem.rdchem.Mol at 0x7fea60bc4760>,\n",
       " <rdkit.Chem.rdchem.Mol at 0x7fea60bc47b0>,\n",
       " <rdkit.Chem.rdchem.Mol at 0x7fea60bc4800>,\n",
       " <rdkit.Chem.rdchem.Mol at 0x7fea60bc4850>,\n",
       " <rdkit.Chem.rdchem.Mol at 0x7fea60bc48a0>,\n",
       " <rdkit.Chem.rdchem.Mol at 0x7fea60bc48f0>,\n",
       " <rdkit.Chem.rdchem.Mol at 0x7fea60bc4940>,\n",
       " <rdkit.Chem.rdchem.Mol at 0x7fea60bc4990>,\n",
       " <rdkit.Chem.rdchem.Mol at 0x7fea60bc49e0>,\n",
       " <rdkit.Chem.rdchem.Mol at 0x7fea60bc4a30>,\n",
       " <rdkit.Chem.rdchem.Mol at 0x7fea60bc4a80>,\n",
       " <rdkit.Chem.rdchem.Mol at 0x7fea60bc4b70>,\n",
       " <rdkit.Chem.rdchem.Mol at 0x7fea60bc4b20>,\n",
       " <rdkit.Chem.rdchem.Mol at 0x7fea60bc4ad0>,\n",
       " <rdkit.Chem.rdchem.Mol at 0x7fea60bc4bc0>,\n",
       " <rdkit.Chem.rdchem.Mol at 0x7fea60bc4c60>,\n",
       " <rdkit.Chem.rdchem.Mol at 0x7fea60bc4c10>,\n",
       " <rdkit.Chem.rdchem.Mol at 0x7fea60bc4d50>,\n",
       " <rdkit.Chem.rdchem.Mol at 0x7fea60bc4d00>,\n",
       " <rdkit.Chem.rdchem.Mol at 0x7fea60bc4cb0>,\n",
       " <rdkit.Chem.rdchem.Mol at 0x7fea60bc4df0>,\n",
       " <rdkit.Chem.rdchem.Mol at 0x7fea60bc4da0>,\n",
       " <rdkit.Chem.rdchem.Mol at 0x7fea60bc4e90>,\n",
       " <rdkit.Chem.rdchem.Mol at 0x7fea60bc4e40>,\n",
       " <rdkit.Chem.rdchem.Mol at 0x7fea60bc4ee0>,\n",
       " <rdkit.Chem.rdchem.Mol at 0x7fea60bc4f30>,\n",
       " <rdkit.Chem.rdchem.Mol at 0x7fea60bc4f80>,\n",
       " <rdkit.Chem.rdchem.Mol at 0x7fea60bc5030>,\n",
       " <rdkit.Chem.rdchem.Mol at 0x7fea60bc5080>,\n",
       " <rdkit.Chem.rdchem.Mol at 0x7fea60bc50d0>,\n",
       " <rdkit.Chem.rdchem.Mol at 0x7fea60bc5120>,\n",
       " <rdkit.Chem.rdchem.Mol at 0x7fea60bc5170>,\n",
       " <rdkit.Chem.rdchem.Mol at 0x7fea60bc51c0>,\n",
       " <rdkit.Chem.rdchem.Mol at 0x7fea60bc5210>,\n",
       " <rdkit.Chem.rdchem.Mol at 0x7fea60bc5260>,\n",
       " <rdkit.Chem.rdchem.Mol at 0x7fea60bc52b0>,\n",
       " <rdkit.Chem.rdchem.Mol at 0x7fea60bc5300>,\n",
       " <rdkit.Chem.rdchem.Mol at 0x7fea60bc5350>,\n",
       " <rdkit.Chem.rdchem.Mol at 0x7fea60bc5440>,\n",
       " <rdkit.Chem.rdchem.Mol at 0x7fea60bc53f0>,\n",
       " <rdkit.Chem.rdchem.Mol at 0x7fea60bc5490>,\n",
       " <rdkit.Chem.rdchem.Mol at 0x7fea60bc53a0>,\n",
       " <rdkit.Chem.rdchem.Mol at 0x7fea60bc54e0>,\n",
       " <rdkit.Chem.rdchem.Mol at 0x7fea60bc5530>,\n",
       " <rdkit.Chem.rdchem.Mol at 0x7fea60bc5580>,\n",
       " <rdkit.Chem.rdchem.Mol at 0x7fea60bc55d0>,\n",
       " <rdkit.Chem.rdchem.Mol at 0x7fea60bc5620>,\n",
       " <rdkit.Chem.rdchem.Mol at 0x7fea60bc5670>,\n",
       " <rdkit.Chem.rdchem.Mol at 0x7fea60bc56c0>,\n",
       " <rdkit.Chem.rdchem.Mol at 0x7fea60bc5710>,\n",
       " <rdkit.Chem.rdchem.Mol at 0x7fea60bc5760>,\n",
       " <rdkit.Chem.rdchem.Mol at 0x7fea60bc57b0>,\n",
       " <rdkit.Chem.rdchem.Mol at 0x7fea60bc5800>,\n",
       " <rdkit.Chem.rdchem.Mol at 0x7fea60bc5850>,\n",
       " <rdkit.Chem.rdchem.Mol at 0x7fea60bc58a0>,\n",
       " <rdkit.Chem.rdchem.Mol at 0x7fea60bc5990>,\n",
       " <rdkit.Chem.rdchem.Mol at 0x7fea60bc5940>,\n",
       " <rdkit.Chem.rdchem.Mol at 0x7fea60bc58f0>,\n",
       " <rdkit.Chem.rdchem.Mol at 0x7fea60bc59e0>,\n",
       " <rdkit.Chem.rdchem.Mol at 0x7fea60bc5a30>,\n",
       " <rdkit.Chem.rdchem.Mol at 0x7fea60bc5a80>,\n",
       " <rdkit.Chem.rdchem.Mol at 0x7fea60bc5ad0>,\n",
       " <rdkit.Chem.rdchem.Mol at 0x7fea60bc5b20>,\n",
       " <rdkit.Chem.rdchem.Mol at 0x7fea60bc5c10>,\n",
       " <rdkit.Chem.rdchem.Mol at 0x7fea60bc5bc0>,\n",
       " <rdkit.Chem.rdchem.Mol at 0x7fea60bc5b70>,\n",
       " <rdkit.Chem.rdchem.Mol at 0x7fea60bc5c60>,\n",
       " <rdkit.Chem.rdchem.Mol at 0x7fea60bc5cb0>,\n",
       " <rdkit.Chem.rdchem.Mol at 0x7fea60bc5d00>,\n",
       " <rdkit.Chem.rdchem.Mol at 0x7fea60bc5d50>,\n",
       " <rdkit.Chem.rdchem.Mol at 0x7fea60bc5da0>,\n",
       " <rdkit.Chem.rdchem.Mol at 0x7fea60bc5df0>,\n",
       " <rdkit.Chem.rdchem.Mol at 0x7fea60bc5e40>,\n",
       " <rdkit.Chem.rdchem.Mol at 0x7fea60bc5e90>,\n",
       " <rdkit.Chem.rdchem.Mol at 0x7fea60bc5ee0>,\n",
       " <rdkit.Chem.rdchem.Mol at 0x7fea60bc5f30>,\n",
       " <rdkit.Chem.rdchem.Mol at 0x7fea60bc5f80>,\n",
       " <rdkit.Chem.rdchem.Mol at 0x7fea60bc6030>,\n",
       " <rdkit.Chem.rdchem.Mol at 0x7fea60bc6080>,\n",
       " <rdkit.Chem.rdchem.Mol at 0x7fea60bc60d0>,\n",
       " <rdkit.Chem.rdchem.Mol at 0x7fea60bc6120>,\n",
       " <rdkit.Chem.rdchem.Mol at 0x7fea60bc6210>,\n",
       " <rdkit.Chem.rdchem.Mol at 0x7fea60bc61c0>,\n",
       " <rdkit.Chem.rdchem.Mol at 0x7fea60bc6170>,\n",
       " <rdkit.Chem.rdchem.Mol at 0x7fea60bc6260>,\n",
       " <rdkit.Chem.rdchem.Mol at 0x7fea60bc62b0>,\n",
       " <rdkit.Chem.rdchem.Mol at 0x7fea60bc6300>,\n",
       " <rdkit.Chem.rdchem.Mol at 0x7fea60bc6350>,\n",
       " <rdkit.Chem.rdchem.Mol at 0x7fea60bc6440>,\n",
       " <rdkit.Chem.rdchem.Mol at 0x7fea60bc63f0>,\n",
       " <rdkit.Chem.rdchem.Mol at 0x7fea60bc63a0>,\n",
       " <rdkit.Chem.rdchem.Mol at 0x7fea60bc6530>,\n",
       " <rdkit.Chem.rdchem.Mol at 0x7fea60bc64e0>,\n",
       " <rdkit.Chem.rdchem.Mol at 0x7fea60bc6490>,\n",
       " <rdkit.Chem.rdchem.Mol at 0x7fea60bc6580>,\n",
       " <rdkit.Chem.rdchem.Mol at 0x7fea60bc65d0>,\n",
       " <rdkit.Chem.rdchem.Mol at 0x7fea60bc6620>,\n",
       " <rdkit.Chem.rdchem.Mol at 0x7fea60bc6670>,\n",
       " <rdkit.Chem.rdchem.Mol at 0x7fea60bc66c0>,\n",
       " <rdkit.Chem.rdchem.Mol at 0x7fea60bc6710>,\n",
       " <rdkit.Chem.rdchem.Mol at 0x7fea60bc6760>,\n",
       " <rdkit.Chem.rdchem.Mol at 0x7fea60bc67b0>,\n",
       " <rdkit.Chem.rdchem.Mol at 0x7fea60bc6800>,\n",
       " <rdkit.Chem.rdchem.Mol at 0x7fea60bc68a0>,\n",
       " <rdkit.Chem.rdchem.Mol at 0x7fea60bc6850>,\n",
       " <rdkit.Chem.rdchem.Mol at 0x7fea60bc68f0>,\n",
       " <rdkit.Chem.rdchem.Mol at 0x7fea60bc6940>,\n",
       " <rdkit.Chem.rdchem.Mol at 0x7fea60bc6990>,\n",
       " <rdkit.Chem.rdchem.Mol at 0x7fea60bc69e0>,\n",
       " <rdkit.Chem.rdchem.Mol at 0x7fea60bc6a30>,\n",
       " <rdkit.Chem.rdchem.Mol at 0x7fea60bc6a80>,\n",
       " <rdkit.Chem.rdchem.Mol at 0x7fea60bc6b20>,\n",
       " <rdkit.Chem.rdchem.Mol at 0x7fea60bc6ad0>,\n",
       " <rdkit.Chem.rdchem.Mol at 0x7fea60bc6b70>,\n",
       " <rdkit.Chem.rdchem.Mol at 0x7fea60bc6bc0>,\n",
       " <rdkit.Chem.rdchem.Mol at 0x7fea60bc6c60>,\n",
       " <rdkit.Chem.rdchem.Mol at 0x7fea60bc6c10>,\n",
       " <rdkit.Chem.rdchem.Mol at 0x7fea60bc6cb0>,\n",
       " <rdkit.Chem.rdchem.Mol at 0x7fea60bc6d00>,\n",
       " <rdkit.Chem.rdchem.Mol at 0x7fea60bc6d50>,\n",
       " <rdkit.Chem.rdchem.Mol at 0x7fea60bc6da0>,\n",
       " <rdkit.Chem.rdchem.Mol at 0x7fea60bc6df0>,\n",
       " <rdkit.Chem.rdchem.Mol at 0x7fea60bc6ee0>,\n",
       " <rdkit.Chem.rdchem.Mol at 0x7fea60bc6e90>,\n",
       " <rdkit.Chem.rdchem.Mol at 0x7fea60bc6e40>,\n",
       " <rdkit.Chem.rdchem.Mol at 0x7fea60bc6f30>,\n",
       " <rdkit.Chem.rdchem.Mol at 0x7fea60bc6f80>,\n",
       " <rdkit.Chem.rdchem.Mol at 0x7fea60bc70d0>,\n",
       " <rdkit.Chem.rdchem.Mol at 0x7fea60bc7080>,\n",
       " <rdkit.Chem.rdchem.Mol at 0x7fea60bc7030>,\n",
       " <rdkit.Chem.rdchem.Mol at 0x7fea60bc7120>,\n",
       " <rdkit.Chem.rdchem.Mol at 0x7fea60bc7170>,\n",
       " <rdkit.Chem.rdchem.Mol at 0x7fea60bc71c0>,\n",
       " <rdkit.Chem.rdchem.Mol at 0x7fea60bc7210>,\n",
       " <rdkit.Chem.rdchem.Mol at 0x7fea60bc7260>,\n",
       " <rdkit.Chem.rdchem.Mol at 0x7fea60bc72b0>,\n",
       " <rdkit.Chem.rdchem.Mol at 0x7fea60bc7300>,\n",
       " <rdkit.Chem.rdchem.Mol at 0x7fea60bc7350>,\n",
       " <rdkit.Chem.rdchem.Mol at 0x7fea60bc73a0>,\n",
       " <rdkit.Chem.rdchem.Mol at 0x7fea60bc73f0>,\n",
       " <rdkit.Chem.rdchem.Mol at 0x7fea60bc7440>,\n",
       " <rdkit.Chem.rdchem.Mol at 0x7fea60bc7490>,\n",
       " <rdkit.Chem.rdchem.Mol at 0x7fea60bc74e0>,\n",
       " <rdkit.Chem.rdchem.Mol at 0x7fea60bc75d0>,\n",
       " <rdkit.Chem.rdchem.Mol at 0x7fea60bc7580>,\n",
       " <rdkit.Chem.rdchem.Mol at 0x7fea60bc7620>,\n",
       " <rdkit.Chem.rdchem.Mol at 0x7fea60bc7530>,\n",
       " <rdkit.Chem.rdchem.Mol at 0x7fea60bc7670>,\n",
       " <rdkit.Chem.rdchem.Mol at 0x7fea60bc76c0>,\n",
       " <rdkit.Chem.rdchem.Mol at 0x7fea60bc7710>,\n",
       " <rdkit.Chem.rdchem.Mol at 0x7fea60bc7800>,\n",
       " <rdkit.Chem.rdchem.Mol at 0x7fea60bc77b0>,\n",
       " <rdkit.Chem.rdchem.Mol at 0x7fea60bc78a0>,\n",
       " <rdkit.Chem.rdchem.Mol at 0x7fea60bc7850>,\n",
       " <rdkit.Chem.rdchem.Mol at 0x7fea60bc7760>,\n",
       " <rdkit.Chem.rdchem.Mol at 0x7fea60bc78f0>,\n",
       " <rdkit.Chem.rdchem.Mol at 0x7fea60bc7940>,\n",
       " <rdkit.Chem.rdchem.Mol at 0x7fea60bc7990>,\n",
       " <rdkit.Chem.rdchem.Mol at 0x7fea60bc79e0>,\n",
       " <rdkit.Chem.rdchem.Mol at 0x7fea60bc7a30>,\n",
       " <rdkit.Chem.rdchem.Mol at 0x7fea60bc7a80>,\n",
       " <rdkit.Chem.rdchem.Mol at 0x7fea60bc7ad0>,\n",
       " <rdkit.Chem.rdchem.Mol at 0x7fea60bc7b20>,\n",
       " <rdkit.Chem.rdchem.Mol at 0x7fea60bc7b70>,\n",
       " <rdkit.Chem.rdchem.Mol at 0x7fea60bc7bc0>,\n",
       " <rdkit.Chem.rdchem.Mol at 0x7fea60bc7c10>,\n",
       " <rdkit.Chem.rdchem.Mol at 0x7fea60bc7c60>,\n",
       " <rdkit.Chem.rdchem.Mol at 0x7fea60bc7cb0>,\n",
       " <rdkit.Chem.rdchem.Mol at 0x7fea60bc7da0>,\n",
       " <rdkit.Chem.rdchem.Mol at 0x7fea60bc7d50>,\n",
       " <rdkit.Chem.rdchem.Mol at 0x7fea60bc7d00>,\n",
       " <rdkit.Chem.rdchem.Mol at 0x7fea60bc7df0>,\n",
       " <rdkit.Chem.rdchem.Mol at 0x7fea60bc7e40>,\n",
       " <rdkit.Chem.rdchem.Mol at 0x7fea60bc7e90>,\n",
       " <rdkit.Chem.rdchem.Mol at 0x7fea60bc7ee0>,\n",
       " <rdkit.Chem.rdchem.Mol at 0x7fea60bc7f30>,\n",
       " <rdkit.Chem.rdchem.Mol at 0x7fea60bc7f80>,\n",
       " <rdkit.Chem.rdchem.Mol at 0x7fea60bc8030>,\n",
       " <rdkit.Chem.rdchem.Mol at 0x7fea60bc8080>,\n",
       " <rdkit.Chem.rdchem.Mol at 0x7fea60bc80d0>,\n",
       " <rdkit.Chem.rdchem.Mol at 0x7fea60bc8120>,\n",
       " <rdkit.Chem.rdchem.Mol at 0x7fea60bc8170>,\n",
       " <rdkit.Chem.rdchem.Mol at 0x7fea60bc81c0>,\n",
       " <rdkit.Chem.rdchem.Mol at 0x7fea60bc8210>,\n",
       " <rdkit.Chem.rdchem.Mol at 0x7fea60bc8260>,\n",
       " <rdkit.Chem.rdchem.Mol at 0x7fea60bc82b0>,\n",
       " <rdkit.Chem.rdchem.Mol at 0x7fea60bc8300>,\n",
       " <rdkit.Chem.rdchem.Mol at 0x7fea60bc8350>,\n",
       " <rdkit.Chem.rdchem.Mol at 0x7fea60bc83a0>,\n",
       " <rdkit.Chem.rdchem.Mol at 0x7fea60bc83f0>,\n",
       " <rdkit.Chem.rdchem.Mol at 0x7fea60bc8440>,\n",
       " <rdkit.Chem.rdchem.Mol at 0x7fea60bc8490>,\n",
       " <rdkit.Chem.rdchem.Mol at 0x7fea60bc84e0>,\n",
       " <rdkit.Chem.rdchem.Mol at 0x7fea60bc85d0>,\n",
       " <rdkit.Chem.rdchem.Mol at 0x7fea60bc8580>,\n",
       " <rdkit.Chem.rdchem.Mol at 0x7fea60bc8670>,\n",
       " <rdkit.Chem.rdchem.Mol at 0x7fea60bc8620>,\n",
       " <rdkit.Chem.rdchem.Mol at 0x7fea60bc8530>,\n",
       " <rdkit.Chem.rdchem.Mol at 0x7fea60bc86c0>,\n",
       " <rdkit.Chem.rdchem.Mol at 0x7fea60bc8710>,\n",
       " <rdkit.Chem.rdchem.Mol at 0x7fea60bc8760>,\n",
       " <rdkit.Chem.rdchem.Mol at 0x7fea60bc87b0>,\n",
       " <rdkit.Chem.rdchem.Mol at 0x7fea60bc8800>,\n",
       " <rdkit.Chem.rdchem.Mol at 0x7fea60bc8850>,\n",
       " <rdkit.Chem.rdchem.Mol at 0x7fea60bc88a0>,\n",
       " <rdkit.Chem.rdchem.Mol at 0x7fea60bc8990>,\n",
       " <rdkit.Chem.rdchem.Mol at 0x7fea60bc8940>,\n",
       " <rdkit.Chem.rdchem.Mol at 0x7fea60bc88f0>,\n",
       " <rdkit.Chem.rdchem.Mol at 0x7fea60bc89e0>,\n",
       " <rdkit.Chem.rdchem.Mol at 0x7fea60bc8a30>,\n",
       " <rdkit.Chem.rdchem.Mol at 0x7fea60bc8a80>,\n",
       " <rdkit.Chem.rdchem.Mol at 0x7fea60bc8ad0>,\n",
       " <rdkit.Chem.rdchem.Mol at 0x7fea60bc8b20>,\n",
       " <rdkit.Chem.rdchem.Mol at 0x7fea60bc8b70>,\n",
       " <rdkit.Chem.rdchem.Mol at 0x7fea60bc8bc0>,\n",
       " <rdkit.Chem.rdchem.Mol at 0x7fea60bc8c10>,\n",
       " <rdkit.Chem.rdchem.Mol at 0x7fea60bc8c60>,\n",
       " <rdkit.Chem.rdchem.Mol at 0x7fea60bc8cb0>,\n",
       " <rdkit.Chem.rdchem.Mol at 0x7fea60bc8d00>,\n",
       " <rdkit.Chem.rdchem.Mol at 0x7fea60bc8df0>,\n",
       " <rdkit.Chem.rdchem.Mol at 0x7fea60bc8da0>,\n",
       " <rdkit.Chem.rdchem.Mol at 0x7fea60bc8d50>,\n",
       " <rdkit.Chem.rdchem.Mol at 0x7fea60bc8e40>,\n",
       " <rdkit.Chem.rdchem.Mol at 0x7fea60bc8e90>,\n",
       " <rdkit.Chem.rdchem.Mol at 0x7fea60bc8f80>,\n",
       " <rdkit.Chem.rdchem.Mol at 0x7fea60bc8f30>,\n",
       " <rdkit.Chem.rdchem.Mol at 0x7fea60bc8ee0>,\n",
       " <rdkit.Chem.rdchem.Mol at 0x7fea60bc9030>,\n",
       " <rdkit.Chem.rdchem.Mol at 0x7fea60bc9120>,\n",
       " <rdkit.Chem.rdchem.Mol at 0x7fea60bc90d0>,\n",
       " <rdkit.Chem.rdchem.Mol at 0x7fea60bc9080>,\n",
       " <rdkit.Chem.rdchem.Mol at 0x7fea60bc9170>,\n",
       " <rdkit.Chem.rdchem.Mol at 0x7fea60bc91c0>,\n",
       " <rdkit.Chem.rdchem.Mol at 0x7fea60bc9210>,\n",
       " <rdkit.Chem.rdchem.Mol at 0x7fea60bc9260>,\n",
       " <rdkit.Chem.rdchem.Mol at 0x7fea60bc92b0>,\n",
       " <rdkit.Chem.rdchem.Mol at 0x7fea60bc9300>,\n",
       " <rdkit.Chem.rdchem.Mol at 0x7fea60bc9350>,\n",
       " <rdkit.Chem.rdchem.Mol at 0x7fea60bc93a0>,\n",
       " <rdkit.Chem.rdchem.Mol at 0x7fea60bc93f0>,\n",
       " <rdkit.Chem.rdchem.Mol at 0x7fea60bc9440>,\n",
       " <rdkit.Chem.rdchem.Mol at 0x7fea60bc9490>,\n",
       " <rdkit.Chem.rdchem.Mol at 0x7fea60bc94e0>,\n",
       " <rdkit.Chem.rdchem.Mol at 0x7fea60bc9530>,\n",
       " <rdkit.Chem.rdchem.Mol at 0x7fea60bc9580>,\n",
       " <rdkit.Chem.rdchem.Mol at 0x7fea60bc95d0>,\n",
       " <rdkit.Chem.rdchem.Mol at 0x7fea60bc9620>,\n",
       " <rdkit.Chem.rdchem.Mol at 0x7fea60bc9670>,\n",
       " <rdkit.Chem.rdchem.Mol at 0x7fea60bc9710>,\n",
       " <rdkit.Chem.rdchem.Mol at 0x7fea60bc96c0>,\n",
       " <rdkit.Chem.rdchem.Mol at 0x7fea60bc9760>,\n",
       " <rdkit.Chem.rdchem.Mol at 0x7fea60bc97b0>,\n",
       " <rdkit.Chem.rdchem.Mol at 0x7fea60bc98a0>,\n",
       " <rdkit.Chem.rdchem.Mol at 0x7fea60bc9850>,\n",
       " <rdkit.Chem.rdchem.Mol at 0x7fea60bc9800>,\n",
       " <rdkit.Chem.rdchem.Mol at 0x7fea60bc98f0>,\n",
       " <rdkit.Chem.rdchem.Mol at 0x7fea60bc9940>,\n",
       " <rdkit.Chem.rdchem.Mol at 0x7fea60bc9a30>,\n",
       " <rdkit.Chem.rdchem.Mol at 0x7fea60bc99e0>,\n",
       " <rdkit.Chem.rdchem.Mol at 0x7fea60bc9990>,\n",
       " <rdkit.Chem.rdchem.Mol at 0x7fea60bc9a80>,\n",
       " <rdkit.Chem.rdchem.Mol at 0x7fea60bc9ad0>,\n",
       " <rdkit.Chem.rdchem.Mol at 0x7fea60bc9bc0>,\n",
       " <rdkit.Chem.rdchem.Mol at 0x7fea60bc9b70>,\n",
       " <rdkit.Chem.rdchem.Mol at 0x7fea60bc9b20>,\n",
       " <rdkit.Chem.rdchem.Mol at 0x7fea60bc9c10>,\n",
       " <rdkit.Chem.rdchem.Mol at 0x7fea60bc9c60>,\n",
       " <rdkit.Chem.rdchem.Mol at 0x7fea60bc9cb0>,\n",
       " <rdkit.Chem.rdchem.Mol at 0x7fea60bc9da0>,\n",
       " <rdkit.Chem.rdchem.Mol at 0x7fea60bc9d50>,\n",
       " <rdkit.Chem.rdchem.Mol at 0x7fea60bc9d00>,\n",
       " <rdkit.Chem.rdchem.Mol at 0x7fea60bc9df0>,\n",
       " <rdkit.Chem.rdchem.Mol at 0x7fea60bc9e40>,\n",
       " <rdkit.Chem.rdchem.Mol at 0x7fea60bc9e90>,\n",
       " <rdkit.Chem.rdchem.Mol at 0x7fea60bc9f80>,\n",
       " <rdkit.Chem.rdchem.Mol at 0x7fea60bc9f30>,\n",
       " <rdkit.Chem.rdchem.Mol at 0x7fea60bc9ee0>,\n",
       " <rdkit.Chem.rdchem.Mol at 0x7fea60bca030>,\n",
       " <rdkit.Chem.rdchem.Mol at 0x7fea60bca080>,\n",
       " <rdkit.Chem.rdchem.Mol at 0x7fea60bca0d0>,\n",
       " <rdkit.Chem.rdchem.Mol at 0x7fea60bca120>,\n",
       " <rdkit.Chem.rdchem.Mol at 0x7fea60bca170>,\n",
       " <rdkit.Chem.rdchem.Mol at 0x7fea60bca1c0>,\n",
       " <rdkit.Chem.rdchem.Mol at 0x7fea60bca210>,\n",
       " <rdkit.Chem.rdchem.Mol at 0x7fea60bca260>,\n",
       " <rdkit.Chem.rdchem.Mol at 0x7fea60bca2b0>,\n",
       " <rdkit.Chem.rdchem.Mol at 0x7fea60bca300>,\n",
       " <rdkit.Chem.rdchem.Mol at 0x7fea60bca350>,\n",
       " <rdkit.Chem.rdchem.Mol at 0x7fea60bca3a0>,\n",
       " <rdkit.Chem.rdchem.Mol at 0x7fea60bca3f0>,\n",
       " <rdkit.Chem.rdchem.Mol at 0x7fea60bca4e0>,\n",
       " <rdkit.Chem.rdchem.Mol at 0x7fea60bca490>,\n",
       " <rdkit.Chem.rdchem.Mol at 0x7fea60bca580>,\n",
       " <rdkit.Chem.rdchem.Mol at 0x7fea60bca530>,\n",
       " <rdkit.Chem.rdchem.Mol at 0x7fea60bca440>,\n",
       " <rdkit.Chem.rdchem.Mol at 0x7fea60bca5d0>,\n",
       " <rdkit.Chem.rdchem.Mol at 0x7fea60bca620>,\n",
       " <rdkit.Chem.rdchem.Mol at 0x7fea60bca670>,\n",
       " <rdkit.Chem.rdchem.Mol at 0x7fea60bca6c0>,\n",
       " <rdkit.Chem.rdchem.Mol at 0x7fea60bca710>,\n",
       " <rdkit.Chem.rdchem.Mol at 0x7fea60bca800>,\n",
       " <rdkit.Chem.rdchem.Mol at 0x7fea60bca7b0>,\n",
       " <rdkit.Chem.rdchem.Mol at 0x7fea60bca760>,\n",
       " <rdkit.Chem.rdchem.Mol at 0x7fea60bca850>,\n",
       " <rdkit.Chem.rdchem.Mol at 0x7fea60bca8a0>,\n",
       " <rdkit.Chem.rdchem.Mol at 0x7fea60bca8f0>,\n",
       " <rdkit.Chem.rdchem.Mol at 0x7fea60bca990>,\n",
       " <rdkit.Chem.rdchem.Mol at 0x7fea60bca940>,\n",
       " <rdkit.Chem.rdchem.Mol at 0x7fea60bca9e0>,\n",
       " <rdkit.Chem.rdchem.Mol at 0x7fea60bcaa30>,\n",
       " <rdkit.Chem.rdchem.Mol at 0x7fea60bcaa80>,\n",
       " <rdkit.Chem.rdchem.Mol at 0x7fea60bcab20>,\n",
       " <rdkit.Chem.rdchem.Mol at 0x7fea60bcaad0>,\n",
       " <rdkit.Chem.rdchem.Mol at 0x7fea60bcab70>,\n",
       " <rdkit.Chem.rdchem.Mol at 0x7fea60bcabc0>,\n",
       " <rdkit.Chem.rdchem.Mol at 0x7fea60bcac10>,\n",
       " <rdkit.Chem.rdchem.Mol at 0x7fea60bcac60>,\n",
       " <rdkit.Chem.rdchem.Mol at 0x7fea60bcacb0>,\n",
       " <rdkit.Chem.rdchem.Mol at 0x7fea60bcad00>,\n",
       " <rdkit.Chem.rdchem.Mol at 0x7fea60bcad50>,\n",
       " <rdkit.Chem.rdchem.Mol at 0x7fea60bcae40>,\n",
       " <rdkit.Chem.rdchem.Mol at 0x7fea60bcadf0>,\n",
       " <rdkit.Chem.rdchem.Mol at 0x7fea60bcada0>,\n",
       " <rdkit.Chem.rdchem.Mol at 0x7fea60bcae90>,\n",
       " <rdkit.Chem.rdchem.Mol at 0x7fea60bcaf80>,\n",
       " <rdkit.Chem.rdchem.Mol at 0x7fea60bcaf30>,\n",
       " <rdkit.Chem.rdchem.Mol at 0x7fea60bcaee0>,\n",
       " <rdkit.Chem.rdchem.Mol at 0x7fea60bcb030>,\n",
       " <rdkit.Chem.rdchem.Mol at 0x7fea60bcb080>,\n",
       " <rdkit.Chem.rdchem.Mol at 0x7fea60bcb0d0>,\n",
       " <rdkit.Chem.rdchem.Mol at 0x7fea60bcb170>,\n",
       " <rdkit.Chem.rdchem.Mol at 0x7fea60bcb120>,\n",
       " <rdkit.Chem.rdchem.Mol at 0x7fea60bcb1c0>,\n",
       " <rdkit.Chem.rdchem.Mol at 0x7fea60bcb210>,\n",
       " <rdkit.Chem.rdchem.Mol at 0x7fea60bcb260>,\n",
       " <rdkit.Chem.rdchem.Mol at 0x7fea60bcb350>,\n",
       " <rdkit.Chem.rdchem.Mol at 0x7fea60bcb300>,\n",
       " <rdkit.Chem.rdchem.Mol at 0x7fea60bcb2b0>,\n",
       " <rdkit.Chem.rdchem.Mol at 0x7fea60bcb3a0>,\n",
       " <rdkit.Chem.rdchem.Mol at 0x7fea60bcb490>,\n",
       " <rdkit.Chem.rdchem.Mol at 0x7fea60bcb440>,\n",
       " <rdkit.Chem.rdchem.Mol at 0x7fea60bcb3f0>,\n",
       " <rdkit.Chem.rdchem.Mol at 0x7fea60bcb4e0>,\n",
       " <rdkit.Chem.rdchem.Mol at 0x7fea60bcb530>,\n",
       " <rdkit.Chem.rdchem.Mol at 0x7fea60bcb580>,\n",
       " <rdkit.Chem.rdchem.Mol at 0x7fea60bcb5d0>,\n",
       " <rdkit.Chem.rdchem.Mol at 0x7fea60bcb620>,\n",
       " <rdkit.Chem.rdchem.Mol at 0x7fea60bcb710>,\n",
       " <rdkit.Chem.rdchem.Mol at 0x7fea60bcb6c0>,\n",
       " <rdkit.Chem.rdchem.Mol at 0x7fea60bcb670>,\n",
       " <rdkit.Chem.rdchem.Mol at 0x7fea60bcb760>,\n",
       " <rdkit.Chem.rdchem.Mol at 0x7fea60bcb7b0>,\n",
       " <rdkit.Chem.rdchem.Mol at 0x7fea60bcb800>,\n",
       " <rdkit.Chem.rdchem.Mol at 0x7fea60bcb850>,\n",
       " <rdkit.Chem.rdchem.Mol at 0x7fea60bcb8a0>,\n",
       " <rdkit.Chem.rdchem.Mol at 0x7fea60bcb940>,\n",
       " <rdkit.Chem.rdchem.Mol at 0x7fea60bcb8f0>,\n",
       " <rdkit.Chem.rdchem.Mol at 0x7fea60bcba30>,\n",
       " <rdkit.Chem.rdchem.Mol at 0x7fea60bcb9e0>,\n",
       " <rdkit.Chem.rdchem.Mol at 0x7fea60bcbad0>,\n",
       " <rdkit.Chem.rdchem.Mol at 0x7fea60bcba80>,\n",
       " <rdkit.Chem.rdchem.Mol at 0x7fea60bcb990>,\n",
       " <rdkit.Chem.rdchem.Mol at 0x7fea60bcbb20>,\n",
       " <rdkit.Chem.rdchem.Mol at 0x7fea60bcbb70>,\n",
       " <rdkit.Chem.rdchem.Mol at 0x7fea60bcbbc0>,\n",
       " <rdkit.Chem.rdchem.Mol at 0x7fea60bcbcb0>,\n",
       " <rdkit.Chem.rdchem.Mol at 0x7fea60bcbc60>,\n",
       " <rdkit.Chem.rdchem.Mol at 0x7fea60bcbd00>,\n",
       " <rdkit.Chem.rdchem.Mol at 0x7fea60bcbc10>,\n",
       " <rdkit.Chem.rdchem.Mol at 0x7fea60bcbd50>,\n",
       " <rdkit.Chem.rdchem.Mol at 0x7fea60bcbda0>,\n",
       " <rdkit.Chem.rdchem.Mol at 0x7fea60bcbdf0>,\n",
       " <rdkit.Chem.rdchem.Mol at 0x7fea60bcbe40>,\n",
       " <rdkit.Chem.rdchem.Mol at 0x7fea60bcbe90>,\n",
       " <rdkit.Chem.rdchem.Mol at 0x7fea60bcbee0>,\n",
       " <rdkit.Chem.rdchem.Mol at 0x7fea60bcc030>,\n",
       " <rdkit.Chem.rdchem.Mol at 0x7fea60bcbf80>,\n",
       " <rdkit.Chem.rdchem.Mol at 0x7fea60bcbf30>,\n",
       " <rdkit.Chem.rdchem.Mol at 0x7fea60bcc080>,\n",
       " <rdkit.Chem.rdchem.Mol at 0x7fea60bcc0d0>,\n",
       " <rdkit.Chem.rdchem.Mol at 0x7fea60bcc120>,\n",
       " <rdkit.Chem.rdchem.Mol at 0x7fea60bcc170>,\n",
       " <rdkit.Chem.rdchem.Mol at 0x7fea60bcc260>,\n",
       " <rdkit.Chem.rdchem.Mol at 0x7fea60bcc210>,\n",
       " <rdkit.Chem.rdchem.Mol at 0x7fea60bcc1c0>,\n",
       " <rdkit.Chem.rdchem.Mol at 0x7fea60bcc350>,\n",
       " <rdkit.Chem.rdchem.Mol at 0x7fea60bcc300>,\n",
       " <rdkit.Chem.rdchem.Mol at 0x7fea60bcc2b0>,\n",
       " <rdkit.Chem.rdchem.Mol at 0x7fea60bcc440>,\n",
       " <rdkit.Chem.rdchem.Mol at 0x7fea60bcc3f0>,\n",
       " <rdkit.Chem.rdchem.Mol at 0x7fea60bcc3a0>,\n",
       " <rdkit.Chem.rdchem.Mol at 0x7fea60bcc490>,\n",
       " <rdkit.Chem.rdchem.Mol at 0x7fea60bcc4e0>,\n",
       " <rdkit.Chem.rdchem.Mol at 0x7fea60bcc530>,\n",
       " <rdkit.Chem.rdchem.Mol at 0x7fea60bcc580>,\n",
       " <rdkit.Chem.rdchem.Mol at 0x7fea60bcc670>,\n",
       " <rdkit.Chem.rdchem.Mol at 0x7fea60bcc620>,\n",
       " <rdkit.Chem.rdchem.Mol at 0x7fea60bcc5d0>,\n",
       " <rdkit.Chem.rdchem.Mol at 0x7fea60bcc710>,\n",
       " <rdkit.Chem.rdchem.Mol at 0x7fea60bcc6c0>,\n",
       " <rdkit.Chem.rdchem.Mol at 0x7fea60bcc760>,\n",
       " <rdkit.Chem.rdchem.Mol at 0x7fea60bcc7b0>,\n",
       " <rdkit.Chem.rdchem.Mol at 0x7fea60bcc800>,\n",
       " <rdkit.Chem.rdchem.Mol at 0x7fea60bcc8f0>,\n",
       " <rdkit.Chem.rdchem.Mol at 0x7fea60bcc8a0>,\n",
       " <rdkit.Chem.rdchem.Mol at 0x7fea60bcc850>,\n",
       " <rdkit.Chem.rdchem.Mol at 0x7fea60bcc990>,\n",
       " <rdkit.Chem.rdchem.Mol at 0x7fea60bcc940>,\n",
       " <rdkit.Chem.rdchem.Mol at 0x7fea60bcc9e0>,\n",
       " <rdkit.Chem.rdchem.Mol at 0x7fea60bccad0>,\n",
       " <rdkit.Chem.rdchem.Mol at 0x7fea60bcca80>,\n",
       " <rdkit.Chem.rdchem.Mol at 0x7fea60bcca30>,\n",
       " <rdkit.Chem.rdchem.Mol at 0x7fea60bccb20>,\n",
       " <rdkit.Chem.rdchem.Mol at 0x7fea60bccb70>,\n",
       " <rdkit.Chem.rdchem.Mol at 0x7fea60bccc60>,\n",
       " <rdkit.Chem.rdchem.Mol at 0x7fea60bccc10>,\n",
       " <rdkit.Chem.rdchem.Mol at 0x7fea60bccbc0>,\n",
       " <rdkit.Chem.rdchem.Mol at 0x7fea60bcccb0>,\n",
       " <rdkit.Chem.rdchem.Mol at 0x7fea60bccd00>,\n",
       " <rdkit.Chem.rdchem.Mol at 0x7fea60bccdf0>,\n",
       " <rdkit.Chem.rdchem.Mol at 0x7fea60bccda0>,\n",
       " <rdkit.Chem.rdchem.Mol at 0x7fea60bcce90>,\n",
       " <rdkit.Chem.rdchem.Mol at 0x7fea60bcce40>,\n",
       " <rdkit.Chem.rdchem.Mol at 0x7fea60bccd50>,\n",
       " <rdkit.Chem.rdchem.Mol at 0x7fea60bccee0>,\n",
       " <rdkit.Chem.rdchem.Mol at 0x7fea60bccf30>,\n",
       " <rdkit.Chem.rdchem.Mol at 0x7fea60bccf80>,\n",
       " <rdkit.Chem.rdchem.Mol at 0x7fea60bcd0d0>,\n",
       " <rdkit.Chem.rdchem.Mol at 0x7fea60bcd080>,\n",
       " <rdkit.Chem.rdchem.Mol at 0x7fea60bcd030>,\n",
       " <rdkit.Chem.rdchem.Mol at 0x7fea60bcd1c0>,\n",
       " <rdkit.Chem.rdchem.Mol at 0x7fea60bcd170>,\n",
       " <rdkit.Chem.rdchem.Mol at 0x7fea60bcd120>,\n",
       " <rdkit.Chem.rdchem.Mol at 0x7fea60bcd260>,\n",
       " <rdkit.Chem.rdchem.Mol at 0x7fea60bcd210>,\n",
       " <rdkit.Chem.rdchem.Mol at 0x7fea60bcd350>,\n",
       " <rdkit.Chem.rdchem.Mol at 0x7fea60bcd300>,\n",
       " <rdkit.Chem.rdchem.Mol at 0x7fea60bcd2b0>,\n",
       " <rdkit.Chem.rdchem.Mol at 0x7fea60bcd3a0>,\n",
       " <rdkit.Chem.rdchem.Mol at 0x7fea60bcd440>,\n",
       " <rdkit.Chem.rdchem.Mol at 0x7fea60bcd3f0>,\n",
       " <rdkit.Chem.rdchem.Mol at 0x7fea60bcd490>,\n",
       " <rdkit.Chem.rdchem.Mol at 0x7fea60bcd4e0>,\n",
       " <rdkit.Chem.rdchem.Mol at 0x7fea60bcd5d0>,\n",
       " <rdkit.Chem.rdchem.Mol at 0x7fea60bcd580>,\n",
       " <rdkit.Chem.rdchem.Mol at 0x7fea60bcd530>,\n",
       " <rdkit.Chem.rdchem.Mol at 0x7fea60bcd620>,\n",
       " <rdkit.Chem.rdchem.Mol at 0x7fea60bcd670>,\n",
       " <rdkit.Chem.rdchem.Mol at 0x7fea60bcd760>,\n",
       " <rdkit.Chem.rdchem.Mol at 0x7fea60bcd710>,\n",
       " <rdkit.Chem.rdchem.Mol at 0x7fea60bcd6c0>,\n",
       " <rdkit.Chem.rdchem.Mol at 0x7fea60bcd850>,\n",
       " <rdkit.Chem.rdchem.Mol at 0x7fea60bcd800>,\n",
       " <rdkit.Chem.rdchem.Mol at 0x7fea60bcd7b0>,\n",
       " <rdkit.Chem.rdchem.Mol at 0x7fea60bcd8a0>,\n",
       " <rdkit.Chem.rdchem.Mol at 0x7fea60bcd990>,\n",
       " <rdkit.Chem.rdchem.Mol at 0x7fea60bcd940>,\n",
       " <rdkit.Chem.rdchem.Mol at 0x7fea60bcd8f0>,\n",
       " <rdkit.Chem.rdchem.Mol at 0x7fea60bcd9e0>,\n",
       " <rdkit.Chem.rdchem.Mol at 0x7fea60bcda30>,\n",
       " <rdkit.Chem.rdchem.Mol at 0x7fea60bcda80>,\n",
       " <rdkit.Chem.rdchem.Mol at 0x7fea60bcdad0>,\n",
       " <rdkit.Chem.rdchem.Mol at 0x7fea60bcdb20>,\n",
       " <rdkit.Chem.rdchem.Mol at 0x7fea60bcdb70>,\n",
       " <rdkit.Chem.rdchem.Mol at 0x7fea60bcdc10>,\n",
       " <rdkit.Chem.rdchem.Mol at 0x7fea60bcdbc0>,\n",
       " <rdkit.Chem.rdchem.Mol at 0x7fea60bcdd00>,\n",
       " <rdkit.Chem.rdchem.Mol at 0x7fea60bcdcb0>,\n",
       " <rdkit.Chem.rdchem.Mol at 0x7fea60bcdc60>,\n",
       " <rdkit.Chem.rdchem.Mol at 0x7fea60bcdd50>,\n",
       " <rdkit.Chem.rdchem.Mol at 0x7fea60bcdda0>,\n",
       " <rdkit.Chem.rdchem.Mol at 0x7fea60bcddf0>,\n",
       " <rdkit.Chem.rdchem.Mol at 0x7fea60bcde40>,\n",
       " <rdkit.Chem.rdchem.Mol at 0x7fea60bcde90>,\n",
       " <rdkit.Chem.rdchem.Mol at 0x7fea60bcdee0>,\n",
       " <rdkit.Chem.rdchem.Mol at 0x7fea60bcdf30>,\n",
       " <rdkit.Chem.rdchem.Mol at 0x7fea60bcdf80>,\n",
       " <rdkit.Chem.rdchem.Mol at 0x7fea60bce030>,\n",
       " <rdkit.Chem.rdchem.Mol at 0x7fea60bce080>,\n",
       " <rdkit.Chem.rdchem.Mol at 0x7fea60bce0d0>,\n",
       " <rdkit.Chem.rdchem.Mol at 0x7fea60bce120>,\n",
       " <rdkit.Chem.rdchem.Mol at 0x7fea60bce210>,\n",
       " <rdkit.Chem.rdchem.Mol at 0x7fea60bce1c0>,\n",
       " <rdkit.Chem.rdchem.Mol at 0x7fea60bce170>,\n",
       " <rdkit.Chem.rdchem.Mol at 0x7fea60bce260>,\n",
       " <rdkit.Chem.rdchem.Mol at 0x7fea60bce2b0>,\n",
       " <rdkit.Chem.rdchem.Mol at 0x7fea60bce300>,\n",
       " <rdkit.Chem.rdchem.Mol at 0x7fea60bce350>,\n",
       " <rdkit.Chem.rdchem.Mol at 0x7fea60bce440>,\n",
       " <rdkit.Chem.rdchem.Mol at 0x7fea60bce3f0>,\n",
       " <rdkit.Chem.rdchem.Mol at 0x7fea60bce3a0>,\n",
       " <rdkit.Chem.rdchem.Mol at 0x7fea60bce490>,\n",
       " <rdkit.Chem.rdchem.Mol at 0x7fea60bce4e0>,\n",
       " <rdkit.Chem.rdchem.Mol at 0x7fea60bce530>,\n",
       " <rdkit.Chem.rdchem.Mol at 0x7fea60bce580>,\n",
       " <rdkit.Chem.rdchem.Mol at 0x7fea60bce5d0>,\n",
       " <rdkit.Chem.rdchem.Mol at 0x7fea60bce620>,\n",
       " <rdkit.Chem.rdchem.Mol at 0x7fea60bce670>,\n",
       " <rdkit.Chem.rdchem.Mol at 0x7fea60bce6c0>,\n",
       " <rdkit.Chem.rdchem.Mol at 0x7fea60bce710>,\n",
       " <rdkit.Chem.rdchem.Mol at 0x7fea60bce760>,\n",
       " <rdkit.Chem.rdchem.Mol at 0x7fea60bce7b0>,\n",
       " <rdkit.Chem.rdchem.Mol at 0x7fea60bce800>,\n",
       " <rdkit.Chem.rdchem.Mol at 0x7fea60bce850>,\n",
       " <rdkit.Chem.rdchem.Mol at 0x7fea60bce8a0>,\n",
       " <rdkit.Chem.rdchem.Mol at 0x7fea60bce8f0>,\n",
       " <rdkit.Chem.rdchem.Mol at 0x7fea60bce940>,\n",
       " <rdkit.Chem.rdchem.Mol at 0x7fea60bce990>,\n",
       " <rdkit.Chem.rdchem.Mol at 0x7fea60bce9e0>,\n",
       " <rdkit.Chem.rdchem.Mol at 0x7fea60bcea30>,\n",
       " <rdkit.Chem.rdchem.Mol at 0x7fea60bcea80>,\n",
       " <rdkit.Chem.rdchem.Mol at 0x7fea60bcead0>,\n",
       " <rdkit.Chem.rdchem.Mol at 0x7fea60bceb20>,\n",
       " <rdkit.Chem.rdchem.Mol at 0x7fea60bceb70>,\n",
       " <rdkit.Chem.rdchem.Mol at 0x7fea60bcebc0>,\n",
       " <rdkit.Chem.rdchem.Mol at 0x7fea60bcec10>,\n",
       " <rdkit.Chem.rdchem.Mol at 0x7fea60bced00>,\n",
       " <rdkit.Chem.rdchem.Mol at 0x7fea60bcecb0>,\n",
       " <rdkit.Chem.rdchem.Mol at 0x7fea60bcec60>,\n",
       " <rdkit.Chem.rdchem.Mol at 0x7fea60bced50>,\n",
       " <rdkit.Chem.rdchem.Mol at 0x7fea60bceda0>,\n",
       " <rdkit.Chem.rdchem.Mol at 0x7fea60bcedf0>,\n",
       " <rdkit.Chem.rdchem.Mol at 0x7fea60bcee40>,\n",
       " <rdkit.Chem.rdchem.Mol at 0x7fea60bcee90>,\n",
       " <rdkit.Chem.rdchem.Mol at 0x7fea60bceee0>,\n",
       " <rdkit.Chem.rdchem.Mol at 0x7fea60bcef30>,\n",
       " <rdkit.Chem.rdchem.Mol at 0x7fea60bcef80>,\n",
       " <rdkit.Chem.rdchem.Mol at 0x7fea60bcf0d0>,\n",
       " <rdkit.Chem.rdchem.Mol at 0x7fea60bcf080>,\n",
       " <rdkit.Chem.rdchem.Mol at 0x7fea60bcf030>,\n",
       " <rdkit.Chem.rdchem.Mol at 0x7fea60bcf120>,\n",
       " <rdkit.Chem.rdchem.Mol at 0x7fea60bcf170>,\n",
       " <rdkit.Chem.rdchem.Mol at 0x7fea60bcf1c0>,\n",
       " <rdkit.Chem.rdchem.Mol at 0x7fea60bcf210>,\n",
       " <rdkit.Chem.rdchem.Mol at 0x7fea60bcf260>,\n",
       " <rdkit.Chem.rdchem.Mol at 0x7fea60bcf2b0>,\n",
       " <rdkit.Chem.rdchem.Mol at 0x7fea60bcf300>,\n",
       " <rdkit.Chem.rdchem.Mol at 0x7fea60bcf350>,\n",
       " <rdkit.Chem.rdchem.Mol at 0x7fea60bcf3a0>,\n",
       " <rdkit.Chem.rdchem.Mol at 0x7fea60bcf3f0>,\n",
       " <rdkit.Chem.rdchem.Mol at 0x7fea60bcf440>,\n",
       " <rdkit.Chem.rdchem.Mol at 0x7fea60bcf490>,\n",
       " <rdkit.Chem.rdchem.Mol at 0x7fea60bcf4e0>,\n",
       " <rdkit.Chem.rdchem.Mol at 0x7fea60bcf530>,\n",
       " <rdkit.Chem.rdchem.Mol at 0x7fea60bcf580>,\n",
       " <rdkit.Chem.rdchem.Mol at 0x7fea60bcf620>,\n",
       " <rdkit.Chem.rdchem.Mol at 0x7fea60bcf5d0>,\n",
       " <rdkit.Chem.rdchem.Mol at 0x7fea60bcf710>,\n",
       " <rdkit.Chem.rdchem.Mol at 0x7fea60bcf6c0>,\n",
       " <rdkit.Chem.rdchem.Mol at 0x7fea60bcf670>,\n",
       " <rdkit.Chem.rdchem.Mol at 0x7fea60bcf760>,\n",
       " <rdkit.Chem.rdchem.Mol at 0x7fea60bcf7b0>,\n",
       " <rdkit.Chem.rdchem.Mol at 0x7fea60bcf800>,\n",
       " <rdkit.Chem.rdchem.Mol at 0x7fea60bcf850>,\n",
       " <rdkit.Chem.rdchem.Mol at 0x7fea60bcf8a0>,\n",
       " <rdkit.Chem.rdchem.Mol at 0x7fea60bcf8f0>,\n",
       " <rdkit.Chem.rdchem.Mol at 0x7fea60bcf940>,\n",
       " <rdkit.Chem.rdchem.Mol at 0x7fea60bcf990>,\n",
       " <rdkit.Chem.rdchem.Mol at 0x7fea60bcf9e0>,\n",
       " <rdkit.Chem.rdchem.Mol at 0x7fea60bcfa30>,\n",
       " <rdkit.Chem.rdchem.Mol at 0x7fea60bcfa80>,\n",
       " <rdkit.Chem.rdchem.Mol at 0x7fea60bcfad0>,\n",
       " <rdkit.Chem.rdchem.Mol at 0x7fea60bcfb20>,\n",
       " <rdkit.Chem.rdchem.Mol at 0x7fea60bcfb70>]"
      ]
     },
     "execution_count": 41,
     "metadata": {},
     "output_type": "execute_result"
    }
   ],
   "source": [
    "non_drugs"
   ]
  },
  {
   "cell_type": "code",
   "execution_count": 42,
   "id": "dbddeecf-0cfc-46e5-9586-720597d39d78",
   "metadata": {},
   "outputs": [
    {
     "data": {
      "text/plain": [
       "999"
      ]
     },
     "execution_count": 42,
     "metadata": {},
     "output_type": "execute_result"
    }
   ],
   "source": [
    "len(non_drugs)"
   ]
  },
  {
   "cell_type": "markdown",
   "id": "b5ed32cb-9641-4f86-a382-f1922ced7a07",
   "metadata": {},
   "source": [
    "* 1개의 변환 에러가 난 분자를 제외한 999개의 분자를 non_drugs 리스트에 저장. "
   ]
  },
  {
   "cell_type": "markdown",
   "id": "1ab12427-892b-42c1-b0ab-5b76aab4640d",
   "metadata": {},
   "source": [
    "## 2.분자로 부터 \n",
    "## 분자의 특성(feature)를 뽑아내 딕셔너리에 넣은 후\n",
    "## pandas DataFrame으로 변환하자!"
   ]
  },
  {
   "cell_type": "markdown",
   "id": "fd6dc241-89f5-4a10-8bd5-aaf9b60b7321",
   "metadata": {},
   "source": [
    "### ◎분자들의 물성(property)을 계산한 값을 넣은 딕셔너리를 생성!"
   ]
  },
  {
   "cell_type": "code",
   "execution_count": 43,
   "id": "8161475a-09d9-449f-8fc3-f7b989c833f4",
   "metadata": {},
   "outputs": [],
   "source": [
    "property = {\"MW\": [], \"HBA\": [], \"HBD\": [], \"logP\": [], \"is_drug\": 0} # 딕셔너리를 초기화. \n",
    "for mol in non_drugs:\n",
    "    mw = CalcExactMolWt(mol) # 분자량 계산\n",
    "    property[\"MW\"].append(mw)\n",
    "    \n",
    "    hba = CalcNumLipinskiHBA(mol) # Hbond acceptor 개수\n",
    "    property[\"HBA\"].append(hba)\n",
    "    \n",
    "    hbd = CalcNumLipinskiHBD(mol) # Hbond donor 개수\n",
    "    property[\"HBD\"].append(hbd)\n",
    "    \n",
    "    logp, mr = CalcCrippenDescriptors(mol) # logP 계산\n",
    "    property[\"logP\"].append(logp)\n",
    "    \n",
    "    #property[\"is_drug\"].append(0) # 1는 참 (True) 0은 False."
   ]
  },
  {
   "cell_type": "markdown",
   "id": "4be6e529-1d2f-458e-af72-34f97e4c2c14",
   "metadata": {},
   "source": [
    "### ◎딕셔너리 ---> Pandas의 DataFrame으로 변환! "
   ]
  },
  {
   "cell_type": "code",
   "execution_count": 44,
   "id": "6f84b7cb-52d8-44f5-9630-f61457c1b52b",
   "metadata": {},
   "outputs": [],
   "source": [
    "non_drug_df = pd.DataFrame(property)"
   ]
  },
  {
   "cell_type": "code",
   "execution_count": 45,
   "id": "453fb8f9-4ccc-40ba-8b75-e3a94b128fdc",
   "metadata": {},
   "outputs": [
    {
     "data": {
      "text/html": [
       "<div>\n",
       "<style scoped>\n",
       "    .dataframe tbody tr th:only-of-type {\n",
       "        vertical-align: middle;\n",
       "    }\n",
       "\n",
       "    .dataframe tbody tr th {\n",
       "        vertical-align: top;\n",
       "    }\n",
       "\n",
       "    .dataframe thead th {\n",
       "        text-align: right;\n",
       "    }\n",
       "</style>\n",
       "<table border=\"1\" class=\"dataframe\">\n",
       "  <thead>\n",
       "    <tr style=\"text-align: right;\">\n",
       "      <th></th>\n",
       "      <th>MW</th>\n",
       "      <th>HBA</th>\n",
       "      <th>HBD</th>\n",
       "      <th>logP</th>\n",
       "      <th>is_drug</th>\n",
       "    </tr>\n",
       "  </thead>\n",
       "  <tbody>\n",
       "    <tr>\n",
       "      <th>0</th>\n",
       "      <td>240.220164</td>\n",
       "      <td>3</td>\n",
       "      <td>1</td>\n",
       "      <td>1.87700</td>\n",
       "      <td>0</td>\n",
       "    </tr>\n",
       "    <tr>\n",
       "      <th>1</th>\n",
       "      <td>281.156183</td>\n",
       "      <td>4</td>\n",
       "      <td>2</td>\n",
       "      <td>2.59610</td>\n",
       "      <td>0</td>\n",
       "    </tr>\n",
       "    <tr>\n",
       "      <th>2</th>\n",
       "      <td>302.073452</td>\n",
       "      <td>4</td>\n",
       "      <td>2</td>\n",
       "      <td>3.52380</td>\n",
       "      <td>0</td>\n",
       "    </tr>\n",
       "    <tr>\n",
       "      <th>3</th>\n",
       "      <td>282.255880</td>\n",
       "      <td>2</td>\n",
       "      <td>0</td>\n",
       "      <td>5.66270</td>\n",
       "      <td>0</td>\n",
       "    </tr>\n",
       "    <tr>\n",
       "      <th>4</th>\n",
       "      <td>291.231063</td>\n",
       "      <td>4</td>\n",
       "      <td>1</td>\n",
       "      <td>2.20530</td>\n",
       "      <td>0</td>\n",
       "    </tr>\n",
       "    <tr>\n",
       "      <th>...</th>\n",
       "      <td>...</td>\n",
       "      <td>...</td>\n",
       "      <td>...</td>\n",
       "      <td>...</td>\n",
       "      <td>...</td>\n",
       "    </tr>\n",
       "    <tr>\n",
       "      <th>994</th>\n",
       "      <td>674.298346</td>\n",
       "      <td>11</td>\n",
       "      <td>6</td>\n",
       "      <td>5.12654</td>\n",
       "      <td>0</td>\n",
       "    </tr>\n",
       "    <tr>\n",
       "      <th>995</th>\n",
       "      <td>437.004489</td>\n",
       "      <td>7</td>\n",
       "      <td>2</td>\n",
       "      <td>4.10954</td>\n",
       "      <td>0</td>\n",
       "    </tr>\n",
       "    <tr>\n",
       "      <th>996</th>\n",
       "      <td>375.100414</td>\n",
       "      <td>5</td>\n",
       "      <td>1</td>\n",
       "      <td>3.70520</td>\n",
       "      <td>0</td>\n",
       "    </tr>\n",
       "    <tr>\n",
       "      <th>997</th>\n",
       "      <td>1250.664991</td>\n",
       "      <td>14</td>\n",
       "      <td>0</td>\n",
       "      <td>19.16620</td>\n",
       "      <td>0</td>\n",
       "    </tr>\n",
       "    <tr>\n",
       "      <th>998</th>\n",
       "      <td>518.221700</td>\n",
       "      <td>7</td>\n",
       "      <td>1</td>\n",
       "      <td>5.44250</td>\n",
       "      <td>0</td>\n",
       "    </tr>\n",
       "  </tbody>\n",
       "</table>\n",
       "<p>999 rows × 5 columns</p>\n",
       "</div>"
      ],
      "text/plain": [
       "              MW  HBA  HBD      logP  is_drug\n",
       "0     240.220164    3    1   1.87700        0\n",
       "1     281.156183    4    2   2.59610        0\n",
       "2     302.073452    4    2   3.52380        0\n",
       "3     282.255880    2    0   5.66270        0\n",
       "4     291.231063    4    1   2.20530        0\n",
       "..           ...  ...  ...       ...      ...\n",
       "994   674.298346   11    6   5.12654        0\n",
       "995   437.004489    7    2   4.10954        0\n",
       "996   375.100414    5    1   3.70520        0\n",
       "997  1250.664991   14    0  19.16620        0\n",
       "998   518.221700    7    1   5.44250        0\n",
       "\n",
       "[999 rows x 5 columns]"
      ]
     },
     "execution_count": 45,
     "metadata": {},
     "output_type": "execute_result"
    }
   ],
   "source": [
    "non_drug_df"
   ]
  },
  {
   "cell_type": "code",
   "execution_count": 47,
   "id": "3300455b-b8f1-4844-982d-9fb30800fc35",
   "metadata": {},
   "outputs": [
    {
     "data": {
      "text/html": [
       "<div>\n",
       "<style scoped>\n",
       "    .dataframe tbody tr th:only-of-type {\n",
       "        vertical-align: middle;\n",
       "    }\n",
       "\n",
       "    .dataframe tbody tr th {\n",
       "        vertical-align: top;\n",
       "    }\n",
       "\n",
       "    .dataframe thead th {\n",
       "        text-align: right;\n",
       "    }\n",
       "</style>\n",
       "<table border=\"1\" class=\"dataframe\">\n",
       "  <thead>\n",
       "    <tr style=\"text-align: right;\">\n",
       "      <th></th>\n",
       "      <th>MW</th>\n",
       "      <th>HBA</th>\n",
       "      <th>HBD</th>\n",
       "      <th>logP</th>\n",
       "      <th>is_drug</th>\n",
       "    </tr>\n",
       "  </thead>\n",
       "  <tbody>\n",
       "    <tr>\n",
       "      <th>count</th>\n",
       "      <td>999.000000</td>\n",
       "      <td>999.000000</td>\n",
       "      <td>999.000000</td>\n",
       "      <td>999.000000</td>\n",
       "      <td>999.0</td>\n",
       "    </tr>\n",
       "    <tr>\n",
       "      <th>mean</th>\n",
       "      <td>364.830076</td>\n",
       "      <td>5.250250</td>\n",
       "      <td>1.515516</td>\n",
       "      <td>3.291107</td>\n",
       "      <td>0.0</td>\n",
       "    </tr>\n",
       "    <tr>\n",
       "      <th>std</th>\n",
       "      <td>128.986654</td>\n",
       "      <td>2.649051</td>\n",
       "      <td>1.478473</td>\n",
       "      <td>2.063148</td>\n",
       "      <td>0.0</td>\n",
       "    </tr>\n",
       "    <tr>\n",
       "      <th>min</th>\n",
       "      <td>120.057515</td>\n",
       "      <td>0.000000</td>\n",
       "      <td>0.000000</td>\n",
       "      <td>-3.993900</td>\n",
       "      <td>0.0</td>\n",
       "    </tr>\n",
       "    <tr>\n",
       "      <th>25%</th>\n",
       "      <td>274.117944</td>\n",
       "      <td>4.000000</td>\n",
       "      <td>1.000000</td>\n",
       "      <td>2.147020</td>\n",
       "      <td>0.0</td>\n",
       "    </tr>\n",
       "    <tr>\n",
       "      <th>50%</th>\n",
       "      <td>341.967375</td>\n",
       "      <td>5.000000</td>\n",
       "      <td>1.000000</td>\n",
       "      <td>3.158000</td>\n",
       "      <td>0.0</td>\n",
       "    </tr>\n",
       "    <tr>\n",
       "      <th>75%</th>\n",
       "      <td>424.680837</td>\n",
       "      <td>7.000000</td>\n",
       "      <td>2.000000</td>\n",
       "      <td>4.334760</td>\n",
       "      <td>0.0</td>\n",
       "    </tr>\n",
       "    <tr>\n",
       "      <th>max</th>\n",
       "      <td>1250.664991</td>\n",
       "      <td>24.000000</td>\n",
       "      <td>16.000000</td>\n",
       "      <td>19.166200</td>\n",
       "      <td>0.0</td>\n",
       "    </tr>\n",
       "  </tbody>\n",
       "</table>\n",
       "</div>"
      ],
      "text/plain": [
       "                MW         HBA         HBD        logP  is_drug\n",
       "count   999.000000  999.000000  999.000000  999.000000    999.0\n",
       "mean    364.830076    5.250250    1.515516    3.291107      0.0\n",
       "std     128.986654    2.649051    1.478473    2.063148      0.0\n",
       "min     120.057515    0.000000    0.000000   -3.993900      0.0\n",
       "25%     274.117944    4.000000    1.000000    2.147020      0.0\n",
       "50%     341.967375    5.000000    1.000000    3.158000      0.0\n",
       "75%     424.680837    7.000000    2.000000    4.334760      0.0\n",
       "max    1250.664991   24.000000   16.000000   19.166200      0.0"
      ]
     },
     "execution_count": 47,
     "metadata": {},
     "output_type": "execute_result"
    }
   ],
   "source": [
    "non_drug_df.describe()"
   ]
  },
  {
   "cell_type": "markdown",
   "id": "f7176991-95a7-499f-92a0-b35322727be2",
   "metadata": {},
   "source": [
    "# [3] Trainig을 위해 약o, 약x 분자를 합쳐준다!"
   ]
  },
  {
   "cell_type": "markdown",
   "id": "a8a6a3bb-1f22-42b5-bf72-2aac76a1e67a",
   "metadata": {},
   "source": [
    "### 두개의 표(DataFrame)를 합치자!"
   ]
  },
  {
   "cell_type": "markdown",
   "id": "df82188d-2a31-4605-a0da-bfa6a418dfc2",
   "metadata": {},
   "source": [
    "* pd.concat함수를 사용.\n",
    "* concaternate 의 줄임말: (이어)붙이다 라는 뜻. "
   ]
  },
  {
   "cell_type": "code",
   "execution_count": 51,
   "id": "2c0c04fe-b941-4f95-bb13-3c92cb4e3a6f",
   "metadata": {},
   "outputs": [],
   "source": [
    "new_df = pd.concat([drug_df, non_drug_df])"
   ]
  },
  {
   "cell_type": "code",
   "execution_count": 52,
   "id": "08c37cc5-bc19-4cc5-82f9-158bc936d24b",
   "metadata": {},
   "outputs": [
    {
     "data": {
      "text/html": [
       "<div>\n",
       "<style scoped>\n",
       "    .dataframe tbody tr th:only-of-type {\n",
       "        vertical-align: middle;\n",
       "    }\n",
       "\n",
       "    .dataframe tbody tr th {\n",
       "        vertical-align: top;\n",
       "    }\n",
       "\n",
       "    .dataframe thead th {\n",
       "        text-align: right;\n",
       "    }\n",
       "</style>\n",
       "<table border=\"1\" class=\"dataframe\">\n",
       "  <thead>\n",
       "    <tr style=\"text-align: right;\">\n",
       "      <th></th>\n",
       "      <th>MW</th>\n",
       "      <th>HBA</th>\n",
       "      <th>HBD</th>\n",
       "      <th>logP</th>\n",
       "      <th>is_drug</th>\n",
       "    </tr>\n",
       "  </thead>\n",
       "  <tbody>\n",
       "    <tr>\n",
       "      <th>0</th>\n",
       "      <td>315.000724</td>\n",
       "      <td>4</td>\n",
       "      <td>1</td>\n",
       "      <td>2.63360</td>\n",
       "      <td>1</td>\n",
       "    </tr>\n",
       "    <tr>\n",
       "      <th>1</th>\n",
       "      <td>171.104799</td>\n",
       "      <td>1</td>\n",
       "      <td>1</td>\n",
       "      <td>1.89670</td>\n",
       "      <td>1</td>\n",
       "    </tr>\n",
       "    <tr>\n",
       "      <th>2</th>\n",
       "      <td>1343.587801</td>\n",
       "      <td>27</td>\n",
       "      <td>15</td>\n",
       "      <td>0.92454</td>\n",
       "      <td>1</td>\n",
       "    </tr>\n",
       "    <tr>\n",
       "      <th>3</th>\n",
       "      <td>211.110947</td>\n",
       "      <td>3</td>\n",
       "      <td>1</td>\n",
       "      <td>1.80390</td>\n",
       "      <td>1</td>\n",
       "    </tr>\n",
       "    <tr>\n",
       "      <th>4</th>\n",
       "      <td>204.072119</td>\n",
       "      <td>2</td>\n",
       "      <td>0</td>\n",
       "      <td>2.14610</td>\n",
       "      <td>1</td>\n",
       "    </tr>\n",
       "    <tr>\n",
       "      <th>...</th>\n",
       "      <td>...</td>\n",
       "      <td>...</td>\n",
       "      <td>...</td>\n",
       "      <td>...</td>\n",
       "      <td>...</td>\n",
       "    </tr>\n",
       "    <tr>\n",
       "      <th>994</th>\n",
       "      <td>674.298346</td>\n",
       "      <td>11</td>\n",
       "      <td>6</td>\n",
       "      <td>5.12654</td>\n",
       "      <td>0</td>\n",
       "    </tr>\n",
       "    <tr>\n",
       "      <th>995</th>\n",
       "      <td>437.004489</td>\n",
       "      <td>7</td>\n",
       "      <td>2</td>\n",
       "      <td>4.10954</td>\n",
       "      <td>0</td>\n",
       "    </tr>\n",
       "    <tr>\n",
       "      <th>996</th>\n",
       "      <td>375.100414</td>\n",
       "      <td>5</td>\n",
       "      <td>1</td>\n",
       "      <td>3.70520</td>\n",
       "      <td>0</td>\n",
       "    </tr>\n",
       "    <tr>\n",
       "      <th>997</th>\n",
       "      <td>1250.664991</td>\n",
       "      <td>14</td>\n",
       "      <td>0</td>\n",
       "      <td>19.16620</td>\n",
       "      <td>0</td>\n",
       "    </tr>\n",
       "    <tr>\n",
       "      <th>998</th>\n",
       "      <td>518.221700</td>\n",
       "      <td>7</td>\n",
       "      <td>1</td>\n",
       "      <td>5.44250</td>\n",
       "      <td>0</td>\n",
       "    </tr>\n",
       "  </tbody>\n",
       "</table>\n",
       "<p>1599 rows × 5 columns</p>\n",
       "</div>"
      ],
      "text/plain": [
       "              MW  HBA  HBD      logP  is_drug\n",
       "0     315.000724    4    1   2.63360        1\n",
       "1     171.104799    1    1   1.89670        1\n",
       "2    1343.587801   27   15   0.92454        1\n",
       "3     211.110947    3    1   1.80390        1\n",
       "4     204.072119    2    0   2.14610        1\n",
       "..           ...  ...  ...       ...      ...\n",
       "994   674.298346   11    6   5.12654        0\n",
       "995   437.004489    7    2   4.10954        0\n",
       "996   375.100414    5    1   3.70520        0\n",
       "997  1250.664991   14    0  19.16620        0\n",
       "998   518.221700    7    1   5.44250        0\n",
       "\n",
       "[1599 rows x 5 columns]"
      ]
     },
     "execution_count": 52,
     "metadata": {},
     "output_type": "execute_result"
    }
   ],
   "source": [
    "new_df                #두표를 그냥 이어 붙인 것이라 index는 0~599 0~998로 되어있음."
   ]
  },
  {
   "cell_type": "markdown",
   "id": "8a217d5c-2115-46a2-97ce-a6cb5e08c452",
   "metadata": {},
   "source": [
    "## 이제 전체 데이터셋 준비가 끝났다!"
   ]
  },
  {
   "cell_type": "markdown",
   "id": "669c6ab6-2c8c-46d2-af08-d3ea6ee72448",
   "metadata": {},
   "source": [
    "------------------\n",
    "### ★ Maching Learning 기본 순서 ★\n",
    "1. 전체 dataset을 불러옴 (데이터를 모음)\n",
    "2. **traing set / test set으로 나눔**\n",
    "3. 빈 모델을 만듦 sklearn.tree.DecisionTreeClassifier()  \n",
    "4. 빈 모델에 traing set을 넣어 모델을 학습시킴 .fit()  \n",
    "5. 학습된 모델에 test set을 넣어 예측시켜봄 .predict()\n",
    "6. 잘 풀었나 채점해봄 .precision_score() .recall_score() . f1_score()\n",
    "------------"
   ]
  },
  {
   "cell_type": "markdown",
   "id": "5a8e1249-157e-44ec-832d-0bf1fa22830c",
   "metadata": {},
   "source": [
    "# 이제 모델 학습을 시키자. \n",
    "* 먼저, 트레이닝 셋과 테스트 셋이 필요하다. "
   ]
  },
  {
   "cell_type": "markdown",
   "id": "3d45b1b6-1202-41a6-a975-1d049cd53312",
   "metadata": {},
   "source": [
    "* 입력을 넣어줄 값(feature,input, X)과 예측하고자 하는 목적 값(objective, output, y)을 정의해줘야 한다.  \n",
    "함수에서 y=f(X)"
   ]
  },
  {
   "cell_type": "markdown",
   "id": "01876443-0f4c-4583-a1b7-25931facad27",
   "metadata": {},
   "source": [
    "### ◎ X (feature), y (output) 를 정의하자"
   ]
  },
  {
   "cell_type": "code",
   "execution_count": 4,
   "id": "6d9bc5eb-c092-40a6-ba51-dd550a5e5793",
   "metadata": {
    "collapsed": true,
    "jupyter": {
     "outputs_hidden": true
    },
    "tags": []
   },
   "outputs": [
    {
     "ename": "NameError",
     "evalue": "name 'new_df' is not defined",
     "output_type": "error",
     "traceback": [
      "\u001b[1;31m---------------------------------------------------------------------------\u001b[0m",
      "\u001b[1;31mNameError\u001b[0m                                 Traceback (most recent call last)",
      "\u001b[1;32m<ipython-input-4-95bb71f346fa>\u001b[0m in \u001b[0;36m<module>\u001b[1;34m\u001b[0m\n\u001b[1;32m----> 1\u001b[1;33m \u001b[0mX\u001b[0m \u001b[1;33m=\u001b[0m \u001b[0mnew_df\u001b[0m\u001b[1;33m.\u001b[0m\u001b[0miloc\u001b[0m\u001b[1;33m[\u001b[0m\u001b[1;33m:\u001b[0m\u001b[1;33m,\u001b[0m \u001b[1;33m:\u001b[0m\u001b[1;33m-\u001b[0m\u001b[1;36m1\u001b[0m\u001b[1;33m]\u001b[0m \u001b[1;31m# 전체행 이면서 마지막 열 직전까지가 특성, feature임.  (index는 열에 포함x)\u001b[0m\u001b[1;33m\u001b[0m\u001b[1;33m\u001b[0m\u001b[0m\n\u001b[0m",
      "\u001b[1;31mNameError\u001b[0m: name 'new_df' is not defined"
     ]
    }
   ],
   "source": [
    "X = new_df.iloc[:, :-1] # feature: 전체행 이면서 마지막 열 직전까지가 특성.  (index는 열에 포함x)"
   ]
  },
  {
   "cell_type": "code",
   "execution_count": 55,
   "id": "eb568be4-32dc-403e-8b7d-1d71290321cb",
   "metadata": {},
   "outputs": [
    {
     "data": {
      "text/html": [
       "<div>\n",
       "<style scoped>\n",
       "    .dataframe tbody tr th:only-of-type {\n",
       "        vertical-align: middle;\n",
       "    }\n",
       "\n",
       "    .dataframe tbody tr th {\n",
       "        vertical-align: top;\n",
       "    }\n",
       "\n",
       "    .dataframe thead th {\n",
       "        text-align: right;\n",
       "    }\n",
       "</style>\n",
       "<table border=\"1\" class=\"dataframe\">\n",
       "  <thead>\n",
       "    <tr style=\"text-align: right;\">\n",
       "      <th></th>\n",
       "      <th>MW</th>\n",
       "      <th>HBA</th>\n",
       "      <th>HBD</th>\n",
       "      <th>logP</th>\n",
       "    </tr>\n",
       "  </thead>\n",
       "  <tbody>\n",
       "    <tr>\n",
       "      <th>0</th>\n",
       "      <td>315.000724</td>\n",
       "      <td>4</td>\n",
       "      <td>1</td>\n",
       "      <td>2.63360</td>\n",
       "    </tr>\n",
       "    <tr>\n",
       "      <th>1</th>\n",
       "      <td>171.104799</td>\n",
       "      <td>1</td>\n",
       "      <td>1</td>\n",
       "      <td>1.89670</td>\n",
       "    </tr>\n",
       "    <tr>\n",
       "      <th>2</th>\n",
       "      <td>1343.587801</td>\n",
       "      <td>27</td>\n",
       "      <td>15</td>\n",
       "      <td>0.92454</td>\n",
       "    </tr>\n",
       "    <tr>\n",
       "      <th>3</th>\n",
       "      <td>211.110947</td>\n",
       "      <td>3</td>\n",
       "      <td>1</td>\n",
       "      <td>1.80390</td>\n",
       "    </tr>\n",
       "    <tr>\n",
       "      <th>4</th>\n",
       "      <td>204.072119</td>\n",
       "      <td>2</td>\n",
       "      <td>0</td>\n",
       "      <td>2.14610</td>\n",
       "    </tr>\n",
       "    <tr>\n",
       "      <th>...</th>\n",
       "      <td>...</td>\n",
       "      <td>...</td>\n",
       "      <td>...</td>\n",
       "      <td>...</td>\n",
       "    </tr>\n",
       "    <tr>\n",
       "      <th>994</th>\n",
       "      <td>674.298346</td>\n",
       "      <td>11</td>\n",
       "      <td>6</td>\n",
       "      <td>5.12654</td>\n",
       "    </tr>\n",
       "    <tr>\n",
       "      <th>995</th>\n",
       "      <td>437.004489</td>\n",
       "      <td>7</td>\n",
       "      <td>2</td>\n",
       "      <td>4.10954</td>\n",
       "    </tr>\n",
       "    <tr>\n",
       "      <th>996</th>\n",
       "      <td>375.100414</td>\n",
       "      <td>5</td>\n",
       "      <td>1</td>\n",
       "      <td>3.70520</td>\n",
       "    </tr>\n",
       "    <tr>\n",
       "      <th>997</th>\n",
       "      <td>1250.664991</td>\n",
       "      <td>14</td>\n",
       "      <td>0</td>\n",
       "      <td>19.16620</td>\n",
       "    </tr>\n",
       "    <tr>\n",
       "      <th>998</th>\n",
       "      <td>518.221700</td>\n",
       "      <td>7</td>\n",
       "      <td>1</td>\n",
       "      <td>5.44250</td>\n",
       "    </tr>\n",
       "  </tbody>\n",
       "</table>\n",
       "<p>1599 rows × 4 columns</p>\n",
       "</div>"
      ],
      "text/plain": [
       "              MW  HBA  HBD      logP\n",
       "0     315.000724    4    1   2.63360\n",
       "1     171.104799    1    1   1.89670\n",
       "2    1343.587801   27   15   0.92454\n",
       "3     211.110947    3    1   1.80390\n",
       "4     204.072119    2    0   2.14610\n",
       "..           ...  ...  ...       ...\n",
       "994   674.298346   11    6   5.12654\n",
       "995   437.004489    7    2   4.10954\n",
       "996   375.100414    5    1   3.70520\n",
       "997  1250.664991   14    0  19.16620\n",
       "998   518.221700    7    1   5.44250\n",
       "\n",
       "[1599 rows x 4 columns]"
      ]
     },
     "execution_count": 55,
     "metadata": {},
     "output_type": "execute_result"
    }
   ],
   "source": [
    "X"
   ]
  },
  {
   "cell_type": "code",
   "execution_count": 56,
   "id": "733fd307-e813-4537-96a6-644c0157fa9c",
   "metadata": {},
   "outputs": [],
   "source": [
    "y = new_df.iloc[:, -1]  # 예측하고자 하는 값.  전체행이면서 마지막 열(-1)"
   ]
  },
  {
   "cell_type": "code",
   "execution_count": 57,
   "id": "69327060-0970-45a8-afdb-8b1b7e62db9d",
   "metadata": {},
   "outputs": [
    {
     "data": {
      "text/plain": [
       "0      1\n",
       "1      1\n",
       "2      1\n",
       "3      1\n",
       "4      1\n",
       "      ..\n",
       "994    0\n",
       "995    0\n",
       "996    0\n",
       "997    0\n",
       "998    0\n",
       "Name: is_drug, Length: 1599, dtype: int64"
      ]
     },
     "execution_count": 57,
     "metadata": {},
     "output_type": "execute_result"
    }
   ],
   "source": [
    "y"
   ]
  },
  {
   "cell_type": "markdown",
   "id": "4fe793f8-aece-45ae-87a4-9e33b66f1a86",
   "metadata": {},
   "source": [
    "### ◎ training set과 test set을 분리하자!\n",
    "* sklearn.model_selection.**train_test_split** 이라는 함수를 이용!\n",
    "* https://scikit-learn.org/stable/modules/generated/sklearn.model_selection.train_test_split.html\n",
    "* example: **X_train, X_test, y_train, y_test** = train_test_split(**X, y,** test_size=0.33, random_state=42)\n"
   ]
  },
  {
   "cell_type": "code",
   "execution_count": 58,
   "id": "fed55c91-0153-4e92-955c-8b0afecfd808",
   "metadata": {},
   "outputs": [],
   "source": [
    "import sklearn.model_selection"
   ]
  },
  {
   "cell_type": "code",
   "execution_count": 59,
   "id": "24434a5e-1591-40bf-a08b-2d1ebb48fe46",
   "metadata": {},
   "outputs": [],
   "source": [
    "X_train, X_test, y_train, y_test = sklearn.model_selection.train_test_split(X, y, test_size=0.2, random_state=42)"
   ]
  },
  {
   "cell_type": "code",
   "execution_count": 60,
   "id": "9e5e8cb7-2268-4df3-8ee5-6ff35a3b05c3",
   "metadata": {},
   "outputs": [
    {
     "data": {
      "text/html": [
       "<div>\n",
       "<style scoped>\n",
       "    .dataframe tbody tr th:only-of-type {\n",
       "        vertical-align: middle;\n",
       "    }\n",
       "\n",
       "    .dataframe tbody tr th {\n",
       "        vertical-align: top;\n",
       "    }\n",
       "\n",
       "    .dataframe thead th {\n",
       "        text-align: right;\n",
       "    }\n",
       "</style>\n",
       "<table border=\"1\" class=\"dataframe\">\n",
       "  <thead>\n",
       "    <tr style=\"text-align: right;\">\n",
       "      <th></th>\n",
       "      <th>MW</th>\n",
       "      <th>HBA</th>\n",
       "      <th>HBD</th>\n",
       "      <th>logP</th>\n",
       "    </tr>\n",
       "  </thead>\n",
       "  <tbody>\n",
       "    <tr>\n",
       "      <th>493</th>\n",
       "      <td>305.073805</td>\n",
       "      <td>1</td>\n",
       "      <td>1</td>\n",
       "      <td>5.17960</td>\n",
       "    </tr>\n",
       "    <tr>\n",
       "      <th>354</th>\n",
       "      <td>208.121178</td>\n",
       "      <td>4</td>\n",
       "      <td>0</td>\n",
       "      <td>1.16180</td>\n",
       "    </tr>\n",
       "    <tr>\n",
       "      <th>342</th>\n",
       "      <td>247.062677</td>\n",
       "      <td>7</td>\n",
       "      <td>0</td>\n",
       "      <td>0.53442</td>\n",
       "    </tr>\n",
       "    <tr>\n",
       "      <th>234</th>\n",
       "      <td>182.087769</td>\n",
       "      <td>2</td>\n",
       "      <td>1</td>\n",
       "      <td>2.13759</td>\n",
       "    </tr>\n",
       "    <tr>\n",
       "      <th>105</th>\n",
       "      <td>243.121906</td>\n",
       "      <td>7</td>\n",
       "      <td>3</td>\n",
       "      <td>-1.60240</td>\n",
       "    </tr>\n",
       "    <tr>\n",
       "      <th>...</th>\n",
       "      <td>...</td>\n",
       "      <td>...</td>\n",
       "      <td>...</td>\n",
       "      <td>...</td>\n",
       "    </tr>\n",
       "    <tr>\n",
       "      <th>530</th>\n",
       "      <td>227.040485</td>\n",
       "      <td>2</td>\n",
       "      <td>0</td>\n",
       "      <td>4.07010</td>\n",
       "    </tr>\n",
       "    <tr>\n",
       "      <th>694</th>\n",
       "      <td>449.117411</td>\n",
       "      <td>6</td>\n",
       "      <td>2</td>\n",
       "      <td>4.06930</td>\n",
       "    </tr>\n",
       "    <tr>\n",
       "      <th>260</th>\n",
       "      <td>351.158292</td>\n",
       "      <td>6</td>\n",
       "      <td>0</td>\n",
       "      <td>3.07648</td>\n",
       "    </tr>\n",
       "    <tr>\n",
       "      <th>859</th>\n",
       "      <td>422.151158</td>\n",
       "      <td>8</td>\n",
       "      <td>2</td>\n",
       "      <td>3.04150</td>\n",
       "    </tr>\n",
       "    <tr>\n",
       "      <th>526</th>\n",
       "      <td>216.099774</td>\n",
       "      <td>5</td>\n",
       "      <td>1</td>\n",
       "      <td>0.57720</td>\n",
       "    </tr>\n",
       "  </tbody>\n",
       "</table>\n",
       "<p>1279 rows × 4 columns</p>\n",
       "</div>"
      ],
      "text/plain": [
       "             MW  HBA  HBD     logP\n",
       "493  305.073805    1    1  5.17960\n",
       "354  208.121178    4    0  1.16180\n",
       "342  247.062677    7    0  0.53442\n",
       "234  182.087769    2    1  2.13759\n",
       "105  243.121906    7    3 -1.60240\n",
       "..          ...  ...  ...      ...\n",
       "530  227.040485    2    0  4.07010\n",
       "694  449.117411    6    2  4.06930\n",
       "260  351.158292    6    0  3.07648\n",
       "859  422.151158    8    2  3.04150\n",
       "526  216.099774    5    1  0.57720\n",
       "\n",
       "[1279 rows x 4 columns]"
      ]
     },
     "execution_count": 60,
     "metadata": {},
     "output_type": "execute_result"
    }
   ],
   "source": [
    "X_train"
   ]
  },
  {
   "cell_type": "markdown",
   "id": "e036d274-82dc-46bf-a526-48f0c43f7385",
   "metadata": {},
   "source": [
    "- ↑ 80%(1279개)가 training set (연습문제) 로 뽑혔다."
   ]
  },
  {
   "cell_type": "code",
   "execution_count": 61,
   "id": "fe4011d2-22d9-40a3-b890-4e498e911132",
   "metadata": {},
   "outputs": [
    {
     "data": {
      "text/plain": [
       "493    1\n",
       "354    1\n",
       "342    1\n",
       "234    0\n",
       "105    0\n",
       "      ..\n",
       "530    0\n",
       "694    0\n",
       "260    0\n",
       "859    0\n",
       "526    0\n",
       "Name: is_drug, Length: 1279, dtype: int64"
      ]
     },
     "execution_count": 61,
     "metadata": {},
     "output_type": "execute_result"
    }
   ],
   "source": [
    "y_train"
   ]
  },
  {
   "cell_type": "markdown",
   "id": "3f1d9f46-c833-4235-8d26-36d5507b0a69",
   "metadata": {},
   "source": [
    "- ↑ 연습문제에 해당하는 정답(output) 도 뽑혔다. "
   ]
  },
  {
   "cell_type": "code",
   "execution_count": 62,
   "id": "d550de69-0b72-495d-90c8-86a7e1965f3e",
   "metadata": {},
   "outputs": [
    {
     "data": {
      "text/html": [
       "<div>\n",
       "<style scoped>\n",
       "    .dataframe tbody tr th:only-of-type {\n",
       "        vertical-align: middle;\n",
       "    }\n",
       "\n",
       "    .dataframe tbody tr th {\n",
       "        vertical-align: top;\n",
       "    }\n",
       "\n",
       "    .dataframe thead th {\n",
       "        text-align: right;\n",
       "    }\n",
       "</style>\n",
       "<table border=\"1\" class=\"dataframe\">\n",
       "  <thead>\n",
       "    <tr style=\"text-align: right;\">\n",
       "      <th></th>\n",
       "      <th>MW</th>\n",
       "      <th>HBA</th>\n",
       "      <th>HBD</th>\n",
       "      <th>logP</th>\n",
       "    </tr>\n",
       "  </thead>\n",
       "  <tbody>\n",
       "    <tr>\n",
       "      <th>203</th>\n",
       "      <td>338.016057</td>\n",
       "      <td>8</td>\n",
       "      <td>5</td>\n",
       "      <td>-0.12410</td>\n",
       "    </tr>\n",
       "    <tr>\n",
       "      <th>124</th>\n",
       "      <td>430.061041</td>\n",
       "      <td>6</td>\n",
       "      <td>2</td>\n",
       "      <td>2.87958</td>\n",
       "    </tr>\n",
       "    <tr>\n",
       "      <th>350</th>\n",
       "      <td>170.105528</td>\n",
       "      <td>4</td>\n",
       "      <td>2</td>\n",
       "      <td>-0.12730</td>\n",
       "    </tr>\n",
       "    <tr>\n",
       "      <th>82</th>\n",
       "      <td>236.928676</td>\n",
       "      <td>3</td>\n",
       "      <td>0</td>\n",
       "      <td>1.44860</td>\n",
       "    </tr>\n",
       "    <tr>\n",
       "      <th>726</th>\n",
       "      <td>453.196459</td>\n",
       "      <td>6</td>\n",
       "      <td>2</td>\n",
       "      <td>1.36610</td>\n",
       "    </tr>\n",
       "    <tr>\n",
       "      <th>...</th>\n",
       "      <td>...</td>\n",
       "      <td>...</td>\n",
       "      <td>...</td>\n",
       "      <td>...</td>\n",
       "    </tr>\n",
       "    <tr>\n",
       "      <th>659</th>\n",
       "      <td>207.071785</td>\n",
       "      <td>2</td>\n",
       "      <td>1</td>\n",
       "      <td>2.77300</td>\n",
       "    </tr>\n",
       "    <tr>\n",
       "      <th>695</th>\n",
       "      <td>224.096106</td>\n",
       "      <td>4</td>\n",
       "      <td>2</td>\n",
       "      <td>1.23960</td>\n",
       "    </tr>\n",
       "    <tr>\n",
       "      <th>555</th>\n",
       "      <td>315.183444</td>\n",
       "      <td>4</td>\n",
       "      <td>2</td>\n",
       "      <td>3.33830</td>\n",
       "    </tr>\n",
       "    <tr>\n",
       "      <th>363</th>\n",
       "      <td>435.005545</td>\n",
       "      <td>4</td>\n",
       "      <td>1</td>\n",
       "      <td>4.02260</td>\n",
       "    </tr>\n",
       "    <tr>\n",
       "      <th>104</th>\n",
       "      <td>255.129300</td>\n",
       "      <td>3</td>\n",
       "      <td>1</td>\n",
       "      <td>2.68630</td>\n",
       "    </tr>\n",
       "  </tbody>\n",
       "</table>\n",
       "<p>320 rows × 4 columns</p>\n",
       "</div>"
      ],
      "text/plain": [
       "             MW  HBA  HBD     logP\n",
       "203  338.016057    8    5 -0.12410\n",
       "124  430.061041    6    2  2.87958\n",
       "350  170.105528    4    2 -0.12730\n",
       "82   236.928676    3    0  1.44860\n",
       "726  453.196459    6    2  1.36610\n",
       "..          ...  ...  ...      ...\n",
       "659  207.071785    2    1  2.77300\n",
       "695  224.096106    4    2  1.23960\n",
       "555  315.183444    4    2  3.33830\n",
       "363  435.005545    4    1  4.02260\n",
       "104  255.129300    3    1  2.68630\n",
       "\n",
       "[320 rows x 4 columns]"
      ]
     },
     "execution_count": 62,
     "metadata": {},
     "output_type": "execute_result"
    }
   ],
   "source": [
    "X_test"
   ]
  },
  {
   "cell_type": "code",
   "execution_count": 63,
   "id": "3a82d45e-2d44-461e-8347-6edcf24a3a58",
   "metadata": {},
   "outputs": [
    {
     "data": {
      "text/plain": [
       "203    0\n",
       "124    1\n",
       "350    1\n",
       "82     0\n",
       "726    0\n",
       "      ..\n",
       "659    0\n",
       "695    0\n",
       "555    0\n",
       "363    0\n",
       "104    0\n",
       "Name: is_drug, Length: 320, dtype: int64"
      ]
     },
     "execution_count": 63,
     "metadata": {},
     "output_type": "execute_result"
    }
   ],
   "source": [
    "y_test"
   ]
  },
  {
   "cell_type": "markdown",
   "id": "44490dfe-ab52-46ac-933c-a3496278f2be",
   "metadata": {},
   "source": [
    "## 여기까지가 데이터 준비"
   ]
  },
  {
   "cell_type": "markdown",
   "id": "16cb91e5-d065-44e5-b7e6-768acdf84703",
   "metadata": {},
   "source": [
    "------------------\n",
    "### ★ Maching Learning 기본 순서 ★\n",
    "1. 전체 dataset을 불러옴 (데이터를 모음)\n",
    "2. traing set / test set으로 나눔\n",
    "3. **빈 모델을 만듦** RandomForestClassifier()  \n",
    "4. **빈 모델에 traing set을 넣어 모델을 학습시킴** .fit()  \n",
    "5. **학습된 모델에 test set을 넣어 예측시켜봄** .predict()\n",
    "6. 잘 풀었나 채점해봄 .precision_score() .recall_score() . f1_score()\n",
    "------------"
   ]
  },
  {
   "cell_type": "markdown",
   "id": "6ce5484b-e3b2-4ae9-8c41-bc63bc716676",
   "metadata": {},
   "source": [
    "# 여기부터 진짜 학습. "
   ]
  },
  {
   "cell_type": "markdown",
   "id": "daaf202c-c632-493a-b5ed-6e04e00d6e7a",
   "metadata": {},
   "source": [
    "## RandomForest 라는 모델을 사용해보자!\n",
    "* https://scikit-learn.org/stable/modules/generated/sklearn.ensemble.RandomForestClassifier.html"
   ]
  },
  {
   "cell_type": "code",
   "execution_count": 64,
   "id": "83892c90-79c2-4c9a-bd92-2f02e15e217c",
   "metadata": {},
   "outputs": [],
   "source": [
    "from sklearn.ensemble import RandomForestClassifier"
   ]
  },
  {
   "cell_type": "markdown",
   "id": "9f8b17cb-4bc6-4ec5-95c0-d93ebe7f25aa",
   "metadata": {},
   "source": [
    "### ◎ 빈 모델, 초기 모델을 하나 정의하자! **.RandomForestClassifier()**"
   ]
  },
  {
   "cell_type": "code",
   "execution_count": 78,
   "id": "b0cd10e2-bf31-49c4-a9d8-0c96af073e8b",
   "metadata": {},
   "outputs": [],
   "source": [
    "my_model = RandomForestClassifier() # default parameter를 사용해서 모델을 생성. "
   ]
  },
  {
   "cell_type": "markdown",
   "id": "79e90e99-688e-40c7-80fd-8bc4ea8a11a3",
   "metadata": {},
   "source": [
    "### ◎ 나의 모델을 학습시키자! **.fit()**\n",
    "* sklearn 안의 모든 모델들은 fit() 메소드로 학습(training!)\n",
    "* **X_train (문제), y_train (정답)** 을 넣어줌!\n",
    "* training 이므로 변수 지정 없이 돌려주기만 하면됨."
   ]
  },
  {
   "cell_type": "code",
   "execution_count": 66,
   "id": "6f2a625f-393f-44d1-8c60-b0af52c182cf",
   "metadata": {},
   "outputs": [
    {
     "data": {
      "text/plain": [
       "RandomForestClassifier(bootstrap=True, ccp_alpha=0.0, class_weight=None,\n",
       "                       criterion='gini', max_depth=None, max_features='auto',\n",
       "                       max_leaf_nodes=None, max_samples=None,\n",
       "                       min_impurity_decrease=0.0, min_impurity_split=None,\n",
       "                       min_samples_leaf=1, min_samples_split=2,\n",
       "                       min_weight_fraction_leaf=0.0, n_estimators=100,\n",
       "                       n_jobs=None, oob_score=False, random_state=None,\n",
       "                       verbose=0, warm_start=False)"
      ]
     },
     "execution_count": 66,
     "metadata": {},
     "output_type": "execute_result"
    }
   ],
   "source": [
    "my_model.fit(X_train, y_train) # X_train: 문제, y_train: 정답 을 넣어줌."
   ]
  },
  {
   "cell_type": "markdown",
   "id": "1c3e2cdc-7831-4c33-a165-e2f3d26d637b",
   "metadata": {},
   "source": [
    "* 학습이 끝났다!"
   ]
  },
  {
   "cell_type": "markdown",
   "id": "054ffa9f-a1c1-4ad8-bfbd-8e062c851fa8",
   "metadata": {},
   "source": [
    "### ◎ 예측(시험)을 시켜보자! **.predict()**\n",
    "* sklearn에서 항상 예측을 시킬 때는 predict 메소드를 쓴다!\n",
    "* ※주의※ **X_test(문제)** 만 input으로 줌! - 시험보는데 정답을 주면 안되지!\n",
    "* 시험 문제 푼 결과를 받아야 하기 때문에 **y_pred(예측값:제출 답안지)** 로 지정해 줘야함."
   ]
  },
  {
   "cell_type": "code",
   "execution_count": 67,
   "id": "07356a57-f46b-49d4-b19e-56549e372042",
   "metadata": {},
   "outputs": [],
   "source": [
    "y_pred = my_model.predict(X_test) # X_test만 input으로 준다!"
   ]
  },
  {
   "cell_type": "code",
   "execution_count": 68,
   "id": "6cbb0ac2-878c-4586-bb19-a8b657b2ee35",
   "metadata": {},
   "outputs": [
    {
     "data": {
      "text/plain": [
       "array([0, 0, 1, 0, 0, 0, 1, 0, 1, 0, 1, 0, 0, 0, 1, 1, 0, 0, 0, 0, 1, 1,\n",
       "       0, 0, 0, 0, 0, 0, 0, 1, 0, 0, 0, 0, 0, 1, 0, 1, 0, 1, 0, 1, 0, 0,\n",
       "       1, 1, 0, 1, 1, 0, 0, 1, 0, 0, 0, 0, 0, 0, 0, 1, 0, 0, 0, 0, 1, 1,\n",
       "       0, 0, 0, 0, 0, 0, 1, 1, 0, 1, 0, 0, 0, 1, 0, 0, 0, 0, 1, 0, 0, 0,\n",
       "       0, 0, 1, 0, 0, 1, 0, 0, 0, 0, 1, 0, 0, 0, 1, 0, 0, 0, 0, 0, 1, 0,\n",
       "       0, 0, 0, 1, 1, 0, 0, 0, 1, 0, 0, 0, 1, 1, 1, 1, 0, 1, 0, 1, 0, 0,\n",
       "       0, 0, 0, 0, 0, 0, 0, 0, 0, 0, 0, 1, 0, 1, 1, 0, 1, 0, 0, 0, 0, 0,\n",
       "       1, 0, 0, 0, 0, 0, 1, 0, 0, 1, 0, 0, 0, 0, 0, 0, 0, 0, 1, 0, 0, 1,\n",
       "       0, 0, 0, 1, 0, 0, 0, 1, 1, 1, 0, 1, 1, 0, 0, 0, 0, 0, 1, 0, 0, 0,\n",
       "       0, 1, 0, 0, 0, 1, 0, 0, 0, 0, 1, 1, 0, 0, 1, 0, 1, 0, 0, 0, 0, 1,\n",
       "       0, 0, 0, 0, 1, 0, 0, 0, 0, 1, 1, 0, 0, 0, 0, 0, 0, 0, 0, 0, 1, 1,\n",
       "       0, 0, 1, 1, 1, 0, 1, 0, 0, 0, 0, 0, 0, 0, 0, 1, 0, 1, 1, 0, 0, 0,\n",
       "       1, 0, 0, 0, 0, 0, 0, 1, 0, 0, 0, 0, 0, 1, 1, 1, 0, 1, 1, 0, 1, 1,\n",
       "       0, 1, 0, 0, 0, 1, 0, 0, 0, 1, 0, 0, 0, 0, 0, 0, 0, 1, 0, 1, 0, 0,\n",
       "       1, 0, 0, 0, 0, 0, 1, 0, 0, 1, 0, 0])"
      ]
     },
     "execution_count": 68,
     "metadata": {},
     "output_type": "execute_result"
    }
   ],
   "source": [
    "y_pred"
   ]
  },
  {
   "cell_type": "code",
   "execution_count": 69,
   "id": "993f7729-2e1a-480a-b7ca-5bdbf57415ba",
   "metadata": {
    "tags": []
   },
   "outputs": [
    {
     "data": {
      "text/plain": [
       "320"
      ]
     },
     "execution_count": 69,
     "metadata": {},
     "output_type": "execute_result"
    }
   ],
   "source": [
    "len(y_pred)"
   ]
  },
  {
   "cell_type": "markdown",
   "id": "62bbc060-c220-4eea-81ba-9b277b5c0daa",
   "metadata": {},
   "source": [
    "------------------\n",
    "### ★ Maching Learning 기본 순서 ★\n",
    "1. 전체 dataset을 불러옴 (데이터를 모음)\n",
    "2. traing set / test set으로 나눔\n",
    "3. 빈 모델을 만듦 RandomForestClassifier()  \n",
    "4. 빈 모델에 traing set을 넣어 모델을 학습시킴 .fit()  \n",
    "5. 학습된 모델에 test set을 넣어 예측시켜봄 .predict()\n",
    "6. **잘 풀었나 채점해봄** .precision_score() .recall_score() . f1_score()\n",
    "------------"
   ]
  },
  {
   "cell_type": "markdown",
   "id": "c2536f3a-39f0-477f-86f2-773ac6f628a3",
   "metadata": {},
   "source": [
    "### ◎ 채점을 해보자! **precision_score(), recall_score(), f1_score()**\n",
    "* sklearn.metrics안에 있는 precision_score, recall_score, f1_score를 이용하자!\n",
    "* **y_test(정답), y_pred(예측값:제출 답안지)** 을 넣어줌."
   ]
  },
  {
   "cell_type": "code",
   "execution_count": 72,
   "id": "d8445f9e-19d8-43dc-8d48-5b89e7ac85d2",
   "metadata": {},
   "outputs": [],
   "source": [
    "from sklearn.metrics import precision_score, recall_score, f1_score"
   ]
  },
  {
   "cell_type": "code",
   "execution_count": 73,
   "id": "248840eb-3a11-4732-be7e-351ddb160f6d",
   "metadata": {},
   "outputs": [
    {
     "data": {
      "text/plain": [
       "0.5760869565217391"
      ]
     },
     "execution_count": 73,
     "metadata": {},
     "output_type": "execute_result"
    }
   ],
   "source": [
    "precision_score(y_test, y_pred) # 정확도를 계산. y_true, y_pred를 입력인자로 준다. "
   ]
  },
  {
   "cell_type": "markdown",
   "id": "febf4c49-e123-42e5-b5a5-8d88b5be679f",
   "metadata": {},
   "source": [
    "* ↑ 정확도가 57.6%가 나왔다!\n",
    "* 우리의 입력데이터에서 600개가 약, 999개가 약이 아니었으므로, 랜덤하게 찍으면 6/1600 = 0.375 정도의 정확도가 예상된다. \n",
    "* 그렇기 때문에 랜덤하게 찍는 것 보다는 정확하다. "
   ]
  },
  {
   "cell_type": "code",
   "execution_count": 75,
   "id": "86730e38-3123-4919-8b2a-7df166137a22",
   "metadata": {},
   "outputs": [
    {
     "data": {
      "text/plain": [
       "0.4108527131782946"
      ]
     },
     "execution_count": 75,
     "metadata": {},
     "output_type": "execute_result"
    }
   ],
   "source": [
    "recall_score(y_test, y_pred) # 재현율"
   ]
  },
  {
   "cell_type": "markdown",
   "id": "a5f4ae9a-e773-4a44-8f9a-feda53edba0d",
   "metadata": {},
   "source": [
    "* ↑ 실제 약 분자중에서 41%만 맞췄다. (실제 약중 60%는 약이 아니라고 제출했다.)"
   ]
  },
  {
   "cell_type": "code",
   "execution_count": 76,
   "id": "c544fb95-4792-491c-810d-e11fcf64b543",
   "metadata": {},
   "outputs": [
    {
     "data": {
      "text/plain": [
       "0.4796380090497738"
      ]
     },
     "execution_count": 76,
     "metadata": {},
     "output_type": "execute_result"
    }
   ],
   "source": [
    "f1_score(y_test, y_pred)"
   ]
  },
  {
   "cell_type": "markdown",
   "id": "ec25f088-f917-497f-bd1c-a31bb87ff380",
   "metadata": {},
   "source": [
    "* ↑ 0.48 정도의 F1-score를 가진다. "
   ]
  },
  {
   "cell_type": "markdown",
   "id": "5c6f2a0a-643b-4d76-a8c5-91ff060ea287",
   "metadata": {},
   "source": [
    "# 여기까지 첫번째 화학 예측 모델 (QSAR) 모델을 만들었다! \n",
    "---"
   ]
  },
  {
   "cell_type": "markdown",
   "id": "39e4357c-a0c5-4960-866e-558731066086",
   "metadata": {},
   "source": [
    "# <span style=\"color:blue\">14주차(1) Random Forest - Hyper parameter tuning, feature importance</span>\n",
    "Discriminating drugs and non-drugs using RF and hyperparameter optimization / feature importance"
   ]
  },
  {
   "cell_type": "markdown",
   "id": "402afc66-ca22-47e6-94a7-7005619ce42c",
   "metadata": {},
   "source": [
    "------------------\n",
    "### ★ Maching Learning 기본 순서 ★\n",
    "1. 전체 dataset을 불러옴 (데이터를 모음)\n",
    "2. traing set / test set으로 나눔\n",
    "3. **빈 모델을 만듦** RandomForestClassifier()  <span style=\"color:red\">←여기부터 다시 다른 모델 생성</span>\n",
    "4. **빈 모델에 traing set을 넣어 모델을 학습시킴** .fit()  \n",
    "5. **학습된 모델에 test set을 넣어 예측시켜봄** .predict()\n",
    "6. **잘 풀었나 채점해봄** .precision_score() .recall_score() . f1_score()\n",
    "------------"
   ]
  },
  {
   "cell_type": "markdown",
   "id": "bcf3f1ea-96e8-475b-abff-0e09e167fe86",
   "metadata": {},
   "source": [
    "# Hyperparameter optimization"
   ]
  },
  {
   "cell_type": "markdown",
   "id": "5680193d-5fc7-4730-9370-3705ff2be62c",
   "metadata": {},
   "source": [
    "## 모델의 하이퍼 파라미터를 바꾸어 가면서 모델의 성능을 최적화 하자!\n",
    "모델의 성능을 높이는 하이퍼 파라미터를 찾는데는 특별한 이론이 존재하지 않는다. 이것 저것 넣어가면서 노가다 필수."
   ]
  },
  {
   "cell_type": "markdown",
   "id": "fb553510-4ea3-4822-85cc-333e11615033",
   "metadata": {},
   "source": [
    "https://scikit-learn.org/stable/modules/generated/sklearn.ensemble.RandomForestClassifier.html\n",
    "Parameter  \n",
    "\n",
    "* 테스트 해볼 하이퍼 파라미터(옵션):\n",
    "1. n_estimatorn :트리의 개수 (밑으로 몇번까지 나눈 것인가)\n",
    "2. max_depth : 트리의 최대 깊이\n",
    "3. min_samples_split : 최소 몇개일 때 쪼갤것 인가 (최소 개수 미만이면 자르지 마라)\n",
    "4. min_samples_leaf : 한 노드 안의 최소 데이터 개수 (몇개가 있으면 그만 쪼갤 것인가)  "
   ]
  },
  {
   "cell_type": "markdown",
   "id": "1064b6af-6788-491e-9b22-1b9339ccedd0",
   "metadata": {},
   "source": [
    "### Version2\n",
    "##### ◎ 빈 모델 생성"
   ]
  },
  {
   "cell_type": "code",
   "execution_count": 80,
   "id": "97f4c050-5d13-4d55-9b9f-c84ed9f2c374",
   "metadata": {},
   "outputs": [],
   "source": [
    "# 파라미터를 넣은 빈껍데기 생성.\n",
    "my_model_v2 = RandomForestClassifier(n_estimators=200) # n_estimator의 기본 값은 100. "
   ]
  },
  {
   "cell_type": "code",
   "execution_count": 81,
   "id": "ef3fcddf-69ef-48bc-8fd8-39c60d2c1178",
   "metadata": {},
   "outputs": [
    {
     "name": "stdout",
     "output_type": "stream",
     "text": [
      "RandomForestClassifier(bootstrap=True, ccp_alpha=0.0, class_weight=None,\n",
      "                       criterion='gini', max_depth=None, max_features='auto',\n",
      "                       max_leaf_nodes=None, max_samples=None,\n",
      "                       min_impurity_decrease=0.0, min_impurity_split=None,\n",
      "                       min_samples_leaf=1, min_samples_split=2,\n",
      "                       min_weight_fraction_leaf=0.0, n_estimators=200,\n",
      "                       n_jobs=None, oob_score=False, random_state=None,\n",
      "                       verbose=0, warm_start=False)\n"
     ]
    }
   ],
   "source": [
    "print(my_model_v2)     #내가 define한 모델의 옵션들을 보여줌"
   ]
  },
  {
   "cell_type": "markdown",
   "id": "92f2cdee-9c12-4b1c-8f55-8ffdef914260",
   "metadata": {},
   "source": [
    "### 학습을 시키자!\n",
    "* fit method 사용!"
   ]
  },
  {
   "cell_type": "markdown",
   "id": "35d89e5d-ee96-4bf0-841f-a10b3f0e9157",
   "metadata": {},
   "source": [
    "##### ◎ 빈 모델에 trainig set 넣어 학습시킴"
   ]
  },
  {
   "cell_type": "code",
   "execution_count": 82,
   "id": "2f45f095-cffa-420d-b271-86662dca87c3",
   "metadata": {},
   "outputs": [
    {
     "data": {
      "text/plain": [
       "RandomForestClassifier(bootstrap=True, ccp_alpha=0.0, class_weight=None,\n",
       "                       criterion='gini', max_depth=None, max_features='auto',\n",
       "                       max_leaf_nodes=None, max_samples=None,\n",
       "                       min_impurity_decrease=0.0, min_impurity_split=None,\n",
       "                       min_samples_leaf=1, min_samples_split=2,\n",
       "                       min_weight_fraction_leaf=0.0, n_estimators=200,\n",
       "                       n_jobs=None, oob_score=False, random_state=None,\n",
       "                       verbose=0, warm_start=False)"
      ]
     },
     "execution_count": 82,
     "metadata": {},
     "output_type": "execute_result"
    }
   ],
   "source": [
    "my_model_v2.fit(X_train, y_train) # 학습"
   ]
  },
  {
   "cell_type": "markdown",
   "id": "64c9c399-18f7-4243-a652-c286ab9bcfc8",
   "metadata": {},
   "source": [
    "### 학습이 잘 되었는지 확인! 테스트를 해보자!\n",
    "* predict() 메소드를 이용해서 예측. "
   ]
  },
  {
   "cell_type": "markdown",
   "id": "037670e6-22f2-45f7-943a-d12bdfb83d63",
   "metadata": {},
   "source": [
    "##### ◎ 학습된 모델에 test set을 넣어 예측시켜봄"
   ]
  },
  {
   "cell_type": "code",
   "execution_count": 83,
   "id": "5660a062-c075-46a0-8671-d651477c2102",
   "metadata": {},
   "outputs": [],
   "source": [
    "y_pred = my_model_v2.predict(X_test)"
   ]
  },
  {
   "cell_type": "code",
   "execution_count": 84,
   "id": "656b6701-233c-442c-b753-3b19b45f9925",
   "metadata": {},
   "outputs": [
    {
     "name": "stdout",
     "output_type": "stream",
     "text": [
      "[0 0 1 0 0 0 1 0 1 0 0 0 0 0 1 1 0 0 0 0 1 1 0 0 0 0 0 0 0 0 0 0 0 0 0 1 1\n",
      " 1 0 1 0 1 0 0 1 1 0 1 1 0 0 1 0 0 0 0 0 0 0 1 0 0 0 0 1 1 0 0 0 0 0 0 1 1\n",
      " 0 1 0 0 0 0 0 0 0 0 1 0 0 0 0 0 1 0 1 1 0 0 0 0 1 0 0 0 1 0 0 0 0 0 1 0 0\n",
      " 0 0 0 1 1 0 0 1 0 0 0 1 1 1 1 0 1 0 1 0 0 0 0 0 0 0 0 0 0 0 0 0 1 0 0 1 0\n",
      " 1 0 0 0 0 0 1 0 0 0 0 0 1 0 0 1 0 0 0 0 0 0 0 0 1 0 0 1 0 0 1 1 1 0 0 1 1\n",
      " 1 0 0 1 0 0 0 0 0 1 0 0 0 0 1 0 0 0 1 0 0 0 0 1 1 0 0 0 1 1 0 0 0 0 1 0 0\n",
      " 0 0 1 0 0 0 0 0 1 0 0 0 0 0 0 0 0 0 1 1 0 0 1 1 1 0 1 0 0 1 0 0 0 0 0 1 0\n",
      " 1 1 0 0 0 1 0 0 0 0 0 0 1 0 0 0 0 0 1 1 1 0 1 1 0 1 1 0 1 0 0 0 1 0 0 0 1\n",
      " 0 0 0 0 0 0 0 1 0 1 0 0 1 0 0 0 0 0 1 0 0 1 0 0]\n"
     ]
    }
   ],
   "source": [
    "print(y_pred)"
   ]
  },
  {
   "cell_type": "code",
   "execution_count": 85,
   "id": "e32d6401-d5ee-473c-8c26-6482d0733e41",
   "metadata": {},
   "outputs": [
    {
     "data": {
      "text/html": [
       "<div>\n",
       "<style scoped>\n",
       "    .dataframe tbody tr th:only-of-type {\n",
       "        vertical-align: middle;\n",
       "    }\n",
       "\n",
       "    .dataframe tbody tr th {\n",
       "        vertical-align: top;\n",
       "    }\n",
       "\n",
       "    .dataframe thead th {\n",
       "        text-align: right;\n",
       "    }\n",
       "</style>\n",
       "<table border=\"1\" class=\"dataframe\">\n",
       "  <thead>\n",
       "    <tr style=\"text-align: right;\">\n",
       "      <th></th>\n",
       "      <th>MW</th>\n",
       "      <th>HBA</th>\n",
       "      <th>HBD</th>\n",
       "      <th>logP</th>\n",
       "    </tr>\n",
       "  </thead>\n",
       "  <tbody>\n",
       "    <tr>\n",
       "      <th>203</th>\n",
       "      <td>338.016057</td>\n",
       "      <td>8</td>\n",
       "      <td>5</td>\n",
       "      <td>-0.12410</td>\n",
       "    </tr>\n",
       "    <tr>\n",
       "      <th>124</th>\n",
       "      <td>430.061041</td>\n",
       "      <td>6</td>\n",
       "      <td>2</td>\n",
       "      <td>2.87958</td>\n",
       "    </tr>\n",
       "    <tr>\n",
       "      <th>350</th>\n",
       "      <td>170.105528</td>\n",
       "      <td>4</td>\n",
       "      <td>2</td>\n",
       "      <td>-0.12730</td>\n",
       "    </tr>\n",
       "    <tr>\n",
       "      <th>82</th>\n",
       "      <td>236.928676</td>\n",
       "      <td>3</td>\n",
       "      <td>0</td>\n",
       "      <td>1.44860</td>\n",
       "    </tr>\n",
       "    <tr>\n",
       "      <th>726</th>\n",
       "      <td>453.196459</td>\n",
       "      <td>6</td>\n",
       "      <td>2</td>\n",
       "      <td>1.36610</td>\n",
       "    </tr>\n",
       "    <tr>\n",
       "      <th>...</th>\n",
       "      <td>...</td>\n",
       "      <td>...</td>\n",
       "      <td>...</td>\n",
       "      <td>...</td>\n",
       "    </tr>\n",
       "    <tr>\n",
       "      <th>659</th>\n",
       "      <td>207.071785</td>\n",
       "      <td>2</td>\n",
       "      <td>1</td>\n",
       "      <td>2.77300</td>\n",
       "    </tr>\n",
       "    <tr>\n",
       "      <th>695</th>\n",
       "      <td>224.096106</td>\n",
       "      <td>4</td>\n",
       "      <td>2</td>\n",
       "      <td>1.23960</td>\n",
       "    </tr>\n",
       "    <tr>\n",
       "      <th>555</th>\n",
       "      <td>315.183444</td>\n",
       "      <td>4</td>\n",
       "      <td>2</td>\n",
       "      <td>3.33830</td>\n",
       "    </tr>\n",
       "    <tr>\n",
       "      <th>363</th>\n",
       "      <td>435.005545</td>\n",
       "      <td>4</td>\n",
       "      <td>1</td>\n",
       "      <td>4.02260</td>\n",
       "    </tr>\n",
       "    <tr>\n",
       "      <th>104</th>\n",
       "      <td>255.129300</td>\n",
       "      <td>3</td>\n",
       "      <td>1</td>\n",
       "      <td>2.68630</td>\n",
       "    </tr>\n",
       "  </tbody>\n",
       "</table>\n",
       "<p>320 rows × 4 columns</p>\n",
       "</div>"
      ],
      "text/plain": [
       "             MW  HBA  HBD     logP\n",
       "203  338.016057    8    5 -0.12410\n",
       "124  430.061041    6    2  2.87958\n",
       "350  170.105528    4    2 -0.12730\n",
       "82   236.928676    3    0  1.44860\n",
       "726  453.196459    6    2  1.36610\n",
       "..          ...  ...  ...      ...\n",
       "659  207.071785    2    1  2.77300\n",
       "695  224.096106    4    2  1.23960\n",
       "555  315.183444    4    2  3.33830\n",
       "363  435.005545    4    1  4.02260\n",
       "104  255.129300    3    1  2.68630\n",
       "\n",
       "[320 rows x 4 columns]"
      ]
     },
     "execution_count": 85,
     "metadata": {},
     "output_type": "execute_result"
    }
   ],
   "source": [
    "X_test"
   ]
  },
  {
   "cell_type": "markdown",
   "id": "62b1f625-9da3-485f-9064-aa9397530315",
   "metadata": {},
   "source": [
    "### 채점을 해보자!"
   ]
  },
  {
   "cell_type": "markdown",
   "id": "86b6fab8-619a-4773-aab7-b51832d32f14",
   "metadata": {},
   "source": [
    "##### ◎잘 풀었나 채점해봄"
   ]
  },
  {
   "cell_type": "code",
   "execution_count": 86,
   "id": "5b1bdaf7-6db5-4175-96a0-01e4074f8cae",
   "metadata": {},
   "outputs": [
    {
     "data": {
      "text/plain": [
       "0.5824175824175825"
      ]
     },
     "execution_count": 86,
     "metadata": {},
     "output_type": "execute_result"
    }
   ],
   "source": [
    "precision_score(y_test, y_pred) # 정확도를 계산. y_true, y_pred를 입력인자로 준다. "
   ]
  },
  {
   "cell_type": "code",
   "execution_count": 87,
   "id": "34ea20a8-0a2a-4a39-944a-3507b916373c",
   "metadata": {},
   "outputs": [
    {
     "data": {
      "text/plain": [
       "0.4108527131782946"
      ]
     },
     "execution_count": 87,
     "metadata": {},
     "output_type": "execute_result"
    }
   ],
   "source": [
    "recall_score(y_test, y_pred) # 재현율"
   ]
  },
  {
   "cell_type": "code",
   "execution_count": 88,
   "id": "9c572559-4c6b-41bf-b36d-0f2a14fb2107",
   "metadata": {},
   "outputs": [
    {
     "data": {
      "text/plain": [
       "0.48181818181818187"
      ]
     },
     "execution_count": 88,
     "metadata": {},
     "output_type": "execute_result"
    }
   ],
   "source": [
    "f1_score(y_test, y_pred) # F1-score 계산. "
   ]
  },
  {
   "cell_type": "markdown",
   "id": "4d44bde9-69cd-4488-9530-07944f5f27ae",
   "metadata": {},
   "source": [
    "* ↑ 지난 번 모델의 F1-score (0.47...)보다 조금 좋아졌다. "
   ]
  },
  {
   "cell_type": "markdown",
   "id": "05148964-8afb-453a-856f-a5ded876d185",
   "metadata": {},
   "source": [
    "### Version3 새로운 하이퍼 파라미터 테스트"
   ]
  },
  {
   "cell_type": "code",
   "execution_count": 89,
   "id": "0ee082d5-a6a2-42eb-bde3-a711995a59d0",
   "metadata": {},
   "outputs": [],
   "source": [
    "my_model_v3 = RandomForestClassifier(n_estimators=500, max_depth = 5, min_samples_split = 5)"
   ]
  },
  {
   "cell_type": "code",
   "execution_count": 90,
   "id": "c700c07c-022d-4c71-a9d8-f10eb0a0ece7",
   "metadata": {},
   "outputs": [
    {
     "data": {
      "text/plain": [
       "RandomForestClassifier(bootstrap=True, ccp_alpha=0.0, class_weight=None,\n",
       "                       criterion='gini', max_depth=5, max_features='auto',\n",
       "                       max_leaf_nodes=None, max_samples=None,\n",
       "                       min_impurity_decrease=0.0, min_impurity_split=None,\n",
       "                       min_samples_leaf=1, min_samples_split=5,\n",
       "                       min_weight_fraction_leaf=0.0, n_estimators=500,\n",
       "                       n_jobs=None, oob_score=False, random_state=None,\n",
       "                       verbose=0, warm_start=False)"
      ]
     },
     "execution_count": 90,
     "metadata": {},
     "output_type": "execute_result"
    }
   ],
   "source": [
    "my_model_v3.fit(X_train, y_train) # 학습"
   ]
  },
  {
   "cell_type": "code",
   "execution_count": 91,
   "id": "49bf30cf-6b1f-4a96-9036-74df3d716908",
   "metadata": {},
   "outputs": [],
   "source": [
    "y_pred = my_model_v3.predict(X_test) # 테스트 문제 풀기. "
   ]
  },
  {
   "cell_type": "code",
   "execution_count": 92,
   "id": "776d99be-58be-489b-8bd2-425c23d7ef2c",
   "metadata": {},
   "outputs": [
    {
     "name": "stdout",
     "output_type": "stream",
     "text": [
      "[0 0 1 0 0 0 0 0 0 0 0 0 0 0 1 0 0 0 0 0 0 1 0 0 0 0 0 0 0 0 0 0 0 0 0 0 0\n",
      " 1 0 0 0 0 0 0 1 0 0 1 1 0 0 0 0 0 0 0 0 0 0 0 0 0 0 0 0 0 0 0 0 0 0 0 0 0\n",
      " 0 1 0 0 0 0 0 0 0 0 0 0 0 0 0 0 0 0 0 0 0 0 0 0 0 0 0 0 1 0 0 0 0 0 0 0 0\n",
      " 0 0 0 0 0 0 0 1 0 0 0 0 0 1 0 0 0 0 1 0 0 0 0 0 0 0 0 0 0 0 0 0 0 0 0 0 0\n",
      " 1 0 0 0 0 0 0 0 0 0 0 0 1 0 0 0 0 0 0 0 0 0 0 0 0 0 0 0 0 0 0 1 0 0 0 0 1\n",
      " 1 0 1 0 0 0 0 0 0 0 0 0 0 0 0 0 0 0 0 0 0 0 0 0 0 0 0 1 0 0 0 0 0 0 0 0 0\n",
      " 0 0 0 0 0 0 0 0 0 0 0 0 0 0 0 0 0 0 0 1 0 0 0 0 1 0 0 0 0 0 1 0 0 0 0 0 0\n",
      " 0 1 0 0 0 1 0 0 0 0 0 0 0 0 0 0 0 0 0 0 1 0 0 0 0 1 1 0 0 0 0 0 0 0 0 0 0\n",
      " 0 0 1 0 0 0 0 0 0 1 0 0 0 0 0 0 0 0 0 0 0 0 0 0]\n"
     ]
    }
   ],
   "source": [
    "print(y_pred)"
   ]
  },
  {
   "cell_type": "code",
   "execution_count": 93,
   "id": "28744623-44dd-4acb-8da2-71a67c2ad45c",
   "metadata": {},
   "outputs": [
    {
     "data": {
      "text/plain": [
       "0.6206896551724138"
      ]
     },
     "execution_count": 93,
     "metadata": {},
     "output_type": "execute_result"
    }
   ],
   "source": [
    "precision_score(y_test, y_pred)# 실제 값(정답, y_test)을 먼저 넣어줌. "
   ]
  },
  {
   "cell_type": "code",
   "execution_count": 94,
   "id": "ef476d9e-0640-4817-adf6-67c25cd75ce6",
   "metadata": {},
   "outputs": [
    {
     "data": {
      "text/plain": [
       "0.13953488372093023"
      ]
     },
     "execution_count": 94,
     "metadata": {},
     "output_type": "execute_result"
    }
   ],
   "source": [
    "recall_score(y_test, y_pred) # 재현율"
   ]
  },
  {
   "cell_type": "code",
   "execution_count": 95,
   "id": "cde6abe1-1b54-4a3e-9982-a22c675fa8e1",
   "metadata": {},
   "outputs": [
    {
     "data": {
      "text/plain": [
       "0.22784810126582278"
      ]
     },
     "execution_count": 95,
     "metadata": {},
     "output_type": "execute_result"
    }
   ],
   "source": [
    "f1_score(y_test, y_pred)"
   ]
  },
  {
   "cell_type": "markdown",
   "id": "975ffa2c-3508-4b2e-9ca4-108d667303e3",
   "metadata": {},
   "source": [
    "- ↑ 더 안좋은 모델이 되었다."
   ]
  },
  {
   "cell_type": "markdown",
   "id": "d66df21a-44a2-49ad-adb6-fba82238a81d",
   "metadata": {},
   "source": [
    "### Version4 다른 모델을 한 번만 더"
   ]
  },
  {
   "cell_type": "code",
   "execution_count": 96,
   "id": "f7687b45-81de-4c30-a3cc-a767f3a4655d",
   "metadata": {},
   "outputs": [],
   "source": [
    "my_model_v4 = RandomForestClassifier(n_estimators=400, random_state=487)  #random_state에 아무 숫자 하나 쓰고 항상 그 옵션을 부여하면 똑같은 결과가 나올 것이고, 부여하지 않으면 매번 다른 값을 얻게 될 것."
   ]
  },
  {
   "cell_type": "code",
   "execution_count": 97,
   "id": "c53f5c26-cb4d-4af9-ae11-0cdc84e61380",
   "metadata": {},
   "outputs": [
    {
     "data": {
      "text/plain": [
       "RandomForestClassifier(bootstrap=True, ccp_alpha=0.0, class_weight=None,\n",
       "                       criterion='gini', max_depth=None, max_features='auto',\n",
       "                       max_leaf_nodes=None, max_samples=None,\n",
       "                       min_impurity_decrease=0.0, min_impurity_split=None,\n",
       "                       min_samples_leaf=1, min_samples_split=2,\n",
       "                       min_weight_fraction_leaf=0.0, n_estimators=400,\n",
       "                       n_jobs=None, oob_score=False, random_state=None,\n",
       "                       verbose=0, warm_start=False)"
      ]
     },
     "execution_count": 97,
     "metadata": {},
     "output_type": "execute_result"
    }
   ],
   "source": [
    "my_model_v4.fit(X_train, y_train)"
   ]
  },
  {
   "cell_type": "code",
   "execution_count": 99,
   "id": "266e5ad7-1e5d-450b-91bf-4bab40b09a72",
   "metadata": {},
   "outputs": [],
   "source": [
    "y_pred = my_model_v4.predict(X_test)"
   ]
  },
  {
   "cell_type": "code",
   "execution_count": 100,
   "id": "1eaeeac5-84b8-460b-a645-5b7817979a2e",
   "metadata": {},
   "outputs": [
    {
     "data": {
      "text/plain": [
       "0.5698924731182796"
      ]
     },
     "execution_count": 100,
     "metadata": {},
     "output_type": "execute_result"
    }
   ],
   "source": [
    "precision_score(y_test, y_pred)"
   ]
  },
  {
   "cell_type": "code",
   "execution_count": 101,
   "id": "c2c7cee8-3ff4-4eba-ab1c-ad9e3fac634f",
   "metadata": {},
   "outputs": [
    {
     "data": {
      "text/plain": [
       "0.4108527131782946"
      ]
     },
     "execution_count": 101,
     "metadata": {},
     "output_type": "execute_result"
    }
   ],
   "source": [
    "recall_score(y_test, y_pred)"
   ]
  },
  {
   "cell_type": "code",
   "execution_count": 102,
   "id": "0863a38a-cb1e-4bd7-a018-87f841ad2f25",
   "metadata": {},
   "outputs": [
    {
     "data": {
      "text/plain": [
       "0.47747747747747754"
      ]
     },
     "execution_count": 102,
     "metadata": {},
     "output_type": "execute_result"
    }
   ],
   "source": [
    "f1_score(y_test, y_pred)"
   ]
  },
  {
   "cell_type": "markdown",
   "id": "3f2c4974-67fa-431d-abbb-b887011064e9",
   "metadata": {},
   "source": [
    "- ↑ 더 안좋은 모델이 되었다."
   ]
  },
  {
   "cell_type": "markdown",
   "id": "0536ad23-2239-4ccd-b51e-0e1293982b37",
   "metadata": {},
   "source": [
    "## 숙제: 하이퍼 파라미터를 바꾸면서 f1_score 가 0.481 을 넘는 모델이 있는지 한 번 찾아보세요~"
   ]
  },
  {
   "cell_type": "markdown",
   "id": "9745134c-4c6f-4a7e-b138-1c7e221a5db8",
   "metadata": {},
   "source": [
    "# Feature Importance 분석\n",
    "이 모델이 feature들 중에서 뭘 가장 중요하게 참고하고 있는지 알아봄.;"
   ]
  },
  {
   "cell_type": "markdown",
   "id": "9898f2f4-55fd-404e-b512-e220ebde7183",
   "metadata": {},
   "source": [
    "https://scikit-learn.org/stable/modules/generated/sklearn.ensemble.RandomForestClassifier.html  \n",
    "Attributes (학습이 끝나고나면 여러가지 속성을 가지고 있음)  \n",
    "여기서 다룰 것은 --->  모델명 **.feature_importances_**"
   ]
  },
  {
   "cell_type": "markdown",
   "id": "79ffdc9b-c7b9-4768-9b1a-6ef1b9909ae4",
   "metadata": {},
   "source": [
    "현재 이 노트북에서 사용하고 있는 Feature 는 4가지: \n",
    "\n",
    "    1. MW\n",
    "    2. H-Bond Acceptor 개수\n",
    "    3. H-Bond donor 개수\n",
    "    4. logP 값. "
   ]
  },
  {
   "cell_type": "code",
   "execution_count": 103,
   "id": "49902080-5fa2-4808-ad45-2b0603c8fa43",
   "metadata": {},
   "outputs": [
    {
     "data": {
      "text/html": [
       "<div>\n",
       "<style scoped>\n",
       "    .dataframe tbody tr th:only-of-type {\n",
       "        vertical-align: middle;\n",
       "    }\n",
       "\n",
       "    .dataframe tbody tr th {\n",
       "        vertical-align: top;\n",
       "    }\n",
       "\n",
       "    .dataframe thead th {\n",
       "        text-align: right;\n",
       "    }\n",
       "</style>\n",
       "<table border=\"1\" class=\"dataframe\">\n",
       "  <thead>\n",
       "    <tr style=\"text-align: right;\">\n",
       "      <th></th>\n",
       "      <th>MW</th>\n",
       "      <th>HBA</th>\n",
       "      <th>HBD</th>\n",
       "      <th>logP</th>\n",
       "    </tr>\n",
       "  </thead>\n",
       "  <tbody>\n",
       "    <tr>\n",
       "      <th>493</th>\n",
       "      <td>305.073805</td>\n",
       "      <td>1</td>\n",
       "      <td>1</td>\n",
       "      <td>5.17960</td>\n",
       "    </tr>\n",
       "    <tr>\n",
       "      <th>354</th>\n",
       "      <td>208.121178</td>\n",
       "      <td>4</td>\n",
       "      <td>0</td>\n",
       "      <td>1.16180</td>\n",
       "    </tr>\n",
       "    <tr>\n",
       "      <th>342</th>\n",
       "      <td>247.062677</td>\n",
       "      <td>7</td>\n",
       "      <td>0</td>\n",
       "      <td>0.53442</td>\n",
       "    </tr>\n",
       "    <tr>\n",
       "      <th>234</th>\n",
       "      <td>182.087769</td>\n",
       "      <td>2</td>\n",
       "      <td>1</td>\n",
       "      <td>2.13759</td>\n",
       "    </tr>\n",
       "    <tr>\n",
       "      <th>105</th>\n",
       "      <td>243.121906</td>\n",
       "      <td>7</td>\n",
       "      <td>3</td>\n",
       "      <td>-1.60240</td>\n",
       "    </tr>\n",
       "    <tr>\n",
       "      <th>...</th>\n",
       "      <td>...</td>\n",
       "      <td>...</td>\n",
       "      <td>...</td>\n",
       "      <td>...</td>\n",
       "    </tr>\n",
       "    <tr>\n",
       "      <th>530</th>\n",
       "      <td>227.040485</td>\n",
       "      <td>2</td>\n",
       "      <td>0</td>\n",
       "      <td>4.07010</td>\n",
       "    </tr>\n",
       "    <tr>\n",
       "      <th>694</th>\n",
       "      <td>449.117411</td>\n",
       "      <td>6</td>\n",
       "      <td>2</td>\n",
       "      <td>4.06930</td>\n",
       "    </tr>\n",
       "    <tr>\n",
       "      <th>260</th>\n",
       "      <td>351.158292</td>\n",
       "      <td>6</td>\n",
       "      <td>0</td>\n",
       "      <td>3.07648</td>\n",
       "    </tr>\n",
       "    <tr>\n",
       "      <th>859</th>\n",
       "      <td>422.151158</td>\n",
       "      <td>8</td>\n",
       "      <td>2</td>\n",
       "      <td>3.04150</td>\n",
       "    </tr>\n",
       "    <tr>\n",
       "      <th>526</th>\n",
       "      <td>216.099774</td>\n",
       "      <td>5</td>\n",
       "      <td>1</td>\n",
       "      <td>0.57720</td>\n",
       "    </tr>\n",
       "  </tbody>\n",
       "</table>\n",
       "<p>1279 rows × 4 columns</p>\n",
       "</div>"
      ],
      "text/plain": [
       "             MW  HBA  HBD     logP\n",
       "493  305.073805    1    1  5.17960\n",
       "354  208.121178    4    0  1.16180\n",
       "342  247.062677    7    0  0.53442\n",
       "234  182.087769    2    1  2.13759\n",
       "105  243.121906    7    3 -1.60240\n",
       "..          ...  ...  ...      ...\n",
       "530  227.040485    2    0  4.07010\n",
       "694  449.117411    6    2  4.06930\n",
       "260  351.158292    6    0  3.07648\n",
       "859  422.151158    8    2  3.04150\n",
       "526  216.099774    5    1  0.57720\n",
       "\n",
       "[1279 rows x 4 columns]"
      ]
     },
     "execution_count": 103,
     "metadata": {},
     "output_type": "execute_result"
    }
   ],
   "source": [
    "X_train"
   ]
  },
  {
   "cell_type": "code",
   "execution_count": 104,
   "id": "ef6e82b5-bb85-45f0-a367-2192de7cf120",
   "metadata": {},
   "outputs": [
    {
     "name": "stdout",
     "output_type": "stream",
     "text": [
      "[0.40852432 0.12379072 0.09466798 0.37301698]\n"
     ]
    }
   ],
   "source": [
    "print(my_model_v4.feature_importances_)"
   ]
  },
  {
   "cell_type": "markdown",
   "id": "fc3dd0e2-296d-45fd-bee8-89afd7a790fd",
   "metadata": {},
   "source": [
    "* ↑ 4개의 feature의 importance(중요도)를 정량화한 지표. "
   ]
  },
  {
   "cell_type": "markdown",
   "id": "f728f601-de6e-42b7-9b4d-a9a1dc96aabf",
   "metadata": {},
   "source": [
    "* 다시 말해, Drug / Drug이 아닌 분자를 구별할 때, MW이 0.408 만큼 중요한 역할을 했고,  \n",
    "H-bond acceptor 개수가 0.124, H-bond donor 개수가 0.094, logP 값이 0.373 만큼의 역할을 했다. \n",
    "* 즉, Drug/Non-Drug을 구별할 때,  \n",
    "MW가 가장 중요. 두 번째, logP 값, 번째가 수소결합 받개의 개수, 네번째가 수소결합 주개의 개수. "
   ]
  },
  {
   "cell_type": "code",
   "execution_count": 107,
   "id": "5b28f5ff-8b0c-4700-b6ee-04e3f1cff626",
   "metadata": {},
   "outputs": [
    {
     "name": "stdout",
     "output_type": "stream",
     "text": [
      "[0.40591372 0.18685081 0.16288988 0.24434559]\n"
     ]
    }
   ],
   "source": [
    "print(my_model_v3.feature_importances_)"
   ]
  },
  {
   "cell_type": "code",
   "execution_count": 108,
   "id": "fdb6b1f2-b918-4aa0-82a1-224627c64a7f",
   "metadata": {
    "tags": []
   },
   "outputs": [
    {
     "name": "stdout",
     "output_type": "stream",
     "text": [
      "[0.40445491 0.12526646 0.09520563 0.37507299]\n"
     ]
    }
   ],
   "source": [
    "print(my_model_v2.feature_importances_)"
   ]
  },
  {
   "cell_type": "code",
   "execution_count": null,
   "id": "f9d04b66-c850-4141-805c-8ccdbf6f0593",
   "metadata": {},
   "outputs": [],
   "source": []
  }
 ],
 "metadata": {
  "kernelspec": {
   "display_name": "Python 3 (ipykernel)",
   "language": "python",
   "name": "python3"
  },
  "language_info": {
   "codemirror_mode": {
    "name": "ipython",
    "version": 3
   },
   "file_extension": ".py",
   "mimetype": "text/x-python",
   "name": "python",
   "nbconvert_exporter": "python",
   "pygments_lexer": "ipython3",
   "version": "3.10.9"
  }
 },
 "nbformat": 4,
 "nbformat_minor": 5
}
