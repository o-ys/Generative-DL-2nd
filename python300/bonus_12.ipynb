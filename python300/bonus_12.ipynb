{
 "cells": [
  {
   "cell_type": "markdown",
   "id": "40d14c56-6ab8-4589-8a51-4bfcf1cd6fdc",
   "metadata": {},
   "source": [
    "Ye-seul Oh"
   ]
  },
  {
   "cell_type": "markdown",
   "id": "67db59f9-8329-4a4a-a684-0c18919826a0",
   "metadata": {},
   "source": [
    "### 1번\n",
    "입력받은 숫자의 구구단을 출력하는 my_func1 이라는 이름을 가진 함수를 작성하라. \n",
    "\n",
    "input:\n",
    "my_func1(6)\n",
    "\n",
    "output:\n",
    "\n",
    "6 x 1 = 6                                                               \n",
    "6 x 2 = 12                                                              \n",
    "6 x 3 = 18                                                              \n",
    "6 x 4 = 24                                                              \n",
    "6 x 5 = 30                                                              \n",
    "6 x 6 = 36                                                              \n",
    "6 x 7 = 42                                                              \n",
    "6 x 8 = 48                                                              \n",
    "6 x 9 = 54                                                              \n",
    "6 x 10 = 60 "
   ]
  },
  {
   "cell_type": "code",
   "execution_count": 2,
   "id": "0ee9f6d8-3940-4704-a9df-d6ad27211522",
   "metadata": {
    "tags": []
   },
   "outputs": [
    {
     "name": "stdout",
     "output_type": "stream",
     "text": [
      "6 x 1 = 6\n",
      "6 x 2 = 12\n",
      "6 x 3 = 18\n",
      "6 x 4 = 24\n",
      "6 x 5 = 30\n",
      "6 x 6 = 36\n",
      "6 x 7 = 42\n",
      "6 x 8 = 48\n",
      "6 x 9 = 54\n",
      "6 x 10 = 60\n"
     ]
    }
   ],
   "source": [
    "#1번 내풀이\n",
    "\n",
    "def my_func1(a):\n",
    "    for x in range(1,11):\n",
    "        result = print(f\"{a} x {x} = {a*x}\")\n",
    "    return result\n",
    "\n",
    "my_func1(6)"
   ]
  },
  {
   "cell_type": "markdown",
   "id": "fb7c141e-29a4-45aa-8d66-49b2beb892d6",
   "metadata": {},
   "source": [
    "### 2번\n",
    "리스트에서 연속된 숫자를 제거하는 코드를 작성하시오. \n",
    "\n",
    "입력 리스트:\n",
    "[0, 0, 1, 2, 3, 4, 4, 5, 6, 6, 6, 7, 8, 9, 4, 4]\n",
    "\n",
    "중복 제거후:\n",
    "[0, 1, 2, 3, 4, 5, 6, 7, 8, 9, 4]"
   ]
  },
  {
   "cell_type": "code",
   "execution_count": 3,
   "id": "ef990f51-aa18-43f1-848a-ecfcb7c8b889",
   "metadata": {
    "tags": []
   },
   "outputs": [
    {
     "name": "stdout",
     "output_type": "stream",
     "text": [
      "[0, 1, 2, 3, 4, 5, 6, 6, 7, 8, 9, 4]\n"
     ]
    }
   ],
   "source": [
    "#2번 내풀이\n",
    "\n",
    "a=[0,0,1,2,3,4,4,5,6,6,6,7,8,9,4,4]\n",
    "for i in range(len(a)-1):\n",
    "    if i<len(a)-1 and a[i] == a[i+1]:\n",
    "        del a[i]\n",
    "        \n",
    "print(a)"
   ]
  },
  {
   "cell_type": "code",
   "execution_count": 5,
   "id": "bdb8d83f-f58a-4937-8aa3-e796dd7dbcd8",
   "metadata": {},
   "outputs": [
    {
     "name": "stdout",
     "output_type": "stream",
     "text": [
      "[1, 2, 3, 4, 5, 6, 7, 8, 9, 4]\n"
     ]
    }
   ],
   "source": [
    "#2번 정답   (리스트a에서 빼지 말고 새로 리스트를 만들어서 넣으면 됨)\n",
    "\n",
    "b = []\n",
    "a=[0,0,1,2,3,4,4,5,6,6,6,7,8,9,4,4]\n",
    "for i in range(1,len(a)):\n",
    "    if a[i-1] != a[i]:\n",
    "         b.append(a[i])\n",
    "            \n",
    "print(b)"
   ]
  },
  {
   "cell_type": "code",
   "execution_count": 4,
   "id": "899a3fa7-b011-486c-9b5f-9e761beb541e",
   "metadata": {},
   "outputs": [
    {
     "name": "stdout",
     "output_type": "stream",
     "text": [
      "[1, 2, 3, 4, 5, 6, 7, 8, 9, 4]\n"
     ]
    }
   ],
   "source": [
    "#2번 정답 (<03-3 for문: 리스트 내포>로 간단하게 만들기)\n",
    "\n",
    "a=[0,0,1,2,3,4,4,5,6,6,6,7,8,9,4,4]\n",
    "b = [a[i] for i in range(1,len(a)) if a[i-1] != a[i]]\n",
    "\n",
    "print(b)"
   ]
  },
  {
   "cell_type": "markdown",
   "id": "60b1b0bf-7f93-4a44-b1c3-0d58b59d46a9",
   "metadata": {},
   "source": [
    "### 3번\n",
    "문자열에서 문자와 인덱스를 출력하는 코드를 작성하시오. \n",
    "\n",
    "입력 문자열: w3resource\n",
    "\n",
    "예상 출력:\n",
    "\n",
    "Current character w position at 0\n",
    "\n",
    "Current character 3 position at 1\n",
    "\n",
    "Current character r position at 2\n",
    "\n",
    "Current character c position at 8\n",
    "\n",
    "Current character e position at 9"
   ]
  },
  {
   "cell_type": "code",
   "execution_count": 3,
   "id": "110e8059-9cbc-40fe-922a-a8cbd9b214fc",
   "metadata": {},
   "outputs": [
    {
     "name": "stdout",
     "output_type": "stream",
     "text": [
      "Current character w position at 0\n",
      "Current character 3 position at 1\n",
      "Current character r position at 2\n",
      "Current character c position at 8\n",
      "Current character e position at 9\n"
     ]
    }
   ],
   "source": [
    "#3번 내풀이\n",
    "\n",
    "a=\"w3resource\"\n",
    "for n in range(0,3):\n",
    "    print(\"Current character\",a[n], \"position at\",n)\n",
    "for n in range(8,10):\n",
    "    print(\"Current character\",a[n], \"position at\",n)"
   ]
  },
  {
   "cell_type": "code",
   "execution_count": 3,
   "id": "af0859d3-d4cd-4f6f-a9df-7bdfc1286c30",
   "metadata": {},
   "outputs": [
    {
     "name": "stdout",
     "output_type": "stream",
     "text": [
      "Current character w position at 0\n",
      "Current character 3 position at 1\n",
      "Current character r position at 2\n",
      "Current character e position at 3\n",
      "Current character s position at 4\n",
      "Current character o position at 5\n",
      "Current character u position at 6\n",
      "Current character r position at 7\n",
      "Current character c position at 8\n",
      "Current character e position at 9\n"
     ]
    }
   ],
   "source": [
    "#3번 정답\n",
    "\n",
    "def my_func3(a):\n",
    "    for i in range(len(a)):\n",
    "        print(f\"Current character {a[i]} position at {i}\")\n",
    "        \n",
    "my_func3(\"w3resource\")"
   ]
  },
  {
   "cell_type": "code",
   "execution_count": 6,
   "id": "4b179e96-a03d-4442-8883-8f8b07aee922",
   "metadata": {},
   "outputs": [
    {
     "name": "stdout",
     "output_type": "stream",
     "text": [
      "Current character w position at 0\n",
      "Current character 3 position at 1\n",
      "Current character r position at 2\n",
      "Current character e position at 3\n",
      "Current character s position at 4\n",
      "Current character o position at 5\n",
      "Current character u position at 6\n",
      "Current character r position at 7\n",
      "Current character c position at 8\n",
      "Current character e position at 9\n"
     ]
    }
   ],
   "source": [
    "#3번 enumerate(순서가 있는 자료형) 함수 쓰기    (enumerate:열거하다)\n",
    "\n",
    "def my_func3(a):\n",
    "    for idx, i in enumerate(a):\n",
    "        print(f\"Current character {i} position at {idx}\")\n",
    "    \n",
    "my_func3(\"w3resource\")"
   ]
  },
  {
   "cell_type": "markdown",
   "id": "3db2ad71-29c4-44b3-be55-6eb66fdb4122",
   "metadata": {},
   "source": [
    "**********************"
   ]
  },
  {
   "cell_type": "markdown",
   "id": "17a53cf5-fdac-4b18-83f5-e1f5b4ee751a",
   "metadata": {},
   "source": [
    "### 1."
   ]
  },
  {
   "cell_type": "raw",
   "id": "f89b98b0-c51c-4046-96fc-f3a8bfed0324",
   "metadata": {},
   "source": [
    "Hello, World! 문자열을 출력하시오."
   ]
  },
  {
   "cell_type": "code",
   "execution_count": 68,
   "id": "06bc7a80-a6ce-4361-8128-741449275163",
   "metadata": {},
   "outputs": [
    {
     "name": "stdin",
     "output_type": "stream",
     "text": [
      "입력: hey\n"
     ]
    },
    {
     "name": "stdout",
     "output_type": "stream",
     "text": [
      "Hello,World!\n"
     ]
    }
   ],
   "source": [
    "user = input(\"입력:\")\n",
    "print(\"Hello,World!\")"
   ]
  },
  {
   "cell_type": "markdown",
   "id": "27ebdf86-f0cc-4622-aa6d-00cd345a2709",
   "metadata": {},
   "source": [
    "### 2."
   ]
  },
  {
   "cell_type": "raw",
   "id": "8a5a1b10-b4d8-4aaa-b3e1-ba8f040ae0c2",
   "metadata": {},
   "source": [
    "다음과 같은 형태를 출력하는 코드를 작성하시오.\n",
    "*****\n",
    "****\n",
    "***\n",
    "**\n",
    "*"
   ]
  },
  {
   "cell_type": "code",
   "execution_count": 53,
   "id": "54a085e6-79e7-4aa0-b34c-85b5a47fd556",
   "metadata": {},
   "outputs": [
    {
     "name": "stdin",
     "output_type": "stream",
     "text": [
      "입력: 5\n"
     ]
    },
    {
     "name": "stdout",
     "output_type": "stream",
     "text": [
      "*****\n",
      "****\n",
      "***\n",
      "**\n",
      "*\n"
     ]
    }
   ],
   "source": [
    "user = input(\"입력:\")\n",
    "num = int(user)\n",
    "\n",
    "a = list(range(1,num+1))\n",
    "for i in a[::-1]:\n",
    "    print(\"*\"*i)"
   ]
  },
  {
   "cell_type": "markdown",
   "id": "81e6b36c-b2fc-4833-9feb-d02169713ed0",
   "metadata": {},
   "source": [
    "### 3."
   ]
  },
  {
   "cell_type": "raw",
   "id": "2cab7788-8bd8-4619-a57a-a02476cc289d",
   "metadata": {},
   "source": [
    "콤마가 들어있는 숫자의 문자열을 받아서 숫자로 바꾸어주는 convert라는 함수를 정의하시오.\n",
    "예시) a = “100,000”\n",
    "convert(a)\n",
    "100000\n",
    "convert(“12,345,456”)\n",
    "12345456"
   ]
  },
  {
   "cell_type": "code",
   "execution_count": 59,
   "id": "0f236350-ca2d-49dd-824f-cae388c6b7f6",
   "metadata": {},
   "outputs": [
    {
     "name": "stdin",
     "output_type": "stream",
     "text": [
      "콤마가 들어있는 숫자의 문자열 입력: 100,000\n"
     ]
    },
    {
     "data": {
      "text/plain": [
       "100000"
      ]
     },
     "execution_count": 59,
     "metadata": {},
     "output_type": "execute_result"
    }
   ],
   "source": [
    "def convert():\n",
    "    user = input(\"콤마가 들어있는 숫자의 문자열 입력:\")\n",
    "    b = user.replace(\",\",\"\")\n",
    "    result = int(b)\n",
    "    return result\n",
    "convert()"
   ]
  },
  {
   "cell_type": "markdown",
   "id": "99c604bd-b009-4b60-9444-fd4c2c36aba1",
   "metadata": {},
   "source": [
    "### 4."
   ]
  },
  {
   "cell_type": "raw",
   "id": "02aba748-19f2-4ed5-a7c3-dd44a0e87f5f",
   "metadata": {},
   "source": [
    "1에서 100까지의 자연수가 모두 들어있는 리스트를 생성하고, 리스트의 평균 값을 구하는 func_average 함수를 작성하시오. \n",
    "예시) a = [1,2,3,4,5]\n",
    "func_average(a)"
   ]
  },
  {
   "cell_type": "code",
   "execution_count": 12,
   "id": "a93e8c29-16e2-451c-b958-6acbdd552f5a",
   "metadata": {},
   "outputs": [
    {
     "data": {
      "text/plain": [
       "50.5"
      ]
     },
     "execution_count": 12,
     "metadata": {},
     "output_type": "execute_result"
    }
   ],
   "source": [
    "a = list(range(1,101))\n",
    "\n",
    "def func_average(args):\n",
    "    return sum(args)/len(args)\n",
    "\n",
    "func_average(a)"
   ]
  },
  {
   "cell_type": "code",
   "execution_count": 2,
   "id": "21a27a96-7b32-42db-a8c8-f3ef67d550aa",
   "metadata": {},
   "outputs": [
    {
     "name": "stdin",
     "output_type": "stream",
     "text": [
      "자연수 입력: 100\n"
     ]
    },
    {
     "name": "stdout",
     "output_type": "stream",
     "text": [
      "평균: 50.5\n"
     ]
    }
   ],
   "source": [
    "#4번 응용 풀이(함수)\n",
    "\n",
    "def func_average2():\n",
    "    user = input(\"자연수 입력:\")\n",
    "    x = int(user)\n",
    "    y= list(range(1,x+1))\n",
    "    result = sum(y)/len(y)\n",
    "    return print(\"평균:\", result)\n",
    "\n",
    "func_average2()"
   ]
  },
  {
   "cell_type": "markdown",
   "id": "b895630e-3db2-4c53-bb24-7246bd600bb7",
   "metadata": {},
   "source": [
    "### 5."
   ]
  },
  {
   "cell_type": "raw",
   "id": "811486e8-2d4c-47df-b03f-1d7674a6eace",
   "metadata": {},
   "source": [
    "for 문을 사용해서 아래와 같이 0.1 에서 0.9 까지 0.1 단위로 출력하는 코드를 작성하시오. \n",
    "0.1\n",
    "0.2\n",
    "0.3\n",
    "0.4\n",
    "…\n",
    "0.9"
   ]
  },
  {
   "cell_type": "code",
   "execution_count": 14,
   "id": "6cb30f9f-4de4-4f2b-9d98-9c9c56fa7b24",
   "metadata": {},
   "outputs": [
    {
     "name": "stdout",
     "output_type": "stream",
     "text": [
      "0.0\n",
      "0.1\n",
      "0.2\n",
      "0.3\n",
      "0.4\n",
      "0.5\n",
      "0.6\n",
      "0.7\n",
      "0.8\n",
      "0.9\n"
     ]
    }
   ],
   "source": [
    "for num in range(10) :\n",
    "    print(num / 10)"
   ]
  },
  {
   "cell_type": "markdown",
   "id": "3a775237-c3ca-402e-ab19-723c7d031d8c",
   "metadata": {},
   "source": [
    "### 6."
   ]
  },
  {
   "cell_type": "raw",
   "id": "f796348b-c9c0-4c32-9c68-2e02dbad5f6c",
   "metadata": {},
   "source": [
    "양의 정수만 입력으로 받고 그 수의 자릿수를 출력하는 digit이라는 이름의 함수를 작성하라.\n",
    "예시) digit(3)\n",
    "1\n",
    "digit(649)\n",
    "3"
   ]
  },
  {
   "cell_type": "code",
   "execution_count": 58,
   "id": "66e4ec21-e320-425d-8658-2a891c4a3c2f",
   "metadata": {},
   "outputs": [
    {
     "name": "stdin",
     "output_type": "stream",
     "text": [
      "양의 정수 입력: 649\n"
     ]
    },
    {
     "name": "stdout",
     "output_type": "stream",
     "text": [
      "자릿수 출력: 3\n"
     ]
    }
   ],
   "source": [
    "def digit():\n",
    "    user = input(\"양의 정수 입력:\")\n",
    "    a = str(user)     #입력받는 입력값은 모두 문자로 인식하므로 필요 없는 수식\n",
    "    b = len(a)\n",
    "    return print(f\"자릿수 출력: {b}\")\n",
    "\n",
    "digit()"
   ]
  },
  {
   "cell_type": "markdown",
   "id": "00f21f38-fd2a-4e01-8b6f-644e53afd78d",
   "metadata": {
    "tags": []
   },
   "source": [
    "### 7."
   ]
  },
  {
   "cell_type": "raw",
   "id": "0765e96a-515d-4ed2-a971-cd4bb370f3d1",
   "metadata": {},
   "source": [
    "다음의 파일 이름이 저장된 리스트에서 확장자가 .py 인 파일이름만 한 줄로 출력하는 코드를 작성하라.\n",
    "예시) files = [“input.py”, “main.c”, “main.py”, “calc.f90”, “string.py”]\n",
    "출력) input.py main.py string.py"
   ]
  },
  {
   "cell_type": "code",
   "execution_count": 65,
   "id": "c5f35f89-d86d-4641-b53a-e7a9da26e73b",
   "metadata": {
    "tags": []
   },
   "outputs": [
    {
     "name": "stdout",
     "output_type": "stream",
     "text": [
      "input.py main.py string.py "
     ]
    }
   ],
   "source": [
    "files = ['input.py', 'main.c', 'main.py', 'calc.f90' , 'string.py']\n",
    "for i in files:\n",
    "    split = i.split(\".\")\n",
    "    if split[1] == \"py\":\n",
    "        print(i, end=\" \")"
   ]
  },
  {
   "cell_type": "markdown",
   "id": "bd6e8984-d4d7-4490-9986-7dd76e75b8ef",
   "metadata": {},
   "source": [
    "### 8."
   ]
  },
  {
   "cell_type": "raw",
   "id": "a589c6aa-f6ae-4b67-9cfd-075a606a331d",
   "metadata": {},
   "source": [
    "자연수 1에서 1000까지 자연수 중에 3의 배수에 해당하는 자연수를 제외한 자연수가 들어 있는 리스트를 구하는 코드를 작성하라."
   ]
  },
  {
   "cell_type": "code",
   "execution_count": 23,
   "id": "512213b6-f207-4096-b120-b650c7ae80b1",
   "metadata": {
    "collapsed": true,
    "jupyter": {
     "outputs_hidden": true
    },
    "tags": []
   },
   "outputs": [
    {
     "name": "stdout",
     "output_type": "stream",
     "text": [
      "[1, 2, 4, 5, 7, 8, 10, 11, 13, 14, 16, 17, 19, 20, 22, 23, 25, 26, 28, 29, 31, 32, 34, 35, 37, 38, 40, 41, 43, 44, 46, 47, 49, 50, 52, 53, 55, 56, 58, 59, 61, 62, 64, 65, 67, 68, 70, 71, 73, 74, 76, 77, 79, 80, 82, 83, 85, 86, 88, 89, 91, 92, 94, 95, 97, 98, 100, 101, 103, 104, 106, 107, 109, 110, 112, 113, 115, 116, 118, 119, 121, 122, 124, 125, 127, 128, 130, 131, 133, 134, 136, 137, 139, 140, 142, 143, 145, 146, 148, 149, 151, 152, 154, 155, 157, 158, 160, 161, 163, 164, 166, 167, 169, 170, 172, 173, 175, 176, 178, 179, 181, 182, 184, 185, 187, 188, 190, 191, 193, 194, 196, 197, 199, 200, 202, 203, 205, 206, 208, 209, 211, 212, 214, 215, 217, 218, 220, 221, 223, 224, 226, 227, 229, 230, 232, 233, 235, 236, 238, 239, 241, 242, 244, 245, 247, 248, 250, 251, 253, 254, 256, 257, 259, 260, 262, 263, 265, 266, 268, 269, 271, 272, 274, 275, 277, 278, 280, 281, 283, 284, 286, 287, 289, 290, 292, 293, 295, 296, 298, 299, 301, 302, 304, 305, 307, 308, 310, 311, 313, 314, 316, 317, 319, 320, 322, 323, 325, 326, 328, 329, 331, 332, 334, 335, 337, 338, 340, 341, 343, 344, 346, 347, 349, 350, 352, 353, 355, 356, 358, 359, 361, 362, 364, 365, 367, 368, 370, 371, 373, 374, 376, 377, 379, 380, 382, 383, 385, 386, 388, 389, 391, 392, 394, 395, 397, 398, 400, 401, 403, 404, 406, 407, 409, 410, 412, 413, 415, 416, 418, 419, 421, 422, 424, 425, 427, 428, 430, 431, 433, 434, 436, 437, 439, 440, 442, 443, 445, 446, 448, 449, 451, 452, 454, 455, 457, 458, 460, 461, 463, 464, 466, 467, 469, 470, 472, 473, 475, 476, 478, 479, 481, 482, 484, 485, 487, 488, 490, 491, 493, 494, 496, 497, 499, 500, 502, 503, 505, 506, 508, 509, 511, 512, 514, 515, 517, 518, 520, 521, 523, 524, 526, 527, 529, 530, 532, 533, 535, 536, 538, 539, 541, 542, 544, 545, 547, 548, 550, 551, 553, 554, 556, 557, 559, 560, 562, 563, 565, 566, 568, 569, 571, 572, 574, 575, 577, 578, 580, 581, 583, 584, 586, 587, 589, 590, 592, 593, 595, 596, 598, 599, 601, 602, 604, 605, 607, 608, 610, 611, 613, 614, 616, 617, 619, 620, 622, 623, 625, 626, 628, 629, 631, 632, 634, 635, 637, 638, 640, 641, 643, 644, 646, 647, 649, 650, 652, 653, 655, 656, 658, 659, 661, 662, 664, 665, 667, 668, 670, 671, 673, 674, 676, 677, 679, 680, 682, 683, 685, 686, 688, 689, 691, 692, 694, 695, 697, 698, 700, 701, 703, 704, 706, 707, 709, 710, 712, 713, 715, 716, 718, 719, 721, 722, 724, 725, 727, 728, 730, 731, 733, 734, 736, 737, 739, 740, 742, 743, 745, 746, 748, 749, 751, 752, 754, 755, 757, 758, 760, 761, 763, 764, 766, 767, 769, 770, 772, 773, 775, 776, 778, 779, 781, 782, 784, 785, 787, 788, 790, 791, 793, 794, 796, 797, 799, 800, 802, 803, 805, 806, 808, 809, 811, 812, 814, 815, 817, 818, 820, 821, 823, 824, 826, 827, 829, 830, 832, 833, 835, 836, 838, 839, 841, 842, 844, 845, 847, 848, 850, 851, 853, 854, 856, 857, 859, 860, 862, 863, 865, 866, 868, 869, 871, 872, 874, 875, 877, 878, 880, 881, 883, 884, 886, 887, 889, 890, 892, 893, 895, 896, 898, 899, 901, 902, 904, 905, 907, 908, 910, 911, 913, 914, 916, 917, 919, 920, 922, 923, 925, 926, 928, 929, 931, 932, 934, 935, 937, 938, 940, 941, 943, 944, 946, 947, 949, 950, 952, 953, 955, 956, 958, 959, 961, 962, 964, 965, 967, 968, 970, 971, 973, 974, 976, 977, 979, 980, 982, 983, 985, 986, 988, 989, 991, 992, 994, 995, 997, 998, 1000]\n"
     ]
    }
   ],
   "source": [
    "b=[]\n",
    "a = list(range(1,1001))\n",
    "for i in a:\n",
    "    if not i%3==0:\n",
    "        b.append(i)\n",
    "print(b)"
   ]
  },
  {
   "cell_type": "code",
   "execution_count": 33,
   "id": "e2bcd052-8883-4c20-a01f-ca2d39e61010",
   "metadata": {
    "collapsed": true,
    "jupyter": {
     "outputs_hidden": true
    },
    "tags": []
   },
   "outputs": [
    {
     "name": "stdout",
     "output_type": "stream",
     "text": [
      "[1, 2, 4, 5, 7, 8, 10, 11, 13, 14, 16, 17, 19, 20, 22, 23, 25, 26, 28, 29, 31, 32, 34, 35, 37, 38, 40, 41, 43, 44, 46, 47, 49, 50, 52, 53, 55, 56, 58, 59, 61, 62, 64, 65, 67, 68, 70, 71, 73, 74, 76, 77, 79, 80, 82, 83, 85, 86, 88, 89, 91, 92, 94, 95, 97, 98, 100, 101, 103, 104, 106, 107, 109, 110, 112, 113, 115, 116, 118, 119, 121, 122, 124, 125, 127, 128, 130, 131, 133, 134, 136, 137, 139, 140, 142, 143, 145, 146, 148, 149, 151, 152, 154, 155, 157, 158, 160, 161, 163, 164, 166, 167, 169, 170, 172, 173, 175, 176, 178, 179, 181, 182, 184, 185, 187, 188, 190, 191, 193, 194, 196, 197, 199, 200, 202, 203, 205, 206, 208, 209, 211, 212, 214, 215, 217, 218, 220, 221, 223, 224, 226, 227, 229, 230, 232, 233, 235, 236, 238, 239, 241, 242, 244, 245, 247, 248, 250, 251, 253, 254, 256, 257, 259, 260, 262, 263, 265, 266, 268, 269, 271, 272, 274, 275, 277, 278, 280, 281, 283, 284, 286, 287, 289, 290, 292, 293, 295, 296, 298, 299, 301, 302, 304, 305, 307, 308, 310, 311, 313, 314, 316, 317, 319, 320, 322, 323, 325, 326, 328, 329, 331, 332, 334, 335, 337, 338, 340, 341, 343, 344, 346, 347, 349, 350, 352, 353, 355, 356, 358, 359, 361, 362, 364, 365, 367, 368, 370, 371, 373, 374, 376, 377, 379, 380, 382, 383, 385, 386, 388, 389, 391, 392, 394, 395, 397, 398, 400, 401, 403, 404, 406, 407, 409, 410, 412, 413, 415, 416, 418, 419, 421, 422, 424, 425, 427, 428, 430, 431, 433, 434, 436, 437, 439, 440, 442, 443, 445, 446, 448, 449, 451, 452, 454, 455, 457, 458, 460, 461, 463, 464, 466, 467, 469, 470, 472, 473, 475, 476, 478, 479, 481, 482, 484, 485, 487, 488, 490, 491, 493, 494, 496, 497, 499, 500, 502, 503, 505, 506, 508, 509, 511, 512, 514, 515, 517, 518, 520, 521, 523, 524, 526, 527, 529, 530, 532, 533, 535, 536, 538, 539, 541, 542, 544, 545, 547, 548, 550, 551, 553, 554, 556, 557, 559, 560, 562, 563, 565, 566, 568, 569, 571, 572, 574, 575, 577, 578, 580, 581, 583, 584, 586, 587, 589, 590, 592, 593, 595, 596, 598, 599, 601, 602, 604, 605, 607, 608, 610, 611, 613, 614, 616, 617, 619, 620, 622, 623, 625, 626, 628, 629, 631, 632, 634, 635, 637, 638, 640, 641, 643, 644, 646, 647, 649, 650, 652, 653, 655, 656, 658, 659, 661, 662, 664, 665, 667, 668, 670, 671, 673, 674, 676, 677, 679, 680, 682, 683, 685, 686, 688, 689, 691, 692, 694, 695, 697, 698, 700, 701, 703, 704, 706, 707, 709, 710, 712, 713, 715, 716, 718, 719, 721, 722, 724, 725, 727, 728, 730, 731, 733, 734, 736, 737, 739, 740, 742, 743, 745, 746, 748, 749, 751, 752, 754, 755, 757, 758, 760, 761, 763, 764, 766, 767, 769, 770, 772, 773, 775, 776, 778, 779, 781, 782, 784, 785, 787, 788, 790, 791, 793, 794, 796, 797, 799, 800, 802, 803, 805, 806, 808, 809, 811, 812, 814, 815, 817, 818, 820, 821, 823, 824, 826, 827, 829, 830, 832, 833, 835, 836, 838, 839, 841, 842, 844, 845, 847, 848, 850, 851, 853, 854, 856, 857, 859, 860, 862, 863, 865, 866, 868, 869, 871, 872, 874, 875, 877, 878, 880, 881, 883, 884, 886, 887, 889, 890, 892, 893, 895, 896, 898, 899, 901, 902, 904, 905, 907, 908, 910, 911, 913, 914, 916, 917, 919, 920, 922, 923, 925, 926, 928, 929, 931, 932, 934, 935, 937, 938, 940, 941, 943, 944, 946, 947, 949, 950, 952, 953, 955, 956, 958, 959, 961, 962, 964, 965, 967, 968, 970, 971, 973, 974, 976, 977, 979, 980, 982, 983, 985, 986, 988, 989, 991, 992, 994, 995, 997, 998, 1000]\n"
     ]
    }
   ],
   "source": [
    "#8번 (리스트 내포)\n",
    "\n",
    "a = list(range(1,1001))\n",
    "b= [i for i in a if not i%3==0]\n",
    "\n",
    "print(b)"
   ]
  },
  {
   "cell_type": "markdown",
   "id": "ed7d1b2b-99fc-45a4-8ded-2b5ace0fd0af",
   "metadata": {},
   "source": [
    "### 9."
   ]
  },
  {
   "cell_type": "raw",
   "id": "bca1349d-e8b8-41aa-9c3f-0abc4c657618",
   "metadata": {},
   "source": [
    "1 부터 10,000 까지 7 이라는 숫자가 총 몇번 나오는가? 7 이 포함되어 있는 숫자의 갯수를 카운팅 하는 것이 아니라 7 이라는 숫자를 모두 카운팅 해야 한다. \n",
    "(※ 예를들어 7707 은 3, 7777 은 4 로 카운팅 해야 함)"
   ]
  },
  {
   "cell_type": "code",
   "execution_count": 25,
   "id": "8af6465d-6710-4cca-bee6-28f8eab7a0fb",
   "metadata": {},
   "outputs": [
    {
     "name": "stdout",
     "output_type": "stream",
     "text": [
      "4000\n"
     ]
    }
   ],
   "source": [
    "a = list(range(1,10001))\n",
    "\n",
    "result=0\n",
    "for i in a:\n",
    "    b = str(i)\n",
    "    c = b.count(\"7\")\n",
    "    result += c\n",
    "\n",
    "print(result)"
   ]
  }
 ],
 "metadata": {
  "kernelspec": {
   "display_name": "Python 3 (ipykernel)",
   "language": "python",
   "name": "python3"
  },
  "language_info": {
   "codemirror_mode": {
    "name": "ipython",
    "version": 3
   },
   "file_extension": ".py",
   "mimetype": "text/x-python",
   "name": "python",
   "nbconvert_exporter": "python",
   "pygments_lexer": "ipython3",
   "version": "3.10.9"
  }
 },
 "nbformat": 4,
 "nbformat_minor": 5
}
