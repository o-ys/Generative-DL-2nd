{
 "cells": [
  {
   "cell_type": "markdown",
   "id": "ce037ca2-ffad-4116-93b7-4c61c732d91e",
   "metadata": {},
   "source": [
    "Ye-seul Oh"
   ]
  },
  {
   "cell_type": "markdown",
   "id": "fcd3f3c6-d57a-4157-90f7-787c77c08328",
   "metadata": {},
   "source": [
    "### <01. 시작> 001 - 010"
   ]
  },
  {
   "cell_type": "code",
   "execution_count": 5,
   "id": "0e2853ab-f51b-4f5f-babf-485acb94117f",
   "metadata": {},
   "outputs": [
    {
     "name": "stdout",
     "output_type": "stream",
     "text": [
      "Hello World\n"
     ]
    }
   ],
   "source": [
    "print(\"Hello World\")"
   ]
  },
  {
   "cell_type": "code",
   "execution_count": 6,
   "id": "6ad3afcb-eb46-4af9-a4ee-71951592c037",
   "metadata": {},
   "outputs": [
    {
     "name": "stdout",
     "output_type": "stream",
     "text": [
      "Mary's cosmetics\n"
     ]
    }
   ],
   "source": [
    "print(\"Mary\\'s cosmetics\")"
   ]
  },
  {
   "cell_type": "code",
   "execution_count": 7,
   "id": "f6c22959-d786-437b-8221-cbbb3a7ac746",
   "metadata": {},
   "outputs": [
    {
     "name": "stdout",
     "output_type": "stream",
     "text": [
      "Mary's cosmetics\n"
     ]
    }
   ],
   "source": [
    "print(\"Mary's cosmetics\")"
   ]
  },
  {
   "cell_type": "code",
   "execution_count": 11,
   "id": "ff719e29-4542-41c0-a21c-f3e26421a28d",
   "metadata": {},
   "outputs": [
    {
     "name": "stdout",
     "output_type": "stream",
     "text": [
      "신씨가 소리질렀다.\"도둑이야.\"\n"
     ]
    }
   ],
   "source": [
    "print(\"신씨가 소리질렀다.\\\"도둑이야.\\\"\")"
   ]
  },
  {
   "cell_type": "code",
   "execution_count": 12,
   "id": "3bf3fd03-ca9f-4ca7-91e1-e6eb28484f02",
   "metadata": {},
   "outputs": [
    {
     "name": "stdout",
     "output_type": "stream",
     "text": [
      "신씨가 소리질렀다.\"도둑이야.\"\n"
     ]
    }
   ],
   "source": [
    "print('신씨가 소리질렀다.\"도둑이야.\"')"
   ]
  },
  {
   "cell_type": "code",
   "execution_count": 17,
   "id": "32616756-f9de-404d-bfe6-7015c361537f",
   "metadata": {},
   "outputs": [
    {
     "name": "stdout",
     "output_type": "stream",
     "text": [
      "\"C:\\Windows\"\n"
     ]
    }
   ],
   "source": [
    "print('\"C:\\Windows\"')"
   ]
  },
  {
   "cell_type": "code",
   "execution_count": 18,
   "id": "50834711-822a-4fda-baf5-d673f9643d00",
   "metadata": {},
   "outputs": [],
   "source": [
    "# /n : 줄바꿈,  /t : 탭 을 의미한다."
   ]
  },
  {
   "cell_type": "code",
   "execution_count": 19,
   "id": "30335c4c-4a74-4c0a-aa06-61fcb72deba1",
   "metadata": {},
   "outputs": [],
   "source": [
    "# 오늘은 일요일"
   ]
  },
  {
   "cell_type": "code",
   "execution_count": 21,
   "id": "2ef270cc-f400-4365-8c0a-b37a7de5368f",
   "metadata": {},
   "outputs": [
    {
     "name": "stdout",
     "output_type": "stream",
     "text": [
      "naver;kakal;sk;samsung\n"
     ]
    }
   ],
   "source": [
    "print(\"naver;kakal;sk;samsung\")"
   ]
  },
  {
   "cell_type": "code",
   "execution_count": 22,
   "id": "a9106e61-2ef2-4ba1-a79e-f40705843e4f",
   "metadata": {},
   "outputs": [
    {
     "name": "stdout",
     "output_type": "stream",
     "text": [
      "naver/kakao/sk/samsung\n"
     ]
    }
   ],
   "source": [
    "print(\"naver/kakao/sk/samsung\")"
   ]
  },
  {
   "cell_type": "code",
   "execution_count": 25,
   "id": "4fb59ac0-b56e-4800-b405-9f758e8559dd",
   "metadata": {},
   "outputs": [
    {
     "name": "stdout",
     "output_type": "stream",
     "text": [
      "first second\n"
     ]
    }
   ],
   "source": [
    "print(\"first\",end=\" \");print(\"second\")"
   ]
  },
  {
   "cell_type": "code",
   "execution_count": 27,
   "id": "4081e867-a13b-4888-b9d8-38cb3abf5e06",
   "metadata": {},
   "outputs": [
    {
     "name": "stdout",
     "output_type": "stream",
     "text": [
      "1.6666666666666667\n"
     ]
    }
   ],
   "source": [
    "print(5/3)"
   ]
  },
  {
   "cell_type": "markdown",
   "id": "998bf0be-5877-4408-ba03-27901a605e1a",
   "metadata": {},
   "source": [
    "### <02. 변수> 011 - 020"
   ]
  },
  {
   "cell_type": "code",
   "execution_count": 29,
   "id": "c4336dfc-d44b-4d0e-a6b8-4568b978795f",
   "metadata": {},
   "outputs": [
    {
     "name": "stdout",
     "output_type": "stream",
     "text": [
      "500000\n"
     ]
    }
   ],
   "source": [
    "s=50000\n",
    "result = s*10\n",
    "print(result)"
   ]
  },
  {
   "cell_type": "code",
   "execution_count": 33,
   "id": "134a95f2-76f4-4e74-83e5-1ee626a7b297",
   "metadata": {},
   "outputs": [
    {
     "name": "stdout",
     "output_type": "stream",
     "text": [
      "{'시가': '298조', '현재가': 50000, 'PER': 15.79}\n"
     ]
    }
   ],
   "source": [
    "info={\"시가\":\"298조\",\"현재가\":50000,\"PER\":15.79}\n",
    "print(info)"
   ]
  },
  {
   "cell_type": "code",
   "execution_count": 37,
   "id": "4cf8f651-f3e7-4af8-aea3-27d2bd841df3",
   "metadata": {},
   "outputs": [
    {
     "name": "stdout",
     "output_type": "stream",
     "text": [
      "hello! python\n"
     ]
    }
   ],
   "source": [
    "s = \"hello\"\n",
    "t = \"python\"\n",
    "print(s+\"!\",t)"
   ]
  },
  {
   "cell_type": "code",
   "execution_count": 38,
   "id": "d8a9871d-4097-4c4d-9f74-83539ecf8ec3",
   "metadata": {},
   "outputs": [
    {
     "name": "stdout",
     "output_type": "stream",
     "text": [
      "8\n"
     ]
    }
   ],
   "source": [
    "print(2+2*3)"
   ]
  },
  {
   "cell_type": "code",
   "execution_count": 39,
   "id": "64c15701-6126-4b58-b4d5-ed07e8416ebf",
   "metadata": {},
   "outputs": [
    {
     "data": {
      "text/plain": [
       "str"
      ]
     },
     "execution_count": 39,
     "metadata": {},
     "output_type": "execute_result"
    }
   ],
   "source": [
    "a=\"132\"\n",
    "type(a)"
   ]
  },
  {
   "cell_type": "code",
   "execution_count": 41,
   "id": "ec6fe413-9a2e-47c9-86cc-55185145eef5",
   "metadata": {},
   "outputs": [
    {
     "data": {
      "text/plain": [
       "int"
      ]
     },
     "execution_count": 41,
     "metadata": {},
     "output_type": "execute_result"
    }
   ],
   "source": [
    "num_str = \"720\"\n",
    "int(num_str)\n",
    "type(int(num_str))"
   ]
  },
  {
   "cell_type": "code",
   "execution_count": 43,
   "id": "3c65ee74-47d6-4d29-93dd-6688c70980e3",
   "metadata": {},
   "outputs": [
    {
     "name": "stdout",
     "output_type": "stream",
     "text": [
      "100\n"
     ]
    }
   ],
   "source": [
    "num = 100\n",
    "str(num)\n",
    "print(str(num))"
   ]
  },
  {
   "cell_type": "code",
   "execution_count": 44,
   "id": "e86f7864-f5bb-4b7a-afcc-c4ea7408f8e9",
   "metadata": {},
   "outputs": [
    {
     "data": {
      "text/plain": [
       "15.79"
      ]
     },
     "execution_count": 44,
     "metadata": {},
     "output_type": "execute_result"
    }
   ],
   "source": [
    "st=\"15.79\"\n",
    "float(st)"
   ]
  },
  {
   "cell_type": "code",
   "execution_count": 52,
   "id": "b48b0945-3b3a-47de-be5b-cce123baee29",
   "metadata": {},
   "outputs": [
    {
     "name": "stdout",
     "output_type": "stream",
     "text": [
      "2017 2018 2019\n"
     ]
    }
   ],
   "source": [
    "year = \"2020\"\n",
    "int(year)\n",
    "print(int(year)-3,int(year)-2,int(year)-1)             #019 주목"
   ]
  },
  {
   "cell_type": "code",
   "execution_count": 53,
   "id": "5ea49a0d-b22f-4b1f-9420-b392ca67fb9e",
   "metadata": {},
   "outputs": [
    {
     "name": "stdout",
     "output_type": "stream",
     "text": [
      "1749024\n"
     ]
    }
   ],
   "source": [
    "a=48584\n",
    "result=a*36\n",
    "print(result)"
   ]
  },
  {
   "cell_type": "markdown",
   "id": "011afe3f-7ada-407d-9a8e-2f0c6c19fa95",
   "metadata": {},
   "source": [
    "### <03. 문자열> 021-030"
   ]
  },
  {
   "cell_type": "code",
   "execution_count": 54,
   "id": "f730ecec-6c1a-4e7c-9d01-ad8fd138dd9e",
   "metadata": {},
   "outputs": [
    {
     "name": "stdout",
     "output_type": "stream",
     "text": [
      "p t\n"
     ]
    }
   ],
   "source": [
    "letters = 'python'\n",
    "print(letters[0], letters[2])"
   ]
  },
  {
   "cell_type": "code",
   "execution_count": 55,
   "id": "73028ace-13fc-4f6c-b726-ab586aeb42b7",
   "metadata": {},
   "outputs": [
    {
     "name": "stdout",
     "output_type": "stream",
     "text": [
      "2210\n"
     ]
    }
   ],
   "source": [
    "license_plate = \"24가 2210\"\n",
    "print(license_plate[-4:])"
   ]
  },
  {
   "cell_type": "code",
   "execution_count": 81,
   "id": "29ddbfe2-1063-4dff-8856-3a65fbed22f7",
   "metadata": {},
   "outputs": [
    {
     "name": "stdout",
     "output_type": "stream",
     "text": [
      "홀홀홀\n"
     ]
    }
   ],
   "source": [
    "string = \"홀짝홀짝홀짝\"                          #023 문자열 슬라이싱\n",
    "print(string[::2])                              #슬라이싱[처음:마지막+1:간격]"
   ]
  },
  {
   "cell_type": "code",
   "execution_count": 63,
   "id": "db783208-615d-4cb9-ba40-194d175f0bc7",
   "metadata": {},
   "outputs": [
    {
     "name": "stdout",
     "output_type": "stream",
     "text": [
      "짝짝짝\n"
     ]
    }
   ],
   "source": [
    "string = \"홀짝홀짝홀짝\"                        #023 응용\n",
    "print(string[1::2])"
   ]
  },
  {
   "cell_type": "code",
   "execution_count": 79,
   "id": "9e241683-698b-434e-aeb7-4e0f4c453635",
   "metadata": {},
   "outputs": [
    {
     "name": "stdout",
     "output_type": "stream",
     "text": [
      "NOHTYP\n"
     ]
    }
   ],
   "source": [
    "string = \"PYTHON\"                             #024 문자열 슬라이싱\n",
    "print(string[::-1])                           #슬라이싱[ : : - 간격 ] -는 역순"
   ]
  },
  {
   "cell_type": "code",
   "execution_count": 87,
   "id": "6639732f-4fd9-4248-a14a-58954f2d797a",
   "metadata": {},
   "outputs": [
    {
     "name": "stdout",
     "output_type": "stream",
     "text": [
      "010 1111 2222 / 01011112222\n"
     ]
    }
   ],
   "source": [
    "phone_number = \"010-1111-2222\"           #025 문자열 관련함수 (바꾸기 replace)\n",
    "p2=phone_number.replace(\"-\",\" \")\n",
    "p3=phone_number.replace(\"-\",\"\")\n",
    "print(p2,\"/\", p3)"
   ]
  },
  {
   "cell_type": "code",
   "execution_count": 86,
   "id": "2ef225f2-e2d2-466c-be48-e9d1168a94e7",
   "metadata": {},
   "outputs": [
    {
     "name": "stdout",
     "output_type": "stream",
     "text": [
      "['http://sharebook', 'kr']\n",
      "kr\n"
     ]
    }
   ],
   "source": [
    "url = \"http://sharebook.kr\"                #027 문자열 관련함수 (나누기 split)\n",
    "url_split = url.split(\".\")\n",
    "print(url_split)\n",
    "print(url_split[-1])"
   ]
  },
  {
   "cell_type": "code",
   "execution_count": 92,
   "id": "82312bb6-fb0e-45fe-ab64-41a74b002cb7",
   "metadata": {},
   "outputs": [
    {
     "ename": "SyntaxError",
     "evalue": "invalid syntax (<ipython-input-92-de8215fc9c72>, line 1)",
     "output_type": "error",
     "traceback": [
      "\u001b[1;36m  File \u001b[1;32m\"<ipython-input-92-de8215fc9c72>\"\u001b[1;36m, line \u001b[1;32m1\u001b[0m\n\u001b[1;33m    >> lang = 'python'\u001b[0m\n\u001b[1;37m    ^\u001b[0m\n\u001b[1;31mSyntaxError\u001b[0m\u001b[1;31m:\u001b[0m invalid syntax\n"
     ]
    }
   ],
   "source": [
    ">> lang = 'python'\n",
    ">> lang[0] = 'P'                       #028 문자열은 immutable(수정 불가)\n",
    ">> print(lang)"
   ]
  },
  {
   "cell_type": "code",
   "execution_count": 100,
   "id": "68de3949-dffd-4355-ae2c-c70fc8f4ac69",
   "metadata": {},
   "outputs": [
    {
     "name": "stdout",
     "output_type": "stream",
     "text": [
      "Abcdfe2A354A32A / ABCDFE2A354A32A\n"
     ]
    }
   ],
   "source": [
    "string = 'abcdfe2a354a32a'\n",
    "s1=string.replace('a','A')\n",
    "s2=string.upper()\n",
    "print(s1, \"/\", s2)"
   ]
  },
  {
   "cell_type": "code",
   "execution_count": 102,
   "id": "fbb0eb2c-7024-4cb3-9471-60915ba86a4f",
   "metadata": {},
   "outputs": [
    {
     "name": "stdout",
     "output_type": "stream",
     "text": [
      "abcd\n",
      "aBcd\n"
     ]
    }
   ],
   "source": [
    "string = 'abcd'\n",
    "new_string = string.replace('b', 'B')\n",
    "print(string)\n",
    "print(new_string)"
   ]
  },
  {
   "cell_type": "markdown",
   "id": "952b40a0-9d32-4aa8-9e83-d532aa670bbb",
   "metadata": {},
   "source": [
    "### <03. 문자열 > 031-040"
   ]
  },
  {
   "cell_type": "code",
   "execution_count": 104,
   "id": "bcfefc4c-6a5a-4f62-8358-c9d78707f763",
   "metadata": {},
   "outputs": [
    {
     "name": "stdout",
     "output_type": "stream",
     "text": [
      "34\n",
      "7\n"
     ]
    }
   ],
   "source": [
    "a = \"3\"\n",
    "b = \"4\"\n",
    "print(a + b)\n",
    "\n",
    "c = 3\n",
    "d = 4\n",
    "print(c + d)"
   ]
  },
  {
   "cell_type": "code",
   "execution_count": 105,
   "id": "3f43c4ac-08cd-46c1-b155-86cf9866b7f5",
   "metadata": {},
   "outputs": [
    {
     "name": "stdout",
     "output_type": "stream",
     "text": [
      "HiHiHi\n"
     ]
    }
   ],
   "source": [
    "print(\"Hi\" * 3)"
   ]
  },
  {
   "cell_type": "code",
   "execution_count": 106,
   "id": "7dec5869-9cd8-4525-9f6f-aeeff6168169",
   "metadata": {},
   "outputs": [
    {
     "name": "stdout",
     "output_type": "stream",
     "text": [
      "--------------------------------------------------------------------------------\n"
     ]
    }
   ],
   "source": [
    "print(\"-\"*80)"
   ]
  },
  {
   "cell_type": "code",
   "execution_count": 108,
   "id": "2cbce454-8de2-4a2b-99e8-336a8f4be3f6",
   "metadata": {},
   "outputs": [
    {
     "name": "stdout",
     "output_type": "stream",
     "text": [
      "python java python java python java python java \n"
     ]
    }
   ],
   "source": [
    "t1 = 'python'\n",
    "t2 = 'java'\n",
    "add = t1 +\" \"+ t2 +\" \"\n",
    "print(add*4)"
   ]
  },
  {
   "cell_type": "code",
   "execution_count": 112,
   "id": "e0c69f20-8375-4dc8-94f8-d5620d2dfde9",
   "metadata": {},
   "outputs": [
    {
     "name": "stdout",
     "output_type": "stream",
     "text": [
      "이름: 김민수 나이: 10\n",
      "이름: 이철희 나이: 13\n"
     ]
    }
   ],
   "source": [
    "name1 = \"김민수\" \n",
    "age1 = 10\n",
    "name2 = \"이철희\"\n",
    "age2 = 13\n",
    "print(\"이름:\",name1,\"나이:\",age1)\n",
    "print(\"이름:\",name2,\"나이:\",age2)"
   ]
  },
  {
   "cell_type": "code",
   "execution_count": 114,
   "id": "833e37ad-174f-4d92-8493-d46a81ac0240",
   "metadata": {},
   "outputs": [
    {
     "name": "stdout",
     "output_type": "stream",
     "text": [
      "이름: 김민수 나이: 10\n",
      "이름: 이철희 나이: 13\n"
     ]
    }
   ],
   "source": [
    "name1 = \"김민수\"                                    #036 문자열 .format( , )\n",
    "age1 = 10\n",
    "name2 = \"이철희\"\n",
    "age2 = 13\n",
    "print(\"이름: {} 나이: {}\".format(name1, age1))\n",
    "print(\"이름: {} 나이: {}\".format(name2, age2))"
   ]
  },
  {
   "cell_type": "code",
   "execution_count": 115,
   "id": "887257d7-115e-4243-ac7c-10ff1559ffbf",
   "metadata": {},
   "outputs": [
    {
     "name": "stdout",
     "output_type": "stream",
     "text": [
      "5969782550\n"
     ]
    }
   ],
   "source": [
    "상장주식수 = \"5,969,782,550\"\n",
    "수정=상장주식수.replace(\",\",\"\")\n",
    "print(int(수정))\n"
   ]
  },
  {
   "cell_type": "code",
   "execution_count": 116,
   "id": "48f456da-5a85-4021-8a15-71eced97c3e7",
   "metadata": {},
   "outputs": [
    {
     "name": "stdout",
     "output_type": "stream",
     "text": [
      "2020/03\n"
     ]
    }
   ],
   "source": [
    "분기 = \"2020/03(E) (IFRS연결)\"\n",
    "print(분기[:7])"
   ]
  },
  {
   "cell_type": "code",
   "execution_count": 119,
   "id": "9bc16fe7-9f81-4a41-8deb-f6bbcf0f67cd",
   "metadata": {},
   "outputs": [
    {
     "name": "stdout",
     "output_type": "stream",
     "text": [
      "삼성전자\n"
     ]
    }
   ],
   "source": [
    "data = \"   삼성전자    \"                #040 문자열 관련 함수 (공백지우기 strip)\n",
    "new = data.strip()\n",
    "print(new)"
   ]
  },
  {
   "cell_type": "markdown",
   "id": "07c03d9e-20a3-4db3-8509-1075840fdbde",
   "metadata": {},
   "source": [
    "### <03.문자열> 041-050"
   ]
  },
  {
   "cell_type": "code",
   "execution_count": 120,
   "id": "26454638-ec48-4654-a924-71e5ef3e82d6",
   "metadata": {},
   "outputs": [
    {
     "name": "stdout",
     "output_type": "stream",
     "text": [
      "BTC_KRW\n"
     ]
    }
   ],
   "source": [
    "ticker = \"btc_krw\"\n",
    "new = ticker.upper()\n",
    "print(new)"
   ]
  },
  {
   "cell_type": "code",
   "execution_count": 122,
   "id": "ee82b32c-5126-4387-ab52-bd0e2dc4e0d7",
   "metadata": {},
   "outputs": [
    {
     "name": "stdout",
     "output_type": "stream",
     "text": [
      "btc_krw\n"
     ]
    }
   ],
   "source": [
    "ticker = \"BTC_KRW\"\n",
    "new = ticker.lower()\n",
    "print(new)"
   ]
  },
  {
   "cell_type": "code",
   "execution_count": 123,
   "id": "e1a5bfa3-ff02-4d84-b3f5-6df0a79fe0ba",
   "metadata": {},
   "outputs": [
    {
     "name": "stdout",
     "output_type": "stream",
     "text": [
      "Hello\n"
     ]
    }
   ],
   "source": [
    "a = \"hello\"\n",
    "a = a.capitalize()\n",
    "print(a)"
   ]
  },
  {
   "cell_type": "code",
   "execution_count": 125,
   "id": "6ec1b117-385b-49b2-99f4-970eb0ffefdd",
   "metadata": {},
   "outputs": [
    {
     "name": "stdout",
     "output_type": "stream",
     "text": [
      "['hello', 'world']\n"
     ]
    }
   ],
   "source": [
    "a = \"hello world\"\n",
    "a1 = a.split()\n",
    "print(a1)"
   ]
  },
  {
   "cell_type": "code",
   "execution_count": 126,
   "id": "665afbfd-0f6a-457a-af05-b6dd74959d8d",
   "metadata": {},
   "outputs": [
    {
     "name": "stdout",
     "output_type": "stream",
     "text": [
      "['btc', 'krw']\n"
     ]
    }
   ],
   "source": [
    "ticker = \"btc_krw\"\n",
    "new=ticker.split(\"_\")\n",
    "print(new)"
   ]
  },
  {
   "cell_type": "code",
   "execution_count": 127,
   "id": "7ce410de-be98-410a-8bcc-b2b028b03409",
   "metadata": {},
   "outputs": [
    {
     "name": "stdout",
     "output_type": "stream",
     "text": [
      "039490\n"
     ]
    }
   ],
   "source": [
    "data = \"039490     \"\n",
    "new = data.rstrip()\n",
    "print(new)"
   ]
  },
  {
   "cell_type": "markdown",
   "id": "0729d585-f095-446b-a516-8ed0d488cd05",
   "metadata": {},
   "source": [
    "### <04.리스트> 051-060"
   ]
  },
  {
   "cell_type": "code",
   "execution_count": 142,
   "id": "d7e7e85d-167b-4877-b9bd-b02ee5dcff90",
   "metadata": {},
   "outputs": [],
   "source": [
    "movie_rank=[\"닥터스트레인지\",\"스플릿\",\"럭키\"]"
   ]
  },
  {
   "cell_type": "code",
   "execution_count": 143,
   "id": "b95a0fe7-8dc3-4bf4-8d19-9ee2d75ec0ae",
   "metadata": {},
   "outputs": [
    {
     "name": "stdout",
     "output_type": "stream",
     "text": [
      "['닥터스트레인지', '스플릿', '럭키', '배트맨']\n"
     ]
    }
   ],
   "source": [
    "movie_rank.append(\"배트맨\")\n",
    "print(movie_rank)"
   ]
  },
  {
   "cell_type": "code",
   "execution_count": 144,
   "id": "61bf3262-36b2-4274-bd28-77a11ace703b",
   "metadata": {},
   "outputs": [
    {
     "name": "stdout",
     "output_type": "stream",
     "text": [
      "['닥터스트레인지', '슈퍼맨', '스플릿', '럭키', '배트맨']\n"
     ]
    }
   ],
   "source": [
    "movie_rank.insert(1,\"슈퍼맨\")\n",
    "print(movie_rank)"
   ]
  },
  {
   "cell_type": "code",
   "execution_count": 145,
   "id": "8fe166b2-0e23-4912-a102-b628166bceb6",
   "metadata": {},
   "outputs": [
    {
     "name": "stdout",
     "output_type": "stream",
     "text": [
      "['닥터스트레인지', '슈퍼맨', '스플릿', '배트맨']\n"
     ]
    }
   ],
   "source": [
    "movie_rank.remove('럭키')                  #또는 del movie_rank[3]\n",
    "print(movie_rank)"
   ]
  },
  {
   "cell_type": "code",
   "execution_count": 149,
   "id": "8bfc3aa1-f0ff-4eed-8a2b-0a9f6687af88",
   "metadata": {},
   "outputs": [
    {
     "name": "stdout",
     "output_type": "stream",
     "text": [
      "['C', 'C++', 'JAVA', 'Python', 'Go', 'C#']\n"
     ]
    }
   ],
   "source": [
    "lang1 = [\"C\", \"C++\", \"JAVA\"]\n",
    "lang2 = [\"Python\", \"Go\", \"C#\"]\n",
    "new = lang1 + lang2\n",
    "print(new)"
   ]
  },
  {
   "cell_type": "code",
   "execution_count": 152,
   "id": "f0e0a394-812f-41a2-81a3-b28068e5ebfb",
   "metadata": {},
   "outputs": [
    {
     "name": "stdout",
     "output_type": "stream",
     "text": [
      "max: 7 min: 1\n"
     ]
    }
   ],
   "source": [
    "nums = [1, 2, 3, 4, 5, 6, 7]\n",
    "print(\"max:\",max(nums),\"min:\",min(nums))      #변수.max() 형태가 아님."
   ]
  },
  {
   "cell_type": "code",
   "execution_count": 154,
   "id": "de8ef597-d4c1-4d4f-9e34-e7f8d2f469be",
   "metadata": {},
   "outputs": [
    {
     "name": "stdout",
     "output_type": "stream",
     "text": [
      "15\n"
     ]
    }
   ],
   "source": [
    "nums = [1, 2, 3, 4, 5]\n",
    "print(sum(nums))                              #변수.sum() 형태가 아님."
   ]
  },
  {
   "cell_type": "code",
   "execution_count": 157,
   "id": "aadbcc20-4e36-4b32-a5d6-e028d31d8f9a",
   "metadata": {},
   "outputs": [
    {
     "name": "stdout",
     "output_type": "stream",
     "text": [
      "12\n"
     ]
    }
   ],
   "source": [
    "cook = [\"피자\", \"김밥\", \"만두\", \"양념치킨\", \"족발\", \"피자\", \n",
    "        \"김치만두\", \"쫄면\", \"소시지\", \"라면\", \"팥빙수\", \"김치전\"]\n",
    "print(len(cook))"
   ]
  },
  {
   "cell_type": "code",
   "execution_count": 160,
   "id": "139f16c4-4d57-4765-9a57-7ed602d93816",
   "metadata": {},
   "outputs": [
    {
     "name": "stdout",
     "output_type": "stream",
     "text": [
      "3.0\n"
     ]
    }
   ],
   "source": [
    "nums = [1, 2, 3, 4, 5]                       #리스트 숫자 요소들의 평균값 구하기\n",
    "aver = sum(nums) / len(nums)\n",
    "print(aver)"
   ]
  },
  {
   "cell_type": "markdown",
   "id": "58bafc23-9fcf-4914-97d8-81d6962bb8df",
   "metadata": {},
   "source": [
    "### <04.리스트> 061-070"
   ]
  },
  {
   "cell_type": "code",
   "execution_count": 161,
   "id": "c11230e8-1abc-4b56-8ec7-8c1e7c00ff73",
   "metadata": {},
   "outputs": [
    {
     "name": "stdout",
     "output_type": "stream",
     "text": [
      "[100, 130, 140, 150, 160, 170]\n"
     ]
    }
   ],
   "source": [
    "price = ['20180728', 100, 130, 140, 150, 160, 170]\n",
    "print(price[1:])"
   ]
  },
  {
   "cell_type": "code",
   "execution_count": 166,
   "id": "65383d77-be78-4bb5-8386-1f41858e25ce",
   "metadata": {},
   "outputs": [
    {
     "name": "stdout",
     "output_type": "stream",
     "text": [
      "[1, 3, 5, 7, 9]\n"
     ]
    }
   ],
   "source": [
    "nums = [1, 2, 3, 4, 5, 6, 7, 8, 9, 10]         #슬라이싱을 이용한 홀수 출력\n",
    "print(nums[::2])"
   ]
  },
  {
   "cell_type": "code",
   "execution_count": 164,
   "id": "51f90f45-767d-46b0-81f0-1cb4173f53d6",
   "metadata": {},
   "outputs": [
    {
     "name": "stdout",
     "output_type": "stream",
     "text": [
      "[1, 3, 5, 7, 9]\n"
     ]
    }
   ],
   "source": [
    "result=[]                                     #for문을 이용한 홀수 출력\n",
    "nums = [1, 2, 3, 4, 5, 6, 7, 8, 9, 10]\n",
    "for i in nums:\n",
    "    if i%2 == 1:\n",
    "        result.append(i)\n",
    "print(result)"
   ]
  },
  {
   "cell_type": "code",
   "execution_count": 167,
   "id": "cebaa826-b38e-4694-9f95-2565aaca56ff",
   "metadata": {},
   "outputs": [
    {
     "name": "stdout",
     "output_type": "stream",
     "text": [
      "[2, 4, 6, 8, 10]\n"
     ]
    }
   ],
   "source": [
    "nums = [1, 2, 3, 4, 5, 6, 7, 8, 9, 10]         #슬라이싱을 이용한 짝수 출력\n",
    "print(nums[1::2])"
   ]
  },
  {
   "cell_type": "code",
   "execution_count": 168,
   "id": "84d4ba37-b73e-4fad-9dbc-af49c36c4d6a",
   "metadata": {},
   "outputs": [
    {
     "name": "stdout",
     "output_type": "stream",
     "text": [
      "[2, 4, 6, 8, 10]\n"
     ]
    }
   ],
   "source": [
    "result=[]                                       #for문을 이용한 짝수 출력\n",
    "nums = [1, 2, 3, 4, 5, 6, 7, 8, 9, 10]\n",
    "for i in nums:\n",
    "    if i%2 == 0:\n",
    "        result.append(i)\n",
    "print(result)"
   ]
  },
  {
   "cell_type": "code",
   "execution_count": 8,
   "id": "78f8ab00-712f-447a-8551-00d22ab9728e",
   "metadata": {},
   "outputs": [
    {
     "name": "stdout",
     "output_type": "stream",
     "text": [
      "[10, 8, 6, 4, 2]\n"
     ]
    }
   ],
   "source": [
    "nums = [1, 2, 3, 4, 5, 6, 7, 8, 9, 10]      #슬라이싱을 이용한 짝수 역방향 출력\n",
    "\n",
    "print(nums[::-2])"
   ]
  },
  {
   "cell_type": "code",
   "execution_count": 170,
   "id": "754dcccc-1207-43ad-a583-de6494311902",
   "metadata": {},
   "outputs": [
    {
     "name": "stdout",
     "output_type": "stream",
     "text": [
      "삼성전자 Naver\n"
     ]
    }
   ],
   "source": [
    "interest = ['삼성전자', 'LG전자', 'Naver']\n",
    "print(interest[0],interest[-1])"
   ]
  },
  {
   "cell_type": "markdown",
   "id": "f3a0320b-0f60-46f9-8ad5-ab994beda2da",
   "metadata": {},
   "source": [
    "### <05.튜플> 071-080"
   ]
  },
  {
   "cell_type": "code",
   "execution_count": 172,
   "id": "64cfe6fd-25ed-4c3e-bd8b-dcf644091cd2",
   "metadata": {},
   "outputs": [
    {
     "data": {
      "text/plain": [
       "tuple"
      ]
     },
     "execution_count": 172,
     "metadata": {},
     "output_type": "execute_result"
    }
   ],
   "source": [
    "my_variable=() \n",
    "type(my_variable)"
   ]
  },
  {
   "cell_type": "code",
   "execution_count": 174,
   "id": "c31465ab-eb15-4dd5-bb17-39c3eb3f49b7",
   "metadata": {},
   "outputs": [],
   "source": [
    "movie_rank  =(\"닥터 스트레인지\", \"스플릿\", \"럭키\")"
   ]
  },
  {
   "cell_type": "code",
   "execution_count": 179,
   "id": "5cc68504-f641-4366-8dc9-576b9898a201",
   "metadata": {},
   "outputs": [
    {
     "data": {
      "text/plain": [
       "int"
      ]
     },
     "execution_count": 179,
     "metadata": {},
     "output_type": "execute_result"
    }
   ],
   "source": [
    "fake_tup = (1)\n",
    "type(fake_tup)"
   ]
  },
  {
   "cell_type": "code",
   "execution_count": 181,
   "id": "65f302f5-47ad-4c00-832e-1904fcac5bcd",
   "metadata": {},
   "outputs": [
    {
     "data": {
      "text/plain": [
       "tuple"
      ]
     },
     "execution_count": 181,
     "metadata": {},
     "output_type": "execute_result"
    }
   ],
   "source": [
    "real_tup = (1,)                            #073요소가 하나인 튜플은 쉼표 입력\n",
    "type(real_tup)"
   ]
  },
  {
   "cell_type": "code",
   "execution_count": 182,
   "id": "2f9c989b-7f58-40df-bf75-e2c45d75219d",
   "metadata": {},
   "outputs": [],
   "source": [
    "t = ('a', 'b', 'c')"
   ]
  },
  {
   "cell_type": "code",
   "execution_count": 183,
   "id": "8a5726bf-b690-4b0b-9fac-ab9218c255c5",
   "metadata": {},
   "outputs": [],
   "source": [
    "t = ('A', 'b', 'c')"
   ]
  },
  {
   "cell_type": "code",
   "execution_count": 184,
   "id": "2c0b3893-21bb-4dd6-a832-10841738c604",
   "metadata": {},
   "outputs": [
    {
     "name": "stdout",
     "output_type": "stream",
     "text": [
      "('A', 'b', 'c')\n"
     ]
    }
   ],
   "source": [
    "print(t)"
   ]
  },
  {
   "cell_type": "code",
   "execution_count": 196,
   "id": "ad4252ae-d6bb-4c86-9c0a-6f2f21a11e59",
   "metadata": {},
   "outputs": [
    {
     "ename": "TypeError",
     "evalue": "'list' object is not callable",
     "output_type": "error",
     "traceback": [
      "\u001b[1;31m---------------------------------------------------------------------------\u001b[0m",
      "\u001b[1;31mTypeError\u001b[0m                                 Traceback (most recent call last)",
      "\u001b[1;32m<ipython-input-196-4274c75c57b3>\u001b[0m in \u001b[0;36m<module>\u001b[1;34m\u001b[0m\n\u001b[0;32m      1\u001b[0m \u001b[0minter\u001b[0m \u001b[1;33m=\u001b[0m \u001b[0ma\u001b[0m\u001b[1;33m,\u001b[0m \u001b[0mb\u001b[0m\u001b[1;33m,\u001b[0m \u001b[0mc\u001b[0m\u001b[1;33m\u001b[0m\u001b[1;33m\u001b[0m\u001b[0m\n\u001b[1;32m----> 2\u001b[1;33m \u001b[0mnew\u001b[0m \u001b[1;33m=\u001b[0m \u001b[0mlist\u001b[0m\u001b[1;33m(\u001b[0m\u001b[0minter\u001b[0m\u001b[1;33m)\u001b[0m                                    \u001b[1;31m# 왜 오류?\u001b[0m\u001b[1;33m\u001b[0m\u001b[1;33m\u001b[0m\u001b[0m\n\u001b[0m",
      "\u001b[1;31mTypeError\u001b[0m: 'list' object is not callable"
     ]
    }
   ],
   "source": [
    "inter = a, b, c\n",
    "new = list(inter)                                    # 왜 오류?"
   ]
  },
  {
   "cell_type": "code",
   "execution_count": 198,
   "id": "d246fe45-64b3-4d45-a43c-e7c0c1ec9587",
   "metadata": {},
   "outputs": [
    {
     "name": "stdout",
     "output_type": "stream",
     "text": [
      "('삼성전자', 'LG전자', 'SK Hynix')\n"
     ]
    }
   ],
   "source": [
    "interest = ['삼성전자', 'LG전자', 'SK Hynix']\n",
    "neww = tuple(interest)\n",
    "print(neww)"
   ]
  },
  {
   "cell_type": "code",
   "execution_count": 199,
   "id": "be1020bb-7c7b-450c-aaa9-78ff1b1c9447",
   "metadata": {},
   "outputs": [
    {
     "name": "stdout",
     "output_type": "stream",
     "text": [
      "apple banana cake\n"
     ]
    }
   ],
   "source": [
    "temp = ('apple', 'banana', 'cake')                     #079 튜플 언팩킹\n",
    "a, b, c = temp\n",
    "print(a, b, c)"
   ]
  },
  {
   "cell_type": "code",
   "execution_count": 212,
   "id": "44dc0b0a-020c-4e55-af1b-03497220eb49",
   "metadata": {},
   "outputs": [
    {
     "name": "stdout",
     "output_type": "stream",
     "text": [
      "(2, 4, 6, 8, 10, 12, 14, 16, 18, 20, 22, 24, 26, 28, 30, 32, 34, 36, 38, 40, 42, 44, 46, 48, 50, 52, 54, 56, 58, 60, 62, 64, 66, 68, 70, 72, 74, 76, 78, 80, 82, 84, 86, 88, 90, 92, 94, 96, 98)\n"
     ]
    }
   ],
   "source": [
    "data = tuple(range(2, 100, 2))        #080 range 애용한 1 부터 99까지 짝수 튜플\n",
    "print( data )"
   ]
  },
  {
   "cell_type": "code",
   "execution_count": 10,
   "id": "f8389896-ca29-49f4-8faf-ae7c3f707fa3",
   "metadata": {},
   "outputs": [
    {
     "name": "stdout",
     "output_type": "stream",
     "text": [
      "[2, 4, 6, 8, 10, 12, 14, 16, 18, 20, 22, 24, 26, 28, 30, 32, 34, 36, 38, 40, 42, 44, 46, 48, 50, 52, 54, 56, 58, 60, 62, 64, 66, 68, 70, 72, 74, 76, 78, 80, 82, 84, 86, 88, 90, 92, 94, 96, 98]\n"
     ]
    }
   ],
   "source": [
    "data = list(range(2, 100, 2))      #응용 range 애용한 1 부터 99까지 짝수 리스트\n",
    "print( data )"
   ]
  },
  {
   "cell_type": "code",
   "execution_count": 213,
   "id": "7da58515-f06e-4376-871c-9606c6b0aa45",
   "metadata": {},
   "outputs": [
    {
     "name": "stdout",
     "output_type": "stream",
     "text": [
      "[2, 4, 6, 8, 10, 12, 14, 16, 18, 20, 22, 24, 26, 28, 30, 32, 34, 36, 38, 40, 42, 44, 46, 48, 50, 52, 54, 56, 58, 60, 62, 64, 66, 68, 70, 72, 74, 76, 78, 80, 82, 84, 86, 88, 90, 92, 94, 96, 98]\n"
     ]
    }
   ],
   "source": [
    "result=[]                              # range(시작숫자, 끝숫자+1, 간격)\n",
    "for i in range(2,100,2):\n",
    "    result.append(i)\n",
    "print(result)"
   ]
  },
  {
   "cell_type": "code",
   "execution_count": 205,
   "id": "e3d1b2a9-3863-441b-95c1-f47ffac074b2",
   "metadata": {},
   "outputs": [
    {
     "name": "stdout",
     "output_type": "stream",
     "text": [
      "(2, 4, 6, 8, 10, 12, 14, 16, 18, 20, 22, 24, 26, 28, 30, 32, 34, 36, 38, 40, 42, 44, 46, 48, 50, 52, 54, 56, 58, 60, 62, 64, 66, 68, 70, 72, 74, 76, 78, 80, 82, 84, 86, 88, 90, 92, 94, 96, 98)\n"
     ]
    }
   ],
   "source": [
    "result=[]                            # for문을 이용한 1 부터 99까지 짝수 튜플\n",
    "for i in range(1,99):\n",
    "    if i % 2 ==0:\n",
    "        result.append(i)\n",
    "    a = tuple(result)\n",
    "print(a)"
   ]
  },
  {
   "cell_type": "markdown",
   "id": "1604b633-a643-4224-8a3b-cd8839e99933",
   "metadata": {},
   "source": [
    "### <06.딕셔너리> 081-090"
   ]
  },
  {
   "cell_type": "code",
   "execution_count": 215,
   "id": "c5fcd2a4-9164-4e2a-b746-8e0efb0576b5",
   "metadata": {},
   "outputs": [
    {
     "name": "stdout",
     "output_type": "stream",
     "text": [
      "0 1 [2, 3, 4, 5]\n"
     ]
    }
   ],
   "source": [
    "a, b, *c = (0, 1, 2, 3, 4, 5)                     #081 튜플 언팩킹과 *\n",
    "print(a,b,c)"
   ]
  },
  {
   "cell_type": "code",
   "execution_count": 217,
   "id": "ec37b999-b680-49af-98f1-226a51fd929e",
   "metadata": {},
   "outputs": [
    {
     "name": "stdout",
     "output_type": "stream",
     "text": [
      "[1, 2, 3, 4, 5, 6, 7, 8]\n"
     ]
    }
   ],
   "source": [
    "scores = [1,2,3,4,5,6,7,8,9,10]\n",
    "*valid_score , a, b = scores\n",
    "print(valid_score)"
   ]
  },
  {
   "cell_type": "code",
   "execution_count": 219,
   "id": "cd5a5490-31f1-4d9e-ab8f-c1739fc6771c",
   "metadata": {},
   "outputs": [
    {
     "name": "stdout",
     "output_type": "stream",
     "text": [
      "[3, 4, 5, 6, 7, 8, 9, 10]\n"
     ]
    }
   ],
   "source": [
    "scores = [1,2,3,4,5,6,7,8,9,10]\n",
    "a , b , *valid_score = scores\n",
    "print(valid_score)"
   ]
  },
  {
   "cell_type": "code",
   "execution_count": 221,
   "id": "d30d9cae-696a-4a0b-833d-6bfdfdd68176",
   "metadata": {},
   "outputs": [],
   "source": [
    "temp={}"
   ]
  },
  {
   "cell_type": "code",
   "execution_count": 227,
   "id": "e51b3edc-f6ef-4d43-8f9c-4613a7f68a8b",
   "metadata": {},
   "outputs": [
    {
     "name": "stdout",
     "output_type": "stream",
     "text": [
      "{'메로나': 1000, '폴라포': 1200, '빵빠레': 1800, '죠스바': 1200, '월드콘': 1500}\n"
     ]
    }
   ],
   "source": [
    "price = {\"메로나\" : 1000, \"폴라포\" :1200 , \"빵빠레\" : 1800} \n",
    "price[\"죠스바\"] = 1200\n",
    "price[\"월드콘\"] = 1500                        #086 딕셔너리 요소 추가 \n",
    "print(price)"
   ]
  },
  {
   "cell_type": "markdown",
   "id": "0fcc94cd-211a-4e41-9660-ef8f97e6d00f",
   "metadata": {},
   "source": [
    "### <06.딕셔너리> 091-100"
   ]
  },
  {
   "cell_type": "code",
   "execution_count": null,
   "id": "bf7327fe-b32f-4059-8394-af1b07fc1c15",
   "metadata": {},
   "outputs": [],
   "source": []
  },
  {
   "cell_type": "markdown",
   "id": "32261f58-5c44-4c4b-92ca-ddf91a980dc8",
   "metadata": {
    "tags": []
   },
   "source": [
    "### <07.분기문> 101-110"
   ]
  },
  {
   "cell_type": "code",
   "execution_count": 229,
   "id": "296bef40-7f85-4158-b000-e4efafac9028",
   "metadata": {},
   "outputs": [],
   "source": [
    "if 4 < 3:\n",
    "    print(\"Hello World\")          #107 조건을 만족하지 않기 떄문에 출력되지 않음"
   ]
  },
  {
   "cell_type": "code",
   "execution_count": 230,
   "id": "e4693278-2c28-4f96-8537-bd867055d5b0",
   "metadata": {},
   "outputs": [
    {
     "name": "stdout",
     "output_type": "stream",
     "text": [
      "1\n",
      "2\n",
      "4\n"
     ]
    }
   ],
   "source": [
    "if True :           #참\n",
    "    print (\"1\")        #출력\n",
    "    print (\"2\")        #출력\n",
    "else :             #거짓\n",
    "    print(\"3\")         #출력x\n",
    "print(\"4\")        #조건문과 상관 없음. #출력"
   ]
  },
  {
   "cell_type": "code",
   "execution_count": 231,
   "id": "cd16184e-5199-473b-8097-d6c3526e963d",
   "metadata": {},
   "outputs": [
    {
     "name": "stdout",
     "output_type": "stream",
     "text": [
      "3\n",
      "5\n"
     ]
    }
   ],
   "source": [
    "if True :           #참\n",
    "    if False:            #거짓\n",
    "        print(\"1\")           #출력x\n",
    "        print(\"2\")           #출력x\n",
    "    else:                #참\n",
    "        print(\"3\")           #출력\n",
    "else :              #거짓\n",
    "    print(\"4\")           #출력x\n",
    "print(\"5\")          #조건문과 상관없이 출력"
   ]
  },
  {
   "cell_type": "markdown",
   "id": "4297e2f7-5a84-478b-94c4-07b7c32a9c3a",
   "metadata": {
    "tags": []
   },
   "source": [
    "### <07.분기문> 121-120"
   ]
  },
  {
   "cell_type": "code",
   "execution_count": 232,
   "id": "8c00340d-ca6e-4169-9ae3-ff1a052fab2d",
   "metadata": {},
   "outputs": [
    {
     "name": "stdin",
     "output_type": "stream",
     "text": [
      "입력: 안녕하세요\n"
     ]
    },
    {
     "name": "stdout",
     "output_type": "stream",
     "text": [
      "안녕하세요안녕하세요\n"
     ]
    }
   ],
   "source": [
    "user=input(\"입력:\")\n",
    "print(user*2)"
   ]
  },
  {
   "cell_type": "code",
   "execution_count": 235,
   "id": "e4c8dfc0-e5ee-475b-85fb-37343b6aa768",
   "metadata": {},
   "outputs": [
    {
     "name": "stdin",
     "output_type": "stream",
     "text": [
      "숫자를 입력하세요: 30\n"
     ]
    },
    {
     "name": "stdout",
     "output_type": "stream",
     "text": [
      "40\n"
     ]
    }
   ],
   "source": [
    "user1=input(\"숫자를 입력하세요:\")\n",
    "print(int(user1)+10)      #112 입력받은 문자는 '문자열'로 인식하므로 int로 바꿔줌"
   ]
  },
  {
   "cell_type": "code",
   "execution_count": 237,
   "id": "e49443d5-4f77-45a5-83eb-bb4866e0af10",
   "metadata": {},
   "outputs": [
    {
     "name": "stdin",
     "output_type": "stream",
     "text": [
      " 30\n"
     ]
    },
    {
     "name": "stdout",
     "output_type": "stream",
     "text": [
      "짝수\n"
     ]
    }
   ],
   "source": [
    "user2=input()\n",
    "if int(user2) % 2 ==0:   #113 입력받은 문자는 '문자열'로 인식하므로 int로 바꿔줌\n",
    "    print(\"짝수\")\n",
    "else:\n",
    "    print(\"홀수\")"
   ]
  },
  {
   "cell_type": "code",
   "execution_count": 1,
   "id": "5844b4e2-09a4-4a15-8529-10b1a397c815",
   "metadata": {},
   "outputs": [
    {
     "name": "stdin",
     "output_type": "stream",
     "text": [
      "입력값: 100\n"
     ]
    },
    {
     "name": "stdout",
     "output_type": "stream",
     "text": [
      "출력값: 120\n"
     ]
    }
   ],
   "source": [
    "user3=input(\"입력값:\")                               #114 정석 풀이\n",
    "result = int(user3) + 2\n",
    "if result>225:\n",
    "    print(\"출려값:\",225)\n",
    "else:\n",
    "    print(\"출력값:\",result)"
   ]
  },
  {
   "cell_type": "code",
   "execution_count": 4,
   "id": "95ae056e-cb12-475a-b418-5cd99326bdd1",
   "metadata": {},
   "outputs": [
    {
     "name": "stdin",
     "output_type": "stream",
     "text": [
      "입력값: 50\n"
     ]
    },
    {
     "name": "stdout",
     "output_type": "stream",
     "text": [
      "출력값: 70\n"
     ]
    }
   ],
   "source": [
    "users=input(\"입력값:\")                            #114 풀이2\n",
    "if int(users)<=225:\n",
    "    print(\"출력값:\",int(users)+20)\n",
    "else:\n",
    "    print(\"출력값:\",225)"
   ]
  },
  {
   "cell_type": "code",
   "execution_count": 8,
   "id": "4026ceb1-28f0-4dbf-a6be-7534a49ad6e0",
   "metadata": {},
   "outputs": [
    {
     "name": "stdin",
     "output_type": "stream",
     "text": [
      "입력값: 500\n"
     ]
    },
    {
     "name": "stdout",
     "output_type": "stream",
     "text": [
      "225\n"
     ]
    }
   ],
   "source": [
    "a = input(\"입력값:\")                            #114 정석 풀이  (elif 쓰기)\n",
    "result = int(a) - 20\n",
    "\n",
    "if 0 <= int(a) <= 225:\n",
    "    print(result)\n",
    "elif 0 > int(a):\n",
    "    print(0)\n",
    "else:\n",
    "    print(225)"
   ]
  },
  {
   "cell_type": "code",
   "execution_count": 7,
   "id": "588aada1-2ab1-4ec4-b40c-032e960e8463",
   "metadata": {
    "tags": []
   },
   "outputs": [
    {
     "name": "stdin",
     "output_type": "stream",
     "text": [
      "입력값: 500\n"
     ]
    },
    {
     "name": "stdout",
     "output_type": "stream",
     "text": [
      "225\n"
     ]
    }
   ],
   "source": [
    "a = input(\"입력값:\")                              #114 풀이2  (elif 없이 풀어쓰기)\n",
    "result = int(a) - 20\n",
    "\n",
    "if 0 <= int(a) <= 225:\n",
    "    print(result)\n",
    "else:\n",
    "    if 0 > int(a):\n",
    "        print(0)\n",
    "    else:\n",
    "        print(225)"
   ]
  },
  {
   "cell_type": "code",
   "execution_count": 9,
   "id": "dee13ece-68f5-423f-8f8c-ca8c8bc9561a",
   "metadata": {},
   "outputs": [
    {
     "name": "stdin",
     "output_type": "stream",
     "text": [
      "현재시간: 02:15\n"
     ]
    },
    {
     "name": "stdout",
     "output_type": "stream",
     "text": [
      "정각x\n"
     ]
    }
   ],
   "source": [
    "time=input(\"현재시간:\")\n",
    "if time[-2:] == 0:                     #116 참고\n",
    "    print('정각')\n",
    "else:\n",
    "    print('정각x')"
   ]
  },
  {
   "cell_type": "code",
   "execution_count": 10,
   "id": "af67524e-28dc-4203-8d38-9fb7794be70d",
   "metadata": {},
   "outputs": [
    {
     "name": "stdin",
     "output_type": "stream",
     "text": [
      "what's your favorite food = ?: 사과\n"
     ]
    },
    {
     "name": "stdout",
     "output_type": "stream",
     "text": [
      "정답\n"
     ]
    }
   ],
   "source": [
    "favor=input(\"what's your favorite food = ?:\")\n",
    "fruit = [\"사과\", \"포도\", \"홍시\"]\n",
    "if favor in fruit:                        #117 요소 in list\n",
    "    print(\"정답\")\n",
    "else:\n",
    "    print(\"오답\")"
   ]
  },
  {
   "cell_type": "code",
   "execution_count": 11,
   "id": "638b74a6-b084-44de-a119-feda7317989b",
   "metadata": {},
   "outputs": [
    {
     "name": "stdin",
     "output_type": "stream",
     "text": [
      "입력: Naver\n"
     ]
    },
    {
     "name": "stdout",
     "output_type": "stream",
     "text": [
      "투자 경고 종목\n"
     ]
    }
   ],
   "source": [
    "warn_investment_list = [\"Microsoft\", \"Google\", \"Naver\", \"Kakao\", \"SAMSUNG\", \"LG\"]\n",
    "a = input(\"입력:\")\n",
    "if a in warn_investment_list:           #118 요소 in list                      \n",
    "    print(\"투자 경고 종목\")\n",
    "else:\n",
    "    print(\"투자 경고 종목 아님\")"
   ]
  },
  {
   "cell_type": "code",
   "execution_count": null,
   "id": "ae7a5749-587b-4c14-9acb-17d167c73bdf",
   "metadata": {},
   "outputs": [],
   "source": [
    "season = {\"봄\" : \"딸기\", \"여름\" : \"토마토\", \"가을\" : \"사과\"}\n",
    "fav = input(\"제가 좋아하는 계절은?:\")\n",
    "\n",
    "if fav in season:                       #119 입력 값이 key\n",
    "    print(\"정답\")\n",
    "else:\n",
    "    print(\"오답\")"
   ]
  },
  {
   "cell_type": "code",
   "execution_count": null,
   "id": "e7cc87ea-b99e-424b-b850-3cc7ed5f4c1c",
   "metadata": {},
   "outputs": [],
   "source": [
    "fruits = {\"봄\" : \"딸기\", \"여름\" : \"토마토\", \"가을\" : \"사과\"}\n",
    "fave = input(\"좋아하는 과일은?:\")\n",
    "\n",
    "if fave in fruits.values():                 #119 입력 값이 values\n",
    "    print(\"정답\")                          #딕셔너리의 values는  a.values()\n",
    "else:\n",
    "    print(\"오답\")"
   ]
  },
  {
   "cell_type": "markdown",
   "id": "6ff904ed-4efc-4c88-82e8-47346a091b92",
   "metadata": {},
   "source": [
    "### <07.분기문> 121-130"
   ]
  },
  {
   "cell_type": "code",
   "execution_count": 6,
   "id": "32a174d3-bb10-49e8-94af-cf9e75e6e2c5",
   "metadata": {},
   "outputs": [
    {
     "name": "stdin",
     "output_type": "stream",
     "text": [
      " a\n"
     ]
    },
    {
     "name": "stdout",
     "output_type": "stream",
     "text": [
      "A\n"
     ]
    }
   ],
   "source": [
    "user = input()\n",
    "if user.islower():      #대소문자 판별함수. islower(변수)아니고 변수.islower()\n",
    "    print(user.upper()) #대문자 변형함수. upper(변수)아니고 변수.upper()\n",
    "else:\n",
    "    print(user.lower())  #소문자 변형함수. lower(변수)아니고 변수.lower()"
   ]
  },
  {
   "cell_type": "code",
   "execution_count": 7,
   "id": "f46cfdfd-62ab-4d64-bc5e-a5002948e9a5",
   "metadata": {},
   "outputs": [
    {
     "name": "stdin",
     "output_type": "stream",
     "text": [
      "score: 95\n"
     ]
    },
    {
     "name": "stdout",
     "output_type": "stream",
     "text": [
      "grade is A\n"
     ]
    }
   ],
   "source": [
    "user = input(\"score:\")\n",
    "if 0 <= int(user) <= 20:\n",
    "    print(\"grade is E\")\n",
    "elif int(user) <= 40:\n",
    "    print(\"grade is D\")\n",
    "elif int(user) <= 60:\n",
    "    print(\"grade is C\")\n",
    "elif int(user) <= 80:\n",
    "    print(\"grade is B\")\n",
    "else:\n",
    "    print(\"grade is A\")\n",
    "    "
   ]
  },
  {
   "cell_type": "code",
   "execution_count": 8,
   "id": "396f7e24-6a18-41c0-b130-15dd548de491",
   "metadata": {},
   "outputs": [
    {
     "name": "stdin",
     "output_type": "stream",
     "text": [
      "입력: 1000 달러\n"
     ]
    },
    {
     "name": "stdout",
     "output_type": "stream",
     "text": [
      "1167000.0 원\n"
     ]
    }
   ],
   "source": [
    "환율 = {\"달러\": 1167, \"엔\": 1.096, \"유로\": 1268, \"위안\": 171}   #123 어려움\n",
    "user = input(\"입력:\")\n",
    "num, currency = user.split()   #력값을 띄어쓰기 기준으로 나누어 각각 변수 두개에 넣은 후\n",
    "print(float(num) * 환율[currency], \"원\")   #앞 변수는 숫자 * 뒷변수(key)는 딕셔너리에서 key에 해당하는 values 곱한다."
   ]
  },
  {
   "cell_type": "code",
   "execution_count": 9,
   "id": "94febc2d-0493-4f62-a0cc-823e0229a466",
   "metadata": {},
   "outputs": [],
   "source": [
    "#124-130"
   ]
  },
  {
   "cell_type": "markdown",
   "id": "36bdb6cd-fc38-467c-9645-5a02de4d7aee",
   "metadata": {},
   "source": [
    "### <08.반복문> 131-140"
   ]
  },
  {
   "cell_type": "code",
   "execution_count": 10,
   "id": "3f6afd33-bd67-433a-b981-fce2a45bd031",
   "metadata": {
    "tags": []
   },
   "outputs": [
    {
     "name": "stdout",
     "output_type": "stream",
     "text": [
      "#####\n",
      "#####\n",
      "#####\n"
     ]
    }
   ],
   "source": [
    "과일 = [\"사과\", \"귤\", \"수박\"]\n",
    "for 변수 in 과일:\n",
    "    print(\"#####\")"
   ]
  },
  {
   "cell_type": "code",
   "execution_count": 11,
   "id": "b238b4f7-2a01-4e0b-a2bd-f60d6c568043",
   "metadata": {},
   "outputs": [
    {
     "name": "stdout",
     "output_type": "stream",
     "text": [
      "A\n",
      "B\n",
      "C\n"
     ]
    }
   ],
   "source": [
    "a=[\"A\", \"B\", \"C\"]\n",
    "for i in a:\n",
    "    print(i)"
   ]
  },
  {
   "cell_type": "code",
   "execution_count": 13,
   "id": "cfbabb2f-0ff7-4056-95a6-239f80f83de0",
   "metadata": {},
   "outputs": [
    {
     "name": "stdout",
     "output_type": "stream",
     "text": [
      "10\n",
      "20\n",
      "30\n"
     ]
    }
   ],
   "source": [
    "a = [10,20,30]\n",
    "for i in a:\n",
    "    print(i)"
   ]
  },
  {
   "cell_type": "code",
   "execution_count": 16,
   "id": "ecc06365-7393-4264-aaf7-e6d94b36cdd8",
   "metadata": {},
   "outputs": [
    {
     "name": "stdout",
     "output_type": "stream",
     "text": [
      "10\n",
      "======\n",
      "20\n",
      "======\n",
      "30\n",
      "======\n"
     ]
    }
   ],
   "source": [
    "for i in [10,20,30]:\n",
    "    print(i)\n",
    "    print(\"======\")"
   ]
  },
  {
   "cell_type": "markdown",
   "id": "9332d146-1fb7-4098-8df8-30849c44ced0",
   "metadata": {},
   "source": [
    "### <08.반복문> 141-150"
   ]
  },
  {
   "cell_type": "code",
   "execution_count": 124,
   "id": "9e2c51a4-c674-45ac-a174-1dce7b56544b",
   "metadata": {},
   "outputs": [
    {
     "name": "stdout",
     "output_type": "stream",
     "text": [
      "110\n",
      "210\n",
      "310\n"
     ]
    }
   ],
   "source": [
    "a= [100, 200, 300]\n",
    "for i in a:\n",
    "    print(i+10)"
   ]
  },
  {
   "cell_type": "code",
   "execution_count": 127,
   "id": "f67874c4-9595-4ad5-92f5-1a1c3d62ba2e",
   "metadata": {},
   "outputs": [
    {
     "name": "stdout",
     "output_type": "stream",
     "text": [
      "오늘의 메뉴: 김밥\n",
      "오늘의 메뉴: 라면\n",
      "오늘의 메뉴: 튀김\n"
     ]
    }
   ],
   "source": [
    "a = [\"김밥\", \"라면\", \"튀김\"]\n",
    "for i in a:\n",
    "    print(f\"오늘의 메뉴: {i}\")"
   ]
  },
  {
   "cell_type": "code",
   "execution_count": 129,
   "id": "69dfdc5a-d11f-44b8-bd50-014048df74cd",
   "metadata": {},
   "outputs": [
    {
     "name": "stdout",
     "output_type": "stream",
     "text": [
      "6\n",
      "4\n",
      "4\n"
     ]
    }
   ],
   "source": [
    "a = [\"SK하이닉스\", \"삼성전자\", \"LG전자\"]\n",
    "for i in a:\n",
    "    print(len(i))"
   ]
  },
  {
   "cell_type": "code",
   "execution_count": 130,
   "id": "417923dd-bc1a-4b8c-af24-eb77e182659d",
   "metadata": {},
   "outputs": [
    {
     "name": "stdout",
     "output_type": "stream",
     "text": [
      "dog 3\n",
      "cat 3\n",
      "parrot 6\n"
     ]
    }
   ],
   "source": [
    "a = ['dog', 'cat', 'parrot']\n",
    "for i in a:\n",
    "    print(i, len(i))"
   ]
  },
  {
   "cell_type": "code",
   "execution_count": 132,
   "id": "8ccd1c81-2319-4bdb-a8a0-af6053580a9e",
   "metadata": {},
   "outputs": [
    {
     "name": "stdout",
     "output_type": "stream",
     "text": [
      "d\n",
      "c\n",
      "p\n"
     ]
    }
   ],
   "source": [
    "a =  ['dog', 'cat', 'parrot']\n",
    "for i in a:\n",
    "    print(i[0])"
   ]
  },
  {
   "cell_type": "code",
   "execution_count": 133,
   "id": "bb980fb7-47e7-47a0-81b6-f5689fce7afa",
   "metadata": {},
   "outputs": [
    {
     "name": "stdout",
     "output_type": "stream",
     "text": [
      "3 x 1\n",
      "3 x 2\n",
      "3 x 3\n"
     ]
    }
   ],
   "source": [
    "a = [1, 2, 3]\n",
    "for i in a:\n",
    "    print(f\"3 x {i}\")"
   ]
  },
  {
   "cell_type": "code",
   "execution_count": 134,
   "id": "8f448c80-79c8-403b-98f8-2e5a0605e76b",
   "metadata": {},
   "outputs": [
    {
     "name": "stdout",
     "output_type": "stream",
     "text": [
      "3 x 1 = 3*1\n",
      "3 x 2 = 3*2\n",
      "3 x 3 = 3*3\n"
     ]
    }
   ],
   "source": [
    "a = [1, 2, 3]\n",
    "for i in a:\n",
    "    print(f\"3 x {i} = 3*{i}\")"
   ]
  },
  {
   "cell_type": "code",
   "execution_count": 135,
   "id": "300eefc1-c36f-4351-8fd8-b35118c6af35",
   "metadata": {},
   "outputs": [
    {
     "name": "stdout",
     "output_type": "stream",
     "text": [
      "나\n",
      "다\n",
      "라\n"
     ]
    }
   ],
   "source": [
    "a = [\"가\", \"나\", \"다\", \"라\"]\n",
    "for i in a[1:]:\n",
    "    print(i)"
   ]
  },
  {
   "cell_type": "code",
   "execution_count": 136,
   "id": "b2f60d31-44bc-4a20-bef8-bd86db23b400",
   "metadata": {},
   "outputs": [
    {
     "name": "stdout",
     "output_type": "stream",
     "text": [
      "가\n",
      "다\n"
     ]
    }
   ],
   "source": [
    "a = [\"가\", \"나\", \"다\", \"라\"]\n",
    "for i in a[::2]:\n",
    "    print(i)"
   ]
  },
  {
   "cell_type": "code",
   "execution_count": 137,
   "id": "4781bd0f-dbfd-4da2-8d8c-6c649361ada6",
   "metadata": {},
   "outputs": [
    {
     "name": "stdout",
     "output_type": "stream",
     "text": [
      "라\n",
      "다\n",
      "나\n",
      "가\n"
     ]
    }
   ],
   "source": [
    "a = [\"가\", \"나\", \"다\", \"라\"]\n",
    "for i in a[::-1]:\n",
    "    print(i)"
   ]
  },
  {
   "cell_type": "markdown",
   "id": "f0581208-0c87-4e92-8924-42059aef58ae",
   "metadata": {},
   "source": [
    "### <08.반복문> 151-160"
   ]
  },
  {
   "cell_type": "code",
   "execution_count": 5,
   "id": "f4b7ae99-0a05-46dc-b58b-f1ebc73d9a69",
   "metadata": {},
   "outputs": [
    {
     "name": "stdout",
     "output_type": "stream",
     "text": [
      "-20\n",
      "-3\n"
     ]
    }
   ],
   "source": [
    "a = [3, -20, -3, 44]\n",
    "for i in a:\n",
    "    if i < 0:\n",
    "        print(i)"
   ]
  },
  {
   "cell_type": "code",
   "execution_count": 9,
   "id": "269a75ad-e5a2-4e77-b940-36b89af85fd0",
   "metadata": {},
   "outputs": [
    {
     "name": "stdout",
     "output_type": "stream",
     "text": [
      "3\n"
     ]
    }
   ],
   "source": [
    "a=[3, 100, 23, 44]\n",
    "for i in a:\n",
    "    if i % 3 == 0:\n",
    "        print(i)"
   ]
  },
  {
   "cell_type": "code",
   "execution_count": 10,
   "id": "9876bbfd-e409-479a-b144-191a5383230d",
   "metadata": {},
   "outputs": [
    {
     "name": "stdout",
     "output_type": "stream",
     "text": [
      "12\n",
      "18\n"
     ]
    }
   ],
   "source": [
    "a=[13, 21, 12, 14, 30, 18]\n",
    "for i in a:\n",
    "    if i%3 ==0 and i<20:\n",
    "        print(i)"
   ]
  },
  {
   "cell_type": "code",
   "execution_count": 12,
   "id": "dc23d1e0-2d2c-4ea1-9e24-b2ec19358eec",
   "metadata": {},
   "outputs": [
    {
     "name": "stdout",
     "output_type": "stream",
     "text": [
      "study\n",
      "python\n",
      "language\n"
     ]
    }
   ],
   "source": [
    "a=[\"I\", \"study\", \"python\", \"language\", \"!\"]\n",
    "for i in a:\n",
    "    if len(i)>=3:\n",
    "        print(i)"
   ]
  },
  {
   "cell_type": "code",
   "execution_count": 13,
   "id": "8fb9a915-79db-465b-aae8-0673c3367cb9",
   "metadata": {},
   "outputs": [
    {
     "name": "stdout",
     "output_type": "stream",
     "text": [
      "A\n",
      "D\n"
     ]
    }
   ],
   "source": [
    "a= [\"A\", \"b\", \"c\", \"D\"]\n",
    "for i in a:\n",
    "    if i.isupper():\n",
    "        print(i)"
   ]
  },
  {
   "cell_type": "code",
   "execution_count": 14,
   "id": "419bc25e-9609-40c0-b059-7e4d0e5e2cdc",
   "metadata": {},
   "outputs": [
    {
     "name": "stdout",
     "output_type": "stream",
     "text": [
      "b\n",
      "c\n"
     ]
    }
   ],
   "source": [
    "a= [\"A\", \"b\", \"c\", \"D\"]\n",
    "for i in a:\n",
    "    if not i.isupper():\n",
    "        print(i)"
   ]
  },
  {
   "cell_type": "code",
   "execution_count": null,
   "id": "ffcdef62-1824-49ea-8685-2bebe31ee06c",
   "metadata": {},
   "outputs": [],
   "source": [
    "a= ['hello.py', 'ex01.py', 'intro.hwp']\n",
    "for i in a:\n",
    "    b = i.split(\".\")              #158 따옴표 잊지 말기\n",
    "    print(b[0])"
   ]
  },
  {
   "cell_type": "code",
   "execution_count": 25,
   "id": "d9513f08-6781-41ac-a766-d2d0f0cc3dcd",
   "metadata": {},
   "outputs": [
    {
     "name": "stdout",
     "output_type": "stream",
     "text": [
      "intra.h\n",
      "define.h\n"
     ]
    }
   ],
   "source": [
    "a= ['intra.h', 'intra.c', 'define.h', 'run.py']\n",
    "for i in a:\n",
    "    b = i.split(\".\")\n",
    "    if b[1] == \"h\":          #159 주의!! 내용이 같다 == (변수가 같다 =)\n",
    "        print(i)"
   ]
  },
  {
   "cell_type": "code",
   "execution_count": 26,
   "id": "054fdf05-c223-4a5e-bfb7-7c122f88a7b7",
   "metadata": {},
   "outputs": [
    {
     "name": "stdout",
     "output_type": "stream",
     "text": [
      "intra.h\n",
      "intra.c\n",
      "define.h\n"
     ]
    }
   ],
   "source": [
    "a= ['intra.h', 'intra.c', 'define.h', 'run.py']\n",
    "for i in a:\n",
    "    b = i.split(\".\")\n",
    "    if b[1] == \"h\"or b[1] == \"c\":          \n",
    "        print(i)"
   ]
  },
  {
   "cell_type": "markdown",
   "id": "10ae729e-4124-4b72-bd05-5047cb574862",
   "metadata": {},
   "source": [
    "### <08.반복문> 161-170"
   ]
  },
  {
   "cell_type": "code",
   "execution_count": 2,
   "id": "4ad577c2-0df1-4b7c-8cb8-1ae4402cb9a4",
   "metadata": {},
   "outputs": [
    {
     "name": "stdout",
     "output_type": "stream",
     "text": [
      "0\n",
      "1\n",
      "2\n",
      "3\n",
      "4\n",
      "5\n",
      "6\n",
      "7\n",
      "8\n",
      "9\n"
     ]
    }
   ],
   "source": [
    "for i in range(10):\n",
    "    print(i)"
   ]
  },
  {
   "cell_type": "code",
   "execution_count": 28,
   "id": "9a17179a-3a55-41fd-a7a9-7f1eaf50ff88",
   "metadata": {},
   "outputs": [
    {
     "name": "stdout",
     "output_type": "stream",
     "text": [
      "2002\n",
      "2006\n",
      "2010\n",
      "2014\n",
      "2018\n",
      "2022\n",
      "2026\n",
      "2030\n",
      "2034\n",
      "2038\n",
      "2042\n",
      "2046\n",
      "2050\n"
     ]
    }
   ],
   "source": [
    "for i in range(2002,2051,4):\n",
    "    print(i)"
   ]
  },
  {
   "cell_type": "code",
   "execution_count": 32,
   "id": "f9a5cb25-7903-4f0f-95b3-1cf5a6331c09",
   "metadata": {},
   "outputs": [
    {
     "name": "stdout",
     "output_type": "stream",
     "text": [
      "3\n",
      "6\n",
      "9\n",
      "12\n",
      "15\n",
      "18\n",
      "21\n",
      "24\n",
      "27\n",
      "30\n"
     ]
    }
   ],
   "source": [
    "for i in range(1,31):\n",
    "    if i % 3 == 0:\n",
    "        print(i) "
   ]
  },
  {
   "cell_type": "code",
   "execution_count": 1,
   "id": "93480613-29d0-4cc7-bd0c-819bf8f61e4b",
   "metadata": {},
   "outputs": [
    {
     "name": "stdout",
     "output_type": "stream",
     "text": [
      "99\n",
      "98\n",
      "97\n",
      "96\n",
      "95\n",
      "94\n",
      "93\n",
      "92\n",
      "91\n",
      "90\n"
     ]
    }
   ],
   "source": [
    "for i in range(0,10):            #range의 세번째 인수는 간격만되괴 역순은 안됨.\n",
    "    print(99-i)               #숫자 역순이 안될 때 뺄셈을 이용하는 방법"
   ]
  },
  {
   "cell_type": "code",
   "execution_count": 36,
   "id": "9801f11e-a83b-4d22-b236-60f548927508",
   "metadata": {},
   "outputs": [
    {
     "name": "stdout",
     "output_type": "stream",
     "text": [
      "0.0\n",
      "0.1\n",
      "0.2\n",
      "0.3\n",
      "0.4\n",
      "0.5\n",
      "0.6\n",
      "0.7\n",
      "0.8\n",
      "0.9\n"
     ]
    }
   ],
   "source": [
    "for i in range(10):\n",
    "    print(f\"0.{i}\")"
   ]
  },
  {
   "cell_type": "code",
   "execution_count": 38,
   "id": "2ecaef54-3ca7-4267-901b-dbad018c925d",
   "metadata": {},
   "outputs": [
    {
     "name": "stdout",
     "output_type": "stream",
     "text": [
      "3x1=3\n",
      "3x2=6\n",
      "3x3=9\n",
      "3x4=12\n",
      "3x5=15\n",
      "3x6=18\n",
      "3x7=21\n",
      "3x8=24\n",
      "3x9=27\n"
     ]
    }
   ],
   "source": [
    "for i in range(1,10):\n",
    "    print(f\"3x{i}={3*i}\")"
   ]
  },
  {
   "cell_type": "code",
   "execution_count": 39,
   "id": "edaa5d5f-f3a6-4025-a0cb-35de2d6a7533",
   "metadata": {},
   "outputs": [
    {
     "name": "stdout",
     "output_type": "stream",
     "text": [
      "3x1=3\n",
      "3x3=9\n",
      "3x5=15\n",
      "3x7=21\n",
      "3x9=27\n"
     ]
    }
   ],
   "source": [
    "for i in range(1,10):\n",
    "    if i%2 != 0:\n",
    "        print(f\"3x{i}={3*i}\")"
   ]
  },
  {
   "cell_type": "code",
   "execution_count": 47,
   "id": "b030216c-669a-4dd3-96e7-f6abfbe34170",
   "metadata": {},
   "outputs": [
    {
     "name": "stdout",
     "output_type": "stream",
     "text": [
      "10\n"
     ]
    }
   ],
   "source": [
    "#168 오답\n",
    "for i in range(1,11):        \n",
    "    result = 0            # (1)i가 1일 때 r=0 / (3)i가 2일 때 다시 r=0 / (5)...\n",
    "    result = result + i   # (2)그 0에 1더함.r=1  / (4)그 0 에 2 더함 / (6)...\n",
    "print(result)"
   ]
  },
  {
   "cell_type": "code",
   "execution_count": 46,
   "id": "d11e7fe6-a5ab-4d29-a198-aba72debcbb3",
   "metadata": {},
   "outputs": [
    {
     "name": "stdout",
     "output_type": "stream",
     "text": [
      "55\n"
     ]
    }
   ],
   "source": [
    "#168 정답\n",
    "result = 0                 # r=0임을 먼저 선언\n",
    "for i in range(1,11):      # (1)i가 1일 때 r=0 / (3)i가 2일 때 r=2인 상태 / (5)...\n",
    "    result = result + i    # (2)그 0에 1더함.r=1 / (4)그 2 에 3 더함. r=5 / (6)...\n",
    "print(result)"
   ]
  },
  {
   "cell_type": "code",
   "execution_count": 49,
   "id": "ff1a581a-76f3-469f-bb14-fa9f852bc011",
   "metadata": {},
   "outputs": [
    {
     "name": "stdout",
     "output_type": "stream",
     "text": [
      "25\n"
     ]
    }
   ],
   "source": [
    "result = 0\n",
    "for i in range(1,11):           #또는 range(1,11,2)를 쓰면 if문 없이\n",
    "    if i%2 !=0:\n",
    "        result += i             #result = result+i   축약은 result += i\n",
    "print(result)"
   ]
  },
  {
   "cell_type": "code",
   "execution_count": 52,
   "id": "42f60098-54a3-4a5a-9201-3cdbb4ccdb41",
   "metadata": {},
   "outputs": [
    {
     "name": "stdout",
     "output_type": "stream",
     "text": [
      "3628800\n"
     ]
    }
   ],
   "source": [
    "result =1\n",
    "for i in range(1,11):\n",
    "    result *= i           #result = result*i 의 축약은 result *= i\n",
    "print(result)"
   ]
  },
  {
   "cell_type": "markdown",
   "id": "b9c26a6e-942e-4ef1-834b-ce8c1ef5874e",
   "metadata": {},
   "source": [
    "### <08.반복문> 171-180"
   ]
  },
  {
   "cell_type": "code",
   "execution_count": 53,
   "id": "106f9ae3-358c-4318-9c4a-225f58a76d62",
   "metadata": {},
   "outputs": [
    {
     "name": "stdout",
     "output_type": "stream",
     "text": [
      "32100\n",
      "32150\n",
      "32000\n",
      "32500\n"
     ]
    }
   ],
   "source": [
    "price_list = [32100, 32150, 32000, 32500]\n",
    "for i in range(len(price_list)):\n",
    "    print(price_list[i])"
   ]
  },
  {
   "cell_type": "code",
   "execution_count": 54,
   "id": "56f2904c-d65b-4a01-aaea-fd799ab59452",
   "metadata": {},
   "outputs": [
    {
     "name": "stdout",
     "output_type": "stream",
     "text": [
      "0 32100\n",
      "1 32150\n",
      "2 32000\n",
      "3 32500\n"
     ]
    }
   ],
   "source": [
    "price_list = [32100, 32150, 32000, 32500]\n",
    "for i in range(len(price_list)):     # enumerate(순서ㅇ 자료형) 함수를 써도 된다\n",
    "    print(i,price_list[i])"
   ]
  },
  {
   "cell_type": "code",
   "execution_count": 55,
   "id": "08845e38-7f7d-4adc-b23e-57665b5942e0",
   "metadata": {},
   "outputs": [
    {
     "name": "stdout",
     "output_type": "stream",
     "text": [
      "3 32100\n",
      "2 32150\n",
      "1 32000\n",
      "0 32500\n"
     ]
    }
   ],
   "source": [
    "price_list = [32100, 32150, 32000, 32500]\n",
    "for i in range(len(price_list)):    \n",
    "    print(len(price_list)-1-i,price_list[i])"
   ]
  },
  {
   "cell_type": "code",
   "execution_count": 56,
   "id": "373f8aa2-d345-44d5-9c9b-3eac68c75511",
   "metadata": {},
   "outputs": [
    {
     "name": "stdout",
     "output_type": "stream",
     "text": [
      "100 32150\n",
      "110 32000\n",
      "120 32500\n"
     ]
    }
   ],
   "source": [
    "price_list = [32100, 32150, 32000, 32500]\n",
    "for i in range(1,len(price_list)):    \n",
    "    print(100+(i-1)*10,price_list[i])     #90 + 10 * i"
   ]
  },
  {
   "cell_type": "code",
   "execution_count": 58,
   "id": "c56dcf3e-7200-43c5-be49-294d9a314b43",
   "metadata": {},
   "outputs": [
    {
     "name": "stdout",
     "output_type": "stream",
     "text": [
      "가 나\n",
      "나 다\n",
      "다 라\n"
     ]
    }
   ],
   "source": [
    "my_list = [\"가\", \"나\", \"다\", \"라\"]\n",
    "for i in range(len(my_list)-1):         #175 방법1 (범위: 마지막 하나 덜전에 끝냄)\n",
    "    print(my_list[i],my_list[i+1])      # i ~ i+1"
   ]
  },
  {
   "cell_type": "code",
   "execution_count": 59,
   "id": "10ab7e64-8085-45d4-a302-285a66b8a337",
   "metadata": {},
   "outputs": [
    {
     "name": "stdout",
     "output_type": "stream",
     "text": [
      "가 나\n",
      "나 다\n",
      "다 라\n"
     ]
    }
   ],
   "source": [
    "my_list = [\"가\", \"나\", \"다\", \"라\"]\n",
    "for i in range(1,len(my_list)):         #175 방법2 (범위: 두번째 거부터 시작)\n",
    "    print(my_list[i-1],my_list[i])      # i-1 ~ i"
   ]
  },
  {
   "cell_type": "code",
   "execution_count": 60,
   "id": "a64eedd8-2bec-4779-8d51-8b8330405c27",
   "metadata": {},
   "outputs": [
    {
     "name": "stdout",
     "output_type": "stream",
     "text": [
      "가 나 다\n",
      "나 다 라\n",
      "다 라 마\n"
     ]
    }
   ],
   "source": [
    "my_list = [\"가\", \"나\", \"다\", \"라\", \"마\"]\n",
    "for i in range(len(my_list)-2):        \n",
    "    print(my_list[i],my_list[i+1],my_list[i+2]) "
   ]
  },
  {
   "cell_type": "code",
   "execution_count": 66,
   "id": "24737492-3354-4a77-bcf3-d9382aa94892",
   "metadata": {},
   "outputs": [
    {
     "name": "stdout",
     "output_type": "stream",
     "text": [
      "라 다\n",
      "다 나\n",
      "나 가\n"
     ]
    }
   ],
   "source": [
    "my_list = [\"가\", \"나\", \"다\", \"라\"]\n",
    "for i in range(len(my_list)-1):        \n",
    "    print(my_list[len(my_list)-1-i] , my_list[len(my_list)-1-(i+1)]) \n",
    "    \n",
    "# 규칙\n",
    "#글자 순서  , i 순서  -> 규칙\n",
    "#   32        01       3+0=3  2+1=3\n",
    "#   21        12\n",
    "#   10        23"
   ]
  },
  {
   "cell_type": "code",
   "execution_count": 71,
   "id": "4073bf0b-73ab-4b1b-ac03-37ea6846fcda",
   "metadata": {},
   "outputs": [
    {
     "name": "stdout",
     "output_type": "stream",
     "text": [
      "100\n",
      "200\n",
      "400\n"
     ]
    }
   ],
   "source": [
    "my_list = [100, 200, 400, 800]\n",
    "for i in range(1,len(my_list)):\n",
    "    print(my_list[i] - my_list[i-1])"
   ]
  },
  {
   "cell_type": "code",
   "execution_count": 75,
   "id": "4a6b7eda-6695-420a-b7d3-4d32b4deae71",
   "metadata": {},
   "outputs": [
    {
     "name": "stdout",
     "output_type": "stream",
     "text": [
      "233.33333333333334\n",
      "466.6666666666667\n",
      "733.3333333333334\n",
      "1033.3333333333333\n"
     ]
    }
   ],
   "source": [
    "my_list = [100, 200, 400, 800, 1000, 1300]\n",
    "for i in range(2,len(my_list)):\n",
    "    print((my_list[i-2] + my_list[i-1] + my_list[i])/3)"
   ]
  },
  {
   "cell_type": "code",
   "execution_count": 78,
   "id": "a3ca0113-23b9-4f3c-81f7-8304753b7da7",
   "metadata": {},
   "outputs": [
    {
     "name": "stdout",
     "output_type": "stream",
     "text": [
      "[50, 100, 30, 80, 0]\n"
     ]
    }
   ],
   "source": [
    "low_prices  = [100, 200, 400, 800, 1000]\n",
    "high_prices = [150, 300, 430, 880, 1000]\n",
    "\n",
    "volatility=[]\n",
    "for i in range(len(low_prices)):\n",
    "    result = high_prices[i]-low_prices[i]\n",
    "    volatility.append(result)   #또는 통으로 vol~.append(high_prices[i]-low_prices[i])\n",
    "    \n",
    "print(volatility)"
   ]
  },
  {
   "cell_type": "markdown",
   "id": "e4ef2a28-8a8d-4f4c-afc9-912781a45bf5",
   "metadata": {},
   "source": [
    "### <08.반복문> 181-190"
   ]
  },
  {
   "cell_type": "code",
   "execution_count": 79,
   "id": "a971b710-1374-45f9-abd1-f4063aa25505",
   "metadata": {},
   "outputs": [],
   "source": [
    "apart=[[101,102],[201,202],[301,302]]"
   ]
  },
  {
   "cell_type": "code",
   "execution_count": 80,
   "id": "ec5a6e80-6844-4797-a035-777689efa596",
   "metadata": {},
   "outputs": [],
   "source": [
    "stock = [ [\"시가\", 100, 200, 300], [\"종가\", 80, 210, 330] ]"
   ]
  },
  {
   "cell_type": "code",
   "execution_count": null,
   "id": "41e23dc9-6a82-4523-b130-a6ec75db6d1f",
   "metadata": {},
   "outputs": [],
   "source": [
    "stock = {\"시가\": [100, 200, 300], \"종가\": [80, 210, 330] }"
   ]
  },
  {
   "cell_type": "code",
   "execution_count": null,
   "id": "aed17f9d-0bf8-4a5a-b563-cb368f295b64",
   "metadata": {},
   "outputs": [],
   "source": [
    "stock = {\"10/10\": [80, 110, 70, 90], \"10/11\": [210, 230, 190, 200] }"
   ]
  },
  {
   "cell_type": "code",
   "execution_count": 5,
   "id": "2e513464-ec7f-4bb0-bc3f-d5baaf222644",
   "metadata": {},
   "outputs": [
    {
     "name": "stdout",
     "output_type": "stream",
     "text": [
      "101호\n",
      "102호\n",
      "201호\n",
      "202호\n",
      "301호\n",
      "302호\n"
     ]
    }
   ],
   "source": [
    "apart = [ [101, 102], [201, 202], [301, 302] ]\n",
    "for list2 in apart:            #list 안에 list가 요소로 있을 때 for문 두번 쓰는법\n",
    "    for i in list2: \n",
    "        print(f\"{i}호\")"
   ]
  },
  {
   "cell_type": "code",
   "execution_count": 7,
   "id": "75a62ef2-a7ca-4cdc-b10b-8109d91c5b39",
   "metadata": {},
   "outputs": [
    {
     "name": "stdout",
     "output_type": "stream",
     "text": [
      "301호\n",
      "302호\n",
      "201호\n",
      "202호\n",
      "101호\n",
      "102호\n"
     ]
    }
   ],
   "source": [
    "#186\n",
    "\n",
    "apart = [ [101, 102], [201, 202], [301, 302] ]    #list는 [ : :(-역순가능)]\n",
    "for list in apart[::-1]:\n",
    "    for i in list: \n",
    "        print(f\"{i}호\")"
   ]
  },
  {
   "cell_type": "code",
   "execution_count": 9,
   "id": "e110ae0b-83f1-4ca2-a1dc-927c6985e35d",
   "metadata": {},
   "outputs": [
    {
     "name": "stdout",
     "output_type": "stream",
     "text": [
      "302호\n",
      "301호\n",
      "202호\n",
      "201호\n",
      "102호\n",
      "101호\n"
     ]
    }
   ],
   "source": [
    "apart = [ [101, 102], [201, 202], [301, 302] ]\n",
    "for list1 in apart[::-1]:\n",
    "        for i in list1[::-1]: \n",
    "            print(f\"{i}호\")"
   ]
  },
  {
   "cell_type": "code",
   "execution_count": 10,
   "id": "33a07bc4-0dc0-4d4c-a452-645fe68b0e07",
   "metadata": {},
   "outputs": [
    {
     "name": "stdout",
     "output_type": "stream",
     "text": [
      "101호\n",
      "-----\n",
      "102호\n",
      "-----\n",
      "201호\n",
      "-----\n",
      "202호\n",
      "-----\n",
      "301호\n",
      "-----\n",
      "302호\n",
      "-----\n"
     ]
    }
   ],
   "source": [
    "apart = [ [101, 102], [201, 202], [301, 302] ]\n",
    "for list2 in apart:         #1     8\n",
    "    for i in list2:         #2  5 \n",
    "        print(f\"{i}호\")     #3  6  \n",
    "        print(\"-\"*5)        #4  7"
   ]
  },
  {
   "cell_type": "code",
   "execution_count": 11,
   "id": "2f5fc3e9-8bdf-4106-864a-3d5527b2acc3",
   "metadata": {},
   "outputs": [
    {
     "name": "stdout",
     "output_type": "stream",
     "text": [
      "101호\n",
      "102호\n",
      "-----\n",
      "201호\n",
      "202호\n",
      "-----\n",
      "301호\n",
      "302호\n",
      "-----\n"
     ]
    }
   ],
   "source": [
    "apart = [ [101, 102], [201, 202], [301, 302] ]\n",
    "for list2 in apart:         #1      7\n",
    "    for i in list2:         #2 4\n",
    "        print(f\"{i}호\")     #3 5\n",
    "    print(\"-\"*5)            #     6"
   ]
  },
  {
   "cell_type": "code",
   "execution_count": 12,
   "id": "be0c4b46-9269-4338-bc3b-70923fcf6308",
   "metadata": {},
   "outputs": [
    {
     "name": "stdout",
     "output_type": "stream",
     "text": [
      "101호\n",
      "102호\n",
      "201호\n",
      "202호\n",
      "301호\n",
      "302호\n",
      "-----\n"
     ]
    }
   ],
   "source": [
    "apart = [ [101, 102], [201, 202], [301, 302] ]\n",
    "for list2 in apart:         #1     6     11  \n",
    "    for i in list2:         #2  4  7  9  12\n",
    "        print(f\"{i}호\")     #3  5  8  10 13 \n",
    "print(\"-\"*5)                #               14"
   ]
  },
  {
   "cell_type": "markdown",
   "id": "53c901c0-9fdb-4071-8872-e6f2c3fa21f6",
   "metadata": {},
   "source": [
    "### <08.반복문> 191-200"
   ]
  },
  {
   "cell_type": "code",
   "execution_count": 14,
   "id": "9c225fc4-dcdd-44e0-b621-96789f4c0a25",
   "metadata": {},
   "outputs": [
    {
     "name": "stdout",
     "output_type": "stream",
     "text": [
      "2000.28\n",
      "3050.427\n",
      "2050.2870000000003\n",
      "1980.2772\n",
      "7501.05\n",
      "2050.2870000000003\n",
      "2050.2870000000003\n",
      "1980.2772\n",
      "15452.163\n",
      "15052.107\n",
      "15552.177\n",
      "14902.086000000001\n"
     ]
    }
   ],
   "source": [
    "data = [\n",
    "    [ 2000,  3050,  2050,  1980],\n",
    "    [ 7500,  2050,  2050,  1980],\n",
    "    [15450, 15050, 15550, 14900]\n",
    "]\n",
    "for a_list in data:\n",
    "    for i in a_list:\n",
    "        print(i*1.00014)               # 0.014% 는  *0.00014"
   ]
  },
  {
   "cell_type": "code",
   "execution_count": 15,
   "id": "7f413590-ffe1-4cfd-8f54-0938e1161658",
   "metadata": {},
   "outputs": [
    {
     "name": "stdout",
     "output_type": "stream",
     "text": [
      "2000.28\n",
      "3050.427\n",
      "2050.2870000000003\n",
      "1980.2772\n",
      "----\n",
      "7501.05\n",
      "2050.2870000000003\n",
      "2050.2870000000003\n",
      "1980.2772\n",
      "----\n",
      "15452.163\n",
      "15052.107\n",
      "15552.177\n",
      "14902.086000000001\n",
      "----\n"
     ]
    }
   ],
   "source": [
    "data = [\n",
    "    [ 2000,  3050,  2050,  1980],\n",
    "    [ 7500,  2050,  2050,  1980],\n",
    "    [15450, 15050, 15550, 14900]\n",
    "]\n",
    "for a_list in data:\n",
    "    for i in a_list:\n",
    "        print(i*1.00014) \n",
    "    print(\"----\")"
   ]
  },
  {
   "cell_type": "code",
   "execution_count": 18,
   "id": "b12b781f-d8a0-49b4-9943-21b7d0e4e983",
   "metadata": {},
   "outputs": [
    {
     "name": "stdout",
     "output_type": "stream",
     "text": [
      "[2000.28, 3050.427, 2050.2870000000003, 1980.2772, 7501.05, 2050.2870000000003, 2050.2870000000003, 1980.2772, 15452.163, 15052.107, 15552.177, 14902.086000000001]\n"
     ]
    }
   ],
   "source": [
    "#193 1차원 배열 정렬\n",
    "data = [\n",
    "    [ 2000,  3050,  2050,  1980],\n",
    "    [ 7500,  2050,  2050,  1980],\n",
    "    [15450, 15050, 15550, 14900]\n",
    "]\n",
    "result=[]\n",
    "for a_list in data:\n",
    "    for i in a_list:\n",
    "        result.append(i*1.00014) \n",
    "print(result)"
   ]
  },
  {
   "cell_type": "code",
   "execution_count": 22,
   "id": "d291a9ee-21fc-4e6a-8a88-235ba2a3e59e",
   "metadata": {},
   "outputs": [
    {
     "name": "stdout",
     "output_type": "stream",
     "text": [
      "[[2000.28, 3050.427, 2050.2870000000003, 1980.2772], [7501.05, 2050.2870000000003, 2050.2870000000003, 1980.2772], [15452.163, 15052.107, 15552.177, 14902.086000000001]]\n"
     ]
    }
   ],
   "source": [
    "#194  2차원 배열 정렬\n",
    "data = [\n",
    "    [ 2000,  3050,  2050,  1980],\n",
    "    [ 7500,  2050,  2050,  1980],\n",
    "    [15450, 15050, 15550, 14900]\n",
    "]\n",
    "result=[]\n",
    "for a_list in data:\n",
    "    first=[]\n",
    "    for i in a_list:\n",
    "        first.append(i*1.00014) \n",
    "    result.append(first)\n",
    "print(result)"
   ]
  },
  {
   "cell_type": "code",
   "execution_count": 24,
   "id": "44b2967e-b54f-40ef-905d-f33c5b7eb956",
   "metadata": {},
   "outputs": [
    {
     "name": "stdout",
     "output_type": "stream",
     "text": [
      "100\n",
      "190\n",
      "310\n"
     ]
    }
   ],
   "source": [
    "ohlc = [[\"open\", \"high\", \"low\", \"close\"],           #195 해설 참조\n",
    "        [100, 110, 70, 100],\n",
    "        [200, 210, 180, 190],\n",
    "        [300, 310, 300, 310]]\n",
    "\n",
    "for innerlist in ohlc[1:]:      #리스트만의 장점이 있으므로 range(,,)보다 리스트[::]를 이용\n",
    "    print(innerlist[-1])"
   ]
  },
  {
   "cell_type": "code",
   "execution_count": 27,
   "id": "c09fa706-f83d-424d-a1e7-beabe64c2995",
   "metadata": {},
   "outputs": [
    {
     "name": "stdout",
     "output_type": "stream",
     "text": [
      "190\n",
      "310\n"
     ]
    }
   ],
   "source": [
    "ohlc = [[\"open\", \"high\", \"low\", \"close\"],\n",
    "        [100, 110, 70, 100],\n",
    "        [200, 210, 180, 190],\n",
    "        [300, 310, 300, 310]]\n",
    "\n",
    "for innerlist in ohlc[1:]:\n",
    "    if innerlist[-1]>150:\n",
    "        print(innerlist[-1])"
   ]
  },
  {
   "cell_type": "code",
   "execution_count": 30,
   "id": "4f829f3d-680c-4847-ba81-2b2d54534104",
   "metadata": {},
   "outputs": [
    {
     "name": "stdout",
     "output_type": "stream",
     "text": [
      "100\n",
      "310\n"
     ]
    }
   ],
   "source": [
    "ohlc = [[\"open\", \"high\", \"low\", \"close\"],\n",
    "        [100, 110, 70, 100],\n",
    "        [200, 210, 180, 190],\n",
    "        [300, 310, 300, 310]]\n",
    "\n",
    "for innerlist in ohlc[1:]:\n",
    "    if innerlist[-1] >= innerlist[0]:\n",
    "        print(innerlist[-1])"
   ]
  },
  {
   "cell_type": "code",
   "execution_count": 33,
   "id": "86262341-8a49-4e64-8f40-d99be0e8ca78",
   "metadata": {
    "tags": []
   },
   "outputs": [
    {
     "name": "stdout",
     "output_type": "stream",
     "text": [
      "[40, 30, 10]\n"
     ]
    }
   ],
   "source": [
    "#198     #리스트 내포\n",
    "\n",
    "ohlc = [[\"open\", \"high\", \"low\", \"close\"],     \n",
    "        [100, 110, 70, 100],\n",
    "        [200, 210, 180, 190],\n",
    "        [300, 310, 300, 310]]\n",
    "\n",
    "volatility = [innerlist[1] - innerlist[2] for innerlist in ohlc[1:]]\n",
    "print(volatility)"
   ]
  },
  {
   "cell_type": "code",
   "execution_count": 36,
   "id": "9b099034-d362-437d-aa98-f13b3fea08e3",
   "metadata": {},
   "outputs": [
    {
     "name": "stdout",
     "output_type": "stream",
     "text": [
      "[40, 30, 10]\n"
     ]
    }
   ],
   "source": [
    "#198       #리스트 내포 없이\n",
    "\n",
    "volatility = []\n",
    "for innerlist in ohlc[1:]:\n",
    "    sub = innerlist[1] - innerlist[2]\n",
    "    volatility.append(sub)\n",
    "print(volatility)"
   ]
  },
  {
   "cell_type": "code",
   "execution_count": 38,
   "id": "9f2b572d-1b98-4f56-bdef-876017084e71",
   "metadata": {},
   "outputs": [
    {
     "name": "stdout",
     "output_type": "stream",
     "text": [
      "10\n"
     ]
    }
   ],
   "source": [
    "ohlc = [[\"open\", \"high\", \"low\", \"close\"],\n",
    "        [100, 110, 70, 100],\n",
    "        [200, 210, 180, 190],\n",
    "        [300, 310, 300, 310]]\n",
    "\n",
    "for innerlist in ohlc[1:]:\n",
    "    if innerlist[-1] > innerlist[0]:\n",
    "        print(innerlist[1] - innerlist[2])"
   ]
  },
  {
   "cell_type": "code",
   "execution_count": 44,
   "id": "b2eb5896-386b-4163-aab6-d57020ecc0a4",
   "metadata": {},
   "outputs": [
    {
     "name": "stdout",
     "output_type": "stream",
     "text": [
      "0\n"
     ]
    }
   ],
   "source": [
    "#200\n",
    "\n",
    "ohlc = [[\"open\", \"high\", \"low\", \"close\"],\n",
    "        [100, 110, 70, 100],\n",
    "        [200, 210, 180, 190],\n",
    "        [300, 310, 300, 310]]\n",
    "\n",
    "      #나오는 값들을 더해야할 때 쓰는 개념.    result=0.    result = result + i\n",
    "\n",
    "result = 0\n",
    "for innerlist in ohlc[1:]:              \n",
    "    result = result + (innerlist[-1] - innerlist[0])\n",
    "print(result)"
   ]
  },
  {
   "cell_type": "markdown",
   "id": "0e247f7d-0e2b-4d48-b8f4-7e81ae622719",
   "metadata": {},
   "source": [
    "### <09.함수> 201-210"
   ]
  },
  {
   "cell_type": "code",
   "execution_count": 18,
   "id": "e32597c7-aee9-44e2-999c-4d3ac6b6b86c",
   "metadata": {},
   "outputs": [],
   "source": [
    "def print_coin():\n",
    "    print(\"비트코인\")"
   ]
  },
  {
   "cell_type": "code",
   "execution_count": 19,
   "id": "75706016-9f03-4ab3-bdd7-84071492ea42",
   "metadata": {},
   "outputs": [
    {
     "name": "stdout",
     "output_type": "stream",
     "text": [
      "비트코인\n"
     ]
    }
   ],
   "source": [
    "print_coin()"
   ]
  },
  {
   "cell_type": "code",
   "execution_count": 21,
   "id": "cabd6115-d8a3-4c6e-844e-82347ac3f260",
   "metadata": {},
   "outputs": [
    {
     "name": "stdout",
     "output_type": "stream",
     "text": [
      "비트코인\n",
      "비트코인\n",
      "비트코인\n",
      "비트코인\n",
      "비트코인\n",
      "비트코인\n",
      "비트코인\n",
      "비트코인\n",
      "비트코인\n",
      "비트코인\n"
     ]
    }
   ],
   "source": [
    "for i in range(10):\n",
    "    print_coin()"
   ]
  },
  {
   "cell_type": "code",
   "execution_count": 25,
   "id": "d32a12ee-9ff2-4209-af39-3d4c6934863a",
   "metadata": {},
   "outputs": [],
   "source": [
    "def print_coins():\n",
    "    for i in range(10):\n",
    "        print(\"비트코인\")"
   ]
  },
  {
   "cell_type": "code",
   "execution_count": 26,
   "id": "bab95b2d-1e22-4e98-9a1a-839466cd9cfa",
   "metadata": {},
   "outputs": [
    {
     "name": "stdout",
     "output_type": "stream",
     "text": [
      "B\n",
      "C\n",
      "B\n",
      "C\n",
      "B\n",
      "C\n",
      "A\n"
     ]
    }
   ],
   "source": [
    "#210\n",
    "def message1():\n",
    "    print(\"A\")\n",
    "\n",
    "def message2():\n",
    "    print(\"B\")\n",
    "\n",
    "def message3():\n",
    "    for i in range (3) :\n",
    "        message2()\n",
    "        print(\"C\")\n",
    "    message1()\n",
    "\n",
    "message3()"
   ]
  },
  {
   "cell_type": "markdown",
   "id": "05be9981-9793-4c14-8342-d72b038abb40",
   "metadata": {},
   "source": [
    "### <09.함수> 211-220"
   ]
  },
  {
   "cell_type": "code",
   "execution_count": 4,
   "id": "16dee921-b6d3-48ac-ae81-cc607f563063",
   "metadata": {},
   "outputs": [
    {
     "name": "stdout",
     "output_type": "stream",
     "text": [
      "안녕:D\n"
     ]
    }
   ],
   "source": [
    "#215 정답\n",
    "def print_with_smile (string) :\n",
    "    print (string + \":D\")\n",
    "print_with_smile(\"안녕\")"
   ]
  },
  {
   "cell_type": "code",
   "execution_count": 2,
   "id": "210fbce8-b501-4081-bdee-a5287552b8e9",
   "metadata": {},
   "outputs": [
    {
     "name": "stdin",
     "output_type": "stream",
     "text": [
      "입력: 안녕\n"
     ]
    },
    {
     "name": "stdout",
     "output_type": "stream",
     "text": [
      "안녕:D\n"
     ]
    }
   ],
   "source": [
    "#215 응용\n",
    "def print_with_smile():\n",
    "    user = input(\"입력:\")\n",
    "    print(user + \":D\")\n",
    "print_with_smile()"
   ]
  },
  {
   "cell_type": "code",
   "execution_count": 5,
   "id": "13d2cbed-dff4-4095-8377-1dc4d54c32e0",
   "metadata": {},
   "outputs": [
    {
     "name": "stdout",
     "output_type": "stream",
     "text": [
      "1300.0\n"
     ]
    }
   ],
   "source": [
    "def print_upper_price(a):\n",
    "    print(a + a*0.3)\n",
    "print_upper_price(1000)"
   ]
  },
  {
   "cell_type": "code",
   "execution_count": 6,
   "id": "17b05fdd-8723-4fb0-acc7-648eac2e17d5",
   "metadata": {},
   "outputs": [
    {
     "name": "stdout",
     "output_type": "stream",
     "text": [
      "7\n"
     ]
    }
   ],
   "source": [
    "def print_sum(a,b):\n",
    "    print(a+b)\n",
    "print_sum(3,4)"
   ]
  },
  {
   "cell_type": "code",
   "execution_count": 9,
   "id": "060c007f-7b7c-4766-9229-eee727c9d3e6",
   "metadata": {},
   "outputs": [
    {
     "name": "stdout",
     "output_type": "stream",
     "text": [
      "3 + 6 = 9\n",
      "-3\n",
      "18\n",
      "0.5\n"
     ]
    }
   ],
   "source": [
    "def print_arithmetic_operation(a,b):\n",
    "    print(a,\"+\",b,\"=\",a+b)\n",
    "    print(a-b)\n",
    "    print(a*b)\n",
    "    print(a/b)\n",
    "print_arithmetic_operation(3,6)"
   ]
  },
  {
   "cell_type": "code",
   "execution_count": null,
   "id": "8637ca42-3074-4528-b842-2d92f1c3893a",
   "metadata": {},
   "outputs": [],
   "source": [
    "def print_max(a, b, c) :\n",
    "    max_val = 0                  #숫자가 들어갈 변수=0 먼저\n",
    "    if a > max_val :             #max_value  가장큰 값\n",
    "        max_val = a\n",
    "    if b > max_val :\n",
    "        max_val = b\n",
    "    if c > max_val :\n",
    "        max_val = c\n",
    "    print(max_val)"
   ]
  },
  {
   "cell_type": "markdown",
   "id": "eb88c8d5-b4d1-428e-9e86-1174f4699b89",
   "metadata": {},
   "source": [
    "### <09.함수> 221-230"
   ]
  },
  {
   "cell_type": "code",
   "execution_count": 12,
   "id": "300bd4d2-0f4d-4215-99eb-728e36b05f21",
   "metadata": {},
   "outputs": [
    {
     "name": "stdout",
     "output_type": "stream",
     "text": [
      "seyho\n"
     ]
    }
   ],
   "source": [
    "def print_reverse(string):\n",
    "    print(string[::-1])             #221 역순은 슬라이싱 이용\n",
    "print_reverse(\"ohyes\")"
   ]
  },
  {
   "cell_type": "code",
   "execution_count": 15,
   "id": "bda6b332-8f2c-4267-8746-34487c80c23b",
   "metadata": {},
   "outputs": [
    {
     "name": "stdout",
     "output_type": "stream",
     "text": [
      "2.0\n"
     ]
    }
   ],
   "source": [
    "def print_score(args):\n",
    "    print(sum(args)/len(args))\n",
    "print_score ([1, 2, 3])"
   ]
  },
  {
   "cell_type": "code",
   "execution_count": 26,
   "id": "f3ca7e68-905c-4af5-bb88-034ebf45d3b5",
   "metadata": {},
   "outputs": [],
   "source": [
    "#223 정답   (찍수만 출력)\n",
    "def print_even (my_list) :\n",
    "    for v in my_list :\n",
    "        if v % 2 == 0 :\n",
    "            print(v)"
   ]
  },
  {
   "cell_type": "code",
   "execution_count": 25,
   "id": "4ce0aec0-539a-45a9-8b15-e1f3322ccbc3",
   "metadata": {},
   "outputs": [
    {
     "name": "stdout",
     "output_type": "stream",
     "text": [
      "[2, 10, 12]\n"
     ]
    }
   ],
   "source": [
    "#223 내풀이  (짝수만 출력하여 리스트에 넣음)\n",
    "def print_even(args):\n",
    "    b=[]\n",
    "    for i in args:\n",
    "        if i%2 == 0:\n",
    "            b.append(i)\n",
    "    print(b)\n",
    "print_even ([1, 3, 2, 10, 12, 11, 15])"
   ]
  },
  {
   "cell_type": "code",
   "execution_count": 31,
   "id": "cf44c72c-b239-462b-a490-98a9ed8303eb",
   "metadata": {},
   "outputs": [
    {
     "name": "stdout",
     "output_type": "stream",
     "text": [
      "이름\n",
      "나이\n",
      "성별\n",
      "dict_keys(['이름', '나이', '성별'])\n"
     ]
    }
   ],
   "source": [
    "def print_keys(dic):\n",
    "    for keys in dic.keys():\n",
    "            print(keys)\n",
    "    print(dic.keys())\n",
    "print_keys ({\"이름\":\"김말똥\", \"나이\":30, \"성별\":0})"
   ]
  },
  {
   "cell_type": "code",
   "execution_count": 34,
   "id": "ac35c079-cf53-4341-9431-ff056a4010b8",
   "metadata": {},
   "outputs": [],
   "source": [
    "#225 딕셔너리"
   ]
  },
  {
   "cell_type": "code",
   "execution_count": 36,
   "id": "ec26d6d6-0bff-4bc4-8d2f-9c4617a84070",
   "metadata": {},
   "outputs": [
    {
     "name": "stdout",
     "output_type": "stream",
     "text": [
      "01234\n",
      "56789\n",
      "\n"
     ]
    }
   ],
   "source": [
    "#226 어려움\n",
    "def print_5xn(line):                      #line: 입력하는 문자열\n",
    "    chunk_num = int(len(line) / 5)        #chu  : 입력하는문자열/5 의 몫\n",
    "    for x in range(chunk_num + 1) :       #0부터 입력하는문자열/5 의 몫 까지\n",
    "        print(line[x * 5: x * 5 + 5])     #0부터 0+5개수만큼 출력, 1부터 1+5게수만큼 출력\n",
    "print_5xn(\"0123456789\")"
   ]
  },
  {
   "cell_type": "code",
   "execution_count": null,
   "id": "5cb1353b-a182-40fd-9a53-ca46881b7943",
   "metadata": {},
   "outputs": [],
   "source": [
    "#227 어려움"
   ]
  },
  {
   "cell_type": "markdown",
   "id": "4c2f7431-68c5-42e4-a98b-ef9ef5b32465",
   "metadata": {},
   "source": [
    "### <09.함수> 231-240"
   ]
  },
  {
   "cell_type": "code",
   "execution_count": null,
   "id": "33c3e27f-65ff-4ad4-adb3-9c4ab4ff2701",
   "metadata": {},
   "outputs": [],
   "source": [
    "#231 \n",
    "함수 내부에서 사용한 변수는 함수밖에서 접근 불가능. 내부 변수 결과값은 return을 사용."
   ]
  },
  {
   "cell_type": "code",
   "execution_count": 38,
   "id": "da40a535-1201-490d-9481-fb6032a91ff5",
   "metadata": {},
   "outputs": [
    {
     "name": "stdout",
     "output_type": "stream",
     "text": [
      "www.naver.com\n"
     ]
    }
   ],
   "source": [
    "def make_url(args):\n",
    "    return print(f\"www.{args}.com\")\n",
    "make_url(\"naver\")"
   ]
  },
  {
   "cell_type": "code",
   "execution_count": 40,
   "id": "25ee9ba5-b64d-4879-8649-5d149aea8b7f",
   "metadata": {},
   "outputs": [
    {
     "data": {
      "text/plain": [
       "['a', 'b', 'c', 'd']"
      ]
     },
     "execution_count": 40,
     "metadata": {},
     "output_type": "execute_result"
    }
   ],
   "source": [
    "#233\n",
    "\n",
    "def make_list(args):\n",
    "    b=[]\n",
    "    for i in args:\n",
    "        b.append(i)\n",
    "    return b\n",
    "make_list(\"abcd\")"
   ]
  },
  {
   "cell_type": "code",
   "execution_count": 41,
   "id": "26a0b7f9-54b3-465f-b981-c00dab4c043f",
   "metadata": {},
   "outputs": [
    {
     "data": {
      "text/plain": [
       "['1', '2', '3', '4']"
      ]
     },
     "execution_count": 41,
     "metadata": {},
     "output_type": "execute_result"
    }
   ],
   "source": [
    "#233-1\n",
    "\n",
    "def make_list2(args):\n",
    "    return list(args)\n",
    "make_list2(\"1234\")"
   ]
  },
  {
   "cell_type": "code",
   "execution_count": 46,
   "id": "659d903e-ae96-4b7d-8069-c79b0fb8f1db",
   "metadata": {},
   "outputs": [
    {
     "data": {
      "text/plain": [
       "[4, 6, 8]"
      ]
     },
     "execution_count": 46,
     "metadata": {},
     "output_type": "execute_result"
    }
   ],
   "source": [
    "def pickup_even(args):\n",
    "    a=[i for i in args if i%2 == 0]     #234  리스트 내포\n",
    "    return a\n",
    "pickup_even([3, 4, 5, 6, 7, 8])"
   ]
  },
  {
   "cell_type": "code",
   "execution_count": 48,
   "id": "aabdd742-9775-483b-b7cd-19030a5b5ca0",
   "metadata": {},
   "outputs": [
    {
     "data": {
      "text/plain": [
       "[4, 6, 8]"
      ]
     },
     "execution_count": 48,
     "metadata": {},
     "output_type": "execute_result"
    }
   ],
   "source": [
    "def pickup_even2(args):\n",
    "    a = []                         #234  리스트 내포를 풀어서 쓰면\n",
    "    for i in args:\n",
    "        if i % 2 == 0:\n",
    "            a.append(i)\n",
    "    return a\n",
    "pickup_even2([3, 4, 5, 6, 7, 8])"
   ]
  },
  {
   "cell_type": "code",
   "execution_count": 52,
   "id": "7adda7ae-78ee-4ca8-8fca-0cbb89b44fe6",
   "metadata": {},
   "outputs": [
    {
     "data": {
      "text/plain": [
       "1234567"
      ]
     },
     "execution_count": 52,
     "metadata": {},
     "output_type": "execute_result"
    }
   ],
   "source": [
    "def convert_int(args):          #235문자열의 특정문자를 지우고 싶을때 .replace(전,후)\n",
    "    new = args.replace(\",\",\"\")\n",
    "    return int(new)\n",
    "convert_int(\"1,234,567\")"
   ]
  },
  {
   "cell_type": "code",
   "execution_count": 53,
   "id": "1b796a55-6292-4281-9537-f735ce1a928e",
   "metadata": {},
   "outputs": [],
   "source": [
    "#236-#240  OK"
   ]
  },
  {
   "cell_type": "markdown",
   "id": "f35b9e8f-ac90-4379-968c-04eb0c73adce",
   "metadata": {},
   "source": [
    "### <10.모듈> 241-250 "
   ]
  },
  {
   "cell_type": "code",
   "execution_count": 48,
   "id": "741c00b9-e051-4fad-9099-b3c5d8d8f417",
   "metadata": {},
   "outputs": [
    {
     "name": "stdout",
     "output_type": "stream",
     "text": [
      "2021-10-18 02:33:30.073388\n"
     ]
    }
   ],
   "source": [
    "import datetime\n",
    "\n",
    "now = datetime.datetime.now()\n",
    "print(now)"
   ]
  },
  {
   "cell_type": "code",
   "execution_count": 50,
   "id": "3fc1db03-5902-4c2a-a786-7678b86cc088",
   "metadata": {},
   "outputs": [
    {
     "name": "stdout",
     "output_type": "stream",
     "text": [
      "2021-10-18 02:34:13.213347\n"
     ]
    },
    {
     "data": {
      "text/plain": [
       "datetime.datetime"
      ]
     },
     "execution_count": 50,
     "metadata": {},
     "output_type": "execute_result"
    }
   ],
   "source": [
    "import datetime\n",
    "\n",
    "now = datetime.datetime.now()\n",
    "print(now)\n",
    "type(now)"
   ]
  },
  {
   "cell_type": "code",
   "execution_count": 60,
   "id": "d1d4a9e0-02fd-4380-bb14-3a39d8b1e76e",
   "metadata": {},
   "outputs": [],
   "source": [
    "#243 - 250 모르겠음"
   ]
  },
  {
   "cell_type": "markdown",
   "id": "4b0ee574-2522-40cc-a93b-5f0cc2ea8012",
   "metadata": {},
   "source": [
    "### <11.클래스> 251-260"
   ]
  },
  {
   "cell_type": "code",
   "execution_count": 57,
   "id": "0c0dbd12-14f7-4630-a5cb-983fdc646409",
   "metadata": {},
   "outputs": [
    {
     "name": "stdout",
     "output_type": "stream",
     "text": [
      "응애응애\n"
     ]
    }
   ],
   "source": [
    "class Human:\n",
    "    def __init__(self):             #변수에 self 넣기\n",
    "        print(\"응애응애\")\n",
    "        \n",
    "areum = Human()"
   ]
  },
  {
   "cell_type": "code",
   "execution_count": 69,
   "id": "1b1bbaa0-aa05-4b8b-88ac-ee647a83761b",
   "metadata": {},
   "outputs": [
    {
     "name": "stdout",
     "output_type": "stream",
     "text": [
      "이름: 아름, 나이: 25, 성별: 여자\n"
     ]
    }
   ],
   "source": [
    "class Human:\n",
    "    def __init__(self,name,age,sex):\n",
    "        self.name = name\n",
    "        self.age = age\n",
    "        self.sex = sex\n",
    "\n",
    "    def who(self):\n",
    "        print(f\"이름: {self.name}, 나이: {self.age}, 성별: {self.sex}\")\n",
    "        \n",
    "    def setinfo(self,name,age,sex):\n",
    "        self.name = name\n",
    "        self.age = age\n",
    "        self.sex = sex        \n",
    "\n",
    "areum = Human(\"아름\", 25, \"여자\")\n",
    "areum.who()"
   ]
  },
  {
   "cell_type": "markdown",
   "id": "da247797-949d-42fb-a46d-828ae33d0553",
   "metadata": {},
   "source": [
    "### <11.클래스> 261-270 "
   ]
  },
  {
   "cell_type": "code",
   "execution_count": 83,
   "id": "9a1e0705-e481-45d0-92fb-2f8683c7825d",
   "metadata": {},
   "outputs": [
    {
     "name": "stdout",
     "output_type": "stream",
     "text": [
      "삼성전자\n",
      "005930\n",
      "삼성전자\n",
      "005930\n"
     ]
    }
   ],
   "source": [
    "class Stock:\n",
    "    def __init__(self , name , code):\n",
    "        self.name = name\n",
    "        self.code = code\n",
    "    \n",
    "    def set_name(self , name):\n",
    "        self.name = name\n",
    "        \n",
    "    def set_code(self , code):\n",
    "        self.code = code\n",
    "   \n",
    "    def get_name(self):       \n",
    "        return self.name\n",
    "    \n",
    "    def get_code(self):        \n",
    "        return self.code\n",
    "    \n",
    "삼성 = Stock(\"삼성전자\", \"005930\")\n",
    "print(삼성.name)\n",
    "print(삼성.code)\n",
    "print(삼성.get_name())\n",
    "print(삼성.get_code())"
   ]
  },
  {
   "cell_type": "code",
   "execution_count": 94,
   "id": "c74fdfcd-38a8-40a0-a03a-12717a3e1b7e",
   "metadata": {},
   "outputs": [],
   "source": [
    "class Stock:\n",
    "    def __init__(self , name , code, PER, PBR, interest):\n",
    "        self.name = name\n",
    "        self.code = code\n",
    "        self.PER = PER\n",
    "        self.PBR = PBR\n",
    "        self.interest = interest\n",
    "    \n",
    "    def set_name(self , name):\n",
    "        self.name = name\n",
    "        \n",
    "    def set_code(self , code):\n",
    "        self.code = code\n",
    "   \n",
    "    def get_name(self):       \n",
    "        return self.name\n",
    "    \n",
    "    def get_code(self):        \n",
    "        return self.code\n",
    "    \n",
    "    def set_per(self , PER):              #입력값이 수정될 경우 매개변수에 추가.\n",
    "        self.per = PER\n",
    "    \n",
    "    def set_pbr(self , PBR):\n",
    "        self.pbr = PBR\n",
    "    \n",
    "    def set_dividend(self, interest):\n",
    "        self.interest = interest\n",
    "    \n",
    "삼성 = Stock(\"삼성전자\", \"005930\", 15.79, 1.33, 2.83)"
   ]
  },
  {
   "cell_type": "code",
   "execution_count": 95,
   "id": "c42ee573-3906-4388-ae2b-c254f4298f51",
   "metadata": {},
   "outputs": [
    {
     "name": "stdout",
     "output_type": "stream",
     "text": [
      "12.75\n"
     ]
    }
   ],
   "source": [
    "삼성.set_per(12.75)\n",
    "print(삼성.per)"
   ]
  },
  {
   "cell_type": "code",
   "execution_count": 97,
   "id": "aee0bcb2-ceb5-49e9-a282-40d3e3f97ec6",
   "metadata": {},
   "outputs": [],
   "source": [
    "현대 = Stock(\"현대차\", \"005930\", 15.79, 1.33, 2.83)"
   ]
  },
  {
   "cell_type": "code",
   "execution_count": 96,
   "id": "be2bd2d9-7f20-4031-b2a3-bb8304619091",
   "metadata": {},
   "outputs": [],
   "source": [
    "LG = Stock(\"LG전자\", \"005930\", 15.79, 1.33, 2.83)"
   ]
  },
  {
   "cell_type": "markdown",
   "id": "377b6d7e-5351-4187-983b-a0d1f0824480",
   "metadata": {},
   "source": [
    "### <11.클래스> 271-280"
   ]
  },
  {
   "cell_type": "markdown",
   "id": "d13bebfe-aa4f-44b4-9275-d0efc752b198",
   "metadata": {},
   "source": [
    "### <11.클래스> 281-290"
   ]
  },
  {
   "cell_type": "code",
   "execution_count": 109,
   "id": "18c106b6-a620-4ff8-8dc9-be13ceda2157",
   "metadata": {},
   "outputs": [
    {
     "name": "stdout",
     "output_type": "stream",
     "text": [
      "2\n",
      "10\n"
     ]
    }
   ],
   "source": [
    "class 차:\n",
    "    def __init__(self,바퀴,가격):\n",
    "        self.바퀴 = 바퀴\n",
    "        self.가격 = 가격\n",
    "car=차(2,10)\n",
    "print(car.바퀴)\n",
    "print(car.가격)"
   ]
  },
  {
   "cell_type": "code",
   "execution_count": 110,
   "id": "882bf294-9fa9-430e-a99f-20506ad4f495",
   "metadata": {},
   "outputs": [
    {
     "name": "stdout",
     "output_type": "stream",
     "text": [
      "2\n",
      "10\n",
      "시마노\n"
     ]
    }
   ],
   "source": [
    "class 자전차(차):\n",
    "    def __init__(self,바퀴,가격,구동계):      #변수 3개\n",
    "        self.구동계 = 구동계\n",
    "        \n",
    "bicycle = 자전차(2, 100,\"시마노\")      #인수 3개\n",
    "\n",
    "print(car.바퀴)\n",
    "print(car.가격)\n",
    "print(bicycle.구동계)"
   ]
  },
  {
   "cell_type": "code",
   "execution_count": 112,
   "id": "d8226c2d-a6f9-489b-b8de-371585520b31",
   "metadata": {},
   "outputs": [
    {
     "ename": "TypeError",
     "evalue": "__init__() missing 2 required positional arguments: '구동계' and '정보'",
     "output_type": "error",
     "traceback": [
      "\u001b[1;31m---------------------------------------------------------------------------\u001b[0m",
      "\u001b[1;31mTypeError\u001b[0m                                 Traceback (most recent call last)",
      "\u001b[1;32m<ipython-input-112-df475d4774ab>\u001b[0m in \u001b[0;36m<module>\u001b[1;34m\u001b[0m\n\u001b[0;32m      3\u001b[0m         \u001b[0mself\u001b[0m\u001b[1;33m.\u001b[0m\u001b[0m정보\u001b[0m \u001b[1;33m=\u001b[0m \u001b[0m정보\u001b[0m\u001b[1;33m\u001b[0m\u001b[1;33m\u001b[0m\u001b[0m\n\u001b[0;32m      4\u001b[0m \u001b[1;33m\u001b[0m\u001b[0m\n\u001b[1;32m----> 5\u001b[1;33m \u001b[0mcar\u001b[0m \u001b[1;33m=\u001b[0m \u001b[0m자동차\u001b[0m\u001b[1;33m(\u001b[0m\u001b[1;36m4\u001b[0m\u001b[1;33m,\u001b[0m \u001b[1;36m1000\u001b[0m\u001b[1;33m)\u001b[0m\u001b[1;33m\u001b[0m\u001b[1;33m\u001b[0m\u001b[0m\n\u001b[0m\u001b[0;32m      6\u001b[0m \u001b[0mprint\u001b[0m\u001b[1;33m(\u001b[0m\u001b[0mcar\u001b[0m\u001b[1;33m.\u001b[0m\u001b[0m정보\u001b[0m\u001b[1;33m(\u001b[0m\u001b[1;33m)\u001b[0m\u001b[1;33m)\u001b[0m\u001b[1;33m\u001b[0m\u001b[1;33m\u001b[0m\u001b[0m\n",
      "\u001b[1;31mTypeError\u001b[0m: __init__() missing 2 required positional arguments: '구동계' and '정보'"
     ]
    }
   ],
   "source": [
    "#285 오답\n",
    "\n",
    "class 자동차(차):\n",
    "    def __init__(self,바퀴,가격,구동계,정보):      #변수 5개\n",
    "        self.정보 = 정보\n",
    "\n",
    "car = 자동차(4, 1000)    #변수가 2개   이므로 맞춰줘야함\n",
    "print(car.정보())      #또한 car의 정보 함수를 불러오는 것이므로 정보 함수 추가해야함"
   ]
  },
  {
   "cell_type": "code",
   "execution_count": 119,
   "id": "ab9f1709-0090-4be3-9a6b-581ad3319182",
   "metadata": {},
   "outputs": [
    {
     "name": "stdout",
     "output_type": "stream",
     "text": [
      "바퀴수: 4\n",
      "가격: 1000\n"
     ]
    }
   ],
   "source": [
    "#285\n",
    "class 자동차(차):\n",
    "    def 정보(self):           #바퀴와 가격 변수는 차 에서 정의 됐으므로 입력 안해도됨\n",
    "        print(\"바퀴수:\",self.바퀴)\n",
    "        print(\"가격:\",self.가격)\n",
    "    \n",
    "car = 자동차(4, 1000)\n",
    "car.정보()"
   ]
  },
  {
   "cell_type": "code",
   "execution_count": 122,
   "id": "6738788c-de3c-4d0e-9f96-585a07bbb7b8",
   "metadata": {},
   "outputs": [
    {
     "ename": "AttributeError",
     "evalue": "'자전차' object has no attribute '바퀴'",
     "output_type": "error",
     "traceback": [
      "\u001b[1;31m---------------------------------------------------------------------------\u001b[0m",
      "\u001b[1;31mAttributeError\u001b[0m                            Traceback (most recent call last)",
      "\u001b[1;32m<ipython-input-122-40815fdb74c6>\u001b[0m in \u001b[0;36m<module>\u001b[1;34m\u001b[0m\n\u001b[0;32m      9\u001b[0m \u001b[1;33m\u001b[0m\u001b[0m\n\u001b[0;32m     10\u001b[0m \u001b[0mbicycle\u001b[0m \u001b[1;33m=\u001b[0m \u001b[0m자전차\u001b[0m\u001b[1;33m(\u001b[0m\u001b[1;36m2\u001b[0m\u001b[1;33m,\u001b[0m \u001b[1;36m100\u001b[0m\u001b[1;33m,\u001b[0m\u001b[1;34m\"시마노\"\u001b[0m\u001b[1;33m)\u001b[0m      \u001b[1;31m#인수 3개\u001b[0m\u001b[1;33m\u001b[0m\u001b[1;33m\u001b[0m\u001b[0m\n\u001b[1;32m---> 11\u001b[1;33m \u001b[0mbicycle\u001b[0m\u001b[1;33m.\u001b[0m\u001b[0m정보\u001b[0m\u001b[1;33m(\u001b[0m\u001b[1;33m)\u001b[0m\u001b[1;33m\u001b[0m\u001b[1;33m\u001b[0m\u001b[0m\n\u001b[0m\u001b[0;32m     12\u001b[0m \u001b[1;33m\u001b[0m\u001b[0m\n",
      "\u001b[1;32m<ipython-input-122-40815fdb74c6>\u001b[0m in \u001b[0;36m정보\u001b[1;34m(self)\u001b[0m\n\u001b[0;32m      5\u001b[0m \u001b[1;33m\u001b[0m\u001b[0m\n\u001b[0;32m      6\u001b[0m     \u001b[1;32mdef\u001b[0m \u001b[0m정보\u001b[0m\u001b[1;33m(\u001b[0m\u001b[0mself\u001b[0m\u001b[1;33m)\u001b[0m\u001b[1;33m:\u001b[0m\u001b[1;33m\u001b[0m\u001b[1;33m\u001b[0m\u001b[0m\n\u001b[1;32m----> 7\u001b[1;33m         \u001b[0mprint\u001b[0m\u001b[1;33m(\u001b[0m\u001b[1;34m\"바퀴수:\"\u001b[0m\u001b[1;33m,\u001b[0m\u001b[0mself\u001b[0m\u001b[1;33m.\u001b[0m\u001b[0m바퀴\u001b[0m\u001b[1;33m)\u001b[0m\u001b[1;33m\u001b[0m\u001b[1;33m\u001b[0m\u001b[0m\n\u001b[0m\u001b[0;32m      8\u001b[0m         \u001b[0mprint\u001b[0m\u001b[1;33m(\u001b[0m\u001b[1;34m\"가격:\"\u001b[0m\u001b[1;33m,\u001b[0m\u001b[0mself\u001b[0m\u001b[1;33m.\u001b[0m\u001b[0m가격\u001b[0m\u001b[1;33m)\u001b[0m\u001b[1;33m\u001b[0m\u001b[1;33m\u001b[0m\u001b[0m\n\u001b[0;32m      9\u001b[0m \u001b[1;33m\u001b[0m\u001b[0m\n",
      "\u001b[1;31mAttributeError\u001b[0m: '자전차' object has no attribute '바퀴'"
     ]
    }
   ],
   "source": [
    "#286\n",
    "class 자전차(차):\n",
    "    def __init__(self,바퀴,가격,구동계):      #변수 3개\n",
    "        self.구동계 = 구동계\n",
    "    \n",
    "    def 정보(self):\n",
    "        print(\"바퀴수:\",self.바퀴)\n",
    "        print(\"가격:\",self.가격)        \n",
    "        \n",
    "bicycle = 자전차(2, 100,\"시마노\")      #인수 3개\n",
    "bicycle.정보()\n"
   ]
  },
  {
   "cell_type": "code",
   "execution_count": 123,
   "id": "8e40cc3d-c1c4-402f-b88c-84548052c2ec",
   "metadata": {},
   "outputs": [],
   "source": [
    "#287 까지 생략"
   ]
  },
  {
   "cell_type": "markdown",
   "id": "6ec2cc77-c5a6-41b6-ad66-d2947a2ccac4",
   "metadata": {},
   "source": [
    "### <12.파일 입출력과 예외처리> 291-300"
   ]
  },
  {
   "cell_type": "code",
   "execution_count": 67,
   "id": "34601f65-1a54-4cbc-a3a7-16d328a0f3c2",
   "metadata": {},
   "outputs": [],
   "source": [
    "f = open(\"매수종목1.txt\",\"w\")\n",
    "f.write(\"005930\\n\")\n",
    "f.write(\"005380\\n\")\n",
    "f.write(\"035420\\n\")\n",
    "f.close()"
   ]
  },
  {
   "cell_type": "code",
   "execution_count": 68,
   "id": "c1d40163-22c3-434f-9dd7-84f2d238cc57",
   "metadata": {},
   "outputs": [],
   "source": [
    "f = open(\"매수종목1.txt\",\"a\")\n",
    "f.write(\"005930 삼성전자\\n\")\n",
    "f.write(\"005380 현대차\\n\")\n",
    "f.write(\"035420 NAVER\\n\")\n",
    "f.close()"
   ]
  },
  {
   "cell_type": "code",
   "execution_count": 75,
   "id": "3dd83eb1-9f1f-460c-90d9-e37943c3afdc",
   "metadata": {},
   "outputs": [
    {
     "name": "stdout",
     "output_type": "stream",
     "text": [
      "['005930\\n', '005380\\n', '035420\\n', '005930 삼성전자\\n', '005380 현대차\\n', '035420 NAVER\\n']\n"
     ]
    }
   ],
   "source": [
    "#294\n",
    "f = open(\"매수종목1.txt\",\"r\")\n",
    "line_list = f.readlines()\n",
    "print(line_list)\n",
    "f.close()"
   ]
  },
  {
   "cell_type": "code",
   "execution_count": 73,
   "id": "d9a83b12-4937-4dda-bf9a-14cb6cb011ef",
   "metadata": {},
   "outputs": [
    {
     "name": "stdout",
     "output_type": "stream",
     "text": [
      "['005930', '005380', '035420', '005930 삼성전자', '005380 현대차', '035420 NAVER']\n"
     ]
    }
   ],
   "source": [
    "#294\n",
    "f = open(\"매수종목1.txt\",\"r\")\n",
    "line_list = f.readlines()     #/n이 붙어 있는 각각의 줄을 리스트로 돌려줌.\n",
    "\n",
    "new_list = []               #각 요소의 /n을 제거하여 다시 새로운 리스트에 집어넣기.\n",
    "for l in line_list:\n",
    "    new_list.append(l.strip())  #문자.strip()   /n을 제거하는 함수\n",
    "\n",
    "print(new_list)\n",
    "\n",
    "f.close()\n",
    "\n"
   ]
  },
  {
   "cell_type": "code",
   "execution_count": 76,
   "id": "574da4e5-5594-47ba-8bdb-a2177529acbe",
   "metadata": {},
   "outputs": [
    {
     "name": "stdout",
     "output_type": "stream",
     "text": [
      "{'005930': '삼성전자', '005380': '현대차', '035420': 'NAVER'}\n"
     ]
    }
   ],
   "source": [
    "f = open(\"매수종목1.txt\",\"r\")\n",
    "line_list = f.readlines()\n",
    "\n",
    "data={}\n",
    "new_list = []\n",
    "for l in line_list[3:]:\n",
    "    l = l.strip()             #문자.strip()   /n을 제거하는 함수\n",
    "    \n",
    "    k,v = l.split()           #문자.split() 빈칸등을 기준으로 문자를 빈으로 나눠줌\n",
    "    data[k]=v                 #변수 두개 생성.\n",
    "    \n",
    "print(data)\n",
    "f.close()"
   ]
  },
  {
   "cell_type": "code",
   "execution_count": 77,
   "id": "d4377e93-8ff1-459a-a37c-0b2a4fac4082",
   "metadata": {},
   "outputs": [
    {
     "name": "stdout",
     "output_type": "stream",
     "text": [
      "10.31\n",
      "0\n",
      "8.0\n"
     ]
    }
   ],
   "source": [
    "per = [\"10.31\", \"\", \"8.00\"]\n",
    "\n",
    "for i in per:\n",
    "    try:\n",
    "        print(float(i))       #이걸 시도하고 \n",
    "    except:\n",
    "        print(0)               #에러가 발생할 떈 이렇게 해라"
   ]
  },
  {
   "cell_type": "code",
   "execution_count": 79,
   "id": "44cbf18a-7fd0-485e-98bf-f083bd009e7c",
   "metadata": {},
   "outputs": [
    {
     "name": "stdout",
     "output_type": "stream",
     "text": [
      "[10.31, 0, 8.0]\n"
     ]
    }
   ],
   "source": [
    "per = [\"10.31\", \"\", \"8.00\"]\n",
    "new_per = []\n",
    "\n",
    "for i in per:\n",
    "    try:\n",
    "        v = float(i)\n",
    "    except:\n",
    "        v = 0\n",
    "    new_per.append(v)\n",
    "\n",
    "print(new_per)\n"
   ]
  },
  {
   "cell_type": "code",
   "execution_count": null,
   "id": "399796bb-b7ab-46bf-9ddd-65ab374e0353",
   "metadata": {},
   "outputs": [],
   "source": []
  },
  {
   "cell_type": "code",
   "execution_count": null,
   "id": "1ce1fbfc-8508-4469-baa0-fc3b184a48b0",
   "metadata": {},
   "outputs": [],
   "source": []
  }
 ],
 "metadata": {
  "kernelspec": {
   "display_name": "Python 3 (ipykernel)",
   "language": "python",
   "name": "python3"
  },
  "language_info": {
   "codemirror_mode": {
    "name": "ipython",
    "version": 3
   },
   "file_extension": ".py",
   "mimetype": "text/x-python",
   "name": "python",
   "nbconvert_exporter": "python",
   "pygments_lexer": "ipython3",
   "version": "3.10.9"
  }
 },
 "nbformat": 4,
 "nbformat_minor": 5
}
