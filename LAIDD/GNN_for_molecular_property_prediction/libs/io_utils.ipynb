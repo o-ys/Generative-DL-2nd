{
 "cells": [
  {
   "cell_type": "markdown",
   "id": "3047782f-39a6-42e3-9fa4-79234679710c",
   "metadata": {},
   "source": [
    "### io_utils.py  (io(input output)와 관련된 함수를 짜놓은 코드) \n",
    "##### train.py의 train code가 import 하는 code들은 lib 폴더에 저장"
   ]
  },
  {
   "cell_type": "markdown",
   "id": "ec0873a6-4238-4cab-bcf3-be64c5916ddc",
   "metadata": {},
   "source": [
    "<GCN, GIN 같은 Network를 만들기 전에 data를 전처리하는 과정>\n",
    "\n",
    "3강. SMILES->Graph\n",
    "\n",
    "파이토치 데이터셋과 데이터 로더 만들기"
   ]
  },
  {
   "cell_type": "markdown",
   "id": "e1d05b9e-4531-4b6e-80f7-a47915b5e256",
   "metadata": {},
   "source": [
    "### 원본"
   ]
  },
  {
   "cell_type": "code",
   "execution_count": 2,
   "id": "d87818ef-c025-49df-a1a7-b2255c3ed479",
   "metadata": {},
   "outputs": [
    {
     "name": "stderr",
     "output_type": "stream",
     "text": [
      "Downloading...\n",
      "100%|██████████| 138k/138k [00:00<00:00, 337kiB/s] \n",
      "Loading...\n",
      "Done!\n"
     ]
    }
   ],
   "source": [
    "import torch\n",
    "import dgl\n",
    "from rdkit import Chem\n",
    "\n",
    "#therapeutics data commons라는 벤치마크 data set과 task를 제공하는 라이브러리\n",
    "#tdc에서 벤치마트 data set 다운 (ADME - BBB_Martins)\n",
    "from tdc.single_pred import ADME\n",
    "from tdc.single_pred import HTS\n",
    "from tdc.single_pred import Tox\n",
    "\n",
    "\n",
    "ATOM_VOCAB = [\n",
    "\t'C', 'N', 'O', 'S', 'F', \n",
    "\t'H', 'Si', 'P', 'Cl', 'Br',\n",
    "\t'Li', 'Na', 'K', 'Mg', 'Ca',\n",
    "\t'Fe', 'As', 'Al', 'I', 'B',\n",
    "\t'V', 'Tl', 'Sb', 'Sn', 'Ag', \n",
    "\t'Pd', 'Co', 'Se', 'Ti', 'Zn',\n",
    "\t'Ge', 'Cu', 'Au', 'Ni', 'Cd',\n",
    "\t'Mn', 'Cr', 'Pt', 'Hg', 'Pb'\n",
    "]\n",
    "\n",
    "\n",
    "def one_of_k_encoding(x, vocab):\n",
    "\tif x not in vocab:\n",
    "\t\tx = vocab[-1]\n",
    "\treturn list(map(lambda s: float(x==s), vocab))\n",
    "\n",
    "\n",
    "def get_atom_feature(atom):\n",
    "\tatom_feature = one_of_k_encoding(atom.GetSymbol(), ATOM_VOCAB)\n",
    "\tatom_feature += one_of_k_encoding(atom.GetDegree(), [0, 1, 2, 3, 4, 5])\n",
    "\tatom_feature += one_of_k_encoding(atom.GetTotalNumHs(), [0, 1, 2, 3, 4])\n",
    "\tatom_feature += one_of_k_encoding(atom.GetImplicitValence(), [0, 1, 2, 3, 4, 5])\n",
    "\tatom_feature += [atom.GetIsAromatic()]\n",
    "\treturn atom_feature\n",
    "\t\n",
    "\n",
    "def get_bond_feature(bond):\n",
    "\tbt = bond.GetBondType()\n",
    "\tbond_feature = [\n",
    "\t\tbt == Chem.rdchem.BondType.SINGLE,\n",
    "\t\tbt == Chem.rdchem.BondType.DOUBLE,\n",
    "\t\tbt == Chem.rdchem.BondType.TRIPLE,\n",
    "\t\tbt == Chem.rdchem.BondType.AROMATIC,\n",
    "\t\tbond.GetIsConjugated(),\n",
    "\t\tbond.IsInRing()\n",
    "\t]\n",
    "\treturn bond_feature\n",
    "\n",
    "\n",
    "def get_molecular_graph(smi):\n",
    "\tmol = Chem.MolFromSmiles(smi)\n",
    "\tgraph = dgl.DGLGraph()\n",
    "\n",
    "\tatom_list = mol.GetAtoms()\n",
    "\tnum_atoms = len(atom_list)\n",
    "\tgraph.add_nodes(num_atoms)\n",
    "\n",
    "\tatom_feature_list = [get_atom_feature(atom) for atom in atom_list]\n",
    "\tatom_feature_list = torch.tensor(atom_feature_list, dtype=torch.float64)\n",
    "\tgraph.ndata['h'] = atom_feature_list\n",
    "\n",
    "\tbond_list = mol.GetBonds()\n",
    "\tbond_feature_list = []\n",
    "\tfor bond in bond_list:\n",
    "\t\tbond_feature = get_bond_feature(bond)\n",
    "\n",
    "\t\tsrc = bond.GetBeginAtom().GetIdx()\n",
    "\t\tdst = bond.GetEndAtom().GetIdx()\n",
    "\n",
    "\t\t# DGL graph is undirectional\n",
    "\t\t# Thus, we have to add edge pair of both (i,j) and (j, i)\n",
    "\t\t# i --> j\n",
    "\t\tgraph.add_edges(src, dst)\n",
    "\t\tbond_feature_list.append(bond_feature)\n",
    "\n",
    "\t\t# j --> i\n",
    "\t\tgraph.add_edges(dst, src)\n",
    "\t\tbond_feature_list.append(bond_feature)\n",
    "\t\n",
    "\tbond_feature_list = torch.tensor(bond_feature_list, dtype=torch.float64)\n",
    "\tgraph.edata['e_ij'] = bond_feature_list\n",
    "\treturn graph\n",
    "\n",
    "\n",
    "def get_smi_and_label(dataset):\n",
    "\tsmi_list = list(dataset['Drug'])\n",
    "\tlabel_list = list(dataset['Y'])\n",
    "\treturn smi_list, label_list\n",
    "\n",
    "\n",
    "def my_collate_fn(batch):\n",
    "\tgraph_list = []\n",
    "\tlabel_list = []\n",
    "\tfor item in batch:\n",
    "\t\tsmi = item[0]\n",
    "\t\tlabel = item[1]\n",
    "\t\tgraph = get_molecular_graph(smi)\n",
    "\t\tgraph_list.append(graph)\n",
    "\t\tlabel_list.append(label)\n",
    "\tgraph_list = dgl.batch(graph_list)\n",
    "\tlabel_list = torch.tensor(label_list, dtype=torch.float64)\n",
    "\treturn graph_list, label_list\n",
    "\n",
    "\n",
    "def get_dataset(\n",
    "\t\tname,\n",
    "\t\tmethod='random',\n",
    "\t\tdata_seed=999,\n",
    "\t\tfrac=[0.7, 0.1, 0.2]\n",
    "\t):\n",
    "\tdata = None\n",
    "\tif name == 'BBBP':\n",
    "\t\tdata = ADME(\n",
    "\t\t\tname='BBB_Martins'\n",
    "\t\t)\n",
    "\telif name == 'HIV':\n",
    "\t\tdata = HTS(\n",
    "\t\t\tname='HIV'\n",
    "\t\t)\n",
    "\telif name == 'hERG':\n",
    "\t\tdata = Tox(\n",
    "\t\t\tname='hERG'\n",
    "\t\t)\n",
    "\telif name == 'Solubility':\n",
    "\t\tdata = ADME(\n",
    "\t\t\tname='Solubility_AqSolDB'\n",
    "\t\t)\n",
    "\telif name == 'Lipophilicity':\n",
    "\t\tdata = ADME(\n",
    "\t\t\tname='Lipophilicity_AstraZeneca'\n",
    "\t\t)\n",
    "\n",
    "\tsplit = data.get_split(\n",
    "\t\tmethod=method,\n",
    "\t\tseed=data_seed,\n",
    "\t\tfrac=frac,\n",
    "\t)\n",
    "\ttrain_set = split['train']\n",
    "\tvalid_set = split['valid']\n",
    "\ttest_set = split['test']\n",
    "\treturn train_set, valid_set, test_set\n",
    "\n",
    "\n",
    "class MyDataset(torch.utils.data.Dataset):\n",
    "\tdef __init__(\n",
    "\t\t\tself, \n",
    "\t\t\tsplitted_set\n",
    "\t\t):\n",
    "\t\tself.smi_list = list(splitted_set['Drug'])\n",
    "\t\tself.label_list = list(splitted_set['Y'])\n",
    "\t\n",
    "\tdef __len__(self):\n",
    "\t\treturn len(self.smi_list)\n",
    "\t\n",
    "\tdef __getitem__(\n",
    "\t\t\tself, \n",
    "\t\t\tidx\n",
    "\t\t):\n",
    "\t\treturn self.smi_list[idx], self.label_list[idx]\n",
    "\n",
    "def debugging():\n",
    "\tdata = ADME(\n",
    "\t\tname='BBB_Martins'\n",
    "\t)\n",
    "\tsplit = data.get_split(\n",
    "\t\tmethod='random',\n",
    "\t\tseed=999,\n",
    "\t\tfrac=[0.7, 0.1, 0.2],\n",
    "\t)\n",
    "\ttrain_set = split['train']\n",
    "\tvalid_set = split['valid']\n",
    "\ttest_set = split['test']\n",
    "\t\n",
    "\tsmi_train, label_train = get_smi_and_label(train_set)\n",
    "    #하나의 molecular graph (DGL graph)로 변환\n",
    "    #이 graph를 NN에 넣으면 NN이 인식 하고 하나의 output 도출\n",
    "\tgraph = get_molecular_graph(smi_train[0])\n",
    "\n",
    "\n",
    "if __name__ == '__main__':\n",
    "\tdebugging()"
   ]
  },
  {
   "cell_type": "markdown",
   "id": "7b30187b-b46c-4772-8ba0-50618b53af16",
   "metadata": {},
   "source": [
    "### 주석"
   ]
  },
  {
   "cell_type": "code",
   "execution_count": 7,
   "id": "e8ece2aa-cbb2-4fea-a43f-92a81b2f23af",
   "metadata": {},
   "outputs": [
    {
     "name": "stderr",
     "output_type": "stream",
     "text": [
      "Found local copy...\n",
      "Loading...\n",
      "Done!\n"
     ]
    }
   ],
   "source": [
    "import torch\n",
    "import dgl\n",
    "from rdkit import Chem\n",
    "\n",
    "from tdc.single_pred import ADME\n",
    "from tdc.single_pred import HTS\n",
    "from tdc.single_pred import Tox\n",
    "\n",
    "\n",
    "ATOM_VOCAB = [\n",
    "    'C', 'N', 'O', 'S', 'F', \n",
    "    'H', 'Si', 'P', 'Cl', 'Br',\n",
    "    'Li', 'Na', 'K', 'Mg', 'Ca',\n",
    "    'Fe', 'As', 'Al', 'I', 'B',\n",
    "    'V', 'Tl', 'Sb', 'Sn', 'Ag', \n",
    "    'Pd', 'Co', 'Se', 'Ti', 'Zn',\n",
    "    'Ge', 'Cu', 'Au', 'Ni', 'Cd',\n",
    "    'Mn', 'Cr', 'Pt', 'Hg', 'Pb'\n",
    "]\n",
    "\n",
    "#<5th>\n",
    "def one_of_k_encoding(x, vocab):\n",
    "    if x not in vocab:\n",
    "        x = vocab[-1]\n",
    "    #x='C'/ s='C','N','O'...  x=3/ s=0,1,2,3,4,5\n",
    "    #x==s → True/False\n",
    "    #float(True/ False) → 1.0/ 0.0\n",
    "    return list(map(lambda s: float(x==s), vocab))\n",
    "\n",
    "#<4th>\n",
    "def get_atom_feature(atom):\n",
    "    #one-hot 인코딩한 atom feature들을 concatenation하여 return (40+6+5+6+1=58차원)\n",
    "    atom_feature = one_of_k_encoding(atom.GetSymbol(), ATOM_VOCAB)  #↑\n",
    "    atom_feature += one_of_k_encoding(atom.GetDegree(), [0, 1, 2, 3, 4, 5])\n",
    "    atom_feature += one_of_k_encoding(atom.GetTotalNumHs(), [0, 1, 2, 3, 4])\n",
    "    atom_feature += one_of_k_encoding(atom.GetImplicitValence(), [0, 1, 2, 3, 4, 5])\n",
    "    atom_feature += [atom.GetIsAromatic()]\n",
    "    return atom_feature\n",
    "\n",
    "#<7th> (화학) AROMATIC결합은 1.5중 결하이라고도 한다.\n",
    "def get_bond_feature(bond):\n",
    "    bt = bond.GetBondType()\n",
    "    bond_feature = [\n",
    "        bt == Chem.rdchem.BondType.SINGLE,\n",
    "        bt == Chem.rdchem.BondType.DOUBLE,\n",
    "        bt == Chem.rdchem.BondType.TRIPLE,\n",
    "        bt == Chem.rdchem.BondType.AROMATIC,\n",
    "        bond.GetIsConjugated(),\n",
    "        bond.IsInRing()\n",
    "    ]\n",
    "    return bond_feature\n",
    "\n",
    "#<3rd> SMILES -> DGLGraph\n",
    "def get_molecular_graph(smi):\n",
    "    mol = Chem.MolFromSmiles(smi)\n",
    "    #임의의 dgl graph 선언\n",
    "    graph = dgl.DGLGraph()\n",
    "\n",
    "    atom_list = mol.GetAtoms()\n",
    "    num_atoms = len(atom_list)\n",
    "    #atom의 개수가 node의 개수니까, 선언한 graph에 atom 개수만큼 node를 추가\n",
    "    graph.add_nodes(num_atoms)\n",
    "\n",
    "    #atom하나당 각각 58차원으로 된 atom feature으로 전체 atom의 이차원 리스트\n",
    "    atom_feature_list = [get_atom_feature(atom) for atom in atom_list] #↑\n",
    "    #<6th> 리스트 형태의 type을 torch tensor로 변환해 줌\n",
    "    atom_feature_list = torch.tensor(atom_feature_list, dtype=torch.float64)\n",
    "    #선언한 graph의 node data로 전체 node의 atom feature list를 추가해 줌\n",
    "    graph.ndata['h'] = atom_feature_list\n",
    "    \n",
    "\n",
    "    bond_list = mol.GetBonds()\n",
    "    #bond_feature_list = [get_bond_feature(bond) for bond in bond_list] 를 안하는 이유: for문 돌리면서 bond에서 더 얻을게 있음. 그리고 같은 bond_feature가 두번 들어감.\n",
    "    bond_feature_list = []\n",
    "    for bond in bond_list:\n",
    "        bond_feature = get_bond_feature(bond) #↑\n",
    "    \n",
    "        #<8th> bond의 source node index, destination node index\n",
    "        src = bond.GetBeginAtom().GetIdx()\n",
    "        dst = bond.GetEndAtom().GetIdx()\n",
    "\n",
    "        # DGL graph is undirectional\n",
    "        # Thus, we have to add edge pair of both (i,j) and (j, i)\n",
    "        # i --> j (node i에서 node j로 가는 message)\n",
    "        # 그래프에 edge(i,j) 하나 추가\n",
    "        graph.add_edges(src, dst)\n",
    "        # bond feature 리스트에 edge(i,j) feature 하나 추가\n",
    "        bond_feature_list.append(bond_feature)\n",
    "\n",
    "        # j --> i (node j에서 node i로 가는 message. 이때, 같은 bond이므로 bond feature는 i->j , j->i가 똑같음, 따라서 똑같은 bond feature가 두번 들어가게 됨)\n",
    "        # 그래프에 edge 하나 추가\n",
    "        graph.add_edges(dst, src)\n",
    "        # bond feature 리스트에 edge(j,i) feature = edge(i,j) feature하나 추가\n",
    "        bond_feature_list.append(bond_feature)\n",
    "\n",
    "    # list -> tensor / data type 변환: int나 boolean type -> float으로 바꿔줌\n",
    "    bond_feature_list = torch.tensor(bond_feature_list, dtype=torch.float64)\n",
    "    #선언한 graph의 edge data로 전체 bond의 edge feature list를 추가해 줌\n",
    "    graph.edata['e_ij'] = bond_feature_list\n",
    "    # graph에 add_nodes(노드추가) -> ndata(노드피처추가) -> add_edges(엣지추가) -> edata(엣지피처추가) 전부 선언\n",
    "    return graph\n",
    "\n",
    "#<2nd>\n",
    "def get_smi_and_label(dataset):\n",
    "    smi_list = list(dataset['Drug'])\n",
    "    label_list = list(dataset['Y'])\n",
    "    return smi_list, label_list\n",
    "\n",
    "# batch_size가 32라면 한 batch에 SMILES 32개 , Label 32개\n",
    "def my_collate_fn(batch):\n",
    "    graph_list = []\n",
    "    label_list = []\n",
    "    # batch에서 item하나 씩\n",
    "    for item in batch:\n",
    "        # SMILES는 item의 0번째\n",
    "        smi = item[0]\n",
    "        # Label은 item의 첫번째\n",
    "        label = item[1]\n",
    "        # SMILES에 대해서 graph로 변환\n",
    "        graph = get_molecular_graph(smi)\n",
    "        # graph 32개\n",
    "        graph_list.append(graph)\n",
    "        # label 32개\n",
    "        label_list.append(label)\n",
    "    # dgl.batch: 하나의 batch로 만듦. (node/edge feature flattening)\n",
    "    # 각 molecule 마다 node 개수가 다를것. (첫번째 SMILES의 노드:3개)(두번쨰..:5개)(세번쨰..:2개) 일 떄 -> 0,1,2/0,1,2,3,4/0,1/..../32번째 SMILES의 노드개수\n",
    "    # 이것들을  0,1,2/3,4,5,6,7/8,9/..../32번째 SMILES의 노드개수 (일종의 flattening)\n",
    "    # 이렇게 하는 이유는 sparce graph로 만들기 위해서 즉, node/edge feature들이 0으로 채워지는 것을 최소화하기 위하여\n",
    "    graph_list = dgl.batch(graph_list)\n",
    "    label_list = torch.tensor(label_list, dtype=torch.float64)\n",
    "    return graph_list, label_list\n",
    "\n",
    "\n",
    "def get_dataset(\n",
    "        #training하고자 하는 property\n",
    "        name,\n",
    "        method='random',\n",
    "        data_seed=999,\n",
    "        frac=[0.7, 0.1, 0.2]\n",
    "    ):\n",
    "    data = None\n",
    "    if name == 'BBBP':\n",
    "        # ADME 클래스 에서 BBB_Martins 데이터를 다운받아라\n",
    "        data = ADME(\n",
    "            name='BBB_Martins'\n",
    "        )\n",
    "    elif name == 'HIV':\n",
    "        data = HTS(\n",
    "            name='HIV'\n",
    "        )\n",
    "    elif name == 'hERG':\n",
    "        data = Tox(\n",
    "            name='hERG'\n",
    "        )\n",
    "    elif name == 'Solubility':\n",
    "        data = ADME(\n",
    "            name='Solubility_AqSolDB'\n",
    "        )\n",
    "    elif name == 'Lipophilicity':\n",
    "        data = ADME(\n",
    "            name='Lipophilicity_AstraZeneca'\n",
    "        )\n",
    "\n",
    "    # 다운받은 데이터를 splitting\n",
    "    split = data.get_split(\n",
    "        # random splitting할거냐, scafold splitting할거냐 \n",
    "        method=method,\n",
    "        # data seed는 111, 222, 333, 999 이 data seed를 바꿔가면서 k-fold cross validation 하는게 실제로는 필요함\n",
    "        seed=data_seed,\n",
    "        # train / validation / test set 비율 \n",
    "        frac=frac,\n",
    "        )\n",
    "    train_set = split['train']\n",
    "    valid_set = split['valid']\n",
    "    test_set = split['test']\n",
    "    return train_set, valid_set, test_set\n",
    "\n",
    "            \n",
    "class MyDataset(torch.utils.data.Dataset):\n",
    "    def __init__(\n",
    "            self, \n",
    "            splitted_set\n",
    "        ):\n",
    "        self.smi_list = list(splitted_set['Drug'])\n",
    "        self.label_list = list(splitted_set['Y'])\n",
    "    \n",
    "    def __len__(self):\n",
    "        return len(self.smi_list)\n",
    "    \n",
    "    # a=MyDataset() , a.smi_list[idx] ---> a[idx]\n",
    "    def __getitem__(\n",
    "            self, \n",
    "            idx\n",
    "        ):\n",
    "        return self.smi_list[idx], self.label_list[idx]\n",
    "\n",
    "#<1st>\n",
    "def debugging():\n",
    "    #데이터셋 다운\n",
    "    data = ADME(\n",
    "        name='BBB_Martins'\n",
    "    )\n",
    "    #random한 방법으로, random seed는 999번쨰로, train/vailation/test set으로 split\n",
    "    split = data.get_split(\n",
    "        method='random',\n",
    "        seed=999,\n",
    "        frac=[0.7, 0.1, 0.2],\n",
    "    )\n",
    "    # type(train_set) --- <class 'pandas.core.frame.DataFrame'>\n",
    "    train_set = split['train']\n",
    "    valid_set = split['valid']\n",
    "    test_set = split['test']\n",
    "    \n",
    "    smi_train, label_train = get_smi_and_label(train_set)  #↑\n",
    "    graph = get_molecular_graph(smi_train[0])  #↑\n",
    "\n",
    "# 다른 스크립트에서 이 io_utils.py 모듀을 import하면 실행되지 않는 부분\n",
    "if __name__ == '__main__':\n",
    "\tdebugging()"
   ]
  },
  {
   "cell_type": "markdown",
   "id": "412129c9-0108-4e0b-9e2d-b9023b562c43",
   "metadata": {},
   "source": [
    "### 연습"
   ]
  },
  {
   "cell_type": "code",
   "execution_count": 13,
   "id": "2b53ca3e-1041-44e4-866a-0b71c33203c2",
   "metadata": {},
   "outputs": [],
   "source": [
    "ATOM_VOCAB = [\n",
    "\t'C', 'N', 'O', 'S', 'F', \n",
    "\t'H', 'Si', 'P', 'Cl', 'Br',\n",
    "\t'Li', 'Na', 'K', 'Mg', 'Ca',\n",
    "\t'Fe', 'As', 'Al', 'I', 'B',\n",
    "\t'V', 'Tl', 'Sb', 'Sn', 'Ag', \n",
    "\t'Pd', 'Co', 'Se', 'Ti', 'Zn',\n",
    "\t'Ge', 'Cu', 'Au', 'Ni', 'Cd',\n",
    "\t'Mn', 'Cr', 'Pt', 'Hg', 'Pb'\n",
    "]\n",
    "\n",
    "\n",
    "def one_of_k_encoding(x, vocab):\n",
    "\tif x not in vocab:\n",
    "\t\tx = vocab[-1]\n",
    "\treturn list(map(lambda s: float(x==s), vocab))\n",
    "                   #lamda func(x):\n",
    "                   #     return float()\n",
    "\n",
    "\n",
    "def get_atom_feature(atom):\n",
    "    atom_feature = one_of_k_encoding(atom.GetSymbol(), ATOM_VOCAB)\n",
    "    return atom_feature"
   ]
  },
  {
   "cell_type": "code",
   "execution_count": 22,
   "id": "dfabd625-6438-4692-a074-df0a96a26977",
   "metadata": {},
   "outputs": [
    {
     "name": "stderr",
     "output_type": "stream",
     "text": [
      "Found local copy...\n",
      "Loading...\n",
      "Done!\n"
     ]
    },
    {
     "name": "stdout",
     "output_type": "stream",
     "text": [
      "[1.0, 0.0, 0.0, 0.0, 0.0, 0.0, 0.0, 0.0, 0.0, 0.0, 0.0, 0.0, 0.0, 0.0, 0.0, 0.0, 0.0, 0.0, 0.0, 0.0, 0.0, 0.0, 0.0, 0.0, 0.0, 0.0, 0.0, 0.0, 0.0, 0.0, 0.0, 0.0, 0.0, 0.0, 0.0, 0.0, 0.0, 0.0, 0.0, 0.0]\n"
     ]
    }
   ],
   "source": [
    "data = ADME(name='BBB_martins')\n",
    "split = data.get_split(method='random', frac=[0.7, 0.1, 0.2], seed=999)\n",
    "train_set = split['train']\n",
    "valid_set = split['valid']\n",
    "test_set = split['test']\n",
    "smi_list = list(train_set['Drug'])\n",
    "smi = smi_list[0]\n",
    "mol = Chem.MolFromSmiles(smi)\n",
    "mol\n",
    "atom_list = mol.GetAtoms()\n",
    "atom = atom_list[0]\n",
    "\n",
    "print(get_atom_feature(atom))"
   ]
  },
  {
   "cell_type": "code",
   "execution_count": 20,
   "id": "b4f9e616-484d-4129-b102-d3eeee080aaa",
   "metadata": {},
   "outputs": [
    {
     "data": {
      "text/plain": [
       "40"
      ]
     },
     "execution_count": 20,
     "metadata": {},
     "output_type": "execute_result"
    }
   ],
   "source": [
    "len(get_atom_feature(atom))"
   ]
  },
  {
   "cell_type": "code",
   "execution_count": 15,
   "id": "1347b499-eb39-41e9-ab40-12d18199508f",
   "metadata": {},
   "outputs": [
    {
     "data": {
      "text/plain": [
       "True"
      ]
     },
     "execution_count": 15,
     "metadata": {},
     "output_type": "execute_result"
    }
   ],
   "source": [
    "1 == 1"
   ]
  },
  {
   "cell_type": "code",
   "execution_count": 16,
   "id": "057d3293-5c4d-442c-a080-ce839ee48187",
   "metadata": {},
   "outputs": [
    {
     "data": {
      "text/plain": [
       "False"
      ]
     },
     "execution_count": 16,
     "metadata": {},
     "output_type": "execute_result"
    }
   ],
   "source": [
    "1 == 0"
   ]
  },
  {
   "cell_type": "code",
   "execution_count": 17,
   "id": "143ffd2c-d384-424f-8b4f-ce12505d0a75",
   "metadata": {},
   "outputs": [
    {
     "data": {
      "text/plain": [
       "1.0"
      ]
     },
     "execution_count": 17,
     "metadata": {},
     "output_type": "execute_result"
    }
   ],
   "source": [
    "float(1 == 1)"
   ]
  },
  {
   "cell_type": "code",
   "execution_count": 18,
   "id": "721d13da-5de2-481f-bff9-e6967a638ef3",
   "metadata": {},
   "outputs": [
    {
     "data": {
      "text/plain": [
       "0.0"
      ]
     },
     "execution_count": 18,
     "metadata": {},
     "output_type": "execute_result"
    }
   ],
   "source": [
    "float(1 == 0)"
   ]
  },
  {
   "cell_type": "code",
   "execution_count": 19,
   "id": "82496b84-f57e-43d2-8ec5-437d9b2bac42",
   "metadata": {},
   "outputs": [
    {
     "data": {
      "text/plain": [
       "[[1], [2], [3]]"
      ]
     },
     "execution_count": 19,
     "metadata": {},
     "output_type": "execute_result"
    }
   ],
   "source": [
    "a=[1]\n",
    "b=[2]\n",
    "c=[3]\n",
    "\n",
    "alll=[a,b,c]\n",
    "\n",
    "re = [ d for d in alll ]\n",
    "re"
   ]
  },
  {
   "cell_type": "code",
   "execution_count": 21,
   "id": "858258f0-c491-489d-b39f-898058eefe9c",
   "metadata": {},
   "outputs": [
    {
     "data": {
      "text/plain": [
       "tensor([[1.],\n",
       "        [2.],\n",
       "        [3.]], dtype=torch.float64)"
      ]
     },
     "execution_count": 21,
     "metadata": {},
     "output_type": "execute_result"
    }
   ],
   "source": [
    "torch.tensor(re, dtype=torch.float64)"
   ]
  },
  {
   "cell_type": "code",
   "execution_count": 23,
   "id": "021a92c3-a21e-4c21-9cfb-24872a418b6d",
   "metadata": {},
   "outputs": [
    {
     "data": {
      "text/plain": [
       "[False]"
      ]
     },
     "execution_count": 23,
     "metadata": {},
     "output_type": "execute_result"
    }
   ],
   "source": [
    "atom_feature = []\n",
    "atom_feature += [atom.GetIsAromatic()]\n",
    "atom_feature"
   ]
  },
  {
   "cell_type": "code",
   "execution_count": null,
   "id": "8844f9e4-e667-4ded-9c8c-c068562b24a1",
   "metadata": {},
   "outputs": [],
   "source": []
  },
  {
   "cell_type": "markdown",
   "id": "36276649-ccd5-49da-a30c-4eb1aa1bf715",
   "metadata": {},
   "source": [
    "### 데이터셋 다운 받고 train/vailation/test set으로 쪼개기"
   ]
  },
  {
   "cell_type": "code",
   "execution_count": 11,
   "id": "f9e15e55-98c0-4762-b397-ea870d67b991",
   "metadata": {},
   "outputs": [
    {
     "name": "stderr",
     "output_type": "stream",
     "text": [
      "Found local copy...\n",
      "Loading...\n",
      "Done!\n"
     ]
    },
    {
     "name": "stdout",
     "output_type": "stream",
     "text": [
      "<class 'dict'>\n",
      "<class 'pandas.core.frame.DataFrame'>\n",
      "{'train':                                 Drug_ID  \\\n",
      "0                  Terbutylchlorambucil   \n",
      "1                                 40730   \n",
      "2                           cloxacillin   \n",
      "3                          cefoperazone   \n",
      "4                      rolitetracycline   \n",
      "...                                 ...   \n",
      "1416                         zometapine   \n",
      "1417                         licostinel   \n",
      "1418  ademetionine(adenosyl-methionine)   \n",
      "1419                           mesocarb   \n",
      "1420                         tofisoline   \n",
      "\n",
      "                                                   Drug  Y  \n",
      "0                CC(C)(C)OC(=O)CCCc1ccc(N(CCCl)CCCl)cc1  1  \n",
      "1      CC1COc2c(N3CCN(C)CC3)c(F)cc3c(=O)c(C(=O)O)cn1c23  1  \n",
      "2     Cc1onc(-c2ccccc2Cl)c1C(=O)N[C@@H]1C(=O)N2[C@@H...  1  \n",
      "3     CCN1CCN(C(=O)N[C@@H](C(=O)N[C@@H]2C(=O)N3C(C(=...  1  \n",
      "4     CN(C)[C@@H]1C(=O)/C(=C(/O)NCN2CCCC2)C(=O)[C@@]...  1  \n",
      "...                                                 ... ..  \n",
      "1416                CC1=C2C(c3cccc(Cl)c3)=NCCN=C2N(C)N1  1  \n",
      "1417     O=c1[nH]c2cc(Cl)c(Cl)c([N+](=O)[O-])c2[nH]c1=O  1  \n",
      "1418  C[S+](CC[C@H](N)C(=O)[O-])C[C@H]1O[C@@H](n2cnc...  1  \n",
      "1419        CC(Cc1ccccc1)n1cc([N-]C(=O)Nc2ccccc2)[o+]n1  1  \n",
      "1420  CCc1c(C)[n+]([NH-])c(-c2ccc(OC)c(OC)c2)c2cc(OC...  1  \n",
      "\n",
      "[1421 rows x 3 columns], 'valid':              Drug_ID                                               Drug  Y\n",
      "0         tifemoxone                             S=C1NCCC(COc2ccccc2)O1  1\n",
      "1           SKF89124                    CCCN(CCC)CCc1ccc(O)c2c1CC(=O)N2  1\n",
      "2       intriptyline                  CN(C)CC#CC=C1c2ccccc2C=Cc2ccccc21  1\n",
      "3       phetharbital                 CCC1(CC)C(=O)NC(=O)N(c2ccccc2)C1=O  1\n",
      "4    fludrocortisone  C[C@]12C[C@H](O)[C@@]3(F)[C@@H](CCC4=CC(=O)CC[...  1\n",
      "..               ...                                                ... ..\n",
      "198      sibopirdine       O.c1cncc(CC2(Cc3ccncc3)c3cccnc3-c3ncccc32)c1  1\n",
      "199       Saquinavir  CC(C)(C)NC(=O)[C@@H]1C[C@@H]2CCCC[C@@H]2CN1C[C...  0\n",
      "200       Vancomycin  CN[C@H](CC(C)C)C(=O)NC1C(=O)N[C@@H](CC(N)=O)C(...  0\n",
      "201    tetrabarbital                     CCCC(CC)C1(CC)C(=O)NC(=O)NC1=O  1\n",
      "202       ibrotamide                               CCC(Br)(C(N)=O)C(C)C  1\n",
      "\n",
      "[203 rows x 3 columns], 'test':             Drug_ID                                               Drug  Y\n",
      "0      aceglutamide                           CC(=O)NC(CCC(N)=O)C(=O)O  1\n",
      "1         tenoxicam         CN1/C(=C(\\O)Nc2ccccn2)C(=O)c2sccc2S1(=O)=O  0\n",
      "2    3-methylhexane                                          CCCC(C)CC  1\n",
      "3          BRL52656       O=C(Cc1ccc(C(F)(F)F)cc1)N1CCCC[C@H]1CN1CCCC1  1\n",
      "4         algestone  CC(=O)[C@@]1(O)[C@H](O)C[C@H]2[C@@H]3CCC4=CC(=...  1\n",
      "..              ...                                                ... ..\n",
      "401       viqualine                   C=CC1CNCCC1CCCc1ccnc2ccc(OC)cc12  1\n",
      "402       Mianserin                       CN1CCN2c3ccccc3Cc3ccccc3C2C1  1\n",
      "403      gemazocine             CCC12CCN(CC3CC3)C(Cc3ccc(O)cc31)C2(C)C  1\n",
      "404     propranolol                        CC(C)NCC(O)COc1cccc2ccccc12  0\n",
      "405     nomifensine                       CN1Cc2c(N)cccc2C(c2ccccc2)C1  1\n",
      "\n",
      "[406 rows x 3 columns]}\n"
     ]
    }
   ],
   "source": [
    "from tdc.single_pred import ADME\n",
    "\n",
    "data = ADME(name='BBB_martins')\n",
    "split = data.get_split(method='random', frac=[0.7, 0.1, 0.2], seed=999) #frac=train,validation,test set\n",
    "print(type(split))\n",
    "print(type(split['train']))\n",
    "print(split)"
   ]
  },
  {
   "cell_type": "code",
   "execution_count": 6,
   "id": "e11dd481-eb4a-4ef1-8023-27c99905d591",
   "metadata": {},
   "outputs": [],
   "source": [
    "train_set = split['train']\n",
    "valid_set = split['valid']\n",
    "test_set = split['test']"
   ]
  },
  {
   "cell_type": "code",
   "execution_count": 12,
   "id": "5f85c795-ab4e-4db2-9669-28f2e3de20a2",
   "metadata": {},
   "outputs": [
    {
     "name": "stdout",
     "output_type": "stream",
     "text": [
      "<class 'pandas.core.frame.DataFrame'>\n"
     ]
    },
    {
     "data": {
      "text/html": [
       "<div>\n",
       "<style scoped>\n",
       "    .dataframe tbody tr th:only-of-type {\n",
       "        vertical-align: middle;\n",
       "    }\n",
       "\n",
       "    .dataframe tbody tr th {\n",
       "        vertical-align: top;\n",
       "    }\n",
       "\n",
       "    .dataframe thead th {\n",
       "        text-align: right;\n",
       "    }\n",
       "</style>\n",
       "<table border=\"1\" class=\"dataframe\">\n",
       "  <thead>\n",
       "    <tr style=\"text-align: right;\">\n",
       "      <th></th>\n",
       "      <th>Drug_ID</th>\n",
       "      <th>Drug</th>\n",
       "      <th>Y</th>\n",
       "    </tr>\n",
       "  </thead>\n",
       "  <tbody>\n",
       "    <tr>\n",
       "      <th>0</th>\n",
       "      <td>Terbutylchlorambucil</td>\n",
       "      <td>CC(C)(C)OC(=O)CCCc1ccc(N(CCCl)CCCl)cc1</td>\n",
       "      <td>1</td>\n",
       "    </tr>\n",
       "    <tr>\n",
       "      <th>1</th>\n",
       "      <td>40730</td>\n",
       "      <td>CC1COc2c(N3CCN(C)CC3)c(F)cc3c(=O)c(C(=O)O)cn1c23</td>\n",
       "      <td>1</td>\n",
       "    </tr>\n",
       "    <tr>\n",
       "      <th>2</th>\n",
       "      <td>cloxacillin</td>\n",
       "      <td>Cc1onc(-c2ccccc2Cl)c1C(=O)N[C@@H]1C(=O)N2[C@@H...</td>\n",
       "      <td>1</td>\n",
       "    </tr>\n",
       "    <tr>\n",
       "      <th>3</th>\n",
       "      <td>cefoperazone</td>\n",
       "      <td>CCN1CCN(C(=O)N[C@@H](C(=O)N[C@@H]2C(=O)N3C(C(=...</td>\n",
       "      <td>1</td>\n",
       "    </tr>\n",
       "    <tr>\n",
       "      <th>4</th>\n",
       "      <td>rolitetracycline</td>\n",
       "      <td>CN(C)[C@@H]1C(=O)/C(=C(/O)NCN2CCCC2)C(=O)[C@@]...</td>\n",
       "      <td>1</td>\n",
       "    </tr>\n",
       "    <tr>\n",
       "      <th>...</th>\n",
       "      <td>...</td>\n",
       "      <td>...</td>\n",
       "      <td>...</td>\n",
       "    </tr>\n",
       "    <tr>\n",
       "      <th>1416</th>\n",
       "      <td>zometapine</td>\n",
       "      <td>CC1=C2C(c3cccc(Cl)c3)=NCCN=C2N(C)N1</td>\n",
       "      <td>1</td>\n",
       "    </tr>\n",
       "    <tr>\n",
       "      <th>1417</th>\n",
       "      <td>licostinel</td>\n",
       "      <td>O=c1[nH]c2cc(Cl)c(Cl)c([N+](=O)[O-])c2[nH]c1=O</td>\n",
       "      <td>1</td>\n",
       "    </tr>\n",
       "    <tr>\n",
       "      <th>1418</th>\n",
       "      <td>ademetionine(adenosyl-methionine)</td>\n",
       "      <td>C[S+](CC[C@H](N)C(=O)[O-])C[C@H]1O[C@@H](n2cnc...</td>\n",
       "      <td>1</td>\n",
       "    </tr>\n",
       "    <tr>\n",
       "      <th>1419</th>\n",
       "      <td>mesocarb</td>\n",
       "      <td>CC(Cc1ccccc1)n1cc([N-]C(=O)Nc2ccccc2)[o+]n1</td>\n",
       "      <td>1</td>\n",
       "    </tr>\n",
       "    <tr>\n",
       "      <th>1420</th>\n",
       "      <td>tofisoline</td>\n",
       "      <td>CCc1c(C)[n+]([NH-])c(-c2ccc(OC)c(OC)c2)c2cc(OC...</td>\n",
       "      <td>1</td>\n",
       "    </tr>\n",
       "  </tbody>\n",
       "</table>\n",
       "<p>1421 rows × 3 columns</p>\n",
       "</div>"
      ],
      "text/plain": [
       "                                Drug_ID  \\\n",
       "0                  Terbutylchlorambucil   \n",
       "1                                 40730   \n",
       "2                           cloxacillin   \n",
       "3                          cefoperazone   \n",
       "4                      rolitetracycline   \n",
       "...                                 ...   \n",
       "1416                         zometapine   \n",
       "1417                         licostinel   \n",
       "1418  ademetionine(adenosyl-methionine)   \n",
       "1419                           mesocarb   \n",
       "1420                         tofisoline   \n",
       "\n",
       "                                                   Drug  Y  \n",
       "0                CC(C)(C)OC(=O)CCCc1ccc(N(CCCl)CCCl)cc1  1  \n",
       "1      CC1COc2c(N3CCN(C)CC3)c(F)cc3c(=O)c(C(=O)O)cn1c23  1  \n",
       "2     Cc1onc(-c2ccccc2Cl)c1C(=O)N[C@@H]1C(=O)N2[C@@H...  1  \n",
       "3     CCN1CCN(C(=O)N[C@@H](C(=O)N[C@@H]2C(=O)N3C(C(=...  1  \n",
       "4     CN(C)[C@@H]1C(=O)/C(=C(/O)NCN2CCCC2)C(=O)[C@@]...  1  \n",
       "...                                                 ... ..  \n",
       "1416                CC1=C2C(c3cccc(Cl)c3)=NCCN=C2N(C)N1  1  \n",
       "1417     O=c1[nH]c2cc(Cl)c(Cl)c([N+](=O)[O-])c2[nH]c1=O  1  \n",
       "1418  C[S+](CC[C@H](N)C(=O)[O-])C[C@H]1O[C@@H](n2cnc...  1  \n",
       "1419        CC(Cc1ccccc1)n1cc([N-]C(=O)Nc2ccccc2)[o+]n1  1  \n",
       "1420  CCc1c(C)[n+]([NH-])c(-c2ccc(OC)c(OC)c2)c2cc(OC...  1  \n",
       "\n",
       "[1421 rows x 3 columns]"
      ]
     },
     "execution_count": 12,
     "metadata": {},
     "output_type": "execute_result"
    }
   ],
   "source": [
    "print(type(train_set))\n",
    "train_set"
   ]
  },
  {
   "cell_type": "code",
   "execution_count": 13,
   "id": "800309ee-aae5-4fdf-9849-4256399936a5",
   "metadata": {},
   "outputs": [
    {
     "data": {
      "text/plain": [
       "1421"
      ]
     },
     "execution_count": 13,
     "metadata": {},
     "output_type": "execute_result"
    }
   ],
   "source": [
    "smi_list = list(train_set['Drug'])\n",
    "len(smi_list)"
   ]
  },
  {
   "cell_type": "code",
   "execution_count": 19,
   "id": "f049ef17-fd6c-4989-998a-86d4981f0181",
   "metadata": {},
   "outputs": [
    {
     "data": {
      "text/plain": [
       "int"
      ]
     },
     "execution_count": 19,
     "metadata": {},
     "output_type": "execute_result"
    }
   ],
   "source": [
    "label_list = list(train_set['Y'])\n",
    "type(label_list[0])  #int type 이므로 나중에 dataset에 넣을 떄 float 형태로 변환"
   ]
  },
  {
   "cell_type": "markdown",
   "id": "03694bff-e271-422d-81df-1e880a68b8c6",
   "metadata": {},
   "source": [
    "### GNN: 분자의 구조를 SMILES로부터 graph로 바꾸기"
   ]
  },
  {
   "cell_type": "code",
   "execution_count": 20,
   "id": "ad840895-ff83-409d-a3b7-1bab15e0848a",
   "metadata": {},
   "outputs": [
    {
     "data": {
      "image/png": "[encoded data removed]",
      "text/plain": [
       "<rdkit.Chem.rdchem.Mol at 0x7f92a4a8d530>"
      ]
     },
     "execution_count": 20,
     "metadata": {},
     "output_type": "execute_result"
    }
   ],
   "source": [
    "from rdkit import Chem\n",
    "\n",
    "smi = smi_list[0]\n",
    "mol = Chem.MolFromSmiles(smi)\n",
    "mol"
   ]
  },
  {
   "cell_type": "code",
   "execution_count": 22,
   "id": "295af435-2e6e-4467-a09e-d116755f1f79",
   "metadata": {},
   "outputs": [
    {
     "data": {
      "text/plain": [
       "'C'"
      ]
     },
     "execution_count": 22,
     "metadata": {},
     "output_type": "execute_result"
    }
   ],
   "source": [
    "# graph 중에서 node에 해당이 되는 원자 feature 얻기\n",
    "atom_list = mol.GetAtoms()\n",
    "atom = atom_list[0]\n",
    "atom.GetSymbol()"
   ]
  },
  {
   "cell_type": "code",
   "execution_count": 23,
   "id": "0d6469e9-4431-41b2-a4a7-177972d48ef7",
   "metadata": {},
   "outputs": [
    {
     "data": {
      "text/plain": [
       "1"
      ]
     },
     "execution_count": 23,
     "metadata": {},
     "output_type": "execute_result"
    }
   ],
   "source": [
    "atom.GetDegree()    #이 원자에 팔이 몇개 달려있느냐 (directly-bonded neighbors)"
   ]
  },
  {
   "cell_type": "code",
   "execution_count": 24,
   "id": "5026f1ff-ea1c-4033-a0fd-cc500ec2f763",
   "metadata": {},
   "outputs": [
    {
     "data": {
      "text/plain": [
       "3"
      ]
     },
     "execution_count": 24,
     "metadata": {},
     "output_type": "execute_result"
    }
   ],
   "source": [
    "atom.GetTotalNumHs()  #보통 분자그래프에서 수소는 생략 하는데, 수소가 아닌 원자(node)에 수소가 몇개 붙어있는지 feature로 같이 넣어줌"
   ]
  },
  {
   "cell_type": "code",
   "execution_count": 25,
   "id": "e87bafad-4c27-43d5-91a9-9289678cbe90",
   "metadata": {},
   "outputs": [
    {
     "data": {
      "text/plain": [
       "3"
      ]
     },
     "execution_count": 25,
     "metadata": {},
     "output_type": "execute_result"
    }
   ],
   "source": [
    "atom.GetImplicitValence()"
   ]
  },
  {
   "cell_type": "code",
   "execution_count": 36,
   "id": "75d1c188-61bd-420e-b332-3a4ce62e90c5",
   "metadata": {},
   "outputs": [
    {
     "data": {
      "text/plain": [
       "False"
      ]
     },
     "execution_count": 36,
     "metadata": {},
     "output_type": "execute_result"
    }
   ],
   "source": [
    "atom.GetIsAromatic()"
   ]
  },
  {
   "cell_type": "code",
   "execution_count": 29,
   "id": "061e558d-05c9-4789-8865-7a2a1a1c53ce",
   "metadata": {},
   "outputs": [
    {
     "data": {
      "text/plain": [
       "0"
      ]
     },
     "execution_count": 29,
     "metadata": {},
     "output_type": "execute_result"
    }
   ],
   "source": [
    "# graph 중에서 edge에 해당이 되는 결합 feature 얻기\n",
    "bond_list = mol.GetBonds()\n",
    "bond = bond_list[0]\n",
    "bond.GetBeginAtom().GetIdx()"
   ]
  },
  {
   "cell_type": "code",
   "execution_count": 30,
   "id": "d892594d-8407-45da-92af-738c56db7455",
   "metadata": {},
   "outputs": [
    {
     "data": {
      "text/plain": [
       "1"
      ]
     },
     "execution_count": 30,
     "metadata": {},
     "output_type": "execute_result"
    }
   ],
   "source": [
    "bond.GetEndAtom().GetIdx()"
   ]
  },
  {
   "cell_type": "code",
   "execution_count": 31,
   "id": "c1956a78-fafd-42d8-86eb-c9771060b561",
   "metadata": {},
   "outputs": [
    {
     "data": {
      "text/plain": [
       "rdkit.Chem.rdchem.BondType.SINGLE"
      ]
     },
     "execution_count": 31,
     "metadata": {},
     "output_type": "execute_result"
    }
   ],
   "source": [
    "bond.GetBondType()"
   ]
  },
  {
   "cell_type": "code",
   "execution_count": 32,
   "id": "3d90e4ed-b5ae-4f8e-b7e4-bf1ca9d5940a",
   "metadata": {},
   "outputs": [
    {
     "data": {
      "text/plain": [
       "False"
      ]
     },
     "execution_count": 32,
     "metadata": {},
     "output_type": "execute_result"
    }
   ],
   "source": [
    "bond.IsInRing()"
   ]
  },
  {
   "cell_type": "code",
   "execution_count": 33,
   "id": "5caece86-83a2-4195-be89-320fc5fb277b",
   "metadata": {},
   "outputs": [
    {
     "data": {
      "text/plain": [
       "False"
      ]
     },
     "execution_count": 33,
     "metadata": {},
     "output_type": "execute_result"
    }
   ],
   "source": [
    "bond.GetIsConjugated()"
   ]
  },
  {
   "cell_type": "code",
   "execution_count": null,
   "id": "5f0c7792-39ef-4880-b989-de306f7c71ee",
   "metadata": {},
   "outputs": [],
   "source": []
  },
  {
   "cell_type": "code",
   "execution_count": null,
   "id": "96668fb9-85c7-4973-96f5-7ec10c69506b",
   "metadata": {},
   "outputs": [],
   "source": [
    "def one_of_k_encoding(x, vocab):\n",
    "\tif x not in vocab:\n",
    "\t\tx = vocab[-1]\n",
    "\treturn list(map(lambda s: float(x==s), vocab))\n",
    "                   #lamda func(x):\n",
    "                   #     return float()"
   ]
  },
  {
   "cell_type": "code",
   "execution_count": 2,
   "id": "5addca95-a8f3-4ba2-a92c-7d0db89b8011",
   "metadata": {},
   "outputs": [
    {
     "ename": "NameError",
     "evalue": "name 'atom' is not defined",
     "output_type": "error",
     "traceback": [
      "\u001b[0;31m---------------------------------------------------------------------------\u001b[0m",
      "\u001b[0;31mNameError\u001b[0m                                 Traceback (most recent call last)",
      "\u001b[0;32m<ipython-input-2-e29928767815>\u001b[0m in \u001b[0;36m<module>\u001b[0;34m\u001b[0m\n\u001b[1;32m     13\u001b[0m     \u001b[0;32mreturn\u001b[0m \u001b[0mfloat\u001b[0m\u001b[0;34m(\u001b[0m\u001b[0mx\u001b[0m\u001b[0;34m==\u001b[0m\u001b[0ms\u001b[0m\u001b[0;34m)\u001b[0m\u001b[0;34m\u001b[0m\u001b[0;34m\u001b[0m\u001b[0m\n\u001b[1;32m     14\u001b[0m \u001b[0;34m\u001b[0m\u001b[0m\n\u001b[0;32m---> 15\u001b[0;31m \u001b[0matom_feature\u001b[0m \u001b[0;34m=\u001b[0m \u001b[0mone_of_k_encoding\u001b[0m\u001b[0;34m(\u001b[0m\u001b[0matom\u001b[0m\u001b[0;34m.\u001b[0m\u001b[0mGetSymbol\u001b[0m\u001b[0;34m(\u001b[0m\u001b[0;34m)\u001b[0m\u001b[0;34m,\u001b[0m \u001b[0mATOM_VOCAB\u001b[0m\u001b[0;34m)\u001b[0m\u001b[0;34m\u001b[0m\u001b[0;34m\u001b[0m\u001b[0m\n\u001b[0m",
      "\u001b[0;31mNameError\u001b[0m: name 'atom' is not defined"
     ]
    }
   ],
   "source": [
    "ATOM_VOCAB = [\n",
    "\t'C', 'N', 'O', 'S', 'F', \n",
    "\t'H', 'Si', 'P', 'Cl', 'Br',\n",
    "\t'Li', 'Na', 'K', 'Mg', 'Ca',\n",
    "\t'Fe', 'As', 'Al', 'I', 'B',\n",
    "\t'V', 'Tl', 'Sb', 'Sn', 'Ag', \n",
    "\t'Pd', 'Co', 'Se', 'Ti', 'Zn',\n",
    "\t'Ge', 'Cu', 'Au', 'Ni', 'Cd',\n",
    "\t'Mn', 'Cr', 'Pt', 'Hg', 'Pb'\n",
    "]\n",
    "\n",
    "def func(x):\n",
    "    return float(x==s)\n",
    "\n",
    "atom_feature = one_of_k_encoding(atom.GetSymbol(), ATOM_VOCAB)"
   ]
  },
  {
   "cell_type": "code",
   "execution_count": 9,
   "id": "9a62204e-ea13-47c5-9f1f-e82e46d2443e",
   "metadata": {},
   "outputs": [
    {
     "name": "stdout",
     "output_type": "stream",
     "text": [
      "1 10\n",
      "10 100\n"
     ]
    }
   ],
   "source": [
    "#[in, out1, out2]\n",
    "layer_size = [1, 10, 100]\n",
    "\n",
    "for in_channels, out_channels in zip(layer_size, layer_size[1:]):\n",
    "    print( in_channels , out_channels )\n",
    "            #  in   out1\n",
    "            # out1  out2"
   ]
  },
  {
   "cell_type": "code",
   "execution_count": 12,
   "id": "37112fab-5ba2-4893-896f-efd034eb955a",
   "metadata": {},
   "outputs": [
    {
     "name": "stdout",
     "output_type": "stream",
     "text": [
      "<zip object at 0x7f3242d35190>\n"
     ]
    }
   ],
   "source": [
    "print( zip(layer_size, layer_size[1:]) )"
   ]
  },
  {
   "cell_type": "code",
   "execution_count": 13,
   "id": "078a1ae5-0ec3-42af-909a-2ce359a85257",
   "metadata": {},
   "outputs": [
    {
     "data": {
      "text/plain": [
       "[10, 100]"
      ]
     },
     "execution_count": 13,
     "metadata": {},
     "output_type": "execute_result"
    }
   ],
   "source": [
    "layer_size[1:]"
   ]
  },
  {
   "cell_type": "code",
   "execution_count": 14,
   "id": "eab06597-47ec-4b48-8d5b-2e9730e27585",
   "metadata": {},
   "outputs": [
    {
     "data": {
      "text/plain": [
       "[1, 10, 100]"
      ]
     },
     "execution_count": 14,
     "metadata": {},
     "output_type": "execute_result"
    }
   ],
   "source": [
    "layer_size"
   ]
  }
 ],
 "metadata": {
  "kernelspec": {
   "display_name": "Python 3",
   "language": "python",
   "name": "python3"
  },
  "language_info": {
   "codemirror_mode": {
    "name": "ipython",
    "version": 3
   },
   "file_extension": ".py",
   "mimetype": "text/x-python",
   "name": "python",
   "nbconvert_exporter": "python",
   "pygments_lexer": "ipython3",
   "version": "3.7.13"
  }
 },
 "nbformat": 4,
 "nbformat_minor": 5
}
