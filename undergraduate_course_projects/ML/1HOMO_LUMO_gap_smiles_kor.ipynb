{
 "cells": [
  {
   "cell_type": "markdown",
   "id": "13914593-b42b-4a1e-9a4d-97dbf6bc4d3f",
   "metadata": {},
   "source": [
    "Written by Ye-seul Oh. "
   ]
  },
  {
   "cell_type": "markdown",
   "id": "6df4d093-0d80-4e16-83a4-0faeeca46e67",
   "metadata": {},
   "source": [
    "# <span style=\"color:blue\">1 SMILES 로부터 HOMO-LUMO gap 예측  ~ **<< Confromation of molecules >>** </span> \n"
   ]
  },
  {
   "cell_type": "markdown",
   "id": "dfeeaecb-dcfa-4f86-b0b6-3a477fdb4e2b",
   "metadata": {},
   "source": [
    "###  <span style=\"color:orange\">Maching Learning 기본 순서 </span>\n",
    "1. **전체 dataset을 준비**\n",
    "2. **X , y 분리**\n",
    "3. traing set , test set 분리\n",
    "---\n",
    "4. 빈 모델을 만듦   \n",
    "5. 빈 모델에 traing set을 넣어 모델을 학습시킴\n",
    "6. 학습된 모델에 test set을 넣어 예측시켜봄 \n",
    "---\n",
    "7. 잘 풀었나 채점해봄 \n",
    "8. 모델 튜닝 Hypter parameter"
   ]
  },
  {
   "cell_type": "markdown",
   "id": "5db9fa71-ca3e-40dc-9d38-0e732007700f",
   "metadata": {},
   "source": [
    "↓ 먼저 파일을 .csv 파일을 불러와서 dataframe을 만든다. (엑셀에서 .csv 파일로 저장)"
   ]
  },
  {
   "cell_type": "code",
   "execution_count": 1,
   "id": "a1619c8a-1b3d-4606-8a5e-0eca4e62c11a",
   "metadata": {},
   "outputs": [],
   "source": [
    "import rdkit\n",
    "from rdkit import Chem\n",
    "import pandas as pd\n",
    "chart = pd.read_csv('PubchemQC_Random_HOMO-LUMO_gap_and_OS.csv')"
   ]
  },
  {
   "cell_type": "code",
   "execution_count": 2,
   "id": "bf4bb1e7-1b77-4ae8-a649-f3443eee61df",
   "metadata": {},
   "outputs": [
    {
     "data": {
      "text/html": [
       "<div>\n",
       "<style scoped>\n",
       "    .dataframe tbody tr th:only-of-type {\n",
       "        vertical-align: middle;\n",
       "    }\n",
       "\n",
       "    .dataframe tbody tr th {\n",
       "        vertical-align: top;\n",
       "    }\n",
       "\n",
       "    .dataframe thead th {\n",
       "        text-align: right;\n",
       "    }\n",
       "</style>\n",
       "<table border=\"1\" class=\"dataframe\">\n",
       "  <thead>\n",
       "    <tr style=\"text-align: right;\">\n",
       "      <th></th>\n",
       "      <th>#HOMO-LUMO_gap(eV)</th>\n",
       "      <th>Oscillator_Strength</th>\n",
       "      <th>SMILES</th>\n",
       "    </tr>\n",
       "  </thead>\n",
       "  <tbody>\n",
       "    <tr>\n",
       "      <th>0</th>\n",
       "      <td>4.603</td>\n",
       "      <td>0.053</td>\n",
       "      <td>CC(C)(C1=CC(=C(C=C1)F)N2CCNCC2)O</td>\n",
       "    </tr>\n",
       "    <tr>\n",
       "      <th>1</th>\n",
       "      <td>3.980</td>\n",
       "      <td>0.002</td>\n",
       "      <td>CC1CC(C(=O)C(O1)C)(C)N</td>\n",
       "    </tr>\n",
       "    <tr>\n",
       "      <th>2</th>\n",
       "      <td>4.958</td>\n",
       "      <td>0.003</td>\n",
       "      <td>CC1(CC(CC(N1O)(C)C)[N+](C)(C)C)C</td>\n",
       "    </tr>\n",
       "    <tr>\n",
       "      <th>3</th>\n",
       "      <td>4.822</td>\n",
       "      <td>0.065</td>\n",
       "      <td>C1=CC(=C(C=C1CC(C(=O)O)N)O)O</td>\n",
       "    </tr>\n",
       "    <tr>\n",
       "      <th>4</th>\n",
       "      <td>4.104</td>\n",
       "      <td>0.110</td>\n",
       "      <td>CC(CNC1=NC=NC2=CC=CC=C21)C(=O)O</td>\n",
       "    </tr>\n",
       "    <tr>\n",
       "      <th>...</th>\n",
       "      <td>...</td>\n",
       "      <td>...</td>\n",
       "      <td>...</td>\n",
       "    </tr>\n",
       "    <tr>\n",
       "      <th>99995</th>\n",
       "      <td>5.333</td>\n",
       "      <td>0.003</td>\n",
       "      <td>CN1CCCC1C(=O)NCC2CCCO2</td>\n",
       "    </tr>\n",
       "    <tr>\n",
       "      <th>99996</th>\n",
       "      <td>4.448</td>\n",
       "      <td>0.002</td>\n",
       "      <td>C1COC(=N)N=C1</td>\n",
       "    </tr>\n",
       "    <tr>\n",
       "      <th>99997</th>\n",
       "      <td>3.606</td>\n",
       "      <td>0.000</td>\n",
       "      <td>CC12CCC(=O)C=C1CCC3C2CCC4(C3CCC4(C#C)O)C</td>\n",
       "    </tr>\n",
       "    <tr>\n",
       "      <th>99998</th>\n",
       "      <td>0.000</td>\n",
       "      <td>0.000</td>\n",
       "      <td>C(CO)NC[CH]O</td>\n",
       "    </tr>\n",
       "    <tr>\n",
       "      <th>99999</th>\n",
       "      <td>4.039</td>\n",
       "      <td>0.039</td>\n",
       "      <td>CN(CC1CCOC1)C2=CC=CC(=C2)C(=N)N</td>\n",
       "    </tr>\n",
       "  </tbody>\n",
       "</table>\n",
       "<p>100000 rows × 3 columns</p>\n",
       "</div>"
      ],
      "text/plain": [
       "       #HOMO-LUMO_gap(eV)  Oscillator_Strength  \\\n",
       "0                   4.603                0.053   \n",
       "1                   3.980                0.002   \n",
       "2                   4.958                0.003   \n",
       "3                   4.822                0.065   \n",
       "4                   4.104                0.110   \n",
       "...                   ...                  ...   \n",
       "99995               5.333                0.003   \n",
       "99996               4.448                0.002   \n",
       "99997               3.606                0.000   \n",
       "99998               0.000                0.000   \n",
       "99999               4.039                0.039   \n",
       "\n",
       "                                         SMILES  \n",
       "0              CC(C)(C1=CC(=C(C=C1)F)N2CCNCC2)O  \n",
       "1                        CC1CC(C(=O)C(O1)C)(C)N  \n",
       "2              CC1(CC(CC(N1O)(C)C)[N+](C)(C)C)C  \n",
       "3                  C1=CC(=C(C=C1CC(C(=O)O)N)O)O  \n",
       "4               CC(CNC1=NC=NC2=CC=CC=C21)C(=O)O  \n",
       "...                                         ...  \n",
       "99995                    CN1CCCC1C(=O)NCC2CCCO2  \n",
       "99996                             C1COC(=N)N=C1  \n",
       "99997  CC12CCC(=O)C=C1CCC3C2CCC4(C3CCC4(C#C)O)C  \n",
       "99998                              C(CO)NC[CH]O  \n",
       "99999           CN(CC1CCOC1)C2=CC=CC(=C2)C(=N)N  \n",
       "\n",
       "[100000 rows x 3 columns]"
      ]
     },
     "execution_count": 2,
     "metadata": {},
     "output_type": "execute_result"
    }
   ],
   "source": [
    "chart"
   ]
  },
  {
   "cell_type": "markdown",
   "id": "eba88bc3-64d0-4d69-bbbd-6b4cfe4311de",
   "metadata": {},
   "source": [
    "↓ 각각 column들을 리스트에 넣어준다."
   ]
  },
  {
   "cell_type": "code",
   "execution_count": 3,
   "id": "875522db-a3ba-44d7-8e10-7923587d5221",
   "metadata": {},
   "outputs": [],
   "source": [
    "gap = [i for i in chart['#HOMO-LUMO_gap(eV)']]\n",
    "os = [i for i in chart['Oscillator_Strength']]\n",
    "smiles = [i for i in chart['SMILES']]"
   ]
  },
  {
   "cell_type": "markdown",
   "id": "59aaea2e-991e-44eb-b8ee-5a63b2480b44",
   "metadata": {},
   "source": [
    "↓ SMILES를 mol type으로 변환 후 H를 붙여 새로운 리스트에 저장한다."
   ]
  },
  {
   "cell_type": "code",
   "execution_count": 4,
   "id": "5fd79845-9042-452b-acb2-11cf1a589409",
   "metadata": {},
   "outputs": [],
   "source": [
    "smiles_H=[]\n",
    "for smi in smiles:\n",
    "    m = Chem.MolFromSmiles(smi)\n",
    "    smiles_H.append(Chem.AddHs(m))"
   ]
  },
  {
   "cell_type": "markdown",
   "id": "48a38e7b-e8ee-4087-9112-65cbca8ce165",
   "metadata": {},
   "source": [
    "↓ 수소를 붙인 분자들의 3D 구조를 생성한다."
   ]
  },
  {
   "cell_type": "code",
   "execution_count": 45,
   "id": "b0e50911-5078-4d38-bfd3-4a3381abf14f",
   "metadata": {
    "tags": []
   },
   "outputs": [],
   "source": [
    "from rdkit.Chem import AllChem\n",
    "for m in smiles_H:\n",
    "    AllChem.EmbedMolecule(m)        # 실행이 너무 느리다."
   ]
  },
  {
   "cell_type": "code",
   "execution_count": 48,
   "id": "ee1529b7-5a23-4aba-b7fa-fe19da75e946",
   "metadata": {},
   "outputs": [
    {
     "data": {
      "image/png": "[encoded data removed]",
      "text/plain": [
       "<rdkit.Chem.rdchem.Mol at 0x215ab247520>"
      ]
     },
     "execution_count": 48,
     "metadata": {},
     "output_type": "execute_result"
    }
   ],
   "source": [
    "smiles_H[1992]"
   ]
  },
  {
   "cell_type": "markdown",
   "id": "738db4af-2b68-474e-8900-4d4d699b5e20",
   "metadata": {},
   "source": [
    "↓  ~결과는 상당히 rough한 값이기 때문에  MMFF force-filed 최적화 함수로 구조를 최적화 해준다.~ ......... for문이 안돌아간다."
   ]
  },
  {
   "cell_type": "code",
   "execution_count": 50,
   "id": "ae4fee92-fc47-441d-bbcd-051276dda13a",
   "metadata": {},
   "outputs": [
    {
     "ename": "ValueError",
     "evalue": "Bad Conformer Id",
     "output_type": "error",
     "traceback": [
      "\u001b[1;31m---------------------------------------------------------------------------\u001b[0m",
      "\u001b[1;31mValueError\u001b[0m                                Traceback (most recent call last)",
      "\u001b[1;32m<ipython-input-50-e49ff77d1a75>\u001b[0m in \u001b[0;36m<module>\u001b[1;34m\u001b[0m\n\u001b[0;32m      1\u001b[0m \u001b[1;32mfor\u001b[0m \u001b[0mmol\u001b[0m \u001b[1;32min\u001b[0m \u001b[0msmiles_H\u001b[0m\u001b[1;33m:\u001b[0m\u001b[1;33m\u001b[0m\u001b[1;33m\u001b[0m\u001b[0m\n\u001b[1;32m----> 2\u001b[1;33m     \u001b[0mAllChem\u001b[0m\u001b[1;33m.\u001b[0m\u001b[0mMMFFOptimizeMolecule\u001b[0m\u001b[1;33m(\u001b[0m\u001b[0mmol\u001b[0m\u001b[1;33m)\u001b[0m\u001b[1;33m\u001b[0m\u001b[1;33m\u001b[0m\u001b[0m\n\u001b[0m",
      "\u001b[1;31mValueError\u001b[0m: Bad Conformer Id"
     ]
    }
   ],
   "source": [
    "for mol in smiles_H:\n",
    "    AllChem.MMFFOptimizeMolecule(mol)"
   ]
  },
  {
   "cell_type": "markdown",
   "id": "80c53dc9-2e44-4662-9f45-bb3b7161b994",
   "metadata": {},
   "source": [
    "↓ 분자 한개로는 실행이 되길래"
   ]
  },
  {
   "cell_type": "code",
   "execution_count": 51,
   "id": "bef9852b-84a5-44b5-b88a-209fff315be9",
   "metadata": {},
   "outputs": [
    {
     "data": {
      "text/plain": [
       "0"
      ]
     },
     "execution_count": 51,
     "metadata": {},
     "output_type": "execute_result"
    }
   ],
   "source": [
    "AllChem.MMFFOptimizeMolecule(smiles_H[0])"
   ]
  },
  {
   "cell_type": "markdown",
   "id": "2041466d-af5f-4c98-8b8f-12823ff15801",
   "metadata": {},
   "source": [
    "↓ 분자 개수가 너무 큰가 싶어서 list범위를 1/10 씩 쪼개서 돌려보려고 했는데 안된다."
   ]
  },
  {
   "cell_type": "code",
   "execution_count": 54,
   "id": "e237d1ca-de1b-406c-aa9e-d365a60e2acd",
   "metadata": {},
   "outputs": [
    {
     "ename": "ValueError",
     "evalue": "Bad Conformer Id",
     "output_type": "error",
     "traceback": [
      "\u001b[1;31m---------------------------------------------------------------------------\u001b[0m",
      "\u001b[1;31mValueError\u001b[0m                                Traceback (most recent call last)",
      "\u001b[1;32m<ipython-input-54-2685d3a747fd>\u001b[0m in \u001b[0;36m<module>\u001b[1;34m\u001b[0m\n\u001b[0;32m      1\u001b[0m \u001b[1;32mfor\u001b[0m \u001b[0mi\u001b[0m  \u001b[1;32min\u001b[0m \u001b[0mrange\u001b[0m\u001b[1;33m(\u001b[0m\u001b[1;36m0\u001b[0m\u001b[1;33m,\u001b[0m\u001b[1;36m10000\u001b[0m\u001b[1;33m)\u001b[0m\u001b[1;33m:\u001b[0m\u001b[1;33m\u001b[0m\u001b[1;33m\u001b[0m\u001b[0m\n\u001b[1;32m----> 2\u001b[1;33m     \u001b[0mAllChem\u001b[0m\u001b[1;33m.\u001b[0m\u001b[0mMMFFOptimizeMolecule\u001b[0m\u001b[1;33m(\u001b[0m\u001b[0msmiles_H\u001b[0m\u001b[1;33m[\u001b[0m\u001b[0mi\u001b[0m\u001b[1;33m]\u001b[0m\u001b[1;33m)\u001b[0m\u001b[1;33m\u001b[0m\u001b[1;33m\u001b[0m\u001b[0m\n\u001b[0m",
      "\u001b[1;31mValueError\u001b[0m: Bad Conformer Id"
     ]
    }
   ],
   "source": [
    "for i  in range(0,10000):\n",
    "    AllChem.MMFFOptimizeMolecule(smiles_H[i])"
   ]
  },
  {
   "cell_type": "markdown",
   "id": "bbf7a1d1-ee23-47f5-ad26-8f7b8d69b534",
   "metadata": {},
   "source": [
    "↑ 일단 이 과정은 생략해야겠다 :("
   ]
  },
  {
   "cell_type": "markdown",
   "id": "415ce46c-3475-4467-8f33-a2718da7d56a",
   "metadata": {},
   "source": [
    "↓ 분자들의 Figerprints 를 얻는다. (성질 예측을 위해서는 ECFP interation 횟수 3~4번이 좋다고 알려져 있지만, 노트북 성능이 안좋아서 2번으로 설정했다.)"
   ]
  },
  {
   "cell_type": "code",
   "execution_count": 56,
   "id": "3b30bfe0-ea94-4047-bb26-abc00aff2857",
   "metadata": {},
   "outputs": [],
   "source": [
    "fp = []\n",
    "for m in smiles_H:\n",
    "    m_fp = AllChem.GetMorganFingerprint(m,2)\n",
    "    fp.append(m_fp)"
   ]
  },
  {
   "cell_type": "markdown",
   "id": "fed32d84-bf8f-4297-872d-6afd550cd7af",
   "metadata": {},
   "source": [
    "↓ Fingerprints를 BitVector로 얻는다. (AllChem모듈의 method가 실행이 안돼서 rdMolDescriptors 있는 같은 기능의 method로 실행)"
   ]
  },
  {
   "cell_type": "code",
   "execution_count": 63,
   "id": "10a74487-b978-4b72-84b1-f9a713b2a72f",
   "metadata": {},
   "outputs": [],
   "source": [
    "from rdkit.Chem.rdMolDescriptors import GetMorganFingerprintAsBitVect\n",
    "\n",
    "fp_bit = []\n",
    "for m in smiles_H:\n",
    "    m_bit = GetMorganFingerprintAsBitVect(m,2,nBits=2048)\n",
    "    fp_bit.append(m_bit)"
   ]
  },
  {
   "cell_type": "markdown",
   "id": "ec488adc-65cb-4923-ad6a-bbfd01fdba8e",
   "metadata": {},
   "source": [
    "↓ X (ECFP) 와 y (HOMO-LUMO gap) 생성 완료 !  "
   ]
  },
  {
   "cell_type": "code",
   "execution_count": 66,
   "id": "4b1e5c0f-4cc6-4f59-aae7-404369fb17fc",
   "metadata": {},
   "outputs": [],
   "source": [
    "X = fp_bit\n",
    "y = gap"
   ]
  },
  {
   "cell_type": "markdown",
   "id": "d0405088-10f9-433d-be9e-fd9216f0b2f7",
   "metadata": {},
   "source": [
    "###  <span style=\"color:orange\">Maching Learning 기본 순서 </span>\n",
    "1. 전체 dataset을 준비\n",
    "2. X , y 분리\n",
    "3. **traing set , test set 분리**<span style=\"color:orange\"> →  X_train, X_test, y_train, y_test</span>\n",
    "---\n",
    "4. 빈 모델을 만듦   \n",
    "5. 빈 모델에 traing set을 넣어 모델을 학습시킴\n",
    "6. 학습된 모델에 test set을 넣어 예측시켜봄 \n",
    "---\n",
    "7. 잘 풀었나 채점해봄 \n",
    "8. 모델 튜닝 Hypter parameter"
   ]
  },
  {
   "cell_type": "markdown",
   "id": "813a1cce-02ba-4b6e-931c-8bb4445bab63",
   "metadata": {},
   "source": [
    "↓  X_train, X_test, y_train, y_test 을 분리한다."
   ]
  },
  {
   "cell_type": "code",
   "execution_count": 67,
   "id": "e41ac72e-8567-4d5b-88d8-7da9411b9c46",
   "metadata": {},
   "outputs": [],
   "source": [
    "import sklearn.model_selection\n",
    "X_train, X_test, y_train, y_test = sklearn.model_selection.train_test_split(X, y, test_size=0.2, random_state=722)"
   ]
  },
  {
   "cell_type": "code",
   "execution_count": 95,
   "id": "36f01bd1-bd9f-492c-9fa4-7886f0644162",
   "metadata": {},
   "outputs": [
    {
     "data": {
      "text/plain": [
       "rdkit.DataStructs.cDataStructs.ExplicitBitVect"
      ]
     },
     "execution_count": 95,
     "metadata": {},
     "output_type": "execute_result"
    }
   ],
   "source": [
    "type(X_test[0])"
   ]
  },
  {
   "cell_type": "markdown",
   "id": "d753ab95-6bcd-4ddc-9355-0567a5d64f32",
   "metadata": {},
   "source": [
    "###  <span style=\"color:orange\">Maching Learning 기본 순서 </span>\n",
    "1. 전체 dataset을 준비\n",
    "2. X , y 분리\n",
    "3. traing set , test set 분리\n",
    "---\n",
    "4. **빈 모델을 만듦**   <span style=\"color:orange\">→    .RandomForestRegressor()</span> \n",
    "5. **빈 모델에 traing set을 넣어 모델을 학습시킴**<span style=\"color:orange\"> → .fit()</span>\n",
    "6. **학습된 모델에 test set을 넣어 예측시켜봄** <span style=\"color:orange\">→ .predict()</span>\n",
    "---\n",
    "7. 잘 풀었나 채점해봄 \n",
    "8. 모델 튜닝 Hypter parameter"
   ]
  },
  {
   "cell_type": "markdown",
   "id": "1b2cef55-c223-4de6-894d-788c53f7e1b8",
   "metadata": {},
   "source": [
    "↓ 빈 모델 생성 → 학습 → 예측 순서로 진행한다."
   ]
  },
  {
   "cell_type": "code",
   "execution_count": 68,
   "id": "96c56bb3-0d1c-4a80-aed1-cfa1b1a5cc26",
   "metadata": {},
   "outputs": [],
   "source": [
    "import sklearn.ensemble\n",
    "from sklearn.ensemble import RandomForestRegressor\n",
    "\n",
    "my_model = RandomForestRegressor()"
   ]
  },
  {
   "cell_type": "code",
   "execution_count": null,
   "id": "f94aa019-bf32-429a-a769-1c89056f9c46",
   "metadata": {},
   "outputs": [],
   "source": [
    "my_model.fit(X_train, y_train)     # 너.....어......무 느리다... 안된다... 계속 [*] 상태다..."
   ]
  },
  {
   "attachments": {
    "c47cfb19-dca3-4315-b9e3-0d5f76719c86.png": {
     "image/png": "[encoded data removed]"
    }
   },
   "cell_type": "markdown",
   "id": "b83c7184-6c5d-485c-aa93-d13033e72828",
   "metadata": {},
   "source": [
    "![image.png](attachment:c47cfb19-dca3-4315-b9e3-0d5f76719c86.png) Hmmm..."
   ]
  },
  {
   "cell_type": "code",
   "execution_count": 72,
   "id": "1616f78a-baef-40f8-aba9-c25f8d78c7ba",
   "metadata": {},
   "outputs": [
    {
     "data": {
      "text/plain": [
       "RandomForestRegressor()"
      ]
     },
     "execution_count": 72,
     "metadata": {},
     "output_type": "execute_result"
    }
   ],
   "source": [
    "my_model.fit(X_train[:10000], y_train[:10000])  # 결국 학습을 멈추고 1/10 씩 쪼개서 다시 실행하였다..."
   ]
  },
  {
   "cell_type": "code",
   "execution_count": 73,
   "id": "c7fcbf79-806c-4fb2-a4fb-e00967c2d4ff",
   "metadata": {},
   "outputs": [
    {
     "data": {
      "text/plain": [
       "RandomForestRegressor()"
      ]
     },
     "execution_count": 73,
     "metadata": {},
     "output_type": "execute_result"
    }
   ],
   "source": [
    "my_model.fit(X_train[10001:20000], y_train[10001:20000])"
   ]
  },
  {
   "cell_type": "code",
   "execution_count": 74,
   "id": "1475ce1f-e20e-432e-82a8-cc053fd0c70e",
   "metadata": {},
   "outputs": [
    {
     "data": {
      "text/plain": [
       "RandomForestRegressor()"
      ]
     },
     "execution_count": 74,
     "metadata": {},
     "output_type": "execute_result"
    }
   ],
   "source": [
    "my_model.fit(X_train[20001:30000], y_train[20001:30000])"
   ]
  },
  {
   "cell_type": "code",
   "execution_count": 76,
   "id": "d967e2fe-ee0b-48a6-8da5-3b4877bafc04",
   "metadata": {},
   "outputs": [
    {
     "data": {
      "text/plain": [
       "RandomForestRegressor()"
      ]
     },
     "execution_count": 76,
     "metadata": {},
     "output_type": "execute_result"
    }
   ],
   "source": [
    "my_model.fit(X_train[40001:50000], y_train[40001:50000])"
   ]
  },
  {
   "cell_type": "code",
   "execution_count": 77,
   "id": "7bf0c114-2afe-4a30-ad9c-bf5f6669a13f",
   "metadata": {},
   "outputs": [
    {
     "data": {
      "text/plain": [
       "RandomForestRegressor()"
      ]
     },
     "execution_count": 77,
     "metadata": {},
     "output_type": "execute_result"
    }
   ],
   "source": [
    "my_model.fit(X_train[50001:60000], y_train[50001:60000])"
   ]
  },
  {
   "cell_type": "code",
   "execution_count": 78,
   "id": "6fe58518-8ac2-4386-918d-1ce82df24365",
   "metadata": {},
   "outputs": [
    {
     "data": {
      "text/plain": [
       "RandomForestRegressor()"
      ]
     },
     "execution_count": 78,
     "metadata": {},
     "output_type": "execute_result"
    }
   ],
   "source": [
    "my_model.fit(X_train[60001:70000], y_train[60001:70000])"
   ]
  },
  {
   "cell_type": "code",
   "execution_count": 79,
   "id": "84df5a24-60f6-42b7-be59-9751767f3d6d",
   "metadata": {},
   "outputs": [
    {
     "data": {
      "text/plain": [
       "RandomForestRegressor()"
      ]
     },
     "execution_count": 79,
     "metadata": {},
     "output_type": "execute_result"
    }
   ],
   "source": [
    "my_model.fit(X_train[70001:80000], y_train[70001:80000])"
   ]
  },
  {
   "cell_type": "code",
   "execution_count": null,
   "id": "feb8d5d6-9bb4-456b-83bc-8cc9e82f0f4e",
   "metadata": {},
   "outputs": [],
   "source": [
    "my_model.fit(X_train[80001:90000], y_train[80001:90000])      # 엥? 갑자기 웬 오류?"
   ]
  },
  {
   "cell_type": "code",
   "execution_count": null,
   "id": "03816219-91f4-4bf2-aa12-e27c7781dc4a",
   "metadata": {},
   "outputs": [],
   "source": [
    "my_model.fit(X_train[90001:100000], y_train[90001:100000])    # 에엥?"
   ]
  },
  {
   "cell_type": "code",
   "execution_count": 82,
   "id": "6c2b2224-54ef-4a18-a93d-8e2dfd6e37a9",
   "metadata": {
    "collapsed": true,
    "jupyter": {
     "outputs_hidden": true
    },
    "tags": []
   },
   "outputs": [
    {
     "ename": "ValueError",
     "evalue": "Expected 2D array, got 1D array instead:\narray=[].\nReshape your data either using array.reshape(-1, 1) if your data has a single feature or array.reshape(1, -1) if it contains a single sample.",
     "output_type": "error",
     "traceback": [
      "\u001b[1;31m---------------------------------------------------------------------------\u001b[0m",
      "\u001b[1;31mValueError\u001b[0m                                Traceback (most recent call last)",
      "\u001b[1;32m<ipython-input-82-ac913c49438c>\u001b[0m in \u001b[0;36m<module>\u001b[1;34m\u001b[0m\n\u001b[1;32m----> 1\u001b[1;33m \u001b[0mmy_model\u001b[0m\u001b[1;33m.\u001b[0m\u001b[0mfit\u001b[0m\u001b[1;33m(\u001b[0m\u001b[0mX_train\u001b[0m\u001b[1;33m[\u001b[0m\u001b[1;36m90001\u001b[0m\u001b[1;33m:\u001b[0m\u001b[1;36m100000\u001b[0m\u001b[1;33m]\u001b[0m\u001b[1;33m,\u001b[0m \u001b[0my_train\u001b[0m\u001b[1;33m[\u001b[0m\u001b[1;36m90001\u001b[0m\u001b[1;33m:\u001b[0m\u001b[1;36m100000\u001b[0m\u001b[1;33m]\u001b[0m\u001b[1;33m)\u001b[0m\u001b[1;33m\u001b[0m\u001b[1;33m\u001b[0m\u001b[0m\n\u001b[0m",
      "\u001b[1;32m~\\anaconda3\\lib\\site-packages\\sklearn\\ensemble\\_forest.py\u001b[0m in \u001b[0;36mfit\u001b[1;34m(self, X, y, sample_weight)\u001b[0m\n\u001b[0;32m    302\u001b[0m                 \u001b[1;34m\"sparse multilabel-indicator for y is not supported.\"\u001b[0m\u001b[1;33m\u001b[0m\u001b[1;33m\u001b[0m\u001b[0m\n\u001b[0;32m    303\u001b[0m             )\n\u001b[1;32m--> 304\u001b[1;33m         X, y = self._validate_data(X, y, multi_output=True,\n\u001b[0m\u001b[0;32m    305\u001b[0m                                    accept_sparse=\"csc\", dtype=DTYPE)\n\u001b[0;32m    306\u001b[0m         \u001b[1;32mif\u001b[0m \u001b[0msample_weight\u001b[0m \u001b[1;32mis\u001b[0m \u001b[1;32mnot\u001b[0m \u001b[1;32mNone\u001b[0m\u001b[1;33m:\u001b[0m\u001b[1;33m\u001b[0m\u001b[1;33m\u001b[0m\u001b[0m\n",
      "\u001b[1;32m~\\anaconda3\\lib\\site-packages\\sklearn\\base.py\u001b[0m in \u001b[0;36m_validate_data\u001b[1;34m(self, X, y, reset, validate_separately, **check_params)\u001b[0m\n\u001b[0;32m    431\u001b[0m                 \u001b[0my\u001b[0m \u001b[1;33m=\u001b[0m \u001b[0mcheck_array\u001b[0m\u001b[1;33m(\u001b[0m\u001b[0my\u001b[0m\u001b[1;33m,\u001b[0m \u001b[1;33m**\u001b[0m\u001b[0mcheck_y_params\u001b[0m\u001b[1;33m)\u001b[0m\u001b[1;33m\u001b[0m\u001b[1;33m\u001b[0m\u001b[0m\n\u001b[0;32m    432\u001b[0m             \u001b[1;32melse\u001b[0m\u001b[1;33m:\u001b[0m\u001b[1;33m\u001b[0m\u001b[1;33m\u001b[0m\u001b[0m\n\u001b[1;32m--> 433\u001b[1;33m                 \u001b[0mX\u001b[0m\u001b[1;33m,\u001b[0m \u001b[0my\u001b[0m \u001b[1;33m=\u001b[0m \u001b[0mcheck_X_y\u001b[0m\u001b[1;33m(\u001b[0m\u001b[0mX\u001b[0m\u001b[1;33m,\u001b[0m \u001b[0my\u001b[0m\u001b[1;33m,\u001b[0m \u001b[1;33m**\u001b[0m\u001b[0mcheck_params\u001b[0m\u001b[1;33m)\u001b[0m\u001b[1;33m\u001b[0m\u001b[1;33m\u001b[0m\u001b[0m\n\u001b[0m\u001b[0;32m    434\u001b[0m             \u001b[0mout\u001b[0m \u001b[1;33m=\u001b[0m \u001b[0mX\u001b[0m\u001b[1;33m,\u001b[0m \u001b[0my\u001b[0m\u001b[1;33m\u001b[0m\u001b[1;33m\u001b[0m\u001b[0m\n\u001b[0;32m    435\u001b[0m \u001b[1;33m\u001b[0m\u001b[0m\n",
      "\u001b[1;32m~\\anaconda3\\lib\\site-packages\\sklearn\\utils\\validation.py\u001b[0m in \u001b[0;36minner_f\u001b[1;34m(*args, **kwargs)\u001b[0m\n\u001b[0;32m     61\u001b[0m             \u001b[0mextra_args\u001b[0m \u001b[1;33m=\u001b[0m \u001b[0mlen\u001b[0m\u001b[1;33m(\u001b[0m\u001b[0margs\u001b[0m\u001b[1;33m)\u001b[0m \u001b[1;33m-\u001b[0m \u001b[0mlen\u001b[0m\u001b[1;33m(\u001b[0m\u001b[0mall_args\u001b[0m\u001b[1;33m)\u001b[0m\u001b[1;33m\u001b[0m\u001b[1;33m\u001b[0m\u001b[0m\n\u001b[0;32m     62\u001b[0m             \u001b[1;32mif\u001b[0m \u001b[0mextra_args\u001b[0m \u001b[1;33m<=\u001b[0m \u001b[1;36m0\u001b[0m\u001b[1;33m:\u001b[0m\u001b[1;33m\u001b[0m\u001b[1;33m\u001b[0m\u001b[0m\n\u001b[1;32m---> 63\u001b[1;33m                 \u001b[1;32mreturn\u001b[0m \u001b[0mf\u001b[0m\u001b[1;33m(\u001b[0m\u001b[1;33m*\u001b[0m\u001b[0margs\u001b[0m\u001b[1;33m,\u001b[0m \u001b[1;33m**\u001b[0m\u001b[0mkwargs\u001b[0m\u001b[1;33m)\u001b[0m\u001b[1;33m\u001b[0m\u001b[1;33m\u001b[0m\u001b[0m\n\u001b[0m\u001b[0;32m     64\u001b[0m \u001b[1;33m\u001b[0m\u001b[0m\n\u001b[0;32m     65\u001b[0m             \u001b[1;31m# extra_args > 0\u001b[0m\u001b[1;33m\u001b[0m\u001b[1;33m\u001b[0m\u001b[1;33m\u001b[0m\u001b[0m\n",
      "\u001b[1;32m~\\anaconda3\\lib\\site-packages\\sklearn\\utils\\validation.py\u001b[0m in \u001b[0;36mcheck_X_y\u001b[1;34m(X, y, accept_sparse, accept_large_sparse, dtype, order, copy, force_all_finite, ensure_2d, allow_nd, multi_output, ensure_min_samples, ensure_min_features, y_numeric, estimator)\u001b[0m\n\u001b[0;32m    812\u001b[0m         \u001b[1;32mraise\u001b[0m \u001b[0mValueError\u001b[0m\u001b[1;33m(\u001b[0m\u001b[1;34m\"y cannot be None\"\u001b[0m\u001b[1;33m)\u001b[0m\u001b[1;33m\u001b[0m\u001b[1;33m\u001b[0m\u001b[0m\n\u001b[0;32m    813\u001b[0m \u001b[1;33m\u001b[0m\u001b[0m\n\u001b[1;32m--> 814\u001b[1;33m     X = check_array(X, accept_sparse=accept_sparse,\n\u001b[0m\u001b[0;32m    815\u001b[0m                     \u001b[0maccept_large_sparse\u001b[0m\u001b[1;33m=\u001b[0m\u001b[0maccept_large_sparse\u001b[0m\u001b[1;33m,\u001b[0m\u001b[1;33m\u001b[0m\u001b[1;33m\u001b[0m\u001b[0m\n\u001b[0;32m    816\u001b[0m                     \u001b[0mdtype\u001b[0m\u001b[1;33m=\u001b[0m\u001b[0mdtype\u001b[0m\u001b[1;33m,\u001b[0m \u001b[0morder\u001b[0m\u001b[1;33m=\u001b[0m\u001b[0morder\u001b[0m\u001b[1;33m,\u001b[0m \u001b[0mcopy\u001b[0m\u001b[1;33m=\u001b[0m\u001b[0mcopy\u001b[0m\u001b[1;33m,\u001b[0m\u001b[1;33m\u001b[0m\u001b[1;33m\u001b[0m\u001b[0m\n",
      "\u001b[1;32m~\\anaconda3\\lib\\site-packages\\sklearn\\utils\\validation.py\u001b[0m in \u001b[0;36minner_f\u001b[1;34m(*args, **kwargs)\u001b[0m\n\u001b[0;32m     61\u001b[0m             \u001b[0mextra_args\u001b[0m \u001b[1;33m=\u001b[0m \u001b[0mlen\u001b[0m\u001b[1;33m(\u001b[0m\u001b[0margs\u001b[0m\u001b[1;33m)\u001b[0m \u001b[1;33m-\u001b[0m \u001b[0mlen\u001b[0m\u001b[1;33m(\u001b[0m\u001b[0mall_args\u001b[0m\u001b[1;33m)\u001b[0m\u001b[1;33m\u001b[0m\u001b[1;33m\u001b[0m\u001b[0m\n\u001b[0;32m     62\u001b[0m             \u001b[1;32mif\u001b[0m \u001b[0mextra_args\u001b[0m \u001b[1;33m<=\u001b[0m \u001b[1;36m0\u001b[0m\u001b[1;33m:\u001b[0m\u001b[1;33m\u001b[0m\u001b[1;33m\u001b[0m\u001b[0m\n\u001b[1;32m---> 63\u001b[1;33m                 \u001b[1;32mreturn\u001b[0m \u001b[0mf\u001b[0m\u001b[1;33m(\u001b[0m\u001b[1;33m*\u001b[0m\u001b[0margs\u001b[0m\u001b[1;33m,\u001b[0m \u001b[1;33m**\u001b[0m\u001b[0mkwargs\u001b[0m\u001b[1;33m)\u001b[0m\u001b[1;33m\u001b[0m\u001b[1;33m\u001b[0m\u001b[0m\n\u001b[0m\u001b[0;32m     64\u001b[0m \u001b[1;33m\u001b[0m\u001b[0m\n\u001b[0;32m     65\u001b[0m             \u001b[1;31m# extra_args > 0\u001b[0m\u001b[1;33m\u001b[0m\u001b[1;33m\u001b[0m\u001b[1;33m\u001b[0m\u001b[0m\n",
      "\u001b[1;32m~\\anaconda3\\lib\\site-packages\\sklearn\\utils\\validation.py\u001b[0m in \u001b[0;36mcheck_array\u001b[1;34m(array, accept_sparse, accept_large_sparse, dtype, order, copy, force_all_finite, ensure_2d, allow_nd, ensure_min_samples, ensure_min_features, estimator)\u001b[0m\n\u001b[0;32m    635\u001b[0m             \u001b[1;31m# If input is 1D raise error\u001b[0m\u001b[1;33m\u001b[0m\u001b[1;33m\u001b[0m\u001b[1;33m\u001b[0m\u001b[0m\n\u001b[0;32m    636\u001b[0m             \u001b[1;32mif\u001b[0m \u001b[0marray\u001b[0m\u001b[1;33m.\u001b[0m\u001b[0mndim\u001b[0m \u001b[1;33m==\u001b[0m \u001b[1;36m1\u001b[0m\u001b[1;33m:\u001b[0m\u001b[1;33m\u001b[0m\u001b[1;33m\u001b[0m\u001b[0m\n\u001b[1;32m--> 637\u001b[1;33m                 raise ValueError(\n\u001b[0m\u001b[0;32m    638\u001b[0m                     \u001b[1;34m\"Expected 2D array, got 1D array instead:\\narray={}.\\n\"\u001b[0m\u001b[1;33m\u001b[0m\u001b[1;33m\u001b[0m\u001b[0m\n\u001b[0;32m    639\u001b[0m                     \u001b[1;34m\"Reshape your data either using array.reshape(-1, 1) if \"\u001b[0m\u001b[1;33m\u001b[0m\u001b[1;33m\u001b[0m\u001b[0m\n",
      "\u001b[1;31mValueError\u001b[0m: Expected 2D array, got 1D array instead:\narray=[].\nReshape your data either using array.reshape(-1, 1) if your data has a single feature or array.reshape(1, -1) if it contains a single sample."
     ]
    }
   ],
   "source": [
    "my_model.fit(X_train[90001:100000], y_train[90001:100000])    # 에엥?"
   ]
  },
  {
   "cell_type": "code",
   "execution_count": 83,
   "id": "5ec9da7f-244b-4082-9d21-4c70f93ecd33",
   "metadata": {},
   "outputs": [],
   "source": [
    "y_pred = my_model.predict(X_test)"
   ]
  },
  {
   "cell_type": "markdown",
   "id": "2903ef5c-8e85-49b2-9ae1-02414ac5d2eb",
   "metadata": {},
   "source": [
    "###  <span style=\"color:orange\">Maching Learning 기본 순서 </span>\n",
    "1. 전체 dataset을 준비\n",
    "2. X , y 분리\n",
    "3. traing set , test set 분리\n",
    "---\n",
    "4. 빈 모델을 만듦   \n",
    "5. 빈 모델에 traing set을 넣어 모델을 학습시킴\n",
    "6. 학습된 모델에 test set을 넣어 예측시켜봄 \n",
    "---\n",
    "7. **잘 풀었나 채점해봄**\n",
    "8. 모델 튜닝 Hypter parameter"
   ]
  },
  {
   "cell_type": "markdown",
   "id": "725acb09-5594-460d-a607-6d0c8c7dd2e4",
   "metadata": {},
   "source": [
    "↓ RMSE 구하기 (MSE에 루트를 취함)"
   ]
  },
  {
   "cell_type": "code",
   "execution_count": 85,
   "id": "deccc249-37c3-448e-adae-df145f34fb73",
   "metadata": {},
   "outputs": [
    {
     "data": {
      "text/plain": [
       "0.605304453024637"
      ]
     },
     "execution_count": 85,
     "metadata": {},
     "output_type": "execute_result"
    }
   ],
   "source": [
    "from sklearn.metrics import mean_squared_error\n",
    "from math import sqrt\n",
    "rmse = sqrt(mean_squared_error(y_test, y_pred))\n",
    "rmse"
   ]
  },
  {
   "cell_type": "markdown",
   "id": "d693145b-62f9-4839-9595-25e31f900f1e",
   "metadata": {},
   "source": [
    "↑ RMSE가 꽤 크다. MMFF force field 최적화 함수를 적용했다면 어떤 값이 나왔을 지 궁금하다."
   ]
  },
  {
   "cell_type": "markdown",
   "id": "fd8b38f3-31d5-4999-99a4-82df1e2fb336",
   "metadata": {},
   "source": [
    "↓  그래프 그려보기"
   ]
  },
  {
   "cell_type": "code",
   "execution_count": 88,
   "id": "29f9e06a-064c-4da7-b383-8c0d6e82bdda",
   "metadata": {},
   "outputs": [
    {
     "data": {
      "text/plain": [
       "<matplotlib.legend.Legend at 0x215a33558e0>"
      ]
     },
     "execution_count": 88,
     "metadata": {},
     "output_type": "execute_result"
    },
    {
     "data": {
      "image/png": "[encoded data removed]",
      "text/plain": [
       "<Figure size 432x288 with 1 Axes>"
      ]
     },
     "metadata": {
      "needs_background": "light"
     },
     "output_type": "display_data"
    }
   ],
   "source": [
    "import matplotlib.pyplot as plt  \n",
    "%matplotlib inline\n",
    "\n",
    "plt.scatter(y_test, y_pred)\n",
    "plt.xlabel(\"Experimental HOMO LUMO gap\")\n",
    "plt.ylabel(\"Predicted HOMO LUMO gap\")\n",
    "plt.grid()\n",
    "plt.plot(range(0, 10), range(0, 10), \"r--\", label = \"y=x\")\n",
    "plt.legend()"
   ]
  },
  {
   "cell_type": "markdown",
   "id": "22e298a9-ceab-4730-97ae-0b466e2e74fe",
   "metadata": {},
   "source": [
    "###  <span style=\"color:orange\">Maching Learning 기본 순서 </span>\n",
    "1. 전체 dataset을 준비\n",
    "2. X , y 분리\n",
    "3. traing set , test set 분리\n",
    "---\n",
    "4. 빈 모델을 만듦   \n",
    "5. 빈 모델에 traing set을 넣어 모델을 학습시킴\n",
    "6. 학습된 모델에 test set을 넣어 예측시켜봄 \n",
    "---\n",
    "7. 잘 풀었나 채점해봄\n",
    "8. **모델 튜닝 Hypter parameter**"
   ]
  },
  {
   "cell_type": "markdown",
   "id": "06893d28-3b68-4600-beba-470ea77662a1",
   "metadata": {},
   "source": [
    "↓ trainig 한번 돌리는데도 엄청난 시간이 소요돼서 이 과정은 생략할 수 밖에 없었다... :("
   ]
  },
  {
   "cell_type": "code",
   "execution_count": null,
   "id": "963a1c80-ab56-4dd0-a83a-ea6bfaf575c0",
   "metadata": {},
   "outputs": [],
   "source": [
    "min_rmse = 1.0\n",
    "for est in [50,100,150,200,250,300]:      \n",
    "        for spl in [2,3,4]:\n",
    "            model = RandomForestRegressor(n_estimators = est ,min_samples_split = spl)\n",
    "            model.fit(X_train[:], y_train[:])       # 학습\n",
    "            y_pred = model.predict(X_test)    # 예측\n",
    "            rmse = sqrt(mean_squared_error(y_test, y_pred))   # RMSE                          \n",
    "            if rmse < min_rmse:          \n",
    "                min_rmse = rmse          #오차가 가장 작아지게 하는\n",
    "                n_estimators = est       # hyper parameter 찾기\n",
    "                min_samples_split = spl\n",
    "            \n",
    "        print(f\"n_estimators: {est}\\tmin_samples_split: {spl}\\trmse: {rmse}\")\n",
    "print(\"-----------------End of Calculation!-----------------\")\n",
    "print(f\"Optimal result! n_estimators: {n_estimators}\\tmin_samples_split: {min_samples_split}\\trmse: {min_rmse}\")"
   ]
  },
  {
   "cell_type": "markdown",
   "id": "67c566a0-7868-490c-8bd4-5acb91cd0b66",
   "metadata": {},
   "source": [
    "Machine Learning 끝!"
   ]
  },
  {
   "cell_type": "markdown",
   "id": "3a440148-ff3f-4606-8eee-f3aee37d2d43",
   "metadata": {},
   "source": [
    "### <span style=\"color:blue\">테스트용 SMILES 데이터로 HOMO-LUMO gap 값을 예측해보자!</span>   "
   ]
  },
  {
   "cell_type": "markdown",
   "id": "aaf38e8f-e4d4-4332-8352-9d63848d4027",
   "metadata": {},
   "source": [
    "↓ 주어진 테스트용 파일을 읽어서 mol type으로 바꾸고, 수소 붙이고, 3차원구조 생성하고"
   ]
  },
  {
   "cell_type": "code",
   "execution_count": 90,
   "id": "a92124c9-4e36-456a-9f4d-d3a121890ee1",
   "metadata": {},
   "outputs": [],
   "source": [
    "real_test = []\n",
    "for smi in open('SMILES_for_test.txt').readlines():   \n",
    "    m = Chem.MolFromSmiles(smi)\n",
    "    real_test.append(Chem.AddHs(m))"
   ]
  },
  {
   "cell_type": "code",
   "execution_count": 92,
   "id": "6068f7a6-a2c8-4283-bc3a-53ae7b3bc5ad",
   "metadata": {},
   "outputs": [],
   "source": [
    "for m in real_test:\n",
    "    AllChem.EmbedMolecule(m)"
   ]
  },
  {
   "cell_type": "markdown",
   "id": "dbce5432-c4fc-4ea5-98c1-d3cf8483ffcb",
   "metadata": {},
   "source": [
    "↓ Fingerprints를 BitVector로 얻고, 예측값 얻는다."
   ]
  },
  {
   "cell_type": "code",
   "execution_count": 96,
   "id": "c649a4c1-556d-4a4d-90fa-469417e3c17c",
   "metadata": {},
   "outputs": [],
   "source": [
    "real_test_bit=[]\n",
    "for m in real_test:\n",
    "    m_bit = GetMorganFingerprintAsBitVect(m,2,nBits=2048)\n",
    "    real_test_bit.append(m_bit)\n",
    "    \n",
    "real_pred = my_model.predict(real_test_bit)"
   ]
  },
  {
   "cell_type": "markdown",
   "id": "e32a08d2-5099-4a5e-b5f4-db70df82ad26",
   "metadata": {},
   "source": [
    "- 전체 예측값 dataframe"
   ]
  },
  {
   "cell_type": "code",
   "execution_count": 101,
   "id": "00a7b20b-9d2d-4cfe-a6c4-f12e27744de6",
   "metadata": {},
   "outputs": [
    {
     "data": {
      "text/html": [
       "<div>\n",
       "<style scoped>\n",
       "    .dataframe tbody tr th:only-of-type {\n",
       "        vertical-align: middle;\n",
       "    }\n",
       "\n",
       "    .dataframe tbody tr th {\n",
       "        vertical-align: top;\n",
       "    }\n",
       "\n",
       "    .dataframe thead th {\n",
       "        text-align: right;\n",
       "    }\n",
       "</style>\n",
       "<table border=\"1\" class=\"dataframe\">\n",
       "  <thead>\n",
       "    <tr style=\"text-align: right;\">\n",
       "      <th></th>\n",
       "      <th>SMILES</th>\n",
       "      <th>H_L gap 예측값(eV)</th>\n",
       "    </tr>\n",
       "  </thead>\n",
       "  <tbody>\n",
       "    <tr>\n",
       "      <th>0</th>\n",
       "      <td>[H]OC1(S(=O)(=O)O[H])C(=O)C([H])([H])C([H])([H...</td>\n",
       "      <td>4.13547</td>\n",
       "    </tr>\n",
       "    <tr>\n",
       "      <th>1</th>\n",
       "      <td>[H]C([H])([H])C(=O)C([H])([H])C([H])([H])C([H]...</td>\n",
       "      <td>4.76590</td>\n",
       "    </tr>\n",
       "    <tr>\n",
       "      <th>2</th>\n",
       "      <td>[H]OS(=O)N([H])C([H])([H])C([H])([H])C1([H])N(...</td>\n",
       "      <td>5.04144</td>\n",
       "    </tr>\n",
       "    <tr>\n",
       "      <th>3</th>\n",
       "      <td>[H]c1c([H])c([H])c(C([H])([H])C([H])([H])[H])c...</td>\n",
       "      <td>4.99609</td>\n",
       "    </tr>\n",
       "    <tr>\n",
       "      <th>4</th>\n",
       "      <td>[H]OC([H])([H])c1c(C2([H])C([H])([H])C2([H])[H...</td>\n",
       "      <td>5.41609</td>\n",
       "    </tr>\n",
       "    <tr>\n",
       "      <th>...</th>\n",
       "      <td>...</td>\n",
       "      <td>...</td>\n",
       "    </tr>\n",
       "    <tr>\n",
       "      <th>9995</th>\n",
       "      <td>[H]c1c([H])c([H])c2c(c1[H])C([H])([H])C1([H])N...</td>\n",
       "      <td>4.82532</td>\n",
       "    </tr>\n",
       "    <tr>\n",
       "      <th>9996</th>\n",
       "      <td>[H]N=c1c2c([H])c([H])c([H])c([H])c2nc([H])n1-c...</td>\n",
       "      <td>3.84534</td>\n",
       "    </tr>\n",
       "    <tr>\n",
       "      <th>9997</th>\n",
       "      <td>[H]c1nc(C(=O)OC(C([H])([H])[H])(C([H])([H])[H]...</td>\n",
       "      <td>4.21902</td>\n",
       "    </tr>\n",
       "    <tr>\n",
       "      <th>9998</th>\n",
       "      <td>[H]c1nc(N(C([H])([H])C([H])([H])C([H])([H])C([...</td>\n",
       "      <td>3.93678</td>\n",
       "    </tr>\n",
       "    <tr>\n",
       "      <th>9999</th>\n",
       "      <td>[H]C(=O)c1nn(-c2c([H])c([H])c([H])c([H])c2C([H...</td>\n",
       "      <td>3.97561</td>\n",
       "    </tr>\n",
       "  </tbody>\n",
       "</table>\n",
       "<p>10000 rows × 2 columns</p>\n",
       "</div>"
      ],
      "text/plain": [
       "                                                 SMILES  H_L gap 예측값(eV)\n",
       "0     [H]OC1(S(=O)(=O)O[H])C(=O)C([H])([H])C([H])([H...          4.13547\n",
       "1     [H]C([H])([H])C(=O)C([H])([H])C([H])([H])C([H]...          4.76590\n",
       "2     [H]OS(=O)N([H])C([H])([H])C([H])([H])C1([H])N(...          5.04144\n",
       "3     [H]c1c([H])c([H])c(C([H])([H])C([H])([H])[H])c...          4.99609\n",
       "4     [H]OC([H])([H])c1c(C2([H])C([H])([H])C2([H])[H...          5.41609\n",
       "...                                                 ...              ...\n",
       "9995  [H]c1c([H])c([H])c2c(c1[H])C([H])([H])C1([H])N...          4.82532\n",
       "9996  [H]N=c1c2c([H])c([H])c([H])c([H])c2nc([H])n1-c...          3.84534\n",
       "9997  [H]c1nc(C(=O)OC(C([H])([H])[H])(C([H])([H])[H]...          4.21902\n",
       "9998  [H]c1nc(N(C([H])([H])C([H])([H])C([H])([H])C([...          3.93678\n",
       "9999  [H]C(=O)c1nn(-c2c([H])c([H])c([H])c([H])c2C([H...          3.97561\n",
       "\n",
       "[10000 rows x 2 columns]"
      ]
     },
     "execution_count": 101,
     "metadata": {},
     "output_type": "execute_result"
    }
   ],
   "source": [
    "real_test_smi = []\n",
    "for i in real_test:\n",
    "    m = Chem.MolToSmiles(i)\n",
    "    real_test_smi.append(m)\n",
    "\n",
    "result = {\"SMILES\": real_test_smi ,\"H_L gap 예측값(eV)\": real_pred }\n",
    "dataframe = pd.DataFrame(result)\n",
    "dataframe"
   ]
  },
  {
   "cell_type": "markdown",
   "id": "f15a7b35-c95f-4646-b272-35a23f3f8cb5",
   "metadata": {},
   "source": [
    "- 예측값을 반환하는 함수 "
   ]
  },
  {
   "cell_type": "code",
   "execution_count": null,
   "id": "a2e3e389-da5e-407d-a507-dc1a512f59a6",
   "metadata": {},
   "outputs": [],
   "source": [
    "def convert():\n",
    "    user = input(\"몇 번째 분자의 HOMO-LUMO gap 예측값이 궁금한가요? :\")\n",
    "    x = int(user)\n",
    "    y= real_pred[x-1]\n",
    "    s= real_test_smi[x-1]\n",
    "\n",
    "    return print(f\"{x} 번째 분자의 HOMO-LUMO gap 예측값은? : {y}eV 입니다! :D \\n SMILES:{s}\")\n",
    "convert()"
   ]
  },
  {
   "cell_type": "markdown",
   "id": "3095f621-dbf6-4afc-b49f-12ccbef58c91",
   "metadata": {},
   "source": [
    "### <span style=\"color:blue\">이번엔 Oscillator strength 값을 예측해보자 !</span>"
   ]
  },
  {
   "cell_type": "code",
   "execution_count": 116,
   "id": "f471543b-3520-48b7-843a-78b13af870f1",
   "metadata": {},
   "outputs": [],
   "source": [
    "X2 = fp_bit\n",
    "y2 = os"
   ]
  },
  {
   "cell_type": "markdown",
   "id": "bbe588a2-7dca-4114-8477-d821c46f5b58",
   "metadata": {},
   "source": [
    " **여기서부터 파이썬이 멈춰버렸다..**  \n",
    "↓ 데이터셋 나누고, 빈 모델 생성하고, 학습, 예측 !"
   ]
  },
  {
   "cell_type": "code",
   "execution_count": null,
   "id": "cbca93d3-550a-424c-b3f3-acf2b52f4abe",
   "metadata": {},
   "outputs": [],
   "source": [
    "X2_train, X2_test, y2_train, y2_test = sklearn.model_selection.train_test_split(X2, y2, test_size=0.2, random_state=722)"
   ]
  },
  {
   "cell_type": "code",
   "execution_count": null,
   "id": "4f6cf06a-6901-4514-b9d1-1c4bb80fb8fe",
   "metadata": {},
   "outputs": [],
   "source": [
    "my_model2 = RandomForestRegressor()\n",
    "my_model2.fit(X2_train, y2_train)"
   ]
  },
  {
   "cell_type": "code",
   "execution_count": null,
   "id": "997f2a2e-e533-4bc0-852e-ac6018615951",
   "metadata": {},
   "outputs": [],
   "source": [
    "y2_pred = my_model2.predict(X2_test)"
   ]
  },
  {
   "cell_type": "markdown",
   "id": "634a33c3-355b-44cd-9621-73baee1c749d",
   "metadata": {},
   "source": [
    "↓ RMSE 값 구하기"
   ]
  },
  {
   "cell_type": "code",
   "execution_count": null,
   "id": "b4f73093-1c68-4943-bff2-d496c47406c0",
   "metadata": {},
   "outputs": [],
   "source": [
    "rmse2 = sqrt(mean_squared_error(y2_test, y2_pred))\n",
    "rmse2"
   ]
  },
  {
   "cell_type": "markdown",
   "id": "16f17a61-3d8d-43a1-a988-66a7eaf9fb44",
   "metadata": {},
   "source": [
    "↓ 그래프 그리기~"
   ]
  },
  {
   "cell_type": "code",
   "execution_count": null,
   "id": "0d172750-417a-4641-9eac-937bde36a06b",
   "metadata": {},
   "outputs": [],
   "source": [
    "plt.scatter(y2_test, y2_pred)\n",
    "plt.xlabel(\"Experimental Oscillator strength\")\n",
    "plt.ylabel(\"Predicted Oscillator strength\")\n",
    "plt.grid()\n",
    "plt.plot(range(0, 1), range(0, 1), \"r--\", label = \"y=x\")\n",
    "plt.legend()"
   ]
  },
  {
   "cell_type": "markdown",
   "id": "2c05825d-2fc0-4c78-8aba-52c851b886f4",
   "metadata": {},
   "source": [
    "↓ 주어진 테스트용 데이터('SMILES_for_test.txt)의 scillator strength 값을 예측시켰다."
   ]
  },
  {
   "cell_type": "code",
   "execution_count": null,
   "id": "9d154ba9-2ec2-4f96-ae1c-8e5c5573cea0",
   "metadata": {},
   "outputs": [],
   "source": [
    "real_pred2 = my_model2.predict(real_test)"
   ]
  },
  {
   "cell_type": "markdown",
   "id": "2f94f198-6437-47fb-8523-d0998ef4edb4",
   "metadata": {},
   "source": [
    "- 전체 예측값 dataframe"
   ]
  },
  {
   "cell_type": "code",
   "execution_count": null,
   "id": "75045888-a338-4b8d-a71b-f9193fe3e4c5",
   "metadata": {},
   "outputs": [],
   "source": [
    "result2 = {\"SMILES\": real_test_smi ,\"Oscillator strength 예측값\": real_pred2 }\n",
    "dataframe2 = pd.DataFrame(result)"
   ]
  },
  {
   "cell_type": "markdown",
   "id": "26ed8e67-9166-4fbd-9d58-27136fd0e750",
   "metadata": {},
   "source": [
    "- 예측값을 반환하는 함수"
   ]
  },
  {
   "cell_type": "code",
   "execution_count": null,
   "id": "fb86afe4-3ef6-4520-82cd-0a272e96d254",
   "metadata": {},
   "outputs": [],
   "source": [
    "def convert2():\n",
    "    user = input(\"몇 번째 분자의 Oscillator strength 예측값이 궁금한가요?:\")\n",
    "    x = int(user)\n",
    "    y= real_pred2[x-1]\n",
    "    s= real_test_smi[x-1]\n",
    "\n",
    "    return print(f\"{x} 번째 분자의 Oscillator strength 예측값은?: {y} 입니다 :D \\n SMILES:{s}\")\n",
    "convert2()"
   ]
  },
  {
   "cell_type": "code",
   "execution_count": null,
   "id": "6157fd1d-95cb-4645-bf34-06fde7989b0b",
   "metadata": {},
   "outputs": [],
   "source": []
  }
 ],
 "metadata": {
  "kernelspec": {
   "display_name": "Python 3 (ipykernel)",
   "language": "python",
   "name": "python3"
  },
  "language_info": {
   "codemirror_mode": {
    "name": "ipython",
    "version": 3
   },
   "file_extension": ".py",
   "mimetype": "text/x-python",
   "name": "python",
   "nbconvert_exporter": "python",
   "pygments_lexer": "ipython3",
   "version": "3.10.13"
  }
 },
 "nbformat": 4,
 "nbformat_minor": 5
}
