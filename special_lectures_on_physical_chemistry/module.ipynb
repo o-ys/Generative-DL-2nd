{
 "cells": [
  {
   "cell_type": "markdown",
   "id": "5d38ec02-d29e-49cf-b931-6a4e39a86419",
   "metadata": {},
   "source": [
    "Ye-seul Oh"
   ]
  },
  {
   "cell_type": "code",
   "execution_count": 2,
   "id": "200d4eb8-2ce3-4f06-9054-aebe84a9327c",
   "metadata": {},
   "outputs": [],
   "source": [
    "#파일을 다시 실행 시켰을 때 모듈이 import되지 않은 상태로 돌아가서 Run 되지 않는 경우 발생.\n",
    "#한번에 모듈 불러올 수 있도록 정리.\n",
    "\n",
    "#화학물질의 정보를 담고 있는 데이터로 물질을 다룰 수 있는 툴_______________________________________________\n",
    "import rdkit  \n",
    "from rdkit import Chem  \n",
    "\n",
    "from rdkit.Chem import Draw\n",
    "\n",
    "from rdkit.Chem import AllChem\n",
    "\n",
    "from rdkit.Chem import rdMolDescriptors\n",
    "from rdkit.Chem.rdMolDescriptors import *   # molecule의 물성(property)을 계산하는 함수들이 있음.\n",
    "        # rdmoldescriptors 안의 모든 함수를 import.\n",
    "        # a = m.rdMolDescriptors.CalcNumLipinskiHBA() -> a = CalcNumLipinskiHBA(m)\n",
    "\n",
    "#matplotlib:그래프 모듈__________________________________________________________________________\n",
    "import matplotlib as mpl\n",
    "\n",
    "import matplotlib.pyplot as plt   #예)plt.hist(,,) # matplotlib는 줄여서 plt로 불러옴. \n",
    "%matplotlib inline     \n",
    "             # (magic command) 그래프 실시간으로 보여줌.\n",
    "#일종의 행렬 및 계산 패키지__________________________________________________________________________\n",
    "import numpy as np     #np.~() # 일반적으로 numpy는 np라고 줄여서 불러온다.\n",
    "\n",
    "#______________________________________________________________________________________________\n",
    "import math\n",
    "from math import * \n",
    "\n",
    "#Scikit-learn:머신 러닝 라이브러리중 하나_____________________________________________________________\n",
    "import sklearn\n",
    "from sklearn import datasets\n",
    "from sklearn.datasets import fetch_openml  #fetch(불러오다) 인터넷에서 자동으로 데이터셋을 다운받는 함수. \n",
    "\n",
    "import sklearn.model_selection       #왜 이렇게만 쓸까\n",
    "from sklearn.model_selection import train_test_split     \n",
    "\n",
    "from sklearn import tree\n",
    "from sklearn.tree import DecisionTreeClassifier    \n",
    "\n",
    "from sklearn import ensemble         \n",
    "from sklearn.ensemble import RandomForestClassifier   #분류 클래스  \n",
    "from sklearn.ensemble import RandomForestRegressor    #회귀 클래스 (숫자하나 도출)\n",
    "\n",
    "from sklearn import svm         #mymodel=svm.SVC()\n",
    "from sklearn.svm import SVC     #SVC: Support Vector Classifier 분류 클래스\n",
    "\n",
    "import sklearn.metrics import *   #metrics(지표)모듈:예측의 quality를 정량화 #예측이 얼마나 잘됐는지 나타내는 지표   \n",
    "from sklearn.metrics import confusion_matrix\n",
    "from sklearn.metrics import precision_score, recall_score ,f1_score   #채점 함수\n",
    "from sklearn.metrics import mean_squared_error\n",
    "\n",
    "from sklearn import preprocessing \n",
    "\n",
    "#pands:일종의 엑셀 모듈_____________________________________________________________________________\n",
    "import pandas as pd            #pd.~() #일반적으로 pandas는 pd라고 줄여서 불러온다. \n",
    "\n",
    "from pandas.plotting import scatter_matrix     #scatter_matrix(df~,figsize=(,) )\n",
    "\n",
    "\n",
    "\n"
   ]
  },
  {
   "cell_type": "code",
   "execution_count": null,
   "id": "7a5af09d-97f8-4bc7-b5a6-3efb99ef6b64",
   "metadata": {
    "tags": []
   },
   "outputs": [],
   "source": [
    "molecules = []\n",
    "for smi in open('drugs.smi').readlines():     \n",
    "    m = Chem.MolFromSmiles(smi)\n",
    "    if m:\n",
    "        molecules.append(m)"
   ]
  },
  {
   "cell_type": "code",
   "execution_count": null,
   "id": "d4e2cb29-1a0f-41fb-95f4-2b6625563b65",
   "metadata": {
    "tags": []
   },
   "outputs": [],
   "source": [
    "supplier = Chem.SDMolSupplier('drugs.sdf')\n",
    "\n",
    "for m in supplier:     \n",
    "\n",
    "supplier[0]  "
   ]
  }
 ],
 "metadata": {
  "kernelspec": {
   "display_name": "Python 3 (ipykernel)",
   "language": "python",
   "name": "python3"
  },
  "language_info": {
   "codemirror_mode": {
    "name": "ipython",
    "version": 3
   },
   "file_extension": ".py",
   "mimetype": "text/x-python",
   "name": "python",
   "nbconvert_exporter": "python",
   "pygments_lexer": "ipython3",
   "version": "3.10.9"
  }
 },
 "nbformat": 4,
 "nbformat_minor": 5
}
