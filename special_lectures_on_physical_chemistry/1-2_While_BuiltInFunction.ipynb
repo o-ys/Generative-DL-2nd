{
 "cells": [
  {
   "cell_type": "markdown",
   "id": "2894ce42-12fb-413e-b4c2-28e79a05cecd",
   "metadata": {},
   "source": [
    "Ye-seul Oh"
   ]
  },
  {
   "cell_type": "markdown",
   "id": "4ee4685f-4640-4084-a27c-d71f76ef048e",
   "metadata": {},
   "source": [
    "# 01 while문"
   ]
  },
  {
   "cell_type": "code",
   "execution_count": 2,
   "id": "00b8b775-3110-4d89-b547-a10efee07421",
   "metadata": {},
   "outputs": [
    {
     "data": {
      "text/plain": [
       "{'e', 'h', 'l', 'o'}"
      ]
     },
     "execution_count": 2,
     "metadata": {},
     "output_type": "execute_result"
    }
   ],
   "source": [
    "set(\"hello\")"
   ]
  },
  {
   "cell_type": "code",
   "execution_count": 4,
   "id": "5bf1beef-57ca-4495-b8c4-886163c12300",
   "metadata": {},
   "outputs": [
    {
     "data": {
      "text/plain": [
       "{'1', '2', '3'}"
      ]
     },
     "execution_count": 4,
     "metadata": {},
     "output_type": "execute_result"
    }
   ],
   "source": [
    "set(\"11111122223333\")"
   ]
  },
  {
   "cell_type": "code",
   "execution_count": 6,
   "id": "5b0078be-46bf-454c-ad4a-0d4dd619d6c6",
   "metadata": {},
   "outputs": [],
   "source": [
    " s1 = set([1, 2, 3, 4, 5, 6])\n",
    " s2 = set([4, 5, 6, 7, 8, 9])"
   ]
  },
  {
   "cell_type": "code",
   "execution_count": 7,
   "id": "83cd380a-a7a3-4319-8e20-6c04dbc074de",
   "metadata": {},
   "outputs": [
    {
     "data": {
      "text/plain": [
       "{4, 5, 6}"
      ]
     },
     "execution_count": 7,
     "metadata": {},
     "output_type": "execute_result"
    }
   ],
   "source": [
    "s1&s2"
   ]
  },
  {
   "cell_type": "code",
   "execution_count": 8,
   "id": "14e4b0bb-458f-48d0-8c85-b2e8e6dd6b26",
   "metadata": {},
   "outputs": [
    {
     "data": {
      "text/plain": [
       "6"
      ]
     },
     "execution_count": 8,
     "metadata": {},
     "output_type": "execute_result"
    }
   ],
   "source": [
    "len(s1)"
   ]
  },
  {
   "cell_type": "code",
   "execution_count": 9,
   "id": "16175c96-bc77-441e-b43d-50d407b82566",
   "metadata": {},
   "outputs": [
    {
     "data": {
      "text/plain": [
       "{1, 2, 3, 4, 5, 6, 7, 8, 9}"
      ]
     },
     "execution_count": 9,
     "metadata": {},
     "output_type": "execute_result"
    }
   ],
   "source": [
    "s1|s2"
   ]
  },
  {
   "cell_type": "code",
   "execution_count": 10,
   "id": "8e4daf6f-83fc-436c-b5fb-3feecbbdc1e0",
   "metadata": {},
   "outputs": [],
   "source": [
    "s1.add(7)"
   ]
  },
  {
   "cell_type": "code",
   "execution_count": 11,
   "id": "73611f4e-d050-4266-a152-1c8ae558af48",
   "metadata": {},
   "outputs": [
    {
     "name": "stdout",
     "output_type": "stream",
     "text": [
      "{1, 2, 3, 4, 5, 6, 7}\n"
     ]
    }
   ],
   "source": [
    "print(s1)"
   ]
  },
  {
   "cell_type": "code",
   "execution_count": 12,
   "id": "0fb7701a-ec81-4199-b057-fcb42488585b",
   "metadata": {},
   "outputs": [],
   "source": [
    "s1.add(\"yes\")"
   ]
  },
  {
   "cell_type": "code",
   "execution_count": 13,
   "id": "0035f671-4af7-43ec-9c25-260f7da10bf8",
   "metadata": {},
   "outputs": [
    {
     "name": "stdout",
     "output_type": "stream",
     "text": [
      "{1, 2, 3, 4, 5, 6, 7, 'yes'}\n"
     ]
    }
   ],
   "source": [
    "print(s1)"
   ]
  },
  {
   "cell_type": "code",
   "execution_count": 14,
   "id": "e7c2098e-3fd0-488c-b22f-d30abd23d2b9",
   "metadata": {},
   "outputs": [],
   "source": [
    "s1.update([\"or\",\"no\"])"
   ]
  },
  {
   "cell_type": "code",
   "execution_count": 15,
   "id": "c2a0e597-5f54-45c4-9cf1-d0758e8b6909",
   "metadata": {},
   "outputs": [
    {
     "name": "stdout",
     "output_type": "stream",
     "text": [
      "{1, 2, 3, 4, 5, 6, 7, 'or', 'yes', 'no'}\n"
     ]
    }
   ],
   "source": [
    "print(s1)"
   ]
  },
  {
   "cell_type": "code",
   "execution_count": 16,
   "id": "dabd33e1-d361-4d41-90ce-9bb263a5d00d",
   "metadata": {},
   "outputs": [
    {
     "ename": "TypeError",
     "evalue": "unhashable type: 'list'",
     "output_type": "error",
     "traceback": [
      "\u001b[1;31m---------------------------------------------------------------------------\u001b[0m",
      "\u001b[1;31mTypeError\u001b[0m                                 Traceback (most recent call last)",
      "\u001b[1;32m<ipython-input-16-804c6d87dd55>\u001b[0m in \u001b[0;36m<module>\u001b[1;34m\u001b[0m\n\u001b[1;32m----> 1\u001b[1;33m \u001b[0ms1\u001b[0m\u001b[1;33m.\u001b[0m\u001b[0mremove\u001b[0m\u001b[1;33m(\u001b[0m\u001b[1;33m[\u001b[0m\u001b[1;34m\"or\"\u001b[0m\u001b[1;33m,\u001b[0m\u001b[1;34m\"no\"\u001b[0m\u001b[1;33m]\u001b[0m\u001b[1;33m)\u001b[0m\u001b[1;33m\u001b[0m\u001b[1;33m\u001b[0m\u001b[0m\n\u001b[0m",
      "\u001b[1;31mTypeError\u001b[0m: unhashable type: 'list'"
     ]
    }
   ],
   "source": [
    "s1.remove([\"or\",\"no\"])"
   ]
  },
  {
   "cell_type": "code",
   "execution_count": 17,
   "id": "fb9e980b-e349-4309-837c-d17f7bb338f1",
   "metadata": {},
   "outputs": [],
   "source": [
    "s1.remove(\"or\")"
   ]
  },
  {
   "cell_type": "code",
   "execution_count": 18,
   "id": "1c9425e5-c667-4658-a103-53f3175ff2f3",
   "metadata": {},
   "outputs": [
    {
     "ename": "NameError",
     "evalue": "name 'sz' is not defined",
     "output_type": "error",
     "traceback": [
      "\u001b[1;31m---------------------------------------------------------------------------\u001b[0m",
      "\u001b[1;31mNameError\u001b[0m                                 Traceback (most recent call last)",
      "\u001b[1;32m<ipython-input-18-716f3d50e636>\u001b[0m in \u001b[0;36m<module>\u001b[1;34m\u001b[0m\n\u001b[1;32m----> 1\u001b[1;33m \u001b[0msz\u001b[0m\u001b[1;33m.\u001b[0m\u001b[0mromove\u001b[0m\u001b[1;33m(\u001b[0m\u001b[1;33m[\u001b[0m\u001b[1;36m1\u001b[0m\u001b[1;33m,\u001b[0m\u001b[1;36m2\u001b[0m\u001b[1;33m,\u001b[0m\u001b[1;36m3\u001b[0m\u001b[1;33m]\u001b[0m\u001b[1;33m)\u001b[0m\u001b[1;33m\u001b[0m\u001b[1;33m\u001b[0m\u001b[0m\n\u001b[0m",
      "\u001b[1;31mNameError\u001b[0m: name 'sz' is not defined"
     ]
    }
   ],
   "source": [
    "sz.romove([1,2,3])"
   ]
  },
  {
   "cell_type": "code",
   "execution_count": 19,
   "id": "4be4028a-11de-49a5-aa1d-9549a6116225",
   "metadata": {},
   "outputs": [
    {
     "ename": "NameError",
     "evalue": "name 'true' is not defined",
     "output_type": "error",
     "traceback": [
      "\u001b[1;31m---------------------------------------------------------------------------\u001b[0m",
      "\u001b[1;31mNameError\u001b[0m                                 Traceback (most recent call last)",
      "\u001b[1;32m<ipython-input-19-53ceaa3c7884>\u001b[0m in \u001b[0;36m<module>\u001b[1;34m\u001b[0m\n\u001b[1;32m----> 1\u001b[1;33m \u001b[0ma\u001b[0m\u001b[1;33m=\u001b[0m\u001b[0mtrue\u001b[0m\u001b[1;33m\u001b[0m\u001b[1;33m\u001b[0m\u001b[0m\n\u001b[0m\u001b[0;32m      2\u001b[0m \u001b[0mb\u001b[0m\u001b[1;33m=\u001b[0m\u001b[0mfalse\u001b[0m\u001b[1;33m\u001b[0m\u001b[1;33m\u001b[0m\u001b[0m\n",
      "\u001b[1;31mNameError\u001b[0m: name 'true' is not defined"
     ]
    }
   ],
   "source": [
    "a=true\n",
    "b=false\n"
   ]
  },
  {
   "cell_type": "code",
   "execution_count": 20,
   "id": "af139c05-9ef9-473b-a778-2c9b9ca6594f",
   "metadata": {},
   "outputs": [],
   "source": [
    "a = True\n",
    "b = False"
   ]
  },
  {
   "cell_type": "code",
   "execution_count": 21,
   "id": "91e854f7-9eef-47ec-92ff-237898dc84e1",
   "metadata": {},
   "outputs": [
    {
     "data": {
      "text/plain": [
       "True"
      ]
     },
     "execution_count": 21,
     "metadata": {},
     "output_type": "execute_result"
    }
   ],
   "source": [
    "a == a"
   ]
  },
  {
   "cell_type": "code",
   "execution_count": 22,
   "id": "19bc83fe-168d-4a2b-9be6-4a2fb76c78c6",
   "metadata": {},
   "outputs": [
    {
     "data": {
      "text/plain": [
       "True"
      ]
     },
     "execution_count": 22,
     "metadata": {},
     "output_type": "execute_result"
    }
   ],
   "source": [
    "a != b"
   ]
  },
  {
   "cell_type": "code",
   "execution_count": 23,
   "id": "1ee09dbb-799c-4de4-a41b-6586c5bc2890",
   "metadata": {},
   "outputs": [],
   "source": [
    "a=[1,2,3,4]\n",
    "b=[4,5,6,7]"
   ]
  },
  {
   "cell_type": "code",
   "execution_count": 24,
   "id": "9559718f-0295-4a40-8330-c1e04af8bc12",
   "metadata": {},
   "outputs": [
    {
     "name": "stdout",
     "output_type": "stream",
     "text": [
      "[1, 2, 3, 4, 4, 5, 6, 7]\n"
     ]
    }
   ],
   "source": [
    "print(a+b)"
   ]
  },
  {
   "cell_type": "code",
   "execution_count": 25,
   "id": "6f9e503e-9be7-44e2-bdf5-ce7efb4b96fe",
   "metadata": {},
   "outputs": [
    {
     "name": "stdout",
     "output_type": "stream",
     "text": [
      "[4, 5, 6, 7, 1, 2, 3, 4]\n"
     ]
    }
   ],
   "source": [
    "print(b+a)"
   ]
  },
  {
   "cell_type": "code",
   "execution_count": 26,
   "id": "33bc16db-428a-4cf5-8d12-28bc36cf4768",
   "metadata": {},
   "outputs": [
    {
     "data": {
      "text/plain": [
       "4"
      ]
     },
     "execution_count": 26,
     "metadata": {},
     "output_type": "execute_result"
    }
   ],
   "source": [
    "len(a)"
   ]
  },
  {
   "cell_type": "code",
   "execution_count": 27,
   "id": "ad74a991-f014-4457-a524-fcc5523377c1",
   "metadata": {},
   "outputs": [
    {
     "data": {
      "text/plain": [
       "list"
      ]
     },
     "execution_count": 27,
     "metadata": {},
     "output_type": "execute_result"
    }
   ],
   "source": [
    "type(a)"
   ]
  },
  {
   "cell_type": "code",
   "execution_count": 28,
   "id": "1df6aa54-ee8a-47d1-8fe3-56fccc79aa83",
   "metadata": {},
   "outputs": [
    {
     "data": {
      "text/plain": [
       "set"
      ]
     },
     "execution_count": 28,
     "metadata": {},
     "output_type": "execute_result"
    }
   ],
   "source": [
    "type(s1)"
   ]
  },
  {
   "cell_type": "code",
   "execution_count": 29,
   "id": "e94eb5d8-faab-41c4-87e9-a6df46e3bc28",
   "metadata": {},
   "outputs": [
    {
     "data": {
      "text/plain": [
       "'[1, 2, 3, 4]'"
      ]
     },
     "execution_count": 29,
     "metadata": {},
     "output_type": "execute_result"
    }
   ],
   "source": [
    "str(a)"
   ]
  },
  {
   "cell_type": "code",
   "execution_count": 30,
   "id": "b46dcb29-57f3-4f35-a82c-9b58e9aeff81",
   "metadata": {},
   "outputs": [
    {
     "ename": "TypeError",
     "evalue": "can only concatenate list (not \"str\") to list",
     "output_type": "error",
     "traceback": [
      "\u001b[1;31m---------------------------------------------------------------------------\u001b[0m",
      "\u001b[1;31mTypeError\u001b[0m                                 Traceback (most recent call last)",
      "\u001b[1;32m<ipython-input-30-659cc1374cdd>\u001b[0m in \u001b[0;36m<module>\u001b[1;34m\u001b[0m\n\u001b[1;32m----> 1\u001b[1;33m \u001b[0ma\u001b[0m\u001b[1;33m+\u001b[0m\u001b[1;34m'hi'\u001b[0m\u001b[1;33m\u001b[0m\u001b[1;33m\u001b[0m\u001b[0m\n\u001b[0m",
      "\u001b[1;31mTypeError\u001b[0m: can only concatenate list (not \"str\") to list"
     ]
    }
   ],
   "source": [
    "a+'hi'"
   ]
  },
  {
   "cell_type": "code",
   "execution_count": 31,
   "id": "bb56e96b-e836-4975-bb18-deaba642f61f",
   "metadata": {},
   "outputs": [
    {
     "data": {
      "text/plain": [
       "'[[1, 2, 3, 4]]'"
      ]
     },
     "execution_count": 31,
     "metadata": {},
     "output_type": "execute_result"
    }
   ],
   "source": [
    "str([a])"
   ]
  },
  {
   "cell_type": "code",
   "execution_count": 32,
   "id": "1938c308-07ad-4977-8738-e8309f4e5293",
   "metadata": {},
   "outputs": [
    {
     "ename": "TypeError",
     "evalue": "can only concatenate list (not \"str\") to list",
     "output_type": "error",
     "traceback": [
      "\u001b[1;31m---------------------------------------------------------------------------\u001b[0m",
      "\u001b[1;31mTypeError\u001b[0m                                 Traceback (most recent call last)",
      "\u001b[1;32m<ipython-input-32-8749ea7bf104>\u001b[0m in \u001b[0;36m<module>\u001b[1;34m\u001b[0m\n\u001b[1;32m----> 1\u001b[1;33m \u001b[0ma\u001b[0m\u001b[1;33m+\u001b[0m\u001b[1;34m'hig'\u001b[0m\u001b[1;33m\u001b[0m\u001b[1;33m\u001b[0m\u001b[0m\n\u001b[0m",
      "\u001b[1;31mTypeError\u001b[0m: can only concatenate list (not \"str\") to list"
     ]
    }
   ],
   "source": [
    "a+'hig'"
   ]
  },
  {
   "cell_type": "code",
   "execution_count": 33,
   "id": "40b095fd-b850-4f37-83a0-60007bdd541a",
   "metadata": {},
   "outputs": [
    {
     "data": {
      "text/plain": [
       "'4hi'"
      ]
     },
     "execution_count": 33,
     "metadata": {},
     "output_type": "execute_result"
    }
   ],
   "source": [
    "str(a[3])+\"hi\""
   ]
  },
  {
   "cell_type": "code",
   "execution_count": 34,
   "id": "02d9ff64-683a-42d0-96b1-19be127b606a",
   "metadata": {},
   "outputs": [],
   "source": [
    "a=3"
   ]
  },
  {
   "cell_type": "code",
   "execution_count": 35,
   "id": "c4b4e081-1148-4930-8d37-8416f40a0dd9",
   "metadata": {},
   "outputs": [
    {
     "data": {
      "text/plain": [
       "'3'"
      ]
     },
     "execution_count": 35,
     "metadata": {},
     "output_type": "execute_result"
    }
   ],
   "source": [
    "str(a)"
   ]
  },
  {
   "cell_type": "code",
   "execution_count": 36,
   "id": "22800cda-51a3-4400-8ff7-9a9dbba166b6",
   "metadata": {},
   "outputs": [
    {
     "data": {
      "text/plain": [
       "int"
      ]
     },
     "execution_count": 36,
     "metadata": {},
     "output_type": "execute_result"
    }
   ],
   "source": [
    "type(a)"
   ]
  },
  {
   "cell_type": "code",
   "execution_count": 37,
   "id": "12b88a4b-afed-4db3-a98a-3601d15889af",
   "metadata": {},
   "outputs": [
    {
     "data": {
      "text/plain": [
       "'3hi'"
      ]
     },
     "execution_count": 37,
     "metadata": {},
     "output_type": "execute_result"
    }
   ],
   "source": [
    "str(a)+\"hi\""
   ]
  },
  {
   "cell_type": "code",
   "execution_count": 38,
   "id": "62dac32b-63cf-42f9-baf9-6eb9fb08325a",
   "metadata": {},
   "outputs": [
    {
     "data": {
      "text/plain": [
       "{1, 3, 'hi'}"
      ]
     },
     "execution_count": 38,
     "metadata": {},
     "output_type": "execute_result"
    }
   ],
   "source": [
    "set([1,\"hi\",3])"
   ]
  },
  {
   "cell_type": "code",
   "execution_count": 39,
   "id": "5f0309dc-b4ed-4474-b162-ffd7fb3e19be",
   "metadata": {},
   "outputs": [],
   "source": [
    "s1=set([1,\"hi\",3])"
   ]
  },
  {
   "cell_type": "code",
   "execution_count": 40,
   "id": "642b4322-f85c-4d7e-9c07-ee2ac93f499e",
   "metadata": {},
   "outputs": [],
   "source": [
    "s2=set([3,\"hey\",5])"
   ]
  },
  {
   "cell_type": "code",
   "execution_count": 41,
   "id": "3e8848ac-cae7-4240-8b71-f41a5ed047e2",
   "metadata": {},
   "outputs": [
    {
     "ename": "TypeError",
     "evalue": "unsupported operand type(s) for +: 'set' and 'set'",
     "output_type": "error",
     "traceback": [
      "\u001b[1;31m---------------------------------------------------------------------------\u001b[0m",
      "\u001b[1;31mTypeError\u001b[0m                                 Traceback (most recent call last)",
      "\u001b[1;32m<ipython-input-41-f20250a9f944>\u001b[0m in \u001b[0;36m<module>\u001b[1;34m\u001b[0m\n\u001b[1;32m----> 1\u001b[1;33m \u001b[0ms1\u001b[0m\u001b[1;33m+\u001b[0m\u001b[0ms2\u001b[0m\u001b[1;33m\u001b[0m\u001b[1;33m\u001b[0m\u001b[0m\n\u001b[0m",
      "\u001b[1;31mTypeError\u001b[0m: unsupported operand type(s) for +: 'set' and 'set'"
     ]
    }
   ],
   "source": [
    "s1+s2"
   ]
  },
  {
   "cell_type": "code",
   "execution_count": 42,
   "id": "cce32ed8-eaaf-459e-9480-a49c440ceb79",
   "metadata": {},
   "outputs": [
    {
     "data": {
      "text/plain": [
       "{1, 3, 5, 'hey', 'hi'}"
      ]
     },
     "execution_count": 42,
     "metadata": {},
     "output_type": "execute_result"
    }
   ],
   "source": [
    "s1|s2"
   ]
  },
  {
   "cell_type": "code",
   "execution_count": 43,
   "id": "54c9d6c4-b7da-4c33-953d-5d826206dbbc",
   "metadata": {},
   "outputs": [
    {
     "data": {
      "text/plain": [
       "{3}"
      ]
     },
     "execution_count": 43,
     "metadata": {},
     "output_type": "execute_result"
    }
   ],
   "source": [
    "s1&s2"
   ]
  },
  {
   "cell_type": "code",
   "execution_count": 44,
   "id": "4cf6dce1-6767-43e9-b289-ed2e1efea9d0",
   "metadata": {},
   "outputs": [
    {
     "data": {
      "text/plain": [
       "{1, 'hi'}"
      ]
     },
     "execution_count": 44,
     "metadata": {},
     "output_type": "execute_result"
    }
   ],
   "source": [
    "s1-s2"
   ]
  },
  {
   "cell_type": "code",
   "execution_count": 45,
   "id": "835991e9-feaf-4f0d-b380-f9011bd5f9b4",
   "metadata": {},
   "outputs": [
    {
     "name": "stdout",
     "output_type": "stream",
     "text": [
      "4\n",
      "[1, 2, 3]\n",
      "3\n",
      "[1, 2]\n",
      "2\n",
      "[1]\n",
      "1\n",
      "[]\n"
     ]
    }
   ],
   "source": [
    "a=[1,2,3,4]\n",
    "while a:\n",
    "    b=a.pop()\n",
    "    print(b)\n",
    "    print(a)\n",
    "    "
   ]
  },
  {
   "cell_type": "code",
   "execution_count": 47,
   "id": "bffdb1d8-f4d7-4f1c-b7af-12fb87d65021",
   "metadata": {},
   "outputs": [
    {
     "name": "stdout",
     "output_type": "stream",
     "text": [
      "거짓\n"
     ]
    }
   ],
   "source": [
    "if[]:\n",
    "    print(\"참\")\n",
    "else:\n",
    "    print(\"거짓\")"
   ]
  },
  {
   "cell_type": "code",
   "execution_count": 48,
   "id": "6ef51c33-8767-494f-a6b8-66c8e3bb8c0b",
   "metadata": {},
   "outputs": [
    {
     "name": "stdout",
     "output_type": "stream",
     "text": [
      "참\n"
     ]
    }
   ],
   "source": [
    "if[1,2,3]:\n",
    "    print(\"참\")\n",
    "else:\n",
    "    print(\"거짓\")"
   ]
  },
  {
   "cell_type": "code",
   "execution_count": 49,
   "id": "426f45f1-e6ec-4595-9b4d-f794678b6095",
   "metadata": {},
   "outputs": [],
   "source": [
    "a=[1,2,3]"
   ]
  },
  {
   "cell_type": "code",
   "execution_count": 50,
   "id": "2889bb1b-b045-40ef-aa96-c78064dc4a33",
   "metadata": {},
   "outputs": [],
   "source": [
    "b=a[:]"
   ]
  },
  {
   "cell_type": "code",
   "execution_count": 51,
   "id": "ca39e108-edbd-41b3-9fe0-8ea14bab7f24",
   "metadata": {},
   "outputs": [
    {
     "ename": "TypeError",
     "evalue": "'list' object is not callable",
     "output_type": "error",
     "traceback": [
      "\u001b[1;31m---------------------------------------------------------------------------\u001b[0m",
      "\u001b[1;31mTypeError\u001b[0m                                 Traceback (most recent call last)",
      "\u001b[1;32m<ipython-input-51-ccdd6f966923>\u001b[0m in \u001b[0;36m<module>\u001b[1;34m\u001b[0m\n\u001b[1;32m----> 1\u001b[1;33m \u001b[0ma\u001b[0m\u001b[1;33m(\u001b[0m\u001b[1;36m0\u001b[0m\u001b[1;33m,\u001b[0m\u001b[1;36m4\u001b[0m\u001b[1;33m)\u001b[0m\u001b[1;33m\u001b[0m\u001b[1;33m\u001b[0m\u001b[0m\n\u001b[0m",
      "\u001b[1;31mTypeError\u001b[0m: 'list' object is not callable"
     ]
    }
   ],
   "source": [
    "a(0,4)"
   ]
  },
  {
   "cell_type": "code",
   "execution_count": 52,
   "id": "261b77f4-ddeb-46df-bb1d-486a69a54343",
   "metadata": {},
   "outputs": [],
   "source": [
    "a.append(4)"
   ]
  },
  {
   "cell_type": "code",
   "execution_count": 53,
   "id": "6be6e641-90a2-423e-a245-67cd2a1ba9d9",
   "metadata": {},
   "outputs": [
    {
     "name": "stdout",
     "output_type": "stream",
     "text": [
      "[1, 2, 3, 4]\n"
     ]
    }
   ],
   "source": [
    "print(a)"
   ]
  },
  {
   "cell_type": "code",
   "execution_count": 54,
   "id": "845a8002-8f19-4e2a-aef4-721c7f64f731",
   "metadata": {},
   "outputs": [
    {
     "ename": "AttributeError",
     "evalue": "'list' object has no attribute 'appent'",
     "output_type": "error",
     "traceback": [
      "\u001b[1;31m---------------------------------------------------------------------------\u001b[0m",
      "\u001b[1;31mAttributeError\u001b[0m                            Traceback (most recent call last)",
      "\u001b[1;32m<ipython-input-54-dfc59196c45b>\u001b[0m in \u001b[0;36m<module>\u001b[1;34m\u001b[0m\n\u001b[1;32m----> 1\u001b[1;33m \u001b[0ma\u001b[0m\u001b[1;33m.\u001b[0m\u001b[0mappent\u001b[0m\u001b[1;33m(\u001b[0m\u001b[1;36m1.2\u001b[0m\u001b[1;33m)\u001b[0m\u001b[1;33m\u001b[0m\u001b[1;33m\u001b[0m\u001b[0m\n\u001b[0m\u001b[0;32m      2\u001b[0m \u001b[0mprint\u001b[0m\u001b[1;33m(\u001b[0m\u001b[0ma\u001b[0m\u001b[1;33m)\u001b[0m\u001b[1;33m\u001b[0m\u001b[1;33m\u001b[0m\u001b[0m\n",
      "\u001b[1;31mAttributeError\u001b[0m: 'list' object has no attribute 'appent'"
     ]
    }
   ],
   "source": [
    "a.appent(1.2)\n",
    "print(a)"
   ]
  },
  {
   "cell_type": "code",
   "execution_count": 55,
   "id": "aced596a-5184-4509-812b-f627666b3589",
   "metadata": {},
   "outputs": [
    {
     "ename": "AttributeError",
     "evalue": "'list' object has no attribute 'appent'",
     "output_type": "error",
     "traceback": [
      "\u001b[1;31m---------------------------------------------------------------------------\u001b[0m",
      "\u001b[1;31mAttributeError\u001b[0m                            Traceback (most recent call last)",
      "\u001b[1;32m<ipython-input-55-93820fa65481>\u001b[0m in \u001b[0;36m<module>\u001b[1;34m\u001b[0m\n\u001b[1;32m----> 1\u001b[1;33m \u001b[0ma\u001b[0m\u001b[1;33m.\u001b[0m\u001b[0mappent\u001b[0m\u001b[1;33m(\u001b[0m\u001b[1;34m\"hello\"\u001b[0m\u001b[1;33m)\u001b[0m\u001b[1;33m\u001b[0m\u001b[1;33m\u001b[0m\u001b[0m\n\u001b[0m",
      "\u001b[1;31mAttributeError\u001b[0m: 'list' object has no attribute 'appent'"
     ]
    }
   ],
   "source": [
    "a.appent(\"hello\")"
   ]
  },
  {
   "cell_type": "code",
   "execution_count": 56,
   "id": "b5ec8cf9-7a5f-4410-9bae-c983a9ee7d48",
   "metadata": {},
   "outputs": [
    {
     "name": "stdout",
     "output_type": "stream",
     "text": [
      "[1, 2, 3, 4, 1.2]\n"
     ]
    }
   ],
   "source": [
    "a.append(1.2)\n",
    "print(a)"
   ]
  },
  {
   "cell_type": "code",
   "execution_count": 57,
   "id": "67e033f6-ea66-4212-bdcd-fd94a3719415",
   "metadata": {},
   "outputs": [],
   "source": [
    "a.append(\"hello\")"
   ]
  },
  {
   "cell_type": "code",
   "execution_count": 58,
   "id": "b9ddaabd-8b29-4d9c-a8b6-992ca3af490e",
   "metadata": {},
   "outputs": [
    {
     "name": "stdout",
     "output_type": "stream",
     "text": [
      "[1, 2, 3, 4, 1.2, 'hello']\n"
     ]
    }
   ],
   "source": [
    "print(a)"
   ]
  },
  {
   "cell_type": "code",
   "execution_count": 59,
   "id": "7a166089-6843-44c2-960b-ca21f5368295",
   "metadata": {},
   "outputs": [],
   "source": [
    "b=a[:]"
   ]
  },
  {
   "cell_type": "code",
   "execution_count": 60,
   "id": "49590d0b-393b-4dd6-ae2e-ee44bdb8a82c",
   "metadata": {},
   "outputs": [],
   "source": [
    "a[4]=5"
   ]
  },
  {
   "cell_type": "code",
   "execution_count": 61,
   "id": "e2c4ca7a-005f-4028-98a7-41f364b3ce8a",
   "metadata": {},
   "outputs": [
    {
     "name": "stdout",
     "output_type": "stream",
     "text": [
      "[1, 2, 3, 4, 5, 'hello']\n",
      "[1, 2, 3, 4, 1.2, 'hello']\n"
     ]
    }
   ],
   "source": [
    "print(a)\n",
    "print(b)"
   ]
  },
  {
   "cell_type": "code",
   "execution_count": 62,
   "id": "7c450963-12c9-482f-bc86-a0e793bd0441",
   "metadata": {},
   "outputs": [],
   "source": [
    "a=b"
   ]
  },
  {
   "cell_type": "code",
   "execution_count": 63,
   "id": "f929aa8a-64f5-4d82-8c22-4045977f3ba1",
   "metadata": {},
   "outputs": [
    {
     "name": "stdout",
     "output_type": "stream",
     "text": [
      "[1, 2, 3, 4, 1.2, 'hello']\n"
     ]
    }
   ],
   "source": [
    "print(b)"
   ]
  },
  {
   "cell_type": "code",
   "execution_count": 64,
   "id": "9a3833eb-5aef-44df-b42c-9d15bd6323e7",
   "metadata": {},
   "outputs": [],
   "source": [
    "b=a[:]"
   ]
  },
  {
   "cell_type": "code",
   "execution_count": 65,
   "id": "fa97f066-8676-4414-979a-67d8c43d3a73",
   "metadata": {},
   "outputs": [
    {
     "name": "stdout",
     "output_type": "stream",
     "text": [
      "[1, 2, 3, 4, 1.2, 'hello']\n"
     ]
    }
   ],
   "source": [
    "print(b)"
   ]
  },
  {
   "cell_type": "code",
   "execution_count": 66,
   "id": "f4fb565e-930d-4035-8bbe-f7fe0f2f74ce",
   "metadata": {},
   "outputs": [
    {
     "data": {
      "text/plain": [
       "False"
      ]
     },
     "execution_count": 66,
     "metadata": {},
     "output_type": "execute_result"
    }
   ],
   "source": [
    "a is b"
   ]
  },
  {
   "cell_type": "code",
   "execution_count": 67,
   "id": "2e925933-adeb-4005-97f1-797b272bc6e5",
   "metadata": {},
   "outputs": [
    {
     "ename": "SyntaxError",
     "evalue": "invalid syntax (<ipython-input-67-1d2ef8a4197b>, line 4)",
     "output_type": "error",
     "traceback": [
      "\u001b[1;36m  File \u001b[1;32m\"<ipython-input-67-1d2ef8a4197b>\"\u001b[1;36m, line \u001b[1;32m4\u001b[0m\n\u001b[1;33m    else money:\u001b[0m\n\u001b[1;37m         ^\u001b[0m\n\u001b[1;31mSyntaxError\u001b[0m\u001b[1;31m:\u001b[0m invalid syntax\n"
     ]
    }
   ],
   "source": []
  },
  {
   "cell_type": "code",
   "execution_count": 68,
   "id": "bbd1d83e-5e7e-4bd5-93ae-52491f2adf15",
   "metadata": {},
   "outputs": [
    {
     "name": "stdout",
     "output_type": "stream",
     "text": [
      "걸어가라\n"
     ]
    }
   ],
   "source": [
    "money = False\n",
    "if money:\n",
    "    print(\"택시를 타고 가라\")\n",
    "else:\n",
    "    print(\"걸어가라\")"
   ]
  },
  {
   "cell_type": "code",
   "execution_count": 71,
   "id": "ea7b78b3-7dd3-4e44-8c44-4c47d0c2f921",
   "metadata": {},
   "outputs": [
    {
     "name": "stdout",
     "output_type": "stream",
     "text": [
      "taxi\n"
     ]
    }
   ],
   "source": [
    "if money>=3000:\n",
    "    print(\"taxi\")\n",
    "else:\n",
    "    print(\"walk\")\n",
    "money=4000"
   ]
  },
  {
   "cell_type": "code",
   "execution_count": 74,
   "id": "cd76e75d-f366-498b-904c-0f802b4014a3",
   "metadata": {},
   "outputs": [
    {
     "name": "stdout",
     "output_type": "stream",
     "text": [
      "taxi\n"
     ]
    }
   ],
   "source": [
    "if money>=3000 or card:\n",
    "    print(\"taxi\")\n",
    "else:\n",
    "    print(\"walk\")\n",
    "card = True\n",
    "money = 2000"
   ]
  },
  {
   "cell_type": "code",
   "execution_count": 76,
   "id": "35f05d57-d1b3-43fc-88a3-444fb596e1e9",
   "metadata": {},
   "outputs": [
    {
     "name": "stdout",
     "output_type": "stream",
     "text": [
      "taxi\n"
     ]
    }
   ],
   "source": [
    "pocket=[\"paper\",\"phone\",\"money\"]\n",
    "if \"money\" in pocket:\n",
    "    print(\"taxi\")\n",
    "else:\n",
    "    print(\"walk\")"
   ]
  },
  {
   "cell_type": "code",
   "execution_count": 77,
   "id": "16058ed6-4081-4285-bd93-7198e6d8b968",
   "metadata": {},
   "outputs": [
    {
     "ename": "NameError",
     "evalue": "name 'paper' is not defined",
     "output_type": "error",
     "traceback": [
      "\u001b[1;31m---------------------------------------------------------------------------\u001b[0m",
      "\u001b[1;31mNameError\u001b[0m                                 Traceback (most recent call last)",
      "\u001b[1;32m<ipython-input-77-d64e4662120e>\u001b[0m in \u001b[0;36m<module>\u001b[1;34m\u001b[0m\n\u001b[1;32m----> 1\u001b[1;33m \u001b[0mpocket\u001b[0m\u001b[1;33m=\u001b[0m\u001b[1;33m[\u001b[0m\u001b[0mpaper\u001b[0m\u001b[1;33m,\u001b[0m\u001b[0mphone\u001b[0m\u001b[1;33m,\u001b[0m\u001b[0mmoney\u001b[0m\u001b[1;33m]\u001b[0m\u001b[1;33m\u001b[0m\u001b[1;33m\u001b[0m\u001b[0m\n\u001b[0m\u001b[0;32m      2\u001b[0m \u001b[1;32mif\u001b[0m \u001b[0mmoney\u001b[0m \u001b[1;32min\u001b[0m \u001b[0mpocket\u001b[0m\u001b[1;33m:\u001b[0m\u001b[1;33m\u001b[0m\u001b[1;33m\u001b[0m\u001b[0m\n\u001b[0;32m      3\u001b[0m     \u001b[0mprint\u001b[0m\u001b[1;33m(\u001b[0m\u001b[1;34m\"taxi\"\u001b[0m\u001b[1;33m)\u001b[0m\u001b[1;33m\u001b[0m\u001b[1;33m\u001b[0m\u001b[0m\n\u001b[0;32m      4\u001b[0m \u001b[1;32melse\u001b[0m\u001b[1;33m:\u001b[0m\u001b[1;33m\u001b[0m\u001b[1;33m\u001b[0m\u001b[0m\n\u001b[0;32m      5\u001b[0m     \u001b[0mprint\u001b[0m\u001b[1;33m(\u001b[0m\u001b[1;34m\"walk\"\u001b[0m\u001b[1;33m)\u001b[0m\u001b[1;33m\u001b[0m\u001b[1;33m\u001b[0m\u001b[0m\n",
      "\u001b[1;31mNameError\u001b[0m: name 'paper' is not defined"
     ]
    }
   ],
   "source": [
    "pocket=[paper,phone,money]\n",
    "if money in pocket:\n",
    "    print(\"taxi\")\n",
    "else:\n",
    "    print(\"walk\")"
   ]
  },
  {
   "cell_type": "code",
   "execution_count": 78,
   "id": "bc5dd84d-b168-4207-b61b-9d7373cc69ac",
   "metadata": {},
   "outputs": [],
   "source": [
    "pocket=[\"paper\",\"phone\",\"money\"]\n",
    "if \"money\" in pocket:\n",
    "    pass\n",
    "else:\n",
    "    print(\"walk\")"
   ]
  },
  {
   "cell_type": "code",
   "execution_count": 79,
   "id": "38637ec9-a9f8-4a3b-b43e-16cf8b500c0d",
   "metadata": {},
   "outputs": [
    {
     "name": "stdout",
     "output_type": "stream",
     "text": [
      "walk\n"
     ]
    }
   ],
   "source": [
    "pocket=[\"phone\",\"paper\"]\n",
    "if money in pocket:\n",
    "    print(\"taxi\")\n",
    "elif card in pocket:\n",
    "    print(\"taxi\")\n",
    "else:\n",
    "    print(\"walk\")"
   ]
  },
  {
   "cell_type": "code",
   "execution_count": 81,
   "id": "6768188c-40e7-4d37-8c1d-e88b2de8af61",
   "metadata": {},
   "outputs": [
    {
     "name": "stdout",
     "output_type": "stream",
     "text": [
      "success\n"
     ]
    }
   ],
   "source": [
    "score = 70\n",
    "message=\"success\" if score>=60 else \"fail\"\n",
    "print(message)"
   ]
  },
  {
   "cell_type": "code",
   "execution_count": 82,
   "id": "709e45fb-1eda-4b88-9e5e-a27d458734b1",
   "metadata": {},
   "outputs": [
    {
     "name": "stdout",
     "output_type": "stream",
     "text": [
      "The score is {score}, so you achived {message}\n"
     ]
    }
   ],
   "source": [
    "score=100\n",
    "if score>=60:\n",
    "    message=\"success\"\n",
    "else:\n",
    "    message=\"failure\"\n",
    "print(\"The score is {score}, so you achived {message}\")"
   ]
  },
  {
   "cell_type": "code",
   "execution_count": 84,
   "id": "4f06711f-65df-4dcb-ac6c-9013360ceaea",
   "metadata": {},
   "outputs": [
    {
     "name": "stdout",
     "output_type": "stream",
     "text": [
      "The score is score, so you achived message\n"
     ]
    }
   ],
   "source": [
    "score=100\n",
    "if score>=60:\n",
    "    message=\"success\"\n",
    "else:\n",
    "    message=\"failure\"\n",
    "print(\"The score is score, so you achived message\")"
   ]
  },
  {
   "cell_type": "code",
   "execution_count": 85,
   "id": "0905c057-23a1-4375-9d16-c446e1ec4718",
   "metadata": {},
   "outputs": [
    {
     "name": "stdout",
     "output_type": "stream",
     "text": [
      "The score is 100, so you achived success\n"
     ]
    }
   ],
   "source": [
    "score=100\n",
    "if score>=60:\n",
    "    message=\"success\"\n",
    "else:\n",
    "    message=\"failure\"\n",
    "print(f\"The score is {score}, so you achived {message}\")"
   ]
  },
  {
   "cell_type": "code",
   "execution_count": 86,
   "id": "02784db1-20c6-435a-8ddf-d43799525cf4",
   "metadata": {},
   "outputs": [
    {
     "ename": "NameError",
     "evalue": "name 'tree' is not defined",
     "output_type": "error",
     "traceback": [
      "\u001b[1;31m---------------------------------------------------------------------------\u001b[0m",
      "\u001b[1;31mNameError\u001b[0m                                 Traceback (most recent call last)",
      "\u001b[1;32m<ipython-input-86-f445c8e6fff3>\u001b[0m in \u001b[0;36m<module>\u001b[1;34m\u001b[0m\n\u001b[0;32m      1\u001b[0m \u001b[0mtreehit\u001b[0m\u001b[1;33m=\u001b[0m\u001b[1;36m0\u001b[0m\u001b[1;33m\u001b[0m\u001b[1;33m\u001b[0m\u001b[0m\n\u001b[1;32m----> 2\u001b[1;33m \u001b[1;32mwhile\u001b[0m \u001b[0mtree\u001b[0m\u001b[1;33m<\u001b[0m\u001b[1;36m10\u001b[0m\u001b[1;33m:\u001b[0m\u001b[1;33m\u001b[0m\u001b[1;33m\u001b[0m\u001b[0m\n\u001b[0m\u001b[0;32m      3\u001b[0m     \u001b[0mtreehit\u001b[0m\u001b[1;33m=\u001b[0m\u001b[0mtreehit\u001b[0m\u001b[1;33m+\u001b[0m\u001b[1;36m1\u001b[0m\u001b[1;33m\u001b[0m\u001b[1;33m\u001b[0m\u001b[0m\n\u001b[0;32m      4\u001b[0m     \u001b[0mprint\u001b[0m\u001b[1;33m(\u001b[0m\u001b[1;34m\"%d번 나무를 찍다.\"\u001b[0m\u001b[1;33m%\u001b[0m \u001b[0mtreehit\u001b[0m\u001b[1;33m)\u001b[0m\u001b[1;33m\u001b[0m\u001b[1;33m\u001b[0m\u001b[0m\n\u001b[0;32m      5\u001b[0m     \u001b[1;32mif\u001b[0m \u001b[0mtreehit\u001b[0m \u001b[1;33m==\u001b[0m \u001b[1;36m10\u001b[0m\u001b[1;33m:\u001b[0m\u001b[1;33m\u001b[0m\u001b[1;33m\u001b[0m\u001b[0m\n",
      "\u001b[1;31mNameError\u001b[0m: name 'tree' is not defined"
     ]
    }
   ],
   "source": [
    "treehit=0\n",
    "while tree<10:\n",
    "    treehit=treehit+1\n",
    "    print(\"%d번 나무를 찍다.\"% treehit)\n",
    "    if treehit == 10:\n",
    "        print(\"나무 넘어간다.\")"
   ]
  },
  {
   "cell_type": "code",
   "execution_count": 89,
   "id": "e6db88bd-d3d0-4e42-ab55-da73631e9162",
   "metadata": {},
   "outputs": [
    {
     "name": "stdout",
     "output_type": "stream",
     "text": [
      "1번 나무를 찍다.\n",
      "2번 나무를 찍다.\n",
      "3번 나무를 찍다.\n",
      "4번 나무를 찍다.\n",
      "5번 나무를 찍다.\n",
      "6번 나무를 찍다.\n",
      "7번 나무를 찍다.\n",
      "8번 나무를 찍다.\n",
      "9번 나무를 찍다.\n",
      "10번 나무를 찍다.\n",
      "나무 넘어간다.\n"
     ]
    }
   ],
   "source": [
    "treehit=0\n",
    "while treehit<10:\n",
    "    treehit=treehit+1\n",
    "    print(\"%d번 나무를 찍다.\"% treehit)\n",
    "    if treehit == 10:\n",
    "        print(\"나무 넘어간다.\")"
   ]
  },
  {
   "cell_type": "code",
   "execution_count": 92,
   "id": "4221effa-9a2f-4fe2-a62e-1ff02ef8cba7",
   "metadata": {},
   "outputs": [
    {
     "ename": "IndentationError",
     "evalue": "unexpected indent (<ipython-input-92-bc59d9c53897>, line 10)",
     "output_type": "error",
     "traceback": [
      "\u001b[1;36m  File \u001b[1;32m\"<ipython-input-92-bc59d9c53897>\"\u001b[1;36m, line \u001b[1;32m10\u001b[0m\n\u001b[1;33m    while number != 4:\u001b[0m\n\u001b[1;37m    ^\u001b[0m\n\u001b[1;31mIndentationError\u001b[0m\u001b[1;31m:\u001b[0m unexpected indent\n"
     ]
    }
   ],
   "source": [
    "prompt = \"\"\"\n",
    "1. Add\n",
    "2. Del\n",
    "3. List\n",
    "4. Quit\n",
    "\n",
    "Enter number: \"\"\"\n",
    "\n",
    "number = 0\n",
    " while number != 4:\n",
    "    print(prompt)\n",
    "    number = int(input())\n",
    "\n",
    "\n",
    "1. Add\n",
    "2. Del\n",
    "3. List\n",
    "4. Quit\n",
    "\n",
    "Enter number: 1\n"
   ]
  },
  {
   "cell_type": "code",
   "execution_count": 95,
   "id": "d62f996f-da8c-4934-baf9-0c88d37fa147",
   "metadata": {},
   "outputs": [],
   "source": [
    "a=\"\"\"\n",
    "1.\n",
    "2.\n",
    "3.\n",
    "4.\n",
    "\"\"\""
   ]
  },
  {
   "cell_type": "code",
   "execution_count": 96,
   "id": "c2b0d271-575f-464a-a0b3-71c650c2800b",
   "metadata": {},
   "outputs": [
    {
     "name": "stdout",
     "output_type": "stream",
     "text": [
      "\n",
      "1.\n",
      "2.\n",
      "3.\n",
      "4.\n",
      "\n"
     ]
    }
   ],
   "source": [
    "print(a)"
   ]
  },
  {
   "cell_type": "code",
   "execution_count": 99,
   "id": "d6759d43-9d6b-4d6e-b7a1-bc1587bf9cdd",
   "metadata": {},
   "outputs": [
    {
     "name": "stdout",
     "output_type": "stream",
     "text": [
      "\n",
      "1.\n",
      "2.\n",
      "3.\n",
      "4.\n",
      "\n"
     ]
    },
    {
     "name": "stdin",
     "output_type": "stream",
     "text": [
      " 1\n"
     ]
    },
    {
     "name": "stdout",
     "output_type": "stream",
     "text": [
      "\n",
      "1.\n",
      "2.\n",
      "3.\n",
      "4.\n",
      "\n"
     ]
    },
    {
     "name": "stdin",
     "output_type": "stream",
     "text": [
      " 2\n"
     ]
    },
    {
     "name": "stdout",
     "output_type": "stream",
     "text": [
      "\n",
      "1.\n",
      "2.\n",
      "3.\n",
      "4.\n",
      "\n"
     ]
    },
    {
     "name": "stdin",
     "output_type": "stream",
     "text": [
      " 3\n"
     ]
    },
    {
     "name": "stdout",
     "output_type": "stream",
     "text": [
      "\n",
      "1.\n",
      "2.\n",
      "3.\n",
      "4.\n",
      "\n"
     ]
    },
    {
     "name": "stdin",
     "output_type": "stream",
     "text": [
      " 4\n"
     ]
    }
   ],
   "source": [
    "number=0\n",
    "while number != 4:\n",
    "    print(a)\n",
    "    number = int(input())"
   ]
  },
  {
   "cell_type": "code",
   "execution_count": 100,
   "id": "7931a10f-d9bc-414d-a83e-af63d975e325",
   "metadata": {},
   "outputs": [],
   "source": [
    "coffee = 10\n",
    "money = 300\n",
    "while money:\n",
    "    print(\"돈을 받았으니 커피를 줍니다.\")\n",
    "    coffee = coffee -1\n",
    "    print(\"남은 커피의 양은 %잔 입니다.\")\n",
    "    if coffee == 0\n",
    "       print "
   ]
  },
  {
   "cell_type": "code",
   "execution_count": 110,
   "id": "3230b982-20ae-4cad-97ef-687f0cd0c3b9",
   "metadata": {},
   "outputs": [],
   "source": [
    "coffee = 10\n"
   ]
  },
  {
   "cell_type": "code",
   "execution_count": null,
   "id": "1c25d5d1-7573-44f0-93ba-18198a7edc6b",
   "metadata": {},
   "outputs": [],
   "source": [
    "coffee=10\n",
    "while True:\n",
    "    money=int(input(\"돈을 넣어주세요: \"))\n",
    "    if money ==300:\n",
    "        print(\"커피 나왔습니다.\")\n",
    "    elif money >300:\n",
    "        print(\"커피 나왔습니다. 거스름돈: %d\"%(money-300))\n",
    "        coffee = coffee-1\n",
    "    else:\n",
    "        print(\"돈이 모자랍니다. %d를 돌려드리겠습니다.\"%money)\n",
    "        print(\"남은 커피: %d\" %coffee)\n",
    "    if coffee ==0:\n",
    "        print(\"커피소진. 판매중지\")\n",
    "        break"
   ]
  },
  {
   "cell_type": "code",
   "execution_count": null,
   "id": "46323a94-dcdc-4984-bdb3-99e65617e200",
   "metadata": {},
   "outputs": [],
   "source": []
  },
  {
   "cell_type": "code",
   "execution_count": null,
   "id": "880df4be-8a53-4b2b-9aaa-7507b44f28bb",
   "metadata": {},
   "outputs": [],
   "source": [
    "coffee = 10\n",
    "while True:\n",
    "    money=int(input(\"돈을 넣어주세요: \"))\n",
    "    if money ==300:\n",
    "        print(\"커피 나왔습니다.\")\n",
    "    elif money >300:\n",
    "        print(\"커피 나왔습니다. 거스름돈: %d\"%(money-300))\n",
    "        coffee = coffee-1\n",
    "    else:\n",
    "        print(\"돈이 모자랍니다. %d를 돌려드리겠습니다.\"%money)\n",
    "        print(\"남은 커피: %d\" %coffee)\n",
    "    if coffee ==0:\n",
    "        print(\"커피소진. 판매중지\")\n",
    "        break"
   ]
  },
  {
   "cell_type": "markdown",
   "id": "106e82a2-7383-4187-9804-5d5e93b6a262",
   "metadata": {},
   "source": [
    "# 02 내장함수"
   ]
  },
  {
   "cell_type": "code",
   "execution_count": 1,
   "id": "d24e681b-535e-4ac8-b2c9-a305512f2355",
   "metadata": {},
   "outputs": [
    {
     "name": "stdout",
     "output_type": "stream",
     "text": [
      "3\n"
     ]
    }
   ],
   "source": [
    "a=1\n",
    "b=2\n",
    "print(a+b)"
   ]
  },
  {
   "cell_type": "code",
   "execution_count": 2,
   "id": "66f91169-248e-413e-ad66-8bc3113e7ff7",
   "metadata": {},
   "outputs": [
    {
     "name": "stdin",
     "output_type": "stream",
     "text": [
      "돈을 넣어주세요:  300\n"
     ]
    },
    {
     "name": "stdout",
     "output_type": "stream",
     "text": [
      "커피 나왔습니다.\n"
     ]
    },
    {
     "name": "stdin",
     "output_type": "stream",
     "text": [
      "돈을 넣어주세요:  500\n"
     ]
    },
    {
     "name": "stdout",
     "output_type": "stream",
     "text": [
      "커피 나왔습니다. 거스름돈: 200\n"
     ]
    },
    {
     "name": "stdin",
     "output_type": "stream",
     "text": [
      "돈을 넣어주세요:  500\n"
     ]
    },
    {
     "name": "stdout",
     "output_type": "stream",
     "text": [
      "커피 나왔습니다. 거스름돈: 200\n"
     ]
    },
    {
     "name": "stdin",
     "output_type": "stream",
     "text": [
      "돈을 넣어주세요:  5005\n"
     ]
    },
    {
     "name": "stdout",
     "output_type": "stream",
     "text": [
      "커피 나왔습니다. 거스름돈: 4705\n"
     ]
    },
    {
     "name": "stdin",
     "output_type": "stream",
     "text": [
      "돈을 넣어주세요:  500\n"
     ]
    },
    {
     "name": "stdout",
     "output_type": "stream",
     "text": [
      "커피 나왔습니다. 거스름돈: 200\n"
     ]
    },
    {
     "name": "stdin",
     "output_type": "stream",
     "text": [
      "돈을 넣어주세요:  500\n"
     ]
    },
    {
     "name": "stdout",
     "output_type": "stream",
     "text": [
      "커피 나왔습니다. 거스름돈: 200\n"
     ]
    },
    {
     "name": "stdin",
     "output_type": "stream",
     "text": [
      "돈을 넣어주세요:  5005\n"
     ]
    },
    {
     "name": "stdout",
     "output_type": "stream",
     "text": [
      "커피 나왔습니다. 거스름돈: 4705\n"
     ]
    },
    {
     "name": "stdin",
     "output_type": "stream",
     "text": [
      "돈을 넣어주세요:  500\n"
     ]
    },
    {
     "name": "stdout",
     "output_type": "stream",
     "text": [
      "커피 나왔습니다. 거스름돈: 200\n"
     ]
    },
    {
     "name": "stdin",
     "output_type": "stream",
     "text": [
      "돈을 넣어주세요:  500\n"
     ]
    },
    {
     "name": "stdout",
     "output_type": "stream",
     "text": [
      "커피 나왔습니다. 거스름돈: 200\n"
     ]
    },
    {
     "name": "stdin",
     "output_type": "stream",
     "text": [
      "돈을 넣어주세요:  500\n"
     ]
    },
    {
     "name": "stdout",
     "output_type": "stream",
     "text": [
      "커피 나왔습니다. 거스름돈: 200\n"
     ]
    },
    {
     "name": "stdin",
     "output_type": "stream",
     "text": [
      "돈을 넣어주세요:  500\n"
     ]
    },
    {
     "name": "stdout",
     "output_type": "stream",
     "text": [
      "커피 나왔습니다. 거스름돈: 200\n",
      "커피소진. 판매중지\n"
     ]
    }
   ],
   "source": [
    "coffee = 10\n",
    "while True:\n",
    "    money=int(input(\"돈을 넣어주세요: \"))\n",
    "    if money ==300:\n",
    "        print(\"커피 나왔습니다.\")\n",
    "        coffee=coffee-1\n",
    "        print(\"남은 커피: %d\" %coffee)\n",
    "    elif money >300:\n",
    "        print(\"커피 나왔습니다. 거스름돈: %d\"%(money-300))\n",
    "        coffee = coffee-1\n",
    "        print(\"남은 커피: %d\" %coffee)\n",
    "    else:\n",
    "        print(\"돈이 모자랍니다. %d를 돌려드리겠습니다.\"%money)\n",
    "        print(\"남은 커피: %d\" %coffee)\n",
    "    if coffee ==0:\n",
    "        print(\"커피소진. 판매중지\")\n",
    "        break"
   ]
  },
  {
   "cell_type": "code",
   "execution_count": 3,
   "id": "0e892934-65cb-46ea-bf59-b6dc4934d5cb",
   "metadata": {},
   "outputs": [
    {
     "name": "stdin",
     "output_type": "stream",
     "text": [
      "돈을 넣어주세요:  500\n"
     ]
    },
    {
     "name": "stdout",
     "output_type": "stream",
     "text": [
      "커피 나왔습니다. 거스름돈: 200\n"
     ]
    },
    {
     "name": "stdin",
     "output_type": "stream",
     "text": [
      "돈을 넣어주세요:  500\n"
     ]
    },
    {
     "name": "stdout",
     "output_type": "stream",
     "text": [
      "커피 나왔습니다. 거스름돈: 200\n"
     ]
    },
    {
     "name": "stdin",
     "output_type": "stream",
     "text": [
      "돈을 넣어주세요:  200\n"
     ]
    },
    {
     "name": "stdout",
     "output_type": "stream",
     "text": [
      "돈이 모자랍니다. 200를 돌려드리겠습니다.\n",
      "남은 커피: 8\n"
     ]
    },
    {
     "name": "stdin",
     "output_type": "stream",
     "text": [
      "돈을 넣어주세요:  600\n"
     ]
    },
    {
     "name": "stdout",
     "output_type": "stream",
     "text": [
      "커피 나왔습니다. 거스름돈: 300\n"
     ]
    },
    {
     "name": "stdin",
     "output_type": "stream",
     "text": [
      "돈을 넣어주세요:  500\n"
     ]
    },
    {
     "name": "stdout",
     "output_type": "stream",
     "text": [
      "커피 나왔습니다. 거스름돈: 200\n"
     ]
    },
    {
     "name": "stdin",
     "output_type": "stream",
     "text": [
      "돈을 넣어주세요:  500\n"
     ]
    },
    {
     "name": "stdout",
     "output_type": "stream",
     "text": [
      "커피 나왔습니다. 거스름돈: 200\n"
     ]
    },
    {
     "name": "stdin",
     "output_type": "stream",
     "text": [
      "돈을 넣어주세요:  500\n"
     ]
    },
    {
     "name": "stdout",
     "output_type": "stream",
     "text": [
      "커피 나왔습니다. 거스름돈: 200\n"
     ]
    },
    {
     "name": "stdin",
     "output_type": "stream",
     "text": [
      "돈을 넣어주세요:  500\n"
     ]
    },
    {
     "name": "stdout",
     "output_type": "stream",
     "text": [
      "커피 나왔습니다. 거스름돈: 200\n"
     ]
    },
    {
     "name": "stdin",
     "output_type": "stream",
     "text": [
      "돈을 넣어주세요:  500\n"
     ]
    },
    {
     "name": "stdout",
     "output_type": "stream",
     "text": [
      "커피 나왔습니다. 거스름돈: 200\n"
     ]
    },
    {
     "name": "stdin",
     "output_type": "stream",
     "text": [
      "돈을 넣어주세요:  500\n"
     ]
    },
    {
     "name": "stdout",
     "output_type": "stream",
     "text": [
      "커피 나왔습니다. 거스름돈: 200\n"
     ]
    },
    {
     "name": "stdin",
     "output_type": "stream",
     "text": [
      "돈을 넣어주세요:  500\n"
     ]
    },
    {
     "name": "stdout",
     "output_type": "stream",
     "text": [
      "커피 나왔습니다. 거스름돈: 200\n",
      "커피소진. 판매중지\n"
     ]
    }
   ],
   "source": [
    "coffee = 10\n",
    "while True:\n",
    "    money=int(input(\"돈을 넣어주세요: \"))\n",
    "    if money ==300:\n",
    "        print(\"커피 나왔습니다.\")\n",
    "        print(\"남은 커피: %d\" %coffee)\n",
    "        coffee=coffe-1\n",
    "    elif money >300:\n",
    "        print(\"커피 나왔습니다. 거스름돈: %d\"%(money-300))\n",
    "        print(\"남은 커피: %d\" %coffee)\n",
    "        coffee = coffee-1\n",
    "    else:\n",
    "        print(\"돈이 모자랍니다. %d를 돌려드리겠습니다.\"%money)\n",
    "        print(\"남은 커피: %d\" %coffee)\n",
    "    if coffee ==0:\n",
    "        print(\"커피소진. 판매중지\")\n",
    "        break"
   ]
  },
  {
   "cell_type": "markdown",
   "id": "21680f67-61b5-4a76-9a71-89faa4d1e512",
   "metadata": {},
   "source": [
    "##### coffee = 10\n",
    "while True:\n",
    "    money=int(input(\"돈을 넣어주세요: \"))\n",
    "    if money ==300:\n",
    "        print(\"커피 나왔습니다.\")\n",
    "        print(\"남은 커피: %d\" %coffee)\n",
    "        coffee=coffee-1\n",
    "    elif money >300:\n",
    "        print(\"커피 나왔습니다. 거스름돈: %d\"%(money-300))\n",
    "        print(\"남은 커피: %d\" %coffee)\n",
    "        coffee = coffee-1\n",
    "    else:\n",
    "        print(\"돈이 모자랍니다. %d를 돌려드리겠습니다.\"%money)\n",
    "        print(\"남은 커피: %d\" %coffee)\n",
    "    if coffee ==0:\n",
    "        print(\"커피소진. 판매중지\")\n",
    "        break"
   ]
  },
  {
   "cell_type": "markdown",
   "id": "cd9d738d-c07c-4caa-bb9f-8e82e5c2f1d8",
   "metadata": {},
   "source": [
    "### coffee = 10\n",
    "while True:\n",
    "    money=int(input(\"돈을 넣어주세요: \"))\n",
    "    if money ==300:\n",
    "        print(\"커피 나왔습니다.\")\n",
    "        print(\"남은 커피: %d\" %coffee)\n",
    "        coffee= coffee-1\n",
    "    elif money >300:\n",
    "        print(\"커피 나왔습니다. 거스름돈: %d\"%(money-300))\n",
    "        print(\"남은 커피: %d\" %coffee)\n",
    "        coffee = coffee -1\n",
    "    else:\n",
    "        print(\"돈이 모자랍니다. %d를 돌려드리겠습니다.\"%money)\n",
    "        print(\"남은 커피: %d\" %coffee)\n",
    "    if coffee ==0:\n",
    "        print(\"커피소진. 판매중지\")\n",
    "        break"
   ]
  },
  {
   "cell_type": "code",
   "execution_count": 2,
   "id": "c2c72a4d-b033-471c-9c8d-a2677cb1281b",
   "metadata": {},
   "outputs": [
    {
     "name": "stdin",
     "output_type": "stream",
     "text": [
      "돈을 넣어주세요:  500\n"
     ]
    },
    {
     "name": "stdout",
     "output_type": "stream",
     "text": [
      "커피 나왔습니다. 거스름돈: 200\n",
      "남은 커피: 9\n"
     ]
    },
    {
     "name": "stdin",
     "output_type": "stream",
     "text": [
      "돈을 넣어주세요:  300\n"
     ]
    },
    {
     "name": "stdout",
     "output_type": "stream",
     "text": [
      "커피 나왔습니다.\n",
      "남은 커피: 8\n"
     ]
    },
    {
     "name": "stdin",
     "output_type": "stream",
     "text": [
      "돈을 넣어주세요:  500\n"
     ]
    },
    {
     "name": "stdout",
     "output_type": "stream",
     "text": [
      "커피 나왔습니다. 거스름돈: 200\n",
      "남은 커피: 7\n"
     ]
    },
    {
     "name": "stdin",
     "output_type": "stream",
     "text": [
      "돈을 넣어주세요:  400\n"
     ]
    },
    {
     "name": "stdout",
     "output_type": "stream",
     "text": [
      "커피 나왔습니다. 거스름돈: 100\n",
      "남은 커피: 6\n"
     ]
    },
    {
     "name": "stdin",
     "output_type": "stream",
     "text": [
      "돈을 넣어주세요:  50\n"
     ]
    },
    {
     "name": "stdout",
     "output_type": "stream",
     "text": [
      "돈이 모자랍니다. 50를 돌려드리겠습니다.\n",
      "남은 커피: 6\n"
     ]
    },
    {
     "name": "stdin",
     "output_type": "stream",
     "text": [
      "돈을 넣어주세요:  500\n"
     ]
    },
    {
     "name": "stdout",
     "output_type": "stream",
     "text": [
      "커피 나왔습니다. 거스름돈: 200\n",
      "남은 커피: 5\n"
     ]
    },
    {
     "name": "stdin",
     "output_type": "stream",
     "text": [
      "돈을 넣어주세요:  500\n"
     ]
    },
    {
     "name": "stdout",
     "output_type": "stream",
     "text": [
      "커피 나왔습니다. 거스름돈: 200\n",
      "남은 커피: 4\n"
     ]
    },
    {
     "name": "stdin",
     "output_type": "stream",
     "text": [
      "돈을 넣어주세요:  5005\n"
     ]
    },
    {
     "name": "stdout",
     "output_type": "stream",
     "text": [
      "커피 나왔습니다. 거스름돈: 4705\n",
      "남은 커피: 3\n"
     ]
    },
    {
     "name": "stdin",
     "output_type": "stream",
     "text": [
      "돈을 넣어주세요:  500\n"
     ]
    },
    {
     "name": "stdout",
     "output_type": "stream",
     "text": [
      "커피 나왔습니다. 거스름돈: 200\n",
      "남은 커피: 2\n"
     ]
    },
    {
     "name": "stdin",
     "output_type": "stream",
     "text": [
      "돈을 넣어주세요:  355\n"
     ]
    },
    {
     "name": "stdout",
     "output_type": "stream",
     "text": [
      "커피 나왔습니다. 거스름돈: 55\n",
      "남은 커피: 1\n"
     ]
    },
    {
     "name": "stdin",
     "output_type": "stream",
     "text": [
      "돈을 넣어주세요:  355\n"
     ]
    },
    {
     "name": "stdout",
     "output_type": "stream",
     "text": [
      "커피 나왔습니다. 거스름돈: 55\n",
      "남은 커피: 0\n",
      "커피소진. 판매중지\n"
     ]
    }
   ],
   "source": [
    "coffee = 10\n",
    "while True:\n",
    "    money=int(input(\"돈을 넣어주세요: \"))\n",
    "    if money ==300:\n",
    "        print(\"커피 나왔습니다.\")\n",
    "        coffee=coffee-1\n",
    "        print(\"남은 커피: %d\" %coffee)\n",
    "    elif money >300:\n",
    "        print(\"커피 나왔습니다. 거스름돈: %d\"%(money-300))\n",
    "        coffee = coffee-1\n",
    "        print(\"남은 커피: %d\" %coffee)\n",
    "    else:\n",
    "        print(\"돈이 모자랍니다. %d를 돌려드리겠습니다.\"%money)\n",
    "        print(\"남은 커피: %d\" %coffee)\n",
    "    if coffee ==0:\n",
    "        print(\"커피소진. 판매중지\")\n",
    "        break"
   ]
  },
  {
   "cell_type": "code",
   "execution_count": 4,
   "id": "b1f1e502-f854-4f0c-8424-2bebb95944fd",
   "metadata": {},
   "outputs": [],
   "source": [
    "a=0\n",
    "while a<0:\n",
    "    a=a+1\n",
    "    if a%2 ==0: continue\n",
    "    print(a)"
   ]
  },
  {
   "cell_type": "code",
   "execution_count": 5,
   "id": "2560ad20-2f3d-49f5-8502-e583f24888ff",
   "metadata": {},
   "outputs": [
    {
     "name": "stdout",
     "output_type": "stream",
     "text": [
      "1\n"
     ]
    }
   ],
   "source": [
    "a=1\n",
    "print(a)"
   ]
  },
  {
   "cell_type": "code",
   "execution_count": 7,
   "id": "b82110a0-a39a-41e5-a6b1-883db96770bd",
   "metadata": {},
   "outputs": [
    {
     "name": "stdout",
     "output_type": "stream",
     "text": [
      "1\n",
      "3\n",
      "5\n",
      "7\n",
      "9\n"
     ]
    }
   ],
   "source": [
    "a=0\n",
    "while a<10:\n",
    "    a=a+1\n",
    "    if a%2==0:continue\n",
    "    print(a)"
   ]
  },
  {
   "cell_type": "code",
   "execution_count": 8,
   "id": "7f9e9bd4-7c45-4680-90da-56995b2d3492",
   "metadata": {},
   "outputs": [
    {
     "name": "stdin",
     "output_type": "stream",
     "text": [
      "돈을 넣어주세요:  1000\n"
     ]
    },
    {
     "name": "stdout",
     "output_type": "stream",
     "text": [
      "커피 나왔습니다. 거스름돈: 700\n",
      "남은 커피: 9\n"
     ]
    },
    {
     "name": "stdin",
     "output_type": "stream",
     "text": [
      "돈을 넣어주세요:  1000\n"
     ]
    },
    {
     "name": "stdout",
     "output_type": "stream",
     "text": [
      "커피 나왔습니다. 거스름돈: 700\n",
      "남은 커피: 8\n"
     ]
    },
    {
     "name": "stdin",
     "output_type": "stream",
     "text": [
      "돈을 넣어주세요:  1000\n"
     ]
    },
    {
     "name": "stdout",
     "output_type": "stream",
     "text": [
      "커피 나왔습니다. 거스름돈: 700\n",
      "남은 커피: 7\n"
     ]
    },
    {
     "name": "stdin",
     "output_type": "stream",
     "text": [
      "돈을 넣어주세요:  1000\n"
     ]
    },
    {
     "name": "stdout",
     "output_type": "stream",
     "text": [
      "커피 나왔습니다. 거스름돈: 700\n",
      "남은 커피: 6\n"
     ]
    },
    {
     "name": "stdin",
     "output_type": "stream",
     "text": [
      "돈을 넣어주세요:  1000\n"
     ]
    },
    {
     "name": "stdout",
     "output_type": "stream",
     "text": [
      "커피 나왔습니다. 거스름돈: 700\n",
      "남은 커피: 5\n"
     ]
    },
    {
     "name": "stdin",
     "output_type": "stream",
     "text": [
      "돈을 넣어주세요:  1000\n"
     ]
    },
    {
     "name": "stdout",
     "output_type": "stream",
     "text": [
      "커피 나왔습니다. 거스름돈: 700\n",
      "남은 커피: 4\n"
     ]
    },
    {
     "name": "stdin",
     "output_type": "stream",
     "text": [
      "돈을 넣어주세요:  1000\n"
     ]
    },
    {
     "name": "stdout",
     "output_type": "stream",
     "text": [
      "커피 나왔습니다. 거스름돈: 700\n",
      "남은 커피: 3\n"
     ]
    },
    {
     "name": "stdin",
     "output_type": "stream",
     "text": [
      "돈을 넣어주세요:  1000\n"
     ]
    },
    {
     "name": "stdout",
     "output_type": "stream",
     "text": [
      "커피 나왔습니다. 거스름돈: 700\n",
      "남은 커피: 2\n"
     ]
    },
    {
     "name": "stdin",
     "output_type": "stream",
     "text": [
      "돈을 넣어주세요:  \n"
     ]
    },
    {
     "ename": "ValueError",
     "evalue": "invalid literal for int() with base 10: ''",
     "output_type": "error",
     "traceback": [
      "\u001b[1;31m---------------------------------------------------------------------------\u001b[0m",
      "\u001b[1;31mValueError\u001b[0m                                Traceback (most recent call last)",
      "\u001b[1;32m<ipython-input-8-7850311d0c9b>\u001b[0m in \u001b[0;36m<module>\u001b[1;34m\u001b[0m\n\u001b[0;32m      1\u001b[0m \u001b[0mcoffee\u001b[0m \u001b[1;33m=\u001b[0m \u001b[1;36m10\u001b[0m\u001b[1;33m\u001b[0m\u001b[1;33m\u001b[0m\u001b[0m\n\u001b[0;32m      2\u001b[0m \u001b[1;32mwhile\u001b[0m \u001b[0mcoffee\u001b[0m\u001b[1;33m<=\u001b[0m\u001b[1;36m10\u001b[0m\u001b[1;33m:\u001b[0m\u001b[1;33m\u001b[0m\u001b[1;33m\u001b[0m\u001b[0m\n\u001b[1;32m----> 3\u001b[1;33m     \u001b[0mmoney\u001b[0m\u001b[1;33m=\u001b[0m\u001b[0mint\u001b[0m\u001b[1;33m(\u001b[0m\u001b[0minput\u001b[0m\u001b[1;33m(\u001b[0m\u001b[1;34m\"돈을 넣어주세요: \"\u001b[0m\u001b[1;33m)\u001b[0m\u001b[1;33m)\u001b[0m\u001b[1;33m\u001b[0m\u001b[1;33m\u001b[0m\u001b[0m\n\u001b[0m\u001b[0;32m      4\u001b[0m     \u001b[1;32mif\u001b[0m \u001b[0mmoney\u001b[0m \u001b[1;33m==\u001b[0m\u001b[1;36m300\u001b[0m\u001b[1;33m:\u001b[0m\u001b[1;33m\u001b[0m\u001b[1;33m\u001b[0m\u001b[0m\n\u001b[0;32m      5\u001b[0m         \u001b[0mprint\u001b[0m\u001b[1;33m(\u001b[0m\u001b[1;34m\"커피 나왔습니다.\"\u001b[0m\u001b[1;33m)\u001b[0m\u001b[1;33m\u001b[0m\u001b[1;33m\u001b[0m\u001b[0m\n",
      "\u001b[1;31mValueError\u001b[0m: invalid literal for int() with base 10: ''"
     ]
    }
   ],
   "source": [
    "coffee = 10\n",
    "while coffee<=10:\n",
    "    money=int(input(\"돈을 넣어주세요: \"))\n",
    "    if money ==300:\n",
    "        print(\"커피 나왔습니다.\")\n",
    "        coffee=coffee-1\n",
    "        print(\"남은 커피: %d\" %coffee)\n",
    "    elif money >300:\n",
    "        print(\"커피 나왔습니다. 거스름돈: %d\"%(money-300))\n",
    "        coffee = coffee-1\n",
    "        print(\"남은 커피: %d\" %coffee)\n",
    "    else:\n",
    "        print(\"돈이 모자랍니다. %d를 돌려드리겠습니다.\"%money)\n",
    "        print(\"남은 커피: %d\" %coffee)\n",
    "    if coffee ==0:\n",
    "        print(\"커피소진. 판매중지\")\n",
    "        break"
   ]
  },
  {
   "cell_type": "markdown",
   "id": "c018afd4-7744-4429-9fab-bd3f599d19fd",
   "metadata": {},
   "source": [
    "for문"
   ]
  },
  {
   "cell_type": "code",
   "execution_count": 11,
   "id": "e5dd93e5-b13b-4ea5-ab65-2691fa03de37",
   "metadata": {},
   "outputs": [
    {
     "ename": "NameError",
     "evalue": "name 'o' is not defined",
     "output_type": "error",
     "traceback": [
      "\u001b[1;31m---------------------------------------------------------------------------\u001b[0m",
      "\u001b[1;31mNameError\u001b[0m                                 Traceback (most recent call last)",
      "\u001b[1;32m<ipython-input-11-111c57d52225>\u001b[0m in \u001b[0;36m<module>\u001b[1;34m\u001b[0m\n\u001b[0;32m      1\u001b[0m \u001b[1;32mfor\u001b[0m \u001b[0ma\u001b[0m \u001b[1;32min\u001b[0m \u001b[1;34m\"abcdefg\"\u001b[0m\u001b[1;33m:\u001b[0m\u001b[1;33m\u001b[0m\u001b[1;33m\u001b[0m\u001b[0m\n\u001b[1;32m----> 2\u001b[1;33m     \u001b[0mprint\u001b[0m\u001b[1;33m(\u001b[0m\u001b[0ma\u001b[0m\u001b[1;33m+\u001b[0m\u001b[0mo\u001b[0m\u001b[1;33m)\u001b[0m\u001b[1;33m\u001b[0m\u001b[1;33m\u001b[0m\u001b[0m\n\u001b[0m",
      "\u001b[1;31mNameError\u001b[0m: name 'o' is not defined"
     ]
    }
   ],
   "source": [
    "for a in \"abcdefg\":\n",
    "    print(a+o)"
   ]
  },
  {
   "cell_type": "code",
   "execution_count": 12,
   "id": "5c3e5fc1-4a3d-4ed8-bbb5-99ed9425a1fd",
   "metadata": {},
   "outputs": [
    {
     "ename": "SyntaxError",
     "evalue": "invalid syntax (<ipython-input-12-94fa50df0ae8>, line 2)",
     "output_type": "error",
     "traceback": [
      "\u001b[1;36m  File \u001b[1;32m\"<ipython-input-12-94fa50df0ae8>\"\u001b[1;36m, line \u001b[1;32m2\u001b[0m\n\u001b[1;33m    print(a:\"o\")\u001b[0m\n\u001b[1;37m           ^\u001b[0m\n\u001b[1;31mSyntaxError\u001b[0m\u001b[1;31m:\u001b[0m invalid syntax\n"
     ]
    }
   ],
   "source": [
    "for a in \"abcdefg\":\n",
    "    print(a:\"o\")"
   ]
  },
  {
   "cell_type": "code",
   "execution_count": 13,
   "id": "b34aa149-9857-4493-9d96-d5d2a8420c27",
   "metadata": {},
   "outputs": [
    {
     "name": "stdout",
     "output_type": "stream",
     "text": [
      "ao\n",
      "bo\n",
      "co\n",
      "do\n",
      "eo\n",
      "fo\n",
      "go\n"
     ]
    }
   ],
   "source": [
    "for a in \"abcdefg\":\n",
    "    print(a+\"o\")"
   ]
  },
  {
   "cell_type": "code",
   "execution_count": 15,
   "id": "cff37926-efb5-416b-9d77-5417ddce7087",
   "metadata": {},
   "outputs": [
    {
     "name": "stdout",
     "output_type": "stream",
     "text": [
      "2\n",
      "3\n",
      "4\n"
     ]
    }
   ],
   "source": [
    "b=1\n",
    "for a in [1,2,3]:\n",
    "    print(a+b)"
   ]
  },
  {
   "cell_type": "code",
   "execution_count": 16,
   "id": "4b694e14-a8a7-464e-b267-412cd9b30593",
   "metadata": {},
   "outputs": [
    {
     "name": "stdout",
     "output_type": "stream",
     "text": [
      "3\n",
      "7\n",
      "11\n"
     ]
    }
   ],
   "source": [
    "for (first,last) in [(1,2),(3,4),(5,6)]:\n",
    "    print(first+last)"
   ]
  },
  {
   "cell_type": "code",
   "execution_count": 18,
   "id": "dfaa4b4c-e713-43ef-8a70-afe953240a90",
   "metadata": {},
   "outputs": [
    {
     "name": "stdout",
     "output_type": "stream",
     "text": [
      "1 학생: 합격\n",
      "2 학생: 합격\n",
      "3 학생: 불합격\n",
      "4 학생: 합격\n",
      "5 학생: 합격\n"
     ]
    }
   ],
   "source": [
    "number=0\n",
    "for score in [90,80,74,75,78]:\n",
    "    number = number +1\n",
    "    if score >=75:\n",
    "        print(\"%d 학생: 합격\" %number)\n",
    "    else:\n",
    "        print(\"%d 학생: 불합격\"%number)"
   ]
  },
  {
   "cell_type": "code",
   "execution_count": 21,
   "id": "cdac458d-742e-4f6a-844c-82e3d910391e",
   "metadata": {},
   "outputs": [],
   "source": [
    "number=0\n",
    "for score in [90,80,74,75,78]:\n",
    "    number = number +1\n",
    "    if score >=75:\n",
    "        continue\n",
    "        print(\"%d 학생: 합격. 추카추카\" %number)"
   ]
  },
  {
   "cell_type": "code",
   "execution_count": null,
   "id": "6fa2ad17-3bbf-4c37-b828-872d42eebe05",
   "metadata": {},
   "outputs": [],
   "source": []
  },
  {
   "cell_type": "code",
   "execution_count": 23,
   "id": "830feb0f-bb1b-4f39-85a4-e6e7b3da698f",
   "metadata": {},
   "outputs": [
    {
     "name": "stdout",
     "output_type": "stream",
     "text": [
      "1 학생: 합격. 추카추카\n",
      "2 학생: 합격. 추카추카\n",
      "4 학생: 합격. 추카추카\n",
      "5 학생: 합격. 추카추카\n"
     ]
    }
   ],
   "source": [
    "number=0\n",
    "for score in [90,80,74,75,78]:\n",
    "    number = number +1\n",
    "    if score <75:\n",
    "        continue\n",
    "    print(\"%d 학생: 합격. 추카추카\" %number)"
   ]
  },
  {
   "cell_type": "code",
   "execution_count": 26,
   "id": "ef53824d-8d27-44d8-9ec4-5d5defc147a2",
   "metadata": {},
   "outputs": [
    {
     "name": "stdout",
     "output_type": "stream",
     "text": [
      "1\n",
      "3\n",
      "6\n",
      "10\n",
      "15\n",
      "21\n",
      "28\n",
      "36\n",
      "45\n",
      "55\n"
     ]
    }
   ],
   "source": [
    "a=0\n",
    "for i in range(1,11):\n",
    "    a=a+i\n",
    "    print(a)"
   ]
  },
  {
   "cell_type": "code",
   "execution_count": 27,
   "id": "229182dc-8342-4008-8edd-633cb5ecf983",
   "metadata": {},
   "outputs": [
    {
     "data": {
      "text/plain": [
       "5"
      ]
     },
     "execution_count": 27,
     "metadata": {},
     "output_type": "execute_result"
    }
   ],
   "source": [
    "len([11,12,13,14,15])"
   ]
  },
  {
   "cell_type": "code",
   "execution_count": 29,
   "id": "5cbf8f92-224e-4195-89d5-376daf53b86b",
   "metadata": {},
   "outputs": [
    {
     "ename": "SyntaxError",
     "evalue": "invalid syntax (<ipython-input-29-18a400db76d4>, line 2)",
     "output_type": "error",
     "traceback": [
      "\u001b[1;36m  File \u001b[1;32m\"<ipython-input-29-18a400db76d4>\"\u001b[1;36m, line \u001b[1;32m2\u001b[0m\n\u001b[1;33m    for number in marks\u001b[0m\n\u001b[1;37m                       ^\u001b[0m\n\u001b[1;31mSyntaxError\u001b[0m\u001b[1;31m:\u001b[0m invalid syntax\n"
     ]
    }
   ],
   "source": [
    "marks = [90, 25, 67, 45, 80]\n",
    "for number in marks\n",
    "print(marks[number])"
   ]
  },
  {
   "cell_type": "code",
   "execution_count": 30,
   "id": "5d6e61a5-b734-48d6-a865-6d792ab006e8",
   "metadata": {},
   "outputs": [
    {
     "name": "stdout",
     "output_type": "stream",
     "text": [
      "2 4 6 8 10 12 14 16 18 \n",
      "3 6 9 12 15 18 21 24 27 \n",
      "4 8 12 16 20 24 28 32 36 \n",
      "5 10 15 20 25 30 35 40 45 \n",
      "6 12 18 24 30 36 42 48 54 \n",
      "7 14 21 28 35 42 49 56 63 \n",
      "8 16 24 32 40 48 56 64 72 \n",
      "9 18 27 36 45 54 63 72 81 \n"
     ]
    }
   ],
   "source": [
    "for i in range(2,10):\n",
    "    for j in range(1,10):\n",
    "        print(i*j,end=\" \")\n",
    "    print(\"\")"
   ]
  },
  {
   "cell_type": "code",
   "execution_count": 31,
   "id": "b187ac2c-ccec-4d99-9b18-2c675cb73c94",
   "metadata": {},
   "outputs": [
    {
     "name": "stdout",
     "output_type": "stream",
     "text": [
      "2\n",
      "4\n",
      "6\n",
      "8\n",
      "10\n",
      "12\n",
      "14\n",
      "16\n",
      "18\n",
      "3\n",
      "6\n",
      "9\n",
      "12\n",
      "15\n",
      "18\n",
      "21\n",
      "24\n",
      "27\n",
      "4\n",
      "8\n",
      "12\n",
      "16\n",
      "20\n",
      "24\n",
      "28\n",
      "32\n",
      "36\n",
      "5\n",
      "10\n",
      "15\n",
      "20\n",
      "25\n",
      "30\n",
      "35\n",
      "40\n",
      "45\n",
      "6\n",
      "12\n",
      "18\n",
      "24\n",
      "30\n",
      "36\n",
      "42\n",
      "48\n",
      "54\n",
      "7\n",
      "14\n",
      "21\n",
      "28\n",
      "35\n",
      "42\n",
      "49\n",
      "56\n",
      "63\n",
      "8\n",
      "16\n",
      "24\n",
      "32\n",
      "40\n",
      "48\n",
      "56\n",
      "64\n",
      "72\n",
      "9\n",
      "18\n",
      "27\n",
      "36\n",
      "45\n",
      "54\n",
      "63\n",
      "72\n",
      "81\n"
     ]
    }
   ],
   "source": [
    "for i in range(2,10):\n",
    "    for j in range(1,10):\n",
    "        print(i*j)"
   ]
  },
  {
   "cell_type": "code",
   "execution_count": 32,
   "id": "618e2da0-c1b8-4520-aff0-9eb0950e2b4d",
   "metadata": {},
   "outputs": [],
   "source": [
    "a=[1,2,3,4]\n",
    "result=[b*3 for b in ]"
   ]
  },
  {
   "cell_type": "code",
   "execution_count": 1,
   "id": "d8fdc8ab-de5d-4e30-936d-448e1e0d76c9",
   "metadata": {},
   "outputs": [
    {
     "name": "stdout",
     "output_type": "stream",
     "text": [
      "1학생: 90점. - 합격\n",
      "2학생: 55점. - 불합격\n",
      "3학생: 89점. - 합격\n",
      "4학생: 78점. - 합격\n",
      "5학생: 75점. - 합격\n",
      "6학생: 69점. - 불합격\n"
     ]
    }
   ],
   "source": [
    "number=0\n",
    "score=[90,55,89,78,75,69]\n",
    "for s in score:\n",
    "    number=number+1\n",
    "    if s>70:\n",
    "        print(f\"{number}학생: {s}점. - 합격\")\n",
    "    else:\n",
    "        print(f\"{number}학생: {s}점. - 불합격\")"
   ]
  },
  {
   "cell_type": "code",
   "execution_count": 2,
   "id": "8b363ccc-c0ca-46ee-bb92-d4a529e04914",
   "metadata": {},
   "outputs": [
    {
     "name": "stdout",
     "output_type": "stream",
     "text": [
      "1학생: 90점. - 합격\n",
      "3학생: 89점. - 합격\n",
      "4학생: 78점. - 합격\n",
      "5학생: 75점. - 합격\n"
     ]
    }
   ],
   "source": [
    "number=0\n",
    "score=[90,55,89,78,75,69]\n",
    "for s in score:\n",
    "    number=number+1\n",
    "    if s>70:\n",
    "        print(f\"{number}학생: {s}점. - 합격\")\n",
    "    continue"
   ]
  },
  {
   "cell_type": "code",
   "execution_count": 8,
   "id": "9107d4ae-e01b-45d5-b366-a919cddbc996",
   "metadata": {},
   "outputs": [
    {
     "name": "stdout",
     "output_type": "stream",
     "text": [
      "2학생: 55점. - 불합격\n",
      "6학생: 69점. - 불합격\n"
     ]
    }
   ],
   "source": [
    "number=0\n",
    "score=[90,55,89,78,75,69]\n",
    "for s in score:\n",
    "    number=number+1\n",
    "    if s>70:\n",
    "        continue\n",
    "    print(f\"{number}학생: {s}점. - 불합격\")\n",
    "    "
   ]
  },
  {
   "cell_type": "code",
   "execution_count": 5,
   "id": "cbfd2595-d49f-4748-ae41-6b244a987a28",
   "metadata": {},
   "outputs": [
    {
     "name": "stdout",
     "output_type": "stream",
     "text": [
      "1학생: 90점. - 합격\n",
      "3학생: 89점. - 합격\n",
      "4학생: 78점. - 합격\n",
      "5학생: 75점. - 합격\n"
     ]
    }
   ],
   "source": [
    "number=0\n",
    "score=[90,55,89,78,75,69]\n",
    "for s in score:\n",
    "    number=number+1\n",
    "    if s<=69:\n",
    "        continue\n",
    "    print(f\"{number}학생: {s}점. - 합격\")\n",
    "    "
   ]
  },
  {
   "cell_type": "code",
   "execution_count": 9,
   "id": "97110c1b-c872-4299-a2be-bec9089299e2",
   "metadata": {},
   "outputs": [
    {
     "name": "stdout",
     "output_type": "stream",
     "text": [
      "1학생: 90점. - 합격\n",
      "3학생: 89점. - 합격\n",
      "4학생: 78점. - 합격\n",
      "5학생: 75점. - 합격\n"
     ]
    }
   ],
   "source": [
    "number=0\n",
    "score=[90,55,89,78,75,69]\n",
    "for s in score:\n",
    "    number=number+1\n",
    "    if s>70:\n",
    "        print(f\"{number}학생: {s}점. - 합격\")"
   ]
  },
  {
   "cell_type": "code",
   "execution_count": 11,
   "id": "ad6cad5b-a8af-482b-b16c-c695b18bde17",
   "metadata": {},
   "outputs": [
    {
     "name": "stdout",
     "output_type": "stream",
     "text": [
      "5\n",
      "6\n",
      "7\n",
      "8\n",
      "9\n"
     ]
    }
   ],
   "source": [
    "for i in range(5,10):\n",
    "    print(i)"
   ]
  },
  {
   "cell_type": "code",
   "execution_count": 12,
   "id": "5b9520eb-f329-4587-a372-e13b7b810b7c",
   "metadata": {},
   "outputs": [
    {
     "name": "stdout",
     "output_type": "stream",
     "text": [
      "90\n",
      "25\n",
      "67\n",
      "45\n",
      "80\n"
     ]
    }
   ],
   "source": [
    "marks = [90, 25, 67, 45, 80]\n",
    "for number in range(len(marks)):\n",
    "    print(marks[number])"
   ]
  },
  {
   "cell_type": "code",
   "execution_count": 13,
   "id": "00d7c1e3-181c-49bd-9ae1-a82b82d0a66b",
   "metadata": {},
   "outputs": [
    {
     "ename": "SyntaxError",
     "evalue": "invalid syntax (<ipython-input-13-64e04629a94e>, line 2)",
     "output_type": "error",
     "traceback": [
      "\u001b[1;36m  File \u001b[1;32m\"<ipython-input-13-64e04629a94e>\"\u001b[1;36m, line \u001b[1;32m2\u001b[0m\n\u001b[1;33m    if for number in range(len(marks))<60:\u001b[0m\n\u001b[1;37m       ^\u001b[0m\n\u001b[1;31mSyntaxError\u001b[0m\u001b[1;31m:\u001b[0m invalid syntax\n"
     ]
    }
   ],
   "source": [
    "marks = [90, 25, 67, 45, 80]\n",
    "if for number in range(len(marks))<60:\n",
    "     continue\n",
    "print(\"%d번 학생 축하합니다. 합격입니다.\" % (number+1))"
   ]
  },
  {
   "cell_type": "code",
   "execution_count": 14,
   "id": "d1a74270-c3c7-4d61-9b81-60bbb011e6e8",
   "metadata": {},
   "outputs": [
    {
     "name": "stdout",
     "output_type": "stream",
     "text": [
      "25\n"
     ]
    }
   ],
   "source": [
    "marks = [90, 25, 67, 45, 80]\n",
    "print(marks[1])"
   ]
  },
  {
   "cell_type": "code",
   "execution_count": 19,
   "id": "17cdaa49-35d3-4aba-92ae-640780d5dfeb",
   "metadata": {},
   "outputs": [
    {
     "name": "stdout",
     "output_type": "stream",
     "text": [
      "2 4 6 8 10 12 14 16 18 \n",
      "3 6 9 12 15 18 21 24 27 \n",
      "4 8 12 16 20 24 28 32 36 \n",
      "5 10 15 20 25 30 35 40 45 \n",
      "6 12 18 24 30 36 42 48 54 \n",
      "7 14 21 28 35 42 49 56 63 \n",
      "8 16 24 32 40 48 56 64 72 \n",
      "9 18 27 36 45 54 63 72 81 \n"
     ]
    }
   ],
   "source": [
    "for i in range(2,10):        \n",
    "    for j in range(1, 10):   \n",
    "        print(i*j) \n",
    "    print(\"\")\n",
    "    print(\"*\"*10)"
   ]
  },
  {
   "cell_type": "code",
   "execution_count": 50,
   "id": "cc86cb56-97ba-4b98-898f-cca6774eb35a",
   "metadata": {},
   "outputs": [
    {
     "name": "stdout",
     "output_type": "stream",
     "text": [
      "2 / 4 / 6 / 8 / 10 / 12 / 14 / 16 / 18 /  \n",
      "**********\n",
      "3 / 6 / 9 / 12 / 15 / 18 / 21 / 24 / 27 /  \n",
      "**********\n",
      "4 / 8 / 12 / 16 / 20 / 24 / 28 / 32 / 36 /  \n",
      "**********\n",
      "5 / 10 / 15 / 20 / 25 / 30 / 35 / 40 / 45 /  \n",
      "**********\n",
      "6 / 12 / 18 / 24 / 30 / 36 / 42 / 48 / 54 /  \n",
      "**********\n",
      "7 / 14 / 21 / 28 / 35 / 42 / 49 / 56 / 63 /  \n",
      "**********\n",
      "8 / 16 / 24 / 32 / 40 / 48 / 56 / 64 / 72 /  \n",
      "**********\n",
      "9 / 18 / 27 / 36 / 45 / 54 / 63 / 72 / 81 /  \n",
      "**********\n"
     ]
    }
   ],
   "source": [
    "for i in range(2,10):        \n",
    "    for j in range(1, 10):   \n",
    "        print(i*j, \"/\", end=\" \") \n",
    "    print(\" \")\n",
    "    print(\"*\"*10)\n",
    " "
   ]
  },
  {
   "cell_type": "code",
   "execution_count": 29,
   "id": "e7881a61-5324-4c3b-9ea2-46bb5a2c8fe7",
   "metadata": {},
   "outputs": [
    {
     "name": "stdout",
     "output_type": "stream",
     "text": [
      "[3, 6, 9, 12]\n"
     ]
    }
   ],
   "source": [
    "a=[1,2,3,4]\n",
    "result=[]\n",
    "for i in a:\n",
    "    result.append(i*3)\n",
    "print(result)"
   ]
  },
  {
   "cell_type": "raw",
   "id": "d910f2fb-c283-4c91-bb9b-1390b1bd444e",
   "metadata": {},
   "source": [
    "print(a)"
   ]
  },
  {
   "cell_type": "code",
   "execution_count": 30,
   "id": "0a042c92-59b8-42a0-a43f-e674d937538f",
   "metadata": {},
   "outputs": [
    {
     "name": "stdout",
     "output_type": "stream",
     "text": [
      "[3, 6, 9]\n"
     ]
    }
   ],
   "source": [
    "result=[i*3 for i in [1,2,3]]\n",
    "print(result)"
   ]
  },
  {
   "cell_type": "code",
   "execution_count": 40,
   "id": "16c0198c-1aad-411a-b5be-ae02ecebbd9c",
   "metadata": {},
   "outputs": [
    {
     "name": "stdout",
     "output_type": "stream",
     "text": [
      "result: [3, 9]\n"
     ]
    }
   ],
   "source": [
    "result=[i*3 for i in [1,2,3] if i%2!=0]\n",
    "print(\"result:\",result)"
   ]
  },
  {
   "cell_type": "code",
   "execution_count": 43,
   "id": "2de30439-a300-41b9-b784-534a44bdbe6d",
   "metadata": {},
   "outputs": [
    {
     "name": "stdout",
     "output_type": "stream",
     "text": [
      "result: [2, 4, 6, 8, 10, 12, 14, 16, 18, 3, 6, 9, 12, 15, 18, 21, 24, 27, 4, 8, 12, 16, 20, 24, 28, 32, 36, 5, 10, 15, 20, 25, 30, 35, 40, 45, 6, 12, 18, 24, 30, 36, 42, 48, 54, 7, 14, 21, 28, 35, 42, 49, 56, 63, 8, 16, 24, 32, 40, 48, 56, 64, 72, 9, 18, 27, 36, 45, 54, 63, 72, 81]\n"
     ]
    }
   ],
   "source": [
    "result=[x*y for x in range(2,10)\n",
    "            for y in range(1,10)]\n",
    "print(\"result:\",result)"
   ]
  },
  {
   "cell_type": "markdown",
   "id": "99c8257d-e1bc-4c87-92b8-790376ebb246",
   "metadata": {},
   "source": [
    "함수"
   ]
  },
  {
   "cell_type": "code",
   "execution_count": 52,
   "id": "4ad1ff09-074f-4b2c-ab0f-40622ff817c9",
   "metadata": {},
   "outputs": [
    {
     "name": "stdout",
     "output_type": "stream",
     "text": [
      "더하기: 7 빼기: -1 곱하기: 12\n"
     ]
    }
   ],
   "source": [
    "def add(a,b):\n",
    "    return a+b\n",
    "def sub(a,b):\n",
    "    return a-b\n",
    "def mul(a,b):\n",
    "    return a*b\n",
    "\n",
    "a=3\n",
    "b=4\n",
    "x=add(a,b)\n",
    "y=sub(a,b)\n",
    "z=mul(a,b)\n",
    "print(\"더하기:\", x, \"빼기:\", y, \"곱하기:\", z)"
   ]
  },
  {
   "cell_type": "code",
   "execution_count": 53,
   "id": "0fd464d4-004b-40e3-9352-a0a35b1491ea",
   "metadata": {},
   "outputs": [
    {
     "name": "stdout",
     "output_type": "stream",
     "text": [
      "더하기: 10 빼기: -1 곱하기: 3\n"
     ]
    }
   ],
   "source": [
    "def add(a,b):\n",
    "    return a+b\n",
    "def sub(a,b):\n",
    "    return a-b\n",
    "def mul(a,b):\n",
    "    return a*b\n",
    "\n",
    "x=add(4,6)\n",
    "y=sub(8,9)\n",
    "z=mul(1,3)\n",
    "print(\"더하기:\", x, \"빼기:\", y, \"곱하기:\", z)"
   ]
  },
  {
   "cell_type": "code",
   "execution_count": 55,
   "id": "f587d35e-d92f-4819-ae5e-e22fab859f3f",
   "metadata": {},
   "outputs": [
    {
     "name": "stdout",
     "output_type": "stream",
     "text": [
      "13\n"
     ]
    }
   ],
   "source": [
    "def add(a,b):\n",
    "    result=a+b\n",
    "    return result\n",
    "x=add(3,10)\n",
    "print(x)"
   ]
  },
  {
   "cell_type": "code",
   "execution_count": 56,
   "id": "495bbe3a-7561-4c80-b1fc-091055ec5b74",
   "metadata": {},
   "outputs": [
    {
     "name": "stdout",
     "output_type": "stream",
     "text": [
      "hi\n"
     ]
    }
   ],
   "source": [
    "def greet():\n",
    "    return \"hi\"\n",
    "a=greet()\n",
    "print(a)"
   ]
  },
  {
   "cell_type": "code",
   "execution_count": 57,
   "id": "a4065c68-2ede-42a5-92a5-5fe56a3ca6f9",
   "metadata": {},
   "outputs": [],
   "source": [
    "def add(a,b):\n",
    "    print(\"%d + %d = %d\"%(a,b,a+b))"
   ]
  },
  {
   "cell_type": "code",
   "execution_count": 58,
   "id": "918f0b0a-7b60-45b8-8875-2e51df371d14",
   "metadata": {},
   "outputs": [
    {
     "name": "stdout",
     "output_type": "stream",
     "text": [
      "3 + 4 = 7\n"
     ]
    }
   ],
   "source": [
    "add(3,4)"
   ]
  },
  {
   "cell_type": "code",
   "execution_count": 61,
   "id": "7355ebaf-99e5-4127-9c61-b86361c0e310",
   "metadata": {},
   "outputs": [
    {
     "name": "stdout",
     "output_type": "stream",
     "text": [
      "3 + 4 = 7\n",
      "None\n"
     ]
    }
   ],
   "source": [
    "a=add(3,4)\n",
    "print(a)"
   ]
  },
  {
   "cell_type": "code",
   "execution_count": 62,
   "id": "75b3cb7b-e2bb-41d3-886a-0a82d301ed90",
   "metadata": {},
   "outputs": [
    {
     "name": "stdout",
     "output_type": "stream",
     "text": [
      "더하기: 10 빼기: -1 곱하기: 3\n"
     ]
    }
   ],
   "source": [
    "def add(a,b):\n",
    "    return a+b\n",
    "def sub(a,b):\n",
    "    return a-b\n",
    "def mul(a,b):\n",
    "    return a*b\n",
    "\n",
    "x=add(4,6)\n",
    "y=sub(8,9)\n",
    "z=mul(1,3)\n",
    "print(\"더하기:\", x, \"빼기:\", y, \"곱하기:\", z)"
   ]
  },
  {
   "cell_type": "code",
   "execution_count": 63,
   "id": "785daf44-1608-4d68-ab88-21e6065738d9",
   "metadata": {},
   "outputs": [
    {
     "name": "stdout",
     "output_type": "stream",
     "text": [
      "더하기: 10 빼기: 1 곱하기: 3\n"
     ]
    }
   ],
   "source": [
    "def add(a,b):\n",
    "    return a+b\n",
    "def sub(a,b):\n",
    "    return a-b\n",
    "def mul(a,b):\n",
    "    return a*b\n",
    "\n",
    "x=add(b=4,a=6)\n",
    "y=sub(b=8,a=9)\n",
    "z=mul(b=1,a=3)\n",
    "print(\"더하기:\", x, \"빼기:\", y, \"곱하기:\", z)"
   ]
  },
  {
   "cell_type": "code",
   "execution_count": 69,
   "id": "f91f1a1c-8079-4623-ad80-f19e3919cd54",
   "metadata": {},
   "outputs": [
    {
     "name": "stdout",
     "output_type": "stream",
     "text": [
      "3 15 55\n"
     ]
    }
   ],
   "source": [
    "def add_many(*mege):\n",
    "    result=0\n",
    "    for i in mege:\n",
    "        result=result+i\n",
    "    return result\n",
    "    x=add_many(1,2)\n",
    "    y=add_many(1,2,3,4,5)\n",
    "    z=add_many(1,2,3,4,5,6,7,8,9,10)\n",
    "print(x,y,z)"
   ]
  },
  {
   "cell_type": "code",
   "execution_count": 75,
   "id": "09e44415-7e76-4661-bef5-c86fe33fc5e2",
   "metadata": {},
   "outputs": [
    {
     "name": "stdout",
     "output_type": "stream",
     "text": [
      "3 15 55 / 2 120 3628800\n"
     ]
    }
   ],
   "source": [
    "def add_mul(choice,*mege):\n",
    "    if choice == \"add\":\n",
    "        result=0\n",
    "        for i in mege:\n",
    "            result = result + i\n",
    "    if choice == \"mul\":\n",
    "        result=1\n",
    "        for i in mege:\n",
    "            result = result * i\n",
    "    return result\n",
    "x=add_mul(\"add\", 1,2)\n",
    "y=add_mul(\"add\",1,2,3,4,5)\n",
    "z=add_mul(\"add\",1,2,3,4,5,6,7,8,9,10)\n",
    "xx=add_mul(\"mul\",1,2)\n",
    "yy=add_mul(\"mul\",1,2,3,4,5)\n",
    "zz=add_mul(\"mul\",1,2,3,4,5,6,7,8,9,10)\n",
    "print(x,y,z,\"/\",xx,yy,zz)\n"
   ]
  },
  {
   "cell_type": "code",
   "execution_count": 76,
   "id": "ff4d7a2e-7d7f-4d23-a303-a75ebc4db39c",
   "metadata": {},
   "outputs": [
    {
     "data": {
      "text/plain": [
       "'C:\\\\Users\\\\Ohyeseul\\\\Documents\\\\PHYSCHEM'"
      ]
     },
     "execution_count": 76,
     "metadata": {},
     "output_type": "execute_result"
    }
   ],
   "source": [
    "%pwd"
   ]
  },
  {
   "cell_type": "code",
   "execution_count": 79,
   "id": "e3414d28-ded6-4ec6-a3b3-08d00ad63ed9",
   "metadata": {},
   "outputs": [],
   "source": [
    "def print_kwargs(**kwargs):\n",
    "    print(kwargs)\n",
    "    return kwargs"
   ]
  },
  {
   "cell_type": "code",
   "execution_count": 80,
   "id": "b82dbe7f-e761-4b5a-b415-0b3061029089",
   "metadata": {},
   "outputs": [
    {
     "name": "stdout",
     "output_type": "stream",
     "text": [
      "{'x': 1, 'y': 2}\n"
     ]
    },
    {
     "data": {
      "text/plain": [
       "{'x': 1, 'y': 2}"
      ]
     },
     "execution_count": 80,
     "metadata": {},
     "output_type": "execute_result"
    }
   ],
   "source": [
    "print_kwargs(x=1,y=2)"
   ]
  },
  {
   "cell_type": "code",
   "execution_count": 89,
   "id": "e4578c02-ab58-485e-ab2f-e3a43baa8fb9",
   "metadata": {},
   "outputs": [
    {
     "data": {
      "text/plain": [
       "3"
      ]
     },
     "execution_count": 89,
     "metadata": {},
     "output_type": "execute_result"
    }
   ],
   "source": [
    "def add_many(*args):\n",
    "    result=0\n",
    "    for i in args:\n",
    "        result=result+i\n",
    "    return result\n",
    "add_many(1,2)"
   ]
  },
  {
   "cell_type": "code",
   "execution_count": 100,
   "id": "97ccb8d8-e151-4101-a2be-0033cb0c78fa",
   "metadata": {
    "tags": []
   },
   "outputs": [
    {
     "name": "stdout",
     "output_type": "stream",
     "text": [
      "1\n"
     ]
    },
    {
     "data": {
      "text/plain": [
       "(1, 2)"
      ]
     },
     "execution_count": 100,
     "metadata": {},
     "output_type": "execute_result"
    }
   ],
   "source": [
    "def add_many(*args):\n",
    "    print(args[0])\n",
    "    return args\n",
    "add_many(1,2)"
   ]
  },
  {
   "cell_type": "code",
   "execution_count": 106,
   "id": "de2dbc2c-262a-4fee-846b-1d2e5ee13ab1",
   "metadata": {},
   "outputs": [
    {
     "name": "stdout",
     "output_type": "stream",
     "text": [
      "{'x': 1, 'y': 2}\n",
      "x 1\n",
      "y 2\n"
     ]
    },
    {
     "data": {
      "text/plain": [
       "{'x': 1, 'y': 2}"
      ]
     },
     "execution_count": 106,
     "metadata": {},
     "output_type": "execute_result"
    }
   ],
   "source": [
    "def print_kwargs(**kwargs):\n",
    "    print(kwargs)\n",
    "    for k in kwargs:\n",
    "        print(k, kwargs[k])\n",
    "    return kwargs\n",
    "print_kwargs(x=1,y=2)"
   ]
  },
  {
   "cell_type": "code",
   "execution_count": 107,
   "id": "3540e47b-53fb-48b1-b9c8-10a7d915459f",
   "metadata": {},
   "outputs": [
    {
     "ename": "KeyError",
     "evalue": "0",
     "output_type": "error",
     "traceback": [
      "\u001b[1;31m---------------------------------------------------------------------------\u001b[0m",
      "\u001b[1;31mKeyError\u001b[0m                                  Traceback (most recent call last)",
      "\u001b[1;32m<ipython-input-107-e089e28a5b49>\u001b[0m in \u001b[0;36m<module>\u001b[1;34m\u001b[0m\n\u001b[0;32m      1\u001b[0m \u001b[0ma\u001b[0m\u001b[1;33m=\u001b[0m\u001b[1;33m{\u001b[0m\u001b[1;34m'x'\u001b[0m\u001b[1;33m:\u001b[0m \u001b[1;36m1\u001b[0m\u001b[1;33m,\u001b[0m \u001b[1;34m'y'\u001b[0m\u001b[1;33m:\u001b[0m \u001b[1;36m2\u001b[0m\u001b[1;33m}\u001b[0m\u001b[1;33m\u001b[0m\u001b[1;33m\u001b[0m\u001b[0m\n\u001b[1;32m----> 2\u001b[1;33m \u001b[0mprint\u001b[0m\u001b[1;33m(\u001b[0m\u001b[0ma\u001b[0m\u001b[1;33m[\u001b[0m\u001b[1;36m0\u001b[0m\u001b[1;33m]\u001b[0m\u001b[1;33m)\u001b[0m\u001b[1;33m\u001b[0m\u001b[1;33m\u001b[0m\u001b[0m\n\u001b[0m",
      "\u001b[1;31mKeyError\u001b[0m: 0"
     ]
    }
   ],
   "source": [
    "a={'x': 1, 'y': 2}\n",
    "print(a[0])"
   ]
  },
  {
   "cell_type": "code",
   "execution_count": 113,
   "id": "4cb2d6fb-3371-4bdf-be7a-96b94d0aa6e8",
   "metadata": {},
   "outputs": [
    {
     "name": "stdout",
     "output_type": "stream",
     "text": [
      "x 1\n",
      "y 2\n"
     ]
    }
   ],
   "source": [
    "a={'x': 1, 'y': 2}\n",
    "for i in a:\n",
    "    print(i,a[i])"
   ]
  },
  {
   "cell_type": "code",
   "execution_count": 116,
   "id": "06fe9429-1ab5-4840-96c3-d01ee58b4849",
   "metadata": {},
   "outputs": [
    {
     "name": "stdout",
     "output_type": "stream",
     "text": [
      "{'name': 'poo', 'age': 3}\n"
     ]
    }
   ],
   "source": [
    "def print_kwargs(**kwargs):\n",
    "    print(kwargs)\n",
    "print_kwargs(name=\"poo\",age=3)"
   ]
  },
  {
   "cell_type": "code",
   "execution_count": 121,
   "id": "5e948e20-48c7-4ed5-a87a-4e4d2529861c",
   "metadata": {},
   "outputs": [],
   "source": [
    "def add_and_mul(a,b):\n",
    "    return a+b, a*b\n",
    "result=result1,result2=add_and_mul(3,4)"
   ]
  },
  {
   "cell_type": "code",
   "execution_count": 122,
   "id": "73533ea8-6711-4abc-b334-1e53c3cd78b6",
   "metadata": {},
   "outputs": [
    {
     "name": "stdout",
     "output_type": "stream",
     "text": [
      "(7, 12)\n"
     ]
    }
   ],
   "source": [
    "print(result)"
   ]
  },
  {
   "cell_type": "code",
   "execution_count": 123,
   "id": "0a31fccf-0b66-4782-8d4c-4ad748f68ccb",
   "metadata": {},
   "outputs": [
    {
     "name": "stdout",
     "output_type": "stream",
     "text": [
      "7 12\n"
     ]
    }
   ],
   "source": [
    "print(result1,result2)"
   ]
  },
  {
   "cell_type": "code",
   "execution_count": 131,
   "id": "589917e9-8ee8-4aa8-84e9-0f319a392946",
   "metadata": {},
   "outputs": [],
   "source": [
    "def say_nick(nick):\n",
    "    print(\"나의 별명은 %s 입니다.\" % nick)\n",
    "    if nick == \"바보\": \n",
    "        return   "
   ]
  },
  {
   "cell_type": "code",
   "execution_count": 132,
   "id": "fca6851d-4ae2-4f2c-af42-d0483b8c727c",
   "metadata": {},
   "outputs": [
    {
     "name": "stdout",
     "output_type": "stream",
     "text": [
      "나의 별명은 멍청이 입니다.\n"
     ]
    }
   ],
   "source": [
    "say_nick(\"멍청이\")"
   ]
  },
  {
   "cell_type": "code",
   "execution_count": 133,
   "id": "480b210d-3336-4286-b4b8-65a4acaeb803",
   "metadata": {},
   "outputs": [
    {
     "name": "stdout",
     "output_type": "stream",
     "text": [
      "나의 별명은 바보 입니다.\n"
     ]
    }
   ],
   "source": [
    "say_nick(\"바보\")"
   ]
  },
  {
   "cell_type": "code",
   "execution_count": 134,
   "id": "b2cf8882-6640-42d0-b257-5a50299e9464",
   "metadata": {},
   "outputs": [
    {
     "name": "stdout",
     "output_type": "stream",
     "text": [
      "나의 별명은 바보 입니다.\n",
      "None\n"
     ]
    }
   ],
   "source": [
    "print(say_nick(\"바보\"))"
   ]
  },
  {
   "cell_type": "code",
   "execution_count": 135,
   "id": "1613d748-1ebf-4455-967d-5f8664d4d1df",
   "metadata": {},
   "outputs": [],
   "source": [
    "def say_nick(nick):\n",
    "    if nick == \"바보\": \n",
    "        return\n",
    "    print(\"나의 별명은 %s 입니다.\" % nick)"
   ]
  },
  {
   "cell_type": "code",
   "execution_count": 136,
   "id": "6b7a3688-2614-4a3e-af46-98498dea6e7f",
   "metadata": {},
   "outputs": [
    {
     "name": "stdout",
     "output_type": "stream",
     "text": [
      "None\n"
     ]
    }
   ],
   "source": [
    "print(say_nick(\"바보\"))"
   ]
  },
  {
   "cell_type": "code",
   "execution_count": 137,
   "id": "388aadfb-79be-44fb-bcb4-db6a6495d3f9",
   "metadata": {},
   "outputs": [
    {
     "ename": "SyntaxError",
     "evalue": "non-default argument follows default argument (<ipython-input-137-52c3af61a84d>, line 1)",
     "output_type": "error",
     "traceback": [
      "\u001b[1;36m  File \u001b[1;32m\"<ipython-input-137-52c3af61a84d>\"\u001b[1;36m, line \u001b[1;32m1\u001b[0m\n\u001b[1;33m    def say_myself(name, man=True, old):\u001b[0m\n\u001b[1;37m                   ^\u001b[0m\n\u001b[1;31mSyntaxError\u001b[0m\u001b[1;31m:\u001b[0m non-default argument follows default argument\n"
     ]
    }
   ],
   "source": [
    "def say_myself(name, man=True, old): \n",
    "    print(\"나의 이름은 %s 입니다.\" % name) \n",
    "    print(\"나이는 %d살입니다.\" % old) \n",
    "    if man: \n",
    "        print(\"남자입니다.\") \n",
    "    else: \n",
    "        print(\"여자입니다.\")"
   ]
  },
  {
   "cell_type": "code",
   "execution_count": 138,
   "id": "9b8d79b3-005d-40fd-850f-8fac92591a62",
   "metadata": {},
   "outputs": [
    {
     "ename": "SyntaxError",
     "evalue": "invalid syntax (<ipython-input-138-06fabc6ef5bb>, line 1)",
     "output_type": "error",
     "traceback": [
      "\u001b[1;36m  File \u001b[1;32m\"<ipython-input-138-06fabc6ef5bb>\"\u001b[1;36m, line \u001b[1;32m1\u001b[0m\n\u001b[1;33m    say_myself(\"박응용\", ,27)\u001b[0m\n\u001b[1;37m                      ^\u001b[0m\n\u001b[1;31mSyntaxError\u001b[0m\u001b[1;31m:\u001b[0m invalid syntax\n"
     ]
    }
   ],
   "source": [
    "say_myself(\"박응용\", ,27)"
   ]
  },
  {
   "cell_type": "code",
   "execution_count": 156,
   "id": "4924727a-82ac-415c-802e-cd5428abbf5c",
   "metadata": {},
   "outputs": [
    {
     "name": "stdout",
     "output_type": "stream",
     "text": [
      "나의 이름은 박씨 입니다.\n",
      "나이는 30살입니다.\n",
      "남자입니다.\n",
      "나의 이름은 박씨 입니다.\n",
      "나이는 30살입니다.\n",
      "남자입니다.\n",
      "나의 이름은 박씨 입니다.\n",
      "나이는 30살입니다.\n",
      "여자입니다.\n"
     ]
    },
    {
     "ename": "NameError",
     "evalue": "name 'man' is not defined",
     "output_type": "error",
     "traceback": [
      "\u001b[1;31m---------------------------------------------------------------------------\u001b[0m",
      "\u001b[1;31mNameError\u001b[0m                                 Traceback (most recent call last)",
      "\u001b[1;32m<ipython-input-156-47bd5a085aee>\u001b[0m in \u001b[0;36m<module>\u001b[1;34m\u001b[0m\n\u001b[0;32m      9\u001b[0m \u001b[0msay_myself\u001b[0m\u001b[1;33m(\u001b[0m\u001b[1;34m\"박씨\"\u001b[0m\u001b[1;33m,\u001b[0m\u001b[1;36m30\u001b[0m\u001b[1;33m,\u001b[0m\u001b[1;32mTrue\u001b[0m\u001b[1;33m)\u001b[0m\u001b[1;33m\u001b[0m\u001b[1;33m\u001b[0m\u001b[0m\n\u001b[0;32m     10\u001b[0m \u001b[0msay_myself\u001b[0m\u001b[1;33m(\u001b[0m\u001b[1;34m\"박씨\"\u001b[0m\u001b[1;33m,\u001b[0m\u001b[1;36m30\u001b[0m\u001b[1;33m,\u001b[0m\u001b[1;32mFalse\u001b[0m\u001b[1;33m)\u001b[0m\u001b[1;33m\u001b[0m\u001b[1;33m\u001b[0m\u001b[0m\n\u001b[1;32m---> 11\u001b[1;33m \u001b[0msay_myself\u001b[0m\u001b[1;33m(\u001b[0m\u001b[1;34m\"박씨\"\u001b[0m\u001b[1;33m,\u001b[0m\u001b[1;36m30\u001b[0m\u001b[1;33m,\u001b[0m\u001b[0mman\u001b[0m\u001b[1;33m)\u001b[0m\u001b[1;33m\u001b[0m\u001b[1;33m\u001b[0m\u001b[0m\n\u001b[0m",
      "\u001b[1;31mNameError\u001b[0m: name 'man' is not defined"
     ]
    }
   ],
   "source": [
    "def say_myself(name, old, man=True): \n",
    "    print(\"나의 이름은 %s 입니다.\" % name) \n",
    "    print(\"나이는 %d살입니다.\" % old) \n",
    "    if man: \n",
    "        print(\"남자입니다.\") \n",
    "    else: \n",
    "        print(\"여자입니다.\")\n",
    "say_myself(\"박씨\",30)\n",
    "say_myself(\"박씨\",30,True)\n",
    "say_myself(\"박씨\",30,False)\n",
    "say_myself(\"박씨\",30,man)"
   ]
  },
  {
   "cell_type": "code",
   "execution_count": 154,
   "id": "e7ccda75-fb33-4aae-b300-a0a8a39948cf",
   "metadata": {
    "tags": []
   },
   "outputs": [
    {
     "ename": "TypeError",
     "evalue": "say_myself() takes from 0 to 1 positional arguments but 2 were given",
     "output_type": "error",
     "traceback": [
      "\u001b[1;31m---------------------------------------------------------------------------\u001b[0m",
      "\u001b[1;31mTypeError\u001b[0m                                 Traceback (most recent call last)",
      "\u001b[1;32m<ipython-input-154-c18e03dd2fd3>\u001b[0m in \u001b[0;36m<module>\u001b[1;34m\u001b[0m\n\u001b[1;32m----> 1\u001b[1;33m \u001b[0msay_myself\u001b[0m\u001b[1;33m(\u001b[0m\u001b[1;34m\"박씨\"\u001b[0m\u001b[1;33m,\u001b[0m\u001b[1;36m30\u001b[0m\u001b[1;33m)\u001b[0m\u001b[1;33m\u001b[0m\u001b[1;33m\u001b[0m\u001b[0m\n\u001b[0m\u001b[0;32m      2\u001b[0m \u001b[0msay_myself\u001b[0m\u001b[1;33m(\u001b[0m\u001b[1;34m\"박씨\"\u001b[0m\u001b[1;33m,\u001b[0m\u001b[1;36m30\u001b[0m\u001b[1;33m,\u001b[0m\u001b[1;32mTrue\u001b[0m\u001b[1;33m)\u001b[0m\u001b[1;33m\u001b[0m\u001b[1;33m\u001b[0m\u001b[0m\n\u001b[0;32m      3\u001b[0m \u001b[0msay_myself\u001b[0m\u001b[1;33m(\u001b[0m\u001b[1;34m\"박씨\"\u001b[0m\u001b[1;33m,\u001b[0m\u001b[1;36m30\u001b[0m\u001b[1;33m,\u001b[0m\u001b[1;32mFalse\u001b[0m\u001b[1;33m)\u001b[0m\u001b[1;33m\u001b[0m\u001b[1;33m\u001b[0m\u001b[0m\n",
      "\u001b[1;31mTypeError\u001b[0m: say_myself() takes from 0 to 1 positional arguments but 2 were given"
     ]
    }
   ],
   "source": [
    "say_myself(\"박씨\",30)\n",
    "say_myself(\"박씨\",30,True)\n",
    "say_myself(\"박씨\",30,False)"
   ]
  },
  {
   "cell_type": "code",
   "execution_count": 148,
   "id": "296d818a-a761-4a9a-a0e1-422a69ffe3ca",
   "metadata": {},
   "outputs": [],
   "source": [
    "def say_myself(man=True): \n",
    "    if man: \n",
    "        print(\"남자입니다.\")\n",
    "    else: \n",
    "        print(\"여자입니다.\")"
   ]
  },
  {
   "cell_type": "code",
   "execution_count": 151,
   "id": "06f49694-092e-456e-87c2-081103dcc3b3",
   "metadata": {},
   "outputs": [
    {
     "name": "stdout",
     "output_type": "stream",
     "text": [
      "남자입니다.\n",
      "남자입니다.\n",
      "여자입니다.\n"
     ]
    }
   ],
   "source": [
    "say_myself()\n",
    "say_myself(True)\n",
    "say_myself(False)"
   ]
  },
  {
   "cell_type": "code",
   "execution_count": 165,
   "id": "06bd747c-c849-4d84-aa12-78b7479f501a",
   "metadata": {},
   "outputs": [
    {
     "name": "stdout",
     "output_type": "stream",
     "text": [
      "2\n",
      "1\n"
     ]
    }
   ],
   "source": [
    "a=1\n",
    "def vartest(x):\n",
    "    x = x + 1\n",
    "    return x\n",
    "print(vartest(a))\n",
    "print(a)"
   ]
  },
  {
   "cell_type": "code",
   "execution_count": 173,
   "id": "745ef35e-d507-420e-9eaf-74c8b1ecf6c1",
   "metadata": {
    "tags": []
   },
   "outputs": [
    {
     "name": "stdout",
     "output_type": "stream",
     "text": [
      "2\n"
     ]
    }
   ],
   "source": [
    "def vartest(x):\n",
    "    x = x + 1\n",
    "    return x\n",
    "x=1\n",
    "a=vartest(x)\n",
    "print(a)"
   ]
  },
  {
   "cell_type": "code",
   "execution_count": 172,
   "id": "1cce18e3-35c1-4c3b-879e-24d4c7bc3563",
   "metadata": {},
   "outputs": [
    {
     "name": "stdout",
     "output_type": "stream",
     "text": [
      "2\n"
     ]
    }
   ],
   "source": [
    "def vartest(a):\n",
    "    a = a + 1\n",
    "    return a\n",
    "\n",
    "a=1\n",
    "a=vartest(a)\n",
    "print(a)"
   ]
  },
  {
   "cell_type": "code",
   "execution_count": 180,
   "id": "7e47af2e-f3e1-4b00-8b8b-4cb6c6fa0d28",
   "metadata": {},
   "outputs": [
    {
     "data": {
      "text/plain": [
       "3"
      ]
     },
     "execution_count": 180,
     "metadata": {},
     "output_type": "execute_result"
    }
   ],
   "source": [
    "vartest(a)"
   ]
  },
  {
   "cell_type": "code",
   "execution_count": 181,
   "id": "07ac8d14-c44e-4f16-9493-c39e80fadbf9",
   "metadata": {
    "collapsed": true,
    "jupyter": {
     "outputs_hidden": true
    },
    "tags": []
   },
   "outputs": [
    {
     "data": {
      "text/plain": [
       "3"
      ]
     },
     "execution_count": 181,
     "metadata": {},
     "output_type": "execute_result"
    }
   ],
   "source": [
    "vartest(a)"
   ]
  },
  {
   "cell_type": "markdown",
   "id": "274f8171-35fe-4288-a21b-fefee0209ca4",
   "metadata": {},
   "source": [
    "파일 읽고 쓰기"
   ]
  },
  {
   "cell_type": "code",
   "execution_count": 187,
   "id": "fb00671f-6a39-47b2-86d6-ea76d9c392aa",
   "metadata": {},
   "outputs": [],
   "source": [
    "f=open(\"new_file.txt\",\"w\")\n",
    "for i in range(1,11):\n",
    "    line = f\"This is {i}th line.\\n\"\n",
    "    f.write(line)\n",
    "f.close()"
   ]
  },
  {
   "cell_type": "code",
   "execution_count": 188,
   "id": "b3b91af4-91a1-4cf9-9d9f-cac09d5d1cbd",
   "metadata": {},
   "outputs": [
    {
     "name": "stdout",
     "output_type": "stream",
     "text": [
      "1: This is 1th line.\n",
      "\n",
      "2: This is 2th line.\n",
      "\n"
     ]
    }
   ],
   "source": [
    "f=open(\"new_file.txt\",\"r\")\n",
    "l=f.readline()\n",
    "print(\"1:\", line)\n",
    "line=f.readline()\n",
    "print(\"2:\",line)\n",
    "f.close()"
   ]
  },
  {
   "cell_type": "code",
   "execution_count": 191,
   "id": "949607b7-f33d-438f-829c-a03c9e2d5b18",
   "metadata": {
    "tags": []
   },
   "outputs": [
    {
     "name": "stdout",
     "output_type": "stream",
     "text": [
      "This is 1th line.\n",
      "\n",
      "This is 2th line.\n",
      "\n",
      "This is 3th line.\n",
      "\n",
      "This is 4th line.\n",
      "\n",
      "This is 5th line.\n",
      "\n",
      "This is 6th line.\n",
      "\n",
      "This is 7th line.\n",
      "\n",
      "This is 8th line.\n",
      "\n",
      "This is 9th line.\n",
      "\n",
      "This is 10th line.\n",
      "\n"
     ]
    }
   ],
   "source": [
    "f=open(\"new_file.txt\",\"r\")\n",
    "for line in f:\n",
    "    print(line)\n",
    "f.close()"
   ]
  },
  {
   "cell_type": "code",
   "execution_count": 197,
   "id": "8a810527-d068-45a3-b963-237ece7a6af4",
   "metadata": {},
   "outputs": [
    {
     "name": "stdout",
     "output_type": "stream",
     "text": [
      "This is 1th line.\n",
      "\n",
      "This is 2th line.\n",
      "\n",
      "This is 3th line.\n",
      "\n",
      "This is 4th line.\n",
      "\n",
      "This is 5th line.\n",
      "\n",
      "This is 6th line.\n",
      "\n",
      "This is 7th line.\n",
      "\n",
      "This is 8th line.\n",
      "\n",
      "This is 9th line.\n",
      "\n",
      "This is 10th line.\n",
      "\n"
     ]
    }
   ],
   "source": [
    "f=open(\"new_file.txt\",\"r\")\n",
    "while True:\n",
    "    l=f.readline()\n",
    "    if not l:\n",
    "        break\n",
    "    else:\n",
    "        print(l)"
   ]
  },
  {
   "cell_type": "code",
   "execution_count": 198,
   "id": "cccbb3f1-4bb0-47a7-8142-c85be4d6fe51",
   "metadata": {},
   "outputs": [
    {
     "name": "stdout",
     "output_type": "stream",
     "text": [
      "This is 1th line.\n",
      "\n",
      "This is 2th line.\n",
      "\n",
      "This is 3th line.\n",
      "\n",
      "This is 4th line.\n",
      "\n",
      "This is 5th line.\n",
      "\n",
      "This is 6th line.\n",
      "\n",
      "This is 7th line.\n",
      "\n",
      "This is 8th line.\n",
      "\n",
      "This is 9th line.\n",
      "\n",
      "This is 10th line.\n",
      "\n"
     ]
    }
   ],
   "source": [
    "f=open(\"new_file.txt\",\"r\")\n",
    "while True:\n",
    "    l=f.readline()\n",
    "    if not l:\n",
    "        break\n",
    "    print(l)"
   ]
  },
  {
   "cell_type": "code",
   "execution_count": 208,
   "id": "32982ee3-c381-4e28-9ea7-db576b35641f",
   "metadata": {},
   "outputs": [
    {
     "name": "stdout",
     "output_type": "stream",
     "text": [
      "This is 1th line.\n",
      "This is 2th line.\n",
      "This is 3th line.\n",
      "This is 4th line.\n",
      "This is 5th line.\n",
      "This is 6th line.\n",
      "This is 7th line.\n",
      "This is 8th line.\n",
      "This is 9th line.\n",
      "This is 10th line.\n"
     ]
    }
   ],
   "source": [
    "f=open(\"new_file.txt\",\"r\")\n",
    "ls=f.readlines()\n",
    "for i in ls:\n",
    "    i=i.strip()\n",
    "    print(i)\n",
    "f.close()"
   ]
  },
  {
   "cell_type": "code",
   "execution_count": 200,
   "id": "40576d2a-22c8-4fdd-b3ac-eb86f01eef11",
   "metadata": {},
   "outputs": [
    {
     "data": {
      "text/plain": [
       "list"
      ]
     },
     "execution_count": 200,
     "metadata": {},
     "output_type": "execute_result"
    }
   ],
   "source": [
    "type(ls)"
   ]
  },
  {
   "cell_type": "code",
   "execution_count": 202,
   "id": "da9180c9-050a-4fa7-8697-d1a459659446",
   "metadata": {},
   "outputs": [
    {
     "data": {
      "text/plain": [
       "'This is 1th line.\\n'"
      ]
     },
     "execution_count": 202,
     "metadata": {},
     "output_type": "execute_result"
    }
   ],
   "source": [
    "ls[0]"
   ]
  },
  {
   "cell_type": "code",
   "execution_count": 2,
   "id": "13c1ea6c-734b-44c4-af87-680568d33158",
   "metadata": {},
   "outputs": [],
   "source": [
    "f=open(\"new_file.txt\",\"a\")\n",
    "for i in range(10,21):\n",
    "    f.write(f\"ADD. This is {i}th line.\\n\")\n",
    "f.close()"
   ]
  },
  {
   "cell_type": "code",
   "execution_count": 3,
   "id": "d996302c-cbc6-4e78-9bfe-07b9408843ac",
   "metadata": {},
   "outputs": [],
   "source": [
    "f=open(\"new_file.txt\",\"w\")\n",
    "for i in range(1,11):\n",
    "    line = f\"This is {i}th line.\\n\"\n",
    "    f.write(line)\n",
    "f.close()"
   ]
  },
  {
   "cell_type": "code",
   "execution_count": 4,
   "id": "0e41ee41-f5d6-4b28-b32d-1b1024dd83f0",
   "metadata": {},
   "outputs": [],
   "source": [
    "f=open(\"new_file.txt\",\"a\")\n",
    "for i in range(11,21):\n",
    "    f.write(f\"ADD. This is {i}th line.\\n\")\n",
    "f.close()"
   ]
  },
  {
   "cell_type": "code",
   "execution_count": 5,
   "id": "59bf23e6-58f3-4abb-b941-8492bd47fae8",
   "metadata": {},
   "outputs": [
    {
     "name": "stdout",
     "output_type": "stream",
     "text": [
      "This is 1th line.\n",
      "\n",
      "This is 2th line.\n",
      "\n",
      "This is 3th line.\n",
      "\n",
      "This is 4th line.\n",
      "\n",
      "This is 5th line.\n",
      "\n",
      "This is 6th line.\n",
      "\n",
      "This is 7th line.\n",
      "\n",
      "This is 8th line.\n",
      "\n",
      "This is 9th line.\n",
      "\n",
      "This is 10th line.\n",
      "\n",
      "ADD. This is 11th line.\n",
      "\n",
      "ADD. This is 12th line.\n",
      "\n",
      "ADD. This is 13th line.\n",
      "\n",
      "ADD. This is 14th line.\n",
      "\n",
      "ADD. This is 15th line.\n",
      "\n",
      "ADD. This is 16th line.\n",
      "\n",
      "ADD. This is 17th line.\n",
      "\n",
      "ADD. This is 18th line.\n",
      "\n",
      "ADD. This is 19th line.\n",
      "\n",
      "ADD. This is 20th line.\n",
      "\n"
     ]
    }
   ],
   "source": [
    "with open(\"new_file.txt\",\"r\") as f:\n",
    "    for i in f.readlines():\n",
    "        print(i)"
   ]
  },
  {
   "cell_type": "markdown",
   "id": "289eb981-ef22-4436-97f4-520d6c53d923",
   "metadata": {},
   "source": [
    "사용자 입력과 출력"
   ]
  },
  {
   "cell_type": "code",
   "execution_count": 8,
   "id": "851b87bb-1751-4aa3-9909-c019c77b1010",
   "metadata": {},
   "outputs": [
    {
     "name": "stdin",
     "output_type": "stream",
     "text": [
      "Put message here:  10\n"
     ]
    },
    {
     "name": "stdout",
     "output_type": "stream",
     "text": [
      "20\n"
     ]
    }
   ],
   "source": [
    "a=input(\"Put message here: \")\n",
    "a=int(a)\n",
    "print(a+a)"
   ]
  },
  {
   "cell_type": "code",
   "execution_count": 14,
   "id": "22eac91c-ee51-4b7f-a556-80e63fd3ca5a",
   "metadata": {},
   "outputs": [
    {
     "name": "stdout",
     "output_type": "stream",
     "text": [
      "3\n"
     ]
    }
   ],
   "source": [
    "result = 0\n",
    "def add(num):\n",
    "    global result\n",
    "    result += num\n",
    "    return result\n",
    "print(add(3))"
   ]
  },
  {
   "cell_type": "code",
   "execution_count": 15,
   "id": "8d111023-5f96-464b-98c7-e07835b36f34",
   "metadata": {},
   "outputs": [
    {
     "name": "stdout",
     "output_type": "stream",
     "text": [
      "7\n"
     ]
    }
   ],
   "source": [
    "print(add(4))"
   ]
  },
  {
   "cell_type": "markdown",
   "id": "c33a738b-3045-4462-81ed-199ef739dbf6",
   "metadata": {},
   "source": [
    "클래스"
   ]
  },
  {
   "cell_type": "code",
   "execution_count": 18,
   "id": "c97f12d9-89c4-47ac-9631-f80aa5978e56",
   "metadata": {},
   "outputs": [
    {
     "name": "stdout",
     "output_type": "stream",
     "text": [
      "3\n",
      "7\n",
      "3\n",
      "10\n"
     ]
    }
   ],
   "source": [
    "result1 = 0\n",
    "result2 = 0\n",
    "\n",
    "def add1(num):\n",
    "    global result1\n",
    "    result1 += num\n",
    "    return result1\n",
    "\n",
    "def add2(num):\n",
    "    global result2\n",
    "    result2 += num\n",
    "    return result2\n",
    "\n",
    "print(add1(3))\n",
    "print(add1(4))\n",
    "print(add2(3))\n",
    "print(add2(7))"
   ]
  },
  {
   "cell_type": "code",
   "execution_count": 28,
   "id": "c1672578-d82e-4f95-a488-49eafb412c8d",
   "metadata": {},
   "outputs": [
    {
     "data": {
      "text/plain": [
       "__main__.FourCal"
      ]
     },
     "execution_count": 28,
     "metadata": {},
     "output_type": "execute_result"
    }
   ],
   "source": [
    "class FourCal:\n",
    "    pass\n",
    "a=FourCal()\n",
    "type(a)"
   ]
  },
  {
   "cell_type": "code",
   "execution_count": 33,
   "id": "6dd3c9c6-47a8-45e9-931c-53ddb836f26b",
   "metadata": {},
   "outputs": [],
   "source": [
    "class Fourcal:\n",
    "    def setdata(self,first,second):\n",
    "        self.first = first\n",
    "        self.second = second\n",
    "a=Fourcal()\n",
    "a.setdata(4,2)\n",
    "\n",
    "b=Fourcal()\n",
    "b.setdata(3,7)"
   ]
  },
  {
   "cell_type": "code",
   "execution_count": 35,
   "id": "801e9f0b-0309-4f2d-b995-4c07ac854695",
   "metadata": {},
   "outputs": [
    {
     "name": "stdout",
     "output_type": "stream",
     "text": [
      "3\n"
     ]
    }
   ],
   "source": [
    "print(b.first)"
   ]
  },
  {
   "cell_type": "code",
   "execution_count": 37,
   "id": "5e2de1a3-c276-47cb-b195-dd3cbc113415",
   "metadata": {},
   "outputs": [
    {
     "name": "stdout",
     "output_type": "stream",
     "text": [
      "6 8 2 2.0\n",
      "10 21 -4 0.42857142857142855\n"
     ]
    }
   ],
   "source": [
    "class Fourcal:\n",
    "    def setdata(self,first,second):\n",
    "        self.first = first\n",
    "        self.second = second \n",
    "    def add(self):\n",
    "        result = self.first + self.second\n",
    "        return result    \n",
    "    def mul(self):\n",
    "        result = self.first * self.second\n",
    "        return result    \n",
    "    def sub(self):\n",
    "        result = self.first - self.second\n",
    "        return result   \n",
    "    def div(self):\n",
    "        result = self.first / self.second\n",
    "        return result\n",
    "a=Fourcal()\n",
    "a.setdata(4,2)\n",
    "print(a.add(),a.mul(),a.sub(),a.div())\n",
    "\n",
    "b=Fourcal()\n",
    "b.setdata(3,7)\n",
    "print(b.add(),b.mul(),b.sub(),b.div())"
   ]
  },
  {
   "cell_type": "code",
   "execution_count": 26,
   "id": "2d2fe1fd-9ffd-411d-9b1f-2ab1d4cf16b7",
   "metadata": {},
   "outputs": [],
   "source": [
    "class Fourcal:\n",
    "    def setdata(self,a , b):\n",
    "        self.first = a\n",
    "        self.second = b \n",
    "    def add(self):\n",
    "        result = self.first + self.second\n",
    "        return result    \n",
    "    def mul(self):\n",
    "        result = self.first * self.second\n",
    "        return result    \n",
    "    def sub(self):\n",
    "        result = self.first - self.second\n",
    "        return result   \n",
    "    def div(self):\n",
    "        result = self.first / self.second\n",
    "        return result"
   ]
  },
  {
   "cell_type": "code",
   "execution_count": 28,
   "id": "ca56f6fd-8395-4ad9-8c77-33582c07469a",
   "metadata": {},
   "outputs": [
    {
     "name": "stdout",
     "output_type": "stream",
     "text": [
      "6 8 2 2.0\n",
      "10 21 -4 0.42857142857142855\n"
     ]
    }
   ],
   "source": [
    "cal1=Fourcal()\n",
    "cal1.setdata(4,2)\n",
    "print(cal1.add(),cal1.mul(),cal1.sub(),cal1.div())\n",
    "\n",
    "\n",
    "cal2=Fourcal()\n",
    "cal2.setdata(3,7)\n",
    "print(cal2.add(),cal2.mul(),cal2.sub(),cal2.div())"
   ]
  },
  {
   "cell_type": "code",
   "execution_count": 31,
   "id": "2a633f68-73a9-4780-8da7-97b7dfe1a86c",
   "metadata": {},
   "outputs": [],
   "source": [
    "class Fourcal:\n",
    "    def __init__(self, a , b):\n",
    "        self.first = a\n",
    "        self.second = b \n",
    "    def add(self):\n",
    "        result = self.first + self.second\n",
    "        return result    \n",
    "    def mul(self):\n",
    "        result = self.first * self.second\n",
    "        return result    \n",
    "    def sub(self):\n",
    "        result = self.first - self.second\n",
    "        return result   \n",
    "    def div(self):\n",
    "        result = self.first / self.second\n",
    "        return result"
   ]
  },
  {
   "cell_type": "code",
   "execution_count": 33,
   "id": "c6770556-9556-4f19-a8f0-d833fefae3af",
   "metadata": {},
   "outputs": [
    {
     "name": "stdout",
     "output_type": "stream",
     "text": [
      "6 8 2 2.0\n"
     ]
    }
   ],
   "source": [
    "cal3=Fourcal(4,2)\n",
    "print(cal3.add(),cal3.mul(),cal3.sub(),cal3.div())"
   ]
  },
  {
   "cell_type": "code",
   "execution_count": 57,
   "id": "b266378d-a64c-4ce6-a0ab-897a6c320a79",
   "metadata": {},
   "outputs": [],
   "source": [
    "class Calculator:\n",
    "    def __init__(self,a):\n",
    "        self.result = 100\n",
    "        self.num = a\n",
    "    \n",
    "    def addd(self):\n",
    "        self.result += self.num\n",
    "        return self.result\n",
    "    \n",
    "    def subb(self):\n",
    "        self.result = self.result - self.num\n",
    "        return self.result"
   ]
  },
  {
   "cell_type": "code",
   "execution_count": 58,
   "id": "06780a6b-58e2-4da4-9895-f60c20afa301",
   "metadata": {},
   "outputs": [],
   "source": [
    "calculator1=Calculator(2) "
   ]
  },
  {
   "cell_type": "code",
   "execution_count": 59,
   "id": "22a048ef-3552-45bd-aa8d-64dd6dbd137c",
   "metadata": {},
   "outputs": [
    {
     "name": "stdout",
     "output_type": "stream",
     "text": [
      "102 100\n"
     ]
    }
   ],
   "source": [
    "print(calculator1.addd(), calculator1.subb()) "
   ]
  },
  {
   "cell_type": "code",
   "execution_count": 50,
   "id": "67ac3206-6df7-4554-96e9-6bb7957c9899",
   "metadata": {},
   "outputs": [],
   "source": [
    "class Calculator:\n",
    "    def __init__(self, num):\n",
    "        self.num = num\n",
    "        self.result = 0\n",
    "    \n",
    "    def addd(self):\n",
    "        self.result += self.num\n",
    "        return self.result\n",
    "    \n",
    "    def subb(self):\n",
    "        self.result = self.result - self.num\n",
    "        return self.result"
   ]
  },
  {
   "cell_type": "code",
   "execution_count": 24,
   "id": "67fadb2f-c11f-4b3e-a9c6-78150bacc07b",
   "metadata": {},
   "outputs": [],
   "source": [
    "calculator1=Calculator(1)"
   ]
  },
  {
   "cell_type": "code",
   "execution_count": 25,
   "id": "0435395b-ff63-46a4-bbe1-159c02051560",
   "metadata": {},
   "outputs": [
    {
     "name": "stdout",
     "output_type": "stream",
     "text": [
      "1 0\n"
     ]
    }
   ],
   "source": [
    "print(calculator1.addd(), calculator1.subb())"
   ]
  },
  {
   "cell_type": "markdown",
   "id": "7a2c7ffe-7051-48b6-a3bc-4b1666572ee5",
   "metadata": {},
   "source": [
    "클래스 (상속)"
   ]
  },
  {
   "cell_type": "code",
   "execution_count": 39,
   "id": "2028eadf-a2ac-4fd3-a741-8e185283cbb5",
   "metadata": {},
   "outputs": [],
   "source": [
    "class MoreFourcal(Fourcal):\n",
    "    def pow(self):\n",
    "        result = self.first ** self.second\n",
    "        return result    \n",
    "    def div(self):\n",
    "        if self.second == 0:\n",
    "            result=0\n",
    "        else:\n",
    "            result = self.first / self.second\n",
    "        return result"
   ]
  },
  {
   "cell_type": "code",
   "execution_count": 41,
   "id": "427015fe-06d1-435b-b580-7854eb620275",
   "metadata": {},
   "outputs": [
    {
     "name": "stdout",
     "output_type": "stream",
     "text": [
      "6 8 2 2.0 16\n"
     ]
    }
   ],
   "source": [
    "a=MoreFourcal(4,2)\n",
    "print(a.add(),a.mul(),a.sub(),a.div(),a.pow())"
   ]
  },
  {
   "cell_type": "code",
   "execution_count": 42,
   "id": "1b642ac4-de77-4f42-887f-d7ec5fb25fd2",
   "metadata": {},
   "outputs": [
    {
     "name": "stdout",
     "output_type": "stream",
     "text": [
      "4 0 4 0 1\n"
     ]
    }
   ],
   "source": [
    "a=MoreFourcal(4,0)\n",
    "print(a.add(),a.mul(),a.sub(),a.div(),a.pow())"
   ]
  },
  {
   "cell_type": "markdown",
   "id": "bb5d6022-c411-45a8-89e0-6ddc7de5d4db",
   "metadata": {},
   "source": [
    "6-1 프로그래밍 연습"
   ]
  },
  {
   "cell_type": "code",
   "execution_count": 94,
   "id": "08c2d8bf-0768-4bd9-a607-32dd99533b2e",
   "metadata": {},
   "outputs": [],
   "source": [
    "def GuGu(n):\n",
    "    for i in range(1,10):\n",
    "        result = print(n*i, end=\" \")\n",
    "    return result"
   ]
  },
  {
   "cell_type": "code",
   "execution_count": 96,
   "id": "ce8dd467-6313-4cfb-a624-da29a4fcc063",
   "metadata": {},
   "outputs": [
    {
     "name": "stdout",
     "output_type": "stream",
     "text": [
      "2 4 6 8 10 12 14 16 18 "
     ]
    }
   ],
   "source": [
    "GuGu(2)"
   ]
  },
  {
   "cell_type": "code",
   "execution_count": 99,
   "id": "2b91cb62-df15-40df-9d49-e150c43b7918",
   "metadata": {},
   "outputs": [],
   "source": [
    "def GuGu2(m):\n",
    "    result=[]\n",
    "    i=1\n",
    "    while i<10:\n",
    "        result.append(m*i)\n",
    "        i=i+1\n",
    "    return result"
   ]
  },
  {
   "cell_type": "code",
   "execution_count": 100,
   "id": "8243b64d-d903-4ada-a04c-396d59d69d61",
   "metadata": {},
   "outputs": [
    {
     "data": {
      "text/plain": [
       "[2, 4, 6, 8, 10, 12, 14, 16, 18]"
      ]
     },
     "execution_count": 100,
     "metadata": {},
     "output_type": "execute_result"
    }
   ],
   "source": [
    "GuGu2(2)"
   ]
  },
  {
   "cell_type": "code",
   "execution_count": 103,
   "id": "4c9b542c-6630-4170-8577-405d98938e9c",
   "metadata": {},
   "outputs": [],
   "source": [
    "def GuGu3(x):\n",
    "    result=[]\n",
    "    for j in range(1,10):\n",
    "        result.append(x*j)\n",
    "    return result"
   ]
  },
  {
   "cell_type": "code",
   "execution_count": 104,
   "id": "d9a9fc29-e4bc-4fe4-a5cc-1c1eb42d33c3",
   "metadata": {},
   "outputs": [
    {
     "data": {
      "text/plain": [
       "[2, 4, 6, 8, 10, 12, 14, 16, 18]"
      ]
     },
     "execution_count": 104,
     "metadata": {},
     "output_type": "execute_result"
    }
   ],
   "source": [
    "GuGu3(2)"
   ]
  },
  {
   "cell_type": "markdown",
   "id": "9a92033e-a8b0-4441-82b7-ef6b632de2f9",
   "metadata": {},
   "source": [
    "6-2 3과 5의 배수 합하기"
   ]
  },
  {
   "cell_type": "code",
   "execution_count": 133,
   "id": "b3153432-a631-40c9-8cdc-270925674079",
   "metadata": {},
   "outputs": [],
   "source": [
    "def Sum(numb):\n",
    "    result = 0\n",
    "    for n in  range(1,numb):\n",
    "        if n % 3 == 0 or n % 5 == 0: \n",
    "            result = result + n\n",
    "    return result"
   ]
  },
  {
   "cell_type": "code",
   "execution_count": 134,
   "id": "5a130ee1-d49e-405e-8f99-be54e299c2e5",
   "metadata": {},
   "outputs": [
    {
     "name": "stdout",
     "output_type": "stream",
     "text": [
      "233168\n"
     ]
    }
   ],
   "source": [
    "print(Sum(1000))"
   ]
  },
  {
   "cell_type": "markdown",
   "id": "420a0831-23ef-41b8-b41f-8c93c20de489",
   "metadata": {},
   "source": [
    "모듈"
   ]
  },
  {
   "cell_type": "code",
   "execution_count": 1,
   "id": "00383b20-68db-41ca-9a8a-6b2649d749c0",
   "metadata": {},
   "outputs": [],
   "source": [
    "import mod1"
   ]
  },
  {
   "cell_type": "code",
   "execution_count": 6,
   "id": "7d3aca48-f1be-45eb-a6e2-ac5153c0115c",
   "metadata": {
    "collapsed": true,
    "jupyter": {
     "outputs_hidden": true
    },
    "tags": []
   },
   "outputs": [
    {
     "data": {
      "text/plain": [
       "21"
      ]
     },
     "execution_count": 6,
     "metadata": {},
     "output_type": "execute_result"
    }
   ],
   "source": [
    "mod1.add(10,11)"
   ]
  },
  {
   "cell_type": "code",
   "execution_count": null,
   "id": "a54116dc-628a-4b5a-87c1-57dc959b7212",
   "metadata": {},
   "outputs": [],
   "source": []
  },
  {
   "cell_type": "code",
   "execution_count": null,
   "id": "1ed4504c-57f2-4a5e-8182-d07e0975d315",
   "metadata": {},
   "outputs": [],
   "source": []
  }
 ],
 "metadata": {
  "kernelspec": {
   "display_name": "Python 3 (ipykernel)",
   "language": "python",
   "name": "python3"
  },
  "language_info": {
   "codemirror_mode": {
    "name": "ipython",
    "version": 3
   },
   "file_extension": ".py",
   "mimetype": "text/x-python",
   "name": "python",
   "nbconvert_exporter": "python",
   "pygments_lexer": "ipython3",
   "version": "3.10.9"
  }
 },
 "nbformat": 4,
 "nbformat_minor": 5
}
